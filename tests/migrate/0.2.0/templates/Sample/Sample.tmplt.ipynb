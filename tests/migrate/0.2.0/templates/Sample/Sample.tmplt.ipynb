{
 "cells": [
  {
   "cell_type": "code",
   "execution_count": null,
   "metadata": {
    "pycharm": {
     "name": "#%%\n"
    }
   },
   "outputs": [
    {
     "data": {
      "application/cassini.header+json": {}
     },
     "metadata": {},
     "output_type": "display_data"
    }
   ],
   "source": [
    "from project import project\n",
    "\n",
    "{{ tier.short_type }} = project.env('{{ tier.name }}')\n",
    "{{ tier.short_type }}.gui.header()"
   ]
  }
 ],
 "metadata": {
  "kernelspec": {
   "display_name": "Python 3",
   "language": "python",
   "name": "python3"
  },
  "language_info": {
   "codemirror_mode": {
    "name": "ipython",
    "version": 3
   },
   "file_extension": ".py",
   "mimetype": "text/x-python",
   "name": "python",
   "nbconvert_exporter": "python",
   "pygments_lexer": "ipython3",
   "version": "3.7.6"
  }
 },
 "nbformat": 4,
 "nbformat_minor": 4
}