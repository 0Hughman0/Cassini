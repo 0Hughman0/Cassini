{
 "cells": [
  {
   "cell_type": "code",
   "execution_count": 27,
   "metadata": {
    "pycharm": {
     "name": "#%%\n"
    }
   },
   "outputs": [
    {
     "data": {
      "application/vnd.jupyter.widget-view+json": {
       "model_id": "1d174799e985407481547914faa6bcee",
       "version_major": 2,
       "version_minor": 0
      },
      "text/plain": [
       "VBox(children=(VBox(children=(Output(), Button(description='Folder', style=ButtonStyle()))), Output(), VBox(ch…"
      ]
     },
     "metadata": {},
     "output_type": "display_data"
    }
   ],
   "source": [
    "from project import project\n",
    "\n",
    "hm = project.env('Home')\n",
    "hm.gui.header()"
   ]
  },
  {
   "cell_type": "code",
   "execution_count": null,
   "metadata": {},
   "outputs": [],
   "source": []
  },
  {
   "cell_type": "code",
   "execution_count": null,
   "metadata": {},
   "outputs": [],
   "source": []
  },
  {
   "cell_type": "code",
   "execution_count": null,
   "metadata": {},
   "outputs": [],
   "source": []
  }
 ],
 "metadata": {
  "kernelspec": {
   "display_name": "Python 3",
   "language": "python",
   "name": "python3"
  },
  "language_info": {
   "codemirror_mode": {
    "name": "ipython",
    "version": 3
   },
   "file_extension": ".py",
   "mimetype": "text/x-python",
   "name": "python",
   "nbconvert_exporter": "python",
   "pygments_lexer": "ipython3",
   "version": "3.7.2"
  },
  "pycharm": {
   "stem_cell": {
    "cell_type": "raw",
    "metadata": {
     "collapsed": false
    },
    "source": []
   }
  },
  "widgets": {
   "application/vnd.jupyter.widget-state+json": {
    "state": {
     "0046d2753b6d4c388f60cda374cab317": {
      "model_module": "@jupyter-widgets/controls",
      "model_module_version": "1.5.0",
      "model_name": "ButtonModel",
      "state": {
       "description": "Clear",
       "layout": "IPY_MODEL_6a88bcfb6acc449391c9900422271ff2",
       "style": "IPY_MODEL_d263cc7836d64b47871925385ad1e629"
      }
     },
     "00b42cacde494a069b477aa8ecb96e40": {
      "model_module": "@jupyter-widgets/base",
      "model_module_version": "1.2.0",
      "model_name": "LayoutModel",
      "state": {}
     },
     "01b76fc5264f4498bcdbeb0a2deb3978": {
      "model_module": "@jupyter-widgets/controls",
      "model_module_version": "1.5.0",
      "model_name": "SelectModel",
      "state": {
       "_options_labels": [
        "WorkPackage.tmplt.ipynb"
       ],
       "description": "Template",
       "index": 0,
       "layout": "IPY_MODEL_5f0a432e4404452385105ba2ef56dd0b",
       "style": "IPY_MODEL_15f49378f1f64d2b9d90a5e93a4f86f5"
      }
     },
     "02119574e3244a609c3c28307d37d2bb": {
      "model_module": "@jupyter-widgets/controls",
      "model_module_version": "1.5.0",
      "model_name": "DescriptionStyleModel",
      "state": {
       "description_width": "10%"
      }
     },
     "02aaf69aca164a4dafa5862317a32f65": {
      "model_module": "@jupyter-widgets/controls",
      "model_module_version": "1.5.0",
      "model_name": "TextareaModel",
      "state": {
       "description": "Motivation",
       "layout": "IPY_MODEL_1926ef57978349eab9c11edb2c71c973",
       "style": "IPY_MODEL_1856b3a5772d4374876508ee5e7b3bf6"
      }
     },
     "02b4db84bb2045388755ad7aa1691f34": {
      "model_module": "@jupyter-widgets/output",
      "model_module_version": "1.0.0",
      "model_name": "OutputModel",
      "state": {
       "layout": "IPY_MODEL_4b431c14a6714577b75c4ca9397e52a2",
       "outputs": [
        {
         "data": {
          "text/html": "<h3>Search</h3>",
          "text/plain": "<cassini.ipygui.WHTML at 0x206cc961cf8>"
         },
         "metadata": {},
         "output_type": "display_data"
        }
       ]
      }
     },
     "039e3ec0a7c74fd9aabbcb8f0e4a2332": {
      "model_module": "@jupyter-widgets/controls",
      "model_module_version": "1.5.0",
      "model_name": "DescriptionStyleModel",
      "state": {
       "description_width": ""
      }
     },
     "044cc701d78947b7a4bb754ca5feb59d": {
      "model_module": "@jupyter-widgets/controls",
      "model_module_version": "1.5.0",
      "model_name": "ButtonStyleModel",
      "state": {}
     },
     "04645998aa784a4d899f53b24c0fcfc8": {
      "model_module": "@jupyter-widgets/base",
      "model_module_version": "1.2.0",
      "model_name": "LayoutModel",
      "state": {}
     },
     "0503f4ed03454a5291b193759c9a9012": {
      "model_module": "@jupyter-widgets/controls",
      "model_module_version": "1.5.0",
      "model_name": "DescriptionStyleModel",
      "state": {
       "description_width": "10%"
      }
     },
     "057ed98e9aec41e18ce27a3e3350a4bc": {
      "model_module": "@jupyter-widgets/base",
      "model_module_version": "1.2.0",
      "model_name": "LayoutModel",
      "state": {}
     },
     "05be4513f91a4ffba0b0978c643ca6f1": {
      "model_module": "@jupyter-widgets/output",
      "model_module_version": "1.0.0",
      "model_name": "OutputModel",
      "state": {
       "layout": "IPY_MODEL_00b42cacde494a069b477aa8ecb96e40"
      }
     },
     "069034527f2b45ffbf401bc851f9e880": {
      "model_module": "@jupyter-widgets/output",
      "model_module_version": "1.0.0",
      "model_name": "OutputModel",
      "state": {
       "layout": "IPY_MODEL_f9f74c1df4824a45b0b26b7a2d1e9107"
      }
     },
     "0692895f584d4a768f30ab483a904b11": {
      "model_module": "@jupyter-widgets/base",
      "model_module_version": "1.2.0",
      "model_name": "LayoutModel",
      "state": {}
     },
     "079d849ca5244fc0b5ec87df32b62504": {
      "model_module": "@jupyter-widgets/base",
      "model_module_version": "1.2.0",
      "model_name": "LayoutModel",
      "state": {}
     },
     "07e0dca4b57547b5b585ded1b8e44a56": {
      "model_module": "@jupyter-widgets/base",
      "model_module_version": "1.2.0",
      "model_name": "LayoutModel",
      "state": {}
     },
     "0945436edcf8477c8e53624dad52f6e6": {
      "model_module": "@jupyter-widgets/output",
      "model_module_version": "1.0.0",
      "model_name": "OutputModel",
      "state": {
       "layout": "IPY_MODEL_b53a9862a833491097142704d96cd285",
       "outputs": [
        {
         "data": {
          "text/html": "<h3>Search</h3>",
          "text/plain": "<cassini.ipygui.WHTML at 0x206ccab2e80>"
         },
         "metadata": {},
         "output_type": "display_data"
        }
       ]
      }
     },
     "0949e1ffe36f43d69c624eaca7b437eb": {
      "model_module": "@jupyter-widgets/base",
      "model_module_version": "1.2.0",
      "model_name": "LayoutModel",
      "state": {}
     },
     "0acf24bc8a5a4e44a5f1007a247b0fd9": {
      "model_module": "@jupyter-widgets/controls",
      "model_module_version": "1.5.0",
      "model_name": "TextModel",
      "state": {
       "continuous_update": false,
       "layout": "IPY_MODEL_6e8cd438d7c84ccca974b68384a186d8",
       "placeholder": "Name",
       "style": "IPY_MODEL_15d8f2d4f5904c9f8552876c2d0ed6af"
      }
     },
     "0b1751bb839e4ede921ae0775e0447c6": {
      "model_module": "@jupyter-widgets/controls",
      "model_module_version": "1.5.0",
      "model_name": "ButtonModel",
      "state": {
       "description": "Clear",
       "layout": "IPY_MODEL_923ca1ce4a8f4ae8aae21174fda4ed3f",
       "style": "IPY_MODEL_ac8e5013ebbe491a892fd4b9f15f89f1"
      }
     },
     "0b9b1cfe27d6466fabdf53fe4e185bf2": {
      "model_module": "@jupyter-widgets/controls",
      "model_module_version": "1.5.0",
      "model_name": "ButtonStyleModel",
      "state": {}
     },
     "0bbacaf3b8254d0e8e4704cc36fad0ee": {
      "model_module": "@jupyter-widgets/base",
      "model_module_version": "1.2.0",
      "model_name": "LayoutModel",
      "state": {}
     },
     "0c2bcb8c62db451ebb61ec2e48c7db70": {
      "model_module": "@jupyter-widgets/base",
      "model_module_version": "1.2.0",
      "model_name": "LayoutModel",
      "state": {}
     },
     "0d28a004a83546898f2cd89bf5f3c032": {
      "model_module": "@jupyter-widgets/base",
      "model_module_version": "1.2.0",
      "model_name": "LayoutModel",
      "state": {}
     },
     "0d6906e43b1242e1bc2f973f0a328e90": {
      "model_module": "@jupyter-widgets/base",
      "model_module_version": "1.2.0",
      "model_name": "LayoutModel",
      "state": {}
     },
     "0d80b0b7cb85421883f6a0a79f693b90": {
      "model_module": "@jupyter-widgets/base",
      "model_module_version": "1.2.0",
      "model_name": "LayoutModel",
      "state": {}
     },
     "0e49145ca8174d52a5a2aca1bb6647db": {
      "model_module": "@jupyter-widgets/controls",
      "model_module_version": "1.5.0",
      "model_name": "ButtonModel",
      "state": {
       "description": "Confirm",
       "disabled": true,
       "layout": "IPY_MODEL_3e26f22b29514b959c7241578d0a2c2a",
       "style": "IPY_MODEL_6747d9e8cec44af6ae468569119d0a61"
      }
     },
     "101e6e16562a48b581a16e37c20cde29": {
      "model_module": "@jupyter-widgets/controls",
      "model_module_version": "1.5.0",
      "model_name": "TextModel",
      "state": {
       "description": "Identifier",
       "layout": "IPY_MODEL_8e98bfa8fa0f41eda33b20a0bf0d187b",
       "placeholder": "(\\d+)",
       "style": "IPY_MODEL_2994e1bb3c2f471a933a7890005a1ff8"
      }
     },
     "116c3d3d22f344fb90b97040e7530e7f": {
      "model_module": "@jupyter-widgets/output",
      "model_module_version": "1.0.0",
      "model_name": "OutputModel",
      "state": {
       "layout": "IPY_MODEL_0949e1ffe36f43d69c624eaca7b437eb"
      }
     },
     "11a15912deb14e819224ba5ec880e863": {
      "model_module": "@jupyter-widgets/base",
      "model_module_version": "1.2.0",
      "model_name": "LayoutModel",
      "state": {}
     },
     "1235cd48d63a4fbdbbc6bd5cfed28d0b": {
      "model_module": "@jupyter-widgets/base",
      "model_module_version": "1.2.0",
      "model_name": "LayoutModel",
      "state": {}
     },
     "12418430e1514319bd56b8bedeec419d": {
      "model_module": "@jupyter-widgets/base",
      "model_module_version": "1.2.0",
      "model_name": "LayoutModel",
      "state": {
       "width": "auto"
      }
     },
     "129677f26f9a4d7cb9f80f34f1a2acc6": {
      "model_module": "@jupyter-widgets/controls",
      "model_module_version": "1.5.0",
      "model_name": "SelectModel",
      "state": {
       "_options_labels": [
        "WorkPackage.tmplt.ipynb"
       ],
       "description": "Template",
       "index": 0,
       "layout": "IPY_MODEL_8121adcf35af48b0a711d0af499e3a9f",
       "style": "IPY_MODEL_fd6049ace9e3446fa9c793396ad04099"
      }
     },
     "12f78d41979a44d9ba0b02f89404391d": {
      "model_module": "@jupyter-widgets/controls",
      "model_module_version": "1.5.0",
      "model_name": "TextareaModel",
      "state": {
       "description": "Motivation",
       "layout": "IPY_MODEL_136b7ad93527422cb58a60399115a24d",
       "style": "IPY_MODEL_8d7ccbcf918b423ba7cc0e48f3766a3b"
      }
     },
     "136b7ad93527422cb58a60399115a24d": {
      "model_module": "@jupyter-widgets/base",
      "model_module_version": "1.2.0",
      "model_name": "LayoutModel",
      "state": {
       "width": "auto"
      }
     },
     "13c8822e5cb74db28139717f38c7429f": {
      "model_module": "@jupyter-widgets/base",
      "model_module_version": "1.2.0",
      "model_name": "LayoutModel",
      "state": {}
     },
     "145d3d980e0d4c5fb19df27d0b96328e": {
      "model_module": "@jupyter-widgets/base",
      "model_module_version": "1.2.0",
      "model_name": "LayoutModel",
      "state": {}
     },
     "14f5d50a512b483b87d43fc5c94d9db1": {
      "model_module": "@jupyter-widgets/controls",
      "model_module_version": "1.5.0",
      "model_name": "ButtonStyleModel",
      "state": {}
     },
     "15d8f2d4f5904c9f8552876c2d0ed6af": {
      "model_module": "@jupyter-widgets/controls",
      "model_module_version": "1.5.0",
      "model_name": "DescriptionStyleModel",
      "state": {
       "description_width": ""
      }
     },
     "15f49378f1f64d2b9d90a5e93a4f86f5": {
      "model_module": "@jupyter-widgets/controls",
      "model_module_version": "1.5.0",
      "model_name": "DescriptionStyleModel",
      "state": {
       "description_width": "10%"
      }
     },
     "16d2ff691a2142e78cd0ecc3fc79bcbe": {
      "model_module": "@jupyter-widgets/output",
      "model_module_version": "1.0.0",
      "model_name": "OutputModel",
      "state": {
       "layout": "IPY_MODEL_2f81ba56b2b24d3d8330dec317c6d71e",
       "outputs": [
        {
         "data": {
          "text/html": "<h3>New WorkPackage</h3>",
          "text/plain": "<cassini.ipygui.WHTML at 0x206cc8fc2e8>"
         },
         "metadata": {},
         "output_type": "display_data"
        }
       ]
      }
     },
     "177ea679059e49f99c155d02b123578d": {
      "model_module": "@jupyter-widgets/controls",
      "model_module_version": "1.5.0",
      "model_name": "DescriptionStyleModel",
      "state": {
       "description_width": "10%"
      }
     },
     "17f9f80d53ed4e4694c5debe30af6d63": {
      "model_module": "@jupyter-widgets/base",
      "model_module_version": "1.2.0",
      "model_name": "LayoutModel",
      "state": {}
     },
     "1856b3a5772d4374876508ee5e7b3bf6": {
      "model_module": "@jupyter-widgets/controls",
      "model_module_version": "1.5.0",
      "model_name": "DescriptionStyleModel",
      "state": {
       "description_width": "10%"
      }
     },
     "1926ef57978349eab9c11edb2c71c973": {
      "model_module": "@jupyter-widgets/base",
      "model_module_version": "1.2.0",
      "model_name": "LayoutModel",
      "state": {
       "width": "auto"
      }
     },
     "1a6f9776c9ea48c5920e2b9f5c351532": {
      "model_module": "@jupyter-widgets/controls",
      "model_module_version": "1.5.0",
      "model_name": "ButtonStyleModel",
      "state": {}
     },
     "1d174799e985407481547914faa6bcee": {
      "model_module": "@jupyter-widgets/controls",
      "model_module_version": "1.5.0",
      "model_name": "VBoxModel",
      "state": {
       "children": [
        "IPY_MODEL_535fdc23aa5b4810848ff95ec25a8aa1",
        "IPY_MODEL_0945436edcf8477c8e53624dad52f6e6",
        "IPY_MODEL_9288b1a6337b4f4f94622b8dc8542eda",
        "IPY_MODEL_9aaba0bcb0ef44268e1e942d1c96d295",
        "IPY_MODEL_4bacbf9412a74f95baf4e0545a7a0499",
        "IPY_MODEL_ebde02816ca245aaa5f81ff6763d71d4",
        "IPY_MODEL_3d543a3fc4a04d2597ebdf8702599a1f"
       ],
       "layout": "IPY_MODEL_7422fcccf49f48488910fa428bc360ae"
      }
     },
     "1e04686bf62b47f087312efde699dfce": {
      "model_module": "@jupyter-widgets/controls",
      "model_module_version": "1.5.0",
      "model_name": "HBoxModel",
      "state": {
       "children": [
        "IPY_MODEL_f58a5f59832c4c639f13dc154eb50f11",
        "IPY_MODEL_c84303c1b8114f60bcd9dc3f6580fb43",
        "IPY_MODEL_9bad52398dfe4e48adf3b343fc7aa55d"
       ],
       "layout": "IPY_MODEL_5cb6f68527e042fabeecb49323906abc"
      }
     },
     "1eb6c686210c4aebbde0a0b08a4e395e": {
      "model_module": "@jupyter-widgets/controls",
      "model_module_version": "1.5.0",
      "model_name": "VBoxModel",
      "state": {
       "children": [
        "IPY_MODEL_ebe67c9893d1455789ef103197f426ef",
        "IPY_MODEL_c38e3663cb7d4979a213a7ab81329e7d",
        "IPY_MODEL_d35f153acb6847298bc9f36716e8fa51",
        "IPY_MODEL_911bac6bfbe149f3bfbcf38a5286d482",
        "IPY_MODEL_bfd4b6a59b154b8986ddf48dd8c4abf7"
       ],
       "layout": "IPY_MODEL_435942087a304782881776e2df06f747"
      }
     },
     "1fbcba291ea849ecba44fa0d37bc3cef": {
      "model_module": "@jupyter-widgets/controls",
      "model_module_version": "1.5.0",
      "model_name": "ButtonModel",
      "state": {
       "description": "Confirm",
       "disabled": true,
       "layout": "IPY_MODEL_77d487de813842bb8c33b391f76da3c3",
       "style": "IPY_MODEL_fcce0ca10fbd451aa1db57c899bc74ba"
      }
     },
     "2033ddd072944f2e95d6406bb1af3fb9": {
      "model_module": "@jupyter-widgets/output",
      "model_module_version": "1.0.0",
      "model_name": "OutputModel",
      "state": {
       "layout": "IPY_MODEL_f451008ddec342ca872c6817e4ff64f1",
       "outputs": [
        {
         "data": {
          "text/html": "<h1 style=\"display: inline;\"><a href=\"Home.ipynb\">Home</a></h1><h3 style=\"display: inline;\"></h3>",
          "text/plain": "<cassini.ipygui.WHTML at 0x206cc832b00>"
         },
         "metadata": {},
         "output_type": "display_data"
        }
       ]
      }
     },
     "22f89a700c364d4980772f22e02ca485": {
      "model_module": "@jupyter-widgets/controls",
      "model_module_version": "1.5.0",
      "model_name": "ButtonStyleModel",
      "state": {}
     },
     "239d0a93af3e4523831ad3ba4aa92b7f": {
      "model_module": "@jupyter-widgets/base",
      "model_module_version": "1.2.0",
      "model_name": "LayoutModel",
      "state": {}
     },
     "23e6a180755c42babb22e07c1f9135f9": {
      "model_module": "@jupyter-widgets/controls",
      "model_module_version": "1.5.0",
      "model_name": "ButtonStyleModel",
      "state": {}
     },
     "242b113dee4546929e38872474184ec3": {
      "model_module": "@jupyter-widgets/base",
      "model_module_version": "1.2.0",
      "model_name": "LayoutModel",
      "state": {
       "width": "auto"
      }
     },
     "24c9c4cda2b9404d96a62b40d730f5ea": {
      "model_module": "@jupyter-widgets/base",
      "model_module_version": "1.2.0",
      "model_name": "LayoutModel",
      "state": {}
     },
     "24cd351f87d74be39d44a46850687a1b": {
      "model_module": "@jupyter-widgets/controls",
      "model_module_version": "1.5.0",
      "model_name": "ButtonStyleModel",
      "state": {}
     },
     "25d25a62663a438ba74ad31a5375705c": {
      "model_module": "@jupyter-widgets/output",
      "model_module_version": "1.0.0",
      "model_name": "OutputModel",
      "state": {
       "layout": "IPY_MODEL_83e1600c52784d518f01575163624e44",
       "outputs": [
        {
         "data": {
          "text/html": "<h3>Search</h3>",
          "text/plain": "<cassini.ipygui.WHTML at 0x206cc9bba90>"
         },
         "metadata": {},
         "output_type": "display_data"
        }
       ]
      }
     },
     "26fbb60d2da14aa7a92bfd2dea44a287": {
      "model_module": "@jupyter-widgets/base",
      "model_module_version": "1.2.0",
      "model_name": "LayoutModel",
      "state": {}
     },
     "2936ffb9c5714890a23550f175665dc5": {
      "model_module": "@jupyter-widgets/controls",
      "model_module_version": "1.5.0",
      "model_name": "SelectModel",
      "state": {
       "_options_labels": [
        "WorkPackage.tmplt.ipynb"
       ],
       "description": "Template",
       "index": 0,
       "layout": "IPY_MODEL_946f6d5729f84889b2af16b8195b5fcc",
       "style": "IPY_MODEL_3f83b814fbe940ffa2965f44d32787f2"
      }
     },
     "298ccf5839cb47aabf5f0c5cf7ce3671": {
      "model_module": "@jupyter-widgets/controls",
      "model_module_version": "1.5.0",
      "model_name": "DescriptionStyleModel",
      "state": {
       "description_width": "10%"
      }
     },
     "2994e1bb3c2f471a933a7890005a1ff8": {
      "model_module": "@jupyter-widgets/controls",
      "model_module_version": "1.5.0",
      "model_name": "DescriptionStyleModel",
      "state": {
       "description_width": "10%"
      }
     },
     "2a2553c0efd24011a1aac0b1d225e131": {
      "model_module": "@jupyter-widgets/base",
      "model_module_version": "1.2.0",
      "model_name": "LayoutModel",
      "state": {}
     },
     "2c2a011ba53149e2a2d5f00f732fe475": {
      "model_module": "@jupyter-widgets/controls",
      "model_module_version": "1.5.0",
      "model_name": "ButtonStyleModel",
      "state": {}
     },
     "2db7f91bd3a0438280b9651d44bbcca3": {
      "model_module": "@jupyter-widgets/base",
      "model_module_version": "1.2.0",
      "model_name": "LayoutModel",
      "state": {}
     },
     "2e134312d9d64e64a924c0ac7016783c": {
      "model_module": "@jupyter-widgets/controls",
      "model_module_version": "1.5.0",
      "model_name": "ButtonStyleModel",
      "state": {}
     },
     "2eae7a71649e4886920829890bbe1cec": {
      "model_module": "@jupyter-widgets/base",
      "model_module_version": "1.2.0",
      "model_name": "LayoutModel",
      "state": {}
     },
     "2f81ba56b2b24d3d8330dec317c6d71e": {
      "model_module": "@jupyter-widgets/base",
      "model_module_version": "1.2.0",
      "model_name": "LayoutModel",
      "state": {}
     },
     "2ff5b0b605a24d319e02089ede85fbfa": {
      "model_module": "@jupyter-widgets/base",
      "model_module_version": "1.2.0",
      "model_name": "LayoutModel",
      "state": {}
     },
     "301c5b127e1c482091698b09164b6c7d": {
      "model_module": "@jupyter-widgets/output",
      "model_module_version": "1.0.0",
      "model_name": "OutputModel",
      "state": {
       "layout": "IPY_MODEL_7946028835dc433580fe89941b40c105"
      }
     },
     "30261022bddc4b098c1331869a181789": {
      "model_module": "@jupyter-widgets/controls",
      "model_module_version": "1.5.0",
      "model_name": "TextModel",
      "state": {
       "continuous_update": false,
       "layout": "IPY_MODEL_8f9584cc64024678b81c083abc98157c",
       "placeholder": "Name",
       "style": "IPY_MODEL_039e3ec0a7c74fd9aabbcb8f0e4a2332"
      }
     },
     "30a030ae6b4a488fac85f429df12eeb3": {
      "model_module": "@jupyter-widgets/controls",
      "model_module_version": "1.5.0",
      "model_name": "ButtonModel",
      "state": {
       "description": "Clear",
       "layout": "IPY_MODEL_e6b36c4d4fcf466caf99625b7addf786",
       "style": "IPY_MODEL_d2520c5967e946d09c7f623573b448ab"
      }
     },
     "320f9163315a47ac96a57b21e366e57c": {
      "model_module": "@jupyter-widgets/base",
      "model_module_version": "1.2.0",
      "model_name": "LayoutModel",
      "state": {}
     },
     "331d361e25714735870c2fa90c0d91ed": {
      "model_module": "@jupyter-widgets/controls",
      "model_module_version": "1.5.0",
      "model_name": "DescriptionStyleModel",
      "state": {
       "description_width": "10%"
      }
     },
     "338b7ecc462649ab9cbf79f46923d428": {
      "model_module": "@jupyter-widgets/base",
      "model_module_version": "1.2.0",
      "model_name": "LayoutModel",
      "state": {
       "width": "auto"
      }
     },
     "35b54cbdfad44b7db310b8d01e2d93b0": {
      "model_module": "@jupyter-widgets/output",
      "model_module_version": "1.0.0",
      "model_name": "OutputModel",
      "state": {
       "layout": "IPY_MODEL_e3c55668d232497da12f2dc4ca385ccb",
       "outputs": [
        {
         "data": {
          "text/html": "<h3>WorkPackages</h3>",
          "text/plain": "<cassini.ipygui.WHTML at 0x206ccaa6400>"
         },
         "metadata": {},
         "output_type": "display_data"
        }
       ]
      }
     },
     "3910df6264c845079017dc0151edfea3": {
      "model_module": "@jupyter-widgets/output",
      "model_module_version": "1.0.0",
      "model_name": "OutputModel",
      "state": {
       "layout": "IPY_MODEL_1235cd48d63a4fbdbbc6bd5cfed28d0b"
      }
     },
     "3a2a9c247439423bb26abe5ba7bade25": {
      "model_module": "@jupyter-widgets/controls",
      "model_module_version": "1.5.0",
      "model_name": "VBoxModel",
      "state": {
       "children": [
        "IPY_MODEL_1e04686bf62b47f087312efde699dfce",
        "IPY_MODEL_116c3d3d22f344fb90b97040e7530e7f"
       ],
       "layout": "IPY_MODEL_67f5818285fa4b94bc3d007daf89418e"
      }
     },
     "3a8b7dde22a143469857144b30556496": {
      "model_module": "@jupyter-widgets/base",
      "model_module_version": "1.2.0",
      "model_name": "LayoutModel",
      "state": {
       "width": "auto"
      }
     },
     "3af7a56077074c96a09fded02e979678": {
      "model_module": "@jupyter-widgets/controls",
      "model_module_version": "1.5.0",
      "model_name": "DescriptionStyleModel",
      "state": {
       "description_width": ""
      }
     },
     "3badd77e60074b01820690bf1e4a2956": {
      "model_module": "@jupyter-widgets/base",
      "model_module_version": "1.2.0",
      "model_name": "LayoutModel",
      "state": {}
     },
     "3c193307984b45b18b895075a0d74913": {
      "model_module": "@jupyter-widgets/base",
      "model_module_version": "1.2.0",
      "model_name": "LayoutModel",
      "state": {}
     },
     "3caccea1dc824dcca2136b3388f74dd0": {
      "model_module": "@jupyter-widgets/base",
      "model_module_version": "1.2.0",
      "model_name": "LayoutModel",
      "state": {}
     },
     "3d0f12e2eeca40f7ad158138cc7431c9": {
      "model_module": "@jupyter-widgets/output",
      "model_module_version": "1.0.0",
      "model_name": "OutputModel",
      "state": {
       "layout": "IPY_MODEL_057ed98e9aec41e18ce27a3e3350a4bc",
       "outputs": [
        {
         "data": {
          "text/html": "<h3>Search</h3>",
          "text/plain": "<cassini.ipygui.WHTML at 0x206cc8f3860>"
         },
         "metadata": {},
         "output_type": "display_data"
        }
       ]
      }
     },
     "3d4bf7c18b094c2b8d0a6e041becc889": {
      "model_module": "@jupyter-widgets/base",
      "model_module_version": "1.2.0",
      "model_name": "LayoutModel",
      "state": {}
     },
     "3d543a3fc4a04d2597ebdf8702599a1f": {
      "model_module": "@jupyter-widgets/controls",
      "model_module_version": "1.5.0",
      "model_name": "VBoxModel",
      "state": {
       "children": [
        "IPY_MODEL_a8a8cafb7ef942afac245c6657ee0874",
        "IPY_MODEL_5f7f76df0946416eb6cf94a827e2ffeb",
        "IPY_MODEL_7e2f793285f14cd7a282fc41d0377bba",
        "IPY_MODEL_497d743ffee44c99baa4379aa2d7b802",
        "IPY_MODEL_3910df6264c845079017dc0151edfea3"
       ],
       "layout": "IPY_MODEL_ae8e15f18a9e4059965099ac4169804d"
      }
     },
     "3e26f22b29514b959c7241578d0a2c2a": {
      "model_module": "@jupyter-widgets/base",
      "model_module_version": "1.2.0",
      "model_name": "LayoutModel",
      "state": {}
     },
     "3e352c306a1f49a38fd0e93f55d4eb9d": {
      "model_module": "@jupyter-widgets/controls",
      "model_module_version": "1.5.0",
      "model_name": "ButtonModel",
      "state": {
       "description": "Clear",
       "layout": "IPY_MODEL_d7dd98c6a995431f844949083a452859",
       "style": "IPY_MODEL_520e362562b74de08325893dc832cf5b"
      }
     },
     "3e7d415f6a4942f79a76d47000b068cf": {
      "model_module": "@jupyter-widgets/controls",
      "model_module_version": "1.5.0",
      "model_name": "HBoxModel",
      "state": {
       "children": [
        "IPY_MODEL_0e49145ca8174d52a5a2aca1bb6647db",
        "IPY_MODEL_a2635fe9b8684653ab76e61d6a2a6260"
       ],
       "layout": "IPY_MODEL_0d28a004a83546898f2cd89bf5f3c032"
      }
     },
     "3f83b814fbe940ffa2965f44d32787f2": {
      "model_module": "@jupyter-widgets/controls",
      "model_module_version": "1.5.0",
      "model_name": "DescriptionStyleModel",
      "state": {
       "description_width": "10%"
      }
     },
     "415a09d4f0f3454d8010cc01ccdf88ff": {
      "model_module": "@jupyter-widgets/controls",
      "model_module_version": "1.5.0",
      "model_name": "ButtonModel",
      "state": {
       "description": "Folder",
       "layout": "IPY_MODEL_d6754d66419b43b49492161d467d659d",
       "style": "IPY_MODEL_6e021963be2849d4b37ddae19ab3b1c0"
      }
     },
     "41ae30bcb94a41ae93b147ad78e909d9": {
      "model_module": "@jupyter-widgets/base",
      "model_module_version": "1.2.0",
      "model_name": "LayoutModel",
      "state": {
       "width": "auto"
      }
     },
     "41e52624774f475a826c92a5ce38036c": {
      "model_module": "@jupyter-widgets/output",
      "model_module_version": "1.0.0",
      "model_name": "OutputModel",
      "state": {
       "layout": "IPY_MODEL_0bbacaf3b8254d0e8e4704cc36fad0ee",
       "outputs": [
        {
         "data": {
          "text/html": "<h3>WorkPackages</h3>",
          "text/plain": "<cassini.ipygui.WHTML at 0x206cc832f60>"
         },
         "metadata": {},
         "output_type": "display_data"
        }
       ]
      }
     },
     "435942087a304782881776e2df06f747": {
      "model_module": "@jupyter-widgets/base",
      "model_module_version": "1.2.0",
      "model_name": "LayoutModel",
      "state": {}
     },
     "4469a3b97b554433a3b51d53bf1df2c6": {
      "model_module": "@jupyter-widgets/base",
      "model_module_version": "1.2.0",
      "model_name": "LayoutModel",
      "state": {
       "width": "auto"
      }
     },
     "44caf516755d4e72ad41626138ab817d": {
      "model_module": "@jupyter-widgets/base",
      "model_module_version": "1.2.0",
      "model_name": "LayoutModel",
      "state": {}
     },
     "44d0035bf56a4c9388b9bd55f1d5e1c5": {
      "model_module": "@jupyter-widgets/base",
      "model_module_version": "1.2.0",
      "model_name": "LayoutModel",
      "state": {}
     },
     "45cf1c204f24462698d82d43b05cf79a": {
      "model_module": "@jupyter-widgets/controls",
      "model_module_version": "1.5.0",
      "model_name": "TextareaModel",
      "state": {
       "description": "Motivation",
       "layout": "IPY_MODEL_adf5b64f36614c8d84d5635484cfa625",
       "style": "IPY_MODEL_6790ce22198c400e88ca5a95b7566675"
      }
     },
     "460ddaedebbf43a88b82a5175a8c54dd": {
      "model_module": "@jupyter-widgets/base",
      "model_module_version": "1.2.0",
      "model_name": "LayoutModel",
      "state": {}
     },
     "4610c668e1ce4cb185440ac2c07dedb8": {
      "model_module": "@jupyter-widgets/base",
      "model_module_version": "1.2.0",
      "model_name": "LayoutModel",
      "state": {}
     },
     "4683c6193cb64d3fa8eef7b12e4146d8": {
      "model_module": "@jupyter-widgets/output",
      "model_module_version": "1.0.0",
      "model_name": "OutputModel",
      "state": {
       "layout": "IPY_MODEL_67713027900040c3816a114aaee5be93",
       "outputs": [
        {
         "data": {
          "text/html": "<h1 style=\"display: inline;\"><a href=\"Home.ipynb\">Home</a></h1><h3 style=\"display: inline;\"></h3>",
          "text/plain": "<cassini.ipygui.WHTML at 0x206cc90c4e0>"
         },
         "metadata": {},
         "output_type": "display_data"
        }
       ]
      }
     },
     "47f030adf7704bdc983f7a69ac2b3f7c": {
      "model_module": "@jupyter-widgets/controls",
      "model_module_version": "1.5.0",
      "model_name": "TextareaModel",
      "state": {
       "description": "Motivation",
       "layout": "IPY_MODEL_9813ef6e90a043ba89d7667626afd695",
       "style": "IPY_MODEL_0503f4ed03454a5291b193759c9a9012"
      }
     },
     "48c0842284ba4ddca819ac8ad4393d24": {
      "model_module": "@jupyter-widgets/controls",
      "model_module_version": "1.5.0",
      "model_name": "TextModel",
      "state": {
       "description": "Identifier",
       "layout": "IPY_MODEL_f07f55af0b8f44d8ba6f8ff348541475",
       "placeholder": "(\\d+)",
       "style": "IPY_MODEL_a0a084942aff4295bfc52452030b62cc"
      }
     },
     "48e859ef0d43470cae6dc575d3fdf93e": {
      "model_module": "@jupyter-widgets/base",
      "model_module_version": "1.2.0",
      "model_name": "LayoutModel",
      "state": {}
     },
     "497d743ffee44c99baa4379aa2d7b802": {
      "model_module": "@jupyter-widgets/controls",
      "model_module_version": "1.5.0",
      "model_name": "HBoxModel",
      "state": {
       "children": [
        "IPY_MODEL_5f1217b2976441d7bad5b0296cd309b5",
        "IPY_MODEL_e2ba7ba8559443b597d9f2edb14bdb86"
       ],
       "layout": "IPY_MODEL_079d849ca5244fc0b5ec87df32b62504"
      }
     },
     "4b3ea46024554c58ae0c86f1ce0ef043": {
      "model_module": "@jupyter-widgets/controls",
      "model_module_version": "1.5.0",
      "model_name": "ButtonModel",
      "state": {
       "description": "New",
       "layout": "IPY_MODEL_2db7f91bd3a0438280b9651d44bbcca3",
       "style": "IPY_MODEL_0b9b1cfe27d6466fabdf53fe4e185bf2"
      }
     },
     "4b431c14a6714577b75c4ca9397e52a2": {
      "model_module": "@jupyter-widgets/base",
      "model_module_version": "1.2.0",
      "model_name": "LayoutModel",
      "state": {}
     },
     "4bacbf9412a74f95baf4e0545a7a0499": {
      "model_module": "@jupyter-widgets/output",
      "model_module_version": "1.0.0",
      "model_name": "OutputModel",
      "state": {
       "layout": "IPY_MODEL_81e8a493cb84461ba2a06b84cf90f362",
       "outputs": [
        {
         "data": {
          "text/html": "<table border=\"1\" class=\"dataframe\">\n  <thead>\n    <tr style=\"text-align: right;\">\n      <th></th>\n      <th>started</th>\n      <th>description</th>\n      <th>key</th>\n      <th>Obj</th>\n    </tr>\n    <tr>\n      <th>Name</th>\n      <th></th>\n      <th></th>\n      <th></th>\n      <th></th>\n    </tr>\n  </thead>\n  <tbody>\n    <tr>\n      <th>WP1</th>\n      <td>2020-06-29</td>\n      <td>Gobble Gobble</td>\n      <td>This additional information is also important</td>\n      <td><a href=\"WorkPackages/WP1.ipynb\" target=\"_blank\"><h2 style=\"display: inline;\">WP1</h2 style=\"display: inline;\"</a></td>\n    </tr>\n    <tr>\n      <th>WP4</th>\n      <td>2020-06-29</td>\n      <td>Big aim</td>\n      <td>None</td>\n      <td><a href=\"WorkPackages/WP4.ipynb\" target=\"_blank\"><h2 style=\"display: inline;\">WP4</h2 style=\"display: inline;\"</a></td>\n    </tr>\n  </tbody>\n</table>",
          "text/plain": "        started    description                                            key  \\\nName                                                                            \nWP1  2020-06-29  Gobble Gobble  This additional information is also important   \nWP4  2020-06-29        Big aim                                           None   \n\n                      Obj  \nName                       \nWP1   <WorkPackage \"WP1\">  \nWP4   <WorkPackage \"WP4\">  "
         },
         "metadata": {},
         "output_type": "display_data"
        }
       ]
      }
     },
     "4bb190837d3e4cdba64739089b00968b": {
      "model_module": "@jupyter-widgets/controls",
      "model_module_version": "1.5.0",
      "model_name": "ButtonModel",
      "state": {
       "description": "Folder",
       "layout": "IPY_MODEL_d1d735b10d024e46921c1a61e8a3832d",
       "style": "IPY_MODEL_9a791b36e6c943748086b6334e5be5ee"
      }
     },
     "4bbb87a37ebe490c97a16adb1eb4c2dd": {
      "model_module": "@jupyter-widgets/base",
      "model_module_version": "1.2.0",
      "model_name": "LayoutModel",
      "state": {}
     },
     "4bcc7deb105747d58c507c028c5b157f": {
      "model_module": "@jupyter-widgets/base",
      "model_module_version": "1.2.0",
      "model_name": "LayoutModel",
      "state": {}
     },
     "4c0c55ade121480d8a3be3f524fde6f8": {
      "model_module": "@jupyter-widgets/base",
      "model_module_version": "1.2.0",
      "model_name": "LayoutModel",
      "state": {}
     },
     "4d3622be7f4e4a3a9a81bd81a63f4b6e": {
      "model_module": "@jupyter-widgets/base",
      "model_module_version": "1.2.0",
      "model_name": "LayoutModel",
      "state": {}
     },
     "4d6dcb5e565e4249b735acfbe4d5a94f": {
      "model_module": "@jupyter-widgets/base",
      "model_module_version": "1.2.0",
      "model_name": "LayoutModel",
      "state": {}
     },
     "4de164cb4af046c7a00c7ee91564b946": {
      "model_module": "@jupyter-widgets/controls",
      "model_module_version": "1.5.0",
      "model_name": "VBoxModel",
      "state": {
       "children": [
        "IPY_MODEL_f2bd1d4b169f41fcb045aa2c5817d5df",
        "IPY_MODEL_25d25a62663a438ba74ad31a5375705c",
        "IPY_MODEL_3a2a9c247439423bb26abe5ba7bade25",
        "IPY_MODEL_41e52624774f475a826c92a5ce38036c",
        "IPY_MODEL_982c79302f1e4ca38ec7d432fe99a988",
        "IPY_MODEL_ca794d92e25e406bb5e84e152f3023e4",
        "IPY_MODEL_1eb6c686210c4aebbde0a0b08a4e395e"
       ],
       "layout": "IPY_MODEL_a72378ac8829468885e1aad6e87bc805"
      }
     },
     "4f924b86602c4beea0c5d7b12243b881": {
      "model_module": "@jupyter-widgets/controls",
      "model_module_version": "1.5.0",
      "model_name": "HBoxModel",
      "state": {
       "children": [
        "IPY_MODEL_ddd14fbe0981475699f89c7c67b46273",
        "IPY_MODEL_654373a7f32c4212b64fef76d93ac15d",
        "IPY_MODEL_0046d2753b6d4c388f60cda374cab317"
       ],
       "layout": "IPY_MODEL_de42f27eb2e44a45ac79e97617c92003"
      }
     },
     "502436836b284dd8a318d9cda2f83bd0": {
      "model_module": "@jupyter-widgets/controls",
      "model_module_version": "1.5.0",
      "model_name": "ButtonStyleModel",
      "state": {}
     },
     "502fe9d51752474aa3452b12a31ac124": {
      "model_module": "@jupyter-widgets/base",
      "model_module_version": "1.2.0",
      "model_name": "LayoutModel",
      "state": {
       "width": "auto"
      }
     },
     "520e362562b74de08325893dc832cf5b": {
      "model_module": "@jupyter-widgets/controls",
      "model_module_version": "1.5.0",
      "model_name": "ButtonStyleModel",
      "state": {}
     },
     "533d946017384e37814d5b40a122ad39": {
      "model_module": "@jupyter-widgets/controls",
      "model_module_version": "1.5.0",
      "model_name": "VBoxModel",
      "state": {
       "children": [
        "IPY_MODEL_929e186cda2b4f0caa981f6bf455fb58",
        "IPY_MODEL_2936ffb9c5714890a23550f175665dc5",
        "IPY_MODEL_5defa048b07b4ef79570003f1b9afed1",
        "IPY_MODEL_dc8ce7854e854d7faacfee1d1b5081d8",
        "IPY_MODEL_a89d437b117c4adbad98dad8279ec328"
       ],
       "layout": "IPY_MODEL_fa4d9f0281904c99b1742cb76934771d"
      }
     },
     "535fdc23aa5b4810848ff95ec25a8aa1": {
      "model_module": "@jupyter-widgets/controls",
      "model_module_version": "1.5.0",
      "model_name": "VBoxModel",
      "state": {
       "children": [
        "IPY_MODEL_f46c879e509940a99605cefbdf53645f",
        "IPY_MODEL_415a09d4f0f3454d8010cc01ccdf88ff"
       ],
       "layout": "IPY_MODEL_04645998aa784a4d899f53b24c0fcfc8"
      }
     },
     "545c12dddff547edb70b65e58de512b0": {
      "model_module": "@jupyter-widgets/base",
      "model_module_version": "1.2.0",
      "model_name": "LayoutModel",
      "state": {}
     },
     "549b6f5b9bad4cde960d5af390f81619": {
      "model_module": "@jupyter-widgets/controls",
      "model_module_version": "1.5.0",
      "model_name": "VBoxModel",
      "state": {
       "children": [
        "IPY_MODEL_8bc67fab4bb14037917ab49e7b3ebbfc",
        "IPY_MODEL_f30f2ff4674142f082da61657e7c7338",
        "IPY_MODEL_45cf1c204f24462698d82d43b05cf79a",
        "IPY_MODEL_bc057bcd86b640299acb9feb134b87cf",
        "IPY_MODEL_6f7a1b856af14c80beea5ee6bf17680f"
       ],
       "layout": "IPY_MODEL_460ddaedebbf43a88b82a5175a8c54dd"
      }
     },
     "5787e037686b4ee290d6c1f5f45fd052": {
      "model_module": "@jupyter-widgets/controls",
      "model_module_version": "1.5.0",
      "model_name": "DescriptionStyleModel",
      "state": {
       "description_width": "10%"
      }
     },
     "5a09d1c52b6848b6867060a0ef335b7e": {
      "model_module": "@jupyter-widgets/controls",
      "model_module_version": "1.5.0",
      "model_name": "HBoxModel",
      "state": {
       "children": [
        "IPY_MODEL_5f4a0f239a6e4486b02b0604f6da972e",
        "IPY_MODEL_f0b83fb4aac1401a9a60d8089bfe411f",
        "IPY_MODEL_e7e1de3f13ae4549b76132757ae603b3"
       ],
       "layout": "IPY_MODEL_913f3686ab9f4eca9f3688f19a007e8d"
      }
     },
     "5accbb276af94f87b6e4589e8cf7e409": {
      "model_module": "@jupyter-widgets/output",
      "model_module_version": "1.0.0",
      "model_name": "OutputModel",
      "state": {
       "layout": "IPY_MODEL_f2758e9e84954616b489fa8e0d0dac82",
       "outputs": [
        {
         "data": {
          "text/html": "<table border=\"1\" class=\"dataframe\">\n  <thead>\n    <tr style=\"text-align: right;\">\n      <th></th>\n      <th>started</th>\n      <th>description</th>\n      <th>key</th>\n      <th>Obj</th>\n    </tr>\n    <tr>\n      <th>Name</th>\n      <th></th>\n      <th></th>\n      <th></th>\n      <th></th>\n    </tr>\n  </thead>\n  <tbody>\n    <tr>\n      <th>WP1</th>\n      <td>2020-06-29</td>\n      <td>Gobble Gobble</td>\n      <td>This additional information is also important</td>\n      <td><a href=\"WorkPackages/WP1.ipynb\" target=\"_blank\"><h2 style=\"display: inline;\">WP1</h2 style=\"display: inline;\"</a></td>\n    </tr>\n    <tr>\n      <th>WP4</th>\n      <td>2020-06-29</td>\n      <td>Big aim</td>\n      <td>None</td>\n      <td><a href=\"WorkPackages/WP4.ipynb\" target=\"_blank\"><h2 style=\"display: inline;\">WP4</h2 style=\"display: inline;\"</a></td>\n    </tr>\n  </tbody>\n</table>",
          "text/plain": "        started    description                                            key  \\\nName                                                                            \nWP1  2020-06-29  Gobble Gobble  This additional information is also important   \nWP4  2020-06-29        Big aim                                           None   \n\n                      Obj  \nName                       \nWP1   <WorkPackage \"WP1\">  \nWP4   <WorkPackage \"WP4\">  "
         },
         "metadata": {},
         "output_type": "display_data"
        }
       ]
      }
     },
     "5bd794751f634df3b60b4a39e103c94c": {
      "model_module": "@jupyter-widgets/base",
      "model_module_version": "1.2.0",
      "model_name": "LayoutModel",
      "state": {}
     },
     "5cb6f68527e042fabeecb49323906abc": {
      "model_module": "@jupyter-widgets/base",
      "model_module_version": "1.2.0",
      "model_name": "LayoutModel",
      "state": {}
     },
     "5d2c5b7f03ba42fea1e8c2bd0c794e09": {
      "model_module": "@jupyter-widgets/controls",
      "model_module_version": "1.5.0",
      "model_name": "DescriptionStyleModel",
      "state": {
       "description_width": "10%"
      }
     },
     "5d50b3cdf97d4de2b7220db189ba278f": {
      "model_module": "@jupyter-widgets/base",
      "model_module_version": "1.2.0",
      "model_name": "LayoutModel",
      "state": {}
     },
     "5defa048b07b4ef79570003f1b9afed1": {
      "model_module": "@jupyter-widgets/controls",
      "model_module_version": "1.5.0",
      "model_name": "TextareaModel",
      "state": {
       "description": "Motivation",
       "layout": "IPY_MODEL_502fe9d51752474aa3452b12a31ac124",
       "style": "IPY_MODEL_86a92fdcb9c3430aabe65534caf922c1"
      }
     },
     "5f0a432e4404452385105ba2ef56dd0b": {
      "model_module": "@jupyter-widgets/base",
      "model_module_version": "1.2.0",
      "model_name": "LayoutModel",
      "state": {
       "width": "auto"
      }
     },
     "5f1217b2976441d7bad5b0296cd309b5": {
      "model_module": "@jupyter-widgets/controls",
      "model_module_version": "1.5.0",
      "model_name": "ButtonModel",
      "state": {
       "description": "Confirm",
       "disabled": true,
       "layout": "IPY_MODEL_db00448424ca4301890010638cc1d7d8",
       "style": "IPY_MODEL_a7eb23483a9143bd9be55b1be6364bb9"
      }
     },
     "5f4a0f239a6e4486b02b0604f6da972e": {
      "model_module": "@jupyter-widgets/controls",
      "model_module_version": "1.5.0",
      "model_name": "TextModel",
      "state": {
       "continuous_update": false,
       "layout": "IPY_MODEL_acf391936c024d0b8325bd39685c3594",
       "placeholder": "Name",
       "style": "IPY_MODEL_eac4dc99f35b4c7ab78b365b5ce642b9"
      }
     },
     "5f7f76df0946416eb6cf94a827e2ffeb": {
      "model_module": "@jupyter-widgets/controls",
      "model_module_version": "1.5.0",
      "model_name": "SelectModel",
      "state": {
       "_options_labels": [
        "WorkPackage.tmplt.ipynb"
       ],
       "description": "Template",
       "index": 0,
       "layout": "IPY_MODEL_aac5ed752b2846e780026fbedd0cfcda",
       "style": "IPY_MODEL_331d361e25714735870c2fa90c0d91ed"
      }
     },
     "5fea51d2c8344afead51b6e9487da14e": {
      "model_module": "@jupyter-widgets/output",
      "model_module_version": "1.0.0",
      "model_name": "OutputModel",
      "state": {
       "layout": "IPY_MODEL_d86c4728b36745e79fbd89a1d0625fbc",
       "outputs": [
        {
         "data": {
          "text/html": "<table border=\"1\" class=\"dataframe\">\n  <thead>\n    <tr style=\"text-align: right;\">\n      <th></th>\n      <th>started</th>\n      <th>description</th>\n      <th>Obj</th>\n    </tr>\n    <tr>\n      <th>Name</th>\n      <th></th>\n      <th></th>\n      <th></th>\n    </tr>\n  </thead>\n  <tbody>\n    <tr>\n      <th>WP1</th>\n      <td>2020-06-29</td>\n      <td>Gobble Gobble</td>\n      <td><a href=\"WorkPackages/WP1.ipynb\" target=\"_blank\"><h2 style=\"display: inline;\">WP1</h2 style=\"display: inline;\"</a></td>\n    </tr>\n    <tr>\n      <th>WP4</th>\n      <td>2020-06-29</td>\n      <td>Big aim</td>\n      <td><a href=\"WorkPackages/WP4.ipynb\" target=\"_blank\"><h2 style=\"display: inline;\">WP4</h2 style=\"display: inline;\"</a></td>\n    </tr>\n  </tbody>\n</table>",
          "text/plain": "        started    description                  Obj\nName                                               \nWP1  2020-06-29  Gobble Gobble  <WorkPackage \"WP1\">\nWP4  2020-06-29        Big aim  <WorkPackage \"WP4\">"
         },
         "metadata": {},
         "output_type": "display_data"
        }
       ]
      }
     },
     "60b115a8036645b0afb267e7d6bc8eab": {
      "model_module": "@jupyter-widgets/controls",
      "model_module_version": "1.5.0",
      "model_name": "VBoxModel",
      "state": {
       "children": [
        "IPY_MODEL_5a09d1c52b6848b6867060a0ef335b7e",
        "IPY_MODEL_8ee732b4acf14697b28df02d490c1cbe"
       ],
       "layout": "IPY_MODEL_df66aaa0adc04a18a318cb3a2977111e"
      }
     },
     "612fd42b05074aaca8a9b83110f2604b": {
      "model_module": "@jupyter-widgets/base",
      "model_module_version": "1.2.0",
      "model_name": "LayoutModel",
      "state": {}
     },
     "615f84426db54dfe9c5f74fd14e58459": {
      "model_module": "@jupyter-widgets/controls",
      "model_module_version": "1.5.0",
      "model_name": "ButtonStyleModel",
      "state": {}
     },
     "632c8bb0f2d74709b6d8f20cf64e7c24": {
      "model_module": "@jupyter-widgets/base",
      "model_module_version": "1.2.0",
      "model_name": "LayoutModel",
      "state": {}
     },
     "652bb7c320714d219ae1449a66035d7d": {
      "model_module": "@jupyter-widgets/controls",
      "model_module_version": "1.5.0",
      "model_name": "DescriptionStyleModel",
      "state": {
       "description_width": ""
      }
     },
     "654373a7f32c4212b64fef76d93ac15d": {
      "model_module": "@jupyter-widgets/controls",
      "model_module_version": "1.5.0",
      "model_name": "ButtonModel",
      "state": {
       "description": "Search",
       "layout": "IPY_MODEL_44d0035bf56a4c9388b9bd55f1d5e1c5",
       "style": "IPY_MODEL_cb9f4224222645fa86653853012e2b9e"
      }
     },
     "6612fdc9203e45c495520d503f1a89c3": {
      "model_module": "@jupyter-widgets/controls",
      "model_module_version": "1.5.0",
      "model_name": "VBoxModel",
      "state": {
       "children": [
        "IPY_MODEL_6d8042855d644ff2a3121f0879cb0a75",
        "IPY_MODEL_3d0f12e2eeca40f7ad158138cc7431c9",
        "IPY_MODEL_60b115a8036645b0afb267e7d6bc8eab",
        "IPY_MODEL_a6bd516331b44227966f89d74b0a4e8e",
        "IPY_MODEL_c65018936d1e421d8150c59d42d63eb0",
        "IPY_MODEL_16d2ff691a2142e78cd0ecc3fc79bcbe",
        "IPY_MODEL_cd82c3ce50454912a6346a64b219fddf"
       ],
       "layout": "IPY_MODEL_4d6dcb5e565e4249b735acfbe4d5a94f"
      }
     },
     "66ff59f63d434bdcbc9b87bbe311d3ed": {
      "model_module": "@jupyter-widgets/base",
      "model_module_version": "1.2.0",
      "model_name": "LayoutModel",
      "state": {}
     },
     "6747d9e8cec44af6ae468569119d0a61": {
      "model_module": "@jupyter-widgets/controls",
      "model_module_version": "1.5.0",
      "model_name": "ButtonStyleModel",
      "state": {}
     },
     "67713027900040c3816a114aaee5be93": {
      "model_module": "@jupyter-widgets/base",
      "model_module_version": "1.2.0",
      "model_name": "LayoutModel",
      "state": {}
     },
     "6790ce22198c400e88ca5a95b7566675": {
      "model_module": "@jupyter-widgets/controls",
      "model_module_version": "1.5.0",
      "model_name": "DescriptionStyleModel",
      "state": {
       "description_width": "10%"
      }
     },
     "67f5818285fa4b94bc3d007daf89418e": {
      "model_module": "@jupyter-widgets/base",
      "model_module_version": "1.2.0",
      "model_name": "LayoutModel",
      "state": {}
     },
     "68042c137850494084c88bfa940fe942": {
      "model_module": "@jupyter-widgets/controls",
      "model_module_version": "1.5.0",
      "model_name": "ButtonModel",
      "state": {
       "description": "Folder",
       "layout": "IPY_MODEL_bccebeaab8bb441b91d590b43567ed29",
       "style": "IPY_MODEL_9c0e0bf52cd94749815afedc781b7420"
      }
     },
     "685aae4bdc5d487a812808534b052eda": {
      "model_module": "@jupyter-widgets/output",
      "model_module_version": "1.0.0",
      "model_name": "OutputModel",
      "state": {
       "layout": "IPY_MODEL_7d6e64afa090473bb64e60877d706d6b",
       "outputs": [
        {
         "data": {
          "text/html": "<h3>New WorkPackage</h3>",
          "text/plain": "<cassini.ipygui.WHTML at 0x206ccab24a8>"
         },
         "metadata": {},
         "output_type": "display_data"
        }
       ]
      }
     },
     "6a88bcfb6acc449391c9900422271ff2": {
      "model_module": "@jupyter-widgets/base",
      "model_module_version": "1.2.0",
      "model_name": "LayoutModel",
      "state": {}
     },
     "6aed8113ed974d3dac463e2781dbe9b0": {
      "model_module": "@jupyter-widgets/controls",
      "model_module_version": "1.5.0",
      "model_name": "HBoxModel",
      "state": {
       "children": [
        "IPY_MODEL_95512f1ff196460cbd0825c527c57029",
        "IPY_MODEL_4b3ea46024554c58ae0c86f1ce0ef043"
       ],
       "layout": "IPY_MODEL_48e859ef0d43470cae6dc575d3fdf93e"
      }
     },
     "6cd5f863572345d180fb86aed84dac67": {
      "model_module": "@jupyter-widgets/base",
      "model_module_version": "1.2.0",
      "model_name": "LayoutModel",
      "state": {
       "width": "auto"
      }
     },
     "6d8042855d644ff2a3121f0879cb0a75": {
      "model_module": "@jupyter-widgets/controls",
      "model_module_version": "1.5.0",
      "model_name": "VBoxModel",
      "state": {
       "children": [
        "IPY_MODEL_4683c6193cb64d3fa8eef7b12e4146d8",
        "IPY_MODEL_4bb190837d3e4cdba64739089b00968b"
       ],
       "layout": "IPY_MODEL_2eae7a71649e4886920829890bbe1cec"
      }
     },
     "6d82dc85f401492abcba90fcbe11edf3": {
      "model_module": "@jupyter-widgets/base",
      "model_module_version": "1.2.0",
      "model_name": "LayoutModel",
      "state": {}
     },
     "6e021963be2849d4b37ddae19ab3b1c0": {
      "model_module": "@jupyter-widgets/controls",
      "model_module_version": "1.5.0",
      "model_name": "ButtonStyleModel",
      "state": {}
     },
     "6e8cd438d7c84ccca974b68384a186d8": {
      "model_module": "@jupyter-widgets/base",
      "model_module_version": "1.2.0",
      "model_name": "LayoutModel",
      "state": {}
     },
     "6f7a1b856af14c80beea5ee6bf17680f": {
      "model_module": "@jupyter-widgets/output",
      "model_module_version": "1.0.0",
      "model_name": "OutputModel",
      "state": {
       "layout": "IPY_MODEL_545c12dddff547edb70b65e58de512b0"
      }
     },
     "732b7376df3c4e599a0b1848c434b440": {
      "model_module": "@jupyter-widgets/base",
      "model_module_version": "1.2.0",
      "model_name": "LayoutModel",
      "state": {}
     },
     "733da861bf9a4312b6bdc6c651a9bea9": {
      "model_module": "@jupyter-widgets/base",
      "model_module_version": "1.2.0",
      "model_name": "LayoutModel",
      "state": {
       "width": "auto"
      }
     },
     "7422fcccf49f48488910fa428bc360ae": {
      "model_module": "@jupyter-widgets/base",
      "model_module_version": "1.2.0",
      "model_name": "LayoutModel",
      "state": {}
     },
     "74b672cbeb854cf9ac660d3e1aa6bef5": {
      "model_module": "@jupyter-widgets/base",
      "model_module_version": "1.2.0",
      "model_name": "LayoutModel",
      "state": {}
     },
     "74f2982273f2444494e12bb256d547e7": {
      "model_module": "@jupyter-widgets/base",
      "model_module_version": "1.2.0",
      "model_name": "LayoutModel",
      "state": {}
     },
     "7782e205c0724aa3bfe2e9768299061b": {
      "model_module": "@jupyter-widgets/base",
      "model_module_version": "1.2.0",
      "model_name": "LayoutModel",
      "state": {}
     },
     "77d487de813842bb8c33b391f76da3c3": {
      "model_module": "@jupyter-widgets/base",
      "model_module_version": "1.2.0",
      "model_name": "LayoutModel",
      "state": {}
     },
     "783e6cce01cd4d21933eef29c66b1324": {
      "model_module": "@jupyter-widgets/controls",
      "model_module_version": "1.5.0",
      "model_name": "VBoxModel",
      "state": {
       "children": [
        "IPY_MODEL_8e393013c02547d8b79993ce252e0c5b",
        "IPY_MODEL_c761f0786c2e4e579ba6bc89d068c589"
       ],
       "layout": "IPY_MODEL_e84013b4a1464931b0e261b7c637a5b0"
      }
     },
     "7946028835dc433580fe89941b40c105": {
      "model_module": "@jupyter-widgets/base",
      "model_module_version": "1.2.0",
      "model_name": "LayoutModel",
      "state": {
       "width": "auto"
      }
     },
     "7962fccbf40047369c89140756509c76": {
      "model_module": "@jupyter-widgets/output",
      "model_module_version": "1.0.0",
      "model_name": "OutputModel",
      "state": {
       "layout": "IPY_MODEL_ccbffa30ceb84bfbb9ebb9da73da1828"
      }
     },
     "79988d6c80354322a1a5dd418041d881": {
      "model_module": "@jupyter-widgets/output",
      "model_module_version": "1.0.0",
      "model_name": "OutputModel",
      "state": {
       "layout": "IPY_MODEL_320f9163315a47ac96a57b21e366e57c",
       "outputs": [
        {
         "data": {
          "text/html": "<h3>New WorkPackage</h3>",
          "text/plain": "<cassini.ipygui.WHTML at 0x206cc986908>"
         },
         "metadata": {},
         "output_type": "display_data"
        }
       ]
      }
     },
     "79a818fc53d84136a853e748dbb208cd": {
      "model_module": "@jupyter-widgets/controls",
      "model_module_version": "1.5.0",
      "model_name": "TextModel",
      "state": {
       "continuous_update": false,
       "layout": "IPY_MODEL_de89820dae684ccead92d0a871fded28",
       "placeholder": "Name",
       "style": "IPY_MODEL_3af7a56077074c96a09fded02e979678"
      }
     },
     "79ceb8ad3510466180751b4b62e8a33e": {
      "model_module": "@jupyter-widgets/output",
      "model_module_version": "1.0.0",
      "model_name": "OutputModel",
      "state": {
       "layout": "IPY_MODEL_b2156eb2e0bd47c39e5356fff4b97c3c",
       "outputs": [
        {
         "data": {
          "text/html": "<h1 style=\"display: inline;\"><a href=\"Home.ipynb\">Home</a></h1><h3 style=\"display: inline;\"></h3>",
          "text/plain": "<cassini.ipygui.WHTML at 0x206cc90c080>"
         },
         "metadata": {},
         "output_type": "display_data"
        }
       ]
      }
     },
     "7b40b29e37d94513b85b922a820a9bb6": {
      "model_module": "@jupyter-widgets/output",
      "model_module_version": "1.0.0",
      "model_name": "OutputModel",
      "state": {
       "layout": "IPY_MODEL_ea6d9eb7ad59490182ca9e9b2cbd0836"
      }
     },
     "7b5be5ffd0f94ac495908203af26f94b": {
      "model_module": "@jupyter-widgets/output",
      "model_module_version": "1.0.0",
      "model_name": "OutputModel",
      "state": {
       "layout": "IPY_MODEL_3caccea1dc824dcca2136b3388f74dd0"
      }
     },
     "7bbc7cb3faa54d1b9c7d7cbc3bb63f52": {
      "model_module": "@jupyter-widgets/base",
      "model_module_version": "1.2.0",
      "model_name": "LayoutModel",
      "state": {}
     },
     "7bcdf6736a2645c6af1ac9f7e6b42732": {
      "model_module": "@jupyter-widgets/output",
      "model_module_version": "1.0.0",
      "model_name": "OutputModel",
      "state": {
       "layout": "IPY_MODEL_13c8822e5cb74db28139717f38c7429f",
       "outputs": [
        {
         "data": {
          "text/html": "<h3>Search</h3>",
          "text/plain": "<cassini.ipygui.WHTML at 0x206cc869c50>"
         },
         "metadata": {},
         "output_type": "display_data"
        }
       ]
      }
     },
     "7d6e64afa090473bb64e60877d706d6b": {
      "model_module": "@jupyter-widgets/base",
      "model_module_version": "1.2.0",
      "model_name": "LayoutModel",
      "state": {}
     },
     "7dcce2233a9b44be876222608d3bdbe8": {
      "model_module": "@jupyter-widgets/controls",
      "model_module_version": "1.5.0",
      "model_name": "VBoxModel",
      "state": {
       "children": [
        "IPY_MODEL_4f924b86602c4beea0c5d7b12243b881",
        "IPY_MODEL_851fe3c59e8f4e94978779ffee282c30"
       ],
       "layout": "IPY_MODEL_a4d8aed8d55641b89a590f35d6eee004"
      }
     },
     "7e2f793285f14cd7a282fc41d0377bba": {
      "model_module": "@jupyter-widgets/controls",
      "model_module_version": "1.5.0",
      "model_name": "TextareaModel",
      "state": {
       "description": "Motivation",
       "layout": "IPY_MODEL_3a8b7dde22a143469857144b30556496",
       "style": "IPY_MODEL_f7afe0ec7ece442bb6cb0daf7b636bfb"
      }
     },
     "7e6bd14edde546ddb8aab9b4ca0b0b98": {
      "model_module": "@jupyter-widgets/controls",
      "model_module_version": "1.5.0",
      "model_name": "VBoxModel",
      "state": {
       "children": [
        "IPY_MODEL_2033ddd072944f2e95d6406bb1af3fb9",
        "IPY_MODEL_c69d15dba7e04d249a624dccf0d0fc10"
       ],
       "layout": "IPY_MODEL_9d004a74b23c4dee81b387f93c1df1d2"
      }
     },
     "8121adcf35af48b0a711d0af499e3a9f": {
      "model_module": "@jupyter-widgets/base",
      "model_module_version": "1.2.0",
      "model_name": "LayoutModel",
      "state": {
       "width": "auto"
      }
     },
     "81452bffbdd84fb2a6a1706b72b0f539": {
      "model_module": "@jupyter-widgets/base",
      "model_module_version": "1.2.0",
      "model_name": "LayoutModel",
      "state": {}
     },
     "81e8a493cb84461ba2a06b84cf90f362": {
      "model_module": "@jupyter-widgets/base",
      "model_module_version": "1.2.0",
      "model_name": "LayoutModel",
      "state": {}
     },
     "8370afa5073f41ad9eda2a596dd92ccf": {
      "model_module": "@jupyter-widgets/output",
      "model_module_version": "1.0.0",
      "model_name": "OutputModel",
      "state": {
       "layout": "IPY_MODEL_a7ba19132fc448ae89f56347b1816c77"
      }
     },
     "837770c7cf2f4b3cb986b4d5c9b9bd11": {
      "model_module": "@jupyter-widgets/controls",
      "model_module_version": "1.5.0",
      "model_name": "ButtonStyleModel",
      "state": {}
     },
     "83a3297e17d5444891145fa54bbf52f4": {
      "model_module": "@jupyter-widgets/controls",
      "model_module_version": "1.5.0",
      "model_name": "DescriptionStyleModel",
      "state": {
       "description_width": "10%"
      }
     },
     "83e1600c52784d518f01575163624e44": {
      "model_module": "@jupyter-widgets/base",
      "model_module_version": "1.2.0",
      "model_name": "LayoutModel",
      "state": {}
     },
     "843e3fc2a054448e8b517d7555cd7a5c": {
      "model_module": "@jupyter-widgets/base",
      "model_module_version": "1.2.0",
      "model_name": "LayoutModel",
      "state": {}
     },
     "851fe3c59e8f4e94978779ffee282c30": {
      "model_module": "@jupyter-widgets/output",
      "model_module_version": "1.0.0",
      "model_name": "OutputModel",
      "state": {
       "layout": "IPY_MODEL_e613ebc17687448a91d4902eea009091"
      }
     },
     "86a92fdcb9c3430aabe65534caf922c1": {
      "model_module": "@jupyter-widgets/controls",
      "model_module_version": "1.5.0",
      "model_name": "DescriptionStyleModel",
      "state": {
       "description_width": "10%"
      }
     },
     "872712ff2575499c81341ec160bcacfb": {
      "model_module": "@jupyter-widgets/output",
      "model_module_version": "1.0.0",
      "model_name": "OutputModel",
      "state": {
       "layout": "IPY_MODEL_d8cdda7477cb4f81ac1baa6d1bb288ad"
      }
     },
     "878f93dc7b924c3aa820e68d8fe648f1": {
      "model_module": "@jupyter-widgets/output",
      "model_module_version": "1.0.0",
      "model_name": "OutputModel",
      "state": {
       "layout": "IPY_MODEL_843e3fc2a054448e8b517d7555cd7a5c"
      }
     },
     "8867c663533b47d7a19b12180d89638c": {
      "model_module": "@jupyter-widgets/base",
      "model_module_version": "1.2.0",
      "model_name": "LayoutModel",
      "state": {}
     },
     "8954e4122cef4b688ea3a33a4776bab4": {
      "model_module": "@jupyter-widgets/controls",
      "model_module_version": "1.5.0",
      "model_name": "ButtonModel",
      "state": {
       "description": "Confirm",
       "disabled": true,
       "layout": "IPY_MODEL_f80ae8c82a594635ad923e8c4b90bcdc",
       "style": "IPY_MODEL_502436836b284dd8a318d9cda2f83bd0"
      }
     },
     "8b067c40b3f94ff9aa856ec7b52af49e": {
      "model_module": "@jupyter-widgets/output",
      "model_module_version": "1.0.0",
      "model_name": "OutputModel",
      "state": {
       "layout": "IPY_MODEL_9e7dfb3f306548eb8e2dc9db6ad218f0",
       "outputs": [
        {
         "data": {
          "text/html": "<h3>New WorkPackage</h3>",
          "text/plain": "<cassini.ipygui.WHTML at 0x206cc9614e0>"
         },
         "metadata": {},
         "output_type": "display_data"
        }
       ]
      }
     },
     "8bc67fab4bb14037917ab49e7b3ebbfc": {
      "model_module": "@jupyter-widgets/controls",
      "model_module_version": "1.5.0",
      "model_name": "TextModel",
      "state": {
       "description": "Identifier",
       "layout": "IPY_MODEL_338b7ecc462649ab9cbf79f46923d428",
       "placeholder": "(\\d+)",
       "style": "IPY_MODEL_177ea679059e49f99c155d02b123578d"
      }
     },
     "8d7ccbcf918b423ba7cc0e48f3766a3b": {
      "model_module": "@jupyter-widgets/controls",
      "model_module_version": "1.5.0",
      "model_name": "DescriptionStyleModel",
      "state": {
       "description_width": "10%"
      }
     },
     "8e18654026dc4028ba36be655b30bdd6": {
      "model_module": "@jupyter-widgets/base",
      "model_module_version": "1.2.0",
      "model_name": "LayoutModel",
      "state": {}
     },
     "8e393013c02547d8b79993ce252e0c5b": {
      "model_module": "@jupyter-widgets/output",
      "model_module_version": "1.0.0",
      "model_name": "OutputModel",
      "state": {
       "layout": "IPY_MODEL_4c0c55ade121480d8a3be3f524fde6f8",
       "outputs": [
        {
         "data": {
          "text/html": "<h1 style=\"display: inline;\"><a href=\"Home.ipynb\">Home</a></h1><h3 style=\"display: inline;\"></h3>",
          "text/plain": "<cassini.ipygui.WHTML at 0x206cc975a20>"
         },
         "metadata": {},
         "output_type": "display_data"
        }
       ]
      }
     },
     "8e98bfa8fa0f41eda33b20a0bf0d187b": {
      "model_module": "@jupyter-widgets/base",
      "model_module_version": "1.2.0",
      "model_name": "LayoutModel",
      "state": {
       "width": "auto"
      }
     },
     "8ea4b1682066463285788b7ab1089d7d": {
      "model_module": "@jupyter-widgets/base",
      "model_module_version": "1.2.0",
      "model_name": "LayoutModel",
      "state": {}
     },
     "8ee732b4acf14697b28df02d490c1cbe": {
      "model_module": "@jupyter-widgets/output",
      "model_module_version": "1.0.0",
      "model_name": "OutputModel",
      "state": {
       "layout": "IPY_MODEL_a1245b430da24eefa3167d6824d74348"
      }
     },
     "8f9584cc64024678b81c083abc98157c": {
      "model_module": "@jupyter-widgets/base",
      "model_module_version": "1.2.0",
      "model_name": "LayoutModel",
      "state": {}
     },
     "9064c45c83c3491fa4cbf86c2fb2c6dd": {
      "model_module": "@jupyter-widgets/controls",
      "model_module_version": "1.5.0",
      "model_name": "ButtonStyleModel",
      "state": {}
     },
     "911bac6bfbe149f3bfbcf38a5286d482": {
      "model_module": "@jupyter-widgets/controls",
      "model_module_version": "1.5.0",
      "model_name": "HBoxModel",
      "state": {
       "children": [
        "IPY_MODEL_bd61c936845247a38943060afd4b4e48",
        "IPY_MODEL_e5e644f51a6646baa32ed84fe9e7fcff"
       ],
       "layout": "IPY_MODEL_26fbb60d2da14aa7a92bfd2dea44a287"
      }
     },
     "913f3686ab9f4eca9f3688f19a007e8d": {
      "model_module": "@jupyter-widgets/base",
      "model_module_version": "1.2.0",
      "model_name": "LayoutModel",
      "state": {}
     },
     "91542485c95d4cfdaffc370338427f26": {
      "model_module": "@jupyter-widgets/base",
      "model_module_version": "1.2.0",
      "model_name": "LayoutModel",
      "state": {}
     },
     "923ca1ce4a8f4ae8aae21174fda4ed3f": {
      "model_module": "@jupyter-widgets/base",
      "model_module_version": "1.2.0",
      "model_name": "LayoutModel",
      "state": {}
     },
     "9288b1a6337b4f4f94622b8dc8542eda": {
      "model_module": "@jupyter-widgets/controls",
      "model_module_version": "1.5.0",
      "model_name": "VBoxModel",
      "state": {
       "children": [
        "IPY_MODEL_dc30105f7fcc4f6d9726be3030d52cd0",
        "IPY_MODEL_7962fccbf40047369c89140756509c76"
       ],
       "layout": "IPY_MODEL_4bcc7deb105747d58c507c028c5b157f"
      }
     },
     "929e186cda2b4f0caa981f6bf455fb58": {
      "model_module": "@jupyter-widgets/controls",
      "model_module_version": "1.5.0",
      "model_name": "TextModel",
      "state": {
       "description": "Identifier",
       "layout": "IPY_MODEL_41ae30bcb94a41ae93b147ad78e909d9",
       "placeholder": "(\\d+)",
       "style": "IPY_MODEL_a1bdaa3b824748fd89d146b7f7447f53"
      }
     },
     "946f6d5729f84889b2af16b8195b5fcc": {
      "model_module": "@jupyter-widgets/base",
      "model_module_version": "1.2.0",
      "model_name": "LayoutModel",
      "state": {
       "width": "auto"
      }
     },
     "9488be87313848d9b9e5f069f2f21c3d": {
      "model_module": "@jupyter-widgets/output",
      "model_module_version": "1.0.0",
      "model_name": "OutputModel",
      "state": {
       "layout": "IPY_MODEL_b38779fae738451aab6545df24d96b26",
       "outputs": [
        {
         "data": {
          "text/html": "<h3>Search</h3>",
          "text/plain": "<cassini.ipygui.WHTML at 0x206ccaa6e80>"
         },
         "metadata": {},
         "output_type": "display_data"
        }
       ]
      }
     },
     "95512f1ff196460cbd0825c527c57029": {
      "model_module": "@jupyter-widgets/controls",
      "model_module_version": "1.5.0",
      "model_name": "ButtonModel",
      "state": {
       "description": "Confirm",
       "disabled": true,
       "layout": "IPY_MODEL_99403a90e05e491e9ed8c4100fd3998a",
       "style": "IPY_MODEL_14f5d50a512b483b87d43fc5c94d9db1"
      }
     },
     "95a650f96ef4457e824c6cbf9b2fb74a": {
      "model_module": "@jupyter-widgets/output",
      "model_module_version": "1.0.0",
      "model_name": "OutputModel",
      "state": {
       "layout": "IPY_MODEL_07e0dca4b57547b5b585ded1b8e44a56",
       "outputs": [
        {
         "data": {
          "text/html": "<h3>WorkPackages</h3>",
          "text/plain": "<cassini.ipygui.WHTML at 0x206cc832e10>"
         },
         "metadata": {},
         "output_type": "display_data"
        }
       ]
      }
     },
     "95b605f96ade40b4a559edb12c89afad": {
      "model_module": "@jupyter-widgets/controls",
      "model_module_version": "1.5.0",
      "model_name": "VBoxModel",
      "state": {
       "children": [
        "IPY_MODEL_7e6bd14edde546ddb8aab9b4ca0b0b98",
        "IPY_MODEL_7bcdf6736a2645c6af1ac9f7e6b42732",
        "IPY_MODEL_fc688e056915427aa299d0c7e633311a",
        "IPY_MODEL_95a650f96ef4457e824c6cbf9b2fb74a",
        "IPY_MODEL_5fea51d2c8344afead51b6e9487da14e",
        "IPY_MODEL_a16dd1968067417f874ecb1fbe79e92d",
        "IPY_MODEL_533d946017384e37814d5b40a122ad39"
       ],
       "layout": "IPY_MODEL_6d82dc85f401492abcba90fcbe11edf3"
      }
     },
     "95e04e7d447343d48f02f9e7cc45f3a8": {
      "model_module": "@jupyter-widgets/base",
      "model_module_version": "1.2.0",
      "model_name": "LayoutModel",
      "state": {}
     },
     "966d7e8a29164d92a3fcd1ed995a2ef5": {
      "model_module": "@jupyter-widgets/base",
      "model_module_version": "1.2.0",
      "model_name": "LayoutModel",
      "state": {
       "width": "auto"
      }
     },
     "96f56ef4caf144ed877833ba2d0faf57": {
      "model_module": "@jupyter-widgets/output",
      "model_module_version": "1.0.0",
      "model_name": "OutputModel",
      "state": {
       "layout": "IPY_MODEL_242b113dee4546929e38872474184ec3"
      }
     },
     "9813ef6e90a043ba89d7667626afd695": {
      "model_module": "@jupyter-widgets/base",
      "model_module_version": "1.2.0",
      "model_name": "LayoutModel",
      "state": {
       "width": "auto"
      }
     },
     "9817fc8005d84cf69b853b5b41023ab0": {
      "model_module": "@jupyter-widgets/controls",
      "model_module_version": "1.5.0",
      "model_name": "HBoxModel",
      "state": {
       "children": [
        "IPY_MODEL_f7c8aa1677244e5c9abfa3998126c0a6",
        "IPY_MODEL_a3a34154443949ec8bbfe52a2512f96d",
        "IPY_MODEL_3e352c306a1f49a38fd0e93f55d4eb9d"
       ],
       "layout": "IPY_MODEL_e4cc4d1bfa0b4adba138c3a34ad2a2bf"
      }
     },
     "982c79302f1e4ca38ec7d432fe99a988": {
      "model_module": "@jupyter-widgets/output",
      "model_module_version": "1.0.0",
      "model_name": "OutputModel",
      "state": {
       "layout": "IPY_MODEL_145d3d980e0d4c5fb19df27d0b96328e",
       "outputs": [
        {
         "data": {
          "text/html": "<table border=\"1\" class=\"dataframe\">\n  <thead>\n    <tr style=\"text-align: right;\">\n      <th></th>\n      <th>started</th>\n      <th>description</th>\n      <th>Obj</th>\n    </tr>\n    <tr>\n      <th>Name</th>\n      <th></th>\n      <th></th>\n      <th></th>\n    </tr>\n  </thead>\n  <tbody>\n    <tr>\n      <th>WP1</th>\n      <td>2020-06-29</td>\n      <td>Gobble Gobble</td>\n      <td><a href=\"WorkPackages/WP1.ipynb\" target=\"_blank\"><h2 style=\"display: inline;\">WP1</h2 style=\"display: inline;\"</a></td>\n    </tr>\n    <tr>\n      <th>WP4</th>\n      <td>2020-06-29</td>\n      <td>Big aim</td>\n      <td><a href=\"WorkPackages/WP4.ipynb\" target=\"_blank\"><h2 style=\"display: inline;\">WP4</h2 style=\"display: inline;\"</a></td>\n    </tr>\n  </tbody>\n</table>",
          "text/plain": "        started    description                  Obj\nName                                               \nWP1  2020-06-29  Gobble Gobble  <WorkPackage \"WP1\">\nWP4  2020-06-29        Big aim  <WorkPackage \"WP4\">"
         },
         "metadata": {},
         "output_type": "display_data"
        }
       ]
      }
     },
     "99403a90e05e491e9ed8c4100fd3998a": {
      "model_module": "@jupyter-widgets/base",
      "model_module_version": "1.2.0",
      "model_name": "LayoutModel",
      "state": {}
     },
     "9a791b36e6c943748086b6334e5be5ee": {
      "model_module": "@jupyter-widgets/controls",
      "model_module_version": "1.5.0",
      "model_name": "ButtonStyleModel",
      "state": {}
     },
     "9aaba0bcb0ef44268e1e942d1c96d295": {
      "model_module": "@jupyter-widgets/output",
      "model_module_version": "1.0.0",
      "model_name": "OutputModel",
      "state": {
       "layout": "IPY_MODEL_3badd77e60074b01820690bf1e4a2956",
       "outputs": [
        {
         "data": {
          "text/html": "<h3>WorkPackages</h3>",
          "text/plain": "<cassini.ipygui.WHTML at 0x206ccaa6f60>"
         },
         "metadata": {},
         "output_type": "display_data"
        }
       ]
      }
     },
     "9bad52398dfe4e48adf3b343fc7aa55d": {
      "model_module": "@jupyter-widgets/controls",
      "model_module_version": "1.5.0",
      "model_name": "ButtonModel",
      "state": {
       "description": "Clear",
       "layout": "IPY_MODEL_d02e8edaa86b4627bb722cac18be7cbd",
       "style": "IPY_MODEL_837770c7cf2f4b3cb986b4d5c9b9bd11"
      }
     },
     "9c0e0bf52cd94749815afedc781b7420": {
      "model_module": "@jupyter-widgets/controls",
      "model_module_version": "1.5.0",
      "model_name": "ButtonStyleModel",
      "state": {}
     },
     "9d004a74b23c4dee81b387f93c1df1d2": {
      "model_module": "@jupyter-widgets/base",
      "model_module_version": "1.2.0",
      "model_name": "LayoutModel",
      "state": {}
     },
     "9d55115ae6d44bd799b1ed0d0086b2a1": {
      "model_module": "@jupyter-widgets/controls",
      "model_module_version": "1.5.0",
      "model_name": "ButtonModel",
      "state": {
       "description": "New",
       "layout": "IPY_MODEL_95e04e7d447343d48f02f9e7cc45f3a8",
       "style": "IPY_MODEL_9064c45c83c3491fa4cbf86c2fb2c6dd"
      }
     },
     "9e7dfb3f306548eb8e2dc9db6ad218f0": {
      "model_module": "@jupyter-widgets/base",
      "model_module_version": "1.2.0",
      "model_name": "LayoutModel",
      "state": {}
     },
     "9f810616756644bfb8ce11616e735e42": {
      "model_module": "@jupyter-widgets/base",
      "model_module_version": "1.2.0",
      "model_name": "LayoutModel",
      "state": {}
     },
     "a0a084942aff4295bfc52452030b62cc": {
      "model_module": "@jupyter-widgets/controls",
      "model_module_version": "1.5.0",
      "model_name": "DescriptionStyleModel",
      "state": {
       "description_width": "10%"
      }
     },
     "a1196e9669914184b6d68b932e1fa46a": {
      "model_module": "@jupyter-widgets/base",
      "model_module_version": "1.2.0",
      "model_name": "LayoutModel",
      "state": {}
     },
     "a1245b430da24eefa3167d6824d74348": {
      "model_module": "@jupyter-widgets/base",
      "model_module_version": "1.2.0",
      "model_name": "LayoutModel",
      "state": {}
     },
     "a16dd1968067417f874ecb1fbe79e92d": {
      "model_module": "@jupyter-widgets/output",
      "model_module_version": "1.0.0",
      "model_name": "OutputModel",
      "state": {
       "layout": "IPY_MODEL_0c2bcb8c62db451ebb61ec2e48c7db70",
       "outputs": [
        {
         "data": {
          "text/html": "<h3>New WorkPackage</h3>",
          "text/plain": "<cassini.ipygui.WHTML at 0x206cc8c5d68>"
         },
         "metadata": {},
         "output_type": "display_data"
        }
       ]
      }
     },
     "a1bdaa3b824748fd89d146b7f7447f53": {
      "model_module": "@jupyter-widgets/controls",
      "model_module_version": "1.5.0",
      "model_name": "DescriptionStyleModel",
      "state": {
       "description_width": "10%"
      }
     },
     "a2635fe9b8684653ab76e61d6a2a6260": {
      "model_module": "@jupyter-widgets/controls",
      "model_module_version": "1.5.0",
      "model_name": "ButtonModel",
      "state": {
       "description": "New",
       "layout": "IPY_MODEL_2ff5b0b605a24d319e02089ede85fbfa",
       "style": "IPY_MODEL_fb473c095491492eb08950e4eaf44782"
      }
     },
     "a27aebc5cd8740df98604e413bab674c": {
      "model_module": "@jupyter-widgets/controls",
      "model_module_version": "1.5.0",
      "model_name": "ButtonModel",
      "state": {
       "description": "Confirm",
       "disabled": true,
       "layout": "IPY_MODEL_dddbad29529d4441a2f68f27d5138a1c",
       "style": "IPY_MODEL_24cd351f87d74be39d44a46850687a1b"
      }
     },
     "a2d13c4c584e4a5c9b18cf47a2f98ec6": {
      "model_module": "@jupyter-widgets/output",
      "model_module_version": "1.0.0",
      "model_name": "OutputModel",
      "state": {
       "layout": "IPY_MODEL_8867c663533b47d7a19b12180d89638c",
       "outputs": [
        {
         "data": {
          "text/html": "<h1 style=\"display: inline;\"><a href=\"Home.ipynb\">Home</a></h1><h3 style=\"display: inline;\"></h3>",
          "text/plain": "<cassini.ipygui.WHTML at 0x206ccab2cc0>"
         },
         "metadata": {},
         "output_type": "display_data"
        }
       ]
      }
     },
     "a3a34154443949ec8bbfe52a2512f96d": {
      "model_module": "@jupyter-widgets/controls",
      "model_module_version": "1.5.0",
      "model_name": "ButtonModel",
      "state": {
       "description": "Search",
       "layout": "IPY_MODEL_732b7376df3c4e599a0b1848c434b440",
       "style": "IPY_MODEL_a574954526e24129b1d3078126de8892"
      }
     },
     "a4d8aed8d55641b89a590f35d6eee004": {
      "model_module": "@jupyter-widgets/base",
      "model_module_version": "1.2.0",
      "model_name": "LayoutModel",
      "state": {}
     },
     "a574954526e24129b1d3078126de8892": {
      "model_module": "@jupyter-widgets/controls",
      "model_module_version": "1.5.0",
      "model_name": "ButtonStyleModel",
      "state": {}
     },
     "a6bd516331b44227966f89d74b0a4e8e": {
      "model_module": "@jupyter-widgets/output",
      "model_module_version": "1.0.0",
      "model_name": "OutputModel",
      "state": {
       "layout": "IPY_MODEL_2a2553c0efd24011a1aac0b1d225e131",
       "outputs": [
        {
         "data": {
          "text/html": "<h3>WorkPackages</h3>",
          "text/plain": "<cassini.ipygui.WHTML at 0x206cc8694a8>"
         },
         "metadata": {},
         "output_type": "display_data"
        }
       ]
      }
     },
     "a6c5b2e5fd2e4343a99c245f3169532b": {
      "model_module": "@jupyter-widgets/controls",
      "model_module_version": "1.5.0",
      "model_name": "ButtonStyleModel",
      "state": {}
     },
     "a72378ac8829468885e1aad6e87bc805": {
      "model_module": "@jupyter-widgets/base",
      "model_module_version": "1.2.0",
      "model_name": "LayoutModel",
      "state": {}
     },
     "a7ba19132fc448ae89f56347b1816c77": {
      "model_module": "@jupyter-widgets/base",
      "model_module_version": "1.2.0",
      "model_name": "LayoutModel",
      "state": {
       "width": "auto"
      }
     },
     "a7eb23483a9143bd9be55b1be6364bb9": {
      "model_module": "@jupyter-widgets/controls",
      "model_module_version": "1.5.0",
      "model_name": "ButtonStyleModel",
      "state": {}
     },
     "a89d437b117c4adbad98dad8279ec328": {
      "model_module": "@jupyter-widgets/output",
      "model_module_version": "1.0.0",
      "model_name": "OutputModel",
      "state": {
       "layout": "IPY_MODEL_d90180ee30e7478091ebdb544e2ad582"
      }
     },
     "a8a8cafb7ef942afac245c6657ee0874": {
      "model_module": "@jupyter-widgets/controls",
      "model_module_version": "1.5.0",
      "model_name": "TextModel",
      "state": {
       "description": "Identifier",
       "layout": "IPY_MODEL_e984a5ce10f849f7bc4c5d70a659ce66",
       "placeholder": "(\\d+)",
       "style": "IPY_MODEL_02119574e3244a609c3c28307d37d2bb"
      }
     },
     "a96206c940c54874bcfbc16c0def6a14": {
      "model_module": "@jupyter-widgets/base",
      "model_module_version": "1.2.0",
      "model_name": "LayoutModel",
      "state": {}
     },
     "aa7677bfc70e4a93af9449dc0cc65133": {
      "model_module": "@jupyter-widgets/controls",
      "model_module_version": "1.5.0",
      "model_name": "VBoxModel",
      "state": {
       "children": [
        "IPY_MODEL_efecb5160e23466aa481df370a36ec93",
        "IPY_MODEL_e46d872764ab438cad05f1639eb5fbde",
        "IPY_MODEL_02aaf69aca164a4dafa5862317a32f65",
        "IPY_MODEL_ac0fc21e0561464b83b867c4a7f1e21e",
        "IPY_MODEL_872712ff2575499c81341ec160bcacfb"
       ],
       "layout": "IPY_MODEL_239d0a93af3e4523831ad3ba4aa92b7f"
      }
     },
     "aaab475ecf9d498884047b3e909acaad": {
      "model_module": "@jupyter-widgets/controls",
      "model_module_version": "1.5.0",
      "model_name": "ButtonStyleModel",
      "state": {}
     },
     "aac5ed752b2846e780026fbedd0cfcda": {
      "model_module": "@jupyter-widgets/base",
      "model_module_version": "1.2.0",
      "model_name": "LayoutModel",
      "state": {
       "width": "auto"
      }
     },
     "ac0fc21e0561464b83b867c4a7f1e21e": {
      "model_module": "@jupyter-widgets/controls",
      "model_module_version": "1.5.0",
      "model_name": "HBoxModel",
      "state": {
       "children": [
        "IPY_MODEL_a27aebc5cd8740df98604e413bab674c",
        "IPY_MODEL_f5dccccacfde4851ac2b019ac2c84026"
       ],
       "layout": "IPY_MODEL_e26519eaed6743aca42fcac2e35c8621"
      }
     },
     "ac8e5013ebbe491a892fd4b9f15f89f1": {
      "model_module": "@jupyter-widgets/controls",
      "model_module_version": "1.5.0",
      "model_name": "ButtonStyleModel",
      "state": {}
     },
     "acf391936c024d0b8325bd39685c3594": {
      "model_module": "@jupyter-widgets/base",
      "model_module_version": "1.2.0",
      "model_name": "LayoutModel",
      "state": {}
     },
     "ad319a1a4dd247c78eb68c5958a7757a": {
      "model_module": "@jupyter-widgets/base",
      "model_module_version": "1.2.0",
      "model_name": "LayoutModel",
      "state": {}
     },
     "adf5b64f36614c8d84d5635484cfa625": {
      "model_module": "@jupyter-widgets/base",
      "model_module_version": "1.2.0",
      "model_name": "LayoutModel",
      "state": {
       "width": "auto"
      }
     },
     "ae8e15f18a9e4059965099ac4169804d": {
      "model_module": "@jupyter-widgets/base",
      "model_module_version": "1.2.0",
      "model_name": "LayoutModel",
      "state": {}
     },
     "af6a33a51f7a461aa06b8ab0f96f1dcf": {
      "model_module": "@jupyter-widgets/output",
      "model_module_version": "1.0.0",
      "model_name": "OutputModel",
      "state": {
       "layout": "IPY_MODEL_11a15912deb14e819224ba5ec880e863",
       "outputs": [
        {
         "data": {
          "text/html": "<table border=\"1\" class=\"dataframe\">\n  <thead>\n    <tr style=\"text-align: right;\">\n      <th></th>\n      <th>started</th>\n      <th>description</th>\n      <th>Obj</th>\n    </tr>\n    <tr>\n      <th>Name</th>\n      <th></th>\n      <th></th>\n      <th></th>\n    </tr>\n  </thead>\n  <tbody>\n    <tr>\n      <th>WP1</th>\n      <td>2020-06-29</td>\n      <td>Gobble Gobble</td>\n      <td><a href=\"WorkPackages/WP1.ipynb\" target=\"_blank\"><h2 style=\"display: inline;\">WP1</h2 style=\"display: inline;\"</a></td>\n    </tr>\n    <tr>\n      <th>WP4</th>\n      <td>2020-06-29</td>\n      <td>Big aim</td>\n      <td><a href=\"WorkPackages/WP4.ipynb\" target=\"_blank\"><h2 style=\"display: inline;\">WP4</h2 style=\"display: inline;\"</a></td>\n    </tr>\n  </tbody>\n</table>",
          "text/plain": "        started    description                  Obj\nName                                               \nWP1  2020-06-29  Gobble Gobble  <WorkPackage \"WP1\">\nWP4  2020-06-29        Big aim  <WorkPackage \"WP4\">"
         },
         "metadata": {},
         "output_type": "display_data"
        }
       ]
      }
     },
     "b00afc1a0e7f4a499c03227a78a345c1": {
      "model_module": "@jupyter-widgets/base",
      "model_module_version": "1.2.0",
      "model_name": "LayoutModel",
      "state": {}
     },
     "b1675184e4bf44a99bb92eb3ae62eace": {
      "model_module": "@jupyter-widgets/controls",
      "model_module_version": "1.5.0",
      "model_name": "VBoxModel",
      "state": {
       "children": [
        "IPY_MODEL_e08afa56cad44bd2ae0e361cb023d5dc",
        "IPY_MODEL_9488be87313848d9b9e5f069f2f21c3d",
        "IPY_MODEL_7dcce2233a9b44be876222608d3bdbe8",
        "IPY_MODEL_35b54cbdfad44b7db310b8d01e2d93b0",
        "IPY_MODEL_5accbb276af94f87b6e4589e8cf7e409",
        "IPY_MODEL_685aae4bdc5d487a812808534b052eda",
        "IPY_MODEL_aa7677bfc70e4a93af9449dc0cc65133"
       ],
       "layout": "IPY_MODEL_612fd42b05074aaca8a9b83110f2604b"
      }
     },
     "b2156eb2e0bd47c39e5356fff4b97c3c": {
      "model_module": "@jupyter-widgets/base",
      "model_module_version": "1.2.0",
      "model_name": "LayoutModel",
      "state": {}
     },
     "b38779fae738451aab6545df24d96b26": {
      "model_module": "@jupyter-widgets/base",
      "model_module_version": "1.2.0",
      "model_name": "LayoutModel",
      "state": {}
     },
     "b3fc4e533d9a4a8386ad3ea80ffac658": {
      "model_module": "@jupyter-widgets/controls",
      "model_module_version": "1.5.0",
      "model_name": "ButtonModel",
      "state": {
       "description": "Search",
       "layout": "IPY_MODEL_f6680b87b30f4222adae5fd7f89e19ce",
       "style": "IPY_MODEL_044cc701d78947b7a4bb754ca5feb59d"
      }
     },
     "b53a9862a833491097142704d96cd285": {
      "model_module": "@jupyter-widgets/base",
      "model_module_version": "1.2.0",
      "model_name": "LayoutModel",
      "state": {}
     },
     "b777909fdfa848828e7e1846031ea4a3": {
      "model_module": "@jupyter-widgets/base",
      "model_module_version": "1.2.0",
      "model_name": "LayoutModel",
      "state": {}
     },
     "b8463dfae638486d91ef91d33e002a35": {
      "model_module": "@jupyter-widgets/controls",
      "model_module_version": "1.5.0",
      "model_name": "ButtonStyleModel",
      "state": {}
     },
     "b8e6ea0b2ad54be4b555eef182133ce3": {
      "model_module": "@jupyter-widgets/controls",
      "model_module_version": "1.5.0",
      "model_name": "ButtonModel",
      "state": {
       "description": "Clear",
       "layout": "IPY_MODEL_17f9f80d53ed4e4694c5debe30af6d63",
       "style": "IPY_MODEL_e7394f0c8e4e417395b318d5f49063a5"
      }
     },
     "bb7c8b1fad334a8f9024e469ac030de2": {
      "model_module": "@jupyter-widgets/base",
      "model_module_version": "1.2.0",
      "model_name": "LayoutModel",
      "state": {
       "width": "auto"
      }
     },
     "bc057bcd86b640299acb9feb134b87cf": {
      "model_module": "@jupyter-widgets/controls",
      "model_module_version": "1.5.0",
      "model_name": "HBoxModel",
      "state": {
       "children": [
        "IPY_MODEL_8954e4122cef4b688ea3a33a4776bab4",
        "IPY_MODEL_c8fb5e32cdcd4055a4b396afd247fef0"
       ],
       "layout": "IPY_MODEL_f3c238698b944f27bcb4d993c56b3bbc"
      }
     },
     "bc90b9f6a7d04f97aee320a698ab9d4b": {
      "model_module": "@jupyter-widgets/controls",
      "model_module_version": "1.5.0",
      "model_name": "DescriptionStyleModel",
      "state": {
       "description_width": ""
      }
     },
     "bccebeaab8bb441b91d590b43567ed29": {
      "model_module": "@jupyter-widgets/base",
      "model_module_version": "1.2.0",
      "model_name": "LayoutModel",
      "state": {}
     },
     "bcea84dbf98d4fdb9ef98eecdd096d99": {
      "model_module": "@jupyter-widgets/base",
      "model_module_version": "1.2.0",
      "model_name": "LayoutModel",
      "state": {}
     },
     "bd61c936845247a38943060afd4b4e48": {
      "model_module": "@jupyter-widgets/controls",
      "model_module_version": "1.5.0",
      "model_name": "ButtonModel",
      "state": {
       "description": "Confirm",
       "disabled": true,
       "layout": "IPY_MODEL_9f810616756644bfb8ce11616e735e42",
       "style": "IPY_MODEL_e0b2cd2c0de343819317e8fbfc75ed04"
      }
     },
     "bfd4b6a59b154b8986ddf48dd8c4abf7": {
      "model_module": "@jupyter-widgets/output",
      "model_module_version": "1.0.0",
      "model_name": "OutputModel",
      "state": {
       "layout": "IPY_MODEL_4bbb87a37ebe490c97a16adb1eb4c2dd"
      }
     },
     "c0612964e7cd49eb8e7e4e381f19723d": {
      "model_module": "@jupyter-widgets/controls",
      "model_module_version": "1.5.0",
      "model_name": "DescriptionStyleModel",
      "state": {
       "description_width": ""
      }
     },
     "c123dd7ffa9b475ebf4ff3239a269acb": {
      "model_module": "@jupyter-widgets/base",
      "model_module_version": "1.2.0",
      "model_name": "LayoutModel",
      "state": {
       "width": "auto"
      }
     },
     "c2268781f89a4ccf8b8995489e5e53a1": {
      "model_module": "@jupyter-widgets/output",
      "model_module_version": "1.0.0",
      "model_name": "OutputModel",
      "state": {
       "layout": "IPY_MODEL_5d50b3cdf97d4de2b7220db189ba278f",
       "outputs": [
        {
         "data": {
          "text/html": "<h3>WorkPackages</h3>",
          "text/plain": "<cassini.ipygui.WHTML at 0x206cc869828>"
         },
         "metadata": {},
         "output_type": "display_data"
        }
       ]
      }
     },
     "c25998c29a794aa8b4a31d294860f78f": {
      "model_module": "@jupyter-widgets/controls",
      "model_module_version": "1.5.0",
      "model_name": "DescriptionStyleModel",
      "state": {
       "description_width": "10%"
      }
     },
     "c26eddeabe214f93897ffb65ea2f527d": {
      "model_module": "@jupyter-widgets/output",
      "model_module_version": "1.0.0",
      "model_name": "OutputModel",
      "state": {
       "layout": "IPY_MODEL_733da861bf9a4312b6bdc6c651a9bea9"
      }
     },
     "c2832f56eb63471e8caf2c0aad895f41": {
      "model_module": "@jupyter-widgets/controls",
      "model_module_version": "1.5.0",
      "model_name": "ButtonStyleModel",
      "state": {}
     },
     "c38e3663cb7d4979a213a7ab81329e7d": {
      "model_module": "@jupyter-widgets/controls",
      "model_module_version": "1.5.0",
      "model_name": "SelectModel",
      "state": {
       "_options_labels": [
        "WorkPackage.tmplt.ipynb"
       ],
       "description": "Template",
       "index": 0,
       "layout": "IPY_MODEL_12418430e1514319bd56b8bedeec419d",
       "style": "IPY_MODEL_298ccf5839cb47aabf5f0c5cf7ce3671"
      }
     },
     "c3c7ccd7779341ebb220502a2422b97e": {
      "model_module": "@jupyter-widgets/base",
      "model_module_version": "1.2.0",
      "model_name": "LayoutModel",
      "state": {}
     },
     "c487fd2992d94318b8dfbd1ccafcac96": {
      "model_module": "@jupyter-widgets/controls",
      "model_module_version": "1.5.0",
      "model_name": "VBoxModel",
      "state": {
       "children": [
        "IPY_MODEL_9817fc8005d84cf69b853b5b41023ab0",
        "IPY_MODEL_7b5be5ffd0f94ac495908203af26f94b"
       ],
       "layout": "IPY_MODEL_0d6906e43b1242e1bc2f973f0a328e90"
      }
     },
     "c4b6ef7ed0214db888a91d1a297628e2": {
      "model_module": "@jupyter-widgets/controls",
      "model_module_version": "1.5.0",
      "model_name": "ButtonModel",
      "state": {
       "description": "Folder",
       "layout": "IPY_MODEL_d8ba6e3a4e1948049062ff4a6b556c0a",
       "style": "IPY_MODEL_2e134312d9d64e64a924c0ac7016783c"
      }
     },
     "c65018936d1e421d8150c59d42d63eb0": {
      "model_module": "@jupyter-widgets/output",
      "model_module_version": "1.0.0",
      "model_name": "OutputModel",
      "state": {
       "layout": "IPY_MODEL_4d3622be7f4e4a3a9a81bd81a63f4b6e",
       "outputs": [
        {
         "data": {
          "text/html": "<table border=\"1\" class=\"dataframe\">\n  <thead>\n    <tr style=\"text-align: right;\">\n      <th></th>\n      <th>started</th>\n      <th>description</th>\n      <th>Obj</th>\n    </tr>\n    <tr>\n      <th>Name</th>\n      <th></th>\n      <th></th>\n      <th></th>\n    </tr>\n  </thead>\n  <tbody>\n    <tr>\n      <th>WP1</th>\n      <td>2020-06-29</td>\n      <td>Gobble Gobble</td>\n      <td><a href=\"WorkPackages/WP1.ipynb\" target=\"_blank\"><h2 style=\"display: inline;\">WP1</h2 style=\"display: inline;\"</a></td>\n    </tr>\n    <tr>\n      <th>WP4</th>\n      <td>2020-06-29</td>\n      <td>Big aim</td>\n      <td><a href=\"WorkPackages/WP4.ipynb\" target=\"_blank\"><h2 style=\"display: inline;\">WP4</h2 style=\"display: inline;\"</a></td>\n    </tr>\n  </tbody>\n</table>",
          "text/plain": "        started    description                  Obj\nName                                               \nWP1  2020-06-29  Gobble Gobble  <WorkPackage \"WP1\">\nWP4  2020-06-29        Big aim  <WorkPackage \"WP4\">"
         },
         "metadata": {},
         "output_type": "display_data"
        }
       ]
      }
     },
     "c65f85de13014d74a1ca641ca835d8c7": {
      "model_module": "@jupyter-widgets/controls",
      "model_module_version": "1.5.0",
      "model_name": "ButtonStyleModel",
      "state": {}
     },
     "c69831c5e96f434ba07d6c31526f55c2": {
      "model_module": "@jupyter-widgets/output",
      "model_module_version": "1.0.0",
      "model_name": "OutputModel",
      "state": {
       "layout": "IPY_MODEL_8ea4b1682066463285788b7ab1089d7d",
       "outputs": [
        {
         "data": {
          "text/html": "<h1 style=\"display: inline;\"><a href=\"Home.ipynb\">Home</a></h1><h3 style=\"display: inline;\"></h3>",
          "text/plain": "<cassini.ipygui.WHTML at 0x206cc9b0f60>"
         },
         "metadata": {},
         "output_type": "display_data"
        }
       ]
      }
     },
     "c69d15dba7e04d249a624dccf0d0fc10": {
      "model_module": "@jupyter-widgets/controls",
      "model_module_version": "1.5.0",
      "model_name": "ButtonModel",
      "state": {
       "description": "Folder",
       "layout": "IPY_MODEL_bcea84dbf98d4fdb9ef98eecdd096d99",
       "style": "IPY_MODEL_aaab475ecf9d498884047b3e909acaad"
      }
     },
     "c761f0786c2e4e579ba6bc89d068c589": {
      "model_module": "@jupyter-widgets/controls",
      "model_module_version": "1.5.0",
      "model_name": "ButtonModel",
      "state": {
       "description": "Folder",
       "layout": "IPY_MODEL_a1196e9669914184b6d68b932e1fa46a",
       "style": "IPY_MODEL_22f89a700c364d4980772f22e02ca485"
      }
     },
     "c84303c1b8114f60bcd9dc3f6580fb43": {
      "model_module": "@jupyter-widgets/controls",
      "model_module_version": "1.5.0",
      "model_name": "ButtonModel",
      "state": {
       "description": "Search",
       "layout": "IPY_MODEL_632c8bb0f2d74709b6d8f20cf64e7c24",
       "style": "IPY_MODEL_23e6a180755c42babb22e07c1f9135f9"
      }
     },
     "c8fb5e32cdcd4055a4b396afd247fef0": {
      "model_module": "@jupyter-widgets/controls",
      "model_module_version": "1.5.0",
      "model_name": "ButtonModel",
      "state": {
       "description": "New",
       "layout": "IPY_MODEL_ce1e4542923a4587b4d7f6a63bb0ba01",
       "style": "IPY_MODEL_c2832f56eb63471e8caf2c0aad895f41"
      }
     },
     "ca794d92e25e406bb5e84e152f3023e4": {
      "model_module": "@jupyter-widgets/output",
      "model_module_version": "1.0.0",
      "model_name": "OutputModel",
      "state": {
       "layout": "IPY_MODEL_0692895f584d4a768f30ab483a904b11",
       "outputs": [
        {
         "data": {
          "text/html": "<h3>New WorkPackage</h3>",
          "text/plain": "<cassini.ipygui.WHTML at 0x206cc9bb898>"
         },
         "metadata": {},
         "output_type": "display_data"
        }
       ]
      }
     },
     "cac3c5e18e954c39964006499347b080": {
      "model_module": "@jupyter-widgets/controls",
      "model_module_version": "1.5.0",
      "model_name": "ButtonStyleModel",
      "state": {}
     },
     "cae208e9e635462cb89f1b30b57f4de7": {
      "model_module": "@jupyter-widgets/controls",
      "model_module_version": "1.5.0",
      "model_name": "ButtonStyleModel",
      "state": {}
     },
     "cb9f4224222645fa86653853012e2b9e": {
      "model_module": "@jupyter-widgets/controls",
      "model_module_version": "1.5.0",
      "model_name": "ButtonStyleModel",
      "state": {}
     },
     "ccbffa30ceb84bfbb9ebb9da73da1828": {
      "model_module": "@jupyter-widgets/base",
      "model_module_version": "1.2.0",
      "model_name": "LayoutModel",
      "state": {}
     },
     "cd64f4ad89534abab3fb9a17491c43f1": {
      "model_module": "@jupyter-widgets/base",
      "model_module_version": "1.2.0",
      "model_name": "LayoutModel",
      "state": {}
     },
     "cd82c3ce50454912a6346a64b219fddf": {
      "model_module": "@jupyter-widgets/controls",
      "model_module_version": "1.5.0",
      "model_name": "VBoxModel",
      "state": {
       "children": [
        "IPY_MODEL_101e6e16562a48b581a16e37c20cde29",
        "IPY_MODEL_01b76fc5264f4498bcdbeb0a2deb3978",
        "IPY_MODEL_12f78d41979a44d9ba0b02f89404391d",
        "IPY_MODEL_6aed8113ed974d3dac463e2781dbe9b0",
        "IPY_MODEL_7b40b29e37d94513b85b922a820a9bb6"
       ],
       "layout": "IPY_MODEL_a96206c940c54874bcfbc16c0def6a14"
      }
     },
     "cd91df6880b14668887dc5c992763ed9": {
      "model_module": "@jupyter-widgets/controls",
      "model_module_version": "1.5.0",
      "model_name": "HBoxModel",
      "state": {
       "children": [
        "IPY_MODEL_79a818fc53d84136a853e748dbb208cd",
        "IPY_MODEL_b3fc4e533d9a4a8386ad3ea80ffac658",
        "IPY_MODEL_b8e6ea0b2ad54be4b555eef182133ce3"
       ],
       "layout": "IPY_MODEL_dffbc31ad5ec4d3b81dac5a8372b9ed6"
      }
     },
     "ce1e4542923a4587b4d7f6a63bb0ba01": {
      "model_module": "@jupyter-widgets/base",
      "model_module_version": "1.2.0",
      "model_name": "LayoutModel",
      "state": {}
     },
     "d02e8edaa86b4627bb722cac18be7cbd": {
      "model_module": "@jupyter-widgets/base",
      "model_module_version": "1.2.0",
      "model_name": "LayoutModel",
      "state": {}
     },
     "d1d735b10d024e46921c1a61e8a3832d": {
      "model_module": "@jupyter-widgets/base",
      "model_module_version": "1.2.0",
      "model_name": "LayoutModel",
      "state": {}
     },
     "d2520c5967e946d09c7f623573b448ab": {
      "model_module": "@jupyter-widgets/controls",
      "model_module_version": "1.5.0",
      "model_name": "ButtonStyleModel",
      "state": {}
     },
     "d263cc7836d64b47871925385ad1e629": {
      "model_module": "@jupyter-widgets/controls",
      "model_module_version": "1.5.0",
      "model_name": "ButtonStyleModel",
      "state": {}
     },
     "d2d47ba6eb134dabadcb4a570c6ebacd": {
      "model_module": "@jupyter-widgets/base",
      "model_module_version": "1.2.0",
      "model_name": "LayoutModel",
      "state": {}
     },
     "d35f153acb6847298bc9f36716e8fa51": {
      "model_module": "@jupyter-widgets/controls",
      "model_module_version": "1.5.0",
      "model_name": "TextareaModel",
      "state": {
       "description": "Motivation",
       "layout": "IPY_MODEL_6cd5f863572345d180fb86aed84dac67",
       "style": "IPY_MODEL_83a3297e17d5444891145fa54bbf52f4"
      }
     },
     "d40e54a7e8054defa835cf54c7360cff": {
      "model_module": "@jupyter-widgets/output",
      "model_module_version": "1.0.0",
      "model_name": "OutputModel",
      "state": {
       "layout": "IPY_MODEL_966d7e8a29164d92a3fcd1ed995a2ef5"
      }
     },
     "d4b1b67d30734c0d800b27d158b56a3c": {
      "model_module": "@jupyter-widgets/controls",
      "model_module_version": "1.5.0",
      "model_name": "ButtonModel",
      "state": {
       "description": "Folder",
       "layout": "IPY_MODEL_d2d47ba6eb134dabadcb4a570c6ebacd",
       "style": "IPY_MODEL_1a6f9776c9ea48c5920e2b9f5c351532"
      }
     },
     "d6754d66419b43b49492161d467d659d": {
      "model_module": "@jupyter-widgets/base",
      "model_module_version": "1.2.0",
      "model_name": "LayoutModel",
      "state": {}
     },
     "d6fc1deebb1348e19b16bef9d8bc3a56": {
      "model_module": "@jupyter-widgets/base",
      "model_module_version": "1.2.0",
      "model_name": "LayoutModel",
      "state": {}
     },
     "d75f321032cf4e72a3656d673415ecbf": {
      "model_module": "@jupyter-widgets/base",
      "model_module_version": "1.2.0",
      "model_name": "LayoutModel",
      "state": {}
     },
     "d7dd98c6a995431f844949083a452859": {
      "model_module": "@jupyter-widgets/base",
      "model_module_version": "1.2.0",
      "model_name": "LayoutModel",
      "state": {}
     },
     "d86739d88fc3451aa1ad0d1bfe4a5aeb": {
      "model_module": "@jupyter-widgets/base",
      "model_module_version": "1.2.0",
      "model_name": "LayoutModel",
      "state": {}
     },
     "d86c4728b36745e79fbd89a1d0625fbc": {
      "model_module": "@jupyter-widgets/base",
      "model_module_version": "1.2.0",
      "model_name": "LayoutModel",
      "state": {}
     },
     "d898b20af5d048ecb5e0a42c1666fdc6": {
      "model_module": "@jupyter-widgets/base",
      "model_module_version": "1.2.0",
      "model_name": "LayoutModel",
      "state": {
       "width": "auto"
      }
     },
     "d8ba6e3a4e1948049062ff4a6b556c0a": {
      "model_module": "@jupyter-widgets/base",
      "model_module_version": "1.2.0",
      "model_name": "LayoutModel",
      "state": {}
     },
     "d8cdda7477cb4f81ac1baa6d1bb288ad": {
      "model_module": "@jupyter-widgets/base",
      "model_module_version": "1.2.0",
      "model_name": "LayoutModel",
      "state": {}
     },
     "d90180ee30e7478091ebdb544e2ad582": {
      "model_module": "@jupyter-widgets/base",
      "model_module_version": "1.2.0",
      "model_name": "LayoutModel",
      "state": {}
     },
     "daef222f4edf45ffaa1dadb7abaac74f": {
      "model_module": "@jupyter-widgets/controls",
      "model_module_version": "1.5.0",
      "model_name": "VBoxModel",
      "state": {
       "children": [
        "IPY_MODEL_e8681e48af4b45fb85075379dd5da264",
        "IPY_MODEL_e202a91188884014a8c1072f3e47fd89",
        "IPY_MODEL_effe9b6971434f38aba652ccde437cae",
        "IPY_MODEL_c2268781f89a4ccf8b8995489e5e53a1",
        "IPY_MODEL_e32cb2e6bbce462dadd12471b9e8150b",
        "IPY_MODEL_8b067c40b3f94ff9aa856ec7b52af49e",
        "IPY_MODEL_dbbe7020fc054c9baaa81b2f60a22e73"
       ],
       "layout": "IPY_MODEL_24c9c4cda2b9404d96a62b40d730f5ea"
      }
     },
     "db00448424ca4301890010638cc1d7d8": {
      "model_module": "@jupyter-widgets/base",
      "model_module_version": "1.2.0",
      "model_name": "LayoutModel",
      "state": {}
     },
     "dbbe7020fc054c9baaa81b2f60a22e73": {
      "model_module": "@jupyter-widgets/controls",
      "model_module_version": "1.5.0",
      "model_name": "VBoxModel",
      "state": {
       "children": [
        "IPY_MODEL_48c0842284ba4ddca819ac8ad4393d24",
        "IPY_MODEL_129677f26f9a4d7cb9f80f34f1a2acc6",
        "IPY_MODEL_47f030adf7704bdc983f7a69ac2b3f7c",
        "IPY_MODEL_3e7d415f6a4942f79a76d47000b068cf",
        "IPY_MODEL_ea93bffcdeb74b3b8f3ffdd87302c7c1"
       ],
       "layout": "IPY_MODEL_f4fee93c210a4609b781ae661216ab1f"
      }
     },
     "dc30105f7fcc4f6d9726be3030d52cd0": {
      "model_module": "@jupyter-widgets/controls",
      "model_module_version": "1.5.0",
      "model_name": "HBoxModel",
      "state": {
       "children": [
        "IPY_MODEL_0acf24bc8a5a4e44a5f1007a247b0fd9",
        "IPY_MODEL_dcfbefe18fe14cf6bf320ee6474cc6fe",
        "IPY_MODEL_0b1751bb839e4ede921ae0775e0447c6"
       ],
       "layout": "IPY_MODEL_81452bffbdd84fb2a6a1706b72b0f539"
      }
     },
     "dc8ce7854e854d7faacfee1d1b5081d8": {
      "model_module": "@jupyter-widgets/controls",
      "model_module_version": "1.5.0",
      "model_name": "HBoxModel",
      "state": {
       "children": [
        "IPY_MODEL_1fbcba291ea849ecba44fa0d37bc3cef",
        "IPY_MODEL_9d55115ae6d44bd799b1ed0d0086b2a1"
       ],
       "layout": "IPY_MODEL_ad319a1a4dd247c78eb68c5958a7757a"
      }
     },
     "dcfbefe18fe14cf6bf320ee6474cc6fe": {
      "model_module": "@jupyter-widgets/controls",
      "model_module_version": "1.5.0",
      "model_name": "ButtonModel",
      "state": {
       "description": "Search",
       "layout": "IPY_MODEL_3c193307984b45b18b895075a0d74913",
       "style": "IPY_MODEL_b8463dfae638486d91ef91d33e002a35"
      }
     },
     "ddb0c6659e744070a2b62e7bfcdd2343": {
      "model_module": "@jupyter-widgets/output",
      "model_module_version": "1.0.0",
      "model_name": "OutputModel",
      "state": {
       "layout": "IPY_MODEL_bb7c8b1fad334a8f9024e469ac030de2"
      }
     },
     "ddd14fbe0981475699f89c7c67b46273": {
      "model_module": "@jupyter-widgets/controls",
      "model_module_version": "1.5.0",
      "model_name": "TextModel",
      "state": {
       "continuous_update": false,
       "layout": "IPY_MODEL_74b672cbeb854cf9ac660d3e1aa6bef5",
       "placeholder": "Name",
       "style": "IPY_MODEL_bc90b9f6a7d04f97aee320a698ab9d4b"
      }
     },
     "dddbad29529d4441a2f68f27d5138a1c": {
      "model_module": "@jupyter-widgets/base",
      "model_module_version": "1.2.0",
      "model_name": "LayoutModel",
      "state": {}
     },
     "de42f27eb2e44a45ac79e97617c92003": {
      "model_module": "@jupyter-widgets/base",
      "model_module_version": "1.2.0",
      "model_name": "LayoutModel",
      "state": {}
     },
     "de89820dae684ccead92d0a871fded28": {
      "model_module": "@jupyter-widgets/base",
      "model_module_version": "1.2.0",
      "model_name": "LayoutModel",
      "state": {}
     },
     "df66aaa0adc04a18a318cb3a2977111e": {
      "model_module": "@jupyter-widgets/base",
      "model_module_version": "1.2.0",
      "model_name": "LayoutModel",
      "state": {}
     },
     "dffbc31ad5ec4d3b81dac5a8372b9ed6": {
      "model_module": "@jupyter-widgets/base",
      "model_module_version": "1.2.0",
      "model_name": "LayoutModel",
      "state": {}
     },
     "e08afa56cad44bd2ae0e361cb023d5dc": {
      "model_module": "@jupyter-widgets/controls",
      "model_module_version": "1.5.0",
      "model_name": "VBoxModel",
      "state": {
       "children": [
        "IPY_MODEL_a2d13c4c584e4a5c9b18cf47a2f98ec6",
        "IPY_MODEL_68042c137850494084c88bfa940fe942"
       ],
       "layout": "IPY_MODEL_3d4bf7c18b094c2b8d0a6e041becc889"
      }
     },
     "e0b2cd2c0de343819317e8fbfc75ed04": {
      "model_module": "@jupyter-widgets/controls",
      "model_module_version": "1.5.0",
      "model_name": "ButtonStyleModel",
      "state": {}
     },
     "e202a91188884014a8c1072f3e47fd89": {
      "model_module": "@jupyter-widgets/output",
      "model_module_version": "1.0.0",
      "model_name": "OutputModel",
      "state": {
       "layout": "IPY_MODEL_f0f823346e974d819af70a41dc69b9fd",
       "outputs": [
        {
         "data": {
          "text/html": "<h3>Search</h3>",
          "text/plain": "<cassini.ipygui.WHTML at 0x206cc8fccc0>"
         },
         "metadata": {},
         "output_type": "display_data"
        }
       ]
      }
     },
     "e26519eaed6743aca42fcac2e35c8621": {
      "model_module": "@jupyter-widgets/base",
      "model_module_version": "1.2.0",
      "model_name": "LayoutModel",
      "state": {}
     },
     "e2ba7ba8559443b597d9f2edb14bdb86": {
      "model_module": "@jupyter-widgets/controls",
      "model_module_version": "1.5.0",
      "model_name": "ButtonModel",
      "state": {
       "description": "New",
       "layout": "IPY_MODEL_cd64f4ad89534abab3fb9a17491c43f1",
       "style": "IPY_MODEL_615f84426db54dfe9c5f74fd14e58459"
      }
     },
     "e2f4c508ca854baeafb3a9c0d7c0253c": {
      "model_module": "@jupyter-widgets/base",
      "model_module_version": "1.2.0",
      "model_name": "LayoutModel",
      "state": {}
     },
     "e32cb2e6bbce462dadd12471b9e8150b": {
      "model_module": "@jupyter-widgets/output",
      "model_module_version": "1.0.0",
      "model_name": "OutputModel",
      "state": {
       "layout": "IPY_MODEL_7782e205c0724aa3bfe2e9768299061b",
       "outputs": [
        {
         "data": {
          "text/html": "<table border=\"1\" class=\"dataframe\">\n  <thead>\n    <tr style=\"text-align: right;\">\n      <th></th>\n      <th>started</th>\n      <th>description</th>\n      <th>Obj</th>\n    </tr>\n    <tr>\n      <th>Name</th>\n      <th></th>\n      <th></th>\n      <th></th>\n    </tr>\n  </thead>\n  <tbody>\n    <tr>\n      <th>WP1</th>\n      <td>2020-06-29</td>\n      <td>Gobble Gobble</td>\n      <td><a href=\"WorkPackages/WP1.ipynb\" target=\"_blank\"><h2 style=\"display: inline;\">WP1</h2 style=\"display: inline;\"</a></td>\n    </tr>\n    <tr>\n      <th>WP4</th>\n      <td>2020-06-29</td>\n      <td>Big aim</td>\n      <td><a href=\"WorkPackages/WP4.ipynb\" target=\"_blank\"><h2 style=\"display: inline;\">WP4</h2 style=\"display: inline;\"</a></td>\n    </tr>\n  </tbody>\n</table>",
          "text/plain": "        started    description                  Obj\nName                                               \nWP1  2020-06-29  Gobble Gobble  <WorkPackage \"WP1\">\nWP4  2020-06-29        Big aim  <WorkPackage \"WP4\">"
         },
         "metadata": {},
         "output_type": "display_data"
        }
       ]
      }
     },
     "e3c55668d232497da12f2dc4ca385ccb": {
      "model_module": "@jupyter-widgets/base",
      "model_module_version": "1.2.0",
      "model_name": "LayoutModel",
      "state": {}
     },
     "e46d872764ab438cad05f1639eb5fbde": {
      "model_module": "@jupyter-widgets/controls",
      "model_module_version": "1.5.0",
      "model_name": "SelectModel",
      "state": {
       "_options_labels": [
        "WorkPackage.tmplt.ipynb"
       ],
       "description": "Template",
       "index": 0,
       "layout": "IPY_MODEL_c123dd7ffa9b475ebf4ff3239a269acb",
       "style": "IPY_MODEL_c25998c29a794aa8b4a31d294860f78f"
      }
     },
     "e4762b1d1349480da3409aafadbdbd01": {
      "model_module": "@jupyter-widgets/controls",
      "model_module_version": "1.5.0",
      "model_name": "ButtonModel",
      "state": {
       "description": "Search",
       "layout": "IPY_MODEL_d6fc1deebb1348e19b16bef9d8bc3a56",
       "style": "IPY_MODEL_a6c5b2e5fd2e4343a99c245f3169532b"
      }
     },
     "e4cc4d1bfa0b4adba138c3a34ad2a2bf": {
      "model_module": "@jupyter-widgets/base",
      "model_module_version": "1.2.0",
      "model_name": "LayoutModel",
      "state": {}
     },
     "e590bf9d42e64404b319c32e6f7023e9": {
      "model_module": "@jupyter-widgets/base",
      "model_module_version": "1.2.0",
      "model_name": "LayoutModel",
      "state": {}
     },
     "e5e644f51a6646baa32ed84fe9e7fcff": {
      "model_module": "@jupyter-widgets/controls",
      "model_module_version": "1.5.0",
      "model_name": "ButtonModel",
      "state": {
       "description": "New",
       "layout": "IPY_MODEL_c3c7ccd7779341ebb220502a2422b97e",
       "style": "IPY_MODEL_c65f85de13014d74a1ca641ca835d8c7"
      }
     },
     "e613ebc17687448a91d4902eea009091": {
      "model_module": "@jupyter-widgets/base",
      "model_module_version": "1.2.0",
      "model_name": "LayoutModel",
      "state": {}
     },
     "e6b36c4d4fcf466caf99625b7addf786": {
      "model_module": "@jupyter-widgets/base",
      "model_module_version": "1.2.0",
      "model_name": "LayoutModel",
      "state": {}
     },
     "e7394f0c8e4e417395b318d5f49063a5": {
      "model_module": "@jupyter-widgets/controls",
      "model_module_version": "1.5.0",
      "model_name": "ButtonStyleModel",
      "state": {}
     },
     "e7e1de3f13ae4549b76132757ae603b3": {
      "model_module": "@jupyter-widgets/controls",
      "model_module_version": "1.5.0",
      "model_name": "ButtonModel",
      "state": {
       "description": "Clear",
       "layout": "IPY_MODEL_d86739d88fc3451aa1ad0d1bfe4a5aeb",
       "style": "IPY_MODEL_2c2a011ba53149e2a2d5f00f732fe475"
      }
     },
     "e84013b4a1464931b0e261b7c637a5b0": {
      "model_module": "@jupyter-widgets/base",
      "model_module_version": "1.2.0",
      "model_name": "LayoutModel",
      "state": {}
     },
     "e8681e48af4b45fb85075379dd5da264": {
      "model_module": "@jupyter-widgets/controls",
      "model_module_version": "1.5.0",
      "model_name": "VBoxModel",
      "state": {
       "children": [
        "IPY_MODEL_79ceb8ad3510466180751b4b62e8a33e",
        "IPY_MODEL_d4b1b67d30734c0d800b27d158b56a3c"
       ],
       "layout": "IPY_MODEL_8e18654026dc4028ba36be655b30bdd6"
      }
     },
     "e8d64da03cbe4db5a0f621911d3f304e": {
      "model_module": "@jupyter-widgets/controls",
      "model_module_version": "1.5.0",
      "model_name": "DescriptionStyleModel",
      "state": {
       "description_width": "10%"
      }
     },
     "e984a5ce10f849f7bc4c5d70a659ce66": {
      "model_module": "@jupyter-widgets/base",
      "model_module_version": "1.2.0",
      "model_name": "LayoutModel",
      "state": {
       "width": "auto"
      }
     },
     "ea6d9eb7ad59490182ca9e9b2cbd0836": {
      "model_module": "@jupyter-widgets/base",
      "model_module_version": "1.2.0",
      "model_name": "LayoutModel",
      "state": {}
     },
     "ea93bffcdeb74b3b8f3ffdd87302c7c1": {
      "model_module": "@jupyter-widgets/output",
      "model_module_version": "1.0.0",
      "model_name": "OutputModel",
      "state": {
       "layout": "IPY_MODEL_7bbc7cb3faa54d1b9c7d7cbc3bb63f52"
      }
     },
     "eac4dc99f35b4c7ab78b365b5ce642b9": {
      "model_module": "@jupyter-widgets/controls",
      "model_module_version": "1.5.0",
      "model_name": "DescriptionStyleModel",
      "state": {
       "description_width": ""
      }
     },
     "eb3e5764a9a3487083218f18a252c575": {
      "model_module": "@jupyter-widgets/base",
      "model_module_version": "1.2.0",
      "model_name": "LayoutModel",
      "state": {
       "width": "auto"
      }
     },
     "ebde02816ca245aaa5f81ff6763d71d4": {
      "model_module": "@jupyter-widgets/output",
      "model_module_version": "1.0.0",
      "model_name": "OutputModel",
      "state": {
       "layout": "IPY_MODEL_4610c668e1ce4cb185440ac2c07dedb8",
       "outputs": [
        {
         "data": {
          "text/html": "<h3>New WorkPackage</h3>",
          "text/plain": "<cassini.ipygui.WHTML at 0x206ccb136a0>"
         },
         "metadata": {},
         "output_type": "display_data"
        }
       ]
      }
     },
     "ebe67c9893d1455789ef103197f426ef": {
      "model_module": "@jupyter-widgets/controls",
      "model_module_version": "1.5.0",
      "model_name": "TextModel",
      "state": {
       "description": "Identifier",
       "layout": "IPY_MODEL_4469a3b97b554433a3b51d53bf1df2c6",
       "placeholder": "(\\d+)",
       "style": "IPY_MODEL_5787e037686b4ee290d6c1f5f45fd052"
      }
     },
     "efecb5160e23466aa481df370a36ec93": {
      "model_module": "@jupyter-widgets/controls",
      "model_module_version": "1.5.0",
      "model_name": "TextModel",
      "state": {
       "description": "Identifier",
       "layout": "IPY_MODEL_d898b20af5d048ecb5e0a42c1666fdc6",
       "placeholder": "(\\d+)",
       "style": "IPY_MODEL_5d2c5b7f03ba42fea1e8c2bd0c794e09"
      }
     },
     "effe9b6971434f38aba652ccde437cae": {
      "model_module": "@jupyter-widgets/controls",
      "model_module_version": "1.5.0",
      "model_name": "VBoxModel",
      "state": {
       "children": [
        "IPY_MODEL_fd61c27d35af4b88a425cd1f87f82998",
        "IPY_MODEL_878f93dc7b924c3aa820e68d8fe648f1"
       ],
       "layout": "IPY_MODEL_66ff59f63d434bdcbc9b87bbe311d3ed"
      }
     },
     "f07f55af0b8f44d8ba6f8ff348541475": {
      "model_module": "@jupyter-widgets/base",
      "model_module_version": "1.2.0",
      "model_name": "LayoutModel",
      "state": {
       "width": "auto"
      }
     },
     "f0b83fb4aac1401a9a60d8089bfe411f": {
      "model_module": "@jupyter-widgets/controls",
      "model_module_version": "1.5.0",
      "model_name": "ButtonModel",
      "state": {
       "description": "Search",
       "layout": "IPY_MODEL_74f2982273f2444494e12bb256d547e7",
       "style": "IPY_MODEL_cac3c5e18e954c39964006499347b080"
      }
     },
     "f0f823346e974d819af70a41dc69b9fd": {
      "model_module": "@jupyter-widgets/base",
      "model_module_version": "1.2.0",
      "model_name": "LayoutModel",
      "state": {}
     },
     "f2758e9e84954616b489fa8e0d0dac82": {
      "model_module": "@jupyter-widgets/base",
      "model_module_version": "1.2.0",
      "model_name": "LayoutModel",
      "state": {}
     },
     "f2bd1d4b169f41fcb045aa2c5817d5df": {
      "model_module": "@jupyter-widgets/controls",
      "model_module_version": "1.5.0",
      "model_name": "VBoxModel",
      "state": {
       "children": [
        "IPY_MODEL_c69831c5e96f434ba07d6c31526f55c2",
        "IPY_MODEL_c4b6ef7ed0214db888a91d1a297628e2"
       ],
       "layout": "IPY_MODEL_b00afc1a0e7f4a499c03227a78a345c1"
      }
     },
     "f30f2ff4674142f082da61657e7c7338": {
      "model_module": "@jupyter-widgets/controls",
      "model_module_version": "1.5.0",
      "model_name": "SelectModel",
      "state": {
       "_options_labels": [
        "WorkPackage.tmplt.ipynb"
       ],
       "description": "Template",
       "index": 0,
       "layout": "IPY_MODEL_eb3e5764a9a3487083218f18a252c575",
       "style": "IPY_MODEL_e8d64da03cbe4db5a0f621911d3f304e"
      }
     },
     "f3c238698b944f27bcb4d993c56b3bbc": {
      "model_module": "@jupyter-widgets/base",
      "model_module_version": "1.2.0",
      "model_name": "LayoutModel",
      "state": {}
     },
     "f451008ddec342ca872c6817e4ff64f1": {
      "model_module": "@jupyter-widgets/base",
      "model_module_version": "1.2.0",
      "model_name": "LayoutModel",
      "state": {}
     },
     "f46c879e509940a99605cefbdf53645f": {
      "model_module": "@jupyter-widgets/output",
      "model_module_version": "1.0.0",
      "model_name": "OutputModel",
      "state": {
       "layout": "IPY_MODEL_d75f321032cf4e72a3656d673415ecbf",
       "outputs": [
        {
         "data": {
          "text/html": "<h1 style=\"display: inline;\"><a href=\"Home.ipynb\">Home</a></h1><h3 style=\"display: inline;\"></h3>",
          "text/plain": "<cassini.ipygui.WHTML at 0x206ccae8550>"
         },
         "metadata": {},
         "output_type": "display_data"
        }
       ]
      }
     },
     "f4fee93c210a4609b781ae661216ab1f": {
      "model_module": "@jupyter-widgets/base",
      "model_module_version": "1.2.0",
      "model_name": "LayoutModel",
      "state": {}
     },
     "f58a5f59832c4c639f13dc154eb50f11": {
      "model_module": "@jupyter-widgets/controls",
      "model_module_version": "1.5.0",
      "model_name": "TextModel",
      "state": {
       "continuous_update": false,
       "layout": "IPY_MODEL_91542485c95d4cfdaffc370338427f26",
       "placeholder": "Name",
       "style": "IPY_MODEL_652bb7c320714d219ae1449a66035d7d"
      }
     },
     "f5dccccacfde4851ac2b019ac2c84026": {
      "model_module": "@jupyter-widgets/controls",
      "model_module_version": "1.5.0",
      "model_name": "ButtonModel",
      "state": {
       "description": "New",
       "layout": "IPY_MODEL_e590bf9d42e64404b319c32e6f7023e9",
       "style": "IPY_MODEL_cae208e9e635462cb89f1b30b57f4de7"
      }
     },
     "f6680b87b30f4222adae5fd7f89e19ce": {
      "model_module": "@jupyter-widgets/base",
      "model_module_version": "1.2.0",
      "model_name": "LayoutModel",
      "state": {}
     },
     "f7afe0ec7ece442bb6cb0daf7b636bfb": {
      "model_module": "@jupyter-widgets/controls",
      "model_module_version": "1.5.0",
      "model_name": "DescriptionStyleModel",
      "state": {
       "description_width": "10%"
      }
     },
     "f7c8aa1677244e5c9abfa3998126c0a6": {
      "model_module": "@jupyter-widgets/controls",
      "model_module_version": "1.5.0",
      "model_name": "TextModel",
      "state": {
       "continuous_update": false,
       "layout": "IPY_MODEL_e2f4c508ca854baeafb3a9c0d7c0253c",
       "placeholder": "Name",
       "style": "IPY_MODEL_c0612964e7cd49eb8e7e4e381f19723d"
      }
     },
     "f80ae8c82a594635ad923e8c4b90bcdc": {
      "model_module": "@jupyter-widgets/base",
      "model_module_version": "1.2.0",
      "model_name": "LayoutModel",
      "state": {}
     },
     "f89304a7d92f4918ab4d66a5cbafb1ca": {
      "model_module": "@jupyter-widgets/output",
      "model_module_version": "1.0.0",
      "model_name": "OutputModel",
      "state": {
       "layout": "IPY_MODEL_b777909fdfa848828e7e1846031ea4a3",
       "outputs": [
        {
         "data": {
          "text/html": "<h3>WorkPackages</h3>",
          "text/plain": "<cassini.ipygui.WHTML at 0x206cc975978>"
         },
         "metadata": {},
         "output_type": "display_data"
        }
       ]
      }
     },
     "f9dcba69c0024605827cb94539c72d39": {
      "model_module": "@jupyter-widgets/controls",
      "model_module_version": "1.5.0",
      "model_name": "VBoxModel",
      "state": {
       "children": [
        "IPY_MODEL_783e6cce01cd4d21933eef29c66b1324",
        "IPY_MODEL_02b4db84bb2045388755ad7aa1691f34",
        "IPY_MODEL_c487fd2992d94318b8dfbd1ccafcac96",
        "IPY_MODEL_f89304a7d92f4918ab4d66a5cbafb1ca",
        "IPY_MODEL_af6a33a51f7a461aa06b8ab0f96f1dcf",
        "IPY_MODEL_79988d6c80354322a1a5dd418041d881",
        "IPY_MODEL_549b6f5b9bad4cde960d5af390f81619"
       ],
       "layout": "IPY_MODEL_5bd794751f634df3b60b4a39e103c94c"
      }
     },
     "f9f74c1df4824a45b0b26b7a2d1e9107": {
      "model_module": "@jupyter-widgets/base",
      "model_module_version": "1.2.0",
      "model_name": "LayoutModel",
      "state": {
       "width": "auto"
      }
     },
     "fa4d9f0281904c99b1742cb76934771d": {
      "model_module": "@jupyter-widgets/base",
      "model_module_version": "1.2.0",
      "model_name": "LayoutModel",
      "state": {}
     },
     "fb473c095491492eb08950e4eaf44782": {
      "model_module": "@jupyter-widgets/controls",
      "model_module_version": "1.5.0",
      "model_name": "ButtonStyleModel",
      "state": {}
     },
     "fc688e056915427aa299d0c7e633311a": {
      "model_module": "@jupyter-widgets/controls",
      "model_module_version": "1.5.0",
      "model_name": "VBoxModel",
      "state": {
       "children": [
        "IPY_MODEL_cd91df6880b14668887dc5c992763ed9",
        "IPY_MODEL_05be4513f91a4ffba0b0978c643ca6f1"
       ],
       "layout": "IPY_MODEL_44caf516755d4e72ad41626138ab817d"
      }
     },
     "fcce0ca10fbd451aa1db57c899bc74ba": {
      "model_module": "@jupyter-widgets/controls",
      "model_module_version": "1.5.0",
      "model_name": "ButtonStyleModel",
      "state": {}
     },
     "fd6049ace9e3446fa9c793396ad04099": {
      "model_module": "@jupyter-widgets/controls",
      "model_module_version": "1.5.0",
      "model_name": "DescriptionStyleModel",
      "state": {
       "description_width": "10%"
      }
     },
     "fd61c27d35af4b88a425cd1f87f82998": {
      "model_module": "@jupyter-widgets/controls",
      "model_module_version": "1.5.0",
      "model_name": "HBoxModel",
      "state": {
       "children": [
        "IPY_MODEL_30261022bddc4b098c1331869a181789",
        "IPY_MODEL_e4762b1d1349480da3409aafadbdbd01",
        "IPY_MODEL_30a030ae6b4a488fac85f429df12eeb3"
       ],
       "layout": "IPY_MODEL_0d80b0b7cb85421883f6a0a79f693b90"
      }
     }
    },
    "version_major": 2,
    "version_minor": 0
   }
  }
 },
 "nbformat": 4,
 "nbformat_minor": 4
}
