{
 "cells": [
  {
   "cell_type": "markdown",
   "metadata": {},
   "source": [
    "# Cassini Example\n",
    "\n",
    "Welcome to the `Home` notebook. This notebook serves as a navigation hub to the rest of your project.\n",
    "\n",
    "The `gui.header` below is automatically generated and contains useful widgets and info about this tier.\n",
    "\n",
    "You can use search to retrieve the headers of other tiers by name. - try searching for `WP1.1c`\n",
    "\n",
    "Any links can be clicked and will open the corresponding notebook. - click on `WP1`"
   ]
  },
  {
   "cell_type": "code",
   "execution_count": 4,
   "metadata": {
    "pycharm": {
     "name": "#%%\n"
    }
   },
   "outputs": [
    {
     "data": {
      "application/vnd.jupyter.widget-view+json": {
       "model_id": "810e315d3d0b4f76b843c2573b887c60",
       "version_major": 2,
       "version_minor": 0
      },
      "text/plain": [
       "VBox(children=(VBox(children=(Output(), Button(description='Folder', style=ButtonStyle()))), Output(), VBox(ch…"
      ]
     },
     "metadata": {},
     "output_type": "display_data"
    }
   ],
   "source": [
    "from project import project\n",
    "\n",
    "hm = project.env('Home')  #  tells cassini this file is 'Home' and returns the Home tier.\n",
    "hm.gui.header()"
   ]
  },
  {
   "cell_type": "code",
   "execution_count": null,
   "metadata": {},
   "outputs": [],
   "source": []
  },
  {
   "cell_type": "code",
   "execution_count": null,
   "metadata": {},
   "outputs": [],
   "source": []
  },
  {
   "cell_type": "code",
   "execution_count": null,
   "metadata": {},
   "outputs": [],
   "source": []
  }
 ],
 "metadata": {
  "kernelspec": {
   "display_name": "Python 3",
   "language": "python",
   "name": "python3"
  },
  "language_info": {
   "codemirror_mode": {
    "name": "ipython",
    "version": 3
   },
   "file_extension": ".py",
   "mimetype": "text/x-python",
   "name": "python",
   "nbconvert_exporter": "python",
   "pygments_lexer": "ipython3",
   "version": "3.7.2"
  },
  "pycharm": {
   "stem_cell": {
    "cell_type": "raw",
    "metadata": {
     "collapsed": false
    },
    "source": []
   }
  },
  "widgets": {
   "application/vnd.jupyter.widget-state+json": {
    "state": {
     "029554e238264a40981ce53c12a041af": {
      "model_module": "@jupyter-widgets/controls",
      "model_module_version": "1.5.0",
      "model_name": "ButtonStyleModel",
      "state": {}
     },
     "08fbb7f6ff6e476c9bc8d9f2387ec67b": {
      "model_module": "@jupyter-widgets/controls",
      "model_module_version": "1.5.0",
      "model_name": "ButtonModel",
      "state": {
       "description": "Folder",
       "layout": "IPY_MODEL_72dce9ad317245b189c463af13876936",
       "style": "IPY_MODEL_567d9a700fdb413da034fdb574e74877"
      }
     },
     "10b1bec2ad0d44538419b5c05c55d645": {
      "model_module": "@jupyter-widgets/controls",
      "model_module_version": "1.5.0",
      "model_name": "ButtonModel",
      "state": {
       "description": "Clear",
       "layout": "IPY_MODEL_5754243d32ac4f18920f7b186801d5c9",
       "style": "IPY_MODEL_029554e238264a40981ce53c12a041af"
      }
     },
     "1789b581aec84cf18fdc70988a9cef8d": {
      "model_module": "@jupyter-widgets/controls",
      "model_module_version": "1.5.0",
      "model_name": "TextareaModel",
      "state": {
       "description": "Motivation",
       "layout": "IPY_MODEL_75de995312da4ea7bae64490bba68652",
       "style": "IPY_MODEL_a15f5f0c2461403c9b0f9cb5dbb2479a"
      }
     },
     "1a3c30dc4c5f4afdb067f32f44f97c89": {
      "model_module": "@jupyter-widgets/base",
      "model_module_version": "1.2.0",
      "model_name": "LayoutModel",
      "state": {}
     },
     "22dd7eebcfa846e5916c415cd9d06b22": {
      "model_module": "@jupyter-widgets/controls",
      "model_module_version": "1.5.0",
      "model_name": "VBoxModel",
      "state": {
       "children": [
        "IPY_MODEL_889dd0798fde44a09a8c540113d97538",
        "IPY_MODEL_78956f557e294165a8b232134064d068"
       ],
       "layout": "IPY_MODEL_668b113a65d04363ad0b84c3ddc93f24"
      }
     },
     "279af1f0d1194f3e98ab93e10fe7cb7c": {
      "model_module": "@jupyter-widgets/output",
      "model_module_version": "1.0.0",
      "model_name": "OutputModel",
      "state": {
       "layout": "IPY_MODEL_37ddc86e93134bf38748e1d84f9e8ce0",
       "outputs": [
        {
         "data": {
          "text/html": "<table border=\"1\" class=\"dataframe\">\n  <thead>\n    <tr style=\"text-align: right;\">\n      <th></th>\n      <th>started</th>\n      <th>description</th>\n      <th>caslib_version</th>\n      <th>Obj</th>\n    </tr>\n    <tr>\n      <th>Name</th>\n      <th></th>\n      <th></th>\n      <th></th>\n      <th></th>\n    </tr>\n  </thead>\n  <tbody>\n    <tr>\n      <th>WP1</th>\n      <td>2020-06-29</td>\n      <td>This description is set when making a new tier, but you can change it later! using `tier.description = &#x27;my description&#x27;`</td>\n      <td>0.0.1</td>\n      <td><a href=\"WorkPackages/WP1.ipynb\" target=\"_blank\"><h2 style=\"display: inline;\">WP1</h2 style=\"display: inline;\"</a></td>\n    </tr>\n    <tr>\n      <th>WP4</th>\n      <td>2020-06-29</td>\n      <td>Big aim</td>\n      <td>0.0.2</td>\n      <td><a href=\"WorkPackages/WP4.ipynb\" target=\"_blank\"><h2 style=\"display: inline;\">WP4</h2 style=\"display: inline;\"</a></td>\n    </tr>\n  </tbody>\n</table>",
          "text/plain": "        started                                        description  \\\nName                                                                 \nWP1  2020-06-29  This description is set when making a new tier...   \nWP4  2020-06-29                                            Big aim   \n\n     caslib_version                  Obj  \nName                                      \nWP1           0.0.1  <WorkPackage \"WP1\">  \nWP4           0.0.2  <WorkPackage \"WP4\">  "
         },
         "metadata": {},
         "output_type": "display_data"
        }
       ]
      }
     },
     "299741312c9b447286f8f3ba7dc799af": {
      "model_module": "@jupyter-widgets/base",
      "model_module_version": "1.2.0",
      "model_name": "LayoutModel",
      "state": {
       "width": "auto"
      }
     },
     "2a49579e1440493eb6bbfb5cf5d74642": {
      "model_module": "@jupyter-widgets/controls",
      "model_module_version": "1.5.0",
      "model_name": "SelectModel",
      "state": {
       "_options_labels": [
        "WorkPackage.tmplt.ipynb"
       ],
       "description": "Template",
       "index": 0,
       "layout": "IPY_MODEL_f1bfa835c4434a039048f9e854dc56b6",
       "style": "IPY_MODEL_c6eee1a4f66e41d98c7c3a851a275dfe"
      }
     },
     "2b00ad969c5441969e9224d919f5cc73": {
      "model_module": "@jupyter-widgets/base",
      "model_module_version": "1.2.0",
      "model_name": "LayoutModel",
      "state": {}
     },
     "2c9398d4d3ae41d487271620f5847a65": {
      "model_module": "@jupyter-widgets/base",
      "model_module_version": "1.2.0",
      "model_name": "LayoutModel",
      "state": {}
     },
     "30332258f6c5405496d801407c248274": {
      "model_module": "@jupyter-widgets/controls",
      "model_module_version": "1.5.0",
      "model_name": "VBoxModel",
      "state": {
       "children": [
        "IPY_MODEL_9eaafdebec774ae6abf68cc390c4bf02",
        "IPY_MODEL_08fbb7f6ff6e476c9bc8d9f2387ec67b"
       ],
       "layout": "IPY_MODEL_fd022cb5109a44289a7f8b8d3f058790"
      }
     },
     "30dcebdf8a804a1b9b424ab2630a5c4f": {
      "model_module": "@jupyter-widgets/controls",
      "model_module_version": "1.5.0",
      "model_name": "ButtonModel",
      "state": {
       "description": "New",
       "layout": "IPY_MODEL_1a3c30dc4c5f4afdb067f32f44f97c89",
       "style": "IPY_MODEL_4ed468dcf7c440e48eb0b15ddee8b697"
      }
     },
     "3459386ed8ed4b0795f348df09e405ed": {
      "model_module": "@jupyter-widgets/base",
      "model_module_version": "1.2.0",
      "model_name": "LayoutModel",
      "state": {}
     },
     "37ddc86e93134bf38748e1d84f9e8ce0": {
      "model_module": "@jupyter-widgets/base",
      "model_module_version": "1.2.0",
      "model_name": "LayoutModel",
      "state": {}
     },
     "3fee0519414a477a807ae57e50b66815": {
      "model_module": "@jupyter-widgets/output",
      "model_module_version": "1.0.0",
      "model_name": "OutputModel",
      "state": {
       "layout": "IPY_MODEL_3459386ed8ed4b0795f348df09e405ed",
       "outputs": [
        {
         "data": {
          "text/html": "<h3>Search</h3>",
          "text/plain": "<cassini.ipygui.WHTML at 0x27a34595940>"
         },
         "metadata": {},
         "output_type": "display_data"
        }
       ]
      }
     },
     "43ae9b13d3d148c397e5d8059ea9910c": {
      "model_module": "@jupyter-widgets/base",
      "model_module_version": "1.2.0",
      "model_name": "LayoutModel",
      "state": {}
     },
     "4aef8b40c95a4b11a77cb422b860bb78": {
      "model_module": "@jupyter-widgets/output",
      "model_module_version": "1.0.0",
      "model_name": "OutputModel",
      "state": {
       "layout": "IPY_MODEL_299741312c9b447286f8f3ba7dc799af"
      }
     },
     "4ed468dcf7c440e48eb0b15ddee8b697": {
      "model_module": "@jupyter-widgets/controls",
      "model_module_version": "1.5.0",
      "model_name": "ButtonStyleModel",
      "state": {}
     },
     "5324a39900424122b3529240f9b4fbdc": {
      "model_module": "@jupyter-widgets/controls",
      "model_module_version": "1.5.0",
      "model_name": "ButtonStyleModel",
      "state": {}
     },
     "567d9a700fdb413da034fdb574e74877": {
      "model_module": "@jupyter-widgets/controls",
      "model_module_version": "1.5.0",
      "model_name": "ButtonStyleModel",
      "state": {}
     },
     "5754243d32ac4f18920f7b186801d5c9": {
      "model_module": "@jupyter-widgets/base",
      "model_module_version": "1.2.0",
      "model_name": "LayoutModel",
      "state": {}
     },
     "594f6b8f69f24e309346353574afbc20": {
      "model_module": "@jupyter-widgets/output",
      "model_module_version": "1.0.0",
      "model_name": "OutputModel",
      "state": {
       "layout": "IPY_MODEL_e7e516683a5640698560781d60bd2bfb",
       "outputs": [
        {
         "data": {
          "text/html": "<h3>New WorkPackage</h3>",
          "text/plain": "<cassini.ipygui.WHTML at 0x27a34610550>"
         },
         "metadata": {},
         "output_type": "display_data"
        }
       ]
      }
     },
     "668b113a65d04363ad0b84c3ddc93f24": {
      "model_module": "@jupyter-widgets/base",
      "model_module_version": "1.2.0",
      "model_name": "LayoutModel",
      "state": {}
     },
     "687daf77aaf14fcaae6ab400d3093dc0": {
      "model_module": "@jupyter-widgets/base",
      "model_module_version": "1.2.0",
      "model_name": "LayoutModel",
      "state": {
       "width": "auto"
      }
     },
     "72dc611c905e4673ab303e56a0e329e4": {
      "model_module": "@jupyter-widgets/output",
      "model_module_version": "1.0.0",
      "model_name": "OutputModel",
      "state": {
       "layout": "IPY_MODEL_43ae9b13d3d148c397e5d8059ea9910c"
      }
     },
     "72dce9ad317245b189c463af13876936": {
      "model_module": "@jupyter-widgets/base",
      "model_module_version": "1.2.0",
      "model_name": "LayoutModel",
      "state": {}
     },
     "75de995312da4ea7bae64490bba68652": {
      "model_module": "@jupyter-widgets/base",
      "model_module_version": "1.2.0",
      "model_name": "LayoutModel",
      "state": {
       "width": "auto"
      }
     },
     "78956f557e294165a8b232134064d068": {
      "model_module": "@jupyter-widgets/output",
      "model_module_version": "1.0.0",
      "model_name": "OutputModel",
      "state": {
       "layout": "IPY_MODEL_8a9c781a2d1f472791367585d6d0e443"
      }
     },
     "7f7ee459bb51453f887579aad95704dd": {
      "model_module": "@jupyter-widgets/controls",
      "model_module_version": "1.5.0",
      "model_name": "TextModel",
      "state": {
       "description": "Identifier",
       "layout": "IPY_MODEL_687daf77aaf14fcaae6ab400d3093dc0",
       "placeholder": "(\\d+)",
       "style": "IPY_MODEL_cd7192027f7f4157b5402ea0f1b07a7b"
      }
     },
     "810e315d3d0b4f76b843c2573b887c60": {
      "model_module": "@jupyter-widgets/controls",
      "model_module_version": "1.5.0",
      "model_name": "VBoxModel",
      "state": {
       "children": [
        "IPY_MODEL_30332258f6c5405496d801407c248274",
        "IPY_MODEL_3fee0519414a477a807ae57e50b66815",
        "IPY_MODEL_22dd7eebcfa846e5916c415cd9d06b22",
        "IPY_MODEL_e19f7471a91e42c4a9cd0b1a1e44ba33",
        "IPY_MODEL_279af1f0d1194f3e98ab93e10fe7cb7c",
        "IPY_MODEL_594f6b8f69f24e309346353574afbc20",
        "IPY_MODEL_b58118e1a56a4635abd5a85eb868f76a"
       ],
       "layout": "IPY_MODEL_2c9398d4d3ae41d487271620f5847a65"
      }
     },
     "86ead6c7e3dd4495b5f8b7680f94cab9": {
      "model_module": "@jupyter-widgets/controls",
      "model_module_version": "1.5.0",
      "model_name": "ButtonStyleModel",
      "state": {}
     },
     "889dd0798fde44a09a8c540113d97538": {
      "model_module": "@jupyter-widgets/controls",
      "model_module_version": "1.5.0",
      "model_name": "HBoxModel",
      "state": {
       "children": [
        "IPY_MODEL_f01a5474c7594e318feba464f1a83d5d",
        "IPY_MODEL_8a6c98313a58437c943df3ed9f28a063",
        "IPY_MODEL_10b1bec2ad0d44538419b5c05c55d645"
       ],
       "layout": "IPY_MODEL_edc26af0af7d4567acec6e7ab9a1b31e"
      }
     },
     "8a6c98313a58437c943df3ed9f28a063": {
      "model_module": "@jupyter-widgets/controls",
      "model_module_version": "1.5.0",
      "model_name": "ButtonModel",
      "state": {
       "description": "Search",
       "layout": "IPY_MODEL_a02b8548df5c47349216d905223a810b",
       "style": "IPY_MODEL_86ead6c7e3dd4495b5f8b7680f94cab9"
      }
     },
     "8a9c781a2d1f472791367585d6d0e443": {
      "model_module": "@jupyter-widgets/base",
      "model_module_version": "1.2.0",
      "model_name": "LayoutModel",
      "state": {}
     },
     "9378dc857436470b9ebaeca65696f3bf": {
      "model_module": "@jupyter-widgets/base",
      "model_module_version": "1.2.0",
      "model_name": "LayoutModel",
      "state": {}
     },
     "9eaafdebec774ae6abf68cc390c4bf02": {
      "model_module": "@jupyter-widgets/output",
      "model_module_version": "1.0.0",
      "model_name": "OutputModel",
      "state": {
       "layout": "IPY_MODEL_c927e86422ad49a295f68591c4781163",
       "outputs": [
        {
         "data": {
          "text/html": "<h1 style=\"display: inline;\"><a href=\"Home.ipynb\">Home</a></h1><h3 style=\"display: inline;\"></h3>",
          "text/plain": "<cassini.ipygui.WHTML at 0x27a345952b0>"
         },
         "metadata": {},
         "output_type": "display_data"
        }
       ]
      }
     },
     "a02b8548df5c47349216d905223a810b": {
      "model_module": "@jupyter-widgets/base",
      "model_module_version": "1.2.0",
      "model_name": "LayoutModel",
      "state": {}
     },
     "a15f5f0c2461403c9b0f9cb5dbb2479a": {
      "model_module": "@jupyter-widgets/controls",
      "model_module_version": "1.5.0",
      "model_name": "DescriptionStyleModel",
      "state": {
       "description_width": "10%"
      }
     },
     "a9e41b4f879349ada9e929353a7d557f": {
      "model_module": "@jupyter-widgets/base",
      "model_module_version": "1.2.0",
      "model_name": "LayoutModel",
      "state": {}
     },
     "acc8bc0f5e2f484bbe8109faac56c102": {
      "model_module": "@jupyter-widgets/controls",
      "model_module_version": "1.5.0",
      "model_name": "ButtonModel",
      "state": {
       "description": "Confirm",
       "disabled": true,
       "layout": "IPY_MODEL_db25797c5cdc425b8a79bf7c7198b664",
       "style": "IPY_MODEL_5324a39900424122b3529240f9b4fbdc"
      }
     },
     "b58118e1a56a4635abd5a85eb868f76a": {
      "model_module": "@jupyter-widgets/controls",
      "model_module_version": "1.5.0",
      "model_name": "VBoxModel",
      "state": {
       "children": [
        "IPY_MODEL_7f7ee459bb51453f887579aad95704dd",
        "IPY_MODEL_2a49579e1440493eb6bbfb5cf5d74642",
        "IPY_MODEL_1789b581aec84cf18fdc70988a9cef8d",
        "IPY_MODEL_bb94af7c9b864cd693b269d2839d7229",
        "IPY_MODEL_72dc611c905e4673ab303e56a0e329e4"
       ],
       "layout": "IPY_MODEL_2b00ad969c5441969e9224d919f5cc73"
      }
     },
     "bb94af7c9b864cd693b269d2839d7229": {
      "model_module": "@jupyter-widgets/controls",
      "model_module_version": "1.5.0",
      "model_name": "HBoxModel",
      "state": {
       "children": [
        "IPY_MODEL_acc8bc0f5e2f484bbe8109faac56c102",
        "IPY_MODEL_30dcebdf8a804a1b9b424ab2630a5c4f"
       ],
       "layout": "IPY_MODEL_f1da1d50047f433ca1bde21ee6261808"
      }
     },
     "bc9c354484d44d20ae54851399027b0d": {
      "model_module": "@jupyter-widgets/controls",
      "model_module_version": "1.5.0",
      "model_name": "DescriptionStyleModel",
      "state": {
       "description_width": ""
      }
     },
     "c6eee1a4f66e41d98c7c3a851a275dfe": {
      "model_module": "@jupyter-widgets/controls",
      "model_module_version": "1.5.0",
      "model_name": "DescriptionStyleModel",
      "state": {
       "description_width": "10%"
      }
     },
     "c927e86422ad49a295f68591c4781163": {
      "model_module": "@jupyter-widgets/base",
      "model_module_version": "1.2.0",
      "model_name": "LayoutModel",
      "state": {}
     },
     "cd7192027f7f4157b5402ea0f1b07a7b": {
      "model_module": "@jupyter-widgets/controls",
      "model_module_version": "1.5.0",
      "model_name": "DescriptionStyleModel",
      "state": {
       "description_width": "10%"
      }
     },
     "db25797c5cdc425b8a79bf7c7198b664": {
      "model_module": "@jupyter-widgets/base",
      "model_module_version": "1.2.0",
      "model_name": "LayoutModel",
      "state": {}
     },
     "e19f7471a91e42c4a9cd0b1a1e44ba33": {
      "model_module": "@jupyter-widgets/output",
      "model_module_version": "1.0.0",
      "model_name": "OutputModel",
      "state": {
       "layout": "IPY_MODEL_a9e41b4f879349ada9e929353a7d557f",
       "outputs": [
        {
         "data": {
          "text/html": "<h3>WorkPackages</h3>",
          "text/plain": "<cassini.ipygui.WHTML at 0x27a3455bcc0>"
         },
         "metadata": {},
         "output_type": "display_data"
        }
       ]
      }
     },
     "e7e516683a5640698560781d60bd2bfb": {
      "model_module": "@jupyter-widgets/base",
      "model_module_version": "1.2.0",
      "model_name": "LayoutModel",
      "state": {}
     },
     "edc26af0af7d4567acec6e7ab9a1b31e": {
      "model_module": "@jupyter-widgets/base",
      "model_module_version": "1.2.0",
      "model_name": "LayoutModel",
      "state": {}
     },
     "f01a5474c7594e318feba464f1a83d5d": {
      "model_module": "@jupyter-widgets/controls",
      "model_module_version": "1.5.0",
      "model_name": "TextModel",
      "state": {
       "continuous_update": false,
       "layout": "IPY_MODEL_9378dc857436470b9ebaeca65696f3bf",
       "placeholder": "Name",
       "style": "IPY_MODEL_bc9c354484d44d20ae54851399027b0d"
      }
     },
     "f1bfa835c4434a039048f9e854dc56b6": {
      "model_module": "@jupyter-widgets/base",
      "model_module_version": "1.2.0",
      "model_name": "LayoutModel",
      "state": {
       "width": "auto"
      }
     },
     "f1da1d50047f433ca1bde21ee6261808": {
      "model_module": "@jupyter-widgets/base",
      "model_module_version": "1.2.0",
      "model_name": "LayoutModel",
      "state": {}
     },
     "fd022cb5109a44289a7f8b8d3f058790": {
      "model_module": "@jupyter-widgets/base",
      "model_module_version": "1.2.0",
      "model_name": "LayoutModel",
      "state": {}
     }
    },
    "version_major": 2,
    "version_minor": 0
   }
  }
 },
 "nbformat": 4,
 "nbformat_minor": 4
}