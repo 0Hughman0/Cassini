{
 "cells": [
  {
   "cell_type": "markdown",
   "metadata": {},
   "source": [
    "# WP1\n",
    "\n",
    "`WP1` is a WorkPackage which owns a number of experiments, seen in the table below.\n",
    "\n",
    "You can create a new Experiment by using the New Experiment widget. - try entering `3` and a description and clicking confirm.\n",
    "\n",
    "Now, navigate to `WP1.1`"
   ]
  },
  {
   "cell_type": "code",
   "execution_count": 1,
   "metadata": {
    "pycharm": {
     "name": "#%%\n"
    }
   },
   "outputs": [
    {
     "name": "stderr",
     "output_type": "stream",
     "text": [
      "D:\\Documents\\Programin\\venvs\\cassini\\cassini-dev\\lib\\site-packages\\jupyter_server\\transutils.py:13: FutureWarning: The alias `_()` will be deprecated. Use `_i18n()` instead.\n",
      "  warnings.warn(warn_msg, FutureWarning)\n"
     ]
    },
    {
     "data": {
      "application/vnd.jupyter.widget-view+json": {
       "model_id": "4f5c968906e94a98addc8b69f5603808",
       "version_major": 2,
       "version_minor": 0
      },
      "text/plain": [
       "VBox(children=(VBox(children=(Output(), Button(description='Folder', style=ButtonStyle()))), Output(), Output(…"
      ]
     },
     "metadata": {},
     "output_type": "display_data"
    }
   ],
   "source": [
    "from project import project\n",
    "\n",
    "wp = project.env('WP1')\n",
    "wp.gui.header()"
   ]
  }
 ],
 "metadata": {
  "kernelspec": {
   "display_name": "Python 3",
   "language": "python",
   "name": "python3"
  },
  "language_info": {
   "codemirror_mode": {
    "name": "ipython",
    "version": 3
   },
   "file_extension": ".py",
   "mimetype": "text/x-python",
   "name": "python",
   "nbconvert_exporter": "python",
   "pygments_lexer": "ipython3",
   "version": "3.7.2"
  },
  "pycharm": {
   "stem_cell": {
    "cell_type": "raw",
    "metadata": {
     "collapsed": false
    },
    "source": []
   }
  },
  "widgets": {
   "application/vnd.jupyter.widget-state+json": {
    "state": {
     "03f7f00db4ee48a99dabfc2ce18a57d7": {
      "model_module": "@jupyter-widgets/output",
      "model_module_version": "1.0.0",
      "model_name": "OutputModel",
      "state": {
       "layout": "IPY_MODEL_6f885ca8fb844f88bc179fd7793c2773",
       "outputs": [
        {
         "data": {
          "text/html": "<h1 style=\"display: inline;\"><a href=\"WP1.ipynb\">WP1</a></h1><h3 style=\"display: inline;\">(<a href=\"../Home.ipynb\" target=\"_blank\">Home</a>)</h3>",
          "text/plain": "<cassini.ipygui.WHTML at 0x1d6ef03f2b0>"
         },
         "metadata": {},
         "output_type": "display_data"
        }
       ]
      }
     },
     "0a54c08563f04d86b0dfe9d84be21d32": {
      "model_module": "@jupyter-widgets/controls",
      "model_module_version": "1.5.0",
      "model_name": "VBoxModel",
      "state": {
       "children": [
        "IPY_MODEL_03f7f00db4ee48a99dabfc2ce18a57d7",
        "IPY_MODEL_5c2b270c45cc4fc694559a28f35b23c9"
       ],
       "layout": "IPY_MODEL_0b7c24bc67464f63a4faae7e0426a013"
      }
     },
     "0b7c24bc67464f63a4faae7e0426a013": {
      "model_module": "@jupyter-widgets/base",
      "model_module_version": "1.2.0",
      "model_name": "LayoutModel",
      "state": {}
     },
     "17b96992dc964611931daac12f629aa9": {
      "model_module": "@jupyter-widgets/base",
      "model_module_version": "1.2.0",
      "model_name": "LayoutModel",
      "state": {
       "width": "auto"
      }
     },
     "17f07249f02043e5bc28030560820649": {
      "model_module": "@jupyter-widgets/base",
      "model_module_version": "1.2.0",
      "model_name": "LayoutModel",
      "state": {}
     },
     "20004cf1917845a9b6ce440179cd33e5": {
      "model_module": "@jupyter-widgets/controls",
      "model_module_version": "1.5.0",
      "model_name": "VBoxModel",
      "state": {
       "children": [
        "IPY_MODEL_a805ededfb67479399212ff3658d6562",
        "IPY_MODEL_cc25c702791348d48c9e11665731b4a4",
        "IPY_MODEL_3faa2fc4f51646978f541fc315bfbb0f",
        "IPY_MODEL_488584eb21eb432ea4dc169337dff4da",
        "IPY_MODEL_961753c47c024cd5a0f678cec5016a8a"
       ],
       "layout": "IPY_MODEL_d5c5b45b633743a1a7f3c7ed480a2656"
      }
     },
     "242d9a8f5dd74d67bd8c7f09e89b3ee2": {
      "model_module": "@jupyter-widgets/output",
      "model_module_version": "1.0.0",
      "model_name": "OutputModel",
      "state": {
       "layout": "IPY_MODEL_ed8e57ccc5b94a6ba55ac06438a310e4",
       "outputs": [
        {
         "data": {
          "text/html": "<h3>Description</h3>",
          "text/plain": "<cassini.ipygui.WHTML at 0x1d6ef03fa58>"
         },
         "metadata": {},
         "output_type": "display_data"
        }
       ]
      }
     },
     "276e0abc035a4f76ac515b7df0033ae4": {
      "model_module": "@jupyter-widgets/base",
      "model_module_version": "1.2.0",
      "model_name": "LayoutModel",
      "state": {
       "width": "auto"
      }
     },
     "3faa2fc4f51646978f541fc315bfbb0f": {
      "model_module": "@jupyter-widgets/controls",
      "model_module_version": "1.5.0",
      "model_name": "TextareaModel",
      "state": {
       "description": "Motivation",
       "layout": "IPY_MODEL_75d3b6a30a7e44acbed38ca426d5bc7d",
       "style": "IPY_MODEL_8a2a3907a8fc4b8d905977538993d0e2"
      }
     },
     "488584eb21eb432ea4dc169337dff4da": {
      "model_module": "@jupyter-widgets/controls",
      "model_module_version": "1.5.0",
      "model_name": "HBoxModel",
      "state": {
       "children": [
        "IPY_MODEL_9f3611ef76ea40f0a169ec18be534216",
        "IPY_MODEL_fcca2f3caec2449885e676c357b82d7e"
       ],
       "layout": "IPY_MODEL_b242a026a4a94a6fafe147d38233e8ee"
      }
     },
     "4da1b658b114415e955f4abc8cf6a2a1": {
      "model_module": "@jupyter-widgets/base",
      "model_module_version": "1.2.0",
      "model_name": "LayoutModel",
      "state": {}
     },
     "4f5c968906e94a98addc8b69f5603808": {
      "model_module": "@jupyter-widgets/controls",
      "model_module_version": "1.5.0",
      "model_name": "VBoxModel",
      "state": {
       "children": [
        "IPY_MODEL_0a54c08563f04d86b0dfe9d84be21d32",
        "IPY_MODEL_242d9a8f5dd74d67bd8c7f09e89b3ee2",
        "IPY_MODEL_5267fa09ae30481c80e98570cbd953f4",
        "IPY_MODEL_de91ce70c78a4e2c90c5859c2df25343",
        "IPY_MODEL_ec5bb3c2988d42509269e6e410419641",
        "IPY_MODEL_9df165fea78a45df8de03fab6472af80",
        "IPY_MODEL_20004cf1917845a9b6ce440179cd33e5"
       ],
       "layout": "IPY_MODEL_c3eabec536f34ae5a5fa895fa69a9775"
      }
     },
     "50070406bf9940979f627510888364ec": {
      "model_module": "@jupyter-widgets/controls",
      "model_module_version": "1.5.0",
      "model_name": "ButtonStyleModel",
      "state": {}
     },
     "5267fa09ae30481c80e98570cbd953f4": {
      "model_module": "@jupyter-widgets/output",
      "model_module_version": "1.0.0",
      "model_name": "OutputModel",
      "state": {
       "layout": "IPY_MODEL_17f07249f02043e5bc28030560820649",
       "outputs": [
        {
         "data": {
          "text/markdown": "This description is set when making a new tier, but you can change it later! using `tier.description = 'my description'`",
          "text/plain": "<IPython.core.display.Markdown object>"
         },
         "metadata": {},
         "output_type": "display_data"
        }
       ]
      }
     },
     "527b46744527493aa0433991f8da63ef": {
      "model_module": "@jupyter-widgets/base",
      "model_module_version": "1.2.0",
      "model_name": "LayoutModel",
      "state": {}
     },
     "5c2b270c45cc4fc694559a28f35b23c9": {
      "model_module": "@jupyter-widgets/controls",
      "model_module_version": "1.5.0",
      "model_name": "ButtonModel",
      "state": {
       "description": "Folder",
       "layout": "IPY_MODEL_8f79e2aed4a541feb74a3d54e4dc168b",
       "style": "IPY_MODEL_50070406bf9940979f627510888364ec"
      }
     },
     "5d0a415f44e4489fb3e93aab330c23b0": {
      "model_module": "@jupyter-widgets/base",
      "model_module_version": "1.2.0",
      "model_name": "LayoutModel",
      "state": {}
     },
     "6512cb9ef8b74b6790a1f2d4c26b7c37": {
      "model_module": "@jupyter-widgets/output",
      "model_module_version": "1.0.0",
      "model_name": "OutputModel",
      "state": {
       "layout": "IPY_MODEL_17b96992dc964611931daac12f629aa9"
      }
     },
     "6f885ca8fb844f88bc179fd7793c2773": {
      "model_module": "@jupyter-widgets/base",
      "model_module_version": "1.2.0",
      "model_name": "LayoutModel",
      "state": {}
     },
     "7046751de703437ea557ebc4df9d4140": {
      "model_module": "@jupyter-widgets/base",
      "model_module_version": "1.2.0",
      "model_name": "LayoutModel",
      "state": {}
     },
     "75d3b6a30a7e44acbed38ca426d5bc7d": {
      "model_module": "@jupyter-widgets/base",
      "model_module_version": "1.2.0",
      "model_name": "LayoutModel",
      "state": {
       "width": "auto"
      }
     },
     "7f45c528a1174fdd8d9fa29786a2885c": {
      "model_module": "@jupyter-widgets/controls",
      "model_module_version": "1.5.0",
      "model_name": "DescriptionStyleModel",
      "state": {
       "description_width": "10%"
      }
     },
     "8a2a3907a8fc4b8d905977538993d0e2": {
      "model_module": "@jupyter-widgets/controls",
      "model_module_version": "1.5.0",
      "model_name": "DescriptionStyleModel",
      "state": {
       "description_width": "10%"
      }
     },
     "8f79e2aed4a541feb74a3d54e4dc168b": {
      "model_module": "@jupyter-widgets/base",
      "model_module_version": "1.2.0",
      "model_name": "LayoutModel",
      "state": {}
     },
     "959be00f046845d896de10fff2931621": {
      "model_module": "@jupyter-widgets/controls",
      "model_module_version": "1.5.0",
      "model_name": "ButtonStyleModel",
      "state": {}
     },
     "961753c47c024cd5a0f678cec5016a8a": {
      "model_module": "@jupyter-widgets/output",
      "model_module_version": "1.0.0",
      "model_name": "OutputModel",
      "state": {
       "layout": "IPY_MODEL_5d0a415f44e4489fb3e93aab330c23b0"
      }
     },
     "9df165fea78a45df8de03fab6472af80": {
      "model_module": "@jupyter-widgets/output",
      "model_module_version": "1.0.0",
      "model_name": "OutputModel",
      "state": {
       "layout": "IPY_MODEL_4da1b658b114415e955f4abc8cf6a2a1",
       "outputs": [
        {
         "data": {
          "text/html": "<h3>New Experiment</h3>",
          "text/plain": "<cassini.ipygui.WHTML at 0x1d6ef0de908>"
         },
         "metadata": {},
         "output_type": "display_data"
        }
       ]
      }
     },
     "9f3611ef76ea40f0a169ec18be534216": {
      "model_module": "@jupyter-widgets/controls",
      "model_module_version": "1.5.0",
      "model_name": "ButtonModel",
      "state": {
       "description": "Confirm",
       "disabled": true,
       "layout": "IPY_MODEL_7046751de703437ea557ebc4df9d4140",
       "style": "IPY_MODEL_959be00f046845d896de10fff2931621"
      }
     },
     "a805ededfb67479399212ff3658d6562": {
      "model_module": "@jupyter-widgets/controls",
      "model_module_version": "1.5.0",
      "model_name": "TextModel",
      "state": {
       "description": "Identifier",
       "layout": "IPY_MODEL_276e0abc035a4f76ac515b7df0033ae4",
       "placeholder": "(\\d+)",
       "style": "IPY_MODEL_f271641143f0443a82bd6024acc115c0"
      }
     },
     "af54a0ddcb994dce90e3c84bcba535a7": {
      "model_module": "@jupyter-widgets/base",
      "model_module_version": "1.2.0",
      "model_name": "LayoutModel",
      "state": {}
     },
     "b242a026a4a94a6fafe147d38233e8ee": {
      "model_module": "@jupyter-widgets/base",
      "model_module_version": "1.2.0",
      "model_name": "LayoutModel",
      "state": {}
     },
     "bfb39dab739a45a2bf8b6914474990f4": {
      "model_module": "@jupyter-widgets/controls",
      "model_module_version": "1.5.0",
      "model_name": "ButtonStyleModel",
      "state": {}
     },
     "c3eabec536f34ae5a5fa895fa69a9775": {
      "model_module": "@jupyter-widgets/base",
      "model_module_version": "1.2.0",
      "model_name": "LayoutModel",
      "state": {}
     },
     "c5e49a9d4456410aa2fe217ae4b7f63c": {
      "model_module": "@jupyter-widgets/base",
      "model_module_version": "1.2.0",
      "model_name": "LayoutModel",
      "state": {}
     },
     "cc25c702791348d48c9e11665731b4a4": {
      "model_module": "@jupyter-widgets/controls",
      "model_module_version": "1.5.0",
      "model_name": "SelectModel",
      "state": {
       "_options_labels": [
        "Experiment.tmplt.ipynb"
       ],
       "description": "Template",
       "index": 0,
       "layout": "IPY_MODEL_cdc3fae216ea4bef8a59502fb340cc10",
       "style": "IPY_MODEL_7f45c528a1174fdd8d9fa29786a2885c"
      }
     },
     "cdc3fae216ea4bef8a59502fb340cc10": {
      "model_module": "@jupyter-widgets/base",
      "model_module_version": "1.2.0",
      "model_name": "LayoutModel",
      "state": {
       "width": "auto"
      }
     },
     "d5c5b45b633743a1a7f3c7ed480a2656": {
      "model_module": "@jupyter-widgets/base",
      "model_module_version": "1.2.0",
      "model_name": "LayoutModel",
      "state": {}
     },
     "de91ce70c78a4e2c90c5859c2df25343": {
      "model_module": "@jupyter-widgets/output",
      "model_module_version": "1.0.0",
      "model_name": "OutputModel",
      "state": {
       "layout": "IPY_MODEL_af54a0ddcb994dce90e3c84bcba535a7",
       "outputs": [
        {
         "data": {
          "text/html": "<h3>Experiments</h3>",
          "text/plain": "<cassini.ipygui.WHTML at 0x1d6ef03fda0>"
         },
         "metadata": {},
         "output_type": "display_data"
        }
       ]
      }
     },
     "ec5bb3c2988d42509269e6e410419641": {
      "model_module": "@jupyter-widgets/output",
      "model_module_version": "1.0.0",
      "model_name": "OutputModel",
      "state": {
       "layout": "IPY_MODEL_527b46744527493aa0433991f8da63ef",
       "outputs": [
        {
         "data": {
          "text/html": "<table border=\"1\" class=\"dataframe\">\n  <thead>\n    <tr style=\"text-align: right;\">\n      <th></th>\n      <th>started</th>\n      <th>description</th>\n      <th>Obj</th>\n    </tr>\n    <tr>\n      <th>Name</th>\n      <th></th>\n      <th></th>\n      <th></th>\n    </tr>\n  </thead>\n  <tbody>\n    <tr>\n      <th>WP1.1</th>\n      <td>2020-06-29</td>\n      <td>Usually some sort of process you&#x27;ll tweak and repeat on multiple samples</td>\n      <td><a href=\"WP1/WP1.1.ipynb\" target=\"_blank\"><h3 style=\"display: inline;\">WP1.1</h3 style=\"display: inline;\"</a></td>\n    </tr>\n    <tr>\n      <th>WP1.2</th>\n      <td>2020-06-29</td>\n      <td>They can contain markdown, although this isn&#x27;t rendered in _tables_</td>\n      <td><a href=\"WP1/WP1.2.ipynb\" target=\"_blank\"><h3 style=\"display: inline;\">WP1.2</h3 style=\"display: inline;\"</a></td>\n    </tr>\n    <tr>\n      <th>WP1.3</th>\n      <td>2020-06-30</td>\n      <td>My Description</td>\n      <td><a href=\"WP1/WP1.3.ipynb\" target=\"_blank\"><h3 style=\"display: inline;\">WP1.3</h3 style=\"display: inline;\"</a></td>\n    </tr>\n  </tbody>\n</table>",
          "text/plain": "         started                                        description  \\\nName                                                                  \nWP1.1 2020-06-29  Usually some sort of process you'll tweak and ...   \nWP1.2 2020-06-29  They can contain markdown, although this isn't...   \nWP1.3 2020-06-30                                     My Description   \n\n                        Obj  \nName                         \nWP1.1  <Experiment \"WP1.1\">  \nWP1.2  <Experiment \"WP1.2\">  \nWP1.3  <Experiment \"WP1.3\">  "
         },
         "metadata": {},
         "output_type": "display_data"
        }
       ]
      }
     },
     "ed8e57ccc5b94a6ba55ac06438a310e4": {
      "model_module": "@jupyter-widgets/base",
      "model_module_version": "1.2.0",
      "model_name": "LayoutModel",
      "state": {}
     },
     "f271641143f0443a82bd6024acc115c0": {
      "model_module": "@jupyter-widgets/controls",
      "model_module_version": "1.5.0",
      "model_name": "DescriptionStyleModel",
      "state": {
       "description_width": "10%"
      }
     },
     "fcca2f3caec2449885e676c357b82d7e": {
      "model_module": "@jupyter-widgets/controls",
      "model_module_version": "1.5.0",
      "model_name": "ButtonModel",
      "state": {
       "description": "New",
       "layout": "IPY_MODEL_c5e49a9d4456410aa2fe217ae4b7f63c",
       "style": "IPY_MODEL_bfb39dab739a45a2bf8b6914474990f4"
      }
     }
    },
    "version_major": 2,
    "version_minor": 0
   }
  }
 },
 "nbformat": 4,
 "nbformat_minor": 4
}
