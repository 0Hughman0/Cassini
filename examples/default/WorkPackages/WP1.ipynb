{
 "cells": [
  {
   "cell_type": "markdown",
   "metadata": {},
   "source": [
    "# WP1\n",
    "\n",
    "`WP1` is a WorkPackage which owns a number of experiments, seen in the table below.\n",
    "\n",
    "You can create a new Experiment by using the New Experiment widget. - try entering `3` and a description and clicking confirm.\n",
    "\n",
    "Now, navigate to `WP1.1`"
   ]
  },
  {
   "cell_type": "code",
   "execution_count": 18,
   "metadata": {
    "pycharm": {
     "name": "#%%\n"
    }
   },
   "outputs": [
    {
     "data": {
      "application/vnd.jupyter.widget-view+json": {
       "model_id": "c40cd716bce44371a30df53a8d92ec81",
       "version_major": 2,
       "version_minor": 0
      },
      "text/plain": [
       "VBox(children=(VBox(children=(Output(), Button(description='Folder', style=ButtonStyle()))), Output(), Output(…"
      ]
     },
     "metadata": {},
     "output_type": "display_data"
    }
   ],
   "source": [
    "from project import project\n",
    "\n",
    "wp = project.env('WP1')\n",
    "wp.gui.header()"
   ]
  },
  {
   "cell_type": "code",
   "execution_count": null,
   "metadata": {},
   "outputs": [],
   "source": []
  },
  {
   "cell_type": "code",
   "execution_count": null,
   "metadata": {},
   "outputs": [],
   "source": []
  }
 ],
 "metadata": {
  "kernelspec": {
   "display_name": "Python 3",
   "language": "python",
   "name": "python3"
  },
  "language_info": {
   "codemirror_mode": {
    "name": "ipython",
    "version": 3
   },
   "file_extension": ".py",
   "mimetype": "text/x-python",
   "name": "python",
   "nbconvert_exporter": "python",
   "pygments_lexer": "ipython3",
   "version": "3.7.2"
  },
  "pycharm": {
   "stem_cell": {
    "cell_type": "raw",
    "metadata": {
     "collapsed": false
    },
    "source": []
   }
  },
  "widgets": {
   "application/vnd.jupyter.widget-state+json": {
    "state": {
     "0045937165994fa6bd029a259f538698": {
      "model_module": "@jupyter-widgets/controls",
      "model_module_version": "1.5.0",
      "model_name": "TextareaModel",
      "state": {
       "description": "Motivation",
       "layout": "IPY_MODEL_c1949dd296b64ff58e62637ceecaa15a",
       "style": "IPY_MODEL_d1bd73c929c2404686235dd79be606f6"
      }
     },
     "00766e47780442fe96cd6cc9418cc8d9": {
      "model_module": "@jupyter-widgets/controls",
      "model_module_version": "1.5.0",
      "model_name": "VBoxModel",
      "state": {
       "children": [
        "IPY_MODEL_4d32b30b5e2241ada6b408f927deb23c",
        "IPY_MODEL_e0868b38e13b4bb796c158a583889052",
        "IPY_MODEL_ad217484e8334460ab0af6d8866d8af3",
        "IPY_MODEL_62a348d67133434f8e717325523c4b3c",
        "IPY_MODEL_8c356e5ab74440cca3c49ea7de9e49c7",
        "IPY_MODEL_8a5d1a1d7b7040b892c031d063f237e3",
        "IPY_MODEL_df9d8fe42b444b1183959473fda547f8"
       ],
       "layout": "IPY_MODEL_5b3238f2f5704424a8810689b00c97d7"
      }
     },
     "00e0510ce3984d898063d0fb0cf9663c": {
      "model_module": "@jupyter-widgets/base",
      "model_module_version": "1.2.0",
      "model_name": "LayoutModel",
      "state": {}
     },
     "00f556f0cb5c4ce081b0b8a3108cdb72": {
      "model_module": "@jupyter-widgets/output",
      "model_module_version": "1.0.0",
      "model_name": "OutputModel",
      "state": {
       "layout": "IPY_MODEL_545f2ff5e2f747ee8ffc6cc99a010786",
       "outputs": [
        {
         "data": {
          "text/html": "<h3>Experiments</h3>",
          "text/plain": "<cassini.ipygui.WHTML at 0x156c7726748>"
         },
         "metadata": {},
         "output_type": "display_data"
        }
       ]
      }
     },
     "016ccb3d9b954ce9b6615cc6b74c59fb": {
      "model_module": "@jupyter-widgets/base",
      "model_module_version": "1.2.0",
      "model_name": "LayoutModel",
      "state": {}
     },
     "01a88b6a605d433283d5a30a03380b72": {
      "model_module": "@jupyter-widgets/controls",
      "model_module_version": "1.5.0",
      "model_name": "ButtonStyleModel",
      "state": {}
     },
     "045f7871a7d14132be793bed13525656": {
      "model_module": "@jupyter-widgets/controls",
      "model_module_version": "1.5.0",
      "model_name": "TextareaModel",
      "state": {
       "description": "Motivation",
       "layout": "IPY_MODEL_fa32a04c8ef84fad86def379614e3f4d",
       "style": "IPY_MODEL_ea10e0357319417f956d28b2ee13da9d"
      }
     },
     "04fadf704d194562b37962014b4a52f6": {
      "model_module": "@jupyter-widgets/controls",
      "model_module_version": "1.5.0",
      "model_name": "VBoxModel",
      "state": {
       "children": [
        "IPY_MODEL_a21f17f616a64aea98dccf8a8e21007b",
        "IPY_MODEL_911efba06a5f471b94651baa432f0662"
       ],
       "layout": "IPY_MODEL_0604269302df4ad9be33c228ae99960b"
      }
     },
     "05855c1baa6d4f638e7058c3daadabba": {
      "model_module": "@jupyter-widgets/controls",
      "model_module_version": "1.5.0",
      "model_name": "TextareaModel",
      "state": {
       "description": "Motivation",
       "layout": "IPY_MODEL_bd8008e4bc2b4456a229bcd41d734b6f",
       "style": "IPY_MODEL_66c3e5683c334c1bb92c3b7ea686240d"
      }
     },
     "0604269302df4ad9be33c228ae99960b": {
      "model_module": "@jupyter-widgets/base",
      "model_module_version": "1.2.0",
      "model_name": "LayoutModel",
      "state": {}
     },
     "06b9b372e84148c291bc79a3c52be98f": {
      "model_module": "@jupyter-widgets/controls",
      "model_module_version": "1.5.0",
      "model_name": "TextareaModel",
      "state": {
       "description": "Motivation",
       "layout": "IPY_MODEL_1bdd66de7d3649bf9884e82fecab115a",
       "style": "IPY_MODEL_08e7d97b7371434bae15e52ce8e157f3"
      }
     },
     "0733a127d0604a9690c671b69382e96e": {
      "model_module": "@jupyter-widgets/output",
      "model_module_version": "1.0.0",
      "model_name": "OutputModel",
      "state": {
       "layout": "IPY_MODEL_0b5ab63e82cd4e7ea9e710369dfbcd43",
       "outputs": [
        {
         "data": {
          "text/html": "<h3>Experiments</h3>",
          "text/plain": "<cassini.ipygui.WHTML at 0x156c77df240>"
         },
         "metadata": {},
         "output_type": "display_data"
        }
       ]
      }
     },
     "07bb733dccc246bc8613a90b0b2e7f4e": {
      "model_module": "@jupyter-widgets/base",
      "model_module_version": "1.2.0",
      "model_name": "LayoutModel",
      "state": {}
     },
     "08e7d97b7371434bae15e52ce8e157f3": {
      "model_module": "@jupyter-widgets/controls",
      "model_module_version": "1.5.0",
      "model_name": "DescriptionStyleModel",
      "state": {
       "description_width": "10%"
      }
     },
     "0a891d82d3994a96a42531be42d19ff7": {
      "model_module": "@jupyter-widgets/controls",
      "model_module_version": "1.5.0",
      "model_name": "ButtonStyleModel",
      "state": {}
     },
     "0ac5c70894314c51bf7b9fad0b1052c3": {
      "model_module": "@jupyter-widgets/base",
      "model_module_version": "1.2.0",
      "model_name": "LayoutModel",
      "state": {}
     },
     "0b5ab63e82cd4e7ea9e710369dfbcd43": {
      "model_module": "@jupyter-widgets/base",
      "model_module_version": "1.2.0",
      "model_name": "LayoutModel",
      "state": {}
     },
     "0bddd4aaa242402f97548cc3b54192b2": {
      "model_module": "@jupyter-widgets/controls",
      "model_module_version": "1.5.0",
      "model_name": "TextareaModel",
      "state": {
       "description": "Motivation",
       "layout": "IPY_MODEL_3d4508b6ae974c2785da3a475497ccb3",
       "style": "IPY_MODEL_6175c42e9bd84c35beaf75cd5f796426"
      }
     },
     "0cc478bad4fc4c8f8db2ee12fbee1d1e": {
      "model_module": "@jupyter-widgets/base",
      "model_module_version": "1.2.0",
      "model_name": "LayoutModel",
      "state": {}
     },
     "0d5e380d0acb4089a4b00401f2b83696": {
      "model_module": "@jupyter-widgets/base",
      "model_module_version": "1.2.0",
      "model_name": "LayoutModel",
      "state": {}
     },
     "0e53649b886c4e4ea14c6ad8d41643e1": {
      "model_module": "@jupyter-widgets/output",
      "model_module_version": "1.0.0",
      "model_name": "OutputModel",
      "state": {
       "layout": "IPY_MODEL_9ca92fa4bfb642cfac6abd97dd5ff469",
       "outputs": [
        {
         "data": {
          "text/html": "<h1 style=\"display: inline;\"><a href=\"WP1.ipynb\">WP1</a></h1><h3 style=\"display: inline;\">(<a href=\"../Home.ipynb\" target=\"_blank\">Home</a>)</h3>",
          "text/plain": "<cassini.ipygui.WHTML at 0x156c79ad358>"
         },
         "metadata": {},
         "output_type": "display_data"
        }
       ]
      }
     },
     "0ecc9218c91943b1a57cdaba1d9700aa": {
      "model_module": "@jupyter-widgets/output",
      "model_module_version": "1.0.0",
      "model_name": "OutputModel",
      "state": {
       "layout": "IPY_MODEL_920314cf2977406c901ad604dbed6308"
      }
     },
     "0f06dfa1526f4d919a172e77e732ab2b": {
      "model_module": "@jupyter-widgets/output",
      "model_module_version": "1.0.0",
      "model_name": "OutputModel",
      "state": {
       "layout": "IPY_MODEL_1c72ffc4bce146638661d0be8d77a1c5",
       "outputs": [
        {
         "data": {
          "text/html": "<h3>Motivation</h3>",
          "text/plain": "<cassini.ipygui.WHTML at 0x156c7726160>"
         },
         "metadata": {},
         "output_type": "display_data"
        }
       ]
      }
     },
     "0f2b387e66b44316aaf1f7622c7b72fa": {
      "model_module": "@jupyter-widgets/output",
      "model_module_version": "1.0.0",
      "model_name": "OutputModel",
      "state": {
       "layout": "IPY_MODEL_4b596fe378d04b3aae8b068d5fe7368c",
       "outputs": [
        {
         "data": {
          "text/markdown": "This description is set when making a new tier, but you can change it later! using `tier.description = 'my description'`",
          "text/plain": "<IPython.core.display.Markdown object>"
         },
         "metadata": {},
         "output_type": "display_data"
        }
       ]
      }
     },
     "106062195db647839b006b552d34561d": {
      "model_module": "@jupyter-widgets/base",
      "model_module_version": "1.2.0",
      "model_name": "LayoutModel",
      "state": {}
     },
     "1139b6e1a1c044a4b368138a1a915292": {
      "model_module": "@jupyter-widgets/base",
      "model_module_version": "1.2.0",
      "model_name": "LayoutModel",
      "state": {}
     },
     "11836536575648e8af3b639f61ac2b92": {
      "model_module": "@jupyter-widgets/controls",
      "model_module_version": "1.5.0",
      "model_name": "ButtonModel",
      "state": {
       "description": "New",
       "layout": "IPY_MODEL_d442b73e894b45c8a53d2ad5acd3049a",
       "style": "IPY_MODEL_1df2f978c0d6457bb2b1ab93ae9b0a7f"
      }
     },
     "11fff20053a6426bb13bbff61d61214a": {
      "model_module": "@jupyter-widgets/controls",
      "model_module_version": "1.5.0",
      "model_name": "TextModel",
      "state": {
       "description": "Identifier",
       "layout": "IPY_MODEL_b787e5a9ced04b38a4fda483b8916a2a",
       "placeholder": "(\\d+)",
       "style": "IPY_MODEL_9d90cdd4b1a34c3b8b88f3107978aabe"
      }
     },
     "12037a875469411580ddb6475c647c99": {
      "model_module": "@jupyter-widgets/base",
      "model_module_version": "1.2.0",
      "model_name": "LayoutModel",
      "state": {
       "width": "auto"
      }
     },
     "144da8e98f9d4c119cfdec2c3822a78c": {
      "model_module": "@jupyter-widgets/controls",
      "model_module_version": "1.5.0",
      "model_name": "ButtonStyleModel",
      "state": {}
     },
     "14dc55f53d3f450995d8ca2b589a8d55": {
      "model_module": "@jupyter-widgets/base",
      "model_module_version": "1.2.0",
      "model_name": "LayoutModel",
      "state": {
       "width": "auto"
      }
     },
     "151eceddfc144a7c95a4cdb7850421b9": {
      "model_module": "@jupyter-widgets/output",
      "model_module_version": "1.0.0",
      "model_name": "OutputModel",
      "state": {
       "layout": "IPY_MODEL_a420c002de414b2381e94394f487a59f",
       "outputs": [
        {
         "data": {
          "text/html": "<h3>Experiments</h3>",
          "text/plain": "<cassini.ipygui.WHTML at 0x156c77dfdd8>"
         },
         "metadata": {},
         "output_type": "display_data"
        }
       ]
      }
     },
     "175c166d0e0f4891b7d4f36f4fd40758": {
      "model_module": "@jupyter-widgets/base",
      "model_module_version": "1.2.0",
      "model_name": "LayoutModel",
      "state": {
       "width": "auto"
      }
     },
     "19b05c98245049db98f68f49bbaf7357": {
      "model_module": "@jupyter-widgets/base",
      "model_module_version": "1.2.0",
      "model_name": "LayoutModel",
      "state": {}
     },
     "19c82230cb1c4bdcbc86c53b27cf8878": {
      "model_module": "@jupyter-widgets/controls",
      "model_module_version": "1.5.0",
      "model_name": "ButtonModel",
      "state": {
       "description": "New",
       "layout": "IPY_MODEL_ca8f5c911ed34818aa3205414f8dab82",
       "style": "IPY_MODEL_2c567fa8f857451b8888e3286e861333"
      }
     },
     "19ea71a45779467aa25d886770f18c8d": {
      "model_module": "@jupyter-widgets/base",
      "model_module_version": "1.2.0",
      "model_name": "LayoutModel",
      "state": {}
     },
     "1ae3de850b4a4c0bbb01c90dd0368f3d": {
      "model_module": "@jupyter-widgets/base",
      "model_module_version": "1.2.0",
      "model_name": "LayoutModel",
      "state": {}
     },
     "1b3053bd5401474a8271bb23235e0578": {
      "model_module": "@jupyter-widgets/base",
      "model_module_version": "1.2.0",
      "model_name": "LayoutModel",
      "state": {}
     },
     "1bdd66de7d3649bf9884e82fecab115a": {
      "model_module": "@jupyter-widgets/base",
      "model_module_version": "1.2.0",
      "model_name": "LayoutModel",
      "state": {
       "width": "auto"
      }
     },
     "1bf4ef82be424b6fa6d01dc780db4b15": {
      "model_module": "@jupyter-widgets/base",
      "model_module_version": "1.2.0",
      "model_name": "LayoutModel",
      "state": {
       "width": "auto"
      }
     },
     "1c72ffc4bce146638661d0be8d77a1c5": {
      "model_module": "@jupyter-widgets/base",
      "model_module_version": "1.2.0",
      "model_name": "LayoutModel",
      "state": {}
     },
     "1c8828d95d37440195a47545fa90e86e": {
      "model_module": "@jupyter-widgets/base",
      "model_module_version": "1.2.0",
      "model_name": "LayoutModel",
      "state": {}
     },
     "1cf313c3b0cb46d9b9af71c66f5718d9": {
      "model_module": "@jupyter-widgets/base",
      "model_module_version": "1.2.0",
      "model_name": "LayoutModel",
      "state": {}
     },
     "1d253974dad946698c0f8b1834646c98": {
      "model_module": "@jupyter-widgets/controls",
      "model_module_version": "1.5.0",
      "model_name": "VBoxModel",
      "state": {
       "children": [
        "IPY_MODEL_9b3775921ce04873a4e09d5225d70273",
        "IPY_MODEL_4f4077479f7648fa8829e1bd273146a3",
        "IPY_MODEL_6df38a0d27aa4e3e83f8eaa43600b6be",
        "IPY_MODEL_c9e6099e94204180ae962379ceb11684",
        "IPY_MODEL_74a3a54224cc426c97458e6ea35d6a2b"
       ],
       "layout": "IPY_MODEL_56a61b1a5ced4e859af0f99aa28ee494"
      }
     },
     "1d50c15609d1417ba71b37d15e6a3487": {
      "model_module": "@jupyter-widgets/base",
      "model_module_version": "1.2.0",
      "model_name": "LayoutModel",
      "state": {}
     },
     "1dcc207378d647448a6da15d9302c3be": {
      "model_module": "@jupyter-widgets/output",
      "model_module_version": "1.0.0",
      "model_name": "OutputModel",
      "state": {
       "layout": "IPY_MODEL_b691b7d7db1a4d938cb29b5a885e0a33",
       "outputs": [
        {
         "data": {
          "text/html": "<h3>Experiments</h3>",
          "text/plain": "<cassini.ipygui.WHTML at 0x156c6cdb518>"
         },
         "metadata": {},
         "output_type": "display_data"
        }
       ]
      }
     },
     "1df2f978c0d6457bb2b1ab93ae9b0a7f": {
      "model_module": "@jupyter-widgets/controls",
      "model_module_version": "1.5.0",
      "model_name": "ButtonStyleModel",
      "state": {}
     },
     "1e17dd1202114887bb08bc13e6e7a8cd": {
      "model_module": "@jupyter-widgets/base",
      "model_module_version": "1.2.0",
      "model_name": "LayoutModel",
      "state": {}
     },
     "1f06a52255a74a00a9ed6e6436437f12": {
      "model_module": "@jupyter-widgets/base",
      "model_module_version": "1.2.0",
      "model_name": "LayoutModel",
      "state": {}
     },
     "1f3b978bba32435d849cc5162da345c8": {
      "model_module": "@jupyter-widgets/output",
      "model_module_version": "1.0.0",
      "model_name": "OutputModel",
      "state": {
       "layout": "IPY_MODEL_fb590abfed284f04a3d989bc456c01d7",
       "outputs": [
        {
         "data": {
          "text/html": "<h3>Motivation</h3>",
          "text/plain": "<cassini.ipygui.WHTML at 0x156c78979b0>"
         },
         "metadata": {},
         "output_type": "display_data"
        }
       ]
      }
     },
     "1f83dad89eeb4c25bf58e2860238f54f": {
      "model_module": "@jupyter-widgets/output",
      "model_module_version": "1.0.0",
      "model_name": "OutputModel",
      "state": {
       "layout": "IPY_MODEL_1cf313c3b0cb46d9b9af71c66f5718d9",
       "outputs": [
        {
         "data": {
          "text/html": "<h3>Motivation</h3>",
          "text/plain": "<cassini.ipygui.WHTML at 0x156c7820b38>"
         },
         "metadata": {},
         "output_type": "display_data"
        }
       ]
      }
     },
     "20d299ea679846ce8cc08f042c264bde": {
      "model_module": "@jupyter-widgets/controls",
      "model_module_version": "1.5.0",
      "model_name": "ButtonStyleModel",
      "state": {}
     },
     "2128ba3ad5ee48ffbd6c819b960e8ac0": {
      "model_module": "@jupyter-widgets/base",
      "model_module_version": "1.2.0",
      "model_name": "LayoutModel",
      "state": {}
     },
     "22164529668b4e549411352a191d8291": {
      "model_module": "@jupyter-widgets/base",
      "model_module_version": "1.2.0",
      "model_name": "LayoutModel",
      "state": {}
     },
     "224d34f0f85e4d3d8bf0def45ea532ba": {
      "model_module": "@jupyter-widgets/output",
      "model_module_version": "1.0.0",
      "model_name": "OutputModel",
      "state": {
       "layout": "IPY_MODEL_a46efe9ddd914be2a57cdbcc3bd2b0fd",
       "outputs": [
        {
         "data": {
          "text/html": "<h3>New Experiment</h3>",
          "text/plain": "<cassini.ipygui.WHTML at 0x156c7865128>"
         },
         "metadata": {},
         "output_type": "display_data"
        }
       ]
      }
     },
     "2317e5ec89be4aed977af6a020e13b5a": {
      "model_module": "@jupyter-widgets/controls",
      "model_module_version": "1.5.0",
      "model_name": "HBoxModel",
      "state": {
       "children": [
        "IPY_MODEL_a87f61141dbc4c79aef3abd30b79eb33",
        "IPY_MODEL_e359e968e0454cd694f0f12db2d268a9"
       ],
       "layout": "IPY_MODEL_65fb84edb2544ad093989276162b1259"
      }
     },
     "23aa8a5e018849499614591c423882e9": {
      "model_module": "@jupyter-widgets/output",
      "model_module_version": "1.0.0",
      "model_name": "OutputModel",
      "state": {
       "layout": "IPY_MODEL_836a6c523c6148869f0d7039e373992d",
       "outputs": [
        {
         "data": {
          "text/html": "<h3>New Experiment</h3>",
          "text/plain": "<cassini.ipygui.WHTML at 0x156c7986b00>"
         },
         "metadata": {},
         "output_type": "display_data"
        }
       ]
      }
     },
     "2528e176e14c447b81341cd74659602b": {
      "model_module": "@jupyter-widgets/base",
      "model_module_version": "1.2.0",
      "model_name": "LayoutModel",
      "state": {}
     },
     "25c6ac4b6c7c497f9a049a6d5d209c8f": {
      "model_module": "@jupyter-widgets/base",
      "model_module_version": "1.2.0",
      "model_name": "LayoutModel",
      "state": {}
     },
     "260de04004954a53a14db4cda4de3a22": {
      "model_module": "@jupyter-widgets/controls",
      "model_module_version": "1.5.0",
      "model_name": "DescriptionStyleModel",
      "state": {
       "description_width": "10%"
      }
     },
     "265ad902645f40f5b0ebc50000f59c66": {
      "model_module": "@jupyter-widgets/output",
      "model_module_version": "1.0.0",
      "model_name": "OutputModel",
      "state": {
       "layout": "IPY_MODEL_1139b6e1a1c044a4b368138a1a915292",
       "outputs": [
        {
         "data": {
          "text/html": "<h1 style=\"display: inline;\"><a href=\"WP1.ipynb\">WP1</a></h1><h3 style=\"display: inline;\">(<a href=\"../Home.ipynb\" target=\"_blank\">Home</a>)</h3>",
          "text/plain": "<cassini.ipygui.WHTML at 0x156c7849be0>"
         },
         "metadata": {},
         "output_type": "display_data"
        }
       ]
      }
     },
     "26f7c951f09442fc868d67888c1457af": {
      "model_module": "@jupyter-widgets/controls",
      "model_module_version": "1.5.0",
      "model_name": "SelectModel",
      "state": {
       "_options_labels": [
        "Experiment.tmplt.ipynb"
       ],
       "description": "Template",
       "index": 0,
       "layout": "IPY_MODEL_6a875a8b194548169f64b2a19f9a5a24",
       "style": "IPY_MODEL_b24dc5d1989d4f0e95766108cc52915c"
      }
     },
     "2795d29a41ea42c1bcd66b267d62c397": {
      "model_module": "@jupyter-widgets/controls",
      "model_module_version": "1.5.0",
      "model_name": "ButtonModel",
      "state": {
       "description": "Confirm",
       "disabled": true,
       "layout": "IPY_MODEL_f3581ae787ee4dc8bb73b792c61de4a2",
       "style": "IPY_MODEL_b1c905cec06949beb4b0068710d038ba"
      }
     },
     "289706ba5c3e4995b4205fa561f7f4dd": {
      "model_module": "@jupyter-widgets/controls",
      "model_module_version": "1.5.0",
      "model_name": "ButtonModel",
      "state": {
       "description": "Folder",
       "layout": "IPY_MODEL_1f06a52255a74a00a9ed6e6436437f12",
       "style": "IPY_MODEL_7514ab0175164b80a144be4ee9f34ebd"
      }
     },
     "28ea608eb508492b8cda418da4455577": {
      "model_module": "@jupyter-widgets/controls",
      "model_module_version": "1.5.0",
      "model_name": "SelectModel",
      "state": {
       "_options_labels": [
        "Experiment.tmplt.ipynb"
       ],
       "description": "Template",
       "index": 0,
       "layout": "IPY_MODEL_ea568b9a214d40168af0b4017a0a43a8",
       "style": "IPY_MODEL_b2df831e3ddf41ee970c59016d39de27"
      }
     },
     "28fee9c00831497ca30653fb3f7e63f4": {
      "model_module": "@jupyter-widgets/base",
      "model_module_version": "1.2.0",
      "model_name": "LayoutModel",
      "state": {}
     },
     "29735266e48940f3aa1a9caa08f868f3": {
      "model_module": "@jupyter-widgets/base",
      "model_module_version": "1.2.0",
      "model_name": "LayoutModel",
      "state": {}
     },
     "29b1b887afb9410d9e2477cd9c6fec62": {
      "model_module": "@jupyter-widgets/base",
      "model_module_version": "1.2.0",
      "model_name": "LayoutModel",
      "state": {}
     },
     "2ad8e8752b474a6c91b53dca9ed480b1": {
      "model_module": "@jupyter-widgets/controls",
      "model_module_version": "1.5.0",
      "model_name": "ButtonStyleModel",
      "state": {}
     },
     "2af413d96dcc45eb8733b63ff5120979": {
      "model_module": "@jupyter-widgets/controls",
      "model_module_version": "1.5.0",
      "model_name": "ButtonStyleModel",
      "state": {}
     },
     "2b1198a6857748eb92da82896d1bb490": {
      "model_module": "@jupyter-widgets/controls",
      "model_module_version": "1.5.0",
      "model_name": "DescriptionStyleModel",
      "state": {
       "description_width": "10%"
      }
     },
     "2c074a8e4c4146d3babcaee3e87bc429": {
      "model_module": "@jupyter-widgets/controls",
      "model_module_version": "1.5.0",
      "model_name": "VBoxModel",
      "state": {
       "children": [
        "IPY_MODEL_670460270c1248f3ac026efe637fa12c",
        "IPY_MODEL_4072b2d985f649a0ae91a9722056c8e3"
       ],
       "layout": "IPY_MODEL_91ff7ab7d9c84819928392b6300ab67f"
      }
     },
     "2c14d9d399b9458490f7550effd0a859": {
      "model_module": "@jupyter-widgets/base",
      "model_module_version": "1.2.0",
      "model_name": "LayoutModel",
      "state": {}
     },
     "2c45343bfa6249be8459778537d948e2": {
      "model_module": "@jupyter-widgets/base",
      "model_module_version": "1.2.0",
      "model_name": "LayoutModel",
      "state": {}
     },
     "2c567fa8f857451b8888e3286e861333": {
      "model_module": "@jupyter-widgets/controls",
      "model_module_version": "1.5.0",
      "model_name": "ButtonStyleModel",
      "state": {}
     },
     "2d4804ef531344c6b4df271cfe336a27": {
      "model_module": "@jupyter-widgets/controls",
      "model_module_version": "1.5.0",
      "model_name": "VBoxModel",
      "state": {
       "children": [
        "IPY_MODEL_339e537db9524ed195d15d03aeb4ff15",
        "IPY_MODEL_c88b130862404e4da1be64eddb537879"
       ],
       "layout": "IPY_MODEL_e4eee48055474f5baa725bb2edb5aa05"
      }
     },
     "2d5735e73ae24c10b6fe4e9ccdeb5e89": {
      "model_module": "@jupyter-widgets/base",
      "model_module_version": "1.2.0",
      "model_name": "LayoutModel",
      "state": {
       "width": "auto"
      }
     },
     "2dda2cdc687f4478a1d52af0c42631bf": {
      "model_module": "@jupyter-widgets/controls",
      "model_module_version": "1.5.0",
      "model_name": "ButtonModel",
      "state": {
       "description": "Folder",
       "layout": "IPY_MODEL_07bb733dccc246bc8613a90b0b2e7f4e",
       "style": "IPY_MODEL_d2687698d7c44516ac628a20c6f42d98"
      }
     },
     "2e112a9fc50f472bb7dccf7754e4144f": {
      "model_module": "@jupyter-widgets/base",
      "model_module_version": "1.2.0",
      "model_name": "LayoutModel",
      "state": {}
     },
     "2e238d2fd61d40839292f5600f8b5229": {
      "model_module": "@jupyter-widgets/base",
      "model_module_version": "1.2.0",
      "model_name": "LayoutModel",
      "state": {}
     },
     "2e8b260c13c64d99b3f48b6e06c2aa34": {
      "model_module": "@jupyter-widgets/controls",
      "model_module_version": "1.5.0",
      "model_name": "ButtonModel",
      "state": {
       "description": "Folder",
       "layout": "IPY_MODEL_cf8c99c217404d96a078513df71d2cc0",
       "style": "IPY_MODEL_41d1d5439a6848e1b9a2af60ee11bc91"
      }
     },
     "2fdde065eb3446eb8164b3c6d5022668": {
      "model_module": "@jupyter-widgets/base",
      "model_module_version": "1.2.0",
      "model_name": "LayoutModel",
      "state": {}
     },
     "3024788925ec4aa291f7fb9bbeb69153": {
      "model_module": "@jupyter-widgets/controls",
      "model_module_version": "1.5.0",
      "model_name": "ButtonModel",
      "state": {
       "description": "New",
       "layout": "IPY_MODEL_00e0510ce3984d898063d0fb0cf9663c",
       "style": "IPY_MODEL_4a52f194b0104991a2431375978cca3a"
      }
     },
     "308339b3870445cd85ab313789fd67b6": {
      "model_module": "@jupyter-widgets/controls",
      "model_module_version": "1.5.0",
      "model_name": "HBoxModel",
      "state": {
       "children": [
        "IPY_MODEL_9ec2469bbc2b40b196a53c9569a86c1f",
        "IPY_MODEL_513c239866d94a0fb6613fcc7c69d7bf"
       ],
       "layout": "IPY_MODEL_2128ba3ad5ee48ffbd6c819b960e8ac0"
      }
     },
     "3133131cc47d4a20afdbcd42843615a2": {
      "model_module": "@jupyter-widgets/base",
      "model_module_version": "1.2.0",
      "model_name": "LayoutModel",
      "state": {}
     },
     "317d640685f74924afc4e513334af046": {
      "model_module": "@jupyter-widgets/base",
      "model_module_version": "1.2.0",
      "model_name": "LayoutModel",
      "state": {
       "width": "auto"
      }
     },
     "324549f6e47c4e0aa014de10838e4bf0": {
      "model_module": "@jupyter-widgets/controls",
      "model_module_version": "1.5.0",
      "model_name": "VBoxModel",
      "state": {
       "children": [
        "IPY_MODEL_d73125760e584ae3ab88248719fe00ba",
        "IPY_MODEL_db534964a88d42279710ea0ce123a10e",
        "IPY_MODEL_0045937165994fa6bd029a259f538698",
        "IPY_MODEL_f6203ea242934917990b840fa942e441",
        "IPY_MODEL_ffb3301a741d465a9103ecc188b6a09e"
       ],
       "layout": "IPY_MODEL_c86b848538764e43995cc58e369c8367"
      }
     },
     "332125fd74374808a99720072d43906e": {
      "model_module": "@jupyter-widgets/output",
      "model_module_version": "1.0.0",
      "model_name": "OutputModel",
      "state": {
       "layout": "IPY_MODEL_56a3feb448ee4d57b2111061e47ceeea",
       "outputs": [
        {
         "data": {
          "text/html": "<table border=\"1\" class=\"dataframe\">\n  <thead>\n    <tr style=\"text-align: right;\">\n      <th></th>\n      <th>started</th>\n      <th>description</th>\n      <th>additional</th>\n      <th>Obj</th>\n    </tr>\n    <tr>\n      <th>Name</th>\n      <th></th>\n      <th></th>\n      <th></th>\n      <th></th>\n    </tr>\n  </thead>\n  <tbody>\n    <tr>\n      <th>WP1.1</th>\n      <td>2020-06-29</td>\n      <td>Fine</td>\n      <td>100.0</td>\n      <td><a href=\"WP1/WP1.1.ipynb\" target=\"_blank\"><h3 style=\"display: inline;\">WP1.1</h3 style=\"display: inline;\"</a></td>\n    </tr>\n    <tr>\n      <th>WP1.2</th>\n      <td>2020-06-29</td>\n      <td></td>\n      <td>NaN</td>\n      <td><a href=\"WP1/WP1.2.ipynb\" target=\"_blank\"><h3 style=\"display: inline;\">WP1.2</h3 style=\"display: inline;\"</a></td>\n    </tr>\n  </tbody>\n</table>",
          "text/plain": "         started description  additional                   Obj\nName                                                          \nWP1.1 2020-06-29        Fine       100.0  <Experiment \"WP1.1\">\nWP1.2 2020-06-29                     NaN  <Experiment \"WP1.2\">"
         },
         "metadata": {},
         "output_type": "display_data"
        }
       ]
      }
     },
     "3393fce484f0448e95a88f7de4119d97": {
      "model_module": "@jupyter-widgets/base",
      "model_module_version": "1.2.0",
      "model_name": "LayoutModel",
      "state": {}
     },
     "3395bf350740433d8358d1afc4fd0587": {
      "model_module": "@jupyter-widgets/base",
      "model_module_version": "1.2.0",
      "model_name": "LayoutModel",
      "state": {}
     },
     "339e537db9524ed195d15d03aeb4ff15": {
      "model_module": "@jupyter-widgets/output",
      "model_module_version": "1.0.0",
      "model_name": "OutputModel",
      "state": {
       "layout": "IPY_MODEL_1c8828d95d37440195a47545fa90e86e",
       "outputs": [
        {
         "data": {
          "text/html": "<h1 style=\"display: inline;\"><a href=\"WP1.ipynb\">WP1</a></h1><h3 style=\"display: inline;\">(<a href=\"../Home.ipynb\" target=\"_blank\">Home</a>)</h3>",
          "text/plain": "<cassini.ipygui.WHTML at 0x156c76f4be0>"
         },
         "metadata": {},
         "output_type": "display_data"
        }
       ]
      }
     },
     "33d9bde4ab3f47b5b5391842e2f3168c": {
      "model_module": "@jupyter-widgets/controls",
      "model_module_version": "1.5.0",
      "model_name": "VBoxModel",
      "state": {
       "children": [
        "IPY_MODEL_0e53649b886c4e4ea14c6ad8d41643e1",
        "IPY_MODEL_872c6973e30d4189a51c9678bab2e9aa"
       ],
       "layout": "IPY_MODEL_e95c70d7b0c242bea40b79c612d2f9c5"
      }
     },
     "33eb190ad9cb4cc89d806322c095ec57": {
      "model_module": "@jupyter-widgets/output",
      "model_module_version": "1.0.0",
      "model_name": "OutputModel",
      "state": {
       "layout": "IPY_MODEL_42158d92ee124864ac89fb1ba91896d3"
      }
     },
     "341f96723ecb4957a1d93a8acca6ee3b": {
      "model_module": "@jupyter-widgets/base",
      "model_module_version": "1.2.0",
      "model_name": "LayoutModel",
      "state": {}
     },
     "342732c91ab0416e8e18505005ddd4da": {
      "model_module": "@jupyter-widgets/controls",
      "model_module_version": "1.5.0",
      "model_name": "VBoxModel",
      "state": {
       "children": [
        "IPY_MODEL_b344f1e5a945484487d318ac8539edff",
        "IPY_MODEL_b6a04653529443b48037159e9e92a4d4",
        "IPY_MODEL_0bddd4aaa242402f97548cc3b54192b2",
        "IPY_MODEL_92f12efe79514d7faa3005eb3bfa9649",
        "IPY_MODEL_757a1259d08e4c85b910bb8bb32d450d"
       ],
       "layout": "IPY_MODEL_3dc3cdc2715a4b28a1f129519ab561cc"
      }
     },
     "343a9177b703481782cbee3982874c50": {
      "model_module": "@jupyter-widgets/base",
      "model_module_version": "1.2.0",
      "model_name": "LayoutModel",
      "state": {}
     },
     "368166eaa59a47d2b11834027bf64c55": {
      "model_module": "@jupyter-widgets/base",
      "model_module_version": "1.2.0",
      "model_name": "LayoutModel",
      "state": {}
     },
     "373b1cf3dd5046f7be23d7e546c66945": {
      "model_module": "@jupyter-widgets/controls",
      "model_module_version": "1.5.0",
      "model_name": "VBoxModel",
      "state": {
       "children": [
        "IPY_MODEL_11fff20053a6426bb13bbff61d61214a",
        "IPY_MODEL_28ea608eb508492b8cda418da4455577",
        "IPY_MODEL_a8da67510301493a9cbd225ef65910ce",
        "IPY_MODEL_308339b3870445cd85ab313789fd67b6",
        "IPY_MODEL_4b9ebffe62b042a3a4076987156385e0"
       ],
       "layout": "IPY_MODEL_9cf2ed20b2744c2a901f858c82714967"
      }
     },
     "373ff25092b64da5bbef7a63178ee109": {
      "model_module": "@jupyter-widgets/base",
      "model_module_version": "1.2.0",
      "model_name": "LayoutModel",
      "state": {}
     },
     "39eb3a2d7d4b40fc8af41fa1bf0be413": {
      "model_module": "@jupyter-widgets/controls",
      "model_module_version": "1.5.0",
      "model_name": "ButtonModel",
      "state": {
       "description": "New",
       "layout": "IPY_MODEL_d0c9ee93571e46adafba98cdbef9f18d",
       "style": "IPY_MODEL_ac06ee3813d24918bd8e0a1b5f5e5fd5"
      }
     },
     "3a868a8c80634e1e9f3ba350ba7b5f24": {
      "model_module": "@jupyter-widgets/base",
      "model_module_version": "1.2.0",
      "model_name": "LayoutModel",
      "state": {}
     },
     "3d4508b6ae974c2785da3a475497ccb3": {
      "model_module": "@jupyter-widgets/base",
      "model_module_version": "1.2.0",
      "model_name": "LayoutModel",
      "state": {
       "width": "auto"
      }
     },
     "3dc3cdc2715a4b28a1f129519ab561cc": {
      "model_module": "@jupyter-widgets/base",
      "model_module_version": "1.2.0",
      "model_name": "LayoutModel",
      "state": {}
     },
     "3dc5c8f4011f45d79e4065eabb61f510": {
      "model_module": "@jupyter-widgets/base",
      "model_module_version": "1.2.0",
      "model_name": "LayoutModel",
      "state": {}
     },
     "3de9a5e47e5442f19195d603d2c8b25c": {
      "model_module": "@jupyter-widgets/base",
      "model_module_version": "1.2.0",
      "model_name": "LayoutModel",
      "state": {}
     },
     "3f09a44bc41c49fa8d1d244f6d0ea17d": {
      "model_module": "@jupyter-widgets/controls",
      "model_module_version": "1.5.0",
      "model_name": "DescriptionStyleModel",
      "state": {
       "description_width": "10%"
      }
     },
     "3f66094905c44296ba62992f4648635b": {
      "model_module": "@jupyter-widgets/controls",
      "model_module_version": "1.5.0",
      "model_name": "TextareaModel",
      "state": {
       "description": "Motivation",
       "disabled": true,
       "layout": "IPY_MODEL_cfc55508cec048c586eafcbe6d23351b",
       "style": "IPY_MODEL_7b76fff7b85149cd934c4c7ed0e88f5b",
       "value": "My Description"
      }
     },
     "3fa65e05f2af420582922774cf4f46c3": {
      "model_module": "@jupyter-widgets/base",
      "model_module_version": "1.2.0",
      "model_name": "LayoutModel",
      "state": {
       "width": "auto"
      }
     },
     "4072b2d985f649a0ae91a9722056c8e3": {
      "model_module": "@jupyter-widgets/controls",
      "model_module_version": "1.5.0",
      "model_name": "ButtonModel",
      "state": {
       "description": "Folder",
       "layout": "IPY_MODEL_19b05c98245049db98f68f49bbaf7357",
       "style": "IPY_MODEL_f3fdb5c822d1408b82fd874bedfcd434"
      }
     },
     "4116c5b8f58c4d718f683dbb5857111d": {
      "model_module": "@jupyter-widgets/controls",
      "model_module_version": "1.5.0",
      "model_name": "SelectModel",
      "state": {
       "_options_labels": [
        "Experiment.tmplt.ipynb"
       ],
       "description": "Template",
       "index": 0,
       "layout": "IPY_MODEL_b2f0d4b1021a488ab7c57d115a888f3a",
       "style": "IPY_MODEL_ed3492a7e9a7412884e62b8eda0227ba"
      }
     },
     "41d1d5439a6848e1b9a2af60ee11bc91": {
      "model_module": "@jupyter-widgets/controls",
      "model_module_version": "1.5.0",
      "model_name": "ButtonStyleModel",
      "state": {}
     },
     "42158d92ee124864ac89fb1ba91896d3": {
      "model_module": "@jupyter-widgets/base",
      "model_module_version": "1.2.0",
      "model_name": "LayoutModel",
      "state": {}
     },
     "4470a36b41024e2da91a392584cec460": {
      "model_module": "@jupyter-widgets/output",
      "model_module_version": "1.0.0",
      "model_name": "OutputModel",
      "state": {
       "layout": "IPY_MODEL_cb7b2e9b506f4846b18ad428db3402dc",
       "outputs": [
        {
         "data": {
          "text/html": "<h3>Experiments</h3>",
          "text/plain": "<cassini.ipygui.WHTML at 0x156c77264e0>"
         },
         "metadata": {},
         "output_type": "display_data"
        }
       ]
      }
     },
     "44dae5673c304061b794849187c930e5": {
      "model_module": "@jupyter-widgets/base",
      "model_module_version": "1.2.0",
      "model_name": "LayoutModel",
      "state": {}
     },
     "454ae4c26d8c4b9a9efe817ee86cb7a2": {
      "model_module": "@jupyter-widgets/base",
      "model_module_version": "1.2.0",
      "model_name": "LayoutModel",
      "state": {
       "width": "auto"
      }
     },
     "46503dea143d45b1a010814cddc4f5e3": {
      "model_module": "@jupyter-widgets/base",
      "model_module_version": "1.2.0",
      "model_name": "LayoutModel",
      "state": {}
     },
     "475d4a5a1a9a4c0ba98f3e30a95433ef": {
      "model_module": "@jupyter-widgets/base",
      "model_module_version": "1.2.0",
      "model_name": "LayoutModel",
      "state": {}
     },
     "47d3da80be26412c8ed7f0fe610c78c6": {
      "model_module": "@jupyter-widgets/output",
      "model_module_version": "1.0.0",
      "model_name": "OutputModel",
      "state": {
       "layout": "IPY_MODEL_4c24f7613f67488c826c6e9a14a1fd17",
       "outputs": [
        {
         "data": {
          "text/html": "<h3>Experiments</h3>",
          "text/plain": "<cassini.ipygui.WHTML at 0x156c7726390>"
         },
         "metadata": {},
         "output_type": "display_data"
        }
       ]
      }
     },
     "48de01545e834d69995c3f71b7a89e16": {
      "model_module": "@jupyter-widgets/controls",
      "model_module_version": "1.5.0",
      "model_name": "SelectModel",
      "state": {
       "_options_labels": [
        "Experiment.tmplt.ipynb"
       ],
       "description": "Template",
       "index": 0,
       "layout": "IPY_MODEL_78141a70327c496992b304552980dcc4",
       "style": "IPY_MODEL_efb204d831ae42f8ad2f7babc27b8137"
      }
     },
     "4940b8adfcd54d66afb065c8c2d56767": {
      "model_module": "@jupyter-widgets/controls",
      "model_module_version": "1.5.0",
      "model_name": "ButtonModel",
      "state": {
       "description": "Confirm",
       "disabled": true,
       "layout": "IPY_MODEL_accbb0d040f2438b92a020328da0190f",
       "style": "IPY_MODEL_df59da3449d64afd9e3a3ae9b3d38eb3"
      }
     },
     "49b2263d455d40dbb337c78cf7eafb44": {
      "model_module": "@jupyter-widgets/output",
      "model_module_version": "1.0.0",
      "model_name": "OutputModel",
      "state": {
       "layout": "IPY_MODEL_8b0b3ae806ab4359a66c569b61c196fc"
      }
     },
     "4a30e14d7a76471ab13cc34af3521f54": {
      "model_module": "@jupyter-widgets/controls",
      "model_module_version": "1.5.0",
      "model_name": "VBoxModel",
      "state": {
       "children": [
        "IPY_MODEL_a95c02de23ab49d683d71cf01a7ad9b6",
        "IPY_MODEL_48de01545e834d69995c3f71b7a89e16",
        "IPY_MODEL_05855c1baa6d4f638e7058c3daadabba",
        "IPY_MODEL_e62cb6cd70624152be23ab7016f727d7",
        "IPY_MODEL_49b2263d455d40dbb337c78cf7eafb44"
       ],
       "layout": "IPY_MODEL_e8ea810fd9ad43e5ada09ea6fd8223ee"
      }
     },
     "4a52f194b0104991a2431375978cca3a": {
      "model_module": "@jupyter-widgets/controls",
      "model_module_version": "1.5.0",
      "model_name": "ButtonStyleModel",
      "state": {}
     },
     "4b596fe378d04b3aae8b068d5fe7368c": {
      "model_module": "@jupyter-widgets/base",
      "model_module_version": "1.2.0",
      "model_name": "LayoutModel",
      "state": {}
     },
     "4b6bbd1950ec4309ae59aaf037a6b003": {
      "model_module": "@jupyter-widgets/output",
      "model_module_version": "1.0.0",
      "model_name": "OutputModel",
      "state": {
       "layout": "IPY_MODEL_9bfe812cf0d3468da803a0df0acaac2c",
       "outputs": [
        {
         "data": {
          "text/html": "<h3>New Experiment</h3>",
          "text/plain": "<cassini.ipygui.WHTML at 0x156c7a27630>"
         },
         "metadata": {},
         "output_type": "display_data"
        }
       ]
      }
     },
     "4b9ebffe62b042a3a4076987156385e0": {
      "model_module": "@jupyter-widgets/output",
      "model_module_version": "1.0.0",
      "model_name": "OutputModel",
      "state": {
       "layout": "IPY_MODEL_3a868a8c80634e1e9f3ba350ba7b5f24"
      }
     },
     "4ba2fb6884344e46898df9660d9fc461": {
      "model_module": "@jupyter-widgets/controls",
      "model_module_version": "1.5.0",
      "model_name": "ButtonModel",
      "state": {
       "description": "Folder",
       "layout": "IPY_MODEL_c42d2fa80a864cf89470c934ca41d427",
       "style": "IPY_MODEL_01a88b6a605d433283d5a30a03380b72"
      }
     },
     "4c24f7613f67488c826c6e9a14a1fd17": {
      "model_module": "@jupyter-widgets/base",
      "model_module_version": "1.2.0",
      "model_name": "LayoutModel",
      "state": {}
     },
     "4d32b30b5e2241ada6b408f927deb23c": {
      "model_module": "@jupyter-widgets/controls",
      "model_module_version": "1.5.0",
      "model_name": "VBoxModel",
      "state": {
       "children": [
        "IPY_MODEL_7ddb193011a747fba67658cbc5205963",
        "IPY_MODEL_77036b8999e84b74afc60067ed3bf6d5"
       ],
       "layout": "IPY_MODEL_9d5708cd5cfd41a986ab076141fd48dd"
      }
     },
     "4d81293c40f8433c95d6afbf1b681eb1": {
      "model_module": "@jupyter-widgets/output",
      "model_module_version": "1.0.0",
      "model_name": "OutputModel",
      "state": {
       "layout": "IPY_MODEL_2528e176e14c447b81341cd74659602b",
       "outputs": [
        {
         "data": {
          "text/html": "<h1 style=\"display: inline;\"><a href=\"WP1.ipynb\">WP1</a></h1><h3 style=\"display: inline;\">(<a href=\"../Home.ipynb\" target=\"_blank\">Home</a>)</h3>",
          "text/plain": "<cassini.ipygui.WHTML at 0x156c779acc0>"
         },
         "metadata": {},
         "output_type": "display_data"
        }
       ]
      }
     },
     "4d9bf016fed34089813dffba6cfc2dc0": {
      "model_module": "@jupyter-widgets/output",
      "model_module_version": "1.0.0",
      "model_name": "OutputModel",
      "state": {
       "layout": "IPY_MODEL_0cc478bad4fc4c8f8db2ee12fbee1d1e",
       "outputs": [
        {
         "data": {
          "text/html": "<table border=\"1\" class=\"dataframe\">\n  <thead>\n    <tr style=\"text-align: right;\">\n      <th></th>\n      <th>started</th>\n      <th>description</th>\n      <th>additional</th>\n      <th>Obj</th>\n    </tr>\n    <tr>\n      <th>Name</th>\n      <th></th>\n      <th></th>\n      <th></th>\n      <th></th>\n    </tr>\n  </thead>\n  <tbody>\n    <tr>\n      <th>WP1.1</th>\n      <td>2020-06-29</td>\n      <td>Fine</td>\n      <td>100.0</td>\n      <td><a href=\"WP1/WP1.1.ipynb\" target=\"_blank\"><h3 style=\"display: inline;\">WP1.1</h3 style=\"display: inline;\"</a></td>\n    </tr>\n    <tr>\n      <th>WP1.2</th>\n      <td>2020-06-29</td>\n      <td></td>\n      <td>NaN</td>\n      <td><a href=\"WP1/WP1.2.ipynb\" target=\"_blank\"><h3 style=\"display: inline;\">WP1.2</h3 style=\"display: inline;\"</a></td>\n    </tr>\n  </tbody>\n</table>",
          "text/plain": "         started description  additional                   Obj\nName                                                          \nWP1.1 2020-06-29        Fine       100.0  <Experiment \"WP1.1\">\nWP1.2 2020-06-29                     NaN  <Experiment \"WP1.2\">"
         },
         "metadata": {},
         "output_type": "display_data"
        }
       ]
      }
     },
     "4db62b5e69e8437ca23cb4ebe26be29f": {
      "model_module": "@jupyter-widgets/output",
      "model_module_version": "1.0.0",
      "model_name": "OutputModel",
      "state": {
       "layout": "IPY_MODEL_765a61fadd594cdb9f23fe632530ef80",
       "outputs": [
        {
         "data": {
          "text/markdown": "Gobble Gobble",
          "text/plain": "<IPython.core.display.Markdown object>"
         },
         "metadata": {},
         "output_type": "display_data"
        }
       ]
      }
     },
     "4dc3ca0c6399413fa79d7f305b75108f": {
      "model_module": "@jupyter-widgets/controls",
      "model_module_version": "1.5.0",
      "model_name": "ButtonModel",
      "state": {
       "description": "Confirm",
       "disabled": true,
       "layout": "IPY_MODEL_0ac5c70894314c51bf7b9fad0b1052c3",
       "style": "IPY_MODEL_ba722ba2f1e744f88a7decc2a5c3e0eb"
      }
     },
     "4e0b41390ab84b2d8d813489e4618e02": {
      "model_module": "@jupyter-widgets/base",
      "model_module_version": "1.2.0",
      "model_name": "LayoutModel",
      "state": {}
     },
     "4ebc595de3af453d85fa42a85f6251ab": {
      "model_module": "@jupyter-widgets/base",
      "model_module_version": "1.2.0",
      "model_name": "LayoutModel",
      "state": {}
     },
     "4f2658346c524f349ed77746b0502873": {
      "model_module": "@jupyter-widgets/base",
      "model_module_version": "1.2.0",
      "model_name": "LayoutModel",
      "state": {
       "width": "auto"
      }
     },
     "4f39f1e503624c2ea894b146b9e92088": {
      "model_module": "@jupyter-widgets/controls",
      "model_module_version": "1.5.0",
      "model_name": "ButtonStyleModel",
      "state": {}
     },
     "4f4077479f7648fa8829e1bd273146a3": {
      "model_module": "@jupyter-widgets/controls",
      "model_module_version": "1.5.0",
      "model_name": "SelectModel",
      "state": {
       "_options_labels": [
        "Experiment.tmplt.ipynb"
       ],
       "description": "Template",
       "index": 0,
       "layout": "IPY_MODEL_fbc6caf4264443d39cdbc42ade279af0",
       "style": "IPY_MODEL_55d73ada2b584b1da461a8174c4a8e16"
      }
     },
     "513c239866d94a0fb6613fcc7c69d7bf": {
      "model_module": "@jupyter-widgets/controls",
      "model_module_version": "1.5.0",
      "model_name": "ButtonModel",
      "state": {
       "description": "New",
       "layout": "IPY_MODEL_1e17dd1202114887bb08bc13e6e7a8cd",
       "style": "IPY_MODEL_93e7bf743a9949ad80943de23f27af56"
      }
     },
     "51557d9219704984979a6c293c07ab46": {
      "model_module": "@jupyter-widgets/base",
      "model_module_version": "1.2.0",
      "model_name": "LayoutModel",
      "state": {}
     },
     "539143185cf6494e889472a040ec2c8a": {
      "model_module": "@jupyter-widgets/base",
      "model_module_version": "1.2.0",
      "model_name": "LayoutModel",
      "state": {}
     },
     "5416d9dca8814e1d8af9d29fecc59d0b": {
      "model_module": "@jupyter-widgets/output",
      "model_module_version": "1.0.0",
      "model_name": "OutputModel",
      "state": {
       "layout": "IPY_MODEL_6b36e88763424b77a080587b331f87a9",
       "outputs": [
        {
         "data": {
          "text/html": "<a href=\"WP1/WP1.3.ipynb\" target=\"_blank\"><h3 style=\"display: inline;\">WP1.3</h3 style=\"display: inline;\"</a>",
          "text/plain": "<cassini.ipygui.WHTML at 0x156c7a48860>"
         },
         "metadata": {},
         "output_type": "display_data"
        }
       ]
      }
     },
     "545f2ff5e2f747ee8ffc6cc99a010786": {
      "model_module": "@jupyter-widgets/base",
      "model_module_version": "1.2.0",
      "model_name": "LayoutModel",
      "state": {}
     },
     "546f3ae610e14050bbe9a3145fc12d0a": {
      "model_module": "@jupyter-widgets/base",
      "model_module_version": "1.2.0",
      "model_name": "LayoutModel",
      "state": {
       "width": "auto"
      }
     },
     "5502d57526034819b5c04d1ea616d468": {
      "model_module": "@jupyter-widgets/base",
      "model_module_version": "1.2.0",
      "model_name": "LayoutModel",
      "state": {}
     },
     "55d73ada2b584b1da461a8174c4a8e16": {
      "model_module": "@jupyter-widgets/controls",
      "model_module_version": "1.5.0",
      "model_name": "DescriptionStyleModel",
      "state": {
       "description_width": "10%"
      }
     },
     "564498da84c64ab7bcbd651435a17162": {
      "model_module": "@jupyter-widgets/output",
      "model_module_version": "1.0.0",
      "model_name": "OutputModel",
      "state": {
       "layout": "IPY_MODEL_368166eaa59a47d2b11834027bf64c55",
       "outputs": [
        {
         "data": {
          "text/markdown": "This description is set when making a new tier, but you can change it later! using `tier.description = 'my description'`",
          "text/plain": "<IPython.core.display.Markdown object>"
         },
         "metadata": {},
         "output_type": "display_data"
        }
       ]
      }
     },
     "56a3feb448ee4d57b2111061e47ceeea": {
      "model_module": "@jupyter-widgets/base",
      "model_module_version": "1.2.0",
      "model_name": "LayoutModel",
      "state": {}
     },
     "56a61b1a5ced4e859af0f99aa28ee494": {
      "model_module": "@jupyter-widgets/base",
      "model_module_version": "1.2.0",
      "model_name": "LayoutModel",
      "state": {}
     },
     "585ce9b0ad9745a28cb3b8a68333cb66": {
      "model_module": "@jupyter-widgets/base",
      "model_module_version": "1.2.0",
      "model_name": "LayoutModel",
      "state": {}
     },
     "593cad16b3194c408922e470bc8e504e": {
      "model_module": "@jupyter-widgets/controls",
      "model_module_version": "1.5.0",
      "model_name": "VBoxModel",
      "state": {
       "children": [
        "IPY_MODEL_2d4804ef531344c6b4df271cfe336a27",
        "IPY_MODEL_0f06dfa1526f4d919a172e77e732ab2b",
        "IPY_MODEL_5a043867989e4b6a9879ddc6487bd3d3",
        "IPY_MODEL_1dcc207378d647448a6da15d9302c3be",
        "IPY_MODEL_c370ba7ef0a240d794ee28f2b70797d1",
        "IPY_MODEL_b6f6dd9eb9044550a2112b0d95994fdf",
        "IPY_MODEL_4a30e14d7a76471ab13cc34af3521f54"
       ],
       "layout": "IPY_MODEL_2e112a9fc50f472bb7dccf7754e4144f"
      }
     },
     "5996924256ad4529b373b6f49b69ac43": {
      "model_module": "@jupyter-widgets/output",
      "model_module_version": "1.0.0",
      "model_name": "OutputModel",
      "state": {
       "layout": "IPY_MODEL_a01765ebd7194c588c3809c093e1a4c7",
       "outputs": [
        {
         "data": {
          "text/html": "<h3>Motivation</h3>",
          "text/plain": "<cassini.ipygui.WHTML at 0x156c78496d8>"
         },
         "metadata": {},
         "output_type": "display_data"
        }
       ]
      }
     },
     "59e1b3cd1718414f83cb17a4d5725c41": {
      "model_module": "@jupyter-widgets/controls",
      "model_module_version": "1.5.0",
      "model_name": "DescriptionStyleModel",
      "state": {
       "description_width": "10%"
      }
     },
     "5a043867989e4b6a9879ddc6487bd3d3": {
      "model_module": "@jupyter-widgets/output",
      "model_module_version": "1.0.0",
      "model_name": "OutputModel",
      "state": {
       "layout": "IPY_MODEL_686de40bc5804536a89391d513da95ba",
       "outputs": [
        {
         "data": {
          "text/markdown": "Gobble Gobble",
          "text/plain": "<IPython.core.display.Markdown object>"
         },
         "metadata": {},
         "output_type": "display_data"
        }
       ]
      }
     },
     "5aaef983cbf44e199ada21d5dc6daa65": {
      "model_module": "@jupyter-widgets/base",
      "model_module_version": "1.2.0",
      "model_name": "LayoutModel",
      "state": {}
     },
     "5af04cd5cece43239ec3c8dfac90b25b": {
      "model_module": "@jupyter-widgets/controls",
      "model_module_version": "1.5.0",
      "model_name": "DescriptionStyleModel",
      "state": {
       "description_width": "10%"
      }
     },
     "5b3238f2f5704424a8810689b00c97d7": {
      "model_module": "@jupyter-widgets/base",
      "model_module_version": "1.2.0",
      "model_name": "LayoutModel",
      "state": {}
     },
     "5bcf53281fa14b908e75ddc47f68481e": {
      "model_module": "@jupyter-widgets/controls",
      "model_module_version": "1.5.0",
      "model_name": "ButtonModel",
      "state": {
       "description": "New",
       "layout": "IPY_MODEL_29735266e48940f3aa1a9caa08f868f3",
       "style": "IPY_MODEL_a26c0a615fc94577ae2cfd5beb914d34"
      }
     },
     "5c06c5205ed3459a94cdfdd11f8bd0ff": {
      "model_module": "@jupyter-widgets/base",
      "model_module_version": "1.2.0",
      "model_name": "LayoutModel",
      "state": {}
     },
     "5c6f23b7e7904fe8b00bb7e8f1793ec5": {
      "model_module": "@jupyter-widgets/base",
      "model_module_version": "1.2.0",
      "model_name": "LayoutModel",
      "state": {}
     },
     "5e45f039620544069cc253c78d28f0a3": {
      "model_module": "@jupyter-widgets/controls",
      "model_module_version": "1.5.0",
      "model_name": "ButtonStyleModel",
      "state": {}
     },
     "5faa750e262047c9ba4ab6eb9c156c53": {
      "model_module": "@jupyter-widgets/base",
      "model_module_version": "1.2.0",
      "model_name": "LayoutModel",
      "state": {}
     },
     "5fd1735c98d9417c9c4566f3e79ef5b5": {
      "model_module": "@jupyter-widgets/output",
      "model_module_version": "1.0.0",
      "model_name": "OutputModel",
      "state": {
       "layout": "IPY_MODEL_f0abb738de0d4060881bef1bfe92f15a",
       "outputs": [
        {
         "data": {
          "text/html": "<h3>Experiments</h3>",
          "text/plain": "<cassini.ipygui.WHTML at 0x156c77a4668>"
         },
         "metadata": {},
         "output_type": "display_data"
        }
       ]
      }
     },
     "5ff9f28af4bd475f9860ee1219501d5f": {
      "model_module": "@jupyter-widgets/controls",
      "model_module_version": "1.5.0",
      "model_name": "VBoxModel",
      "state": {
       "children": [
        "IPY_MODEL_96961da880ae40779a635fe329df48ac",
        "IPY_MODEL_2e8b260c13c64d99b3f48b6e06c2aa34"
       ],
       "layout": "IPY_MODEL_c672f0d402af4e58a227696ee5438945"
      }
     },
     "60dd468c58644b8b95c24dc2412e82ea": {
      "model_module": "@jupyter-widgets/base",
      "model_module_version": "1.2.0",
      "model_name": "LayoutModel",
      "state": {}
     },
     "6175c42e9bd84c35beaf75cd5f796426": {
      "model_module": "@jupyter-widgets/controls",
      "model_module_version": "1.5.0",
      "model_name": "DescriptionStyleModel",
      "state": {
       "description_width": "10%"
      }
     },
     "61f7218034774035bed7b099e8280004": {
      "model_module": "@jupyter-widgets/controls",
      "model_module_version": "1.5.0",
      "model_name": "DescriptionStyleModel",
      "state": {
       "description_width": "10%"
      }
     },
     "62217c0123dc4538a23cccdbee83b390": {
      "model_module": "@jupyter-widgets/base",
      "model_module_version": "1.2.0",
      "model_name": "LayoutModel",
      "state": {}
     },
     "62a348d67133434f8e717325523c4b3c": {
      "model_module": "@jupyter-widgets/output",
      "model_module_version": "1.0.0",
      "model_name": "OutputModel",
      "state": {
       "layout": "IPY_MODEL_e21abf37ee5245518d5994f39f9468e6",
       "outputs": [
        {
         "data": {
          "text/html": "<h3>Experiments</h3>",
          "text/plain": "<cassini.ipygui.WHTML at 0x156c78496d8>"
         },
         "metadata": {},
         "output_type": "display_data"
        }
       ]
      }
     },
     "62bf450c3c2341ed836d7437d72a3092": {
      "model_module": "@jupyter-widgets/controls",
      "model_module_version": "1.5.0",
      "model_name": "DescriptionStyleModel",
      "state": {
       "description_width": "10%"
      }
     },
     "63111aa1a2914f62b98549e7559bc33f": {
      "model_module": "@jupyter-widgets/base",
      "model_module_version": "1.2.0",
      "model_name": "LayoutModel",
      "state": {}
     },
     "64ebb8df59114cf695137a5c11048657": {
      "model_module": "@jupyter-widgets/controls",
      "model_module_version": "1.5.0",
      "model_name": "HBoxModel",
      "state": {
       "children": [
        "IPY_MODEL_4dc3ca0c6399413fa79d7f305b75108f",
        "IPY_MODEL_9dca19861b7e49b2b4dc2c6a73fa71b7"
       ],
       "layout": "IPY_MODEL_0d5e380d0acb4089a4b00401f2b83696"
      }
     },
     "65b5f832a5f0498b915c22df57463404": {
      "model_module": "@jupyter-widgets/base",
      "model_module_version": "1.2.0",
      "model_name": "LayoutModel",
      "state": {
       "width": "auto"
      }
     },
     "65ef9f75d36143f48771c8ccc63cc547": {
      "model_module": "@jupyter-widgets/base",
      "model_module_version": "1.2.0",
      "model_name": "LayoutModel",
      "state": {}
     },
     "65fb84edb2544ad093989276162b1259": {
      "model_module": "@jupyter-widgets/base",
      "model_module_version": "1.2.0",
      "model_name": "LayoutModel",
      "state": {}
     },
     "66c3e5683c334c1bb92c3b7ea686240d": {
      "model_module": "@jupyter-widgets/controls",
      "model_module_version": "1.5.0",
      "model_name": "DescriptionStyleModel",
      "state": {
       "description_width": "10%"
      }
     },
     "66f84b26b1834a2b93c12226396b77db": {
      "model_module": "@jupyter-widgets/controls",
      "model_module_version": "1.5.0",
      "model_name": "VBoxModel",
      "state": {
       "children": [
        "IPY_MODEL_33d9bde4ab3f47b5b5391842e2f3168c",
        "IPY_MODEL_a8ca27a34ec5468b84673005b6cec702",
        "IPY_MODEL_0f2b387e66b44316aaf1f7622c7b72fa",
        "IPY_MODEL_c1c20ac20e4641508b5f330269f3b973",
        "IPY_MODEL_8accb88b4ab74e519ab1a41e8efaaf95",
        "IPY_MODEL_b7f2ed430cfa4153be2e8d202cf14851",
        "IPY_MODEL_d8a19f1a52fa4099bc3a583cb4d12756"
       ],
       "layout": "IPY_MODEL_839282158d054131a9613c8c535a9da4"
      }
     },
     "670460270c1248f3ac026efe637fa12c": {
      "model_module": "@jupyter-widgets/output",
      "model_module_version": "1.0.0",
      "model_name": "OutputModel",
      "state": {
       "layout": "IPY_MODEL_106062195db647839b006b552d34561d",
       "outputs": [
        {
         "data": {
          "text/html": "<h1 style=\"display: inline;\"><a href=\"WP1.ipynb\">WP1</a></h1><h3 style=\"display: inline;\">(<a href=\"../Home.ipynb\" target=\"_blank\">Home</a>)</h3>",
          "text/plain": "<cassini.ipygui.WHTML at 0x156c78208d0>"
         },
         "metadata": {},
         "output_type": "display_data"
        }
       ]
      }
     },
     "67f352ad12f7457aa34009d276a5ef08": {
      "model_module": "@jupyter-widgets/controls",
      "model_module_version": "1.5.0",
      "model_name": "VBoxModel",
      "state": {
       "children": [
        "IPY_MODEL_4d81293c40f8433c95d6afbf1b681eb1",
        "IPY_MODEL_289706ba5c3e4995b4205fa561f7f4dd"
       ],
       "layout": "IPY_MODEL_68983f07bd5d466baef56938f0f33fc3"
      }
     },
     "681bfc5736c34abdb8767c9967863029": {
      "model_module": "@jupyter-widgets/controls",
      "model_module_version": "1.5.0",
      "model_name": "DescriptionStyleModel",
      "state": {
       "description_width": "10%"
      }
     },
     "6829ba3333a54fb1bbd101e018b8f47d": {
      "model_module": "@jupyter-widgets/controls",
      "model_module_version": "1.5.0",
      "model_name": "SelectModel",
      "state": {
       "_options_labels": [
        "Experiment.tmplt.ipynb"
       ],
       "description": "Template",
       "index": 0,
       "layout": "IPY_MODEL_b2280ee97f82412c9c8fb4b9d406c1d2",
       "style": "IPY_MODEL_c8adfad4302240b5862b080f1c940f23"
      }
     },
     "686290d0c1d54c3bb868efab0069a128": {
      "model_module": "@jupyter-widgets/controls",
      "model_module_version": "1.5.0",
      "model_name": "DescriptionStyleModel",
      "state": {
       "description_width": "10%"
      }
     },
     "686de40bc5804536a89391d513da95ba": {
      "model_module": "@jupyter-widgets/base",
      "model_module_version": "1.2.0",
      "model_name": "LayoutModel",
      "state": {}
     },
     "68983f07bd5d466baef56938f0f33fc3": {
      "model_module": "@jupyter-widgets/base",
      "model_module_version": "1.2.0",
      "model_name": "LayoutModel",
      "state": {}
     },
     "694c87f884894a078e9e8be92f82ce83": {
      "model_module": "@jupyter-widgets/controls",
      "model_module_version": "1.5.0",
      "model_name": "VBoxModel",
      "state": {
       "children": [
        "IPY_MODEL_5ff9f28af4bd475f9860ee1219501d5f",
        "IPY_MODEL_94315845201d403fa181bd4daaa4a6c4",
        "IPY_MODEL_564498da84c64ab7bcbd651435a17162",
        "IPY_MODEL_151eceddfc144a7c95a4cdb7850421b9",
        "IPY_MODEL_8a059107d4a34ba6aae22062ce5cdf8a",
        "IPY_MODEL_23aa8a5e018849499614591c423882e9",
        "IPY_MODEL_324549f6e47c4e0aa014de10838e4bf0"
       ],
       "layout": "IPY_MODEL_9877c14093484659982ff833157e9010"
      }
     },
     "6974104d475e4765ab289d95ec879bf5": {
      "model_module": "@jupyter-widgets/base",
      "model_module_version": "1.2.0",
      "model_name": "LayoutModel",
      "state": {}
     },
     "6a875a8b194548169f64b2a19f9a5a24": {
      "model_module": "@jupyter-widgets/base",
      "model_module_version": "1.2.0",
      "model_name": "LayoutModel",
      "state": {
       "width": "auto"
      }
     },
     "6b36e88763424b77a080587b331f87a9": {
      "model_module": "@jupyter-widgets/base",
      "model_module_version": "1.2.0",
      "model_name": "LayoutModel",
      "state": {}
     },
     "6bab66e80bbc49a1b2bba8a2fdecffb9": {
      "model_module": "@jupyter-widgets/output",
      "model_module_version": "1.0.0",
      "model_name": "OutputModel",
      "state": {
       "layout": "IPY_MODEL_8650f9270b3441ee9f5822d8ac03efe2",
       "outputs": [
        {
         "data": {
          "text/html": "<h3>New Experiment</h3>",
          "text/plain": "<cassini.ipygui.WHTML at 0x156c779cc88>"
         },
         "metadata": {},
         "output_type": "display_data"
        }
       ]
      }
     },
     "6ca002cd41f74ebfa83de4ec780dd21b": {
      "model_module": "@jupyter-widgets/output",
      "model_module_version": "1.0.0",
      "model_name": "OutputModel",
      "state": {
       "layout": "IPY_MODEL_df06108012504c139c18023863d03e7e"
      }
     },
     "6d08e30c08f84442b0d256acfaf59362": {
      "model_module": "@jupyter-widgets/output",
      "model_module_version": "1.0.0",
      "model_name": "OutputModel",
      "state": {
       "layout": "IPY_MODEL_9a72d73a34a8477b87dc145f6d21bdbc",
       "outputs": [
        {
         "data": {
          "text/markdown": "Gobble Gobble",
          "text/plain": "<IPython.core.display.Markdown object>"
         },
         "metadata": {},
         "output_type": "display_data"
        }
       ]
      }
     },
     "6df38a0d27aa4e3e83f8eaa43600b6be": {
      "model_module": "@jupyter-widgets/controls",
      "model_module_version": "1.5.0",
      "model_name": "TextareaModel",
      "state": {
       "description": "Motivation",
       "layout": "IPY_MODEL_7896c8b935844185ae087940f61ae047",
       "style": "IPY_MODEL_61f7218034774035bed7b099e8280004"
      }
     },
     "6e0968d310434c3282d7e88b2d9db0bc": {
      "model_module": "@jupyter-widgets/controls",
      "model_module_version": "1.5.0",
      "model_name": "VBoxModel",
      "state": {
       "children": [
        "IPY_MODEL_67f352ad12f7457aa34009d276a5ef08",
        "IPY_MODEL_ba4cd44f81914760b7890480976b554e",
        "IPY_MODEL_4db62b5e69e8437ca23cb4ebe26be29f",
        "IPY_MODEL_47d3da80be26412c8ed7f0fe610c78c6",
        "IPY_MODEL_4d9bf016fed34089813dffba6cfc2dc0",
        "IPY_MODEL_d0b653392cac4bf1b284ea0888419dbc",
        "IPY_MODEL_e1bebfe5421149d994cd6bf3f8b63c62"
       ],
       "layout": "IPY_MODEL_4e0b41390ab84b2d8d813489e4618e02"
      }
     },
     "6e96cf78672748ed936bbcb7d9d9c4a9": {
      "model_module": "@jupyter-widgets/base",
      "model_module_version": "1.2.0",
      "model_name": "LayoutModel",
      "state": {}
     },
     "6ea9a842d0b44cfcbee9b64e1503418f": {
      "model_module": "@jupyter-widgets/base",
      "model_module_version": "1.2.0",
      "model_name": "LayoutModel",
      "state": {}
     },
     "6ff2de34f7214d32856eb533c55035b7": {
      "model_module": "@jupyter-widgets/base",
      "model_module_version": "1.2.0",
      "model_name": "LayoutModel",
      "state": {}
     },
     "703361b7bd2740f0b8ce0a7076ca12aa": {
      "model_module": "@jupyter-widgets/controls",
      "model_module_version": "1.5.0",
      "model_name": "DescriptionStyleModel",
      "state": {
       "description_width": "10%"
      }
     },
     "70e13bb617f14174b46f7c93c4060389": {
      "model_module": "@jupyter-widgets/base",
      "model_module_version": "1.2.0",
      "model_name": "LayoutModel",
      "state": {}
     },
     "71edbce1abb54443b1448a3588e69db5": {
      "model_module": "@jupyter-widgets/base",
      "model_module_version": "1.2.0",
      "model_name": "LayoutModel",
      "state": {}
     },
     "735e2f53a59f478e861f51d394979044": {
      "model_module": "@jupyter-widgets/controls",
      "model_module_version": "1.5.0",
      "model_name": "TextModel",
      "state": {
       "description": "Identifier",
       "layout": "IPY_MODEL_546f3ae610e14050bbe9a3145fc12d0a",
       "placeholder": "(\\d+)",
       "style": "IPY_MODEL_62bf450c3c2341ed836d7437d72a3092"
      }
     },
     "74a3a54224cc426c97458e6ea35d6a2b": {
      "model_module": "@jupyter-widgets/output",
      "model_module_version": "1.0.0",
      "model_name": "OutputModel",
      "state": {
       "layout": "IPY_MODEL_62217c0123dc4538a23cccdbee83b390"
      }
     },
     "7514ab0175164b80a144be4ee9f34ebd": {
      "model_module": "@jupyter-widgets/controls",
      "model_module_version": "1.5.0",
      "model_name": "ButtonStyleModel",
      "state": {}
     },
     "757a1259d08e4c85b910bb8bb32d450d": {
      "model_module": "@jupyter-widgets/output",
      "model_module_version": "1.0.0",
      "model_name": "OutputModel",
      "state": {
       "layout": "IPY_MODEL_b9b7193b36c44a9ebf534352443bb030"
      }
     },
     "765a61fadd594cdb9f23fe632530ef80": {
      "model_module": "@jupyter-widgets/base",
      "model_module_version": "1.2.0",
      "model_name": "LayoutModel",
      "state": {}
     },
     "766488bc0eca43a8a5bb98ae48e7e763": {
      "model_module": "@jupyter-widgets/base",
      "model_module_version": "1.2.0",
      "model_name": "LayoutModel",
      "state": {}
     },
     "77036b8999e84b74afc60067ed3bf6d5": {
      "model_module": "@jupyter-widgets/controls",
      "model_module_version": "1.5.0",
      "model_name": "ButtonModel",
      "state": {
       "description": "Folder",
       "layout": "IPY_MODEL_fde41070483c41d1afb4bff1794dee23",
       "style": "IPY_MODEL_b4f1fc37f0af44c5baf42ddbc6e53021"
      }
     },
     "78141a70327c496992b304552980dcc4": {
      "model_module": "@jupyter-widgets/base",
      "model_module_version": "1.2.0",
      "model_name": "LayoutModel",
      "state": {
       "width": "auto"
      }
     },
     "78279f4a78b64b6db8d3e0c696e6cf80": {
      "model_module": "@jupyter-widgets/controls",
      "model_module_version": "1.5.0",
      "model_name": "VBoxModel",
      "state": {
       "children": [
        "IPY_MODEL_735e2f53a59f478e861f51d394979044",
        "IPY_MODEL_6829ba3333a54fb1bbd101e018b8f47d",
        "IPY_MODEL_fd4ebf28b78043c690568ce6174830bb",
        "IPY_MODEL_890c301689644cddbe46c6f90414a5cd",
        "IPY_MODEL_acddef692f284420affbd5f8c367659f"
       ],
       "layout": "IPY_MODEL_46503dea143d45b1a010814cddc4f5e3"
      }
     },
     "78312a71a5c74f719edb11ff2b423563": {
      "model_module": "@jupyter-widgets/output",
      "model_module_version": "1.0.0",
      "model_name": "OutputModel",
      "state": {
       "layout": "IPY_MODEL_22164529668b4e549411352a191d8291",
       "outputs": [
        {
         "data": {
          "text/html": "<h3>Motivation</h3>",
          "text/plain": "<cassini.ipygui.WHTML at 0x156c77a45c0>"
         },
         "metadata": {},
         "output_type": "display_data"
        }
       ]
      }
     },
     "7896c8b935844185ae087940f61ae047": {
      "model_module": "@jupyter-widgets/base",
      "model_module_version": "1.2.0",
      "model_name": "LayoutModel",
      "state": {
       "width": "auto"
      }
     },
     "799c2d4e3e5341b698ac6a35e95ce084": {
      "model_module": "@jupyter-widgets/output",
      "model_module_version": "1.0.0",
      "model_name": "OutputModel",
      "state": {
       "layout": "IPY_MODEL_343a9177b703481782cbee3982874c50",
       "outputs": [
        {
         "data": {
          "text/markdown": "This description is set when making a new tier, but you can change it later! using `tier.description = 'my description'`",
          "text/plain": "<IPython.core.display.Markdown object>"
         },
         "metadata": {},
         "output_type": "display_data"
        }
       ]
      }
     },
     "7b76fff7b85149cd934c4c7ed0e88f5b": {
      "model_module": "@jupyter-widgets/controls",
      "model_module_version": "1.5.0",
      "model_name": "DescriptionStyleModel",
      "state": {
       "description_width": "10%"
      }
     },
     "7bcbcd9d78d6403d959dc93727f232ea": {
      "model_module": "@jupyter-widgets/output",
      "model_module_version": "1.0.0",
      "model_name": "OutputModel",
      "state": {
       "layout": "IPY_MODEL_e416c1af2cdc48cea45ddc256b14a775",
       "outputs": [
        {
         "data": {
          "text/html": "<h3>Motivation</h3>",
          "text/plain": "<cassini.ipygui.WHTML at 0x156c79dec50>"
         },
         "metadata": {},
         "output_type": "display_data"
        }
       ]
      }
     },
     "7c4c7c9c3bfb4d33bde4472e6c051807": {
      "model_module": "@jupyter-widgets/base",
      "model_module_version": "1.2.0",
      "model_name": "LayoutModel",
      "state": {}
     },
     "7d3cade1fa7a4432a83a90b8e914f938": {
      "model_module": "@jupyter-widgets/controls",
      "model_module_version": "1.5.0",
      "model_name": "DescriptionStyleModel",
      "state": {
       "description_width": "10%"
      }
     },
     "7ddb193011a747fba67658cbc5205963": {
      "model_module": "@jupyter-widgets/output",
      "model_module_version": "1.0.0",
      "model_name": "OutputModel",
      "state": {
       "layout": "IPY_MODEL_993a65fdfaf341d4b9e96579416eb6bb",
       "outputs": [
        {
         "data": {
          "text/html": "<h1 style=\"display: inline;\"><a href=\"WP1.ipynb\">WP1</a></h1><h3 style=\"display: inline;\">(<a href=\"../Home.ipynb\" target=\"_blank\">Home</a>)</h3>",
          "text/plain": "<cassini.ipygui.WHTML at 0x156c79de080>"
         },
         "metadata": {},
         "output_type": "display_data"
        }
       ]
      }
     },
     "7e5ad92bd4e54911801d241c65f0d5cb": {
      "model_module": "@jupyter-widgets/controls",
      "model_module_version": "1.5.0",
      "model_name": "ButtonStyleModel",
      "state": {}
     },
     "7edc3768b1dc450b9a9e62c644b3645c": {
      "model_module": "@jupyter-widgets/base",
      "model_module_version": "1.2.0",
      "model_name": "LayoutModel",
      "state": {
       "width": "auto"
      }
     },
     "7f08ef520a5c481ea806ad67f8f1e85d": {
      "model_module": "@jupyter-widgets/output",
      "model_module_version": "1.0.0",
      "model_name": "OutputModel",
      "state": {
       "layout": "IPY_MODEL_1b3053bd5401474a8271bb23235e0578",
       "outputs": [
        {
         "data": {
          "text/html": "<h3>New Experiment</h3>",
          "text/plain": "<cassini.ipygui.WHTML at 0x156c7849630>"
         },
         "metadata": {},
         "output_type": "display_data"
        }
       ]
      }
     },
     "7f63779f8aa743af8b7bb3e32f4cc455": {
      "model_module": "@jupyter-widgets/base",
      "model_module_version": "1.2.0",
      "model_name": "LayoutModel",
      "state": {}
     },
     "8037867c5ce242d8bc541b042e2a7709": {
      "model_module": "@jupyter-widgets/controls",
      "model_module_version": "1.5.0",
      "model_name": "VBoxModel",
      "state": {
       "children": [
        "IPY_MODEL_954172e9ebdb4d91b9e6a143cc598ef3",
        "IPY_MODEL_b215b4701afa4fc8882067c680285ba5"
       ],
       "layout": "IPY_MODEL_766488bc0eca43a8a5bb98ae48e7e763"
      }
     },
     "8081c2a075b148e5a4c23106529f4101": {
      "model_module": "@jupyter-widgets/output",
      "model_module_version": "1.0.0",
      "model_name": "OutputModel",
      "state": {
       "layout": "IPY_MODEL_175c166d0e0f4891b7d4f36f4fd40758"
      }
     },
     "80bcfa508bea4090b99442150861bdf7": {
      "model_module": "@jupyter-widgets/output",
      "model_module_version": "1.0.0",
      "model_name": "OutputModel",
      "state": {
       "layout": "IPY_MODEL_63111aa1a2914f62b98549e7559bc33f",
       "outputs": [
        {
         "data": {
          "text/html": "<table border=\"1\" class=\"dataframe\">\n  <thead>\n    <tr style=\"text-align: right;\">\n      <th></th>\n      <th>started</th>\n      <th>description</th>\n      <th>additional</th>\n      <th>Obj</th>\n    </tr>\n    <tr>\n      <th>Name</th>\n      <th></th>\n      <th></th>\n      <th></th>\n      <th></th>\n    </tr>\n  </thead>\n  <tbody>\n    <tr>\n      <th>WP1.1</th>\n      <td>2020-06-29</td>\n      <td>Fine</td>\n      <td>100.0</td>\n      <td><a href=\"WP1/WP1.1.ipynb\" target=\"_blank\"><h3 style=\"display: inline;\">WP1.1</h3 style=\"display: inline;\"</a></td>\n    </tr>\n    <tr>\n      <th>WP1.2</th>\n      <td>2020-06-29</td>\n      <td></td>\n      <td>NaN</td>\n      <td><a href=\"WP1/WP1.2.ipynb\" target=\"_blank\"><h3 style=\"display: inline;\">WP1.2</h3 style=\"display: inline;\"</a></td>\n    </tr>\n  </tbody>\n</table>",
          "text/plain": "         started description  additional                   Obj\nName                                                          \nWP1.1 2020-06-29        Fine       100.0  <Experiment \"WP1.1\">\nWP1.2 2020-06-29                     NaN  <Experiment \"WP1.2\">"
         },
         "metadata": {},
         "output_type": "display_data"
        }
       ]
      }
     },
     "80bdf29ad9a4466697d3f20a0c4dbfdc": {
      "model_module": "@jupyter-widgets/base",
      "model_module_version": "1.2.0",
      "model_name": "LayoutModel",
      "state": {
       "width": "auto"
      }
     },
     "8144c55a2bc84f2092c088bb78be8005": {
      "model_module": "@jupyter-widgets/base",
      "model_module_version": "1.2.0",
      "model_name": "LayoutModel",
      "state": {}
     },
     "81c9359d2388418880347818a0ce2d6c": {
      "model_module": "@jupyter-widgets/base",
      "model_module_version": "1.2.0",
      "model_name": "LayoutModel",
      "state": {}
     },
     "821245862ea64d2e8d18171e8c1263ec": {
      "model_module": "@jupyter-widgets/controls",
      "model_module_version": "1.5.0",
      "model_name": "ButtonStyleModel",
      "state": {}
     },
     "82753ab00836457fb6dd7e5823365715": {
      "model_module": "@jupyter-widgets/base",
      "model_module_version": "1.2.0",
      "model_name": "LayoutModel",
      "state": {}
     },
     "836a6c523c6148869f0d7039e373992d": {
      "model_module": "@jupyter-widgets/base",
      "model_module_version": "1.2.0",
      "model_name": "LayoutModel",
      "state": {}
     },
     "839282158d054131a9613c8c535a9da4": {
      "model_module": "@jupyter-widgets/base",
      "model_module_version": "1.2.0",
      "model_name": "LayoutModel",
      "state": {}
     },
     "84486e069d5a4273b8bf3fd837d3d292": {
      "model_module": "@jupyter-widgets/output",
      "model_module_version": "1.0.0",
      "model_name": "OutputModel",
      "state": {
       "layout": "IPY_MODEL_1bf4ef82be424b6fa6d01dc780db4b15"
      }
     },
     "854f30067bba49ca9fffefb2123e8f7c": {
      "model_module": "@jupyter-widgets/base",
      "model_module_version": "1.2.0",
      "model_name": "LayoutModel",
      "state": {}
     },
     "856a2e337bcb485cae0bd1609e85bec2": {
      "model_module": "@jupyter-widgets/base",
      "model_module_version": "1.2.0",
      "model_name": "LayoutModel",
      "state": {}
     },
     "85e3f3b8df7245ac837ae40a1827dbd0": {
      "model_module": "@jupyter-widgets/controls",
      "model_module_version": "1.5.0",
      "model_name": "TextareaModel",
      "state": {
       "description": "Motivation",
       "layout": "IPY_MODEL_b8171d3952294ba59981a3d3c053dd12",
       "style": "IPY_MODEL_686290d0c1d54c3bb868efab0069a128"
      }
     },
     "8616f3e5fd774b20a05b6343c65c3737": {
      "model_module": "@jupyter-widgets/base",
      "model_module_version": "1.2.0",
      "model_name": "LayoutModel",
      "state": {}
     },
     "8650f9270b3441ee9f5822d8ac03efe2": {
      "model_module": "@jupyter-widgets/base",
      "model_module_version": "1.2.0",
      "model_name": "LayoutModel",
      "state": {}
     },
     "868490ba3bcd472f917708d3d4d70b8e": {
      "model_module": "@jupyter-widgets/controls",
      "model_module_version": "1.5.0",
      "model_name": "VBoxModel",
      "state": {
       "children": [
        "IPY_MODEL_9df0b0c36fba47229e7998d4b94b6079",
        "IPY_MODEL_a36a294b76d1417ab7c8dfe77f3e0c72",
        "IPY_MODEL_3f66094905c44296ba62992f4648635b",
        "IPY_MODEL_64ebb8df59114cf695137a5c11048657",
        "IPY_MODEL_b86b0ed3114a4040a86a2d9344698709"
       ],
       "layout": "IPY_MODEL_341f96723ecb4957a1d93a8acca6ee3b"
      }
     },
     "872c6973e30d4189a51c9678bab2e9aa": {
      "model_module": "@jupyter-widgets/controls",
      "model_module_version": "1.5.0",
      "model_name": "ButtonModel",
      "state": {
       "description": "Folder",
       "layout": "IPY_MODEL_e0659a31d28940cea09ba8e54390f9cd",
       "style": "IPY_MODEL_b2d6f07f840d4c5a9e5afd12942ffd1f"
      }
     },
     "87d11cbfb7cc4adeb8549af5dbd5e044": {
      "model_module": "@jupyter-widgets/base",
      "model_module_version": "1.2.0",
      "model_name": "LayoutModel",
      "state": {}
     },
     "87e443a743b84fb1bce6024e3a906132": {
      "model_module": "@jupyter-widgets/controls",
      "model_module_version": "1.5.0",
      "model_name": "ButtonStyleModel",
      "state": {}
     },
     "890c301689644cddbe46c6f90414a5cd": {
      "model_module": "@jupyter-widgets/controls",
      "model_module_version": "1.5.0",
      "model_name": "HBoxModel",
      "state": {
       "children": [
        "IPY_MODEL_c2819eb06585463eb5851d2f4603e828",
        "IPY_MODEL_5bcf53281fa14b908e75ddc47f68481e"
       ],
       "layout": "IPY_MODEL_3dc5c8f4011f45d79e4065eabb61f510"
      }
     },
     "894435e789be47f994dfa5472de7844f": {
      "model_module": "@jupyter-widgets/base",
      "model_module_version": "1.2.0",
      "model_name": "LayoutModel",
      "state": {}
     },
     "898aa8a7637a499393fc492e1bcd6dc0": {
      "model_module": "@jupyter-widgets/controls",
      "model_module_version": "1.5.0",
      "model_name": "ButtonModel",
      "state": {
       "description": "Confirm",
       "disabled": true,
       "layout": "IPY_MODEL_373ff25092b64da5bbef7a63178ee109",
       "style": "IPY_MODEL_2ad8e8752b474a6c91b53dca9ed480b1"
      }
     },
     "8a059107d4a34ba6aae22062ce5cdf8a": {
      "model_module": "@jupyter-widgets/output",
      "model_module_version": "1.0.0",
      "model_name": "OutputModel",
      "state": {
       "layout": "IPY_MODEL_5c6f23b7e7904fe8b00bb7e8f1793ec5",
       "outputs": [
        {
         "data": {
          "text/html": "<table border=\"1\" class=\"dataframe\">\n  <thead>\n    <tr style=\"text-align: right;\">\n      <th></th>\n      <th>started</th>\n      <th>description</th>\n      <th>temperature</th>\n      <th>Obj</th>\n    </tr>\n    <tr>\n      <th>Name</th>\n      <th></th>\n      <th></th>\n      <th></th>\n      <th></th>\n    </tr>\n  </thead>\n  <tbody>\n    <tr>\n      <th>WP1.1</th>\n      <td>2020-06-29</td>\n      <td>Fine</td>\n      <td>100.0</td>\n      <td><a href=\"WP1/WP1.1.ipynb\" target=\"_blank\"><h3 style=\"display: inline;\">WP1.1</h3 style=\"display: inline;\"</a></td>\n    </tr>\n    <tr>\n      <th>WP1.2</th>\n      <td>2020-06-29</td>\n      <td></td>\n      <td>NaN</td>\n      <td><a href=\"WP1/WP1.2.ipynb\" target=\"_blank\"><h3 style=\"display: inline;\">WP1.2</h3 style=\"display: inline;\"</a></td>\n    </tr>\n  </tbody>\n</table>",
          "text/plain": "         started description  temperature                   Obj\nName                                                           \nWP1.1 2020-06-29        Fine        100.0  <Experiment \"WP1.1\">\nWP1.2 2020-06-29                      NaN  <Experiment \"WP1.2\">"
         },
         "metadata": {},
         "output_type": "display_data"
        }
       ]
      }
     },
     "8a5d1a1d7b7040b892c031d063f237e3": {
      "model_module": "@jupyter-widgets/output",
      "model_module_version": "1.0.0",
      "model_name": "OutputModel",
      "state": {
       "layout": "IPY_MODEL_2fdde065eb3446eb8164b3c6d5022668",
       "outputs": [
        {
         "data": {
          "text/html": "<h3>New Experiment</h3>",
          "text/plain": "<cassini.ipygui.WHTML at 0x156c79d6080>"
         },
         "metadata": {},
         "output_type": "display_data"
        }
       ]
      }
     },
     "8a8b7b07fb4541c8911b01abdc71feb9": {
      "model_module": "@jupyter-widgets/output",
      "model_module_version": "1.0.0",
      "model_name": "OutputModel",
      "state": {
       "layout": "IPY_MODEL_856a2e337bcb485cae0bd1609e85bec2",
       "outputs": [
        {
         "data": {
          "text/html": "<h3>Motivation</h3>",
          "text/plain": "<cassini.ipygui.WHTML at 0x156c77df240>"
         },
         "metadata": {},
         "output_type": "display_data"
        }
       ]
      }
     },
     "8abef5d37ee1418c95eddea30272c26e": {
      "model_module": "@jupyter-widgets/base",
      "model_module_version": "1.2.0",
      "model_name": "LayoutModel",
      "state": {}
     },
     "8accb88b4ab74e519ab1a41e8efaaf95": {
      "model_module": "@jupyter-widgets/output",
      "model_module_version": "1.0.0",
      "model_name": "OutputModel",
      "state": {
       "layout": "IPY_MODEL_51557d9219704984979a6c293c07ab46",
       "outputs": [
        {
         "data": {
          "text/html": "<table border=\"1\" class=\"dataframe\">\n  <thead>\n    <tr style=\"text-align: right;\">\n      <th></th>\n      <th>started</th>\n      <th>description</th>\n      <th>temperature</th>\n      <th>Obj</th>\n    </tr>\n    <tr>\n      <th>Name</th>\n      <th></th>\n      <th></th>\n      <th></th>\n      <th></th>\n    </tr>\n  </thead>\n  <tbody>\n    <tr>\n      <th>WP1.1</th>\n      <td>2020-06-29</td>\n      <td>Usually some sort of process you&#x27;ll tweak and repeat on multiple samples</td>\n      <td>100.0</td>\n      <td><a href=\"WP1/WP1.1.ipynb\" target=\"_blank\"><h3 style=\"display: inline;\">WP1.1</h3 style=\"display: inline;\"</a></td>\n    </tr>\n    <tr>\n      <th>WP1.2</th>\n      <td>2020-06-29</td>\n      <td></td>\n      <td>NaN</td>\n      <td><a href=\"WP1/WP1.2.ipynb\" target=\"_blank\"><h3 style=\"display: inline;\">WP1.2</h3 style=\"display: inline;\"</a></td>\n    </tr>\n  </tbody>\n</table>",
          "text/plain": "         started                                        description  \\\nName                                                                  \nWP1.1 2020-06-29  Usually some sort of process you'll tweak and ...   \nWP1.2 2020-06-29                                                      \n\n       temperature                   Obj  \nName                                      \nWP1.1        100.0  <Experiment \"WP1.1\">  \nWP1.2          NaN  <Experiment \"WP1.2\">  "
         },
         "metadata": {},
         "output_type": "display_data"
        }
       ]
      }
     },
     "8b0b3ae806ab4359a66c569b61c196fc": {
      "model_module": "@jupyter-widgets/base",
      "model_module_version": "1.2.0",
      "model_name": "LayoutModel",
      "state": {}
     },
     "8c356e5ab74440cca3c49ea7de9e49c7": {
      "model_module": "@jupyter-widgets/output",
      "model_module_version": "1.0.0",
      "model_name": "OutputModel",
      "state": {
       "layout": "IPY_MODEL_f0a9740fec8b44f38d876bedb0578c3e",
       "outputs": [
        {
         "data": {
          "text/html": "<table border=\"1\" class=\"dataframe\">\n  <thead>\n    <tr style=\"text-align: right;\">\n      <th></th>\n      <th>started</th>\n      <th>description</th>\n      <th>Obj</th>\n    </tr>\n    <tr>\n      <th>Name</th>\n      <th></th>\n      <th></th>\n      <th></th>\n    </tr>\n  </thead>\n  <tbody>\n    <tr>\n      <th>WP1.1</th>\n      <td>2020-06-29</td>\n      <td>Usually some sort of process you&#x27;ll tweak and repeat on multiple samples</td>\n      <td><a href=\"WP1/WP1.1.ipynb\" target=\"_blank\"><h3 style=\"display: inline;\">WP1.1</h3 style=\"display: inline;\"</a></td>\n    </tr>\n    <tr>\n      <th>WP1.2</th>\n      <td>2020-06-29</td>\n      <td></td>\n      <td><a href=\"WP1/WP1.2.ipynb\" target=\"_blank\"><h3 style=\"display: inline;\">WP1.2</h3 style=\"display: inline;\"</a></td>\n    </tr>\n  </tbody>\n</table>",
          "text/plain": "         started                                        description  \\\nName                                                                  \nWP1.1 2020-06-29  Usually some sort of process you'll tweak and ...   \nWP1.2 2020-06-29                                                      \n\n                        Obj  \nName                         \nWP1.1  <Experiment \"WP1.1\">  \nWP1.2  <Experiment \"WP1.2\">  "
         },
         "metadata": {},
         "output_type": "display_data"
        }
       ]
      }
     },
     "8d99f595fa8f446db9774c33dc25d442": {
      "model_module": "@jupyter-widgets/controls",
      "model_module_version": "1.5.0",
      "model_name": "ButtonModel",
      "state": {
       "description": "Confirm",
       "disabled": true,
       "layout": "IPY_MODEL_f30364669aab4c4c812f627794a201b2",
       "style": "IPY_MODEL_87e443a743b84fb1bce6024e3a906132"
      }
     },
     "8e18ff0067d94cd484d24b1991091cd1": {
      "model_module": "@jupyter-widgets/base",
      "model_module_version": "1.2.0",
      "model_name": "LayoutModel",
      "state": {}
     },
     "8e7c078881254cac8635bb8a370db640": {
      "model_module": "@jupyter-widgets/base",
      "model_module_version": "1.2.0",
      "model_name": "LayoutModel",
      "state": {}
     },
     "8eb4a7dab0f241afbba34bc243a45cbb": {
      "model_module": "@jupyter-widgets/base",
      "model_module_version": "1.2.0",
      "model_name": "LayoutModel",
      "state": {}
     },
     "8f2953d01e6144498f5925c2f242db86": {
      "model_module": "@jupyter-widgets/controls",
      "model_module_version": "1.5.0",
      "model_name": "ButtonModel",
      "state": {
       "description": "Confirm",
       "disabled": true,
       "layout": "IPY_MODEL_475d4a5a1a9a4c0ba98f3e30a95433ef",
       "style": "IPY_MODEL_20d299ea679846ce8cc08f042c264bde"
      }
     },
     "9028472b8b9644d39171e27b41f807ef": {
      "model_module": "@jupyter-widgets/controls",
      "model_module_version": "1.5.0",
      "model_name": "ButtonModel",
      "state": {
       "description": "Confirm",
       "disabled": true,
       "layout": "IPY_MODEL_2e238d2fd61d40839292f5600f8b5229",
       "style": "IPY_MODEL_4f39f1e503624c2ea894b146b9e92088"
      }
     },
     "909f8332f3154af08ef805f16122042a": {
      "model_module": "@jupyter-widgets/output",
      "model_module_version": "1.0.0",
      "model_name": "OutputModel",
      "state": {
       "layout": "IPY_MODEL_60dd468c58644b8b95c24dc2412e82ea",
       "outputs": [
        {
         "data": {
          "text/html": "<h3>Experiments</h3>",
          "text/plain": "<cassini.ipygui.WHTML at 0x156c77dfeb8>"
         },
         "metadata": {},
         "output_type": "display_data"
        }
       ]
      }
     },
     "90a8accd1b444fcc9a6adb9b2f50ec2a": {
      "model_module": "@jupyter-widgets/base",
      "model_module_version": "1.2.0",
      "model_name": "LayoutModel",
      "state": {
       "width": "auto"
      }
     },
     "90e59f3343c9466c8c97da034b77c40b": {
      "model_module": "@jupyter-widgets/base",
      "model_module_version": "1.2.0",
      "model_name": "LayoutModel",
      "state": {
       "width": "auto"
      }
     },
     "911efba06a5f471b94651baa432f0662": {
      "model_module": "@jupyter-widgets/controls",
      "model_module_version": "1.5.0",
      "model_name": "ButtonModel",
      "state": {
       "description": "Folder",
       "layout": "IPY_MODEL_7c4c7c9c3bfb4d33bde4472e6c051807",
       "style": "IPY_MODEL_2af413d96dcc45eb8733b63ff5120979"
      }
     },
     "91fefc9b600f46f3af62cc783f44e71a": {
      "model_module": "@jupyter-widgets/controls",
      "model_module_version": "1.5.0",
      "model_name": "SelectModel",
      "state": {
       "_options_labels": [
        "Experiment.tmplt.ipynb"
       ],
       "description": "Template",
       "index": 0,
       "layout": "IPY_MODEL_c65534c9ee164a8f9a98623624df7738",
       "style": "IPY_MODEL_681bfc5736c34abdb8767c9967863029"
      }
     },
     "91ff7ab7d9c84819928392b6300ab67f": {
      "model_module": "@jupyter-widgets/base",
      "model_module_version": "1.2.0",
      "model_name": "LayoutModel",
      "state": {}
     },
     "920314cf2977406c901ad604dbed6308": {
      "model_module": "@jupyter-widgets/base",
      "model_module_version": "1.2.0",
      "model_name": "LayoutModel",
      "state": {
       "width": "auto"
      }
     },
     "92d7de79a99547358e7bb47ea2b4ac14": {
      "model_module": "@jupyter-widgets/base",
      "model_module_version": "1.2.0",
      "model_name": "LayoutModel",
      "state": {}
     },
     "92e8007b4b90413791f3a41cc0134379": {
      "model_module": "@jupyter-widgets/controls",
      "model_module_version": "1.5.0",
      "model_name": "ButtonStyleModel",
      "state": {}
     },
     "92e8d06ea02e4f78bfca9ac3dd79bc9c": {
      "model_module": "@jupyter-widgets/controls",
      "model_module_version": "1.5.0",
      "model_name": "HBoxModel",
      "state": {
       "children": [
        "IPY_MODEL_4940b8adfcd54d66afb065c8c2d56767",
        "IPY_MODEL_3024788925ec4aa291f7fb9bbeb69153"
       ],
       "layout": "IPY_MODEL_d3891d2d3b6f46a998f22a449eb1f703"
      }
     },
     "92f12efe79514d7faa3005eb3bfa9649": {
      "model_module": "@jupyter-widgets/controls",
      "model_module_version": "1.5.0",
      "model_name": "HBoxModel",
      "state": {
       "children": [
        "IPY_MODEL_9028472b8b9644d39171e27b41f807ef",
        "IPY_MODEL_19c82230cb1c4bdcbc86c53b27cf8878"
       ],
       "layout": "IPY_MODEL_71edbce1abb54443b1448a3588e69db5"
      }
     },
     "93e7bf743a9949ad80943de23f27af56": {
      "model_module": "@jupyter-widgets/controls",
      "model_module_version": "1.5.0",
      "model_name": "ButtonStyleModel",
      "state": {}
     },
     "94315845201d403fa181bd4daaa4a6c4": {
      "model_module": "@jupyter-widgets/output",
      "model_module_version": "1.0.0",
      "model_name": "OutputModel",
      "state": {
       "layout": "IPY_MODEL_1d50c15609d1417ba71b37d15e6a3487",
       "outputs": [
        {
         "data": {
          "text/html": "<h3>Motivation</h3>",
          "text/plain": "<cassini.ipygui.WHTML at 0x156c7973a90>"
         },
         "metadata": {},
         "output_type": "display_data"
        }
       ]
      }
     },
     "94c12318bcb84b538cd7e3bba9a2710a": {
      "model_module": "@jupyter-widgets/output",
      "model_module_version": "1.0.0",
      "model_name": "OutputModel",
      "state": {
       "layout": "IPY_MODEL_fd6ee6a1cde44b2889ed5f9fb4bfeb09"
      }
     },
     "95330bb3d89e41f6ab1a4a5f897f919d": {
      "model_module": "@jupyter-widgets/output",
      "model_module_version": "1.0.0",
      "model_name": "OutputModel",
      "state": {
       "layout": "IPY_MODEL_f11c2277212444228f7e8e2830015b30"
      }
     },
     "954172e9ebdb4d91b9e6a143cc598ef3": {
      "model_module": "@jupyter-widgets/output",
      "model_module_version": "1.0.0",
      "model_name": "OutputModel",
      "state": {
       "layout": "IPY_MODEL_d6631a61b036451ea1b7440f1c1518e3",
       "outputs": [
        {
         "data": {
          "text/html": "<h1 style=\"display: inline;\"><a href=\"WP1.ipynb\">WP1</a></h1><h3 style=\"display: inline;\">(<a href=\"../Home.ipynb\" target=\"_blank\">Home</a>)</h3>",
          "text/plain": "<cassini.ipygui.WHTML at 0x156c7a08e48>"
         },
         "metadata": {},
         "output_type": "display_data"
        }
       ]
      }
     },
     "9637b1ee77a44f9183e5ec6a0785eeb3": {
      "model_module": "@jupyter-widgets/controls",
      "model_module_version": "1.5.0",
      "model_name": "ButtonStyleModel",
      "state": {}
     },
     "96961da880ae40779a635fe329df48ac": {
      "model_module": "@jupyter-widgets/output",
      "model_module_version": "1.0.0",
      "model_name": "OutputModel",
      "state": {
       "layout": "IPY_MODEL_6ff2de34f7214d32856eb533c55035b7",
       "outputs": [
        {
         "data": {
          "text/html": "<h1 style=\"display: inline;\"><a href=\"WP1.ipynb\">WP1</a></h1><h3 style=\"display: inline;\">(<a href=\"../Home.ipynb\" target=\"_blank\">Home</a>)</h3>",
          "text/plain": "<cassini.ipygui.WHTML at 0x156c7973c18>"
         },
         "metadata": {},
         "output_type": "display_data"
        }
       ]
      }
     },
     "9877c14093484659982ff833157e9010": {
      "model_module": "@jupyter-widgets/base",
      "model_module_version": "1.2.0",
      "model_name": "LayoutModel",
      "state": {}
     },
     "993a65fdfaf341d4b9e96579416eb6bb": {
      "model_module": "@jupyter-widgets/base",
      "model_module_version": "1.2.0",
      "model_name": "LayoutModel",
      "state": {}
     },
     "998a3399e3f9457fa6798a26869da182": {
      "model_module": "@jupyter-widgets/base",
      "model_module_version": "1.2.0",
      "model_name": "LayoutModel",
      "state": {}
     },
     "99f4ba57e009465b8151c9244ff68019": {
      "model_module": "@jupyter-widgets/controls",
      "model_module_version": "1.5.0",
      "model_name": "VBoxModel",
      "state": {
       "children": [
        "IPY_MODEL_265ad902645f40f5b0ebc50000f59c66",
        "IPY_MODEL_2dda2cdc687f4478a1d52af0c42631bf"
       ],
       "layout": "IPY_MODEL_894435e789be47f994dfa5472de7844f"
      }
     },
     "9a72d73a34a8477b87dc145f6d21bdbc": {
      "model_module": "@jupyter-widgets/base",
      "model_module_version": "1.2.0",
      "model_name": "LayoutModel",
      "state": {}
     },
     "9b0833f2a16c49efa440728b618603ea": {
      "model_module": "@jupyter-widgets/controls",
      "model_module_version": "1.5.0",
      "model_name": "TextModel",
      "state": {
       "description": "Identifier",
       "layout": "IPY_MODEL_b57522bad1774784b99f614a9b30dc9b",
       "placeholder": "(\\d+)",
       "style": "IPY_MODEL_5af04cd5cece43239ec3c8dfac90b25b"
      }
     },
     "9b3775921ce04873a4e09d5225d70273": {
      "model_module": "@jupyter-widgets/controls",
      "model_module_version": "1.5.0",
      "model_name": "TextModel",
      "state": {
       "description": "Identifier",
       "layout": "IPY_MODEL_80bdf29ad9a4466697d3f20a0c4dbfdc",
       "placeholder": "(\\d+)",
       "style": "IPY_MODEL_3f09a44bc41c49fa8d1d244f6d0ea17d"
      }
     },
     "9bfe812cf0d3468da803a0df0acaac2c": {
      "model_module": "@jupyter-widgets/base",
      "model_module_version": "1.2.0",
      "model_name": "LayoutModel",
      "state": {}
     },
     "9ca92fa4bfb642cfac6abd97dd5ff469": {
      "model_module": "@jupyter-widgets/base",
      "model_module_version": "1.2.0",
      "model_name": "LayoutModel",
      "state": {}
     },
     "9cf2ed20b2744c2a901f858c82714967": {
      "model_module": "@jupyter-widgets/base",
      "model_module_version": "1.2.0",
      "model_name": "LayoutModel",
      "state": {}
     },
     "9d5708cd5cfd41a986ab076141fd48dd": {
      "model_module": "@jupyter-widgets/base",
      "model_module_version": "1.2.0",
      "model_name": "LayoutModel",
      "state": {}
     },
     "9d90cdd4b1a34c3b8b88f3107978aabe": {
      "model_module": "@jupyter-widgets/controls",
      "model_module_version": "1.5.0",
      "model_name": "DescriptionStyleModel",
      "state": {
       "description_width": "10%"
      }
     },
     "9dca19861b7e49b2b4dc2c6a73fa71b7": {
      "model_module": "@jupyter-widgets/controls",
      "model_module_version": "1.5.0",
      "model_name": "ButtonModel",
      "state": {
       "description": "New",
       "layout": "IPY_MODEL_5502d57526034819b5c04d1ea616d468",
       "style": "IPY_MODEL_c49302cddede41869e6850b57b63bd6d"
      }
     },
     "9df0b0c36fba47229e7998d4b94b6079": {
      "model_module": "@jupyter-widgets/controls",
      "model_module_version": "1.5.0",
      "model_name": "TextModel",
      "state": {
       "description": "Identifier",
       "disabled": true,
       "layout": "IPY_MODEL_d19d457bd5034c9daf8e0f257ac7d773",
       "placeholder": "(\\d+)",
       "style": "IPY_MODEL_ee3c7640f6d746c88f16bbf19c907a72",
       "value": "3"
      }
     },
     "9e158afaa2e346f29c3ec9b3aa2da56c": {
      "model_module": "@jupyter-widgets/base",
      "model_module_version": "1.2.0",
      "model_name": "LayoutModel",
      "state": {}
     },
     "9e24b431e25e49a795cd107343a707ee": {
      "model_module": "@jupyter-widgets/controls",
      "model_module_version": "1.5.0",
      "model_name": "SelectModel",
      "state": {
       "_options_labels": [
        "Experiment.tmplt.ipynb"
       ],
       "description": "Template",
       "index": 0,
       "layout": "IPY_MODEL_14dc55f53d3f450995d8ca2b589a8d55",
       "style": "IPY_MODEL_a69b1d74b7a24c81b191eb73c88efeaf"
      }
     },
     "9ebc55558300459cac3f5d55af2ee4a1": {
      "model_module": "@jupyter-widgets/controls",
      "model_module_version": "1.5.0",
      "model_name": "ButtonModel",
      "state": {
       "description": "New",
       "layout": "IPY_MODEL_585ce9b0ad9745a28cb3b8a68333cb66",
       "style": "IPY_MODEL_92e8007b4b90413791f3a41cc0134379"
      }
     },
     "9ec2469bbc2b40b196a53c9569a86c1f": {
      "model_module": "@jupyter-widgets/controls",
      "model_module_version": "1.5.0",
      "model_name": "ButtonModel",
      "state": {
       "description": "Confirm",
       "disabled": true,
       "layout": "IPY_MODEL_7f63779f8aa743af8b7bb3e32f4cc455",
       "style": "IPY_MODEL_821245862ea64d2e8d18171e8c1263ec"
      }
     },
     "9f13d90e5fab4ef686ac88d9b5227395": {
      "model_module": "@jupyter-widgets/controls",
      "model_module_version": "1.5.0",
      "model_name": "DescriptionStyleModel",
      "state": {
       "description_width": "10%"
      }
     },
     "a01765ebd7194c588c3809c093e1a4c7": {
      "model_module": "@jupyter-widgets/base",
      "model_module_version": "1.2.0",
      "model_name": "LayoutModel",
      "state": {}
     },
     "a1a7da6fa5e4496589aceb5e57751144": {
      "model_module": "@jupyter-widgets/controls",
      "model_module_version": "1.5.0",
      "model_name": "DescriptionStyleModel",
      "state": {
       "description_width": "10%"
      }
     },
     "a21f17f616a64aea98dccf8a8e21007b": {
      "model_module": "@jupyter-widgets/output",
      "model_module_version": "1.0.0",
      "model_name": "OutputModel",
      "state": {
       "layout": "IPY_MODEL_fd7a75c39e3a4e0b933477bf77fe9bb7",
       "outputs": [
        {
         "data": {
          "text/html": "<h1 style=\"display: inline;\"><a href=\"WP1.ipynb\">WP1</a></h1><h3 style=\"display: inline;\">(<a href=\"../Home.ipynb\" target=\"_blank\">Home</a>)</h3>",
          "text/plain": "<cassini.ipygui.WHTML at 0x156c779c438>"
         },
         "metadata": {},
         "output_type": "display_data"
        }
       ]
      }
     },
     "a26c0a615fc94577ae2cfd5beb914d34": {
      "model_module": "@jupyter-widgets/controls",
      "model_module_version": "1.5.0",
      "model_name": "ButtonStyleModel",
      "state": {}
     },
     "a36a294b76d1417ab7c8dfe77f3e0c72": {
      "model_module": "@jupyter-widgets/controls",
      "model_module_version": "1.5.0",
      "model_name": "SelectModel",
      "state": {
       "_options_labels": [
        "Experiment.tmplt.ipynb"
       ],
       "description": "Template",
       "disabled": true,
       "index": 0,
       "layout": "IPY_MODEL_3fa65e05f2af420582922774cf4f46c3",
       "style": "IPY_MODEL_260de04004954a53a14db4cda4de3a22"
      }
     },
     "a420c002de414b2381e94394f487a59f": {
      "model_module": "@jupyter-widgets/base",
      "model_module_version": "1.2.0",
      "model_name": "LayoutModel",
      "state": {}
     },
     "a46efe9ddd914be2a57cdbcc3bd2b0fd": {
      "model_module": "@jupyter-widgets/base",
      "model_module_version": "1.2.0",
      "model_name": "LayoutModel",
      "state": {}
     },
     "a4c156ef5629438bb32f79f2101cb00d": {
      "model_module": "@jupyter-widgets/base",
      "model_module_version": "1.2.0",
      "model_name": "LayoutModel",
      "state": {}
     },
     "a4fabaeb6da6470f8d9deaa73be1a8d8": {
      "model_module": "@jupyter-widgets/base",
      "model_module_version": "1.2.0",
      "model_name": "LayoutModel",
      "state": {}
     },
     "a69b1d74b7a24c81b191eb73c88efeaf": {
      "model_module": "@jupyter-widgets/controls",
      "model_module_version": "1.5.0",
      "model_name": "DescriptionStyleModel",
      "state": {
       "description_width": "10%"
      }
     },
     "a72a4d86bb0941818c33c4297833269b": {
      "model_module": "@jupyter-widgets/controls",
      "model_module_version": "1.5.0",
      "model_name": "TextareaModel",
      "state": {
       "description": "Motivation",
       "layout": "IPY_MODEL_12037a875469411580ddb6475c647c99",
       "style": "IPY_MODEL_9f13d90e5fab4ef686ac88d9b5227395"
      }
     },
     "a791e4eb2ace42188dadd64bcb2f8628": {
      "model_module": "@jupyter-widgets/output",
      "model_module_version": "1.0.0",
      "model_name": "OutputModel",
      "state": {
       "layout": "IPY_MODEL_3de9a5e47e5442f19195d603d2c8b25c",
       "outputs": [
        {
         "data": {
          "text/html": "<h1 style=\"display: inline;\"><a href=\"WP1.ipynb\">WP1</a></h1><h3 style=\"display: inline;\">(<a href=\"../Home.ipynb\" target=\"_blank\">Home</a>)</h3>",
          "text/plain": "<cassini.ipygui.WHTML at 0x156c78977f0>"
         },
         "metadata": {},
         "output_type": "display_data"
        }
       ]
      }
     },
     "a7b884b686a340498d8467ca14f35b11": {
      "model_module": "@jupyter-widgets/base",
      "model_module_version": "1.2.0",
      "model_name": "LayoutModel",
      "state": {}
     },
     "a87f61141dbc4c79aef3abd30b79eb33": {
      "model_module": "@jupyter-widgets/controls",
      "model_module_version": "1.5.0",
      "model_name": "ButtonModel",
      "state": {
       "description": "Confirm",
       "disabled": true,
       "layout": "IPY_MODEL_854f30067bba49ca9fffefb2123e8f7c",
       "style": "IPY_MODEL_7e5ad92bd4e54911801d241c65f0d5cb"
      }
     },
     "a8ca27a34ec5468b84673005b6cec702": {
      "model_module": "@jupyter-widgets/output",
      "model_module_version": "1.0.0",
      "model_name": "OutputModel",
      "state": {
       "layout": "IPY_MODEL_92d7de79a99547358e7bb47ea2b4ac14",
       "outputs": [
        {
         "data": {
          "text/html": "<h3>Motivation</h3>",
          "text/plain": "<cassini.ipygui.WHTML at 0x156c79a6668>"
         },
         "metadata": {},
         "output_type": "display_data"
        }
       ]
      }
     },
     "a8da67510301493a9cbd225ef65910ce": {
      "model_module": "@jupyter-widgets/controls",
      "model_module_version": "1.5.0",
      "model_name": "TextareaModel",
      "state": {
       "description": "Motivation",
       "layout": "IPY_MODEL_317d640685f74924afc4e513334af046",
       "style": "IPY_MODEL_2b1198a6857748eb92da82896d1bb490"
      }
     },
     "a95c02de23ab49d683d71cf01a7ad9b6": {
      "model_module": "@jupyter-widgets/controls",
      "model_module_version": "1.5.0",
      "model_name": "TextModel",
      "state": {
       "description": "Identifier",
       "layout": "IPY_MODEL_90a8accd1b444fcc9a6adb9b2f50ec2a",
       "placeholder": "(\\d+)",
       "style": "IPY_MODEL_59e1b3cd1718414f83cb17a4d5725c41"
      }
     },
     "a9f3adac39d246dc9fe6b5d9fa78b62d": {
      "model_module": "@jupyter-widgets/base",
      "model_module_version": "1.2.0",
      "model_name": "LayoutModel",
      "state": {}
     },
     "aa7131d10bba44ac8dfd73f502dfe795": {
      "model_module": "@jupyter-widgets/controls",
      "model_module_version": "1.5.0",
      "model_name": "TextModel",
      "state": {
       "description": "Identifier",
       "layout": "IPY_MODEL_c09f36c462d34869a054a56a7c24bc05",
       "placeholder": "(\\d+)",
       "style": "IPY_MODEL_c9c1fa7be7dd4e439f781b7f5f6df31b"
      }
     },
     "abe8416d73514ce8ab13083867a8cce6": {
      "model_module": "@jupyter-widgets/output",
      "model_module_version": "1.0.0",
      "model_name": "OutputModel",
      "state": {
       "layout": "IPY_MODEL_faf9215d081847c29079e22ea4d36071",
       "outputs": [
        {
         "data": {
          "text/html": "<h1 style=\"display: inline;\"><a href=\"WP1.ipynb\">WP1</a></h1><h3 style=\"display: inline;\">(<a href=\"../Home.ipynb\" target=\"_blank\">Home</a>)</h3>",
          "text/plain": "<cassini.ipygui.WHTML at 0x156c77c4ef0>"
         },
         "metadata": {},
         "output_type": "display_data"
        }
       ]
      }
     },
     "ac06ee3813d24918bd8e0a1b5f5e5fd5": {
      "model_module": "@jupyter-widgets/controls",
      "model_module_version": "1.5.0",
      "model_name": "ButtonStyleModel",
      "state": {}
     },
     "accbb0d040f2438b92a020328da0190f": {
      "model_module": "@jupyter-widgets/base",
      "model_module_version": "1.2.0",
      "model_name": "LayoutModel",
      "state": {}
     },
     "acddef692f284420affbd5f8c367659f": {
      "model_module": "@jupyter-widgets/output",
      "model_module_version": "1.0.0",
      "model_name": "OutputModel",
      "state": {
       "layout": "IPY_MODEL_44dae5673c304061b794849187c930e5"
      }
     },
     "acfe1b365e044229b87c75f9f02b0076": {
      "model_module": "@jupyter-widgets/controls",
      "model_module_version": "1.5.0",
      "model_name": "ButtonModel",
      "state": {
       "description": "Confirm",
       "disabled": true,
       "layout": "IPY_MODEL_c0541c47a03a4901ba6d1dce5ad6d0b4",
       "style": "IPY_MODEL_e84b6ca3756740fca38df847a7e9e0cf"
      }
     },
     "ad217484e8334460ab0af6d8866d8af3": {
      "model_module": "@jupyter-widgets/output",
      "model_module_version": "1.0.0",
      "model_name": "OutputModel",
      "state": {
       "layout": "IPY_MODEL_c76669a3ad7a4603a7b175b331e5ed65",
       "outputs": [
        {
         "data": {
          "text/markdown": "This description is set when making a new tier, but you can change it later! using `tier.description = 'my description'`",
          "text/plain": "<IPython.core.display.Markdown object>"
         },
         "metadata": {},
         "output_type": "display_data"
        }
       ]
      }
     },
     "ad410c9697134babad87e6f87a0ad133": {
      "model_module": "@jupyter-widgets/output",
      "model_module_version": "1.0.0",
      "model_name": "OutputModel",
      "state": {
       "layout": "IPY_MODEL_8e7c078881254cac8635bb8a370db640"
      }
     },
     "ad861885a3774e90bdabf78ef991900f": {
      "model_module": "@jupyter-widgets/base",
      "model_module_version": "1.2.0",
      "model_name": "LayoutModel",
      "state": {
       "width": "auto"
      }
     },
     "ad94c488c5ca46399b73446b3226f2af": {
      "model_module": "@jupyter-widgets/output",
      "model_module_version": "1.0.0",
      "model_name": "OutputModel",
      "state": {
       "layout": "IPY_MODEL_2d5735e73ae24c10b6fe4e9ccdeb5e89"
      }
     },
     "b1421bb393dc46e7905f64fd83d26c47": {
      "model_module": "@jupyter-widgets/controls",
      "model_module_version": "1.5.0",
      "model_name": "ButtonModel",
      "state": {
       "description": "New",
       "layout": "IPY_MODEL_d38ce319f3464f83802c9a852827f8d4",
       "style": "IPY_MODEL_144da8e98f9d4c119cfdec2c3822a78c"
      }
     },
     "b1c905cec06949beb4b0068710d038ba": {
      "model_module": "@jupyter-widgets/controls",
      "model_module_version": "1.5.0",
      "model_name": "ButtonStyleModel",
      "state": {}
     },
     "b215b4701afa4fc8882067c680285ba5": {
      "model_module": "@jupyter-widgets/controls",
      "model_module_version": "1.5.0",
      "model_name": "ButtonModel",
      "state": {
       "description": "Folder",
       "layout": "IPY_MODEL_539143185cf6494e889472a040ec2c8a",
       "style": "IPY_MODEL_dc73954b0b7f44759097c6bebc3c4cee"
      }
     },
     "b2280ee97f82412c9c8fb4b9d406c1d2": {
      "model_module": "@jupyter-widgets/base",
      "model_module_version": "1.2.0",
      "model_name": "LayoutModel",
      "state": {
       "width": "auto"
      }
     },
     "b24dc5d1989d4f0e95766108cc52915c": {
      "model_module": "@jupyter-widgets/controls",
      "model_module_version": "1.5.0",
      "model_name": "DescriptionStyleModel",
      "state": {
       "description_width": "10%"
      }
     },
     "b2d6f07f840d4c5a9e5afd12942ffd1f": {
      "model_module": "@jupyter-widgets/controls",
      "model_module_version": "1.5.0",
      "model_name": "ButtonStyleModel",
      "state": {}
     },
     "b2df831e3ddf41ee970c59016d39de27": {
      "model_module": "@jupyter-widgets/controls",
      "model_module_version": "1.5.0",
      "model_name": "DescriptionStyleModel",
      "state": {
       "description_width": "10%"
      }
     },
     "b2f0d4b1021a488ab7c57d115a888f3a": {
      "model_module": "@jupyter-widgets/base",
      "model_module_version": "1.2.0",
      "model_name": "LayoutModel",
      "state": {
       "width": "auto"
      }
     },
     "b344f1e5a945484487d318ac8539edff": {
      "model_module": "@jupyter-widgets/controls",
      "model_module_version": "1.5.0",
      "model_name": "TextModel",
      "state": {
       "description": "Identifier",
       "layout": "IPY_MODEL_7edc3768b1dc450b9a9e62c644b3645c",
       "placeholder": "(\\d+)",
       "style": "IPY_MODEL_f042ddfef7084b11a70a15aa98f9e107"
      }
     },
     "b4f1fc37f0af44c5baf42ddbc6e53021": {
      "model_module": "@jupyter-widgets/controls",
      "model_module_version": "1.5.0",
      "model_name": "ButtonStyleModel",
      "state": {}
     },
     "b57522bad1774784b99f614a9b30dc9b": {
      "model_module": "@jupyter-widgets/base",
      "model_module_version": "1.2.0",
      "model_name": "LayoutModel",
      "state": {
       "width": "auto"
      }
     },
     "b643d8c1156944d798432b06667da404": {
      "model_module": "@jupyter-widgets/output",
      "model_module_version": "1.0.0",
      "model_name": "OutputModel",
      "state": {
       "layout": "IPY_MODEL_454ae4c26d8c4b9a9efe817ee86cb7a2"
      }
     },
     "b691b7d7db1a4d938cb29b5a885e0a33": {
      "model_module": "@jupyter-widgets/base",
      "model_module_version": "1.2.0",
      "model_name": "LayoutModel",
      "state": {}
     },
     "b6a04653529443b48037159e9e92a4d4": {
      "model_module": "@jupyter-widgets/controls",
      "model_module_version": "1.5.0",
      "model_name": "SelectModel",
      "state": {
       "_options_labels": [
        "Experiment.tmplt.ipynb"
       ],
       "description": "Template",
       "index": 0,
       "layout": "IPY_MODEL_e1ff069605a043e6b845c6e4232fc63b",
       "style": "IPY_MODEL_f4d1a1e28887442a81c7af80f07cb84c"
      }
     },
     "b6f6dd9eb9044550a2112b0d95994fdf": {
      "model_module": "@jupyter-widgets/output",
      "model_module_version": "1.0.0",
      "model_name": "OutputModel",
      "state": {
       "layout": "IPY_MODEL_3395bf350740433d8358d1afc4fd0587",
       "outputs": [
        {
         "data": {
          "text/html": "<h3>New Experiment</h3>",
          "text/plain": "<cassini.ipygui.WHTML at 0x156c7786da0>"
         },
         "metadata": {},
         "output_type": "display_data"
        }
       ]
      }
     },
     "b7484c747de048cb837267fd4ee214e3": {
      "model_module": "@jupyter-widgets/output",
      "model_module_version": "1.0.0",
      "model_name": "OutputModel",
      "state": {
       "layout": "IPY_MODEL_8e18ff0067d94cd484d24b1991091cd1",
       "outputs": [
        {
         "data": {
          "text/html": "<h3>New Experiment</h3>",
          "text/plain": "<cassini.ipygui.WHTML at 0x156c779a470>"
         },
         "metadata": {},
         "output_type": "display_data"
        }
       ]
      }
     },
     "b787e5a9ced04b38a4fda483b8916a2a": {
      "model_module": "@jupyter-widgets/base",
      "model_module_version": "1.2.0",
      "model_name": "LayoutModel",
      "state": {
       "width": "auto"
      }
     },
     "b7f2ed430cfa4153be2e8d202cf14851": {
      "model_module": "@jupyter-widgets/output",
      "model_module_version": "1.0.0",
      "model_name": "OutputModel",
      "state": {
       "layout": "IPY_MODEL_6e96cf78672748ed936bbcb7d9d9c4a9",
       "outputs": [
        {
         "data": {
          "text/html": "<h3>New Experiment</h3>",
          "text/plain": "<cassini.ipygui.WHTML at 0x156c79ad8d0>"
         },
         "metadata": {},
         "output_type": "display_data"
        }
       ]
      }
     },
     "b8171d3952294ba59981a3d3c053dd12": {
      "model_module": "@jupyter-widgets/base",
      "model_module_version": "1.2.0",
      "model_name": "LayoutModel",
      "state": {
       "width": "auto"
      }
     },
     "b86b0ed3114a4040a86a2d9344698709": {
      "model_module": "@jupyter-widgets/output",
      "model_module_version": "1.0.0",
      "model_name": "OutputModel",
      "state": {
       "layout": "IPY_MODEL_edf76bff8a7c4015be2f5c8ab2835d1e",
       "outputs": [
        {
         "name": "stdout",
         "output_type": "stream",
         "text": "Creating files for WP1.3\nMeta (D:\\Documents\\Programin\\WorkingVersions\\cassini\\dev\\examples\\default\\WorkPackages\\WP1\\.exps\\WP1.3.json)\nWriting Meta Data\nSuccess\nCreating Tier File (D:\\Documents\\Programin\\WorkingVersions\\cassini\\dev\\examples\\default\\WorkPackages\\WP1\\WP1.3.ipynb) using template (Experiment\\Experiment.tmplt.ipynb)\nSuccess\nCreating Tier Folder (D:\\Documents\\Programin\\WorkingVersions\\cassini\\dev\\examples\\default\\WorkPackages\\WP1\\WP1.3)\nSuccess\nAll Done\n"
        },
        {
         "data": {
          "application/vnd.jupyter.widget-view+json": {
           "model_id": "5416d9dca8814e1d8af9d29fecc59d0b",
           "version_major": 2,
           "version_minor": 0
          },
          "text/plain": "Output()"
         },
         "metadata": {},
         "output_type": "display_data"
        }
       ]
      }
     },
     "b87f68b174f841b7a7b59cd471d218ea": {
      "model_module": "@jupyter-widgets/base",
      "model_module_version": "1.2.0",
      "model_name": "LayoutModel",
      "state": {}
     },
     "b91020dc7c7942b791110c58de1cb169": {
      "model_module": "@jupyter-widgets/output",
      "model_module_version": "1.0.0",
      "model_name": "OutputModel",
      "state": {
       "layout": "IPY_MODEL_6974104d475e4765ab289d95ec879bf5",
       "outputs": [
        {
         "data": {
          "text/html": "<h3>New Experiment</h3>",
          "text/plain": "<cassini.ipygui.WHTML at 0x156c779cbe0>"
         },
         "metadata": {},
         "output_type": "display_data"
        }
       ]
      }
     },
     "b9b7193b36c44a9ebf534352443bb030": {
      "model_module": "@jupyter-widgets/base",
      "model_module_version": "1.2.0",
      "model_name": "LayoutModel",
      "state": {}
     },
     "ba30117295264b8bb238952e1830d298": {
      "model_module": "@jupyter-widgets/controls",
      "model_module_version": "1.5.0",
      "model_name": "VBoxModel",
      "state": {
       "children": [
        "IPY_MODEL_bd07c03f5fe04ea7a81f3e1bcb17e039",
        "IPY_MODEL_1f3b978bba32435d849cc5162da345c8",
        "IPY_MODEL_799c2d4e3e5341b698ac6a35e95ce084",
        "IPY_MODEL_0733a127d0604a9690c671b69382e96e",
        "IPY_MODEL_332125fd74374808a99720072d43906e",
        "IPY_MODEL_224d34f0f85e4d3d8bf0def45ea532ba",
        "IPY_MODEL_d020a746dd674c12899ca959532ffc61"
       ],
       "layout": "IPY_MODEL_81c9359d2388418880347818a0ce2d6c"
      }
     },
     "ba4cd44f81914760b7890480976b554e": {
      "model_module": "@jupyter-widgets/output",
      "model_module_version": "1.0.0",
      "model_name": "OutputModel",
      "state": {
       "layout": "IPY_MODEL_3393fce484f0448e95a88f7de4119d97",
       "outputs": [
        {
         "data": {
          "text/html": "<h3>Motivation</h3>",
          "text/plain": "<cassini.ipygui.WHTML at 0x156c77dfcc0>"
         },
         "metadata": {},
         "output_type": "display_data"
        }
       ]
      }
     },
     "ba722ba2f1e744f88a7decc2a5c3e0eb": {
      "model_module": "@jupyter-widgets/controls",
      "model_module_version": "1.5.0",
      "model_name": "ButtonStyleModel",
      "state": {}
     },
     "bac172a00d02459abcc0bcb4327f90d3": {
      "model_module": "@jupyter-widgets/output",
      "model_module_version": "1.0.0",
      "model_name": "OutputModel",
      "state": {
       "layout": "IPY_MODEL_70e13bb617f14174b46f7c93c4060389",
       "outputs": [
        {
         "data": {
          "text/html": "<table border=\"1\" class=\"dataframe\">\n  <thead>\n    <tr style=\"text-align: right;\">\n      <th></th>\n      <th>started</th>\n      <th>description</th>\n      <th>additional</th>\n      <th>Obj</th>\n    </tr>\n    <tr>\n      <th>Name</th>\n      <th></th>\n      <th></th>\n      <th></th>\n      <th></th>\n    </tr>\n  </thead>\n  <tbody>\n    <tr>\n      <th>WP1.1</th>\n      <td>2020-06-29</td>\n      <td>Fine</td>\n      <td>100.0</td>\n      <td><a href=\"WP1/WP1.1.ipynb\" target=\"_blank\"><h3 style=\"display: inline;\">WP1.1</h3 style=\"display: inline;\"</a></td>\n    </tr>\n    <tr>\n      <th>WP1.2</th>\n      <td>2020-06-29</td>\n      <td></td>\n      <td>NaN</td>\n      <td><a href=\"WP1/WP1.2.ipynb\" target=\"_blank\"><h3 style=\"display: inline;\">WP1.2</h3 style=\"display: inline;\"</a></td>\n    </tr>\n  </tbody>\n</table>",
          "text/plain": "         started description  additional                   Obj\nName                                                          \nWP1.1 2020-06-29        Fine       100.0  <Experiment \"WP1.1\">\nWP1.2 2020-06-29                     NaN  <Experiment \"WP1.2\">"
         },
         "metadata": {},
         "output_type": "display_data"
        }
       ]
      }
     },
     "bbe66acae185450eba427edc70a15cc3": {
      "model_module": "@jupyter-widgets/controls",
      "model_module_version": "1.5.0",
      "model_name": "HBoxModel",
      "state": {
       "children": [
        "IPY_MODEL_898aa8a7637a499393fc492e1bcd6dc0",
        "IPY_MODEL_b1421bb393dc46e7905f64fd83d26c47"
       ],
       "layout": "IPY_MODEL_a4fabaeb6da6470f8d9deaa73be1a8d8"
      }
     },
     "bd07c03f5fe04ea7a81f3e1bcb17e039": {
      "model_module": "@jupyter-widgets/controls",
      "model_module_version": "1.5.0",
      "model_name": "VBoxModel",
      "state": {
       "children": [
        "IPY_MODEL_a791e4eb2ace42188dadd64bcb2f8628",
        "IPY_MODEL_4ba2fb6884344e46898df9660d9fc461"
       ],
       "layout": "IPY_MODEL_3133131cc47d4a20afdbcd42843615a2"
      }
     },
     "bd8008e4bc2b4456a229bcd41d734b6f": {
      "model_module": "@jupyter-widgets/base",
      "model_module_version": "1.2.0",
      "model_name": "LayoutModel",
      "state": {
       "width": "auto"
      }
     },
     "bfc7626652a6458392577e6ea457e9f5": {
      "model_module": "@jupyter-widgets/base",
      "model_module_version": "1.2.0",
      "model_name": "LayoutModel",
      "state": {
       "width": "auto"
      }
     },
     "c0541c47a03a4901ba6d1dce5ad6d0b4": {
      "model_module": "@jupyter-widgets/base",
      "model_module_version": "1.2.0",
      "model_name": "LayoutModel",
      "state": {}
     },
     "c09f36c462d34869a054a56a7c24bc05": {
      "model_module": "@jupyter-widgets/base",
      "model_module_version": "1.2.0",
      "model_name": "LayoutModel",
      "state": {
       "width": "auto"
      }
     },
     "c12ba099ac51487eb02a37bee59f1d77": {
      "model_module": "@jupyter-widgets/base",
      "model_module_version": "1.2.0",
      "model_name": "LayoutModel",
      "state": {}
     },
     "c1949dd296b64ff58e62637ceecaa15a": {
      "model_module": "@jupyter-widgets/base",
      "model_module_version": "1.2.0",
      "model_name": "LayoutModel",
      "state": {
       "width": "auto"
      }
     },
     "c1c20ac20e4641508b5f330269f3b973": {
      "model_module": "@jupyter-widgets/output",
      "model_module_version": "1.0.0",
      "model_name": "OutputModel",
      "state": {
       "layout": "IPY_MODEL_dc132d579ac74cfe9ff5ad83e1bc7c9f",
       "outputs": [
        {
         "data": {
          "text/html": "<h3>Experiments</h3>",
          "text/plain": "<cassini.ipygui.WHTML at 0x156c7849710>"
         },
         "metadata": {},
         "output_type": "display_data"
        }
       ]
      }
     },
     "c2819eb06585463eb5851d2f4603e828": {
      "model_module": "@jupyter-widgets/controls",
      "model_module_version": "1.5.0",
      "model_name": "ButtonModel",
      "state": {
       "description": "Confirm",
       "disabled": true,
       "layout": "IPY_MODEL_fd6cf7fe26414b23920fe3941459512a",
       "style": "IPY_MODEL_0a891d82d3994a96a42531be42d19ff7"
      }
     },
     "c330825dff074bedba1d56da819312cc": {
      "model_module": "@jupyter-widgets/controls",
      "model_module_version": "1.5.0",
      "model_name": "HBoxModel",
      "state": {
       "children": [
        "IPY_MODEL_8f2953d01e6144498f5925c2f242db86",
        "IPY_MODEL_9ebc55558300459cac3f5d55af2ee4a1"
       ],
       "layout": "IPY_MODEL_f1c047381b4f47e0a0b91631e0bbe38a"
      }
     },
     "c370ba7ef0a240d794ee28f2b70797d1": {
      "model_module": "@jupyter-widgets/output",
      "model_module_version": "1.0.0",
      "model_name": "OutputModel",
      "state": {
       "layout": "IPY_MODEL_1ae3de850b4a4c0bbb01c90dd0368f3d",
       "outputs": [
        {
         "data": {
          "text/html": "<table border=\"1\" class=\"dataframe\">\n  <thead>\n    <tr style=\"text-align: right;\">\n      <th></th>\n      <th>started</th>\n      <th>description</th>\n      <th>additional</th>\n      <th>Obj</th>\n    </tr>\n    <tr>\n      <th>Name</th>\n      <th></th>\n      <th></th>\n      <th></th>\n      <th></th>\n    </tr>\n  </thead>\n  <tbody>\n    <tr>\n      <th>WP1.1</th>\n      <td>2020-06-29</td>\n      <td>Fine</td>\n      <td>100.0</td>\n      <td><a href=\"WP1/WP1.1.ipynb\" target=\"_blank\"><h3 style=\"display: inline;\">WP1.1</h3 style=\"display: inline;\"</a></td>\n    </tr>\n    <tr>\n      <th>WP1.2</th>\n      <td>2020-06-29</td>\n      <td></td>\n      <td>NaN</td>\n      <td><a href=\"WP1/WP1.2.ipynb\" target=\"_blank\"><h3 style=\"display: inline;\">WP1.2</h3 style=\"display: inline;\"</a></td>\n    </tr>\n  </tbody>\n</table>",
          "text/plain": "         started description  additional                   Obj\nName                                                          \nWP1.1 2020-06-29        Fine       100.0  <Experiment \"WP1.1\">\nWP1.2 2020-06-29                     NaN  <Experiment \"WP1.2\">"
         },
         "metadata": {},
         "output_type": "display_data"
        }
       ]
      }
     },
     "c3d11d67351f448faebbb21bc3901f01": {
      "model_module": "@jupyter-widgets/output",
      "model_module_version": "1.0.0",
      "model_name": "OutputModel",
      "state": {
       "layout": "IPY_MODEL_5faa750e262047c9ba4ab6eb9c156c53",
       "outputs": [
        {
         "data": {
          "text/markdown": "This description is set when making a new tier, but you can change it later! using `tier.description = 'my description'`",
          "text/plain": "<IPython.core.display.Markdown object>"
         },
         "metadata": {},
         "output_type": "display_data"
        }
       ]
      }
     },
     "c40cd716bce44371a30df53a8d92ec81": {
      "model_module": "@jupyter-widgets/controls",
      "model_module_version": "1.5.0",
      "model_name": "VBoxModel",
      "state": {
       "children": [
        "IPY_MODEL_8037867c5ce242d8bc541b042e2a7709",
        "IPY_MODEL_7bcbcd9d78d6403d959dc93727f232ea",
        "IPY_MODEL_c3d11d67351f448faebbb21bc3901f01",
        "IPY_MODEL_4470a36b41024e2da91a392584cec460",
        "IPY_MODEL_ec31527a0af147a8b2870b162f733635",
        "IPY_MODEL_4b6bbd1950ec4309ae59aaf037a6b003",
        "IPY_MODEL_868490ba3bcd472f917708d3d4d70b8e"
       ],
       "layout": "IPY_MODEL_a4c156ef5629438bb32f79f2101cb00d"
      }
     },
     "c42d2fa80a864cf89470c934ca41d427": {
      "model_module": "@jupyter-widgets/base",
      "model_module_version": "1.2.0",
      "model_name": "LayoutModel",
      "state": {}
     },
     "c49302cddede41869e6850b57b63bd6d": {
      "model_module": "@jupyter-widgets/controls",
      "model_module_version": "1.5.0",
      "model_name": "ButtonStyleModel",
      "state": {}
     },
     "c4b591fcf5e94bab84782689cf503536": {
      "model_module": "@jupyter-widgets/controls",
      "model_module_version": "1.5.0",
      "model_name": "VBoxModel",
      "state": {
       "children": [
        "IPY_MODEL_abe8416d73514ce8ab13083867a8cce6",
        "IPY_MODEL_dfa5d0ad0a8443b6a7f9e7ddd2823421"
       ],
       "layout": "IPY_MODEL_ecdb14f9a59a4d8182c9d8ad6653dba4"
      }
     },
     "c5f987d9aad84d6c8fcc137e72df5d30": {
      "model_module": "@jupyter-widgets/controls",
      "model_module_version": "1.5.0",
      "model_name": "ButtonStyleModel",
      "state": {}
     },
     "c65534c9ee164a8f9a98623624df7738": {
      "model_module": "@jupyter-widgets/base",
      "model_module_version": "1.2.0",
      "model_name": "LayoutModel",
      "state": {
       "width": "auto"
      }
     },
     "c672f0d402af4e58a227696ee5438945": {
      "model_module": "@jupyter-widgets/base",
      "model_module_version": "1.2.0",
      "model_name": "LayoutModel",
      "state": {}
     },
     "c69489869bad48948e550479ce902409": {
      "model_module": "@jupyter-widgets/controls",
      "model_module_version": "1.5.0",
      "model_name": "VBoxModel",
      "state": {
       "children": [
        "IPY_MODEL_c4b591fcf5e94bab84782689cf503536",
        "IPY_MODEL_8a8b7b07fb4541c8911b01abdc71feb9",
        "IPY_MODEL_d9f94fa9b8fe47269726b52c5588e3ab",
        "IPY_MODEL_5fd1735c98d9417c9c4566f3e79ef5b5",
        "IPY_MODEL_80bcfa508bea4090b99442150861bdf7",
        "IPY_MODEL_6bab66e80bbc49a1b2bba8a2fdecffb9",
        "IPY_MODEL_342732c91ab0416e8e18505005ddd4da"
       ],
       "layout": "IPY_MODEL_8eb4a7dab0f241afbba34bc243a45cbb"
      }
     },
     "c76669a3ad7a4603a7b175b331e5ed65": {
      "model_module": "@jupyter-widgets/base",
      "model_module_version": "1.2.0",
      "model_name": "LayoutModel",
      "state": {}
     },
     "c86b848538764e43995cc58e369c8367": {
      "model_module": "@jupyter-widgets/base",
      "model_module_version": "1.2.0",
      "model_name": "LayoutModel",
      "state": {}
     },
     "c88b130862404e4da1be64eddb537879": {
      "model_module": "@jupyter-widgets/controls",
      "model_module_version": "1.5.0",
      "model_name": "ButtonModel",
      "state": {
       "description": "Folder",
       "layout": "IPY_MODEL_6ea9a842d0b44cfcbee9b64e1503418f",
       "style": "IPY_MODEL_c5f987d9aad84d6c8fcc137e72df5d30"
      }
     },
     "c8adfad4302240b5862b080f1c940f23": {
      "model_module": "@jupyter-widgets/controls",
      "model_module_version": "1.5.0",
      "model_name": "DescriptionStyleModel",
      "state": {
       "description_width": "10%"
      }
     },
     "c9c1fa7be7dd4e439f781b7f5f6df31b": {
      "model_module": "@jupyter-widgets/controls",
      "model_module_version": "1.5.0",
      "model_name": "DescriptionStyleModel",
      "state": {
       "description_width": "10%"
      }
     },
     "c9cccbacea6d4672a99a5452ebabac48": {
      "model_module": "@jupyter-widgets/controls",
      "model_module_version": "1.5.0",
      "model_name": "ButtonStyleModel",
      "state": {}
     },
     "c9e6099e94204180ae962379ceb11684": {
      "model_module": "@jupyter-widgets/controls",
      "model_module_version": "1.5.0",
      "model_name": "HBoxModel",
      "state": {
       "children": [
        "IPY_MODEL_acfe1b365e044229b87c75f9f02b0076",
        "IPY_MODEL_fe2660626d6b4188995e57bb18a3d637"
       ],
       "layout": "IPY_MODEL_b87f68b174f841b7a7b59cd471d218ea"
      }
     },
     "c9f1e7eb257948019f49de42a6aa90a6": {
      "model_module": "@jupyter-widgets/output",
      "model_module_version": "1.0.0",
      "model_name": "OutputModel",
      "state": {
       "layout": "IPY_MODEL_998a3399e3f9457fa6798a26869da182",
       "outputs": [
        {
         "data": {
          "text/html": "<h3>Experiments</h3>",
          "text/plain": "<cassini.ipygui.WHTML at 0x156c77265c0>"
         },
         "metadata": {},
         "output_type": "display_data"
        }
       ]
      }
     },
     "ca8f5c911ed34818aa3205414f8dab82": {
      "model_module": "@jupyter-widgets/base",
      "model_module_version": "1.2.0",
      "model_name": "LayoutModel",
      "state": {}
     },
     "caa58e54a0ae4d52b431e2ba20959ef4": {
      "model_module": "@jupyter-widgets/controls",
      "model_module_version": "1.5.0",
      "model_name": "TextModel",
      "state": {
       "description": "Identifier",
       "layout": "IPY_MODEL_4f2658346c524f349ed77746b0502873",
       "placeholder": "(\\d+)",
       "style": "IPY_MODEL_7d3cade1fa7a4432a83a90b8e914f938"
      }
     },
     "cb7b2e9b506f4846b18ad428db3402dc": {
      "model_module": "@jupyter-widgets/base",
      "model_module_version": "1.2.0",
      "model_name": "LayoutModel",
      "state": {}
     },
     "cf8c99c217404d96a078513df71d2cc0": {
      "model_module": "@jupyter-widgets/base",
      "model_module_version": "1.2.0",
      "model_name": "LayoutModel",
      "state": {}
     },
     "cfc55508cec048c586eafcbe6d23351b": {
      "model_module": "@jupyter-widgets/base",
      "model_module_version": "1.2.0",
      "model_name": "LayoutModel",
      "state": {
       "width": "auto"
      }
     },
     "d020a746dd674c12899ca959532ffc61": {
      "model_module": "@jupyter-widgets/controls",
      "model_module_version": "1.5.0",
      "model_name": "VBoxModel",
      "state": {
       "children": [
        "IPY_MODEL_aa7131d10bba44ac8dfd73f502dfe795",
        "IPY_MODEL_26f7c951f09442fc868d67888c1457af",
        "IPY_MODEL_045f7871a7d14132be793bed13525656",
        "IPY_MODEL_92e8d06ea02e4f78bfca9ac3dd79bc9c",
        "IPY_MODEL_94c12318bcb84b538cd7e3bba9a2710a"
       ],
       "layout": "IPY_MODEL_25c6ac4b6c7c497f9a049a6d5d209c8f"
      }
     },
     "d093c22975c3443dabbc59637edfafa3": {
      "model_module": "@jupyter-widgets/controls",
      "model_module_version": "1.5.0",
      "model_name": "VBoxModel",
      "state": {
       "children": [
        "IPY_MODEL_04fadf704d194562b37962014b4a52f6",
        "IPY_MODEL_78312a71a5c74f719edb11ff2b423563",
        "IPY_MODEL_6d08e30c08f84442b0d256acfaf59362",
        "IPY_MODEL_00f556f0cb5c4ce081b0b8a3108cdb72",
        "IPY_MODEL_bac172a00d02459abcc0bcb4327f90d3",
        "IPY_MODEL_b91020dc7c7942b791110c58de1cb169",
        "IPY_MODEL_1d253974dad946698c0f8b1834646c98"
       ],
       "layout": "IPY_MODEL_65ef9f75d36143f48771c8ccc63cc547"
      }
     },
     "d0b653392cac4bf1b284ea0888419dbc": {
      "model_module": "@jupyter-widgets/output",
      "model_module_version": "1.0.0",
      "model_name": "OutputModel",
      "state": {
       "layout": "IPY_MODEL_28fee9c00831497ca30653fb3f7e63f4",
       "outputs": [
        {
         "data": {
          "text/html": "<h3>New Experiment</h3>",
          "text/plain": "<cassini.ipygui.WHTML at 0x156c7829518>"
         },
         "metadata": {},
         "output_type": "display_data"
        }
       ]
      }
     },
     "d0c9ee93571e46adafba98cdbef9f18d": {
      "model_module": "@jupyter-widgets/base",
      "model_module_version": "1.2.0",
      "model_name": "LayoutModel",
      "state": {}
     },
     "d19d457bd5034c9daf8e0f257ac7d773": {
      "model_module": "@jupyter-widgets/base",
      "model_module_version": "1.2.0",
      "model_name": "LayoutModel",
      "state": {
       "width": "auto"
      }
     },
     "d1bd73c929c2404686235dd79be606f6": {
      "model_module": "@jupyter-widgets/controls",
      "model_module_version": "1.5.0",
      "model_name": "DescriptionStyleModel",
      "state": {
       "description_width": "10%"
      }
     },
     "d2687698d7c44516ac628a20c6f42d98": {
      "model_module": "@jupyter-widgets/controls",
      "model_module_version": "1.5.0",
      "model_name": "ButtonStyleModel",
      "state": {}
     },
     "d3891d2d3b6f46a998f22a449eb1f703": {
      "model_module": "@jupyter-widgets/base",
      "model_module_version": "1.2.0",
      "model_name": "LayoutModel",
      "state": {}
     },
     "d38ce319f3464f83802c9a852827f8d4": {
      "model_module": "@jupyter-widgets/base",
      "model_module_version": "1.2.0",
      "model_name": "LayoutModel",
      "state": {}
     },
     "d3c4e5fae9564418a9899bf33be4e1ad": {
      "model_module": "@jupyter-widgets/output",
      "model_module_version": "1.0.0",
      "model_name": "OutputModel",
      "state": {
       "layout": "IPY_MODEL_82753ab00836457fb6dd7e5823365715",
       "outputs": [
        {
         "data": {
          "text/markdown": "Gobble Gobble",
          "text/plain": "<IPython.core.display.Markdown object>"
         },
         "metadata": {},
         "output_type": "display_data"
        }
       ]
      }
     },
     "d442b73e894b45c8a53d2ad5acd3049a": {
      "model_module": "@jupyter-widgets/base",
      "model_module_version": "1.2.0",
      "model_name": "LayoutModel",
      "state": {}
     },
     "d5fcb475fbd74fd58b5636e402fbe5bc": {
      "model_module": "@jupyter-widgets/controls",
      "model_module_version": "1.5.0",
      "model_name": "DescriptionStyleModel",
      "state": {
       "description_width": "10%"
      }
     },
     "d6631a61b036451ea1b7440f1c1518e3": {
      "model_module": "@jupyter-widgets/base",
      "model_module_version": "1.2.0",
      "model_name": "LayoutModel",
      "state": {}
     },
     "d73125760e584ae3ab88248719fe00ba": {
      "model_module": "@jupyter-widgets/controls",
      "model_module_version": "1.5.0",
      "model_name": "TextModel",
      "state": {
       "description": "Identifier",
       "layout": "IPY_MODEL_90e59f3343c9466c8c97da034b77c40b",
       "placeholder": "(\\d+)",
       "style": "IPY_MODEL_a1a7da6fa5e4496589aceb5e57751144"
      }
     },
     "d866ea2a4c1442eb97d4b2641ec60b70": {
      "model_module": "@jupyter-widgets/base",
      "model_module_version": "1.2.0",
      "model_name": "LayoutModel",
      "state": {
       "width": "auto"
      }
     },
     "d8a19f1a52fa4099bc3a583cb4d12756": {
      "model_module": "@jupyter-widgets/controls",
      "model_module_version": "1.5.0",
      "model_name": "VBoxModel",
      "state": {
       "children": [
        "IPY_MODEL_caa58e54a0ae4d52b431e2ba20959ef4",
        "IPY_MODEL_9e24b431e25e49a795cd107343a707ee",
        "IPY_MODEL_85e3f3b8df7245ac837ae40a1827dbd0",
        "IPY_MODEL_c330825dff074bedba1d56da819312cc",
        "IPY_MODEL_33eb190ad9cb4cc89d806322c095ec57"
       ],
       "layout": "IPY_MODEL_c12ba099ac51487eb02a37bee59f1d77"
      }
     },
     "d9f94fa9b8fe47269726b52c5588e3ab": {
      "model_module": "@jupyter-widgets/output",
      "model_module_version": "1.0.0",
      "model_name": "OutputModel",
      "state": {
       "layout": "IPY_MODEL_8abef5d37ee1418c95eddea30272c26e",
       "outputs": [
        {
         "data": {
          "text/markdown": "Gobble Gobble",
          "text/plain": "<IPython.core.display.Markdown object>"
         },
         "metadata": {},
         "output_type": "display_data"
        }
       ]
      }
     },
     "db534964a88d42279710ea0ce123a10e": {
      "model_module": "@jupyter-widgets/controls",
      "model_module_version": "1.5.0",
      "model_name": "SelectModel",
      "state": {
       "_options_labels": [
        "Experiment.tmplt.ipynb"
       ],
       "description": "Template",
       "index": 0,
       "layout": "IPY_MODEL_65b5f832a5f0498b915c22df57463404",
       "style": "IPY_MODEL_703361b7bd2740f0b8ce0a7076ca12aa"
      }
     },
     "dc132d579ac74cfe9ff5ad83e1bc7c9f": {
      "model_module": "@jupyter-widgets/base",
      "model_module_version": "1.2.0",
      "model_name": "LayoutModel",
      "state": {}
     },
     "dc73954b0b7f44759097c6bebc3c4cee": {
      "model_module": "@jupyter-widgets/controls",
      "model_module_version": "1.5.0",
      "model_name": "ButtonStyleModel",
      "state": {}
     },
     "df06108012504c139c18023863d03e7e": {
      "model_module": "@jupyter-widgets/base",
      "model_module_version": "1.2.0",
      "model_name": "LayoutModel",
      "state": {
       "width": "auto"
      }
     },
     "df59da3449d64afd9e3a3ae9b3d38eb3": {
      "model_module": "@jupyter-widgets/controls",
      "model_module_version": "1.5.0",
      "model_name": "ButtonStyleModel",
      "state": {}
     },
     "df9d8fe42b444b1183959473fda547f8": {
      "model_module": "@jupyter-widgets/controls",
      "model_module_version": "1.5.0",
      "model_name": "VBoxModel",
      "state": {
       "children": [
        "IPY_MODEL_f991ab2c529540679df4f208c0235e72",
        "IPY_MODEL_4116c5b8f58c4d718f683dbb5857111d",
        "IPY_MODEL_06b9b372e84148c291bc79a3c52be98f",
        "IPY_MODEL_2317e5ec89be4aed977af6a020e13b5a",
        "IPY_MODEL_e0298373a7154e759711404aabd59f21"
       ],
       "layout": "IPY_MODEL_9e158afaa2e346f29c3ec9b3aa2da56c"
      }
     },
     "dfa5d0ad0a8443b6a7f9e7ddd2823421": {
      "model_module": "@jupyter-widgets/controls",
      "model_module_version": "1.5.0",
      "model_name": "ButtonModel",
      "state": {
       "description": "Folder",
       "layout": "IPY_MODEL_5c06c5205ed3459a94cdfdd11f8bd0ff",
       "style": "IPY_MODEL_c9cccbacea6d4672a99a5452ebabac48"
      }
     },
     "dfadea4dbba04094aa03f3ab253af097": {
      "model_module": "@jupyter-widgets/output",
      "model_module_version": "1.0.0",
      "model_name": "OutputModel",
      "state": {
       "layout": "IPY_MODEL_ad861885a3774e90bdabf78ef991900f"
      }
     },
     "dfce8e27311647959fae67b4f249df6c": {
      "model_module": "@jupyter-widgets/base",
      "model_module_version": "1.2.0",
      "model_name": "LayoutModel",
      "state": {}
     },
     "e0298373a7154e759711404aabd59f21": {
      "model_module": "@jupyter-widgets/output",
      "model_module_version": "1.0.0",
      "model_name": "OutputModel",
      "state": {
       "layout": "IPY_MODEL_29b1b887afb9410d9e2477cd9c6fec62"
      }
     },
     "e0659a31d28940cea09ba8e54390f9cd": {
      "model_module": "@jupyter-widgets/base",
      "model_module_version": "1.2.0",
      "model_name": "LayoutModel",
      "state": {}
     },
     "e0868b38e13b4bb796c158a583889052": {
      "model_module": "@jupyter-widgets/output",
      "model_module_version": "1.0.0",
      "model_name": "OutputModel",
      "state": {
       "layout": "IPY_MODEL_2c14d9d399b9458490f7550effd0a859",
       "outputs": [
        {
         "data": {
          "text/html": "<h3>Motivation</h3>",
          "text/plain": "<cassini.ipygui.WHTML at 0x156c79d6f98>"
         },
         "metadata": {},
         "output_type": "display_data"
        }
       ]
      }
     },
     "e1bebfe5421149d994cd6bf3f8b63c62": {
      "model_module": "@jupyter-widgets/controls",
      "model_module_version": "1.5.0",
      "model_name": "VBoxModel",
      "state": {
       "children": [
        "IPY_MODEL_9b0833f2a16c49efa440728b618603ea",
        "IPY_MODEL_91fefc9b600f46f3af62cc783f44e71a",
        "IPY_MODEL_a72a4d86bb0941818c33c4297833269b",
        "IPY_MODEL_bbe66acae185450eba427edc70a15cc3",
        "IPY_MODEL_ad410c9697134babad87e6f87a0ad133"
       ],
       "layout": "IPY_MODEL_8616f3e5fd774b20a05b6343c65c3737"
      }
     },
     "e1ff069605a043e6b845c6e4232fc63b": {
      "model_module": "@jupyter-widgets/base",
      "model_module_version": "1.2.0",
      "model_name": "LayoutModel",
      "state": {
       "width": "auto"
      }
     },
     "e21abf37ee5245518d5994f39f9468e6": {
      "model_module": "@jupyter-widgets/base",
      "model_module_version": "1.2.0",
      "model_name": "LayoutModel",
      "state": {}
     },
     "e359e968e0454cd694f0f12db2d268a9": {
      "model_module": "@jupyter-widgets/controls",
      "model_module_version": "1.5.0",
      "model_name": "ButtonModel",
      "state": {
       "description": "New",
       "layout": "IPY_MODEL_87d11cbfb7cc4adeb8549af5dbd5e044",
       "style": "IPY_MODEL_5e45f039620544069cc253c78d28f0a3"
      }
     },
     "e416c1af2cdc48cea45ddc256b14a775": {
      "model_module": "@jupyter-widgets/base",
      "model_module_version": "1.2.0",
      "model_name": "LayoutModel",
      "state": {}
     },
     "e4eee48055474f5baa725bb2edb5aa05": {
      "model_module": "@jupyter-widgets/base",
      "model_module_version": "1.2.0",
      "model_name": "LayoutModel",
      "state": {}
     },
     "e62cb6cd70624152be23ab7016f727d7": {
      "model_module": "@jupyter-widgets/controls",
      "model_module_version": "1.5.0",
      "model_name": "HBoxModel",
      "state": {
       "children": [
        "IPY_MODEL_2795d29a41ea42c1bcd66b267d62c397",
        "IPY_MODEL_39eb3a2d7d4b40fc8af41fa1bf0be413"
       ],
       "layout": "IPY_MODEL_dfce8e27311647959fae67b4f249df6c"
      }
     },
     "e657d91150d5445c8590c8d70955b99f": {
      "model_module": "@jupyter-widgets/output",
      "model_module_version": "1.0.0",
      "model_name": "OutputModel",
      "state": {
       "layout": "IPY_MODEL_bfc7626652a6458392577e6ea457e9f5"
      }
     },
     "e84b6ca3756740fca38df847a7e9e0cf": {
      "model_module": "@jupyter-widgets/controls",
      "model_module_version": "1.5.0",
      "model_name": "ButtonStyleModel",
      "state": {}
     },
     "e84f42131dd643b09911b98cc5dd2c3c": {
      "model_module": "@jupyter-widgets/controls",
      "model_module_version": "1.5.0",
      "model_name": "VBoxModel",
      "state": {
       "children": [
        "IPY_MODEL_2c074a8e4c4146d3babcaee3e87bc429",
        "IPY_MODEL_1f83dad89eeb4c25bf58e2860238f54f",
        "IPY_MODEL_d3c4e5fae9564418a9899bf33be4e1ad",
        "IPY_MODEL_909f8332f3154af08ef805f16122042a",
        "IPY_MODEL_f13d20614fff428185477fbdf703a45e",
        "IPY_MODEL_b7484c747de048cb837267fd4ee214e3",
        "IPY_MODEL_78279f4a78b64b6db8d3e0c696e6cf80"
       ],
       "layout": "IPY_MODEL_a7b884b686a340498d8467ca14f35b11"
      }
     },
     "e8885a062c084b0abb07851c6510e271": {
      "model_module": "@jupyter-widgets/output",
      "model_module_version": "1.0.0",
      "model_name": "OutputModel",
      "state": {
       "layout": "IPY_MODEL_ff5f258249314efda82fe3de457946e6"
      }
     },
     "e8ea810fd9ad43e5ada09ea6fd8223ee": {
      "model_module": "@jupyter-widgets/base",
      "model_module_version": "1.2.0",
      "model_name": "LayoutModel",
      "state": {}
     },
     "e95c70d7b0c242bea40b79c612d2f9c5": {
      "model_module": "@jupyter-widgets/base",
      "model_module_version": "1.2.0",
      "model_name": "LayoutModel",
      "state": {}
     },
     "e95f51130f0642bda546a9d9da5e7a95": {
      "model_module": "@jupyter-widgets/output",
      "model_module_version": "1.0.0",
      "model_name": "OutputModel",
      "state": {
       "layout": "IPY_MODEL_eee29da07d16423f88ac369e54a10ebc"
      }
     },
     "ea10e0357319417f956d28b2ee13da9d": {
      "model_module": "@jupyter-widgets/controls",
      "model_module_version": "1.5.0",
      "model_name": "DescriptionStyleModel",
      "state": {
       "description_width": "10%"
      }
     },
     "ea568b9a214d40168af0b4017a0a43a8": {
      "model_module": "@jupyter-widgets/base",
      "model_module_version": "1.2.0",
      "model_name": "LayoutModel",
      "state": {
       "width": "auto"
      }
     },
     "ec31527a0af147a8b2870b162f733635": {
      "model_module": "@jupyter-widgets/output",
      "model_module_version": "1.0.0",
      "model_name": "OutputModel",
      "state": {
       "layout": "IPY_MODEL_8144c55a2bc84f2092c088bb78be8005",
       "outputs": [
        {
         "data": {
          "text/html": "<table border=\"1\" class=\"dataframe\">\n  <thead>\n    <tr style=\"text-align: right;\">\n      <th></th>\n      <th>started</th>\n      <th>description</th>\n      <th>Obj</th>\n    </tr>\n    <tr>\n      <th>Name</th>\n      <th></th>\n      <th></th>\n      <th></th>\n    </tr>\n  </thead>\n  <tbody>\n    <tr>\n      <th>WP1.1</th>\n      <td>2020-06-29</td>\n      <td>Usually some sort of process you&#x27;ll tweak and repeat on multiple samples</td>\n      <td><a href=\"WP1/WP1.1.ipynb\" target=\"_blank\"><h3 style=\"display: inline;\">WP1.1</h3 style=\"display: inline;\"</a></td>\n    </tr>\n    <tr>\n      <th>WP1.2</th>\n      <td>2020-06-29</td>\n      <td>They can contain markdown, although this isn&#x27;t rendered in _tables_</td>\n      <td><a href=\"WP1/WP1.2.ipynb\" target=\"_blank\"><h3 style=\"display: inline;\">WP1.2</h3 style=\"display: inline;\"</a></td>\n    </tr>\n  </tbody>\n</table>",
          "text/plain": "         started                                        description  \\\nName                                                                  \nWP1.1 2020-06-29  Usually some sort of process you'll tweak and ...   \nWP1.2 2020-06-29  They can contain markdown, although this isn't...   \n\n                        Obj  \nName                         \nWP1.1  <Experiment \"WP1.1\">  \nWP1.2  <Experiment \"WP1.2\">  "
         },
         "metadata": {},
         "output_type": "display_data"
        }
       ]
      }
     },
     "ec419df110e1402bb9a2ba845aeab108": {
      "model_module": "@jupyter-widgets/controls",
      "model_module_version": "1.5.0",
      "model_name": "DescriptionStyleModel",
      "state": {
       "description_width": "10%"
      }
     },
     "ecdb14f9a59a4d8182c9d8ad6653dba4": {
      "model_module": "@jupyter-widgets/base",
      "model_module_version": "1.2.0",
      "model_name": "LayoutModel",
      "state": {}
     },
     "ed3492a7e9a7412884e62b8eda0227ba": {
      "model_module": "@jupyter-widgets/controls",
      "model_module_version": "1.5.0",
      "model_name": "DescriptionStyleModel",
      "state": {
       "description_width": "10%"
      }
     },
     "edf76bff8a7c4015be2f5c8ab2835d1e": {
      "model_module": "@jupyter-widgets/base",
      "model_module_version": "1.2.0",
      "model_name": "LayoutModel",
      "state": {}
     },
     "ee3c7640f6d746c88f16bbf19c907a72": {
      "model_module": "@jupyter-widgets/controls",
      "model_module_version": "1.5.0",
      "model_name": "DescriptionStyleModel",
      "state": {
       "description_width": "10%"
      }
     },
     "eee29da07d16423f88ac369e54a10ebc": {
      "model_module": "@jupyter-widgets/base",
      "model_module_version": "1.2.0",
      "model_name": "LayoutModel",
      "state": {
       "width": "auto"
      }
     },
     "ef6abdaf00a645f0b9eba8d7ef1116d8": {
      "model_module": "@jupyter-widgets/output",
      "model_module_version": "1.0.0",
      "model_name": "OutputModel",
      "state": {
       "layout": "IPY_MODEL_2c45343bfa6249be8459778537d948e2",
       "outputs": [
        {
         "data": {
          "text/html": "<table border=\"1\" class=\"dataframe\">\n  <thead>\n    <tr style=\"text-align: right;\">\n      <th></th>\n      <th>started</th>\n      <th>description</th>\n      <th>additional</th>\n      <th>Obj</th>\n    </tr>\n    <tr>\n      <th>Name</th>\n      <th></th>\n      <th></th>\n      <th></th>\n      <th></th>\n    </tr>\n  </thead>\n  <tbody>\n    <tr>\n      <th>WP1.1</th>\n      <td>2020-06-29</td>\n      <td>Fine</td>\n      <td>100.0</td>\n      <td><a href=\"WP1/WP1.1.ipynb\" target=\"_blank\"><h3 style=\"display: inline;\">WP1.1</h3 style=\"display: inline;\"</a></td>\n    </tr>\n    <tr>\n      <th>WP1.2</th>\n      <td>2020-06-29</td>\n      <td></td>\n      <td>NaN</td>\n      <td><a href=\"WP1/WP1.2.ipynb\" target=\"_blank\"><h3 style=\"display: inline;\">WP1.2</h3 style=\"display: inline;\"</a></td>\n    </tr>\n  </tbody>\n</table>",
          "text/plain": "         started description  additional                   Obj\nName                                                          \nWP1.1 2020-06-29        Fine       100.0  <Experiment \"WP1.1\">\nWP1.2 2020-06-29                     NaN  <Experiment \"WP1.2\">"
         },
         "metadata": {},
         "output_type": "display_data"
        }
       ]
      }
     },
     "efb204d831ae42f8ad2f7babc27b8137": {
      "model_module": "@jupyter-widgets/controls",
      "model_module_version": "1.5.0",
      "model_name": "DescriptionStyleModel",
      "state": {
       "description_width": "10%"
      }
     },
     "f042ddfef7084b11a70a15aa98f9e107": {
      "model_module": "@jupyter-widgets/controls",
      "model_module_version": "1.5.0",
      "model_name": "DescriptionStyleModel",
      "state": {
       "description_width": "10%"
      }
     },
     "f0a9740fec8b44f38d876bedb0578c3e": {
      "model_module": "@jupyter-widgets/base",
      "model_module_version": "1.2.0",
      "model_name": "LayoutModel",
      "state": {}
     },
     "f0abb738de0d4060881bef1bfe92f15a": {
      "model_module": "@jupyter-widgets/base",
      "model_module_version": "1.2.0",
      "model_name": "LayoutModel",
      "state": {}
     },
     "f11c2277212444228f7e8e2830015b30": {
      "model_module": "@jupyter-widgets/base",
      "model_module_version": "1.2.0",
      "model_name": "LayoutModel",
      "state": {
       "width": "auto"
      }
     },
     "f13d20614fff428185477fbdf703a45e": {
      "model_module": "@jupyter-widgets/output",
      "model_module_version": "1.0.0",
      "model_name": "OutputModel",
      "state": {
       "layout": "IPY_MODEL_19ea71a45779467aa25d886770f18c8d",
       "outputs": [
        {
         "data": {
          "text/html": "<table border=\"1\" class=\"dataframe\">\n  <thead>\n    <tr style=\"text-align: right;\">\n      <th></th>\n      <th>started</th>\n      <th>description</th>\n      <th>additional</th>\n      <th>Obj</th>\n    </tr>\n    <tr>\n      <th>Name</th>\n      <th></th>\n      <th></th>\n      <th></th>\n      <th></th>\n    </tr>\n  </thead>\n  <tbody>\n    <tr>\n      <th>WP1.1</th>\n      <td>2020-06-29</td>\n      <td>Fine</td>\n      <td>100.0</td>\n      <td><a href=\"WP1/WP1.1.ipynb\" target=\"_blank\"><h3 style=\"display: inline;\">WP1.1</h3 style=\"display: inline;\"</a></td>\n    </tr>\n    <tr>\n      <th>WP1.2</th>\n      <td>2020-06-29</td>\n      <td></td>\n      <td>NaN</td>\n      <td><a href=\"WP1/WP1.2.ipynb\" target=\"_blank\"><h3 style=\"display: inline;\">WP1.2</h3 style=\"display: inline;\"</a></td>\n    </tr>\n  </tbody>\n</table>",
          "text/plain": "         started description  additional                   Obj\nName                                                          \nWP1.1 2020-06-29        Fine       100.0  <Experiment \"WP1.1\">\nWP1.2 2020-06-29                     NaN  <Experiment \"WP1.2\">"
         },
         "metadata": {},
         "output_type": "display_data"
        }
       ]
      }
     },
     "f1c047381b4f47e0a0b91631e0bbe38a": {
      "model_module": "@jupyter-widgets/base",
      "model_module_version": "1.2.0",
      "model_name": "LayoutModel",
      "state": {}
     },
     "f30364669aab4c4c812f627794a201b2": {
      "model_module": "@jupyter-widgets/base",
      "model_module_version": "1.2.0",
      "model_name": "LayoutModel",
      "state": {}
     },
     "f3581ae787ee4dc8bb73b792c61de4a2": {
      "model_module": "@jupyter-widgets/base",
      "model_module_version": "1.2.0",
      "model_name": "LayoutModel",
      "state": {}
     },
     "f3fdb5c822d1408b82fd874bedfcd434": {
      "model_module": "@jupyter-widgets/controls",
      "model_module_version": "1.5.0",
      "model_name": "ButtonStyleModel",
      "state": {}
     },
     "f4d1a1e28887442a81c7af80f07cb84c": {
      "model_module": "@jupyter-widgets/controls",
      "model_module_version": "1.5.0",
      "model_name": "DescriptionStyleModel",
      "state": {
       "description_width": "10%"
      }
     },
     "f6203ea242934917990b840fa942e441": {
      "model_module": "@jupyter-widgets/controls",
      "model_module_version": "1.5.0",
      "model_name": "HBoxModel",
      "state": {
       "children": [
        "IPY_MODEL_8d99f595fa8f446db9774c33dc25d442",
        "IPY_MODEL_11836536575648e8af3b639f61ac2b92"
       ],
       "layout": "IPY_MODEL_016ccb3d9b954ce9b6615cc6b74c59fb"
      }
     },
     "f7f53575a6fd4706880d53647b31db40": {
      "model_module": "@jupyter-widgets/base",
      "model_module_version": "1.2.0",
      "model_name": "LayoutModel",
      "state": {
       "width": "auto"
      }
     },
     "f96e6c22d4c344cb94d8272d2d89e045": {
      "model_module": "@jupyter-widgets/output",
      "model_module_version": "1.0.0",
      "model_name": "OutputModel",
      "state": {
       "layout": "IPY_MODEL_5aaef983cbf44e199ada21d5dc6daa65",
       "outputs": [
        {
         "data": {
          "text/markdown": "This description is set when making a new tier, but you can change it later!",
          "text/plain": "<IPython.core.display.Markdown object>"
         },
         "metadata": {},
         "output_type": "display_data"
        }
       ]
      }
     },
     "f9874e0048b84ccd8868dc40af6f08d0": {
      "model_module": "@jupyter-widgets/controls",
      "model_module_version": "1.5.0",
      "model_name": "VBoxModel",
      "state": {
       "children": [
        "IPY_MODEL_99f4ba57e009465b8151c9244ff68019",
        "IPY_MODEL_5996924256ad4529b373b6f49b69ac43",
        "IPY_MODEL_f96e6c22d4c344cb94d8272d2d89e045",
        "IPY_MODEL_c9f1e7eb257948019f49de42a6aa90a6",
        "IPY_MODEL_ef6abdaf00a645f0b9eba8d7ef1116d8",
        "IPY_MODEL_7f08ef520a5c481ea806ad67f8f1e85d",
        "IPY_MODEL_373b1cf3dd5046f7be23d7e546c66945"
       ],
       "layout": "IPY_MODEL_4ebc595de3af453d85fa42a85f6251ab"
      }
     },
     "f991ab2c529540679df4f208c0235e72": {
      "model_module": "@jupyter-widgets/controls",
      "model_module_version": "1.5.0",
      "model_name": "TextModel",
      "state": {
       "description": "Identifier",
       "layout": "IPY_MODEL_d866ea2a4c1442eb97d4b2641ec60b70",
       "placeholder": "(\\d+)",
       "style": "IPY_MODEL_ec419df110e1402bb9a2ba845aeab108"
      }
     },
     "fa32a04c8ef84fad86def379614e3f4d": {
      "model_module": "@jupyter-widgets/base",
      "model_module_version": "1.2.0",
      "model_name": "LayoutModel",
      "state": {
       "width": "auto"
      }
     },
     "faf9215d081847c29079e22ea4d36071": {
      "model_module": "@jupyter-widgets/base",
      "model_module_version": "1.2.0",
      "model_name": "LayoutModel",
      "state": {}
     },
     "fb590abfed284f04a3d989bc456c01d7": {
      "model_module": "@jupyter-widgets/base",
      "model_module_version": "1.2.0",
      "model_name": "LayoutModel",
      "state": {}
     },
     "fbc6caf4264443d39cdbc42ade279af0": {
      "model_module": "@jupyter-widgets/base",
      "model_module_version": "1.2.0",
      "model_name": "LayoutModel",
      "state": {
       "width": "auto"
      }
     },
     "fd4ebf28b78043c690568ce6174830bb": {
      "model_module": "@jupyter-widgets/controls",
      "model_module_version": "1.5.0",
      "model_name": "TextareaModel",
      "state": {
       "description": "Motivation",
       "layout": "IPY_MODEL_f7f53575a6fd4706880d53647b31db40",
       "style": "IPY_MODEL_d5fcb475fbd74fd58b5636e402fbe5bc"
      }
     },
     "fd6cf7fe26414b23920fe3941459512a": {
      "model_module": "@jupyter-widgets/base",
      "model_module_version": "1.2.0",
      "model_name": "LayoutModel",
      "state": {}
     },
     "fd6ee6a1cde44b2889ed5f9fb4bfeb09": {
      "model_module": "@jupyter-widgets/base",
      "model_module_version": "1.2.0",
      "model_name": "LayoutModel",
      "state": {}
     },
     "fd7a75c39e3a4e0b933477bf77fe9bb7": {
      "model_module": "@jupyter-widgets/base",
      "model_module_version": "1.2.0",
      "model_name": "LayoutModel",
      "state": {}
     },
     "fde41070483c41d1afb4bff1794dee23": {
      "model_module": "@jupyter-widgets/base",
      "model_module_version": "1.2.0",
      "model_name": "LayoutModel",
      "state": {}
     },
     "fe2660626d6b4188995e57bb18a3d637": {
      "model_module": "@jupyter-widgets/controls",
      "model_module_version": "1.5.0",
      "model_name": "ButtonModel",
      "state": {
       "description": "New",
       "layout": "IPY_MODEL_a9f3adac39d246dc9fe6b5d9fa78b62d",
       "style": "IPY_MODEL_9637b1ee77a44f9183e5ec6a0785eeb3"
      }
     },
     "ff5f258249314efda82fe3de457946e6": {
      "model_module": "@jupyter-widgets/base",
      "model_module_version": "1.2.0",
      "model_name": "LayoutModel",
      "state": {
       "width": "auto"
      }
     },
     "ff83f17f6d104c74b56970c987cbe35f": {
      "model_module": "@jupyter-widgets/base",
      "model_module_version": "1.2.0",
      "model_name": "LayoutModel",
      "state": {}
     },
     "ffb3301a741d465a9103ecc188b6a09e": {
      "model_module": "@jupyter-widgets/output",
      "model_module_version": "1.0.0",
      "model_name": "OutputModel",
      "state": {
       "layout": "IPY_MODEL_ff83f17f6d104c74b56970c987cbe35f"
      }
     }
    },
    "version_major": 2,
    "version_minor": 0
   }
  }
 },
 "nbformat": 4,
 "nbformat_minor": 4
}
