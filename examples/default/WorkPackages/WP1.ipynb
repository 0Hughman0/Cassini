{
 "cells": [
  {
   "cell_type": "code",
   "execution_count": 15,
   "metadata": {
    "pycharm": {
     "name": "#%%\n"
    }
   },
   "outputs": [
    {
     "data": {
      "application/vnd.jupyter.widget-view+json": {
       "model_id": "6fd1683770ee4c8382b4b8536ce4588e",
       "version_major": 2,
       "version_minor": 0
      },
      "text/plain": [
       "VBox(children=(VBox(children=(Output(), Button(description='Folder', style=ButtonStyle()))), Output(), Output(…"
      ]
     },
     "metadata": {},
     "output_type": "display_data"
    }
   ],
   "source": [
    "from project import project\n",
    "\n",
    "wp = project.env('WP1')\n",
    "wp.gui.header()"
   ]
  },
  {
   "cell_type": "code",
   "execution_count": 16,
   "metadata": {},
   "outputs": [],
   "source": [
    "wp.meta.key = \"This additional information is also important\""
   ]
  },
  {
   "cell_type": "code",
   "execution_count": null,
   "metadata": {},
   "outputs": [],
   "source": []
  }
 ],
 "metadata": {
  "kernelspec": {
   "display_name": "Python 3",
   "language": "python",
   "name": "python3"
  },
  "language_info": {
   "codemirror_mode": {
    "name": "ipython",
    "version": 3
   },
   "file_extension": ".py",
   "mimetype": "text/x-python",
   "name": "python",
   "nbconvert_exporter": "python",
   "pygments_lexer": "ipython3",
   "version": "3.7.2"
  },
  "pycharm": {
   "stem_cell": {
    "cell_type": "raw",
    "metadata": {
     "collapsed": false
    },
    "source": []
   }
  },
  "widgets": {
   "application/vnd.jupyter.widget-state+json": {
    "state": {
     "01769a7da0db4fe8848db0bc31d64e02": {
      "model_module": "@jupyter-widgets/controls",
      "model_module_version": "1.5.0",
      "model_name": "TextModel",
      "state": {
       "description": "Identifier",
       "disabled": true,
       "layout": "IPY_MODEL_e686bc764c0f4e5fb1c86a12b98ed5f8",
       "placeholder": "(\\d+)",
       "style": "IPY_MODEL_f6259219ce184b58a90772a24a99c771",
       "value": "2"
      }
     },
     "01c76447ca484f3bbc77f51def0ef28c": {
      "model_module": "@jupyter-widgets/controls",
      "model_module_version": "1.5.0",
      "model_name": "VBoxModel",
      "state": {
       "children": [
        "IPY_MODEL_5f025a04f20f41c8b13e267fdd793db8",
        "IPY_MODEL_7de65e55b99943a5a179ef41c2a1c810"
       ],
       "layout": "IPY_MODEL_5d6a6f69f3f845b4b6c21fa6f8f4874a"
      }
     },
     "01d0ea493f8d490793a88135f4f4a888": {
      "model_module": "@jupyter-widgets/base",
      "model_module_version": "1.2.0",
      "model_name": "LayoutModel",
      "state": {}
     },
     "02b32e687dbf419dbf0f91d294a30fa2": {
      "model_module": "@jupyter-widgets/controls",
      "model_module_version": "1.5.0",
      "model_name": "ButtonStyleModel",
      "state": {}
     },
     "02bb80a5e8554d6c9d0149e4ecd81d07": {
      "model_module": "@jupyter-widgets/base",
      "model_module_version": "1.2.0",
      "model_name": "LayoutModel",
      "state": {}
     },
     "04250d7ee3ba491ba94f81f57cbdb172": {
      "model_module": "@jupyter-widgets/base",
      "model_module_version": "1.2.0",
      "model_name": "LayoutModel",
      "state": {}
     },
     "053f8564e97544c18d3e5fb83b2e0217": {
      "model_module": "@jupyter-widgets/output",
      "model_module_version": "1.0.0",
      "model_name": "OutputModel",
      "state": {
       "layout": "IPY_MODEL_1f02901b7f1047e788c0e7afbe919775",
       "outputs": [
        {
         "ename": "ValueError",
         "evalue": "Invalid identifiers - ('1', 'SomethingNice'), resulting name ('WP1.SomethingNice') not in a parsable form ",
         "output_type": "error",
         "traceback": [
          "\u001b[1;31m---------------------------------------------------------------------------\u001b[0m",
          "\u001b[1;31mValueError\u001b[0m                                Traceback (most recent call last)",
          "\u001b[1;32md:\\documents\\programin\\workingversions\\cassini\\dev\\cassini\\ipygui.py\u001b[0m in \u001b[0;36mcreate\u001b[1;34m(name, template, description)\u001b[0m\n\u001b[0;32m    387\u001b[0m         \u001b[1;32mdef\u001b[0m \u001b[0mcreate\u001b[0m\u001b[1;33m(\u001b[0m\u001b[0mname\u001b[0m\u001b[1;33m,\u001b[0m \u001b[0mtemplate\u001b[0m\u001b[1;33m,\u001b[0m \u001b[0mdescription\u001b[0m\u001b[1;33m)\u001b[0m\u001b[1;33m:\u001b[0m\u001b[1;33m\u001b[0m\u001b[1;33m\u001b[0m\u001b[0m\n\u001b[0;32m    388\u001b[0m             \u001b[1;32mwith\u001b[0m \u001b[0mform\u001b[0m\u001b[1;33m.\u001b[0m\u001b[0mstatus\u001b[0m\u001b[1;33m:\u001b[0m\u001b[1;33m\u001b[0m\u001b[1;33m\u001b[0m\u001b[0m\n\u001b[1;32m--> 389\u001b[1;33m                 \u001b[0mobj\u001b[0m \u001b[1;33m=\u001b[0m \u001b[0mchild\u001b[0m\u001b[1;33m(\u001b[0m\u001b[1;33m*\u001b[0m\u001b[0mself\u001b[0m\u001b[1;33m.\u001b[0m\u001b[0mtier\u001b[0m\u001b[1;33m.\u001b[0m\u001b[0midentifiers\u001b[0m\u001b[1;33m,\u001b[0m \u001b[0mname\u001b[0m\u001b[1;33m)\u001b[0m\u001b[1;33m\u001b[0m\u001b[1;33m\u001b[0m\u001b[0m\n\u001b[0m\u001b[0;32m    390\u001b[0m                 \u001b[0mobj\u001b[0m\u001b[1;33m.\u001b[0m\u001b[0msetup_files\u001b[0m\u001b[1;33m(\u001b[0m\u001b[0mmapping\u001b[0m\u001b[1;33m[\u001b[0m\u001b[0mtemplate\u001b[0m\u001b[1;33m]\u001b[0m\u001b[1;33m)\u001b[0m\u001b[1;33m\u001b[0m\u001b[1;33m\u001b[0m\u001b[0m\n\u001b[0;32m    391\u001b[0m                 \u001b[0mobj\u001b[0m\u001b[1;33m.\u001b[0m\u001b[0mdescription\u001b[0m \u001b[1;33m=\u001b[0m \u001b[0mdescription\u001b[0m\u001b[1;33m\u001b[0m\u001b[1;33m\u001b[0m\u001b[0m\n",
          "\u001b[1;32md:\\documents\\programin\\workingversions\\cassini\\dev\\cassini\\core.py\u001b[0m in \u001b[0;36m__init__\u001b[1;34m(self, *args)\u001b[0m\n\u001b[0;32m    276\u001b[0m \u001b[1;33m\u001b[0m\u001b[0m\n\u001b[0;32m    277\u001b[0m         \u001b[1;32mif\u001b[0m \u001b[0mself\u001b[0m\u001b[1;33m.\u001b[0m\u001b[0mparse_name\u001b[0m\u001b[1;33m(\u001b[0m\u001b[0mself\u001b[0m\u001b[1;33m.\u001b[0m\u001b[0mname\u001b[0m\u001b[1;33m)\u001b[0m \u001b[1;33m!=\u001b[0m \u001b[0mself\u001b[0m\u001b[1;33m.\u001b[0m\u001b[0midentifiers\u001b[0m\u001b[1;33m:\u001b[0m\u001b[1;33m\u001b[0m\u001b[1;33m\u001b[0m\u001b[0m\n\u001b[1;32m--> 278\u001b[1;33m             \u001b[1;32mraise\u001b[0m \u001b[0mValueError\u001b[0m\u001b[1;33m(\u001b[0m\u001b[1;34mf\"Invalid identifiers - {self._identifiers}, resulting name ('{self.name}') not in a parsable form \"\u001b[0m\u001b[1;33m)\u001b[0m\u001b[1;33m\u001b[0m\u001b[1;33m\u001b[0m\u001b[0m\n\u001b[0m\u001b[0;32m    279\u001b[0m \u001b[1;33m\u001b[0m\u001b[0m\n\u001b[0;32m    280\u001b[0m         \u001b[1;32mif\u001b[0m \u001b[0mself\u001b[0m\u001b[1;33m.\u001b[0m\u001b[0mmeta_file\u001b[0m\u001b[1;33m:\u001b[0m\u001b[1;33m\u001b[0m\u001b[1;33m\u001b[0m\u001b[0m\n",
          "\u001b[1;31mValueError\u001b[0m: Invalid identifiers - ('1', 'SomethingNice'), resulting name ('WP1.SomethingNice') not in a parsable form "
         ]
        },
        {
         "name": "stdout",
         "output_type": "stream",
         "text": "Creating files for WP1.1\nMeta (D:\\Documents\\Programin\\WorkingVersions\\cassini\\dev\\examples\\default\\WorkPackages\\WP1\\.exps\\WP1.1.json)\nWriting Meta Data\nSuccess\nCreating Tier File (D:\\Documents\\Programin\\WorkingVersions\\cassini\\dev\\examples\\default\\WorkPackages\\WP1\\WP1.1.ipynb) using template (Experiment\\Experiment.tmplt.ipynb)\nSuccess\nCreating Tier Folder (D:\\Documents\\Programin\\WorkingVersions\\cassini\\dev\\examples\\default\\WorkPackages\\WP1\\WP1.1)\nSuccess\nAll Done\n"
        },
        {
         "data": {
          "application/vnd.jupyter.widget-view+json": {
           "model_id": "fa8721871f994d63a68a87b3e1e127de",
           "version_major": 2,
           "version_minor": 0
          },
          "text/plain": "Output()"
         },
         "metadata": {},
         "output_type": "display_data"
        }
       ]
      }
     },
     "055debb30c504d458167538b8c99db42": {
      "model_module": "@jupyter-widgets/controls",
      "model_module_version": "1.5.0",
      "model_name": "DescriptionStyleModel",
      "state": {
       "description_width": "10%"
      }
     },
     "05a741e07e5243de8f84953c01cb900c": {
      "model_module": "@jupyter-widgets/base",
      "model_module_version": "1.2.0",
      "model_name": "LayoutModel",
      "state": {}
     },
     "05aad3dc6ac640849b8ff87dacef9cd2": {
      "model_module": "@jupyter-widgets/controls",
      "model_module_version": "1.5.0",
      "model_name": "DescriptionStyleModel",
      "state": {
       "description_width": "10%"
      }
     },
     "06b85a51fe05408c88887b1b666cfc6a": {
      "model_module": "@jupyter-widgets/base",
      "model_module_version": "1.2.0",
      "model_name": "LayoutModel",
      "state": {}
     },
     "097d4d197f8e47698720230a1027c429": {
      "model_module": "@jupyter-widgets/controls",
      "model_module_version": "1.5.0",
      "model_name": "DescriptionStyleModel",
      "state": {
       "description_width": "10%"
      }
     },
     "09bf6f553a24457383af4efc9232810e": {
      "model_module": "@jupyter-widgets/output",
      "model_module_version": "1.0.0",
      "model_name": "OutputModel",
      "state": {
       "layout": "IPY_MODEL_62982c909bf1463ea4d6fccb96113a7a",
       "outputs": [
        {
         "data": {
          "text/html": "<table border=\"1\" class=\"dataframe\">\n  <thead>\n    <tr style=\"text-align: right;\">\n      <th></th>\n      <th>started</th>\n      <th>description</th>\n      <th>Obj</th>\n    </tr>\n    <tr>\n      <th>Name</th>\n      <th></th>\n      <th></th>\n      <th></th>\n    </tr>\n  </thead>\n  <tbody>\n    <tr>\n      <th>WP1.1</th>\n      <td>2020-06-29</td>\n      <td>Fine</td>\n      <td><a href=\"WP1/WP1.1.ipynb\" target=\"_blank\"><h3 style=\"display: inline;\">WP1.1</h3 style=\"display: inline;\"</a></td>\n    </tr>\n    <tr>\n      <th>WP1.2</th>\n      <td>2020-06-29</td>\n      <td></td>\n      <td><a href=\"WP1/WP1.2.ipynb\" target=\"_blank\"><h3 style=\"display: inline;\">WP1.2</h3 style=\"display: inline;\"</a></td>\n    </tr>\n  </tbody>\n</table>",
          "text/plain": "         started description                   Obj\nName                                              \nWP1.1 2020-06-29        Fine  <Experiment \"WP1.1\">\nWP1.2 2020-06-29              <Experiment \"WP1.2\">"
         },
         "metadata": {},
         "output_type": "display_data"
        }
       ]
      }
     },
     "09c3ca443c1f4dc786211f19c5e58e38": {
      "model_module": "@jupyter-widgets/base",
      "model_module_version": "1.2.0",
      "model_name": "LayoutModel",
      "state": {}
     },
     "0a74fa612451422bb2b0c565e6597e6a": {
      "model_module": "@jupyter-widgets/controls",
      "model_module_version": "1.5.0",
      "model_name": "SelectModel",
      "state": {
       "_options_labels": [
        "Experiment.tmplt.ipynb"
       ],
       "description": "Template",
       "index": 0,
       "layout": "IPY_MODEL_67d29711ff5e4bfaa119e4b4923b0142",
       "style": "IPY_MODEL_05aad3dc6ac640849b8ff87dacef9cd2"
      }
     },
     "0bb352b53f6d4a14ab414d72665e99d9": {
      "model_module": "@jupyter-widgets/controls",
      "model_module_version": "1.5.0",
      "model_name": "ButtonModel",
      "state": {
       "description": "Folder",
       "layout": "IPY_MODEL_0c4d2ec4567c45e198ec6beb107254b1",
       "style": "IPY_MODEL_9c2323e495ed4cbf9dd6413b83ca671f"
      }
     },
     "0bd00b8f95974a4a88d7ac97e076cee2": {
      "model_module": "@jupyter-widgets/base",
      "model_module_version": "1.2.0",
      "model_name": "LayoutModel",
      "state": {}
     },
     "0c12c5506ccd43e88eb147817ce6d9af": {
      "model_module": "@jupyter-widgets/output",
      "model_module_version": "1.0.0",
      "model_name": "OutputModel",
      "state": {
       "layout": "IPY_MODEL_1d1f6952b3f042de9a0b896804e47bbb"
      }
     },
     "0c3a7fbe61634a4086126121eeaba560": {
      "model_module": "@jupyter-widgets/controls",
      "model_module_version": "1.5.0",
      "model_name": "DescriptionStyleModel",
      "state": {
       "description_width": "10%"
      }
     },
     "0c3c075f84e0411fbf4595da6abc4e9e": {
      "model_module": "@jupyter-widgets/output",
      "model_module_version": "1.0.0",
      "model_name": "OutputModel",
      "state": {
       "layout": "IPY_MODEL_149a30a81f97496ea4b8b80eacf8cdfc"
      }
     },
     "0c4d2ec4567c45e198ec6beb107254b1": {
      "model_module": "@jupyter-widgets/base",
      "model_module_version": "1.2.0",
      "model_name": "LayoutModel",
      "state": {}
     },
     "0ca5d9c3271142ef995ba0425d58970e": {
      "model_module": "@jupyter-widgets/base",
      "model_module_version": "1.2.0",
      "model_name": "LayoutModel",
      "state": {}
     },
     "0cb2c01ee8cd4c019c9de6a1251d2463": {
      "model_module": "@jupyter-widgets/controls",
      "model_module_version": "1.5.0",
      "model_name": "VBoxModel",
      "state": {
       "children": [
        "IPY_MODEL_de0fa2039a394e32b3cedd28cd0b3e1f",
        "IPY_MODEL_f8c355b7783f4f7bbbf74bb875920a1c",
        "IPY_MODEL_e04a4c0760ee4d0ea40d269d57b06348",
        "IPY_MODEL_c7f483f139a94390a394bad70ff8fb39",
        "IPY_MODEL_449be1e73484441785acedd072ae0738",
        "IPY_MODEL_230547bd27634c89960e249e85c3f87e",
        "IPY_MODEL_21a2080478b540da8928b419bf8364f6"
       ],
       "layout": "IPY_MODEL_0ee518cc000c44b38ad5f25974992cca"
      }
     },
     "0d71862bb2f143a9849b56024e6db3b0": {
      "model_module": "@jupyter-widgets/output",
      "model_module_version": "1.0.0",
      "model_name": "OutputModel",
      "state": {
       "layout": "IPY_MODEL_476b7189ac3f454ba86b285f2ed16952",
       "outputs": [
        {
         "name": "stdout",
         "output_type": "stream",
         "text": "Creating files for WP1.2\nMeta (D:\\Documents\\Programin\\WorkingVersions\\cassini\\dev\\examples\\default\\WorkPackages\\WP1\\.exps\\WP1.2.json)\nWriting Meta Data\nSuccess\nCreating Tier File (D:\\Documents\\Programin\\WorkingVersions\\cassini\\dev\\examples\\default\\WorkPackages\\WP1\\WP1.2.ipynb) using template (Experiment\\Experiment.tmplt.ipynb)\nSuccess\nCreating Tier Folder (D:\\Documents\\Programin\\WorkingVersions\\cassini\\dev\\examples\\default\\WorkPackages\\WP1\\WP1.2)\nSuccess\nAll Done\n"
        },
        {
         "data": {
          "application/vnd.jupyter.widget-view+json": {
           "model_id": "4e42448daf0b47388de6a9cca8902e3b",
           "version_major": 2,
           "version_minor": 0
          },
          "text/plain": "Output()"
         },
         "metadata": {},
         "output_type": "display_data"
        }
       ]
      }
     },
     "0ee518cc000c44b38ad5f25974992cca": {
      "model_module": "@jupyter-widgets/base",
      "model_module_version": "1.2.0",
      "model_name": "LayoutModel",
      "state": {}
     },
     "0f65e9351bfc4d489b089972e60b383a": {
      "model_module": "@jupyter-widgets/base",
      "model_module_version": "1.2.0",
      "model_name": "LayoutModel",
      "state": {}
     },
     "0fad877cdd6b4d62a1340701d5630d37": {
      "model_module": "@jupyter-widgets/base",
      "model_module_version": "1.2.0",
      "model_name": "LayoutModel",
      "state": {}
     },
     "10e67fb0317d4232956cb9c1a24d7d09": {
      "model_module": "@jupyter-widgets/base",
      "model_module_version": "1.2.0",
      "model_name": "LayoutModel",
      "state": {}
     },
     "110515c4505945a8afb488ddb72c329d": {
      "model_module": "@jupyter-widgets/base",
      "model_module_version": "1.2.0",
      "model_name": "LayoutModel",
      "state": {
       "width": "auto"
      }
     },
     "11e4976d3b4a46d5ba59266f2007ac57": {
      "model_module": "@jupyter-widgets/controls",
      "model_module_version": "1.5.0",
      "model_name": "ButtonStyleModel",
      "state": {}
     },
     "125e9e16840d4a1ba22edfcb2090c8ce": {
      "model_module": "@jupyter-widgets/base",
      "model_module_version": "1.2.0",
      "model_name": "LayoutModel",
      "state": {}
     },
     "12c3eadee99248c1be889dd95ee05235": {
      "model_module": "@jupyter-widgets/base",
      "model_module_version": "1.2.0",
      "model_name": "LayoutModel",
      "state": {
       "width": "auto"
      }
     },
     "137534b9be2c49d2b84058b724054f9b": {
      "model_module": "@jupyter-widgets/controls",
      "model_module_version": "1.5.0",
      "model_name": "TextareaModel",
      "state": {
       "description": "Motivation",
       "layout": "IPY_MODEL_304eb2dc23984f06bb03f6b87b0f1182",
       "style": "IPY_MODEL_9b26fa32118b457ebaef799ddd7b7ede"
      }
     },
     "13b55ce6dbc9448793ad4705d3daa5f7": {
      "model_module": "@jupyter-widgets/controls",
      "model_module_version": "1.5.0",
      "model_name": "ButtonModel",
      "state": {
       "description": "New",
       "layout": "IPY_MODEL_05a741e07e5243de8f84953c01cb900c",
       "style": "IPY_MODEL_440b478a7d144640bb36292b6ad3d17d"
      }
     },
     "149a30a81f97496ea4b8b80eacf8cdfc": {
      "model_module": "@jupyter-widgets/base",
      "model_module_version": "1.2.0",
      "model_name": "LayoutModel",
      "state": {
       "width": "auto"
      }
     },
     "156a0066f11248898dbd807024c2632c": {
      "model_module": "@jupyter-widgets/controls",
      "model_module_version": "1.5.0",
      "model_name": "ButtonModel",
      "state": {
       "description": "Confirm",
       "disabled": true,
       "layout": "IPY_MODEL_0bd00b8f95974a4a88d7ac97e076cee2",
       "style": "IPY_MODEL_1de8851c9e9240739168c00defe93e9f"
      }
     },
     "157609c528884aa48deb8081559795a3": {
      "model_module": "@jupyter-widgets/controls",
      "model_module_version": "1.5.0",
      "model_name": "ButtonModel",
      "state": {
       "description": "New",
       "layout": "IPY_MODEL_7ae79038d0b84e218d92974df225ae93",
       "style": "IPY_MODEL_cce1e61f39b84bf78f690598c3d9efd6"
      }
     },
     "15d2709e93ad4ec28abb02759766b607": {
      "model_module": "@jupyter-widgets/controls",
      "model_module_version": "1.5.0",
      "model_name": "VBoxModel",
      "state": {
       "children": [
        "IPY_MODEL_6d8bc8750d59408596cf3aca43373a1b",
        "IPY_MODEL_adb398e553694f138652607c10988c16",
        "IPY_MODEL_279d451768fc424ea709d92c9e3c3a47",
        "IPY_MODEL_fda832435d6f427dba69fa8521fe63c5",
        "IPY_MODEL_a017c05c6152493b83093a57b7246aa2"
       ],
       "layout": "IPY_MODEL_d8a6a59309b644ea854f8990e593efde"
      }
     },
     "1614309296504ee1b11f3d6d36342275": {
      "model_module": "@jupyter-widgets/controls",
      "model_module_version": "1.5.0",
      "model_name": "ButtonModel",
      "state": {
       "description": "New",
       "layout": "IPY_MODEL_efc36f114a5f447090e52eeda8523486",
       "style": "IPY_MODEL_35d2146630a6454e8de3a3a24b37edb1"
      }
     },
     "18695769898343e1981d432ff79fc73d": {
      "model_module": "@jupyter-widgets/base",
      "model_module_version": "1.2.0",
      "model_name": "LayoutModel",
      "state": {}
     },
     "18994d134ad848018329cdfc8e03aafe": {
      "model_module": "@jupyter-widgets/base",
      "model_module_version": "1.2.0",
      "model_name": "LayoutModel",
      "state": {}
     },
     "191792018b6546dab1834e44f9abef76": {
      "model_module": "@jupyter-widgets/output",
      "model_module_version": "1.0.0",
      "model_name": "OutputModel",
      "state": {
       "layout": "IPY_MODEL_657209c131a6438bac78dc047861e5c4",
       "outputs": [
        {
         "data": {
          "text/html": "<h3>Experiments</h3>",
          "text/plain": "<cassini.ipygui.WHTML at 0x2707865b198>"
         },
         "metadata": {},
         "output_type": "display_data"
        }
       ]
      }
     },
     "192b03ca48ca477bb026a5af2f101a9e": {
      "model_module": "@jupyter-widgets/controls",
      "model_module_version": "1.5.0",
      "model_name": "ButtonStyleModel",
      "state": {}
     },
     "19c409367af24cb69699567a0fd8ba80": {
      "model_module": "@jupyter-widgets/base",
      "model_module_version": "1.2.0",
      "model_name": "LayoutModel",
      "state": {}
     },
     "1ae50f8fe68344a18ee6805b4d2b523b": {
      "model_module": "@jupyter-widgets/controls",
      "model_module_version": "1.5.0",
      "model_name": "TextareaModel",
      "state": {
       "description": "Motivation",
       "layout": "IPY_MODEL_12c3eadee99248c1be889dd95ee05235",
       "style": "IPY_MODEL_0c3a7fbe61634a4086126121eeaba560"
      }
     },
     "1b321036322b42fd976e9dbac38362a6": {
      "model_module": "@jupyter-widgets/base",
      "model_module_version": "1.2.0",
      "model_name": "LayoutModel",
      "state": {}
     },
     "1b7b016d0ff44dd2822362f3875cbff2": {
      "model_module": "@jupyter-widgets/base",
      "model_module_version": "1.2.0",
      "model_name": "LayoutModel",
      "state": {}
     },
     "1c37948fbc8140538c56d34d1be6a796": {
      "model_module": "@jupyter-widgets/base",
      "model_module_version": "1.2.0",
      "model_name": "LayoutModel",
      "state": {}
     },
     "1c6ce6b9273e45ee8aa15e135786648c": {
      "model_module": "@jupyter-widgets/base",
      "model_module_version": "1.2.0",
      "model_name": "LayoutModel",
      "state": {}
     },
     "1d1f6952b3f042de9a0b896804e47bbb": {
      "model_module": "@jupyter-widgets/base",
      "model_module_version": "1.2.0",
      "model_name": "LayoutModel",
      "state": {
       "width": "auto"
      }
     },
     "1db53776e2e04dadab6f8fab636e84bd": {
      "model_module": "@jupyter-widgets/base",
      "model_module_version": "1.2.0",
      "model_name": "LayoutModel",
      "state": {}
     },
     "1dcc2b0112bf4c7aa2ca0097e3300d6f": {
      "model_module": "@jupyter-widgets/controls",
      "model_module_version": "1.5.0",
      "model_name": "TextModel",
      "state": {
       "description": "Identifier",
       "layout": "IPY_MODEL_be7255a396964516887ceddc501bf72f",
       "placeholder": "(\\d+)",
       "style": "IPY_MODEL_a7bab75a862a4b9b996b1522fb41d34c"
      }
     },
     "1de8851c9e9240739168c00defe93e9f": {
      "model_module": "@jupyter-widgets/controls",
      "model_module_version": "1.5.0",
      "model_name": "ButtonStyleModel",
      "state": {}
     },
     "1e5be06217d447c595e7f5490942fabe": {
      "model_module": "@jupyter-widgets/controls",
      "model_module_version": "1.5.0",
      "model_name": "ButtonStyleModel",
      "state": {}
     },
     "1e6fbde25120463085b9c9603b381bf1": {
      "model_module": "@jupyter-widgets/controls",
      "model_module_version": "1.5.0",
      "model_name": "VBoxModel",
      "state": {
       "children": [
        "IPY_MODEL_b1c4514ef88c4a6a80847b0ed5aaef87",
        "IPY_MODEL_c574ddec6ed6458d985dcfe1448237a4"
       ],
       "layout": "IPY_MODEL_3d363e1f61ad455fadf540b40b5cb335"
      }
     },
     "1ecf9c1a6fa241ce9fede103af39a1ad": {
      "model_module": "@jupyter-widgets/base",
      "model_module_version": "1.2.0",
      "model_name": "LayoutModel",
      "state": {}
     },
     "1edfd4efd2cf41c38675d9a2931b64bb": {
      "model_module": "@jupyter-widgets/controls",
      "model_module_version": "1.5.0",
      "model_name": "ButtonStyleModel",
      "state": {}
     },
     "1f02901b7f1047e788c0e7afbe919775": {
      "model_module": "@jupyter-widgets/base",
      "model_module_version": "1.2.0",
      "model_name": "LayoutModel",
      "state": {}
     },
     "20a869731b88415dbf4823cb769bfe53": {
      "model_module": "@jupyter-widgets/controls",
      "model_module_version": "1.5.0",
      "model_name": "ButtonModel",
      "state": {
       "description": "Folder",
       "layout": "IPY_MODEL_6ed99608178e4c7f900aad5024ab6f96",
       "style": "IPY_MODEL_3f85815dd9b743f9ad2b738cbe373e0d"
      }
     },
     "20d785fcb1aa488fbd3e6f3f3b67b308": {
      "model_module": "@jupyter-widgets/controls",
      "model_module_version": "1.5.0",
      "model_name": "DescriptionStyleModel",
      "state": {
       "description_width": "10%"
      }
     },
     "21a2080478b540da8928b419bf8364f6": {
      "model_module": "@jupyter-widgets/controls",
      "model_module_version": "1.5.0",
      "model_name": "VBoxModel",
      "state": {
       "children": [
        "IPY_MODEL_01769a7da0db4fe8848db0bc31d64e02",
        "IPY_MODEL_89953e4dad6d4d279783feb890027e4d",
        "IPY_MODEL_e02d14e6290e44cea5bae0487630e835",
        "IPY_MODEL_9f1237e3fae1488eabae9bfcaead6869",
        "IPY_MODEL_0d71862bb2f143a9849b56024e6db3b0"
       ],
       "layout": "IPY_MODEL_18695769898343e1981d432ff79fc73d"
      }
     },
     "21ed3f282e6f42a189250de5cbd77e77": {
      "model_module": "@jupyter-widgets/base",
      "model_module_version": "1.2.0",
      "model_name": "LayoutModel",
      "state": {
       "width": "auto"
      }
     },
     "230547bd27634c89960e249e85c3f87e": {
      "model_module": "@jupyter-widgets/output",
      "model_module_version": "1.0.0",
      "model_name": "OutputModel",
      "state": {
       "layout": "IPY_MODEL_41fa6b4c0f00487db425fdffec112e5d",
       "outputs": [
        {
         "data": {
          "text/html": "<h3>New Experiment</h3>",
          "text/plain": "<cassini.ipygui.WHTML at 0x270784b9550>"
         },
         "metadata": {},
         "output_type": "display_data"
        }
       ]
      }
     },
     "25791f3afec34b9085aca91a6b005f97": {
      "model_module": "@jupyter-widgets/base",
      "model_module_version": "1.2.0",
      "model_name": "LayoutModel",
      "state": {
       "width": "auto"
      }
     },
     "2599c1926c4d4fcba1189de8b41ec73b": {
      "model_module": "@jupyter-widgets/controls",
      "model_module_version": "1.5.0",
      "model_name": "SelectModel",
      "state": {
       "_options_labels": [
        "Experiment.tmplt.ipynb"
       ],
       "description": "Template",
       "index": 0,
       "layout": "IPY_MODEL_df6bbce67c9647d3ab299db09c2e213d",
       "style": "IPY_MODEL_20d785fcb1aa488fbd3e6f3f3b67b308"
      }
     },
     "26397d1952a24001b302b94f463158c6": {
      "model_module": "@jupyter-widgets/controls",
      "model_module_version": "1.5.0",
      "model_name": "VBoxModel",
      "state": {
       "children": [
        "IPY_MODEL_de3b5bbb25db4f4087ad3154062d9f6c",
        "IPY_MODEL_2599c1926c4d4fcba1189de8b41ec73b",
        "IPY_MODEL_3f65db3298a2437eb51a891f9fe8d0f2",
        "IPY_MODEL_8e2c04db5774421787d7215296b3d9c7",
        "IPY_MODEL_c9dc5b27b81246b790820f4329824b85"
       ],
       "layout": "IPY_MODEL_4dc378708e924c04bd93d1df98d9a03e"
      }
     },
     "266c7b64032a413d9f3d6a20fc249b34": {
      "model_module": "@jupyter-widgets/base",
      "model_module_version": "1.2.0",
      "model_name": "LayoutModel",
      "state": {
       "width": "auto"
      }
     },
     "26a806945e0b46a3b5b09bacd72f0d75": {
      "model_module": "@jupyter-widgets/base",
      "model_module_version": "1.2.0",
      "model_name": "LayoutModel",
      "state": {
       "width": "auto"
      }
     },
     "26d5e2e59e454abfa06e9cfbcd3317c8": {
      "model_module": "@jupyter-widgets/output",
      "model_module_version": "1.0.0",
      "model_name": "OutputModel",
      "state": {
       "layout": "IPY_MODEL_b8838898a940476f8ff92a142ccd2eca",
       "outputs": [
        {
         "data": {
          "text/html": "<table border=\"1\" class=\"dataframe\">\n  <thead>\n    <tr style=\"text-align: right;\">\n      <th></th>\n      <th>started</th>\n      <th>description</th>\n      <th>additional</th>\n      <th>Obj</th>\n    </tr>\n    <tr>\n      <th>Name</th>\n      <th></th>\n      <th></th>\n      <th></th>\n      <th></th>\n    </tr>\n  </thead>\n  <tbody>\n    <tr>\n      <th>WP1.1</th>\n      <td>2020-06-29</td>\n      <td>Fine</td>\n      <td>100.0</td>\n      <td><a href=\"WP1/WP1.1.ipynb\" target=\"_blank\"><h3 style=\"display: inline;\">WP1.1</h3 style=\"display: inline;\"</a></td>\n    </tr>\n    <tr>\n      <th>WP1.2</th>\n      <td>2020-06-29</td>\n      <td></td>\n      <td>NaN</td>\n      <td><a href=\"WP1/WP1.2.ipynb\" target=\"_blank\"><h3 style=\"display: inline;\">WP1.2</h3 style=\"display: inline;\"</a></td>\n    </tr>\n  </tbody>\n</table>",
          "text/plain": "         started description  additional                   Obj\nName                                                          \nWP1.1 2020-06-29        Fine       100.0  <Experiment \"WP1.1\">\nWP1.2 2020-06-29                     NaN  <Experiment \"WP1.2\">"
         },
         "metadata": {},
         "output_type": "display_data"
        }
       ]
      }
     },
     "2722bdbe781a4e289714e4d19894f08a": {
      "model_module": "@jupyter-widgets/controls",
      "model_module_version": "1.5.0",
      "model_name": "ButtonModel",
      "state": {
       "description": "New",
       "layout": "IPY_MODEL_8bcff4a8d70a4c9bad81f9bd4c305128",
       "style": "IPY_MODEL_11e4976d3b4a46d5ba59266f2007ac57"
      }
     },
     "279bc88f710348f3ba0cce1a26285b66": {
      "model_module": "@jupyter-widgets/base",
      "model_module_version": "1.2.0",
      "model_name": "LayoutModel",
      "state": {
       "width": "auto"
      }
     },
     "279d451768fc424ea709d92c9e3c3a47": {
      "model_module": "@jupyter-widgets/controls",
      "model_module_version": "1.5.0",
      "model_name": "TextareaModel",
      "state": {
       "description": "Motivation",
       "layout": "IPY_MODEL_854c470846734b649083e8a7a7478afc",
       "style": "IPY_MODEL_7503c583fa564dc0bfbbe2e64f49d3a7"
      }
     },
     "28a3c8a9531747618fdf9aae97af8486": {
      "model_module": "@jupyter-widgets/output",
      "model_module_version": "1.0.0",
      "model_name": "OutputModel",
      "state": {
       "layout": "IPY_MODEL_0fad877cdd6b4d62a1340701d5630d37"
      }
     },
     "29331e8bd88547f59e9093224cb16e13": {
      "model_module": "@jupyter-widgets/controls",
      "model_module_version": "1.5.0",
      "model_name": "DescriptionStyleModel",
      "state": {
       "description_width": "10%"
      }
     },
     "2a10aab162f2462c900737a893ef8dea": {
      "model_module": "@jupyter-widgets/controls",
      "model_module_version": "1.5.0",
      "model_name": "ButtonModel",
      "state": {
       "description": "Confirm",
       "disabled": true,
       "layout": "IPY_MODEL_87df50e659864883a05149b32205d3f0",
       "style": "IPY_MODEL_3790e85dbe5f4fc2b374a7873012590f"
      }
     },
     "2a3c1cf8db8f4dc5aef08173274e4678": {
      "model_module": "@jupyter-widgets/base",
      "model_module_version": "1.2.0",
      "model_name": "LayoutModel",
      "state": {}
     },
     "2b3184b5353e4be8a9165b8fc88b3840": {
      "model_module": "@jupyter-widgets/base",
      "model_module_version": "1.2.0",
      "model_name": "LayoutModel",
      "state": {}
     },
     "2b5d7eb9e6d9475f9d0c0aedab2b0268": {
      "model_module": "@jupyter-widgets/base",
      "model_module_version": "1.2.0",
      "model_name": "LayoutModel",
      "state": {
       "width": "auto"
      }
     },
     "2bc00b13e78344449f69acca45108bca": {
      "model_module": "@jupyter-widgets/base",
      "model_module_version": "1.2.0",
      "model_name": "LayoutModel",
      "state": {}
     },
     "2bedcc75ecb94cc29f6d4914e617d690": {
      "model_module": "@jupyter-widgets/base",
      "model_module_version": "1.2.0",
      "model_name": "LayoutModel",
      "state": {}
     },
     "2c602a8033a147988fce5af333d32097": {
      "model_module": "@jupyter-widgets/base",
      "model_module_version": "1.2.0",
      "model_name": "LayoutModel",
      "state": {}
     },
     "2cbf9f68aa604aeface406540b8dd89f": {
      "model_module": "@jupyter-widgets/base",
      "model_module_version": "1.2.0",
      "model_name": "LayoutModel",
      "state": {
       "width": "auto"
      }
     },
     "2d81a6bef42e490c86c6b218d176ec98": {
      "model_module": "@jupyter-widgets/base",
      "model_module_version": "1.2.0",
      "model_name": "LayoutModel",
      "state": {}
     },
     "2dad5a87d058486689f99166c3e70d89": {
      "model_module": "@jupyter-widgets/base",
      "model_module_version": "1.2.0",
      "model_name": "LayoutModel",
      "state": {}
     },
     "2daff4edb10c407892ba18b4bc0eb8c2": {
      "model_module": "@jupyter-widgets/output",
      "model_module_version": "1.0.0",
      "model_name": "OutputModel",
      "state": {
       "layout": "IPY_MODEL_09c3ca443c1f4dc786211f19c5e58e38",
       "outputs": [
        {
         "data": {
          "text/html": "<h3>New Experiment</h3>",
          "text/plain": "<cassini.ipygui.WHTML at 0x27078572cf8>"
         },
         "metadata": {},
         "output_type": "display_data"
        }
       ]
      }
     },
     "2e6c556664b74f718c690848e4abf8d2": {
      "model_module": "@jupyter-widgets/base",
      "model_module_version": "1.2.0",
      "model_name": "LayoutModel",
      "state": {}
     },
     "2e723cb5616b4e6da95541e6f4b94323": {
      "model_module": "@jupyter-widgets/base",
      "model_module_version": "1.2.0",
      "model_name": "LayoutModel",
      "state": {}
     },
     "2ebfc108b5c7460a831ffba6b94dca23": {
      "model_module": "@jupyter-widgets/output",
      "model_module_version": "1.0.0",
      "model_name": "OutputModel",
      "state": {
       "layout": "IPY_MODEL_53b235ce11c147aba39cc26dbb785333",
       "outputs": [
        {
         "data": {
          "text/html": "<h1 style=\"display: inline;\"><a href=\"WP1.ipynb\">WP1</a></h1><h3 style=\"display: inline;\">(<a href=\"../Home.ipynb\" target=\"_blank\">Home</a>)</h3>",
          "text/plain": "<cassini.ipygui.WHTML at 0x270784b1048>"
         },
         "metadata": {},
         "output_type": "display_data"
        }
       ]
      }
     },
     "2ef7072f60a64d0b89ea7bf46f8f73fd": {
      "model_module": "@jupyter-widgets/base",
      "model_module_version": "1.2.0",
      "model_name": "LayoutModel",
      "state": {}
     },
     "2f3229650ea8481482638846a9ab15f9": {
      "model_module": "@jupyter-widgets/base",
      "model_module_version": "1.2.0",
      "model_name": "LayoutModel",
      "state": {
       "width": "auto"
      }
     },
     "304eb2dc23984f06bb03f6b87b0f1182": {
      "model_module": "@jupyter-widgets/base",
      "model_module_version": "1.2.0",
      "model_name": "LayoutModel",
      "state": {
       "width": "auto"
      }
     },
     "305730bac2e04b8ea7e13c2bdf8ec138": {
      "model_module": "@jupyter-widgets/controls",
      "model_module_version": "1.5.0",
      "model_name": "TextareaModel",
      "state": {
       "description": "Motivation",
       "layout": "IPY_MODEL_cc1ffe0e54a848ef9779056b37530137",
       "style": "IPY_MODEL_6622694420b44c17bb4527192c0cadec"
      }
     },
     "3201d8065b1b4af98c8d98f5670f4296": {
      "model_module": "@jupyter-widgets/controls",
      "model_module_version": "1.5.0",
      "model_name": "HBoxModel",
      "state": {
       "children": [
        "IPY_MODEL_2a10aab162f2462c900737a893ef8dea",
        "IPY_MODEL_c15c783c7404421591a1909751d151db"
       ],
       "layout": "IPY_MODEL_b77181d582774a058e4eaad2024b8175"
      }
     },
     "3225bd7d3a1340658ba5df6f7a00a362": {
      "model_module": "@jupyter-widgets/controls",
      "model_module_version": "1.5.0",
      "model_name": "ButtonStyleModel",
      "state": {}
     },
     "3252b4e3a3cd47e3b366feab7536fe86": {
      "model_module": "@jupyter-widgets/base",
      "model_module_version": "1.2.0",
      "model_name": "LayoutModel",
      "state": {}
     },
     "32650f3645ee43f8b3f937295ec4e61a": {
      "model_module": "@jupyter-widgets/output",
      "model_module_version": "1.0.0",
      "model_name": "OutputModel",
      "state": {
       "layout": "IPY_MODEL_9de326502e294fba8c75495334e9295c"
      }
     },
     "3310ba7acba845e7967625ddc5e8ba59": {
      "model_module": "@jupyter-widgets/controls",
      "model_module_version": "1.5.0",
      "model_name": "VBoxModel",
      "state": {
       "children": [
        "IPY_MODEL_9dc90e57e13e47d7aa8e03414be4ce0d",
        "IPY_MODEL_dca8aa244cc7486fbbf8d92d5ad4b5c7",
        "IPY_MODEL_1ae50f8fe68344a18ee6805b4d2b523b",
        "IPY_MODEL_3201d8065b1b4af98c8d98f5670f4296",
        "IPY_MODEL_402a07aa386844afb54304812561a0a2"
       ],
       "layout": "IPY_MODEL_4d576e8b590d49c0881d2108a1307eb8"
      }
     },
     "35d2146630a6454e8de3a3a24b37edb1": {
      "model_module": "@jupyter-widgets/controls",
      "model_module_version": "1.5.0",
      "model_name": "ButtonStyleModel",
      "state": {}
     },
     "3701d8c6f4fc48ef9a18ecc3b1c1c0c3": {
      "model_module": "@jupyter-widgets/controls",
      "model_module_version": "1.5.0",
      "model_name": "ButtonStyleModel",
      "state": {}
     },
     "37224b248eac43e99190443d250ec8bc": {
      "model_module": "@jupyter-widgets/base",
      "model_module_version": "1.2.0",
      "model_name": "LayoutModel",
      "state": {
       "width": "auto"
      }
     },
     "3790e85dbe5f4fc2b374a7873012590f": {
      "model_module": "@jupyter-widgets/controls",
      "model_module_version": "1.5.0",
      "model_name": "ButtonStyleModel",
      "state": {}
     },
     "38121ab88dd345deb8d2b45b02d1215c": {
      "model_module": "@jupyter-widgets/base",
      "model_module_version": "1.2.0",
      "model_name": "LayoutModel",
      "state": {}
     },
     "389b6a27e4b343eca548baf1f92671ae": {
      "model_module": "@jupyter-widgets/base",
      "model_module_version": "1.2.0",
      "model_name": "LayoutModel",
      "state": {}
     },
     "38c3f8519df04a3f9a7a024e1b170c24": {
      "model_module": "@jupyter-widgets/controls",
      "model_module_version": "1.5.0",
      "model_name": "ButtonStyleModel",
      "state": {}
     },
     "3916bf4f4cc641bbb9863bc489e9ef5d": {
      "model_module": "@jupyter-widgets/base",
      "model_module_version": "1.2.0",
      "model_name": "LayoutModel",
      "state": {}
     },
     "39f1766aeefa437a82e8a6092cb73911": {
      "model_module": "@jupyter-widgets/output",
      "model_module_version": "1.0.0",
      "model_name": "OutputModel",
      "state": {
       "layout": "IPY_MODEL_0f65e9351bfc4d489b089972e60b383a",
       "outputs": [
        {
         "data": {
          "text/html": "<h1 style=\"display: inline;\"><a href=\"WP1.ipynb\">WP1</a></h1><h3 style=\"display: inline;\">(<a href=\"../Home.ipynb\" target=\"_blank\">Home</a>)</h3>",
          "text/plain": "<cassini.ipygui.WHTML at 0x270784d0470>"
         },
         "metadata": {},
         "output_type": "display_data"
        }
       ]
      }
     },
     "3a1b6c75b57a4433a9e51395b5d74b80": {
      "model_module": "@jupyter-widgets/output",
      "model_module_version": "1.0.0",
      "model_name": "OutputModel",
      "state": {
       "layout": "IPY_MODEL_c43c5c4d1b294cc98038db2699909651"
      }
     },
     "3baad1b6f65f466889612d91029b5d47": {
      "model_module": "@jupyter-widgets/controls",
      "model_module_version": "1.5.0",
      "model_name": "ButtonModel",
      "state": {
       "description": "Confirm",
       "disabled": true,
       "layout": "IPY_MODEL_0ca5d9c3271142ef995ba0425d58970e",
       "style": "IPY_MODEL_695a62d2d0af4e2d84a3ba2521088436"
      }
     },
     "3c5fc2834f12465b92ffd1b7850cf593": {
      "model_module": "@jupyter-widgets/output",
      "model_module_version": "1.0.0",
      "model_name": "OutputModel",
      "state": {
       "layout": "IPY_MODEL_2d81a6bef42e490c86c6b218d176ec98",
       "outputs": [
        {
         "data": {
          "text/html": "<table border=\"1\" class=\"dataframe\">\n  <thead>\n    <tr style=\"text-align: right;\">\n      <th></th>\n      <th>started</th>\n      <th>description</th>\n      <th>Obj</th>\n    </tr>\n    <tr>\n      <th>Name</th>\n      <th></th>\n      <th></th>\n      <th></th>\n    </tr>\n  </thead>\n  <tbody>\n    <tr>\n      <th>WP1.1</th>\n      <td>2020-06-29</td>\n      <td>Fine</td>\n      <td><a href=\"WP1/WP1.1.ipynb\" target=\"_blank\"><h3 style=\"display: inline;\">WP1.1</h3 style=\"display: inline;\"</a></td>\n    </tr>\n  </tbody>\n</table>",
          "text/plain": "         started description                   Obj\nName                                              \nWP1.1 2020-06-29        Fine  <Experiment \"WP1.1\">"
         },
         "metadata": {},
         "output_type": "display_data"
        }
       ]
      }
     },
     "3d26c14552ab448688f6682e33645f9e": {
      "model_module": "@jupyter-widgets/base",
      "model_module_version": "1.2.0",
      "model_name": "LayoutModel",
      "state": {}
     },
     "3d363e1f61ad455fadf540b40b5cb335": {
      "model_module": "@jupyter-widgets/base",
      "model_module_version": "1.2.0",
      "model_name": "LayoutModel",
      "state": {}
     },
     "3e41264b1939437d9717f6966339347b": {
      "model_module": "@jupyter-widgets/base",
      "model_module_version": "1.2.0",
      "model_name": "LayoutModel",
      "state": {}
     },
     "3f0827e7ea2342a6818541a7903b5994": {
      "model_module": "@jupyter-widgets/output",
      "model_module_version": "1.0.0",
      "model_name": "OutputModel",
      "state": {
       "layout": "IPY_MODEL_e3aad8af9d814c0e8558287c46c377a8",
       "outputs": [
        {
         "data": {
          "text/html": "<table border=\"1\" class=\"dataframe\">\n  <thead>\n    <tr style=\"text-align: right;\">\n      <th></th>\n      <th>started</th>\n      <th>description</th>\n      <th>additional</th>\n      <th>Obj</th>\n    </tr>\n    <tr>\n      <th>Name</th>\n      <th></th>\n      <th></th>\n      <th></th>\n      <th></th>\n    </tr>\n  </thead>\n  <tbody>\n    <tr>\n      <th>WP1.1</th>\n      <td>2020-06-29</td>\n      <td>Fine</td>\n      <td>100.0</td>\n      <td><a href=\"WP1/WP1.1.ipynb\" target=\"_blank\"><h3 style=\"display: inline;\">WP1.1</h3 style=\"display: inline;\"</a></td>\n    </tr>\n    <tr>\n      <th>WP1.2</th>\n      <td>2020-06-29</td>\n      <td></td>\n      <td>NaN</td>\n      <td><a href=\"WP1/WP1.2.ipynb\" target=\"_blank\"><h3 style=\"display: inline;\">WP1.2</h3 style=\"display: inline;\"</a></td>\n    </tr>\n  </tbody>\n</table>",
          "text/plain": "         started description  additional                   Obj\nName                                                          \nWP1.1 2020-06-29        Fine       100.0  <Experiment \"WP1.1\">\nWP1.2 2020-06-29                     NaN  <Experiment \"WP1.2\">"
         },
         "metadata": {},
         "output_type": "display_data"
        }
       ]
      }
     },
     "3f37baeabe274684bf5273d5588857e9": {
      "model_module": "@jupyter-widgets/output",
      "model_module_version": "1.0.0",
      "model_name": "OutputModel",
      "state": {
       "layout": "IPY_MODEL_63164375f1cb4a1f91b6ba271fecd081"
      }
     },
     "3f65db3298a2437eb51a891f9fe8d0f2": {
      "model_module": "@jupyter-widgets/controls",
      "model_module_version": "1.5.0",
      "model_name": "TextareaModel",
      "state": {
       "description": "Motivation",
       "layout": "IPY_MODEL_21ed3f282e6f42a189250de5cbd77e77",
       "style": "IPY_MODEL_b9e75f089def494aa114f5c06dd89cb1"
      }
     },
     "3f85815dd9b743f9ad2b738cbe373e0d": {
      "model_module": "@jupyter-widgets/controls",
      "model_module_version": "1.5.0",
      "model_name": "ButtonStyleModel",
      "state": {}
     },
     "402a07aa386844afb54304812561a0a2": {
      "model_module": "@jupyter-widgets/output",
      "model_module_version": "1.0.0",
      "model_name": "OutputModel",
      "state": {
       "layout": "IPY_MODEL_3252b4e3a3cd47e3b366feab7536fe86"
      }
     },
     "41411e488a184c2c93c6ba07d0ac86a1": {
      "model_module": "@jupyter-widgets/output",
      "model_module_version": "1.0.0",
      "model_name": "OutputModel",
      "state": {
       "layout": "IPY_MODEL_41541c1454c34bc3bd38eb090bca81b1",
       "outputs": [
        {
         "data": {
          "text/html": "<h3>Motivation</h3>",
          "text/plain": "<cassini.ipygui.WHTML at 0x2707865b4a8>"
         },
         "metadata": {},
         "output_type": "display_data"
        }
       ]
      }
     },
     "41541c1454c34bc3bd38eb090bca81b1": {
      "model_module": "@jupyter-widgets/base",
      "model_module_version": "1.2.0",
      "model_name": "LayoutModel",
      "state": {}
     },
     "4162877875ea421ca7334843533d5ada": {
      "model_module": "@jupyter-widgets/controls",
      "model_module_version": "1.5.0",
      "model_name": "ButtonModel",
      "state": {
       "description": "Confirm",
       "disabled": true,
       "layout": "IPY_MODEL_2e723cb5616b4e6da95541e6f4b94323",
       "style": "IPY_MODEL_3701d8c6f4fc48ef9a18ecc3b1c1c0c3"
      }
     },
     "41f3a4472d8b4b6ca2942c2dd19296a8": {
      "model_module": "@jupyter-widgets/base",
      "model_module_version": "1.2.0",
      "model_name": "LayoutModel",
      "state": {
       "width": "auto"
      }
     },
     "41fa6b4c0f00487db425fdffec112e5d": {
      "model_module": "@jupyter-widgets/base",
      "model_module_version": "1.2.0",
      "model_name": "LayoutModel",
      "state": {}
     },
     "42258c64a49b4eb58d645ae2892fcc0d": {
      "model_module": "@jupyter-widgets/base",
      "model_module_version": "1.2.0",
      "model_name": "LayoutModel",
      "state": {}
     },
     "42279005ea74468ab18489d151a8302f": {
      "model_module": "@jupyter-widgets/controls",
      "model_module_version": "1.5.0",
      "model_name": "VBoxModel",
      "state": {
       "children": [
        "IPY_MODEL_f5d821ee25b941b0bb18ddcb28404ef5",
        "IPY_MODEL_45c1021957e2457ca4b6c556e78faeb2",
        "IPY_MODEL_fa027c4ebebc4688aa4bba8111f7c14d",
        "IPY_MODEL_d6508523d7684f24b73e01c341c559bf",
        "IPY_MODEL_d61e1dbaad074f93aefdcb99552ef960"
       ],
       "layout": "IPY_MODEL_704431b904a54ce09e7f6de20bedf9cc"
      }
     },
     "425e59b520364bfbb7d547d12deddd5e": {
      "model_module": "@jupyter-widgets/output",
      "model_module_version": "1.0.0",
      "model_name": "OutputModel",
      "state": {
       "layout": "IPY_MODEL_839e74dd484e4764aef4f9fbf64264b5",
       "outputs": [
        {
         "data": {
          "text/markdown": "Gobble Gobble",
          "text/plain": "<IPython.core.display.Markdown object>"
         },
         "metadata": {},
         "output_type": "display_data"
        }
       ]
      }
     },
     "433e55cc2ab348a8a41e8b1bcb97b21d": {
      "model_module": "@jupyter-widgets/base",
      "model_module_version": "1.2.0",
      "model_name": "LayoutModel",
      "state": {}
     },
     "440b478a7d144640bb36292b6ad3d17d": {
      "model_module": "@jupyter-widgets/controls",
      "model_module_version": "1.5.0",
      "model_name": "ButtonStyleModel",
      "state": {}
     },
     "449be1e73484441785acedd072ae0738": {
      "model_module": "@jupyter-widgets/output",
      "model_module_version": "1.0.0",
      "model_name": "OutputModel",
      "state": {
       "layout": "IPY_MODEL_4b88226447c048babdd39ec882d4b3a4",
       "outputs": [
        {
         "data": {
          "text/html": "<table border=\"1\" class=\"dataframe\">\n  <thead>\n    <tr style=\"text-align: right;\">\n      <th></th>\n      <th>started</th>\n      <th>description</th>\n      <th>Obj</th>\n    </tr>\n    <tr>\n      <th>Name</th>\n      <th></th>\n      <th></th>\n      <th></th>\n    </tr>\n  </thead>\n  <tbody>\n    <tr>\n      <th>WP1.1</th>\n      <td>2020-06-29</td>\n      <td>Fine</td>\n      <td><a href=\"WP1/WP1.1.ipynb\" target=\"_blank\"><h3 style=\"display: inline;\">WP1.1</h3 style=\"display: inline;\"</a></td>\n    </tr>\n  </tbody>\n</table>",
          "text/plain": "         started description                   Obj\nName                                              \nWP1.1 2020-06-29        Fine  <Experiment \"WP1.1\">"
         },
         "metadata": {},
         "output_type": "display_data"
        }
       ]
      }
     },
     "45c1021957e2457ca4b6c556e78faeb2": {
      "model_module": "@jupyter-widgets/controls",
      "model_module_version": "1.5.0",
      "model_name": "SelectModel",
      "state": {
       "_options_labels": [
        "Experiment.tmplt.ipynb"
       ],
       "description": "Template",
       "index": 0,
       "layout": "IPY_MODEL_37224b248eac43e99190443d250ec8bc",
       "style": "IPY_MODEL_ea48f7d91c0445fcb4d1fed477a8641a"
      }
     },
     "476b7189ac3f454ba86b285f2ed16952": {
      "model_module": "@jupyter-widgets/base",
      "model_module_version": "1.2.0",
      "model_name": "LayoutModel",
      "state": {}
     },
     "49fbcb31376d4872a76fde6e6218f119": {
      "model_module": "@jupyter-widgets/base",
      "model_module_version": "1.2.0",
      "model_name": "LayoutModel",
      "state": {}
     },
     "4b855cf9d2124caf98a2f426bed6106a": {
      "model_module": "@jupyter-widgets/base",
      "model_module_version": "1.2.0",
      "model_name": "LayoutModel",
      "state": {
       "width": "auto"
      }
     },
     "4b87f4fec22b440093c9b48dbe32f83c": {
      "model_module": "@jupyter-widgets/output",
      "model_module_version": "1.0.0",
      "model_name": "OutputModel",
      "state": {
       "layout": "IPY_MODEL_e4494dd3076443db801ef50dfd60df50",
       "outputs": [
        {
         "data": {
          "text/html": "<h3>Experiments</h3>",
          "text/plain": "<cassini.ipygui.WHTML at 0x2707011ba20>"
         },
         "metadata": {},
         "output_type": "display_data"
        }
       ]
      }
     },
     "4b88226447c048babdd39ec882d4b3a4": {
      "model_module": "@jupyter-widgets/base",
      "model_module_version": "1.2.0",
      "model_name": "LayoutModel",
      "state": {}
     },
     "4c4e3c39797c4ca8aa677fa9af9d1ef7": {
      "model_module": "@jupyter-widgets/controls",
      "model_module_version": "1.5.0",
      "model_name": "ButtonStyleModel",
      "state": {}
     },
     "4cb489e2d16c4cf6bdda586c0f43c122": {
      "model_module": "@jupyter-widgets/base",
      "model_module_version": "1.2.0",
      "model_name": "LayoutModel",
      "state": {}
     },
     "4d576e8b590d49c0881d2108a1307eb8": {
      "model_module": "@jupyter-widgets/base",
      "model_module_version": "1.2.0",
      "model_name": "LayoutModel",
      "state": {}
     },
     "4dc378708e924c04bd93d1df98d9a03e": {
      "model_module": "@jupyter-widgets/base",
      "model_module_version": "1.2.0",
      "model_name": "LayoutModel",
      "state": {}
     },
     "4e03a54d28af4187a83c57783276406b": {
      "model_module": "@jupyter-widgets/controls",
      "model_module_version": "1.5.0",
      "model_name": "DescriptionStyleModel",
      "state": {
       "description_width": "10%"
      }
     },
     "4e42448daf0b47388de6a9cca8902e3b": {
      "model_module": "@jupyter-widgets/output",
      "model_module_version": "1.0.0",
      "model_name": "OutputModel",
      "state": {
       "layout": "IPY_MODEL_aa372efc572c436ea27b71f02fc7bd5a",
       "outputs": [
        {
         "data": {
          "text/html": "<a href=\"WP1/WP1.2.ipynb\" target=\"_blank\"><h3 style=\"display: inline;\">WP1.2</h3 style=\"display: inline;\"</a>",
          "text/plain": "<cassini.ipygui.WHTML at 0x2707849f7b8>"
         },
         "metadata": {},
         "output_type": "display_data"
        }
       ]
      }
     },
     "4eadc0969f9b4ebdacf6debea53555c0": {
      "model_module": "@jupyter-widgets/controls",
      "model_module_version": "1.5.0",
      "model_name": "VBoxModel",
      "state": {
       "children": [
        "IPY_MODEL_ba6a2dda39b94caba0661c72396f2919",
        "IPY_MODEL_dcc1711927f54b049b9a9ff781db6dc3"
       ],
       "layout": "IPY_MODEL_389b6a27e4b343eca548baf1f92671ae"
      }
     },
     "50105accfdea409882e4bde7a562b1a8": {
      "model_module": "@jupyter-widgets/output",
      "model_module_version": "1.0.0",
      "model_name": "OutputModel",
      "state": {
       "layout": "IPY_MODEL_bd7f87058cf5471799fa283b5ef1130c",
       "outputs": [
        {
         "data": {
          "text/html": "<h3>Experiments</h3>",
          "text/plain": "<cassini.ipygui.WHTML at 0x2707011bc18>"
         },
         "metadata": {},
         "output_type": "display_data"
        }
       ]
      }
     },
     "508f06f258d54014ba7430b3e4238cb8": {
      "model_module": "@jupyter-widgets/output",
      "model_module_version": "1.0.0",
      "model_name": "OutputModel",
      "state": {
       "layout": "IPY_MODEL_a2042a86b80c4c78bbdf73dac13db8d8",
       "outputs": [
        {
         "data": {
          "text/markdown": "Gobble Gobble",
          "text/plain": "<IPython.core.display.Markdown object>"
         },
         "metadata": {},
         "output_type": "display_data"
        }
       ]
      }
     },
     "513e1f0951bb4dcb9761fb2426d72aca": {
      "model_module": "@jupyter-widgets/output",
      "model_module_version": "1.0.0",
      "model_name": "OutputModel",
      "state": {
       "layout": "IPY_MODEL_5ccad1df263a45deb4b1e3feb324ef0a",
       "outputs": [
        {
         "data": {
          "text/html": "<h3>Experiments</h3>",
          "text/plain": "<cassini.ipygui.WHTML at 0x2707849f550>"
         },
         "metadata": {},
         "output_type": "display_data"
        }
       ]
      }
     },
     "515fb8392ad64d3ca4a39e0d7eee60ee": {
      "model_module": "@jupyter-widgets/output",
      "model_module_version": "1.0.0",
      "model_name": "OutputModel",
      "state": {
       "layout": "IPY_MODEL_931fcb0b8ce94e7eb33c80bb8ef6b312",
       "outputs": [
        {
         "data": {
          "text/html": "<h1 style=\"display: inline;\"><a href=\"WP1.ipynb\">WP1</a></h1><h3 style=\"display: inline;\">(<a href=\"../Home.ipynb\" target=\"_blank\">Home</a>)</h3>",
          "text/plain": "<cassini.ipygui.WHTML at 0x270787390f0>"
         },
         "metadata": {},
         "output_type": "display_data"
        }
       ]
      }
     },
     "51be1a928bba4441bd6ef25cf16be7bb": {
      "model_module": "@jupyter-widgets/controls",
      "model_module_version": "1.5.0",
      "model_name": "HBoxModel",
      "state": {
       "children": [
        "IPY_MODEL_3baad1b6f65f466889612d91029b5d47",
        "IPY_MODEL_8671e47ea4954598802b91babdb384da"
       ],
       "layout": "IPY_MODEL_3d26c14552ab448688f6682e33645f9e"
      }
     },
     "51db65acc4d44d7daf9e5bb3b2da1c10": {
      "model_module": "@jupyter-widgets/output",
      "model_module_version": "1.0.0",
      "model_name": "OutputModel",
      "state": {
       "layout": "IPY_MODEL_f587ca8025da494b8e876f6ea5012d5a",
       "outputs": [
        {
         "data": {
          "text/markdown": "Gobble Gobble",
          "text/plain": "<IPython.core.display.Markdown object>"
         },
         "metadata": {},
         "output_type": "display_data"
        }
       ]
      }
     },
     "5219a2703ad3431592a1b3ca93043262": {
      "model_module": "@jupyter-widgets/controls",
      "model_module_version": "1.5.0",
      "model_name": "ButtonModel",
      "state": {
       "description": "Confirm",
       "disabled": true,
       "layout": "IPY_MODEL_d8d0ed6bd1a548c7b66d6cf62422f538",
       "style": "IPY_MODEL_192b03ca48ca477bb026a5af2f101a9e"
      }
     },
     "5274a4847fc346afb07d47301db03b67": {
      "model_module": "@jupyter-widgets/base",
      "model_module_version": "1.2.0",
      "model_name": "LayoutModel",
      "state": {}
     },
     "52834d991c114275a1d7def846cc4d9b": {
      "model_module": "@jupyter-widgets/base",
      "model_module_version": "1.2.0",
      "model_name": "LayoutModel",
      "state": {}
     },
     "52e7481d1657478ba60369f2b2c5b97b": {
      "model_module": "@jupyter-widgets/base",
      "model_module_version": "1.2.0",
      "model_name": "LayoutModel",
      "state": {
       "width": "auto"
      }
     },
     "53b235ce11c147aba39cc26dbb785333": {
      "model_module": "@jupyter-widgets/base",
      "model_module_version": "1.2.0",
      "model_name": "LayoutModel",
      "state": {}
     },
     "54f5f9343f644dababd980a5afc4b8eb": {
      "model_module": "@jupyter-widgets/output",
      "model_module_version": "1.0.0",
      "model_name": "OutputModel",
      "state": {
       "layout": "IPY_MODEL_9509a7bed8fb4c3f97f3241fffd3847a",
       "outputs": [
        {
         "data": {
          "text/html": "<h3>New Experiment</h3>",
          "text/plain": "<cassini.ipygui.WHTML at 0x270787399b0>"
         },
         "metadata": {},
         "output_type": "display_data"
        }
       ]
      }
     },
     "55b3901e609343c0b1e51e798047c371": {
      "model_module": "@jupyter-widgets/output",
      "model_module_version": "1.0.0",
      "model_name": "OutputModel",
      "state": {
       "layout": "IPY_MODEL_4b855cf9d2124caf98a2f426bed6106a"
      }
     },
     "5639a4230f6d44cf89536e9b356b2d0b": {
      "model_module": "@jupyter-widgets/base",
      "model_module_version": "1.2.0",
      "model_name": "LayoutModel",
      "state": {}
     },
     "569dc2b37a0e4a7c90aea12c57830cfc": {
      "model_module": "@jupyter-widgets/controls",
      "model_module_version": "1.5.0",
      "model_name": "TextModel",
      "state": {
       "description": "Identifier",
       "layout": "IPY_MODEL_41f3a4472d8b4b6ca2942c2dd19296a8",
       "placeholder": "(\\d+)",
       "style": "IPY_MODEL_bc6f0bc796dd42efa12b07c425411796"
      }
     },
     "585abdf5c2f841da929aecff53a74834": {
      "model_module": "@jupyter-widgets/output",
      "model_module_version": "1.0.0",
      "model_name": "OutputModel",
      "state": {
       "layout": "IPY_MODEL_18994d134ad848018329cdfc8e03aafe",
       "outputs": [
        {
         "data": {
          "text/html": "<table border=\"1\" class=\"dataframe\">\n  <thead>\n    <tr style=\"text-align: right;\">\n      <th></th>\n      <th>started</th>\n      <th>description</th>\n      <th>Obj</th>\n    </tr>\n    <tr>\n      <th>Name</th>\n      <th></th>\n      <th></th>\n      <th></th>\n    </tr>\n  </thead>\n  <tbody>\n    <tr>\n      <th>WP1.1</th>\n      <td>2020-06-29</td>\n      <td>Fine</td>\n      <td><a href=\"WP1/WP1.1.ipynb\" target=\"_blank\"><h3 style=\"display: inline;\">WP1.1</h3 style=\"display: inline;\"</a></td>\n    </tr>\n    <tr>\n      <th>WP1.2</th>\n      <td>2020-06-29</td>\n      <td></td>\n      <td><a href=\"WP1/WP1.2.ipynb\" target=\"_blank\"><h3 style=\"display: inline;\">WP1.2</h3 style=\"display: inline;\"</a></td>\n    </tr>\n  </tbody>\n</table>",
          "text/plain": "         started description                   Obj\nName                                              \nWP1.1 2020-06-29        Fine  <Experiment \"WP1.1\">\nWP1.2 2020-06-29              <Experiment \"WP1.2\">"
         },
         "metadata": {},
         "output_type": "display_data"
        }
       ]
      }
     },
     "5ae64986c4e346f3b8c0b6bb0c59bdd9": {
      "model_module": "@jupyter-widgets/output",
      "model_module_version": "1.0.0",
      "model_name": "OutputModel",
      "state": {
       "layout": "IPY_MODEL_279bc88f710348f3ba0cce1a26285b66"
      }
     },
     "5bfdd5d0b1ab4637ad2569992c471fdc": {
      "model_module": "@jupyter-widgets/base",
      "model_module_version": "1.2.0",
      "model_name": "LayoutModel",
      "state": {}
     },
     "5ccad1df263a45deb4b1e3feb324ef0a": {
      "model_module": "@jupyter-widgets/base",
      "model_module_version": "1.2.0",
      "model_name": "LayoutModel",
      "state": {}
     },
     "5d0f253ac34749cba577ac5f1c39ea8d": {
      "model_module": "@jupyter-widgets/base",
      "model_module_version": "1.2.0",
      "model_name": "LayoutModel",
      "state": {}
     },
     "5d13981a624e45bfbd1811e1382beec7": {
      "model_module": "@jupyter-widgets/output",
      "model_module_version": "1.0.0",
      "model_name": "OutputModel",
      "state": {
       "layout": "IPY_MODEL_819b0b7ec4084f38b4b81ed40d47068c"
      }
     },
     "5d6a6f69f3f845b4b6c21fa6f8f4874a": {
      "model_module": "@jupyter-widgets/base",
      "model_module_version": "1.2.0",
      "model_name": "LayoutModel",
      "state": {}
     },
     "5f025a04f20f41c8b13e267fdd793db8": {
      "model_module": "@jupyter-widgets/output",
      "model_module_version": "1.0.0",
      "model_name": "OutputModel",
      "state": {
       "layout": "IPY_MODEL_ae5f7e0509a740478b206efefd8a7b7b",
       "outputs": [
        {
         "data": {
          "text/html": "<h1 style=\"display: inline;\"><a href=\"WP1.ipynb\">WP1</a></h1><h3 style=\"display: inline;\">(<a href=\"../Home.ipynb\" target=\"_blank\">Home</a>)</h3>",
          "text/plain": "<cassini.ipygui.WHTML at 0x2707842ba58>"
         },
         "metadata": {},
         "output_type": "display_data"
        }
       ]
      }
     },
     "60d14a50fdd7431382957feffbb19d69": {
      "model_module": "@jupyter-widgets/controls",
      "model_module_version": "1.5.0",
      "model_name": "ButtonModel",
      "state": {
       "description": "Folder",
       "layout": "IPY_MODEL_72ea81229f5a4d92ba32c515808cfe1e",
       "style": "IPY_MODEL_1edfd4efd2cf41c38675d9a2931b64bb"
      }
     },
     "62982c909bf1463ea4d6fccb96113a7a": {
      "model_module": "@jupyter-widgets/base",
      "model_module_version": "1.2.0",
      "model_name": "LayoutModel",
      "state": {}
     },
     "63164375f1cb4a1f91b6ba271fecd081": {
      "model_module": "@jupyter-widgets/base",
      "model_module_version": "1.2.0",
      "model_name": "LayoutModel",
      "state": {
       "width": "auto"
      }
     },
     "643508cc90684ded981de1dca9849a66": {
      "model_module": "@jupyter-widgets/output",
      "model_module_version": "1.0.0",
      "model_name": "OutputModel",
      "state": {
       "layout": "IPY_MODEL_8517f3420ab14741b36dacc4beb6e144",
       "outputs": [
        {
         "data": {
          "text/html": "<h3>Motivation</h3>",
          "text/plain": "<cassini.ipygui.WHTML at 0x27078739198>"
         },
         "metadata": {},
         "output_type": "display_data"
        }
       ]
      }
     },
     "64b43ddd81314335acca6b05bdad3ac3": {
      "model_module": "@jupyter-widgets/output",
      "model_module_version": "1.0.0",
      "model_name": "OutputModel",
      "state": {
       "layout": "IPY_MODEL_95e3e894e4f3456898bed921603216d1",
       "outputs": [
        {
         "data": {
          "text/html": "<h3>Motivation</h3>",
          "text/plain": "<cassini.ipygui.WHTML at 0x270785e2f28>"
         },
         "metadata": {},
         "output_type": "display_data"
        }
       ]
      }
     },
     "653f55dbb4f041508ecccd980f8b8973": {
      "model_module": "@jupyter-widgets/controls",
      "model_module_version": "1.5.0",
      "model_name": "DescriptionStyleModel",
      "state": {
       "description_width": "10%"
      }
     },
     "657209c131a6438bac78dc047861e5c4": {
      "model_module": "@jupyter-widgets/base",
      "model_module_version": "1.2.0",
      "model_name": "LayoutModel",
      "state": {}
     },
     "6622694420b44c17bb4527192c0cadec": {
      "model_module": "@jupyter-widgets/controls",
      "model_module_version": "1.5.0",
      "model_name": "DescriptionStyleModel",
      "state": {
       "description_width": "10%"
      }
     },
     "668c3cf1c8c74b139ef0f35f4fa0ee2f": {
      "model_module": "@jupyter-widgets/controls",
      "model_module_version": "1.5.0",
      "model_name": "TextModel",
      "state": {
       "description": "Identifier",
       "layout": "IPY_MODEL_f0afee3ebde54068a8e6189902ec651a",
       "placeholder": "(\\d+)",
       "style": "IPY_MODEL_d6453ff2c225451dadbe5d74b4ff3c81"
      }
     },
     "67d29711ff5e4bfaa119e4b4923b0142": {
      "model_module": "@jupyter-widgets/base",
      "model_module_version": "1.2.0",
      "model_name": "LayoutModel",
      "state": {
       "width": "auto"
      }
     },
     "69267624e0f944f5ad65aee110c36f9c": {
      "model_module": "@jupyter-widgets/controls",
      "model_module_version": "1.5.0",
      "model_name": "ButtonModel",
      "state": {
       "description": "Confirm",
       "disabled": true,
       "layout": "IPY_MODEL_04250d7ee3ba491ba94f81f57cbdb172",
       "style": "IPY_MODEL_3225bd7d3a1340658ba5df6f7a00a362"
      }
     },
     "695a62d2d0af4e2d84a3ba2521088436": {
      "model_module": "@jupyter-widgets/controls",
      "model_module_version": "1.5.0",
      "model_name": "ButtonStyleModel",
      "state": {}
     },
     "6a676b2fbd3f4a6193e9e30f3773c334": {
      "model_module": "@jupyter-widgets/controls",
      "model_module_version": "1.5.0",
      "model_name": "ButtonModel",
      "state": {
       "description": "New",
       "layout": "IPY_MODEL_19c409367af24cb69699567a0fd8ba80",
       "style": "IPY_MODEL_02b32e687dbf419dbf0f91d294a30fa2"
      }
     },
     "6a865c060c424c8ca6ffc90f1963e57f": {
      "model_module": "@jupyter-widgets/base",
      "model_module_version": "1.2.0",
      "model_name": "LayoutModel",
      "state": {}
     },
     "6ac0c1ca21284d00a002ee371e473589": {
      "model_module": "@jupyter-widgets/base",
      "model_module_version": "1.2.0",
      "model_name": "LayoutModel",
      "state": {}
     },
     "6cbedfae9d0f4caaa9be0373aa987bcc": {
      "model_module": "@jupyter-widgets/output",
      "model_module_version": "1.0.0",
      "model_name": "OutputModel",
      "state": {
       "layout": "IPY_MODEL_9307c4e96ab448dda34f7abf738a838f",
       "outputs": [
        {
         "data": {
          "text/markdown": "Gobble Gobble",
          "text/plain": "<IPython.core.display.Markdown object>"
         },
         "metadata": {},
         "output_type": "display_data"
        }
       ]
      }
     },
     "6d8bc8750d59408596cf3aca43373a1b": {
      "model_module": "@jupyter-widgets/controls",
      "model_module_version": "1.5.0",
      "model_name": "TextModel",
      "state": {
       "description": "Identifier",
       "layout": "IPY_MODEL_e72ad825d58345f388c6eb55135b62b3",
       "placeholder": "(\\d+)",
       "style": "IPY_MODEL_c3f6601e57ca4755beaeaf3eb76870d4"
      }
     },
     "6e2d6313bf624277a33cca1fe71e7785": {
      "model_module": "@jupyter-widgets/base",
      "model_module_version": "1.2.0",
      "model_name": "LayoutModel",
      "state": {
       "width": "auto"
      }
     },
     "6ed99608178e4c7f900aad5024ab6f96": {
      "model_module": "@jupyter-widgets/base",
      "model_module_version": "1.2.0",
      "model_name": "LayoutModel",
      "state": {}
     },
     "6f04f6ce21984f4b981eb767ddff984d": {
      "model_module": "@jupyter-widgets/output",
      "model_module_version": "1.0.0",
      "model_name": "OutputModel",
      "state": {
       "layout": "IPY_MODEL_1b321036322b42fd976e9dbac38362a6",
       "outputs": [
        {
         "data": {
          "text/html": "<h3>New Experiment</h3>",
          "text/plain": "<cassini.ipygui.WHTML at 0x27078574940>"
         },
         "metadata": {},
         "output_type": "display_data"
        }
       ]
      }
     },
     "6f591355075e4ff48a32c0e7843e4f7c": {
      "model_module": "@jupyter-widgets/output",
      "model_module_version": "1.0.0",
      "model_name": "OutputModel",
      "state": {
       "layout": "IPY_MODEL_a2699247f73e47478183876c7df292b0",
       "outputs": [
        {
         "data": {
          "text/html": "<h1 style=\"display: inline;\"><a href=\"WP1.ipynb\">WP1</a></h1><h3 style=\"display: inline;\">(<a href=\"../Home.ipynb\" target=\"_blank\">Home</a>)</h3>",
          "text/plain": "<cassini.ipygui.WHTML at 0x270786640b8>"
         },
         "metadata": {},
         "output_type": "display_data"
        }
       ]
      }
     },
     "6fd1683770ee4c8382b4b8536ce4588e": {
      "model_module": "@jupyter-widgets/controls",
      "model_module_version": "1.5.0",
      "model_name": "VBoxModel",
      "state": {
       "children": [
        "IPY_MODEL_f7d63c940885460b9cb981fa805d3a7e",
        "IPY_MODEL_643508cc90684ded981de1dca9849a66",
        "IPY_MODEL_425e59b520364bfbb7d547d12deddd5e",
        "IPY_MODEL_191792018b6546dab1834e44f9abef76",
        "IPY_MODEL_3f0827e7ea2342a6818541a7903b5994",
        "IPY_MODEL_54f5f9343f644dababd980a5afc4b8eb",
        "IPY_MODEL_ff6417ad95e3478c9c6c2d42851dff98"
       ],
       "layout": "IPY_MODEL_8c78f5a35ddb4a95a6722173cbc10100"
      }
     },
     "704431b904a54ce09e7f6de20bedf9cc": {
      "model_module": "@jupyter-widgets/base",
      "model_module_version": "1.2.0",
      "model_name": "LayoutModel",
      "state": {}
     },
     "71389cac1b594db2a36c7c2aa2029c40": {
      "model_module": "@jupyter-widgets/base",
      "model_module_version": "1.2.0",
      "model_name": "LayoutModel",
      "state": {}
     },
     "7166fabf45814d04bf5f2b454a30f423": {
      "model_module": "@jupyter-widgets/controls",
      "model_module_version": "1.5.0",
      "model_name": "DescriptionStyleModel",
      "state": {
       "description_width": "10%"
      }
     },
     "7188133e6f8042e8a7a25f12adb95d2f": {
      "model_module": "@jupyter-widgets/controls",
      "model_module_version": "1.5.0",
      "model_name": "TextareaModel",
      "state": {
       "description": "Motivation",
       "layout": "IPY_MODEL_77aee10a42394dab93f9601f17493e52",
       "style": "IPY_MODEL_29331e8bd88547f59e9093224cb16e13"
      }
     },
     "7277b919b86b4c808a1f888053f22a4f": {
      "model_module": "@jupyter-widgets/output",
      "model_module_version": "1.0.0",
      "model_name": "OutputModel",
      "state": {
       "layout": "IPY_MODEL_a1eb0b7e03cf4071ba3363ce329b9d79",
       "outputs": [
        {
         "data": {
          "text/html": "<h3>Motivation</h3>",
          "text/plain": "<cassini.ipygui.WHTML at 0x27078567128>"
         },
         "metadata": {},
         "output_type": "display_data"
        }
       ]
      }
     },
     "728170e52d1f4c45ba36773821131971": {
      "model_module": "@jupyter-widgets/base",
      "model_module_version": "1.2.0",
      "model_name": "LayoutModel",
      "state": {}
     },
     "72ea81229f5a4d92ba32c515808cfe1e": {
      "model_module": "@jupyter-widgets/base",
      "model_module_version": "1.2.0",
      "model_name": "LayoutModel",
      "state": {}
     },
     "73001730b7b74da3bdf1e2545a4ffc31": {
      "model_module": "@jupyter-widgets/base",
      "model_module_version": "1.2.0",
      "model_name": "LayoutModel",
      "state": {}
     },
     "745d41301b6c49bf808d4e30e798e3e1": {
      "model_module": "@jupyter-widgets/controls",
      "model_module_version": "1.5.0",
      "model_name": "ButtonStyleModel",
      "state": {}
     },
     "74c6fd6e5c9c44eb9a89b5f590d364c3": {
      "model_module": "@jupyter-widgets/output",
      "model_module_version": "1.0.0",
      "model_name": "OutputModel",
      "state": {
       "layout": "IPY_MODEL_ca9d49a622d04b9c997b059722c0a465",
       "outputs": [
        {
         "data": {
          "text/markdown": "Gobble Gobble",
          "text/plain": "<IPython.core.display.Markdown object>"
         },
         "metadata": {},
         "output_type": "display_data"
        }
       ]
      }
     },
     "7503c583fa564dc0bfbbe2e64f49d3a7": {
      "model_module": "@jupyter-widgets/controls",
      "model_module_version": "1.5.0",
      "model_name": "DescriptionStyleModel",
      "state": {
       "description_width": "10%"
      }
     },
     "77aee10a42394dab93f9601f17493e52": {
      "model_module": "@jupyter-widgets/base",
      "model_module_version": "1.2.0",
      "model_name": "LayoutModel",
      "state": {
       "width": "auto"
      }
     },
     "77ce9fbe7c8e4c65b2489c56e6a693f6": {
      "model_module": "@jupyter-widgets/base",
      "model_module_version": "1.2.0",
      "model_name": "LayoutModel",
      "state": {}
     },
     "78150de41185448ea4e04398fd2c8729": {
      "model_module": "@jupyter-widgets/base",
      "model_module_version": "1.2.0",
      "model_name": "LayoutModel",
      "state": {
       "width": "auto"
      }
     },
     "7821c267a3e74dc4924d6eb6af84e3a5": {
      "model_module": "@jupyter-widgets/base",
      "model_module_version": "1.2.0",
      "model_name": "LayoutModel",
      "state": {}
     },
     "78ee4231af13402e9f6b6b74fff391cc": {
      "model_module": "@jupyter-widgets/controls",
      "model_module_version": "1.5.0",
      "model_name": "ButtonStyleModel",
      "state": {}
     },
     "7923385de94445cd9eb59b1811879f4c": {
      "model_module": "@jupyter-widgets/controls",
      "model_module_version": "1.5.0",
      "model_name": "VBoxModel",
      "state": {
       "children": [
        "IPY_MODEL_8a551656f4e647aeb47fd68fcf4b4b7a",
        "IPY_MODEL_e059718e718b4e8987b89fc90f13dd43",
        "IPY_MODEL_f334afe8d85246aa91df3282e0a8950e",
        "IPY_MODEL_51be1a928bba4441bd6ef25cf16be7bb",
        "IPY_MODEL_053f8564e97544c18d3e5fb83b2e0217"
       ],
       "layout": "IPY_MODEL_3e41264b1939437d9717f6966339347b"
      }
     },
     "79c85f03eaf94a7488c8d2687ba1467d": {
      "model_module": "@jupyter-widgets/output",
      "model_module_version": "1.0.0",
      "model_name": "OutputModel",
      "state": {
       "layout": "IPY_MODEL_b6485f7d72e147a495b1497440b071a4",
       "outputs": [
        {
         "data": {
          "text/html": "<h3>Experiments</h3>",
          "text/plain": "<cassini.ipygui.WHTML at 0x2707842bf98>"
         },
         "metadata": {},
         "output_type": "display_data"
        }
       ]
      }
     },
     "7a4a648cbbde46f0ab93a0cede8b6eb6": {
      "model_module": "@jupyter-widgets/base",
      "model_module_version": "1.2.0",
      "model_name": "LayoutModel",
      "state": {}
     },
     "7ae79038d0b84e218d92974df225ae93": {
      "model_module": "@jupyter-widgets/base",
      "model_module_version": "1.2.0",
      "model_name": "LayoutModel",
      "state": {}
     },
     "7b510debe8724aae9bacc7d53623542a": {
      "model_module": "@jupyter-widgets/output",
      "model_module_version": "1.0.0",
      "model_name": "OutputModel",
      "state": {
       "layout": "IPY_MODEL_728170e52d1f4c45ba36773821131971",
       "outputs": [
        {
         "data": {
          "text/html": "<h3>Motivation</h3>",
          "text/plain": "<cassini.ipygui.WHTML at 0x270784bf5c0>"
         },
         "metadata": {},
         "output_type": "display_data"
        }
       ]
      }
     },
     "7d1dc818aa3d4a528af77b4f2ebd7315": {
      "model_module": "@jupyter-widgets/base",
      "model_module_version": "1.2.0",
      "model_name": "LayoutModel",
      "state": {}
     },
     "7da4bd6ebfa3457593da0a48a06fe1e7": {
      "model_module": "@jupyter-widgets/controls",
      "model_module_version": "1.5.0",
      "model_name": "SelectModel",
      "state": {
       "_options_labels": [
        "Experiment.tmplt.ipynb"
       ],
       "description": "Template",
       "index": 0,
       "layout": "IPY_MODEL_bb500f6abace46d8924530ca878b68b3",
       "style": "IPY_MODEL_a5cf36be12794fb3991de5928b467ea6"
      }
     },
     "7de65e55b99943a5a179ef41c2a1c810": {
      "model_module": "@jupyter-widgets/controls",
      "model_module_version": "1.5.0",
      "model_name": "ButtonModel",
      "state": {
       "description": "Folder",
       "layout": "IPY_MODEL_d0894869c59448af878975e914431a32",
       "style": "IPY_MODEL_af19df4baa074f24b9106c1c94eacdb6"
      }
     },
     "7e7843b81a12415ea96aefd373c7af32": {
      "model_module": "@jupyter-widgets/output",
      "model_module_version": "1.0.0",
      "model_name": "OutputModel",
      "state": {
       "layout": "IPY_MODEL_10e67fb0317d4232956cb9c1a24d7d09",
       "outputs": [
        {
         "data": {
          "text/html": "<h3>New Experiment</h3>",
          "text/plain": "<cassini.ipygui.WHTML at 0x27078664a20>"
         },
         "metadata": {},
         "output_type": "display_data"
        }
       ]
      }
     },
     "803cd075d37e4b578f3c4b6cf8753ebf": {
      "model_module": "@jupyter-widgets/controls",
      "model_module_version": "1.5.0",
      "model_name": "VBoxModel",
      "state": {
       "children": [
        "IPY_MODEL_8bef1d28e04749bdb1aee118527d775a",
        "IPY_MODEL_e5e8f5f51e5e4a5996d35e713ba8d795"
       ],
       "layout": "IPY_MODEL_eac61ab549e849649ea4e77bbbb7f7d7"
      }
     },
     "811e9843b1f54a1e8d601be0ae234403": {
      "model_module": "@jupyter-widgets/controls",
      "model_module_version": "1.5.0",
      "model_name": "VBoxModel",
      "state": {
       "children": [
        "IPY_MODEL_d2bb8cb25eff4edb8a168ea76d5ca41f",
        "IPY_MODEL_0a74fa612451422bb2b0c565e6597e6a",
        "IPY_MODEL_7188133e6f8042e8a7a25f12adb95d2f",
        "IPY_MODEL_88f9d82d78384c468a9c2913172572d4",
        "IPY_MODEL_3a1b6c75b57a4433a9e51395b5d74b80"
       ],
       "layout": "IPY_MODEL_73001730b7b74da3bdf1e2545a4ffc31"
      }
     },
     "81282e365d624e93a61e6a291142cbdb": {
      "model_module": "@jupyter-widgets/output",
      "model_module_version": "1.0.0",
      "model_name": "OutputModel",
      "state": {
       "layout": "IPY_MODEL_8403c66b84dc4ea9b80ae9dce4740680",
       "outputs": [
        {
         "data": {
          "text/html": "<table border=\"1\" class=\"dataframe\">\n  <thead>\n    <tr style=\"text-align: right;\">\n      <th></th>\n      <th>started</th>\n      <th>description</th>\n      <th>Obj</th>\n    </tr>\n    <tr>\n      <th>Name</th>\n      <th></th>\n      <th></th>\n      <th></th>\n    </tr>\n  </thead>\n  <tbody>\n    <tr>\n      <th>WP1.1</th>\n      <td>2020-06-29</td>\n      <td>Fine</td>\n      <td><a href=\"WP1/WP1.1.ipynb\" target=\"_blank\"><h3 style=\"display: inline;\">WP1.1</h3 style=\"display: inline;\"</a></td>\n    </tr>\n    <tr>\n      <th>WP1.2</th>\n      <td>2020-06-29</td>\n      <td></td>\n      <td><a href=\"WP1/WP1.2.ipynb\" target=\"_blank\"><h3 style=\"display: inline;\">WP1.2</h3 style=\"display: inline;\"</a></td>\n    </tr>\n  </tbody>\n</table>",
          "text/plain": "         started description                   Obj\nName                                              \nWP1.1 2020-06-29        Fine  <Experiment \"WP1.1\">\nWP1.2 2020-06-29              <Experiment \"WP1.2\">"
         },
         "metadata": {},
         "output_type": "display_data"
        }
       ]
      }
     },
     "819b0b7ec4084f38b4b81ed40d47068c": {
      "model_module": "@jupyter-widgets/base",
      "model_module_version": "1.2.0",
      "model_name": "LayoutModel",
      "state": {
       "width": "auto"
      }
     },
     "81ba8fa7b9864d989ce6cf30a3c99c87": {
      "model_module": "@jupyter-widgets/controls",
      "model_module_version": "1.5.0",
      "model_name": "ButtonModel",
      "state": {
       "description": "Confirm",
       "disabled": true,
       "layout": "IPY_MODEL_9d76a302409c4f38b7e1cdc1745367fa",
       "style": "IPY_MODEL_38c3f8519df04a3f9a7a024e1b170c24"
      }
     },
     "8325b26c94ed420ab8b01cbe4980b746": {
      "model_module": "@jupyter-widgets/controls",
      "model_module_version": "1.5.0",
      "model_name": "ButtonStyleModel",
      "state": {}
     },
     "836e1ceabf4a42c1a5e8914ecb37ec2e": {
      "model_module": "@jupyter-widgets/controls",
      "model_module_version": "1.5.0",
      "model_name": "SelectModel",
      "state": {
       "_options_labels": [
        "Experiment.tmplt.ipynb"
       ],
       "description": "Template",
       "index": 0,
       "layout": "IPY_MODEL_26a806945e0b46a3b5b09bacd72f0d75",
       "style": "IPY_MODEL_7166fabf45814d04bf5f2b454a30f423"
      }
     },
     "839e74dd484e4764aef4f9fbf64264b5": {
      "model_module": "@jupyter-widgets/base",
      "model_module_version": "1.2.0",
      "model_name": "LayoutModel",
      "state": {}
     },
     "8403c66b84dc4ea9b80ae9dce4740680": {
      "model_module": "@jupyter-widgets/base",
      "model_module_version": "1.2.0",
      "model_name": "LayoutModel",
      "state": {}
     },
     "8517f3420ab14741b36dacc4beb6e144": {
      "model_module": "@jupyter-widgets/base",
      "model_module_version": "1.2.0",
      "model_name": "LayoutModel",
      "state": {}
     },
     "854c470846734b649083e8a7a7478afc": {
      "model_module": "@jupyter-widgets/base",
      "model_module_version": "1.2.0",
      "model_name": "LayoutModel",
      "state": {
       "width": "auto"
      }
     },
     "85b36662e85e438e9c744b2946a26dbc": {
      "model_module": "@jupyter-widgets/controls",
      "model_module_version": "1.5.0",
      "model_name": "ButtonModel",
      "state": {
       "description": "New",
       "layout": "IPY_MODEL_49fbcb31376d4872a76fde6e6218f119",
       "style": "IPY_MODEL_92e760b9a8a04459b75eb6097f57aa68"
      }
     },
     "8671e47ea4954598802b91babdb384da": {
      "model_module": "@jupyter-widgets/controls",
      "model_module_version": "1.5.0",
      "model_name": "ButtonModel",
      "state": {
       "description": "New",
       "layout": "IPY_MODEL_f9ba223477ba4beebe8e2dfe71705618",
       "style": "IPY_MODEL_78ee4231af13402e9f6b6b74fff391cc"
      }
     },
     "868d809d3cb4423e90cbddec73e96fd9": {
      "model_module": "@jupyter-widgets/controls",
      "model_module_version": "1.5.0",
      "model_name": "ButtonModel",
      "state": {
       "description": "Confirm",
       "disabled": true,
       "layout": "IPY_MODEL_ec185fb2868e4dd18eae32ba9056d5ec",
       "style": "IPY_MODEL_c230bd3a454c452f84d6bd62c28a3555"
      }
     },
     "87df50e659864883a05149b32205d3f0": {
      "model_module": "@jupyter-widgets/base",
      "model_module_version": "1.2.0",
      "model_name": "LayoutModel",
      "state": {}
     },
     "88f9d82d78384c468a9c2913172572d4": {
      "model_module": "@jupyter-widgets/controls",
      "model_module_version": "1.5.0",
      "model_name": "HBoxModel",
      "state": {
       "children": [
        "IPY_MODEL_eccf08ba53a946c5aa1d020d6954e63c",
        "IPY_MODEL_85b36662e85e438e9c744b2946a26dbc"
       ],
       "layout": "IPY_MODEL_8927701be4dd49a3ac002a29e0980492"
      }
     },
     "88fe22815fd14ff1a55d1cfd75341b93": {
      "model_module": "@jupyter-widgets/base",
      "model_module_version": "1.2.0",
      "model_name": "LayoutModel",
      "state": {
       "width": "auto"
      }
     },
     "8927701be4dd49a3ac002a29e0980492": {
      "model_module": "@jupyter-widgets/base",
      "model_module_version": "1.2.0",
      "model_name": "LayoutModel",
      "state": {}
     },
     "89953e4dad6d4d279783feb890027e4d": {
      "model_module": "@jupyter-widgets/controls",
      "model_module_version": "1.5.0",
      "model_name": "SelectModel",
      "state": {
       "_options_labels": [
        "Experiment.tmplt.ipynb"
       ],
       "description": "Template",
       "disabled": true,
       "index": 0,
       "layout": "IPY_MODEL_debb9beaf780422b903562912b255ba0",
       "style": "IPY_MODEL_df91e704278d446588b950b5f3d2259a"
      }
     },
     "8a3b37d58d884b758bbc2aa822c286de": {
      "model_module": "@jupyter-widgets/output",
      "model_module_version": "1.0.0",
      "model_name": "OutputModel",
      "state": {
       "layout": "IPY_MODEL_eaa8a1ddf087409e97d2a229d7daf665",
       "outputs": [
        {
         "data": {
          "text/html": "<h3>New Experiment</h3>",
          "text/plain": "<cassini.ipygui.WHTML at 0x27078473f98>"
         },
         "metadata": {},
         "output_type": "display_data"
        }
       ]
      }
     },
     "8a551656f4e647aeb47fd68fcf4b4b7a": {
      "model_module": "@jupyter-widgets/controls",
      "model_module_version": "1.5.0",
      "model_name": "TextModel",
      "state": {
       "description": "Identifier",
       "disabled": true,
       "layout": "IPY_MODEL_266c7b64032a413d9f3d6a20fc249b34",
       "placeholder": "(\\d+)",
       "style": "IPY_MODEL_ae1d8e9bb2eb42428158fd2fd0da0ebf",
       "value": "1"
      }
     },
     "8a6d173647d240d5b1f1de8c1cdecadd": {
      "model_module": "@jupyter-widgets/controls",
      "model_module_version": "1.5.0",
      "model_name": "DescriptionStyleModel",
      "state": {
       "description_width": "10%"
      }
     },
     "8bcff4a8d70a4c9bad81f9bd4c305128": {
      "model_module": "@jupyter-widgets/base",
      "model_module_version": "1.2.0",
      "model_name": "LayoutModel",
      "state": {}
     },
     "8bd6243e2337440491ddb3eceb98aa4c": {
      "model_module": "@jupyter-widgets/controls",
      "model_module_version": "1.5.0",
      "model_name": "HBoxModel",
      "state": {
       "children": [
        "IPY_MODEL_c42b51d50a5d400dab9f126ba443ea6e",
        "IPY_MODEL_8c0df7e4ae8b4a1d9266c44bc84b7701"
       ],
       "layout": "IPY_MODEL_6a865c060c424c8ca6ffc90f1963e57f"
      }
     },
     "8bef1d28e04749bdb1aee118527d775a": {
      "model_module": "@jupyter-widgets/output",
      "model_module_version": "1.0.0",
      "model_name": "OutputModel",
      "state": {
       "layout": "IPY_MODEL_e64e8599ff4e4fa8a797b76cce01ab63",
       "outputs": [
        {
         "data": {
          "text/html": "<h1 style=\"display: inline;\"><a href=\"WP1.ipynb\">WP1</a></h1><h3 style=\"display: inline;\">(<a href=\"../Home.ipynb\" target=\"_blank\">Home</a>)</h3>",
          "text/plain": "<cassini.ipygui.WHTML at 0x2707849f390>"
         },
         "metadata": {},
         "output_type": "display_data"
        }
       ]
      }
     },
     "8c0df7e4ae8b4a1d9266c44bc84b7701": {
      "model_module": "@jupyter-widgets/controls",
      "model_module_version": "1.5.0",
      "model_name": "ButtonModel",
      "state": {
       "description": "New",
       "layout": "IPY_MODEL_7d1dc818aa3d4a528af77b4f2ebd7315",
       "style": "IPY_MODEL_fa2fbc6c7be542f39cc75838548b5635"
      }
     },
     "8c78f5a35ddb4a95a6722173cbc10100": {
      "model_module": "@jupyter-widgets/base",
      "model_module_version": "1.2.0",
      "model_name": "LayoutModel",
      "state": {}
     },
     "8d6e256002134c3299f5a69e3454b13c": {
      "model_module": "@jupyter-widgets/base",
      "model_module_version": "1.2.0",
      "model_name": "LayoutModel",
      "state": {}
     },
     "8e2c04db5774421787d7215296b3d9c7": {
      "model_module": "@jupyter-widgets/controls",
      "model_module_version": "1.5.0",
      "model_name": "HBoxModel",
      "state": {
       "children": [
        "IPY_MODEL_4162877875ea421ca7334843533d5ada",
        "IPY_MODEL_2722bdbe781a4e289714e4d19894f08a"
       ],
       "layout": "IPY_MODEL_b30327dd026f4f42b57dfdf15ceea8b0"
      }
     },
     "8e94995a68094f98bf13da1211277167": {
      "model_module": "@jupyter-widgets/controls",
      "model_module_version": "1.5.0",
      "model_name": "DescriptionStyleModel",
      "state": {
       "description_width": "10%"
      }
     },
     "8ea6d4c213cd438d8c9c64085a46b059": {
      "model_module": "@jupyter-widgets/controls",
      "model_module_version": "1.5.0",
      "model_name": "DescriptionStyleModel",
      "state": {
       "description_width": "10%"
      }
     },
     "8f7d81c37b91419d9f94b291b6f77357": {
      "model_module": "@jupyter-widgets/controls",
      "model_module_version": "1.5.0",
      "model_name": "HBoxModel",
      "state": {
       "children": [
        "IPY_MODEL_156a0066f11248898dbd807024c2632c",
        "IPY_MODEL_ddb908533d9d418d86b5565dd43b96a1"
       ],
       "layout": "IPY_MODEL_71389cac1b594db2a36c7c2aa2029c40"
      }
     },
     "9029b90fe935445a873606a2687152e0": {
      "model_module": "@jupyter-widgets/output",
      "model_module_version": "1.0.0",
      "model_name": "OutputModel",
      "state": {
       "layout": "IPY_MODEL_42258c64a49b4eb58d645ae2892fcc0d",
       "outputs": [
        {
         "data": {
          "text/html": "<h3>Motivation</h3>",
          "text/plain": "<cassini.ipygui.WHTML at 0x2707842be80>"
         },
         "metadata": {},
         "output_type": "display_data"
        }
       ]
      }
     },
     "912522715eb4450398ff8228b9403877": {
      "model_module": "@jupyter-widgets/controls",
      "model_module_version": "1.5.0",
      "model_name": "HBoxModel",
      "state": {
       "children": [
        "IPY_MODEL_5219a2703ad3431592a1b3ca93043262",
        "IPY_MODEL_6a676b2fbd3f4a6193e9e30f3773c334"
       ],
       "layout": "IPY_MODEL_93f92f981e2945998809d1d12eaa2cc7"
      }
     },
     "91b981da68644a96a5001cbbe302760f": {
      "model_module": "@jupyter-widgets/base",
      "model_module_version": "1.2.0",
      "model_name": "LayoutModel",
      "state": {}
     },
     "92e760b9a8a04459b75eb6097f57aa68": {
      "model_module": "@jupyter-widgets/controls",
      "model_module_version": "1.5.0",
      "model_name": "ButtonStyleModel",
      "state": {}
     },
     "9307c4e96ab448dda34f7abf738a838f": {
      "model_module": "@jupyter-widgets/base",
      "model_module_version": "1.2.0",
      "model_name": "LayoutModel",
      "state": {}
     },
     "931fcb0b8ce94e7eb33c80bb8ef6b312": {
      "model_module": "@jupyter-widgets/base",
      "model_module_version": "1.2.0",
      "model_name": "LayoutModel",
      "state": {}
     },
     "93389f8958e048c3b3579003dd3a0e60": {
      "model_module": "@jupyter-widgets/controls",
      "model_module_version": "1.5.0",
      "model_name": "VBoxModel",
      "state": {
       "children": [
        "IPY_MODEL_b5be425842ac43a5b87a019de100bd90",
        "IPY_MODEL_60d14a50fdd7431382957feffbb19d69"
       ],
       "layout": "IPY_MODEL_38121ab88dd345deb8d2b45b02d1215c"
      }
     },
     "93f92f981e2945998809d1d12eaa2cc7": {
      "model_module": "@jupyter-widgets/base",
      "model_module_version": "1.2.0",
      "model_name": "LayoutModel",
      "state": {}
     },
     "944f5d54a60a4584b2a7654951bc4a65": {
      "model_module": "@jupyter-widgets/controls",
      "model_module_version": "1.5.0",
      "model_name": "DescriptionStyleModel",
      "state": {
       "description_width": "10%"
      }
     },
     "94779d7a7a1f429b864b2fe74d34f76e": {
      "model_module": "@jupyter-widgets/output",
      "model_module_version": "1.0.0",
      "model_name": "OutputModel",
      "state": {
       "layout": "IPY_MODEL_4cb489e2d16c4cf6bdda586c0f43c122",
       "outputs": [
        {
         "data": {
          "text/html": "<table border=\"1\" class=\"dataframe\">\n  <thead>\n    <tr style=\"text-align: right;\">\n      <th></th>\n      <th>started</th>\n      <th>description</th>\n      <th>Obj</th>\n    </tr>\n    <tr>\n      <th>Name</th>\n      <th></th>\n      <th></th>\n      <th></th>\n    </tr>\n  </thead>\n  <tbody>\n    <tr>\n      <th>WP1.1</th>\n      <td>2020-06-29</td>\n      <td>Fine</td>\n      <td><a href=\"WP1/WP1.1.ipynb\" target=\"_blank\"><h3 style=\"display: inline;\">WP1.1</h3 style=\"display: inline;\"</a></td>\n    </tr>\n    <tr>\n      <th>WP1.2</th>\n      <td>2020-06-29</td>\n      <td></td>\n      <td><a href=\"WP1/WP1.2.ipynb\" target=\"_blank\"><h3 style=\"display: inline;\">WP1.2</h3 style=\"display: inline;\"</a></td>\n    </tr>\n  </tbody>\n</table>",
          "text/plain": "         started description                   Obj\nName                                              \nWP1.1 2020-06-29        Fine  <Experiment \"WP1.1\">\nWP1.2 2020-06-29              <Experiment \"WP1.2\">"
         },
         "metadata": {},
         "output_type": "display_data"
        }
       ]
      }
     },
     "9509a7bed8fb4c3f97f3241fffd3847a": {
      "model_module": "@jupyter-widgets/base",
      "model_module_version": "1.2.0",
      "model_name": "LayoutModel",
      "state": {}
     },
     "95e3e894e4f3456898bed921603216d1": {
      "model_module": "@jupyter-widgets/base",
      "model_module_version": "1.2.0",
      "model_name": "LayoutModel",
      "state": {}
     },
     "96450adf989c4401af15163f17778bec": {
      "model_module": "@jupyter-widgets/output",
      "model_module_version": "1.0.0",
      "model_name": "OutputModel",
      "state": {
       "layout": "IPY_MODEL_125e9e16840d4a1ba22edfcb2090c8ce",
       "outputs": [
        {
         "data": {
          "text/html": "<h3>Motivation</h3>",
          "text/plain": "<cassini.ipygui.WHTML at 0x270785670b8>"
         },
         "metadata": {},
         "output_type": "display_data"
        }
       ]
      }
     },
     "96853bdf3edc444a97d13179d32e3632": {
      "model_module": "@jupyter-widgets/base",
      "model_module_version": "1.2.0",
      "model_name": "LayoutModel",
      "state": {}
     },
     "98648e8ed67c4fa1a06d619e23fbd6f1": {
      "model_module": "@jupyter-widgets/controls",
      "model_module_version": "1.5.0",
      "model_name": "VBoxModel",
      "state": {
       "children": [
        "IPY_MODEL_93389f8958e048c3b3579003dd3a0e60",
        "IPY_MODEL_96450adf989c4401af15163f17778bec",
        "IPY_MODEL_b4cf7c94eafe439da1734cef513cdce1",
        "IPY_MODEL_4b87f4fec22b440093c9b48dbe32f83c",
        "IPY_MODEL_81282e365d624e93a61e6a291142cbdb",
        "IPY_MODEL_6f04f6ce21984f4b981eb767ddff984d",
        "IPY_MODEL_15d2709e93ad4ec28abb02759766b607"
       ],
       "layout": "IPY_MODEL_2c602a8033a147988fce5af333d32097"
      }
     },
     "9a4ce44c2ded420995cd274f0de20c49": {
      "model_module": "@jupyter-widgets/base",
      "model_module_version": "1.2.0",
      "model_name": "LayoutModel",
      "state": {
       "width": "auto"
      }
     },
     "9b26fa32118b457ebaef799ddd7b7ede": {
      "model_module": "@jupyter-widgets/controls",
      "model_module_version": "1.5.0",
      "model_name": "DescriptionStyleModel",
      "state": {
       "description_width": "10%"
      }
     },
     "9ba94e96cdb84912810688858a5dd348": {
      "model_module": "@jupyter-widgets/base",
      "model_module_version": "1.2.0",
      "model_name": "LayoutModel",
      "state": {}
     },
     "9c2323e495ed4cbf9dd6413b83ca671f": {
      "model_module": "@jupyter-widgets/controls",
      "model_module_version": "1.5.0",
      "model_name": "ButtonStyleModel",
      "state": {}
     },
     "9d76a302409c4f38b7e1cdc1745367fa": {
      "model_module": "@jupyter-widgets/base",
      "model_module_version": "1.2.0",
      "model_name": "LayoutModel",
      "state": {}
     },
     "9dc90e57e13e47d7aa8e03414be4ce0d": {
      "model_module": "@jupyter-widgets/controls",
      "model_module_version": "1.5.0",
      "model_name": "TextModel",
      "state": {
       "description": "Identifier",
       "layout": "IPY_MODEL_2b5d7eb9e6d9475f9d0c0aedab2b0268",
       "placeholder": "(\\d+)",
       "style": "IPY_MODEL_8e94995a68094f98bf13da1211277167"
      }
     },
     "9de326502e294fba8c75495334e9295c": {
      "model_module": "@jupyter-widgets/base",
      "model_module_version": "1.2.0",
      "model_name": "LayoutModel",
      "state": {
       "width": "auto"
      }
     },
     "9e596dc2c21947168391e95c6c70169c": {
      "model_module": "@jupyter-widgets/controls",
      "model_module_version": "1.5.0",
      "model_name": "DescriptionStyleModel",
      "state": {
       "description_width": "10%"
      }
     },
     "9eae9e5ab5e14d3b954e6b03c9266fa9": {
      "model_module": "@jupyter-widgets/base",
      "model_module_version": "1.2.0",
      "model_name": "LayoutModel",
      "state": {
       "width": "auto"
      }
     },
     "9f1237e3fae1488eabae9bfcaead6869": {
      "model_module": "@jupyter-widgets/controls",
      "model_module_version": "1.5.0",
      "model_name": "HBoxModel",
      "state": {
       "children": [
        "IPY_MODEL_868d809d3cb4423e90cbddec73e96fd9",
        "IPY_MODEL_1614309296504ee1b11f3d6d36342275"
       ],
       "layout": "IPY_MODEL_01d0ea493f8d490793a88135f4f4a888"
      }
     },
     "a017c05c6152493b83093a57b7246aa2": {
      "model_module": "@jupyter-widgets/output",
      "model_module_version": "1.0.0",
      "model_name": "OutputModel",
      "state": {
       "layout": "IPY_MODEL_d7739716662443cdbc4935fb04e0c42a"
      }
     },
     "a17007102ba14b57bbf6b0059a06fdfe": {
      "model_module": "@jupyter-widgets/base",
      "model_module_version": "1.2.0",
      "model_name": "LayoutModel",
      "state": {}
     },
     "a1eb0b7e03cf4071ba3363ce329b9d79": {
      "model_module": "@jupyter-widgets/base",
      "model_module_version": "1.2.0",
      "model_name": "LayoutModel",
      "state": {}
     },
     "a2042a86b80c4c78bbdf73dac13db8d8": {
      "model_module": "@jupyter-widgets/base",
      "model_module_version": "1.2.0",
      "model_name": "LayoutModel",
      "state": {}
     },
     "a2699247f73e47478183876c7df292b0": {
      "model_module": "@jupyter-widgets/base",
      "model_module_version": "1.2.0",
      "model_name": "LayoutModel",
      "state": {}
     },
     "a2d89d68052249d5a19f19406c473d48": {
      "model_module": "@jupyter-widgets/output",
      "model_module_version": "1.0.0",
      "model_name": "OutputModel",
      "state": {
       "layout": "IPY_MODEL_acb2fe378bc44fbdbf207e7518b1ce98",
       "outputs": [
        {
         "data": {
          "text/html": "<table border=\"1\" class=\"dataframe\">\n  <thead>\n    <tr style=\"text-align: right;\">\n      <th></th>\n      <th>started</th>\n      <th>description</th>\n      <th>Obj</th>\n    </tr>\n    <tr>\n      <th>Name</th>\n      <th></th>\n      <th></th>\n      <th></th>\n    </tr>\n  </thead>\n  <tbody>\n    <tr>\n      <th>WP1.1</th>\n      <td>2020-06-29</td>\n      <td>Fine</td>\n      <td><a href=\"WP1/WP1.1.ipynb\" target=\"_blank\"><h3 style=\"display: inline;\">WP1.1</h3 style=\"display: inline;\"</a></td>\n    </tr>\n    <tr>\n      <th>WP1.2</th>\n      <td>2020-06-29</td>\n      <td></td>\n      <td><a href=\"WP1/WP1.2.ipynb\" target=\"_blank\"><h3 style=\"display: inline;\">WP1.2</h3 style=\"display: inline;\"</a></td>\n    </tr>\n  </tbody>\n</table>",
          "text/plain": "         started description                   Obj\nName                                              \nWP1.1 2020-06-29        Fine  <Experiment \"WP1.1\">\nWP1.2 2020-06-29              <Experiment \"WP1.2\">"
         },
         "metadata": {},
         "output_type": "display_data"
        }
       ]
      }
     },
     "a317cf2d2a0e4fcc9ec1f83eed1f42d8": {
      "model_module": "@jupyter-widgets/controls",
      "model_module_version": "1.5.0",
      "model_name": "DescriptionStyleModel",
      "state": {
       "description_width": "10%"
      }
     },
     "a3e8e1e2982c473d982716cdc8eafdc4": {
      "model_module": "@jupyter-widgets/output",
      "model_module_version": "1.0.0",
      "model_name": "OutputModel",
      "state": {
       "layout": "IPY_MODEL_96853bdf3edc444a97d13179d32e3632",
       "outputs": [
        {
         "data": {
          "text/html": "<h3>New Experiment</h3>",
          "text/plain": "<cassini.ipygui.WHTML at 0x27078572f60>"
         },
         "metadata": {},
         "output_type": "display_data"
        }
       ]
      }
     },
     "a4ae1fcea0f9471584ee29bceb16601b": {
      "model_module": "@jupyter-widgets/base",
      "model_module_version": "1.2.0",
      "model_name": "LayoutModel",
      "state": {}
     },
     "a5661a747f61409c90a023604f86c3c3": {
      "model_module": "@jupyter-widgets/output",
      "model_module_version": "1.0.0",
      "model_name": "OutputModel",
      "state": {
       "layout": "IPY_MODEL_fbf8c00d44bf4e519bb5a74c827e0e52",
       "outputs": [
        {
         "data": {
          "text/html": "<h3>New Experiment</h3>",
          "text/plain": "<cassini.ipygui.WHTML at 0x2707857bfd0>"
         },
         "metadata": {},
         "output_type": "display_data"
        }
       ]
      }
     },
     "a56b6cdd234c47c0be02d6627175848b": {
      "model_module": "@jupyter-widgets/controls",
      "model_module_version": "1.5.0",
      "model_name": "VBoxModel",
      "state": {
       "children": [
        "IPY_MODEL_4eadc0969f9b4ebdacf6debea53555c0",
        "IPY_MODEL_7277b919b86b4c808a1f888053f22a4f",
        "IPY_MODEL_6cbedfae9d0f4caaa9be0373aa987bcc",
        "IPY_MODEL_d40fd8fb5e6440d79037ca8a514e0332",
        "IPY_MODEL_a2d89d68052249d5a19f19406c473d48",
        "IPY_MODEL_2daff4edb10c407892ba18b4bc0eb8c2",
        "IPY_MODEL_26397d1952a24001b302b94f463158c6"
       ],
       "layout": "IPY_MODEL_7a4a648cbbde46f0ab93a0cede8b6eb6"
      }
     },
     "a5cf36be12794fb3991de5928b467ea6": {
      "model_module": "@jupyter-widgets/controls",
      "model_module_version": "1.5.0",
      "model_name": "DescriptionStyleModel",
      "state": {
       "description_width": "10%"
      }
     },
     "a5f9fa35579043ff8ead4b62010be33b": {
      "model_module": "@jupyter-widgets/output",
      "model_module_version": "1.0.0",
      "model_name": "OutputModel",
      "state": {
       "layout": "IPY_MODEL_78150de41185448ea4e04398fd2c8729"
      }
     },
     "a63e710659214d58b46e172a2bf49629": {
      "model_module": "@jupyter-widgets/base",
      "model_module_version": "1.2.0",
      "model_name": "LayoutModel",
      "state": {}
     },
     "a7bab75a862a4b9b996b1522fb41d34c": {
      "model_module": "@jupyter-widgets/controls",
      "model_module_version": "1.5.0",
      "model_name": "DescriptionStyleModel",
      "state": {
       "description_width": "10%"
      }
     },
     "aa372efc572c436ea27b71f02fc7bd5a": {
      "model_module": "@jupyter-widgets/base",
      "model_module_version": "1.2.0",
      "model_name": "LayoutModel",
      "state": {}
     },
     "aa9e3771b5fa497483f4054b6118353b": {
      "model_module": "@jupyter-widgets/output",
      "model_module_version": "1.0.0",
      "model_name": "OutputModel",
      "state": {
       "layout": "IPY_MODEL_d63b1d12015e4bc0aa724223435230e9",
       "outputs": [
        {
         "data": {
          "text/html": "<h1 style=\"display: inline;\"><a href=\"WP1.ipynb\">WP1</a></h1><h3 style=\"display: inline;\">(<a href=\"../Home.ipynb\" target=\"_blank\">Home</a>)</h3>",
          "text/plain": "<cassini.ipygui.WHTML at 0x270785d4898>"
         },
         "metadata": {},
         "output_type": "display_data"
        }
       ]
      }
     },
     "aaa7bb55e74b4e4e99fb5452f10788ff": {
      "model_module": "@jupyter-widgets/output",
      "model_module_version": "1.0.0",
      "model_name": "OutputModel",
      "state": {
       "layout": "IPY_MODEL_dac6ffb2a06444f3bec380208d6a8d69",
       "outputs": [
        {
         "data": {
          "text/markdown": "Gobble Gobble",
          "text/plain": "<IPython.core.display.Markdown object>"
         },
         "metadata": {},
         "output_type": "display_data"
        }
       ]
      }
     },
     "acb2fe378bc44fbdbf207e7518b1ce98": {
      "model_module": "@jupyter-widgets/base",
      "model_module_version": "1.2.0",
      "model_name": "LayoutModel",
      "state": {}
     },
     "adb398e553694f138652607c10988c16": {
      "model_module": "@jupyter-widgets/controls",
      "model_module_version": "1.5.0",
      "model_name": "SelectModel",
      "state": {
       "_options_labels": [
        "Experiment.tmplt.ipynb"
       ],
       "description": "Template",
       "index": 0,
       "layout": "IPY_MODEL_9a4ce44c2ded420995cd274f0de20c49",
       "style": "IPY_MODEL_4e03a54d28af4187a83c57783276406b"
      }
     },
     "ae1d8e9bb2eb42428158fd2fd0da0ebf": {
      "model_module": "@jupyter-widgets/controls",
      "model_module_version": "1.5.0",
      "model_name": "DescriptionStyleModel",
      "state": {
       "description_width": "10%"
      }
     },
     "ae5f7e0509a740478b206efefd8a7b7b": {
      "model_module": "@jupyter-widgets/base",
      "model_module_version": "1.2.0",
      "model_name": "LayoutModel",
      "state": {}
     },
     "ae6683cb10b841f783931c133e57d4b1": {
      "model_module": "@jupyter-widgets/controls",
      "model_module_version": "1.5.0",
      "model_name": "VBoxModel",
      "state": {
       "children": [
        "IPY_MODEL_803cd075d37e4b578f3c4b6cf8753ebf",
        "IPY_MODEL_ce7d61a1e55f44fa8fe0bb847bf5f606",
        "IPY_MODEL_508f06f258d54014ba7430b3e4238cb8",
        "IPY_MODEL_fd3987e335294027bd7c6f387459a21a",
        "IPY_MODEL_09bf6f553a24457383af4efc9232810e",
        "IPY_MODEL_a3e8e1e2982c473d982716cdc8eafdc4",
        "IPY_MODEL_3310ba7acba845e7967625ddc5e8ba59"
       ],
       "layout": "IPY_MODEL_bb5c2a7f6e884c37b70ae817163eb556"
      }
     },
     "aee0b21af498456e8a3c13a1d9a1948e": {
      "model_module": "@jupyter-widgets/controls",
      "model_module_version": "1.5.0",
      "model_name": "ButtonStyleModel",
      "state": {}
     },
     "aeee4f744b5642708191c7555ab9e90c": {
      "model_module": "@jupyter-widgets/output",
      "model_module_version": "1.0.0",
      "model_name": "OutputModel",
      "state": {
       "layout": "IPY_MODEL_52834d991c114275a1d7def846cc4d9b",
       "outputs": [
        {
         "data": {
          "text/html": "<h3>New Experiment</h3>",
          "text/plain": "<cassini.ipygui.WHTML at 0x270784d0128>"
         },
         "metadata": {},
         "output_type": "display_data"
        }
       ]
      }
     },
     "af19df4baa074f24b9106c1c94eacdb6": {
      "model_module": "@jupyter-widgets/controls",
      "model_module_version": "1.5.0",
      "model_name": "ButtonStyleModel",
      "state": {}
     },
     "b0aa1311a3514ce2b4a40ce0899190d9": {
      "model_module": "@jupyter-widgets/controls",
      "model_module_version": "1.5.0",
      "model_name": "DescriptionStyleModel",
      "state": {
       "description_width": "10%"
      }
     },
     "b0cba8de69f54c91915c06145244e433": {
      "model_module": "@jupyter-widgets/base",
      "model_module_version": "1.2.0",
      "model_name": "LayoutModel",
      "state": {}
     },
     "b1b45eaadb254ed5bf49b4f53f88a2be": {
      "model_module": "@jupyter-widgets/controls",
      "model_module_version": "1.5.0",
      "model_name": "VBoxModel",
      "state": {
       "children": [
        "IPY_MODEL_b48757212eaa4b508d83d77c1cbe3126",
        "IPY_MODEL_41411e488a184c2c93c6ba07d0ac86a1",
        "IPY_MODEL_e5bb7fe3bb304ea78ba6b72aa0373e3f",
        "IPY_MODEL_c5a023c52a974ea294435fbe7d5811b9",
        "IPY_MODEL_26d5e2e59e454abfa06e9cfbcd3317c8",
        "IPY_MODEL_7e7843b81a12415ea96aefd373c7af32",
        "IPY_MODEL_f3e2c372bf414bebb5fa40523643c89a"
       ],
       "layout": "IPY_MODEL_d6214cb6e4fe4dc9b18a0e7c10513895"
      }
     },
     "b1c4514ef88c4a6a80847b0ed5aaef87": {
      "model_module": "@jupyter-widgets/output",
      "model_module_version": "1.0.0",
      "model_name": "OutputModel",
      "state": {
       "layout": "IPY_MODEL_c7d1c93b6ea64dbbb0579359f61c1e43",
       "outputs": [
        {
         "data": {
          "text/html": "<h1 style=\"display: inline;\"><a href=\"WP1.ipynb\">WP1</a></h1><h3 style=\"display: inline;\">(<a href=\"../Home.ipynb\" target=\"_blank\">Home</a>)</h3>",
          "text/plain": "<cassini.ipygui.WHTML at 0x2707862f550>"
         },
         "metadata": {},
         "output_type": "display_data"
        }
       ]
      }
     },
     "b30327dd026f4f42b57dfdf15ceea8b0": {
      "model_module": "@jupyter-widgets/base",
      "model_module_version": "1.2.0",
      "model_name": "LayoutModel",
      "state": {}
     },
     "b364d9e4823f40c7ad02a8fa60640829": {
      "model_module": "@jupyter-widgets/controls",
      "model_module_version": "1.5.0",
      "model_name": "VBoxModel",
      "state": {
       "children": [
        "IPY_MODEL_e896db64ae0a4600aa94ac8a262672a9",
        "IPY_MODEL_64b43ddd81314335acca6b05bdad3ac3",
        "IPY_MODEL_51db65acc4d44d7daf9e5bb3b2da1c10",
        "IPY_MODEL_e69ddb108d2b4bb3b58c57496dc553ea",
        "IPY_MODEL_585abdf5c2f841da929aecff53a74834",
        "IPY_MODEL_a5661a747f61409c90a023604f86c3c3",
        "IPY_MODEL_42279005ea74468ab18489d151a8302f"
       ],
       "layout": "IPY_MODEL_a4ae1fcea0f9471584ee29bceb16601b"
      }
     },
     "b472238cb2744abeb00e32537fc96bed": {
      "model_module": "@jupyter-widgets/controls",
      "model_module_version": "1.5.0",
      "model_name": "VBoxModel",
      "state": {
       "children": [
        "IPY_MODEL_01c76447ca484f3bbc77f51def0ef28c",
        "IPY_MODEL_9029b90fe935445a873606a2687152e0",
        "IPY_MODEL_aaa7bb55e74b4e4e99fb5452f10788ff",
        "IPY_MODEL_79c85f03eaf94a7488c8d2687ba1467d",
        "IPY_MODEL_ba5f21c002004a35a8b78e7603a65245",
        "IPY_MODEL_8a3b37d58d884b758bbc2aa822c286de",
        "IPY_MODEL_7923385de94445cd9eb59b1811879f4c"
       ],
       "layout": "IPY_MODEL_2a3c1cf8db8f4dc5aef08173274e4678"
      }
     },
     "b48757212eaa4b508d83d77c1cbe3126": {
      "model_module": "@jupyter-widgets/controls",
      "model_module_version": "1.5.0",
      "model_name": "VBoxModel",
      "state": {
       "children": [
        "IPY_MODEL_6f591355075e4ff48a32c0e7843e4f7c",
        "IPY_MODEL_d899fc8517c248c187e5c932787540c8"
       ],
       "layout": "IPY_MODEL_06b85a51fe05408c88887b1b666cfc6a"
      }
     },
     "b4cf7c94eafe439da1734cef513cdce1": {
      "model_module": "@jupyter-widgets/output",
      "model_module_version": "1.0.0",
      "model_name": "OutputModel",
      "state": {
       "layout": "IPY_MODEL_3916bf4f4cc641bbb9863bc489e9ef5d",
       "outputs": [
        {
         "data": {
          "text/markdown": "Gobble Gobble",
          "text/plain": "<IPython.core.display.Markdown object>"
         },
         "metadata": {},
         "output_type": "display_data"
        }
       ]
      }
     },
     "b5be425842ac43a5b87a019de100bd90": {
      "model_module": "@jupyter-widgets/output",
      "model_module_version": "1.0.0",
      "model_name": "OutputModel",
      "state": {
       "layout": "IPY_MODEL_c35e51b9c9c3442db021e1bdb188da97",
       "outputs": [
        {
         "data": {
          "text/html": "<h1 style=\"display: inline;\"><a href=\"WP1.ipynb\">WP1</a></h1><h3 style=\"display: inline;\">(<a href=\"../Home.ipynb\" target=\"_blank\">Home</a>)</h3>",
          "text/plain": "<cassini.ipygui.WHTML at 0x270784db6d8>"
         },
         "metadata": {},
         "output_type": "display_data"
        }
       ]
      }
     },
     "b6485f7d72e147a495b1497440b071a4": {
      "model_module": "@jupyter-widgets/base",
      "model_module_version": "1.2.0",
      "model_name": "LayoutModel",
      "state": {}
     },
     "b6f0be4981af4921994b141d7f72f10c": {
      "model_module": "@jupyter-widgets/base",
      "model_module_version": "1.2.0",
      "model_name": "LayoutModel",
      "state": {}
     },
     "b77181d582774a058e4eaad2024b8175": {
      "model_module": "@jupyter-widgets/base",
      "model_module_version": "1.2.0",
      "model_name": "LayoutModel",
      "state": {}
     },
     "b8838898a940476f8ff92a142ccd2eca": {
      "model_module": "@jupyter-widgets/base",
      "model_module_version": "1.2.0",
      "model_name": "LayoutModel",
      "state": {}
     },
     "b9e244a0a1694ab896326d0c94351c5f": {
      "model_module": "@jupyter-widgets/base",
      "model_module_version": "1.2.0",
      "model_name": "LayoutModel",
      "state": {}
     },
     "b9e75f089def494aa114f5c06dd89cb1": {
      "model_module": "@jupyter-widgets/controls",
      "model_module_version": "1.5.0",
      "model_name": "DescriptionStyleModel",
      "state": {
       "description_width": "10%"
      }
     },
     "ba458ffce3914ce0b6ea9de9d2d00eff": {
      "model_module": "@jupyter-widgets/base",
      "model_module_version": "1.2.0",
      "model_name": "LayoutModel",
      "state": {}
     },
     "ba5f21c002004a35a8b78e7603a65245": {
      "model_module": "@jupyter-widgets/output",
      "model_module_version": "1.0.0",
      "model_name": "OutputModel",
      "state": {
       "layout": "IPY_MODEL_9ba94e96cdb84912810688858a5dd348",
       "outputs": [
        {
         "data": {
          "text/html": "<table border=\"1\" class=\"dataframe\">\n  <thead>\n    <tr style=\"text-align: right;\">\n      <th></th>\n    </tr>\n  </thead>\n  <tbody>\n  </tbody>\n</table>",
          "text/plain": "Empty UnescapedDataFrame\nColumns: []\nIndex: []"
         },
         "metadata": {},
         "output_type": "display_data"
        }
       ]
      }
     },
     "ba6a2dda39b94caba0661c72396f2919": {
      "model_module": "@jupyter-widgets/output",
      "model_module_version": "1.0.0",
      "model_name": "OutputModel",
      "state": {
       "layout": "IPY_MODEL_1ecf9c1a6fa241ce9fede103af39a1ad",
       "outputs": [
        {
         "data": {
          "text/html": "<h1 style=\"display: inline;\"><a href=\"WP1.ipynb\">WP1</a></h1><h3 style=\"display: inline;\">(<a href=\"../Home.ipynb\" target=\"_blank\">Home</a>)</h3>",
          "text/plain": "<cassini.ipygui.WHTML at 0x270784dbba8>"
         },
         "metadata": {},
         "output_type": "display_data"
        }
       ]
      }
     },
     "bb500f6abace46d8924530ca878b68b3": {
      "model_module": "@jupyter-widgets/base",
      "model_module_version": "1.2.0",
      "model_name": "LayoutModel",
      "state": {
       "width": "auto"
      }
     },
     "bb5c2a7f6e884c37b70ae817163eb556": {
      "model_module": "@jupyter-widgets/base",
      "model_module_version": "1.2.0",
      "model_name": "LayoutModel",
      "state": {}
     },
     "bc6f0bc796dd42efa12b07c425411796": {
      "model_module": "@jupyter-widgets/controls",
      "model_module_version": "1.5.0",
      "model_name": "DescriptionStyleModel",
      "state": {
       "description_width": "10%"
      }
     },
     "bd7f87058cf5471799fa283b5ef1130c": {
      "model_module": "@jupyter-widgets/base",
      "model_module_version": "1.2.0",
      "model_name": "LayoutModel",
      "state": {}
     },
     "be70cf5b55e345e895780bd80382b20d": {
      "model_module": "@jupyter-widgets/controls",
      "model_module_version": "1.5.0",
      "model_name": "ButtonStyleModel",
      "state": {}
     },
     "be7255a396964516887ceddc501bf72f": {
      "model_module": "@jupyter-widgets/base",
      "model_module_version": "1.2.0",
      "model_name": "LayoutModel",
      "state": {
       "width": "auto"
      }
     },
     "be9488f279f945d18976776507d3e7e1": {
      "model_module": "@jupyter-widgets/output",
      "model_module_version": "1.0.0",
      "model_name": "OutputModel",
      "state": {
       "layout": "IPY_MODEL_110515c4505945a8afb488ddb72c329d"
      }
     },
     "c0222974902a496da5f16c7cb195a051": {
      "model_module": "@jupyter-widgets/controls",
      "model_module_version": "1.5.0",
      "model_name": "ButtonStyleModel",
      "state": {}
     },
     "c0f279d3625249e0aa8eb7b9434d359b": {
      "model_module": "@jupyter-widgets/controls",
      "model_module_version": "1.5.0",
      "model_name": "ButtonStyleModel",
      "state": {}
     },
     "c15c783c7404421591a1909751d151db": {
      "model_module": "@jupyter-widgets/controls",
      "model_module_version": "1.5.0",
      "model_name": "ButtonModel",
      "state": {
       "description": "New",
       "layout": "IPY_MODEL_e7cf3c5902c1413abd126d5da774007a",
       "style": "IPY_MODEL_c0f279d3625249e0aa8eb7b9434d359b"
      }
     },
     "c230bd3a454c452f84d6bd62c28a3555": {
      "model_module": "@jupyter-widgets/controls",
      "model_module_version": "1.5.0",
      "model_name": "ButtonStyleModel",
      "state": {}
     },
     "c23db8c9d80b42c4916c4db12f4332d7": {
      "model_module": "@jupyter-widgets/output",
      "model_module_version": "1.0.0",
      "model_name": "OutputModel",
      "state": {
       "layout": "IPY_MODEL_a63e710659214d58b46e172a2bf49629",
       "outputs": [
        {
         "data": {
          "text/html": "<h3>New Experiment</h3>",
          "text/plain": "<cassini.ipygui.WHTML at 0x270785d4eb8>"
         },
         "metadata": {},
         "output_type": "display_data"
        }
       ]
      }
     },
     "c321458e90374183b12749eb72da5f38": {
      "model_module": "@jupyter-widgets/controls",
      "model_module_version": "1.5.0",
      "model_name": "ButtonStyleModel",
      "state": {}
     },
     "c35e51b9c9c3442db021e1bdb188da97": {
      "model_module": "@jupyter-widgets/base",
      "model_module_version": "1.2.0",
      "model_name": "LayoutModel",
      "state": {}
     },
     "c3f6601e57ca4755beaeaf3eb76870d4": {
      "model_module": "@jupyter-widgets/controls",
      "model_module_version": "1.5.0",
      "model_name": "DescriptionStyleModel",
      "state": {
       "description_width": "10%"
      }
     },
     "c42b51d50a5d400dab9f126ba443ea6e": {
      "model_module": "@jupyter-widgets/controls",
      "model_module_version": "1.5.0",
      "model_name": "ButtonModel",
      "state": {
       "description": "Confirm",
       "disabled": true,
       "layout": "IPY_MODEL_8d6e256002134c3299f5a69e3454b13c",
       "style": "IPY_MODEL_f2393faa92244a8b8422328fc1336502"
      }
     },
     "c43c5c4d1b294cc98038db2699909651": {
      "model_module": "@jupyter-widgets/base",
      "model_module_version": "1.2.0",
      "model_name": "LayoutModel",
      "state": {}
     },
     "c574ddec6ed6458d985dcfe1448237a4": {
      "model_module": "@jupyter-widgets/controls",
      "model_module_version": "1.5.0",
      "model_name": "ButtonModel",
      "state": {
       "description": "Folder",
       "layout": "IPY_MODEL_1db53776e2e04dadab6f8fab636e84bd",
       "style": "IPY_MODEL_8325b26c94ed420ab8b01cbe4980b746"
      }
     },
     "c5a023c52a974ea294435fbe7d5811b9": {
      "model_module": "@jupyter-widgets/output",
      "model_module_version": "1.0.0",
      "model_name": "OutputModel",
      "state": {
       "layout": "IPY_MODEL_5639a4230f6d44cf89536e9b356b2d0b",
       "outputs": [
        {
         "data": {
          "text/html": "<h3>Experiments</h3>",
          "text/plain": "<cassini.ipygui.WHTML at 0x2707849f588>"
         },
         "metadata": {},
         "output_type": "display_data"
        }
       ]
      }
     },
     "c7d1c93b6ea64dbbb0579359f61c1e43": {
      "model_module": "@jupyter-widgets/base",
      "model_module_version": "1.2.0",
      "model_name": "LayoutModel",
      "state": {}
     },
     "c7f483f139a94390a394bad70ff8fb39": {
      "model_module": "@jupyter-widgets/output",
      "model_module_version": "1.0.0",
      "model_name": "OutputModel",
      "state": {
       "layout": "IPY_MODEL_d545e9da3bfb40fcae6e924326459368",
       "outputs": [
        {
         "data": {
          "text/html": "<h3>Experiments</h3>",
          "text/plain": "<cassini.ipygui.WHTML at 0x2707011bba8>"
         },
         "metadata": {},
         "output_type": "display_data"
        }
       ]
      }
     },
     "c9c5e2739df04881bffa84498367f005": {
      "model_module": "@jupyter-widgets/controls",
      "model_module_version": "1.5.0",
      "model_name": "DescriptionStyleModel",
      "state": {
       "description_width": "10%"
      }
     },
     "c9dc5b27b81246b790820f4329824b85": {
      "model_module": "@jupyter-widgets/output",
      "model_module_version": "1.0.0",
      "model_name": "OutputModel",
      "state": {
       "layout": "IPY_MODEL_b0cba8de69f54c91915c06145244e433"
      }
     },
     "ca9d49a622d04b9c997b059722c0a465": {
      "model_module": "@jupyter-widgets/base",
      "model_module_version": "1.2.0",
      "model_name": "LayoutModel",
      "state": {}
     },
     "cc1ffe0e54a848ef9779056b37530137": {
      "model_module": "@jupyter-widgets/base",
      "model_module_version": "1.2.0",
      "model_name": "LayoutModel",
      "state": {
       "width": "auto"
      }
     },
     "ccbffde57aba4d3da4b00725455979dd": {
      "model_module": "@jupyter-widgets/base",
      "model_module_version": "1.2.0",
      "model_name": "LayoutModel",
      "state": {}
     },
     "cce1e61f39b84bf78f690598c3d9efd6": {
      "model_module": "@jupyter-widgets/controls",
      "model_module_version": "1.5.0",
      "model_name": "ButtonStyleModel",
      "state": {}
     },
     "ce7d61a1e55f44fa8fe0bb847bf5f606": {
      "model_module": "@jupyter-widgets/output",
      "model_module_version": "1.0.0",
      "model_name": "OutputModel",
      "state": {
       "layout": "IPY_MODEL_ba458ffce3914ce0b6ea9de9d2d00eff",
       "outputs": [
        {
         "data": {
          "text/html": "<h3>Motivation</h3>",
          "text/plain": "<cassini.ipygui.WHTML at 0x2707849f588>"
         },
         "metadata": {},
         "output_type": "display_data"
        }
       ]
      }
     },
     "d0894869c59448af878975e914431a32": {
      "model_module": "@jupyter-widgets/base",
      "model_module_version": "1.2.0",
      "model_name": "LayoutModel",
      "state": {}
     },
     "d0c96818e47b4e648da2fbae414b48e0": {
      "model_module": "@jupyter-widgets/base",
      "model_module_version": "1.2.0",
      "model_name": "LayoutModel",
      "state": {}
     },
     "d2bb8cb25eff4edb8a168ea76d5ca41f": {
      "model_module": "@jupyter-widgets/controls",
      "model_module_version": "1.5.0",
      "model_name": "TextModel",
      "state": {
       "description": "Identifier",
       "layout": "IPY_MODEL_2f3229650ea8481482638846a9ab15f9",
       "placeholder": "(\\d+)",
       "style": "IPY_MODEL_653f55dbb4f041508ecccd980f8b8973"
      }
     },
     "d4081881c50741f1ba40b685774c6c94": {
      "model_module": "@jupyter-widgets/controls",
      "model_module_version": "1.5.0",
      "model_name": "SelectModel",
      "state": {
       "_options_labels": [
        "Experiment.tmplt.ipynb"
       ],
       "description": "Template",
       "index": 0,
       "layout": "IPY_MODEL_f1f06c3115d44f3ebc6354fc3d1d3410",
       "style": "IPY_MODEL_8ea6d4c213cd438d8c9c64085a46b059"
      }
     },
     "d40fd8fb5e6440d79037ca8a514e0332": {
      "model_module": "@jupyter-widgets/output",
      "model_module_version": "1.0.0",
      "model_name": "OutputModel",
      "state": {
       "layout": "IPY_MODEL_eb4e4ba015214640a91beafe9404b6f1",
       "outputs": [
        {
         "data": {
          "text/html": "<h3>Experiments</h3>",
          "text/plain": "<cassini.ipygui.WHTML at 0x2707011b048>"
         },
         "metadata": {},
         "output_type": "display_data"
        }
       ]
      }
     },
     "d41a3385ecef4d88b9b61c5650961fcf": {
      "model_module": "@jupyter-widgets/controls",
      "model_module_version": "1.5.0",
      "model_name": "VBoxModel",
      "state": {
       "children": [
        "IPY_MODEL_d45d45c9513e4af6bad78bb7904bf0b9",
        "IPY_MODEL_7b510debe8724aae9bacc7d53623542a",
        "IPY_MODEL_74c6fd6e5c9c44eb9a89b5f590d364c3",
        "IPY_MODEL_50105accfdea409882e4bde7a562b1a8",
        "IPY_MODEL_3c5fc2834f12465b92ffd1b7850cf593",
        "IPY_MODEL_aeee4f744b5642708191c7555ab9e90c",
        "IPY_MODEL_ec46e213233543fbadbc37d45b22b5c8"
       ],
       "layout": "IPY_MODEL_2bc00b13e78344449f69acca45108bca"
      }
     },
     "d45d45c9513e4af6bad78bb7904bf0b9": {
      "model_module": "@jupyter-widgets/controls",
      "model_module_version": "1.5.0",
      "model_name": "VBoxModel",
      "state": {
       "children": [
        "IPY_MODEL_2ebfc108b5c7460a831ffba6b94dca23",
        "IPY_MODEL_0bb352b53f6d4a14ab414d72665e99d9"
       ],
       "layout": "IPY_MODEL_2ef7072f60a64d0b89ea7bf46f8f73fd"
      }
     },
     "d545e9da3bfb40fcae6e924326459368": {
      "model_module": "@jupyter-widgets/base",
      "model_module_version": "1.2.0",
      "model_name": "LayoutModel",
      "state": {}
     },
     "d61e1dbaad074f93aefdcb99552ef960": {
      "model_module": "@jupyter-widgets/output",
      "model_module_version": "1.0.0",
      "model_name": "OutputModel",
      "state": {
       "layout": "IPY_MODEL_1b7b016d0ff44dd2822362f3875cbff2"
      }
     },
     "d6214cb6e4fe4dc9b18a0e7c10513895": {
      "model_module": "@jupyter-widgets/base",
      "model_module_version": "1.2.0",
      "model_name": "LayoutModel",
      "state": {}
     },
     "d63b1d12015e4bc0aa724223435230e9": {
      "model_module": "@jupyter-widgets/base",
      "model_module_version": "1.2.0",
      "model_name": "LayoutModel",
      "state": {}
     },
     "d6453ff2c225451dadbe5d74b4ff3c81": {
      "model_module": "@jupyter-widgets/controls",
      "model_module_version": "1.5.0",
      "model_name": "DescriptionStyleModel",
      "state": {
       "description_width": "10%"
      }
     },
     "d6508523d7684f24b73e01c341c559bf": {
      "model_module": "@jupyter-widgets/controls",
      "model_module_version": "1.5.0",
      "model_name": "HBoxModel",
      "state": {
       "children": [
        "IPY_MODEL_69267624e0f944f5ad65aee110c36f9c",
        "IPY_MODEL_157609c528884aa48deb8081559795a3"
       ],
       "layout": "IPY_MODEL_b6f0be4981af4921994b141d7f72f10c"
      }
     },
     "d7739716662443cdbc4935fb04e0c42a": {
      "model_module": "@jupyter-widgets/base",
      "model_module_version": "1.2.0",
      "model_name": "LayoutModel",
      "state": {}
     },
     "d899fc8517c248c187e5c932787540c8": {
      "model_module": "@jupyter-widgets/controls",
      "model_module_version": "1.5.0",
      "model_name": "ButtonModel",
      "state": {
       "description": "Folder",
       "layout": "IPY_MODEL_5274a4847fc346afb07d47301db03b67",
       "style": "IPY_MODEL_745d41301b6c49bf808d4e30e798e3e1"
      }
     },
     "d8a6a59309b644ea854f8990e593efde": {
      "model_module": "@jupyter-widgets/base",
      "model_module_version": "1.2.0",
      "model_name": "LayoutModel",
      "state": {}
     },
     "d8d0ed6bd1a548c7b66d6cf62422f538": {
      "model_module": "@jupyter-widgets/base",
      "model_module_version": "1.2.0",
      "model_name": "LayoutModel",
      "state": {}
     },
     "d9673df4e93e4570a6b6bb10947cc581": {
      "model_module": "@jupyter-widgets/controls",
      "model_module_version": "1.5.0",
      "model_name": "ButtonModel",
      "state": {
       "description": "Folder",
       "layout": "IPY_MODEL_7821c267a3e74dc4924d6eb6af84e3a5",
       "style": "IPY_MODEL_c0222974902a496da5f16c7cb195a051"
      }
     },
     "dac6ffb2a06444f3bec380208d6a8d69": {
      "model_module": "@jupyter-widgets/base",
      "model_module_version": "1.2.0",
      "model_name": "LayoutModel",
      "state": {}
     },
     "dca8aa244cc7486fbbf8d92d5ad4b5c7": {
      "model_module": "@jupyter-widgets/controls",
      "model_module_version": "1.5.0",
      "model_name": "SelectModel",
      "state": {
       "_options_labels": [
        "Experiment.tmplt.ipynb"
       ],
       "description": "Template",
       "index": 0,
       "layout": "IPY_MODEL_9eae9e5ab5e14d3b954e6b03c9266fa9",
       "style": "IPY_MODEL_9e596dc2c21947168391e95c6c70169c"
      }
     },
     "dcc1711927f54b049b9a9ff781db6dc3": {
      "model_module": "@jupyter-widgets/controls",
      "model_module_version": "1.5.0",
      "model_name": "ButtonModel",
      "state": {
       "description": "Folder",
       "layout": "IPY_MODEL_f295eda2b5bb4286a485968b264b3074",
       "style": "IPY_MODEL_4c4e3c39797c4ca8aa677fa9af9d1ef7"
      }
     },
     "dd0cc6b7901541aba22bd6e3056b30db": {
      "model_module": "@jupyter-widgets/controls",
      "model_module_version": "1.5.0",
      "model_name": "TextareaModel",
      "state": {
       "description": "Motivation",
       "layout": "IPY_MODEL_e386802eef2b4e009c1cdbbc3f0c067b",
       "style": "IPY_MODEL_c9c5e2739df04881bffa84498367f005"
      }
     },
     "ddb908533d9d418d86b5565dd43b96a1": {
      "model_module": "@jupyter-widgets/controls",
      "model_module_version": "1.5.0",
      "model_name": "ButtonModel",
      "state": {
       "description": "New",
       "layout": "IPY_MODEL_6ac0c1ca21284d00a002ee371e473589",
       "style": "IPY_MODEL_1e5be06217d447c595e7f5490942fabe"
      }
     },
     "de0fa2039a394e32b3cedd28cd0b3e1f": {
      "model_module": "@jupyter-widgets/controls",
      "model_module_version": "1.5.0",
      "model_name": "VBoxModel",
      "state": {
       "children": [
        "IPY_MODEL_39f1766aeefa437a82e8a6092cb73911",
        "IPY_MODEL_d9673df4e93e4570a6b6bb10947cc581"
       ],
       "layout": "IPY_MODEL_5bfdd5d0b1ab4637ad2569992c471fdc"
      }
     },
     "de3b5bbb25db4f4087ad3154062d9f6c": {
      "model_module": "@jupyter-widgets/controls",
      "model_module_version": "1.5.0",
      "model_name": "TextModel",
      "state": {
       "description": "Identifier",
       "layout": "IPY_MODEL_25791f3afec34b9085aca91a6b005f97",
       "placeholder": "(\\d+)",
       "style": "IPY_MODEL_055debb30c504d458167538b8c99db42"
      }
     },
     "debb9beaf780422b903562912b255ba0": {
      "model_module": "@jupyter-widgets/base",
      "model_module_version": "1.2.0",
      "model_name": "LayoutModel",
      "state": {
       "width": "auto"
      }
     },
     "df6bbce67c9647d3ab299db09c2e213d": {
      "model_module": "@jupyter-widgets/base",
      "model_module_version": "1.2.0",
      "model_name": "LayoutModel",
      "state": {
       "width": "auto"
      }
     },
     "df91e704278d446588b950b5f3d2259a": {
      "model_module": "@jupyter-widgets/controls",
      "model_module_version": "1.5.0",
      "model_name": "DescriptionStyleModel",
      "state": {
       "description_width": "10%"
      }
     },
     "e02d14e6290e44cea5bae0487630e835": {
      "model_module": "@jupyter-widgets/controls",
      "model_module_version": "1.5.0",
      "model_name": "TextareaModel",
      "state": {
       "description": "Motivation",
       "disabled": true,
       "layout": "IPY_MODEL_2cbf9f68aa604aeface406540b8dd89f",
       "style": "IPY_MODEL_097d4d197f8e47698720230a1027c429"
      }
     },
     "e03a894ea33c46beb86579102e1ec172": {
      "model_module": "@jupyter-widgets/output",
      "model_module_version": "1.0.0",
      "model_name": "OutputModel",
      "state": {
       "layout": "IPY_MODEL_ebb5f6898efd4973b14f2a0b6ae933d3",
       "outputs": [
        {
         "data": {
          "text/html": "<h3>Motivation</h3>",
          "text/plain": "<cassini.ipygui.WHTML at 0x2707862f470>"
         },
         "metadata": {},
         "output_type": "display_data"
        }
       ]
      }
     },
     "e04a4c0760ee4d0ea40d269d57b06348": {
      "model_module": "@jupyter-widgets/output",
      "model_module_version": "1.0.0",
      "model_name": "OutputModel",
      "state": {
       "layout": "IPY_MODEL_b9e244a0a1694ab896326d0c94351c5f",
       "outputs": [
        {
         "data": {
          "text/markdown": "Gobble Gobble",
          "text/plain": "<IPython.core.display.Markdown object>"
         },
         "metadata": {},
         "output_type": "display_data"
        }
       ]
      }
     },
     "e059718e718b4e8987b89fc90f13dd43": {
      "model_module": "@jupyter-widgets/controls",
      "model_module_version": "1.5.0",
      "model_name": "SelectModel",
      "state": {
       "_options_labels": [
        "Experiment.tmplt.ipynb"
       ],
       "description": "Template",
       "disabled": true,
       "index": 0,
       "layout": "IPY_MODEL_fd0b5b4c99e4460499552ee37f5ab738",
       "style": "IPY_MODEL_a317cf2d2a0e4fcc9ec1f83eed1f42d8"
      }
     },
     "e386802eef2b4e009c1cdbbc3f0c067b": {
      "model_module": "@jupyter-widgets/base",
      "model_module_version": "1.2.0",
      "model_name": "LayoutModel",
      "state": {
       "width": "auto"
      }
     },
     "e3aad8af9d814c0e8558287c46c377a8": {
      "model_module": "@jupyter-widgets/base",
      "model_module_version": "1.2.0",
      "model_name": "LayoutModel",
      "state": {}
     },
     "e4494dd3076443db801ef50dfd60df50": {
      "model_module": "@jupyter-widgets/base",
      "model_module_version": "1.2.0",
      "model_name": "LayoutModel",
      "state": {}
     },
     "e5bb7fe3bb304ea78ba6b72aa0373e3f": {
      "model_module": "@jupyter-widgets/output",
      "model_module_version": "1.0.0",
      "model_name": "OutputModel",
      "state": {
       "layout": "IPY_MODEL_f6179384406649dc8601ab585659f966",
       "outputs": [
        {
         "data": {
          "text/markdown": "Gobble Gobble",
          "text/plain": "<IPython.core.display.Markdown object>"
         },
         "metadata": {},
         "output_type": "display_data"
        }
       ]
      }
     },
     "e5e8f5f51e5e4a5996d35e713ba8d795": {
      "model_module": "@jupyter-widgets/controls",
      "model_module_version": "1.5.0",
      "model_name": "ButtonModel",
      "state": {
       "description": "Folder",
       "layout": "IPY_MODEL_2b3184b5353e4be8a9165b8fc88b3840",
       "style": "IPY_MODEL_c321458e90374183b12749eb72da5f38"
      }
     },
     "e64e8599ff4e4fa8a797b76cce01ab63": {
      "model_module": "@jupyter-widgets/base",
      "model_module_version": "1.2.0",
      "model_name": "LayoutModel",
      "state": {}
     },
     "e686bc764c0f4e5fb1c86a12b98ed5f8": {
      "model_module": "@jupyter-widgets/base",
      "model_module_version": "1.2.0",
      "model_name": "LayoutModel",
      "state": {
       "width": "auto"
      }
     },
     "e69ddb108d2b4bb3b58c57496dc553ea": {
      "model_module": "@jupyter-widgets/output",
      "model_module_version": "1.0.0",
      "model_name": "OutputModel",
      "state": {
       "layout": "IPY_MODEL_ec4566d55e5a4f75986a983dede81a9b",
       "outputs": [
        {
         "data": {
          "text/html": "<h3>Experiments</h3>",
          "text/plain": "<cassini.ipygui.WHTML at 0x2707011bbe0>"
         },
         "metadata": {},
         "output_type": "display_data"
        }
       ]
      }
     },
     "e6f5f17430394621b6504b8595a3a078": {
      "model_module": "@jupyter-widgets/controls",
      "model_module_version": "1.5.0",
      "model_name": "ButtonModel",
      "state": {
       "description": "Folder",
       "layout": "IPY_MODEL_02bb80a5e8554d6c9d0149e4ecd81d07",
       "style": "IPY_MODEL_be70cf5b55e345e895780bd80382b20d"
      }
     },
     "e72ad825d58345f388c6eb55135b62b3": {
      "model_module": "@jupyter-widgets/base",
      "model_module_version": "1.2.0",
      "model_name": "LayoutModel",
      "state": {
       "width": "auto"
      }
     },
     "e7cf3c5902c1413abd126d5da774007a": {
      "model_module": "@jupyter-widgets/base",
      "model_module_version": "1.2.0",
      "model_name": "LayoutModel",
      "state": {}
     },
     "e896db64ae0a4600aa94ac8a262672a9": {
      "model_module": "@jupyter-widgets/controls",
      "model_module_version": "1.5.0",
      "model_name": "VBoxModel",
      "state": {
       "children": [
        "IPY_MODEL_aa9e3771b5fa497483f4054b6118353b",
        "IPY_MODEL_20a869731b88415dbf4823cb769bfe53"
       ],
       "layout": "IPY_MODEL_d0c96818e47b4e648da2fbae414b48e0"
      }
     },
     "ea48f7d91c0445fcb4d1fed477a8641a": {
      "model_module": "@jupyter-widgets/controls",
      "model_module_version": "1.5.0",
      "model_name": "DescriptionStyleModel",
      "state": {
       "description_width": "10%"
      }
     },
     "eaa8a1ddf087409e97d2a229d7daf665": {
      "model_module": "@jupyter-widgets/base",
      "model_module_version": "1.2.0",
      "model_name": "LayoutModel",
      "state": {}
     },
     "eac61ab549e849649ea4e77bbbb7f7d7": {
      "model_module": "@jupyter-widgets/base",
      "model_module_version": "1.2.0",
      "model_name": "LayoutModel",
      "state": {}
     },
     "eb14af39ef4f47fc818959a253ba7df3": {
      "model_module": "@jupyter-widgets/base",
      "model_module_version": "1.2.0",
      "model_name": "LayoutModel",
      "state": {}
     },
     "eb4e4ba015214640a91beafe9404b6f1": {
      "model_module": "@jupyter-widgets/base",
      "model_module_version": "1.2.0",
      "model_name": "LayoutModel",
      "state": {}
     },
     "ebb5f6898efd4973b14f2a0b6ae933d3": {
      "model_module": "@jupyter-widgets/base",
      "model_module_version": "1.2.0",
      "model_name": "LayoutModel",
      "state": {}
     },
     "ec0ed4f64f6a4cd8a5e0652859eb15c5": {
      "model_module": "@jupyter-widgets/output",
      "model_module_version": "1.0.0",
      "model_name": "OutputModel",
      "state": {
       "layout": "IPY_MODEL_52e7481d1657478ba60369f2b2c5b97b"
      }
     },
     "ec185fb2868e4dd18eae32ba9056d5ec": {
      "model_module": "@jupyter-widgets/base",
      "model_module_version": "1.2.0",
      "model_name": "LayoutModel",
      "state": {}
     },
     "ec4566d55e5a4f75986a983dede81a9b": {
      "model_module": "@jupyter-widgets/base",
      "model_module_version": "1.2.0",
      "model_name": "LayoutModel",
      "state": {}
     },
     "ec46e213233543fbadbc37d45b22b5c8": {
      "model_module": "@jupyter-widgets/controls",
      "model_module_version": "1.5.0",
      "model_name": "VBoxModel",
      "state": {
       "children": [
        "IPY_MODEL_569dc2b37a0e4a7c90aea12c57830cfc",
        "IPY_MODEL_d4081881c50741f1ba40b685774c6c94",
        "IPY_MODEL_dd0cc6b7901541aba22bd6e3056b30db",
        "IPY_MODEL_912522715eb4450398ff8228b9403877",
        "IPY_MODEL_ff90b3d1dfe341bf93c80437448319e2"
       ],
       "layout": "IPY_MODEL_eb14af39ef4f47fc818959a253ba7df3"
      }
     },
     "eccf08ba53a946c5aa1d020d6954e63c": {
      "model_module": "@jupyter-widgets/controls",
      "model_module_version": "1.5.0",
      "model_name": "ButtonModel",
      "state": {
       "description": "Confirm",
       "disabled": true,
       "layout": "IPY_MODEL_77ce9fbe7c8e4c65b2489c56e6a693f6",
       "style": "IPY_MODEL_aee0b21af498456e8a3c13a1d9a1948e"
      }
     },
     "efc36f114a5f447090e52eeda8523486": {
      "model_module": "@jupyter-widgets/base",
      "model_module_version": "1.2.0",
      "model_name": "LayoutModel",
      "state": {}
     },
     "efc7f26613524c8481cc9e625aacc975": {
      "model_module": "@jupyter-widgets/output",
      "model_module_version": "1.0.0",
      "model_name": "OutputModel",
      "state": {
       "layout": "IPY_MODEL_1c6ce6b9273e45ee8aa15e135786648c",
       "outputs": [
        {
         "data": {
          "text/markdown": "Gobble Gobble",
          "text/plain": "<IPython.core.display.Markdown object>"
         },
         "metadata": {},
         "output_type": "display_data"
        }
       ]
      }
     },
     "f0afee3ebde54068a8e6189902ec651a": {
      "model_module": "@jupyter-widgets/base",
      "model_module_version": "1.2.0",
      "model_name": "LayoutModel",
      "state": {
       "width": "auto"
      }
     },
     "f1f06c3115d44f3ebc6354fc3d1d3410": {
      "model_module": "@jupyter-widgets/base",
      "model_module_version": "1.2.0",
      "model_name": "LayoutModel",
      "state": {
       "width": "auto"
      }
     },
     "f2393faa92244a8b8422328fc1336502": {
      "model_module": "@jupyter-widgets/controls",
      "model_module_version": "1.5.0",
      "model_name": "ButtonStyleModel",
      "state": {}
     },
     "f295eda2b5bb4286a485968b264b3074": {
      "model_module": "@jupyter-widgets/base",
      "model_module_version": "1.2.0",
      "model_name": "LayoutModel",
      "state": {}
     },
     "f334afe8d85246aa91df3282e0a8950e": {
      "model_module": "@jupyter-widgets/controls",
      "model_module_version": "1.5.0",
      "model_name": "TextareaModel",
      "state": {
       "description": "Motivation",
       "disabled": true,
       "layout": "IPY_MODEL_88fe22815fd14ff1a55d1cfd75341b93",
       "style": "IPY_MODEL_944f5d54a60a4584b2a7654951bc4a65",
       "value": "Fine"
      }
     },
     "f3e2c372bf414bebb5fa40523643c89a": {
      "model_module": "@jupyter-widgets/controls",
      "model_module_version": "1.5.0",
      "model_name": "VBoxModel",
      "state": {
       "children": [
        "IPY_MODEL_1dcc2b0112bf4c7aa2ca0097e3300d6f",
        "IPY_MODEL_836e1ceabf4a42c1a5e8914ecb37ec2e",
        "IPY_MODEL_137534b9be2c49d2b84058b724054f9b",
        "IPY_MODEL_8f7d81c37b91419d9f94b291b6f77357",
        "IPY_MODEL_28a3c8a9531747618fdf9aae97af8486"
       ],
       "layout": "IPY_MODEL_ccbffde57aba4d3da4b00725455979dd"
      }
     },
     "f587ca8025da494b8e876f6ea5012d5a": {
      "model_module": "@jupyter-widgets/base",
      "model_module_version": "1.2.0",
      "model_name": "LayoutModel",
      "state": {}
     },
     "f5d821ee25b941b0bb18ddcb28404ef5": {
      "model_module": "@jupyter-widgets/controls",
      "model_module_version": "1.5.0",
      "model_name": "TextModel",
      "state": {
       "description": "Identifier",
       "layout": "IPY_MODEL_6e2d6313bf624277a33cca1fe71e7785",
       "placeholder": "(\\d+)",
       "style": "IPY_MODEL_8a6d173647d240d5b1f1de8c1cdecadd"
      }
     },
     "f6179384406649dc8601ab585659f966": {
      "model_module": "@jupyter-widgets/base",
      "model_module_version": "1.2.0",
      "model_name": "LayoutModel",
      "state": {}
     },
     "f6259219ce184b58a90772a24a99c771": {
      "model_module": "@jupyter-widgets/controls",
      "model_module_version": "1.5.0",
      "model_name": "DescriptionStyleModel",
      "state": {
       "description_width": "10%"
      }
     },
     "f7d63c940885460b9cb981fa805d3a7e": {
      "model_module": "@jupyter-widgets/controls",
      "model_module_version": "1.5.0",
      "model_name": "VBoxModel",
      "state": {
       "children": [
        "IPY_MODEL_515fb8392ad64d3ca4a39e0d7eee60ee",
        "IPY_MODEL_e6f5f17430394621b6504b8595a3a078"
       ],
       "layout": "IPY_MODEL_5d0f253ac34749cba577ac5f1c39ea8d"
      }
     },
     "f8c355b7783f4f7bbbf74bb875920a1c": {
      "model_module": "@jupyter-widgets/output",
      "model_module_version": "1.0.0",
      "model_name": "OutputModel",
      "state": {
       "layout": "IPY_MODEL_2bedcc75ecb94cc29f6d4914e617d690",
       "outputs": [
        {
         "data": {
          "text/html": "<h3>Motivation</h3>",
          "text/plain": "<cassini.ipygui.WHTML at 0x2707011b048>"
         },
         "metadata": {},
         "output_type": "display_data"
        }
       ]
      }
     },
     "f9b16615678444aab29bea4904b4fe29": {
      "model_module": "@jupyter-widgets/base",
      "model_module_version": "1.2.0",
      "model_name": "LayoutModel",
      "state": {
       "width": "auto"
      }
     },
     "f9ba223477ba4beebe8e2dfe71705618": {
      "model_module": "@jupyter-widgets/base",
      "model_module_version": "1.2.0",
      "model_name": "LayoutModel",
      "state": {}
     },
     "fa027c4ebebc4688aa4bba8111f7c14d": {
      "model_module": "@jupyter-widgets/controls",
      "model_module_version": "1.5.0",
      "model_name": "TextareaModel",
      "state": {
       "description": "Motivation",
       "layout": "IPY_MODEL_f9b16615678444aab29bea4904b4fe29",
       "style": "IPY_MODEL_b0aa1311a3514ce2b4a40ce0899190d9"
      }
     },
     "fa2fbc6c7be542f39cc75838548b5635": {
      "model_module": "@jupyter-widgets/controls",
      "model_module_version": "1.5.0",
      "model_name": "ButtonStyleModel",
      "state": {}
     },
     "fa7367a18aaa492497b9f46a3feb49a2": {
      "model_module": "@jupyter-widgets/output",
      "model_module_version": "1.0.0",
      "model_name": "OutputModel",
      "state": {
       "layout": "IPY_MODEL_fc0038dd18ec4699aa115c16b8bf4d22"
      }
     },
     "fa8721871f994d63a68a87b3e1e127de": {
      "model_module": "@jupyter-widgets/output",
      "model_module_version": "1.0.0",
      "model_name": "OutputModel",
      "state": {
       "layout": "IPY_MODEL_2dad5a87d058486689f99166c3e70d89",
       "outputs": [
        {
         "data": {
          "text/html": "<a href=\"WP1/WP1.1.ipynb\" target=\"_blank\"><h3 style=\"display: inline;\">WP1.1</h3 style=\"display: inline;\"</a>",
          "text/plain": "<cassini.ipygui.WHTML at 0x270784c7128>"
         },
         "metadata": {},
         "output_type": "display_data"
        }
       ]
      }
     },
     "fbf8c00d44bf4e519bb5a74c827e0e52": {
      "model_module": "@jupyter-widgets/base",
      "model_module_version": "1.2.0",
      "model_name": "LayoutModel",
      "state": {}
     },
     "fc0038dd18ec4699aa115c16b8bf4d22": {
      "model_module": "@jupyter-widgets/base",
      "model_module_version": "1.2.0",
      "model_name": "LayoutModel",
      "state": {}
     },
     "fd0b5b4c99e4460499552ee37f5ab738": {
      "model_module": "@jupyter-widgets/base",
      "model_module_version": "1.2.0",
      "model_name": "LayoutModel",
      "state": {
       "width": "auto"
      }
     },
     "fd3987e335294027bd7c6f387459a21a": {
      "model_module": "@jupyter-widgets/output",
      "model_module_version": "1.0.0",
      "model_name": "OutputModel",
      "state": {
       "layout": "IPY_MODEL_91b981da68644a96a5001cbbe302760f",
       "outputs": [
        {
         "data": {
          "text/html": "<h3>Experiments</h3>",
          "text/plain": "<cassini.ipygui.WHTML at 0x270784b9b70>"
         },
         "metadata": {},
         "output_type": "display_data"
        }
       ]
      }
     },
     "fda832435d6f427dba69fa8521fe63c5": {
      "model_module": "@jupyter-widgets/controls",
      "model_module_version": "1.5.0",
      "model_name": "HBoxModel",
      "state": {
       "children": [
        "IPY_MODEL_81ba8fa7b9864d989ce6cf30a3c99c87",
        "IPY_MODEL_13b55ce6dbc9448793ad4705d3daa5f7"
       ],
       "layout": "IPY_MODEL_1c37948fbc8140538c56d34d1be6a796"
      }
     },
     "ff6417ad95e3478c9c6c2d42851dff98": {
      "model_module": "@jupyter-widgets/controls",
      "model_module_version": "1.5.0",
      "model_name": "VBoxModel",
      "state": {
       "children": [
        "IPY_MODEL_668c3cf1c8c74b139ef0f35f4fa0ee2f",
        "IPY_MODEL_7da4bd6ebfa3457593da0a48a06fe1e7",
        "IPY_MODEL_305730bac2e04b8ea7e13c2bdf8ec138",
        "IPY_MODEL_8bd6243e2337440491ddb3eceb98aa4c",
        "IPY_MODEL_fa7367a18aaa492497b9f46a3feb49a2"
       ],
       "layout": "IPY_MODEL_433e55cc2ab348a8a41e8b1bcb97b21d"
      }
     },
     "ff87f3809a554ff08d877d7d86d9bf66": {
      "model_module": "@jupyter-widgets/controls",
      "model_module_version": "1.5.0",
      "model_name": "VBoxModel",
      "state": {
       "children": [
        "IPY_MODEL_1e6fbde25120463085b9c9603b381bf1",
        "IPY_MODEL_e03a894ea33c46beb86579102e1ec172",
        "IPY_MODEL_efc7f26613524c8481cc9e625aacc975",
        "IPY_MODEL_513e1f0951bb4dcb9761fb2426d72aca",
        "IPY_MODEL_94779d7a7a1f429b864b2fe74d34f76e",
        "IPY_MODEL_c23db8c9d80b42c4916c4db12f4332d7",
        "IPY_MODEL_811e9843b1f54a1e8d601be0ae234403"
       ],
       "layout": "IPY_MODEL_2e6c556664b74f718c690848e4abf8d2"
      }
     },
     "ff90b3d1dfe341bf93c80437448319e2": {
      "model_module": "@jupyter-widgets/output",
      "model_module_version": "1.0.0",
      "model_name": "OutputModel",
      "state": {
       "layout": "IPY_MODEL_a17007102ba14b57bbf6b0059a06fdfe"
      }
     }
    },
    "version_major": 2,
    "version_minor": 0
   }
  }
 },
 "nbformat": 4,
 "nbformat_minor": 4
}
