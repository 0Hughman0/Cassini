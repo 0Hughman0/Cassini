{
 "cells": [
  {
   "cell_type": "code",
   "execution_count": 1,
   "metadata": {
    "pycharm": {
     "name": "#%%\n"
    }
   },
   "outputs": [
    {
     "name": "stderr",
     "output_type": "stream",
     "text": [
      "D:\\Documents\\Programin\\venvs\\cassini\\cassini-dev\\lib\\site-packages\\jupyter_server\\transutils.py:13: FutureWarning: The alias `_()` will be deprecated. Use `_i18n()` instead.\n",
      "  warnings.warn(warn_msg, FutureWarning)\n"
     ]
    },
    {
     "data": {
      "application/vnd.jupyter.widget-view+json": {
       "model_id": "9eef07ee2bf24c259d5fd0ae827e4a10",
       "version_major": 2,
       "version_minor": 0
      },
      "text/plain": [
       "VBox(children=(VBox(children=(Output(), Button(description='Folder', style=ButtonStyle()))), Output(), Output(…"
      ]
     },
     "metadata": {},
     "output_type": "display_data"
    }
   ],
   "source": [
    "from project import project\n",
    "\n",
    "wp = project.env('WP4')\n",
    "wp.gui.header()"
   ]
  }
 ],
 "metadata": {
  "kernelspec": {
   "display_name": "Python 3",
   "language": "python",
   "name": "python3"
  },
  "language_info": {
   "codemirror_mode": {
    "name": "ipython",
    "version": 3
   },
   "file_extension": ".py",
   "mimetype": "text/x-python",
   "name": "python",
   "nbconvert_exporter": "python",
   "pygments_lexer": "ipython3",
   "version": "3.7.2"
  },
  "pycharm": {
   "stem_cell": {
    "cell_type": "raw",
    "metadata": {
     "collapsed": false
    },
    "source": []
   }
  },
  "widgets": {
   "application/vnd.jupyter.widget-state+json": {
    "state": {
     "0da7c69c38204fe1be109e48ff7aa1a0": {
      "model_module": "@jupyter-widgets/controls",
      "model_module_version": "1.5.0",
      "model_name": "ButtonModel",
      "state": {
       "description": "Confirm",
       "disabled": true,
       "layout": "IPY_MODEL_53c719bfac114dab868e089113aaac68",
       "style": "IPY_MODEL_c40ca704aa17420db8daf425e960efc0"
      }
     },
     "1106a37c94814cfe979b8f5c537db388": {
      "model_module": "@jupyter-widgets/output",
      "model_module_version": "1.0.0",
      "model_name": "OutputModel",
      "state": {
       "layout": "IPY_MODEL_a69f288c385140f39f677b03f84ca18b",
       "outputs": [
        {
         "data": {
          "text/html": "<h3>New Experiment</h3>",
          "text/plain": "<cassini.ipygui.WHTML at 0x24f11de45f8>"
         },
         "metadata": {},
         "output_type": "display_data"
        }
       ]
      }
     },
     "16c91c94e57e400fa07ef42506f79851": {
      "model_module": "@jupyter-widgets/base",
      "model_module_version": "1.2.0",
      "model_name": "LayoutModel",
      "state": {}
     },
     "1ab3d29b6a3c47c2903c733e0f706bc0": {
      "model_module": "@jupyter-widgets/output",
      "model_module_version": "1.0.0",
      "model_name": "OutputModel",
      "state": {
       "layout": "IPY_MODEL_d6ff94dc9a564adaa5411596e75829ed",
       "outputs": [
        {
         "data": {
          "text/html": "<table border=\"1\" class=\"dataframe\">\n  <thead>\n    <tr style=\"text-align: right;\">\n      <th></th>\n      <th>started</th>\n      <th>description</th>\n      <th>Obj</th>\n    </tr>\n    <tr>\n      <th>Name</th>\n      <th></th>\n      <th></th>\n      <th></th>\n    </tr>\n  </thead>\n  <tbody>\n    <tr>\n      <th>WP4.2</th>\n      <td>2020-06-29</td>\n      <td>Slightly smaller aim.</td>\n      <td><a href=\"WP4/WP4.2.ipynb\" target=\"_blank\"><h3 style=\"display: inline;\">WP4.2</h3 style=\"display: inline;\"</a></td>\n    </tr>\n  </tbody>\n</table>",
          "text/plain": "         started            description                   Obj\nName                                                         \nWP4.2 2020-06-29  Slightly smaller aim.  <Experiment \"WP4.2\">"
         },
         "metadata": {},
         "output_type": "display_data"
        }
       ]
      }
     },
     "1ba2270483a448528a0c02a1f215a3d7": {
      "model_module": "@jupyter-widgets/output",
      "model_module_version": "1.0.0",
      "model_name": "OutputModel",
      "state": {
       "layout": "IPY_MODEL_6c1d99772a3a4b35832eb3484d034307"
      }
     },
     "2b8e2987fe644c5387ce8892121905e0": {
      "model_module": "@jupyter-widgets/controls",
      "model_module_version": "1.5.0",
      "model_name": "HBoxModel",
      "state": {
       "children": [
        "IPY_MODEL_0da7c69c38204fe1be109e48ff7aa1a0",
        "IPY_MODEL_9809f587292d4dd789a981f03f6e5435"
       ],
       "layout": "IPY_MODEL_ae1e5509ada14c16acf376a0ba84eda9"
      }
     },
     "2d6252a4234d4e3bab0a7abea7821453": {
      "model_module": "@jupyter-widgets/controls",
      "model_module_version": "1.5.0",
      "model_name": "DescriptionStyleModel",
      "state": {
       "description_width": "10%"
      }
     },
     "3a8f77512ff6411faf2be69cdcd78507": {
      "model_module": "@jupyter-widgets/base",
      "model_module_version": "1.2.0",
      "model_name": "LayoutModel",
      "state": {}
     },
     "413d7d691c5c426c9c9afdf78bafdcea": {
      "model_module": "@jupyter-widgets/base",
      "model_module_version": "1.2.0",
      "model_name": "LayoutModel",
      "state": {
       "width": "auto"
      }
     },
     "4482128c551d4402bab98a5f2462d13a": {
      "model_module": "@jupyter-widgets/output",
      "model_module_version": "1.0.0",
      "model_name": "OutputModel",
      "state": {
       "layout": "IPY_MODEL_6b5c9277cece4e80a2e4c80456e74ef5",
       "outputs": [
        {
         "data": {
          "text/html": "<h1 style=\"display: inline;\"><a href=\"WP4.ipynb\">WP4</a></h1><h3 style=\"display: inline;\">(<a href=\"../Home.ipynb\" target=\"_blank\">Home</a>)</h3>",
          "text/plain": "<cassini.ipygui.WHTML at 0x24f11d3f160>"
         },
         "metadata": {},
         "output_type": "display_data"
        }
       ]
      }
     },
     "454063f589d445189a7b267bd377de39": {
      "model_module": "@jupyter-widgets/controls",
      "model_module_version": "1.5.0",
      "model_name": "ButtonModel",
      "state": {
       "description": "Folder",
       "layout": "IPY_MODEL_7ae067a6e8664ca7accf183f2ea22637",
       "style": "IPY_MODEL_7ffcbe1ee31c439c91ae084c29c55bc6"
      }
     },
     "53c719bfac114dab868e089113aaac68": {
      "model_module": "@jupyter-widgets/base",
      "model_module_version": "1.2.0",
      "model_name": "LayoutModel",
      "state": {}
     },
     "5b5f21490a32488398c26e36f00b4a43": {
      "model_module": "@jupyter-widgets/controls",
      "model_module_version": "1.5.0",
      "model_name": "DescriptionStyleModel",
      "state": {
       "description_width": "10%"
      }
     },
     "5e7393b0629a455a88a886edb70cc81d": {
      "model_module": "@jupyter-widgets/base",
      "model_module_version": "1.2.0",
      "model_name": "LayoutModel",
      "state": {}
     },
     "6b5c9277cece4e80a2e4c80456e74ef5": {
      "model_module": "@jupyter-widgets/base",
      "model_module_version": "1.2.0",
      "model_name": "LayoutModel",
      "state": {}
     },
     "6c1d99772a3a4b35832eb3484d034307": {
      "model_module": "@jupyter-widgets/base",
      "model_module_version": "1.2.0",
      "model_name": "LayoutModel",
      "state": {
       "width": "auto"
      }
     },
     "7ae067a6e8664ca7accf183f2ea22637": {
      "model_module": "@jupyter-widgets/base",
      "model_module_version": "1.2.0",
      "model_name": "LayoutModel",
      "state": {}
     },
     "7ffcbe1ee31c439c91ae084c29c55bc6": {
      "model_module": "@jupyter-widgets/controls",
      "model_module_version": "1.5.0",
      "model_name": "ButtonStyleModel",
      "state": {}
     },
     "8647c648ebd445208e8e997a8fad4622": {
      "model_module": "@jupyter-widgets/base",
      "model_module_version": "1.2.0",
      "model_name": "LayoutModel",
      "state": {}
     },
     "9809f587292d4dd789a981f03f6e5435": {
      "model_module": "@jupyter-widgets/controls",
      "model_module_version": "1.5.0",
      "model_name": "ButtonModel",
      "state": {
       "description": "New",
       "layout": "IPY_MODEL_c8d70703fece43c08587ff9c40a02fa0",
       "style": "IPY_MODEL_cf54081c2a9840ecb8022584737b2236"
      }
     },
     "9eef07ee2bf24c259d5fd0ae827e4a10": {
      "model_module": "@jupyter-widgets/controls",
      "model_module_version": "1.5.0",
      "model_name": "VBoxModel",
      "state": {
       "children": [
        "IPY_MODEL_ae10a25f214f43c2b52f46b600de30ab",
        "IPY_MODEL_f1f8f07e6ca3480e867d8d8ce475be24",
        "IPY_MODEL_e25ec01f9332433091c26ebf8769f911",
        "IPY_MODEL_e4bf942a3cec4320b407988a4aa273e9",
        "IPY_MODEL_1ab3d29b6a3c47c2903c733e0f706bc0",
        "IPY_MODEL_1106a37c94814cfe979b8f5c537db388",
        "IPY_MODEL_eccc2ae3cfc24f14bd1a806b6d03eea4"
       ],
       "layout": "IPY_MODEL_16c91c94e57e400fa07ef42506f79851"
      }
     },
     "9f87774ec63e4148b77521f41fb0f7eb": {
      "model_module": "@jupyter-widgets/output",
      "model_module_version": "1.0.0",
      "model_name": "OutputModel",
      "state": {
       "layout": "IPY_MODEL_8647c648ebd445208e8e997a8fad4622"
      }
     },
     "a69f288c385140f39f677b03f84ca18b": {
      "model_module": "@jupyter-widgets/base",
      "model_module_version": "1.2.0",
      "model_name": "LayoutModel",
      "state": {}
     },
     "abf4df23f51b4f1a97767af2fd8aea9c": {
      "model_module": "@jupyter-widgets/controls",
      "model_module_version": "1.5.0",
      "model_name": "SelectModel",
      "state": {
       "_options_labels": [
        "Experiment.tmplt.ipynb"
       ],
       "description": "Template",
       "index": 0,
       "layout": "IPY_MODEL_ec45893c5b804f67bb6c2e2f36941edd",
       "style": "IPY_MODEL_2d6252a4234d4e3bab0a7abea7821453"
      }
     },
     "ae10a25f214f43c2b52f46b600de30ab": {
      "model_module": "@jupyter-widgets/controls",
      "model_module_version": "1.5.0",
      "model_name": "VBoxModel",
      "state": {
       "children": [
        "IPY_MODEL_4482128c551d4402bab98a5f2462d13a",
        "IPY_MODEL_454063f589d445189a7b267bd377de39"
       ],
       "layout": "IPY_MODEL_5e7393b0629a455a88a886edb70cc81d"
      }
     },
     "ae1e5509ada14c16acf376a0ba84eda9": {
      "model_module": "@jupyter-widgets/base",
      "model_module_version": "1.2.0",
      "model_name": "LayoutModel",
      "state": {}
     },
     "b74079f036114be391832ee9f912c808": {
      "model_module": "@jupyter-widgets/controls",
      "model_module_version": "1.5.0",
      "model_name": "DescriptionStyleModel",
      "state": {
       "description_width": "10%"
      }
     },
     "b7425d00d2494a3fab50d21fea3b5187": {
      "model_module": "@jupyter-widgets/base",
      "model_module_version": "1.2.0",
      "model_name": "LayoutModel",
      "state": {}
     },
     "c40ca704aa17420db8daf425e960efc0": {
      "model_module": "@jupyter-widgets/controls",
      "model_module_version": "1.5.0",
      "model_name": "ButtonStyleModel",
      "state": {}
     },
     "c8d70703fece43c08587ff9c40a02fa0": {
      "model_module": "@jupyter-widgets/base",
      "model_module_version": "1.2.0",
      "model_name": "LayoutModel",
      "state": {}
     },
     "cb8faab9d9234492a81ede197d10aea1": {
      "model_module": "@jupyter-widgets/base",
      "model_module_version": "1.2.0",
      "model_name": "LayoutModel",
      "state": {
       "width": "auto"
      }
     },
     "cf54081c2a9840ecb8022584737b2236": {
      "model_module": "@jupyter-widgets/controls",
      "model_module_version": "1.5.0",
      "model_name": "ButtonStyleModel",
      "state": {}
     },
     "d6ff94dc9a564adaa5411596e75829ed": {
      "model_module": "@jupyter-widgets/base",
      "model_module_version": "1.2.0",
      "model_name": "LayoutModel",
      "state": {}
     },
     "e25ec01f9332433091c26ebf8769f911": {
      "model_module": "@jupyter-widgets/output",
      "model_module_version": "1.0.0",
      "model_name": "OutputModel",
      "state": {
       "layout": "IPY_MODEL_efcbd42fc2824bdc9dfe6f198025671a",
       "outputs": [
        {
         "data": {
          "text/markdown": "Big aim",
          "text/plain": "<IPython.core.display.Markdown object>"
         },
         "metadata": {},
         "output_type": "display_data"
        }
       ]
      }
     },
     "e4bf942a3cec4320b407988a4aa273e9": {
      "model_module": "@jupyter-widgets/output",
      "model_module_version": "1.0.0",
      "model_name": "OutputModel",
      "state": {
       "layout": "IPY_MODEL_fd74dc5179d74dbc9a9db450accf1f0d",
       "outputs": [
        {
         "data": {
          "text/html": "<h3>Experiments</h3>",
          "text/plain": "<cassini.ipygui.WHTML at 0x24f11d3fba8>"
         },
         "metadata": {},
         "output_type": "display_data"
        }
       ]
      }
     },
     "ec45893c5b804f67bb6c2e2f36941edd": {
      "model_module": "@jupyter-widgets/base",
      "model_module_version": "1.2.0",
      "model_name": "LayoutModel",
      "state": {
       "width": "auto"
      }
     },
     "eccc2ae3cfc24f14bd1a806b6d03eea4": {
      "model_module": "@jupyter-widgets/controls",
      "model_module_version": "1.5.0",
      "model_name": "VBoxModel",
      "state": {
       "children": [
        "IPY_MODEL_eed71ddcefd44e7792942a727760da70",
        "IPY_MODEL_abf4df23f51b4f1a97767af2fd8aea9c",
        "IPY_MODEL_fdee6e1a929c456a820db662b1ef27bf",
        "IPY_MODEL_2b8e2987fe644c5387ce8892121905e0",
        "IPY_MODEL_9f87774ec63e4148b77521f41fb0f7eb"
       ],
       "layout": "IPY_MODEL_b7425d00d2494a3fab50d21fea3b5187"
      }
     },
     "eed71ddcefd44e7792942a727760da70": {
      "model_module": "@jupyter-widgets/controls",
      "model_module_version": "1.5.0",
      "model_name": "TextModel",
      "state": {
       "description": "Identifier",
       "layout": "IPY_MODEL_cb8faab9d9234492a81ede197d10aea1",
       "placeholder": "(\\d+)",
       "style": "IPY_MODEL_b74079f036114be391832ee9f912c808"
      }
     },
     "efcbd42fc2824bdc9dfe6f198025671a": {
      "model_module": "@jupyter-widgets/base",
      "model_module_version": "1.2.0",
      "model_name": "LayoutModel",
      "state": {}
     },
     "f1f8f07e6ca3480e867d8d8ce475be24": {
      "model_module": "@jupyter-widgets/output",
      "model_module_version": "1.0.0",
      "model_name": "OutputModel",
      "state": {
       "layout": "IPY_MODEL_3a8f77512ff6411faf2be69cdcd78507",
       "outputs": [
        {
         "data": {
          "text/html": "<h3>Description</h3>",
          "text/plain": "<cassini.ipygui.WHTML at 0x24f11d3fbe0>"
         },
         "metadata": {},
         "output_type": "display_data"
        }
       ]
      }
     },
     "fd74dc5179d74dbc9a9db450accf1f0d": {
      "model_module": "@jupyter-widgets/base",
      "model_module_version": "1.2.0",
      "model_name": "LayoutModel",
      "state": {}
     },
     "fdee6e1a929c456a820db662b1ef27bf": {
      "model_module": "@jupyter-widgets/controls",
      "model_module_version": "1.5.0",
      "model_name": "TextareaModel",
      "state": {
       "description": "Motivation",
       "layout": "IPY_MODEL_413d7d691c5c426c9c9afdf78bafdcea",
       "style": "IPY_MODEL_5b5f21490a32488398c26e36f00b4a43"
      }
     }
    },
    "version_major": 2,
    "version_minor": 0
   }
  }
 },
 "nbformat": 4,
 "nbformat_minor": 4
}
