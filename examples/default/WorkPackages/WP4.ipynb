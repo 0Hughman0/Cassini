{
 "cells": [
  {
   "cell_type": "code",
   "execution_count": 3,
   "metadata": {
    "pycharm": {
     "name": "#%%\n"
    }
   },
   "outputs": [
    {
     "data": {
      "application/vnd.jupyter.widget-view+json": {
       "model_id": "e62bb6e8c7bd4c478cc2cc0875fd60f5",
       "version_major": 2,
       "version_minor": 0
      },
      "text/plain": [
       "VBox(children=(VBox(children=(Output(), Button(description='Folder', style=ButtonStyle()))), Output(), Output(…"
      ]
     },
     "metadata": {},
     "output_type": "display_data"
    }
   ],
   "source": [
    "from project import project\n",
    "\n",
    "wp = project.env('WP4')\n",
    "wp.gui.header()"
   ]
  },
  {
   "cell_type": "code",
   "execution_count": null,
   "metadata": {},
   "outputs": [],
   "source": []
  }
 ],
 "metadata": {
  "kernelspec": {
   "display_name": "Python 3",
   "language": "python",
   "name": "python3"
  },
  "language_info": {
   "codemirror_mode": {
    "name": "ipython",
    "version": 3
   },
   "file_extension": ".py",
   "mimetype": "text/x-python",
   "name": "python",
   "nbconvert_exporter": "python",
   "pygments_lexer": "ipython3",
   "version": "3.7.2"
  },
  "pycharm": {
   "stem_cell": {
    "cell_type": "raw",
    "metadata": {
     "collapsed": false
    },
    "source": []
   }
  },
  "widgets": {
   "application/vnd.jupyter.widget-state+json": {
    "state": {
     "020ac372c0df4c019f6ca2c2dec57699": {
      "model_module": "@jupyter-widgets/controls",
      "model_module_version": "1.5.0",
      "model_name": "HBoxModel",
      "state": {
       "children": [
        "IPY_MODEL_3b7903199f10405895b45de104d2a387",
        "IPY_MODEL_40bc1ff9bff1453680d2b1e8f26ae4e4"
       ],
       "layout": "IPY_MODEL_ec6c3770ce164c038f4ec19e3a88b7b9"
      }
     },
     "02acef5a2cf74bd1ba987bbda59b319b": {
      "model_module": "@jupyter-widgets/output",
      "model_module_version": "1.0.0",
      "model_name": "OutputModel",
      "state": {
       "layout": "IPY_MODEL_09b17ce523ae47c092f0f4cfa4aea35d",
       "outputs": [
        {
         "data": {
          "text/html": "<a href=\"WP4/WP4.2.ipynb\" target=\"_blank\"><h3 style=\"display: inline;\">WP4.2</h3 style=\"display: inline;\"</a>",
          "text/plain": "<cassini.ipygui.WHTML at 0x266d66bd7b8>"
         },
         "metadata": {},
         "output_type": "display_data"
        }
       ]
      }
     },
     "0491dcbeec6f464a90c0568ad35cae59": {
      "model_module": "@jupyter-widgets/output",
      "model_module_version": "1.0.0",
      "model_name": "OutputModel",
      "state": {
       "layout": "IPY_MODEL_fc5e55091547458daa0219fdc991068b"
      }
     },
     "0596e7bdc0aa40d78f170433079c2d33": {
      "model_module": "@jupyter-widgets/controls",
      "model_module_version": "1.5.0",
      "model_name": "DescriptionStyleModel",
      "state": {
       "description_width": "10%"
      }
     },
     "08ffaab4607e41a882a167bc2c84e68c": {
      "model_module": "@jupyter-widgets/base",
      "model_module_version": "1.2.0",
      "model_name": "LayoutModel",
      "state": {}
     },
     "09b17ce523ae47c092f0f4cfa4aea35d": {
      "model_module": "@jupyter-widgets/base",
      "model_module_version": "1.2.0",
      "model_name": "LayoutModel",
      "state": {}
     },
     "0af6f74d4a7f4a6f89f71fb1530b8387": {
      "model_module": "@jupyter-widgets/base",
      "model_module_version": "1.2.0",
      "model_name": "LayoutModel",
      "state": {
       "width": "auto"
      }
     },
     "0d9fb03c874946d6ad59b975e58d1cff": {
      "model_module": "@jupyter-widgets/base",
      "model_module_version": "1.2.0",
      "model_name": "LayoutModel",
      "state": {}
     },
     "0de58ca343774dc5be565fe879f68216": {
      "model_module": "@jupyter-widgets/output",
      "model_module_version": "1.0.0",
      "model_name": "OutputModel",
      "state": {
       "layout": "IPY_MODEL_26c3c312c78f4fe28a8c4db1ac0cdc3e",
       "outputs": [
        {
         "data": {
          "text/html": "<table border=\"1\" class=\"dataframe\">\n  <thead>\n    <tr style=\"text-align: right;\">\n      <th></th>\n      <th>started</th>\n      <th>description</th>\n      <th>Obj</th>\n    </tr>\n    <tr>\n      <th>Name</th>\n      <th></th>\n      <th></th>\n      <th></th>\n    </tr>\n  </thead>\n  <tbody>\n    <tr>\n      <th>WP4.2</th>\n      <td>2020-06-29</td>\n      <td>Slightly smaller aim.</td>\n      <td><a href=\"WP4/WP4.2.ipynb\" target=\"_blank\"><h3 style=\"display: inline;\">WP4.2</h3 style=\"display: inline;\"</a></td>\n    </tr>\n  </tbody>\n</table>",
          "text/plain": "         started            description                   Obj\nName                                                         \nWP4.2 2020-06-29  Slightly smaller aim.  <Experiment \"WP4.2\">"
         },
         "metadata": {},
         "output_type": "display_data"
        }
       ]
      }
     },
     "0efe3399de4841f4a1aeebbb58e0e82c": {
      "model_module": "@jupyter-widgets/controls",
      "model_module_version": "1.5.0",
      "model_name": "DescriptionStyleModel",
      "state": {
       "description_width": "10%"
      }
     },
     "104dcca8d5e34b24ab25070a23579d7f": {
      "model_module": "@jupyter-widgets/controls",
      "model_module_version": "1.5.0",
      "model_name": "ButtonModel",
      "state": {
       "description": "Confirm",
       "disabled": true,
       "layout": "IPY_MODEL_b494ca78fa3b418998eebb3b1693578f",
       "style": "IPY_MODEL_105e75fdb23e46d5af00f3ed6f29aeef"
      }
     },
     "105e75fdb23e46d5af00f3ed6f29aeef": {
      "model_module": "@jupyter-widgets/controls",
      "model_module_version": "1.5.0",
      "model_name": "ButtonStyleModel",
      "state": {}
     },
     "1231cf1be509445b81682b8e7e4c008f": {
      "model_module": "@jupyter-widgets/output",
      "model_module_version": "1.0.0",
      "model_name": "OutputModel",
      "state": {
       "layout": "IPY_MODEL_0d9fb03c874946d6ad59b975e58d1cff",
       "outputs": [
        {
         "data": {
          "text/html": "<h1 style=\"display: inline;\"><a href=\"WP4.ipynb\">WP4</a></h1><h3 style=\"display: inline;\">(<a href=\"../Home.ipynb\" target=\"_blank\">Home</a>)</h3>",
          "text/plain": "<cassini.ipygui.WHTML at 0x266d66bd9b0>"
         },
         "metadata": {},
         "output_type": "display_data"
        }
       ]
      }
     },
     "14e06ca30adf4ca6b56024e8b3528079": {
      "model_module": "@jupyter-widgets/controls",
      "model_module_version": "1.5.0",
      "model_name": "DescriptionStyleModel",
      "state": {
       "description_width": "10%"
      }
     },
     "14ee43fbc7ec4b0e9789b221dec5d9b5": {
      "model_module": "@jupyter-widgets/base",
      "model_module_version": "1.2.0",
      "model_name": "LayoutModel",
      "state": {}
     },
     "1b09d381125d48fbbc64544e50691fbb": {
      "model_module": "@jupyter-widgets/base",
      "model_module_version": "1.2.0",
      "model_name": "LayoutModel",
      "state": {}
     },
     "1b5f6bad12474f0ba7ca2a798fe7d295": {
      "model_module": "@jupyter-widgets/base",
      "model_module_version": "1.2.0",
      "model_name": "LayoutModel",
      "state": {}
     },
     "21a133b122f04deb9579d2746ee16956": {
      "model_module": "@jupyter-widgets/controls",
      "model_module_version": "1.5.0",
      "model_name": "DescriptionStyleModel",
      "state": {
       "description_width": "10%"
      }
     },
     "223224934575437aa32a975fb51afa44": {
      "model_module": "@jupyter-widgets/output",
      "model_module_version": "1.0.0",
      "model_name": "OutputModel",
      "state": {
       "layout": "IPY_MODEL_e007047d5f534b8681996eb8eea226a6",
       "outputs": [
        {
         "data": {
          "text/markdown": "Big aim",
          "text/plain": "<IPython.core.display.Markdown object>"
         },
         "metadata": {},
         "output_type": "display_data"
        }
       ]
      }
     },
     "2282b89e2f12427bbe36a5767dc55834": {
      "model_module": "@jupyter-widgets/controls",
      "model_module_version": "1.5.0",
      "model_name": "VBoxModel",
      "state": {
       "children": [
        "IPY_MODEL_cb73f10263114214ae3868c69d6eb165",
        "IPY_MODEL_28b240e8c35b41b2933202d90f98bd6d",
        "IPY_MODEL_670240a1bb9f47abbd666c879a5bf4c8",
        "IPY_MODEL_38fe405884b342d5ac74888645f4f7a9",
        "IPY_MODEL_af8cc5e97e954fa1823dc14c5f46fcd6"
       ],
       "layout": "IPY_MODEL_57a29f4de6ce40efabe85704d7fc083b"
      }
     },
     "24f1dbfbc8f949c0add4a8a3645f6078": {
      "model_module": "@jupyter-widgets/controls",
      "model_module_version": "1.5.0",
      "model_name": "ButtonModel",
      "state": {
       "description": "New",
       "layout": "IPY_MODEL_2f6dd57c9e184c079b4954d7351fab79",
       "style": "IPY_MODEL_ed8bf94269754436a5afb680f80a773e"
      }
     },
     "2666863a13af4dad90fe928307886903": {
      "model_module": "@jupyter-widgets/base",
      "model_module_version": "1.2.0",
      "model_name": "LayoutModel",
      "state": {
       "width": "auto"
      }
     },
     "26b430e05e9e437595ad52443ff8cf87": {
      "model_module": "@jupyter-widgets/base",
      "model_module_version": "1.2.0",
      "model_name": "LayoutModel",
      "state": {}
     },
     "26c3c312c78f4fe28a8c4db1ac0cdc3e": {
      "model_module": "@jupyter-widgets/base",
      "model_module_version": "1.2.0",
      "model_name": "LayoutModel",
      "state": {}
     },
     "28b240e8c35b41b2933202d90f98bd6d": {
      "model_module": "@jupyter-widgets/controls",
      "model_module_version": "1.5.0",
      "model_name": "SelectModel",
      "state": {
       "_options_labels": [
        "Experiment.tmplt.ipynb"
       ],
       "description": "Template",
       "disabled": true,
       "index": 0,
       "layout": "IPY_MODEL_f28bcd2ee7384d23bc61d161ee99e678",
       "style": "IPY_MODEL_348cfae1baf8492bb077b72b776a4d3f"
      }
     },
     "2b723b21561f43b395f0003e571e0c1c": {
      "model_module": "@jupyter-widgets/controls",
      "model_module_version": "1.5.0",
      "model_name": "VBoxModel",
      "state": {
       "children": [
        "IPY_MODEL_785d4564e090445190f28a1d40cb152c",
        "IPY_MODEL_d0fcc3622a4a4006a256ffda96139c9b"
       ],
       "layout": "IPY_MODEL_55c081fb17f946a6886e273b1d3ccff0"
      }
     },
     "2e575c69a4694a9fac3b4644d3a9c0af": {
      "model_module": "@jupyter-widgets/output",
      "model_module_version": "1.0.0",
      "model_name": "OutputModel",
      "state": {
       "layout": "IPY_MODEL_14ee43fbc7ec4b0e9789b221dec5d9b5",
       "outputs": [
        {
         "data": {
          "text/html": "<h3>Experiments</h3>",
          "text/plain": "<cassini.ipygui.WHTML at 0x266d67bd710>"
         },
         "metadata": {},
         "output_type": "display_data"
        }
       ]
      }
     },
     "2ec68057f6d74ff2818ebe46b3b0facb": {
      "model_module": "@jupyter-widgets/controls",
      "model_module_version": "1.5.0",
      "model_name": "ButtonStyleModel",
      "state": {}
     },
     "2f6dd57c9e184c079b4954d7351fab79": {
      "model_module": "@jupyter-widgets/base",
      "model_module_version": "1.2.0",
      "model_name": "LayoutModel",
      "state": {}
     },
     "2f78cfc549d9496bbd1715c048ba4413": {
      "model_module": "@jupyter-widgets/base",
      "model_module_version": "1.2.0",
      "model_name": "LayoutModel",
      "state": {
       "width": "auto"
      }
     },
     "305a38f8d514428c8b489b04e0a51584": {
      "model_module": "@jupyter-widgets/controls",
      "model_module_version": "1.5.0",
      "model_name": "ButtonStyleModel",
      "state": {}
     },
     "348cfae1baf8492bb077b72b776a4d3f": {
      "model_module": "@jupyter-widgets/controls",
      "model_module_version": "1.5.0",
      "model_name": "DescriptionStyleModel",
      "state": {
       "description_width": "10%"
      }
     },
     "36e893e7f9f1421abf26e50f8c85d5ab": {
      "model_module": "@jupyter-widgets/base",
      "model_module_version": "1.2.0",
      "model_name": "LayoutModel",
      "state": {
       "width": "auto"
      }
     },
     "3748e5eb75b04a91bf18a6c1564f6dfd": {
      "model_module": "@jupyter-widgets/controls",
      "model_module_version": "1.5.0",
      "model_name": "ButtonStyleModel",
      "state": {}
     },
     "38fe405884b342d5ac74888645f4f7a9": {
      "model_module": "@jupyter-widgets/controls",
      "model_module_version": "1.5.0",
      "model_name": "HBoxModel",
      "state": {
       "children": [
        "IPY_MODEL_f638b7a943694c2db1acef89d359fc3a",
        "IPY_MODEL_92ac0420537540a2a4b2b61f239511e9"
       ],
       "layout": "IPY_MODEL_f15ceb99be2c48979c7ea9ea0a096d6d"
      }
     },
     "39fc8db5bdb049f19d9329dd78695d62": {
      "model_module": "@jupyter-widgets/controls",
      "model_module_version": "1.5.0",
      "model_name": "DescriptionStyleModel",
      "state": {
       "description_width": "10%"
      }
     },
     "3b7903199f10405895b45de104d2a387": {
      "model_module": "@jupyter-widgets/controls",
      "model_module_version": "1.5.0",
      "model_name": "ButtonModel",
      "state": {
       "description": "Confirm",
       "disabled": true,
       "layout": "IPY_MODEL_08ffaab4607e41a882a167bc2c84e68c",
       "style": "IPY_MODEL_2ec68057f6d74ff2818ebe46b3b0facb"
      }
     },
     "40bc1ff9bff1453680d2b1e8f26ae4e4": {
      "model_module": "@jupyter-widgets/controls",
      "model_module_version": "1.5.0",
      "model_name": "ButtonModel",
      "state": {
       "description": "New",
       "layout": "IPY_MODEL_91a128560f494843bfc46be8820990b0",
       "style": "IPY_MODEL_d71ca340a8b64f46aa53d5bc79e74b62"
      }
     },
     "41616a1b98ed4ae3bea4bd14d209d7be": {
      "model_module": "@jupyter-widgets/controls",
      "model_module_version": "1.5.0",
      "model_name": "VBoxModel",
      "state": {
       "children": [
        "IPY_MODEL_c552b0c9612d4691a8d0eeb4443e77ca",
        "IPY_MODEL_42f93853190a44858b6d55b0354519a8",
        "IPY_MODEL_9c85225ba0d94c6fbfabaef645084df7",
        "IPY_MODEL_e991b43a6c9e4e59a994430a55db4ab1",
        "IPY_MODEL_638bb2ea3be14cb3a2b4a9bc8e234b6b",
        "IPY_MODEL_511a1f8897ff4320a3b17191e6e06da2",
        "IPY_MODEL_2282b89e2f12427bbe36a5767dc55834"
       ],
       "layout": "IPY_MODEL_fee9425c1731408d99ee764d36d332e1"
      }
     },
     "42f93853190a44858b6d55b0354519a8": {
      "model_module": "@jupyter-widgets/output",
      "model_module_version": "1.0.0",
      "model_name": "OutputModel",
      "state": {
       "layout": "IPY_MODEL_cd42e4acab1e4e79889f7be126e917fc",
       "outputs": [
        {
         "data": {
          "text/html": "<h3>Motivation</h3>",
          "text/plain": "<cassini.ipygui.WHTML at 0x266d66bdeb8>"
         },
         "metadata": {},
         "output_type": "display_data"
        }
       ]
      }
     },
     "454b9447fb124af188c8fdc17249ccb4": {
      "model_module": "@jupyter-widgets/controls",
      "model_module_version": "1.5.0",
      "model_name": "DescriptionStyleModel",
      "state": {
       "description_width": "10%"
      }
     },
     "4a74ae89e0dd493383fafe5548254607": {
      "model_module": "@jupyter-widgets/base",
      "model_module_version": "1.2.0",
      "model_name": "LayoutModel",
      "state": {
       "width": "auto"
      }
     },
     "4c67e81a2af749529298029a0dad0172": {
      "model_module": "@jupyter-widgets/base",
      "model_module_version": "1.2.0",
      "model_name": "LayoutModel",
      "state": {}
     },
     "4f1e88b01efe4be6bec9e22f8975daf0": {
      "model_module": "@jupyter-widgets/output",
      "model_module_version": "1.0.0",
      "model_name": "OutputModel",
      "state": {
       "layout": "IPY_MODEL_523767be12e44e84a8217f4f3fbf2d25",
       "outputs": [
        {
         "data": {
          "text/html": "<h3>Experiments</h3>",
          "text/plain": "<cassini.ipygui.WHTML at 0x266ce3670b8>"
         },
         "metadata": {},
         "output_type": "display_data"
        }
       ]
      }
     },
     "4fa6074d7efa422b885e7155df279e63": {
      "model_module": "@jupyter-widgets/base",
      "model_module_version": "1.2.0",
      "model_name": "LayoutModel",
      "state": {}
     },
     "511a1f8897ff4320a3b17191e6e06da2": {
      "model_module": "@jupyter-widgets/output",
      "model_module_version": "1.0.0",
      "model_name": "OutputModel",
      "state": {
       "layout": "IPY_MODEL_b529cf60cb8f4d8f9abd06140b4baf70",
       "outputs": [
        {
         "data": {
          "text/html": "<h3>New Experiment</h3>",
          "text/plain": "<cassini.ipygui.WHTML at 0x266d6729828>"
         },
         "metadata": {},
         "output_type": "display_data"
        }
       ]
      }
     },
     "523767be12e44e84a8217f4f3fbf2d25": {
      "model_module": "@jupyter-widgets/base",
      "model_module_version": "1.2.0",
      "model_name": "LayoutModel",
      "state": {}
     },
     "54a0a7d9ba8c44c080a0088723e93436": {
      "model_module": "@jupyter-widgets/controls",
      "model_module_version": "1.5.0",
      "model_name": "ButtonStyleModel",
      "state": {}
     },
     "552105d890ee479a8cfff65a3ec13d11": {
      "model_module": "@jupyter-widgets/controls",
      "model_module_version": "1.5.0",
      "model_name": "TextModel",
      "state": {
       "description": "Identifier",
       "layout": "IPY_MODEL_2f78cfc549d9496bbd1715c048ba4413",
       "placeholder": "(\\d+)",
       "style": "IPY_MODEL_5ceb6b4923284f67b795cc2babc76db6"
      }
     },
     "55c081fb17f946a6886e273b1d3ccff0": {
      "model_module": "@jupyter-widgets/base",
      "model_module_version": "1.2.0",
      "model_name": "LayoutModel",
      "state": {}
     },
     "56f9e01315b84110b76fabd2123a37e2": {
      "model_module": "@jupyter-widgets/base",
      "model_module_version": "1.2.0",
      "model_name": "LayoutModel",
      "state": {}
     },
     "57a29f4de6ce40efabe85704d7fc083b": {
      "model_module": "@jupyter-widgets/base",
      "model_module_version": "1.2.0",
      "model_name": "LayoutModel",
      "state": {}
     },
     "5975ae408d4c49bcb8de1b4f9bb81f74": {
      "model_module": "@jupyter-widgets/controls",
      "model_module_version": "1.5.0",
      "model_name": "TextModel",
      "state": {
       "description": "Identifier",
       "layout": "IPY_MODEL_bc912cc3e2fb4ae89914122ff04080f4",
       "placeholder": "(\\d+)",
       "style": "IPY_MODEL_0efe3399de4841f4a1aeebbb58e0e82c"
      }
     },
     "59b24eff390a4e2a9e4405c02c19bc76": {
      "model_module": "@jupyter-widgets/controls",
      "model_module_version": "1.5.0",
      "model_name": "SelectModel",
      "state": {
       "_options_labels": [
        "Experiment.tmplt.ipynb"
       ],
       "description": "Template",
       "index": 0,
       "layout": "IPY_MODEL_a860db13829b44d5a7362afd8d1db7a4",
       "style": "IPY_MODEL_39fc8db5bdb049f19d9329dd78695d62"
      }
     },
     "5c660b22412d4bdab3974790842db859": {
      "model_module": "@jupyter-widgets/base",
      "model_module_version": "1.2.0",
      "model_name": "LayoutModel",
      "state": {}
     },
     "5ceb6b4923284f67b795cc2babc76db6": {
      "model_module": "@jupyter-widgets/controls",
      "model_module_version": "1.5.0",
      "model_name": "DescriptionStyleModel",
      "state": {
       "description_width": "10%"
      }
     },
     "605356ca689b41d297b01814860991c2": {
      "model_module": "@jupyter-widgets/output",
      "model_module_version": "1.0.0",
      "model_name": "OutputModel",
      "state": {
       "layout": "IPY_MODEL_f443f4cf4bd84280af4c14a65e827d85"
      }
     },
     "61a17db9487f417db20eabe1b15e3442": {
      "model_module": "@jupyter-widgets/controls",
      "model_module_version": "1.5.0",
      "model_name": "DescriptionStyleModel",
      "state": {
       "description_width": "10%"
      }
     },
     "638bb2ea3be14cb3a2b4a9bc8e234b6b": {
      "model_module": "@jupyter-widgets/output",
      "model_module_version": "1.0.0",
      "model_name": "OutputModel",
      "state": {
       "layout": "IPY_MODEL_a23b35200d20475c801d09800836c33d",
       "outputs": [
        {
         "data": {
          "text/html": "<table border=\"1\" class=\"dataframe\">\n  <thead>\n    <tr style=\"text-align: right;\">\n      <th></th>\n    </tr>\n  </thead>\n  <tbody>\n  </tbody>\n</table>",
          "text/plain": "Empty UnescapedDataFrame\nColumns: []\nIndex: []"
         },
         "metadata": {},
         "output_type": "display_data"
        }
       ]
      }
     },
     "66f1542240914f95b99d13aa734b286c": {
      "model_module": "@jupyter-widgets/base",
      "model_module_version": "1.2.0",
      "model_name": "LayoutModel",
      "state": {}
     },
     "670240a1bb9f47abbd666c879a5bf4c8": {
      "model_module": "@jupyter-widgets/controls",
      "model_module_version": "1.5.0",
      "model_name": "TextareaModel",
      "state": {
       "description": "Motivation",
       "disabled": true,
       "layout": "IPY_MODEL_2666863a13af4dad90fe928307886903",
       "style": "IPY_MODEL_21a133b122f04deb9579d2746ee16956",
       "value": "Slightly smaller aim."
      }
     },
     "71ca48a354294b58ab2f3eb1171cf83a": {
      "model_module": "@jupyter-widgets/output",
      "model_module_version": "1.0.0",
      "model_name": "OutputModel",
      "state": {
       "layout": "IPY_MODEL_c3d921e18e9845cebe21380dcdcb87bc"
      }
     },
     "73c2e5cdd00f4eebafd637b2ada54d1b": {
      "model_module": "@jupyter-widgets/output",
      "model_module_version": "1.0.0",
      "model_name": "OutputModel",
      "state": {
       "layout": "IPY_MODEL_fdd9398f8d2e4e518818222412d99a75",
       "outputs": [
        {
         "data": {
          "text/html": "<h3>Motivation</h3>",
          "text/plain": "<cassini.ipygui.WHTML at 0x266d6739780>"
         },
         "metadata": {},
         "output_type": "display_data"
        }
       ]
      }
     },
     "77f697711eb8486d811563d32febbc77": {
      "model_module": "@jupyter-widgets/controls",
      "model_module_version": "1.5.0",
      "model_name": "VBoxModel",
      "state": {
       "children": [
        "IPY_MODEL_5975ae408d4c49bcb8de1b4f9bb81f74",
        "IPY_MODEL_bdfc64dc2afb47738e204cb0d75cf05e",
        "IPY_MODEL_f5eae3823f21467187e79128960852f3",
        "IPY_MODEL_020ac372c0df4c019f6ca2c2dec57699",
        "IPY_MODEL_0491dcbeec6f464a90c0568ad35cae59"
       ],
       "layout": "IPY_MODEL_eb8344d769de42c5a0a0faec066094a9"
      }
     },
     "785d4564e090445190f28a1d40cb152c": {
      "model_module": "@jupyter-widgets/output",
      "model_module_version": "1.0.0",
      "model_name": "OutputModel",
      "state": {
       "layout": "IPY_MODEL_ce9920d361834b1488891045319b2b17",
       "outputs": [
        {
         "data": {
          "text/html": "<h1 style=\"display: inline;\"><a href=\"WP4.ipynb\">WP4</a></h1><h3 style=\"display: inline;\">(<a href=\"../Home.ipynb\" target=\"_blank\">Home</a>)</h3>",
          "text/plain": "<cassini.ipygui.WHTML at 0x266d67bdfd0>"
         },
         "metadata": {},
         "output_type": "display_data"
        }
       ]
      }
     },
     "7f97f319fecd4043929eed2d7b20572d": {
      "model_module": "@jupyter-widgets/controls",
      "model_module_version": "1.5.0",
      "model_name": "TextareaModel",
      "state": {
       "description": "Motivation",
       "layout": "IPY_MODEL_4a74ae89e0dd493383fafe5548254607",
       "style": "IPY_MODEL_0596e7bdc0aa40d78f170433079c2d33"
      }
     },
     "83b98e7bf727412596dfd7f086d6eb3b": {
      "model_module": "@jupyter-widgets/controls",
      "model_module_version": "1.5.0",
      "model_name": "ButtonModel",
      "state": {
       "description": "Folder",
       "layout": "IPY_MODEL_c6667d00c4b64fef8741f804014d1ca4",
       "style": "IPY_MODEL_54a0a7d9ba8c44c080a0088723e93436"
      }
     },
     "83c1037d1fa343e3915557b545705c21": {
      "model_module": "@jupyter-widgets/controls",
      "model_module_version": "1.5.0",
      "model_name": "ButtonStyleModel",
      "state": {}
     },
     "8b8845cfa75f4ede89d0e8048676782f": {
      "model_module": "@jupyter-widgets/base",
      "model_module_version": "1.2.0",
      "model_name": "LayoutModel",
      "state": {}
     },
     "8f6ecb44ac234643a4eddf9db8454738": {
      "model_module": "@jupyter-widgets/output",
      "model_module_version": "1.0.0",
      "model_name": "OutputModel",
      "state": {
       "layout": "IPY_MODEL_1b09d381125d48fbbc64544e50691fbb",
       "outputs": [
        {
         "data": {
          "text/html": "<h3>Motivation</h3>",
          "text/plain": "<cassini.ipygui.WHTML at 0x266d67c8278>"
         },
         "metadata": {},
         "output_type": "display_data"
        }
       ]
      }
     },
     "9063bffad7974b17947ddfeb5b745ed5": {
      "model_module": "@jupyter-widgets/base",
      "model_module_version": "1.2.0",
      "model_name": "LayoutModel",
      "state": {
       "width": "auto"
      }
     },
     "91a128560f494843bfc46be8820990b0": {
      "model_module": "@jupyter-widgets/base",
      "model_module_version": "1.2.0",
      "model_name": "LayoutModel",
      "state": {}
     },
     "92108cd39d8249e4b1d86e411ba0bfbc": {
      "model_module": "@jupyter-widgets/output",
      "model_module_version": "1.0.0",
      "model_name": "OutputModel",
      "state": {
       "layout": "IPY_MODEL_4fa6074d7efa422b885e7155df279e63",
       "outputs": [
        {
         "data": {
          "text/html": "<h3>New Experiment</h3>",
          "text/plain": "<cassini.ipygui.WHTML at 0x266d6747f98>"
         },
         "metadata": {},
         "output_type": "display_data"
        }
       ]
      }
     },
     "92ac0420537540a2a4b2b61f239511e9": {
      "model_module": "@jupyter-widgets/controls",
      "model_module_version": "1.5.0",
      "model_name": "ButtonModel",
      "state": {
       "description": "New",
       "layout": "IPY_MODEL_1b5f6bad12474f0ba7ca2a798fe7d295",
       "style": "IPY_MODEL_305a38f8d514428c8b489b04e0a51584"
      }
     },
     "9be40e7e478643358396842fe9138165": {
      "model_module": "@jupyter-widgets/output",
      "model_module_version": "1.0.0",
      "model_name": "OutputModel",
      "state": {
       "layout": "IPY_MODEL_36e893e7f9f1421abf26e50f8c85d5ab"
      }
     },
     "9c85225ba0d94c6fbfabaef645084df7": {
      "model_module": "@jupyter-widgets/output",
      "model_module_version": "1.0.0",
      "model_name": "OutputModel",
      "state": {
       "layout": "IPY_MODEL_aac6c80ed72e485198a0ffb02106b5ea",
       "outputs": [
        {
         "data": {
          "text/markdown": "Big aim",
          "text/plain": "<IPython.core.display.Markdown object>"
         },
         "metadata": {},
         "output_type": "display_data"
        }
       ]
      }
     },
     "9c8dabadbbdf4826a955a2f8189a2f74": {
      "model_module": "@jupyter-widgets/controls",
      "model_module_version": "1.5.0",
      "model_name": "VBoxModel",
      "state": {
       "children": [
        "IPY_MODEL_9ccc32ac2f9744cca70f432d63de554a",
        "IPY_MODEL_73c2e5cdd00f4eebafd637b2ada54d1b",
        "IPY_MODEL_dab81b0860dd45f2b8d9467bf4d1091c",
        "IPY_MODEL_4f1e88b01efe4be6bec9e22f8975daf0",
        "IPY_MODEL_aa14d3e1353e4cdeb6b19618390c47f8",
        "IPY_MODEL_92108cd39d8249e4b1d86e411ba0bfbc",
        "IPY_MODEL_f376924e46814746a1ac29331108a9d3"
       ],
       "layout": "IPY_MODEL_c57e0bea71fa4788b99c6070667fc0b1"
      }
     },
     "9ccc32ac2f9744cca70f432d63de554a": {
      "model_module": "@jupyter-widgets/controls",
      "model_module_version": "1.5.0",
      "model_name": "VBoxModel",
      "state": {
       "children": [
        "IPY_MODEL_f78ac7f643054e0d9a77b2f597e70c19",
        "IPY_MODEL_83b98e7bf727412596dfd7f086d6eb3b"
       ],
       "layout": "IPY_MODEL_cc7465671a1c42efbeb1004e5bb6d848"
      }
     },
     "a23b35200d20475c801d09800836c33d": {
      "model_module": "@jupyter-widgets/base",
      "model_module_version": "1.2.0",
      "model_name": "LayoutModel",
      "state": {}
     },
     "a38954313a744df0aac38a25fbe9881a": {
      "model_module": "@jupyter-widgets/base",
      "model_module_version": "1.2.0",
      "model_name": "LayoutModel",
      "state": {}
     },
     "a66c416db75243308c9716afc5f7a905": {
      "model_module": "@jupyter-widgets/base",
      "model_module_version": "1.2.0",
      "model_name": "LayoutModel",
      "state": {}
     },
     "a860db13829b44d5a7362afd8d1db7a4": {
      "model_module": "@jupyter-widgets/base",
      "model_module_version": "1.2.0",
      "model_name": "LayoutModel",
      "state": {
       "width": "auto"
      }
     },
     "aa14d3e1353e4cdeb6b19618390c47f8": {
      "model_module": "@jupyter-widgets/output",
      "model_module_version": "1.0.0",
      "model_name": "OutputModel",
      "state": {
       "layout": "IPY_MODEL_5c660b22412d4bdab3974790842db859",
       "outputs": [
        {
         "data": {
          "text/html": "<table border=\"1\" class=\"dataframe\">\n  <thead>\n    <tr style=\"text-align: right;\">\n      <th></th>\n      <th>started</th>\n      <th>description</th>\n      <th>Obj</th>\n    </tr>\n    <tr>\n      <th>Name</th>\n      <th></th>\n      <th></th>\n      <th></th>\n    </tr>\n  </thead>\n  <tbody>\n    <tr>\n      <th>WP4.2</th>\n      <td>2020-06-29</td>\n      <td>Slightly smaller aim.</td>\n      <td><a href=\"WP4/WP4.2.ipynb\" target=\"_blank\"><h3 style=\"display: inline;\">WP4.2</h3 style=\"display: inline;\"</a></td>\n    </tr>\n  </tbody>\n</table>",
          "text/plain": "         started            description                   Obj\nName                                                         \nWP4.2 2020-06-29  Slightly smaller aim.  <Experiment \"WP4.2\">"
         },
         "metadata": {},
         "output_type": "display_data"
        }
       ]
      }
     },
     "aac6c80ed72e485198a0ffb02106b5ea": {
      "model_module": "@jupyter-widgets/base",
      "model_module_version": "1.2.0",
      "model_name": "LayoutModel",
      "state": {}
     },
     "af8cc5e97e954fa1823dc14c5f46fcd6": {
      "model_module": "@jupyter-widgets/output",
      "model_module_version": "1.0.0",
      "model_name": "OutputModel",
      "state": {
       "layout": "IPY_MODEL_26b430e05e9e437595ad52443ff8cf87",
       "outputs": [
        {
         "name": "stdout",
         "output_type": "stream",
         "text": "Creating files for WP4.2\nMeta (D:\\Documents\\Programin\\WorkingVersions\\cassini\\dev\\examples\\default\\WorkPackages\\WP4\\.exps\\WP4.2.json)\nWriting Meta Data\nSuccess\nCreating Tier File (D:\\Documents\\Programin\\WorkingVersions\\cassini\\dev\\examples\\default\\WorkPackages\\WP4\\WP4.2.ipynb) using template (Experiment\\Experiment.tmplt.ipynb)\nSuccess\nCreating Tier Folder (D:\\Documents\\Programin\\WorkingVersions\\cassini\\dev\\examples\\default\\WorkPackages\\WP4\\WP4.2)\nSuccess\nAll Done\n"
        },
        {
         "data": {
          "application/vnd.jupyter.widget-view+json": {
           "model_id": "02acef5a2cf74bd1ba987bbda59b319b",
           "version_major": 2,
           "version_minor": 0
          },
          "text/plain": "Output()"
         },
         "metadata": {},
         "output_type": "display_data"
        }
       ]
      }
     },
     "b494ca78fa3b418998eebb3b1693578f": {
      "model_module": "@jupyter-widgets/base",
      "model_module_version": "1.2.0",
      "model_name": "LayoutModel",
      "state": {}
     },
     "b529cf60cb8f4d8f9abd06140b4baf70": {
      "model_module": "@jupyter-widgets/base",
      "model_module_version": "1.2.0",
      "model_name": "LayoutModel",
      "state": {}
     },
     "bc912cc3e2fb4ae89914122ff04080f4": {
      "model_module": "@jupyter-widgets/base",
      "model_module_version": "1.2.0",
      "model_name": "LayoutModel",
      "state": {
       "width": "auto"
      }
     },
     "bdfc64dc2afb47738e204cb0d75cf05e": {
      "model_module": "@jupyter-widgets/controls",
      "model_module_version": "1.5.0",
      "model_name": "SelectModel",
      "state": {
       "_options_labels": [
        "Experiment.tmplt.ipynb"
       ],
       "description": "Template",
       "index": 0,
       "layout": "IPY_MODEL_0af6f74d4a7f4a6f89f71fb1530b8387",
       "style": "IPY_MODEL_454b9447fb124af188c8fdc17249ccb4"
      }
     },
     "bdfe0e9eb3784c9d822f662724959fb9": {
      "model_module": "@jupyter-widgets/controls",
      "model_module_version": "1.5.0",
      "model_name": "HBoxModel",
      "state": {
       "children": [
        "IPY_MODEL_104dcca8d5e34b24ab25070a23579d7f",
        "IPY_MODEL_24f1dbfbc8f949c0add4a8a3645f6078"
       ],
       "layout": "IPY_MODEL_56f9e01315b84110b76fabd2123a37e2"
      }
     },
     "c354431f11ee45faaeb3172f15b81748": {
      "model_module": "@jupyter-widgets/base",
      "model_module_version": "1.2.0",
      "model_name": "LayoutModel",
      "state": {}
     },
     "c3d921e18e9845cebe21380dcdcb87bc": {
      "model_module": "@jupyter-widgets/base",
      "model_module_version": "1.2.0",
      "model_name": "LayoutModel",
      "state": {
       "width": "auto"
      }
     },
     "c552b0c9612d4691a8d0eeb4443e77ca": {
      "model_module": "@jupyter-widgets/controls",
      "model_module_version": "1.5.0",
      "model_name": "VBoxModel",
      "state": {
       "children": [
        "IPY_MODEL_1231cf1be509445b81682b8e7e4c008f",
        "IPY_MODEL_d00e8393a4474fc6a3bc73562970f6ad"
       ],
       "layout": "IPY_MODEL_f18d45c3402a4c739f690c2c62e31ce8"
      }
     },
     "c57e0bea71fa4788b99c6070667fc0b1": {
      "model_module": "@jupyter-widgets/base",
      "model_module_version": "1.2.0",
      "model_name": "LayoutModel",
      "state": {}
     },
     "c6667d00c4b64fef8741f804014d1ca4": {
      "model_module": "@jupyter-widgets/base",
      "model_module_version": "1.2.0",
      "model_name": "LayoutModel",
      "state": {}
     },
     "ca7c74e6e29c4fb9b7ec4dd09b2e32de": {
      "model_module": "@jupyter-widgets/base",
      "model_module_version": "1.2.0",
      "model_name": "LayoutModel",
      "state": {}
     },
     "cb73f10263114214ae3868c69d6eb165": {
      "model_module": "@jupyter-widgets/controls",
      "model_module_version": "1.5.0",
      "model_name": "TextModel",
      "state": {
       "description": "Identifier",
       "disabled": true,
       "layout": "IPY_MODEL_f3204b86d94a46ba8fcee9bde6a38dc9",
       "placeholder": "(\\d+)",
       "style": "IPY_MODEL_61a17db9487f417db20eabe1b15e3442",
       "value": "2"
      }
     },
     "cc22cd9217b147b2a581ee80d6819c12": {
      "model_module": "@jupyter-widgets/base",
      "model_module_version": "1.2.0",
      "model_name": "LayoutModel",
      "state": {}
     },
     "cc7465671a1c42efbeb1004e5bb6d848": {
      "model_module": "@jupyter-widgets/base",
      "model_module_version": "1.2.0",
      "model_name": "LayoutModel",
      "state": {}
     },
     "cd42e4acab1e4e79889f7be126e917fc": {
      "model_module": "@jupyter-widgets/base",
      "model_module_version": "1.2.0",
      "model_name": "LayoutModel",
      "state": {}
     },
     "ce9920d361834b1488891045319b2b17": {
      "model_module": "@jupyter-widgets/base",
      "model_module_version": "1.2.0",
      "model_name": "LayoutModel",
      "state": {}
     },
     "d00e8393a4474fc6a3bc73562970f6ad": {
      "model_module": "@jupyter-widgets/controls",
      "model_module_version": "1.5.0",
      "model_name": "ButtonModel",
      "state": {
       "description": "Folder",
       "layout": "IPY_MODEL_a66c416db75243308c9716afc5f7a905",
       "style": "IPY_MODEL_e29566ca86324a649655b51df8e67c4c"
      }
     },
     "d0fcc3622a4a4006a256ffda96139c9b": {
      "model_module": "@jupyter-widgets/controls",
      "model_module_version": "1.5.0",
      "model_name": "ButtonModel",
      "state": {
       "description": "Folder",
       "layout": "IPY_MODEL_ecb57d04cdb14d2f9b47b3282112db57",
       "style": "IPY_MODEL_83c1037d1fa343e3915557b545705c21"
      }
     },
     "d71ca340a8b64f46aa53d5bc79e74b62": {
      "model_module": "@jupyter-widgets/controls",
      "model_module_version": "1.5.0",
      "model_name": "ButtonStyleModel",
      "state": {}
     },
     "dab81b0860dd45f2b8d9467bf4d1091c": {
      "model_module": "@jupyter-widgets/output",
      "model_module_version": "1.0.0",
      "model_name": "OutputModel",
      "state": {
       "layout": "IPY_MODEL_cc22cd9217b147b2a581ee80d6819c12",
       "outputs": [
        {
         "data": {
          "text/markdown": "Big aim",
          "text/plain": "<IPython.core.display.Markdown object>"
         },
         "metadata": {},
         "output_type": "display_data"
        }
       ]
      }
     },
     "db535dfd1fa64a1ab14cb90b2bc94389": {
      "model_module": "@jupyter-widgets/base",
      "model_module_version": "1.2.0",
      "model_name": "LayoutModel",
      "state": {}
     },
     "e007047d5f534b8681996eb8eea226a6": {
      "model_module": "@jupyter-widgets/base",
      "model_module_version": "1.2.0",
      "model_name": "LayoutModel",
      "state": {}
     },
     "e29566ca86324a649655b51df8e67c4c": {
      "model_module": "@jupyter-widgets/controls",
      "model_module_version": "1.5.0",
      "model_name": "ButtonStyleModel",
      "state": {}
     },
     "e62bb6e8c7bd4c478cc2cc0875fd60f5": {
      "model_module": "@jupyter-widgets/controls",
      "model_module_version": "1.5.0",
      "model_name": "VBoxModel",
      "state": {
       "children": [
        "IPY_MODEL_2b723b21561f43b395f0003e571e0c1c",
        "IPY_MODEL_8f6ecb44ac234643a4eddf9db8454738",
        "IPY_MODEL_223224934575437aa32a975fb51afa44",
        "IPY_MODEL_2e575c69a4694a9fac3b4644d3a9c0af",
        "IPY_MODEL_0de58ca343774dc5be565fe879f68216",
        "IPY_MODEL_fbbdebb27e1049ec8eddcf3b175c76cd",
        "IPY_MODEL_77f697711eb8486d811563d32febbc77"
       ],
       "layout": "IPY_MODEL_66f1542240914f95b99d13aa734b286c"
      }
     },
     "e991b43a6c9e4e59a994430a55db4ab1": {
      "model_module": "@jupyter-widgets/output",
      "model_module_version": "1.0.0",
      "model_name": "OutputModel",
      "state": {
       "layout": "IPY_MODEL_4c67e81a2af749529298029a0dad0172",
       "outputs": [
        {
         "data": {
          "text/html": "<h3>Experiments</h3>",
          "text/plain": "<cassini.ipygui.WHTML at 0x266d66bdeb8>"
         },
         "metadata": {},
         "output_type": "display_data"
        }
       ]
      }
     },
     "eb8344d769de42c5a0a0faec066094a9": {
      "model_module": "@jupyter-widgets/base",
      "model_module_version": "1.2.0",
      "model_name": "LayoutModel",
      "state": {}
     },
     "ec6c3770ce164c038f4ec19e3a88b7b9": {
      "model_module": "@jupyter-widgets/base",
      "model_module_version": "1.2.0",
      "model_name": "LayoutModel",
      "state": {}
     },
     "ecb57d04cdb14d2f9b47b3282112db57": {
      "model_module": "@jupyter-widgets/base",
      "model_module_version": "1.2.0",
      "model_name": "LayoutModel",
      "state": {}
     },
     "ed8bf94269754436a5afb680f80a773e": {
      "model_module": "@jupyter-widgets/controls",
      "model_module_version": "1.5.0",
      "model_name": "ButtonStyleModel",
      "state": {}
     },
     "ed9761ff1dcf4f2084e0de107e5390dd": {
      "model_module": "@jupyter-widgets/output",
      "model_module_version": "1.0.0",
      "model_name": "OutputModel",
      "state": {
       "layout": "IPY_MODEL_a38954313a744df0aac38a25fbe9881a"
      }
     },
     "f15ceb99be2c48979c7ea9ea0a096d6d": {
      "model_module": "@jupyter-widgets/base",
      "model_module_version": "1.2.0",
      "model_name": "LayoutModel",
      "state": {}
     },
     "f18d45c3402a4c739f690c2c62e31ce8": {
      "model_module": "@jupyter-widgets/base",
      "model_module_version": "1.2.0",
      "model_name": "LayoutModel",
      "state": {}
     },
     "f28bcd2ee7384d23bc61d161ee99e678": {
      "model_module": "@jupyter-widgets/base",
      "model_module_version": "1.2.0",
      "model_name": "LayoutModel",
      "state": {
       "width": "auto"
      }
     },
     "f3204b86d94a46ba8fcee9bde6a38dc9": {
      "model_module": "@jupyter-widgets/base",
      "model_module_version": "1.2.0",
      "model_name": "LayoutModel",
      "state": {
       "width": "auto"
      }
     },
     "f376924e46814746a1ac29331108a9d3": {
      "model_module": "@jupyter-widgets/controls",
      "model_module_version": "1.5.0",
      "model_name": "VBoxModel",
      "state": {
       "children": [
        "IPY_MODEL_552105d890ee479a8cfff65a3ec13d11",
        "IPY_MODEL_59b24eff390a4e2a9e4405c02c19bc76",
        "IPY_MODEL_7f97f319fecd4043929eed2d7b20572d",
        "IPY_MODEL_bdfe0e9eb3784c9d822f662724959fb9",
        "IPY_MODEL_ed9761ff1dcf4f2084e0de107e5390dd"
       ],
       "layout": "IPY_MODEL_8b8845cfa75f4ede89d0e8048676782f"
      }
     },
     "f443f4cf4bd84280af4c14a65e827d85": {
      "model_module": "@jupyter-widgets/base",
      "model_module_version": "1.2.0",
      "model_name": "LayoutModel",
      "state": {
       "width": "auto"
      }
     },
     "f5eae3823f21467187e79128960852f3": {
      "model_module": "@jupyter-widgets/controls",
      "model_module_version": "1.5.0",
      "model_name": "TextareaModel",
      "state": {
       "description": "Motivation",
       "layout": "IPY_MODEL_9063bffad7974b17947ddfeb5b745ed5",
       "style": "IPY_MODEL_14e06ca30adf4ca6b56024e8b3528079"
      }
     },
     "f638b7a943694c2db1acef89d359fc3a": {
      "model_module": "@jupyter-widgets/controls",
      "model_module_version": "1.5.0",
      "model_name": "ButtonModel",
      "state": {
       "description": "Confirm",
       "disabled": true,
       "layout": "IPY_MODEL_c354431f11ee45faaeb3172f15b81748",
       "style": "IPY_MODEL_3748e5eb75b04a91bf18a6c1564f6dfd"
      }
     },
     "f78ac7f643054e0d9a77b2f597e70c19": {
      "model_module": "@jupyter-widgets/output",
      "model_module_version": "1.0.0",
      "model_name": "OutputModel",
      "state": {
       "layout": "IPY_MODEL_ca7c74e6e29c4fb9b7ec4dd09b2e32de",
       "outputs": [
        {
         "data": {
          "text/html": "<h1 style=\"display: inline;\"><a href=\"WP4.ipynb\">WP4</a></h1><h3 style=\"display: inline;\">(<a href=\"../Home.ipynb\" target=\"_blank\">Home</a>)</h3>",
          "text/plain": "<cassini.ipygui.WHTML at 0x266d67392b0>"
         },
         "metadata": {},
         "output_type": "display_data"
        }
       ]
      }
     },
     "fbbdebb27e1049ec8eddcf3b175c76cd": {
      "model_module": "@jupyter-widgets/output",
      "model_module_version": "1.0.0",
      "model_name": "OutputModel",
      "state": {
       "layout": "IPY_MODEL_db535dfd1fa64a1ab14cb90b2bc94389",
       "outputs": [
        {
         "data": {
          "text/html": "<h3>New Experiment</h3>",
          "text/plain": "<cassini.ipygui.WHTML at 0x266ce36c978>"
         },
         "metadata": {},
         "output_type": "display_data"
        }
       ]
      }
     },
     "fc5e55091547458daa0219fdc991068b": {
      "model_module": "@jupyter-widgets/base",
      "model_module_version": "1.2.0",
      "model_name": "LayoutModel",
      "state": {}
     },
     "fdd9398f8d2e4e518818222412d99a75": {
      "model_module": "@jupyter-widgets/base",
      "model_module_version": "1.2.0",
      "model_name": "LayoutModel",
      "state": {}
     },
     "fee9425c1731408d99ee764d36d332e1": {
      "model_module": "@jupyter-widgets/base",
      "model_module_version": "1.2.0",
      "model_name": "LayoutModel",
      "state": {}
     }
    },
    "version_major": 2,
    "version_minor": 0
   }
  }
 },
 "nbformat": 4,
 "nbformat_minor": 4
}
