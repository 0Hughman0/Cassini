{
 "cells": [
  {
   "cell_type": "code",
   "execution_count": 3,
   "metadata": {
    "pycharm": {
     "name": "#%%\n"
    }
   },
   "outputs": [
    {
     "data": {
      "application/vnd.jupyter.widget-view+json": {
       "model_id": "9a6601c4f3b942c9b970c32ede3b385b",
       "version_major": 2,
       "version_minor": 0
      },
      "text/plain": [
       "VBox(children=(VBox(children=(Output(), Button(description='Folder', style=ButtonStyle()))), Output(), HBox(),…"
      ]
     },
     "metadata": {},
     "output_type": "display_data"
    }
   ],
   "source": [
    "from project import project\n",
    "\n",
    "smpl = project.env('WP1.1c')\n",
    "smpl.gui.header()"
   ]
  },
  {
   "cell_type": "code",
   "execution_count": 2,
   "metadata": {},
   "outputs": [],
   "source": [
    "smpl.meta['Hang On'] = 'now'"
   ]
  },
  {
   "cell_type": "code",
   "execution_count": null,
   "metadata": {},
   "outputs": [],
   "source": []
  }
 ],
 "metadata": {
  "kernelspec": {
   "display_name": "Python 3",
   "language": "python",
   "name": "python3"
  },
  "language_info": {
   "codemirror_mode": {
    "name": "ipython",
    "version": 3
   },
   "file_extension": ".py",
   "mimetype": "text/x-python",
   "name": "python",
   "nbconvert_exporter": "python",
   "pygments_lexer": "ipython3",
   "version": "3.7.2"
  },
  "pycharm": {
   "stem_cell": {
    "cell_type": "raw",
    "metadata": {
     "collapsed": false
    },
    "source": []
   }
  },
  "widgets": {
   "application/vnd.jupyter.widget-state+json": {
    "state": {
     "04f4a51455254556b731d74d67e87927": {
      "model_module": "@jupyter-widgets/controls",
      "model_module_version": "1.5.0",
      "model_name": "ButtonModel",
      "state": {
       "description": "Folder",
       "layout": "IPY_MODEL_e5e4f973a7d04c2d9477d84273faaa31",
       "style": "IPY_MODEL_ea3976a307f741508a54c8f366dc531a"
      }
     },
     "0c11117facc848c28b993c4279309566": {
      "model_module": "@jupyter-widgets/base",
      "model_module_version": "1.2.0",
      "model_name": "LayoutModel",
      "state": {
       "width": "auto"
      }
     },
     "0df784c0669f40f392e17196420942ce": {
      "model_module": "@jupyter-widgets/controls",
      "model_module_version": "1.5.0",
      "model_name": "VBoxModel",
      "state": {
       "children": [
        "IPY_MODEL_a8e27f00f58e449eb4ae0376ef6aae93",
        "IPY_MODEL_9d48b887ddc84ed08fc5b2c3c4009bc1"
       ],
       "layout": "IPY_MODEL_fe59239c9cba4b6eb31d03d099343505"
      }
     },
     "0e4c97d14ad541f4a12009c908ed72a4": {
      "model_module": "@jupyter-widgets/controls",
      "model_module_version": "1.5.0",
      "model_name": "DescriptionStyleModel",
      "state": {
       "description_width": "10%"
      }
     },
     "0f54858a72fd44c7b138126790ae3abe": {
      "model_module": "@jupyter-widgets/controls",
      "model_module_version": "1.5.0",
      "model_name": "HBoxModel",
      "state": {
       "layout": "IPY_MODEL_44cc5e5b19b747efa82b25d3ada328a4"
      }
     },
     "10860c2594ab48698b8afd7399133a24": {
      "model_module": "@jupyter-widgets/base",
      "model_module_version": "1.2.0",
      "model_name": "LayoutModel",
      "state": {}
     },
     "1ab33090c35e4e028b62b7ec9e12ad47": {
      "model_module": "@jupyter-widgets/controls",
      "model_module_version": "1.5.0",
      "model_name": "VBoxModel",
      "state": {
       "children": [
        "IPY_MODEL_ffaa6503bd2b4bf5ac44471736e11018",
        "IPY_MODEL_4b1c5c7b8fbf4c00a347327383548761",
        "IPY_MODEL_563ded6d75de435097778fc6b6b7772a"
       ],
       "layout": "IPY_MODEL_783fb9641d024518a521604d1033bb07"
      }
     },
     "1f93f3aefb744034a17181787a365301": {
      "model_module": "@jupyter-widgets/output",
      "model_module_version": "1.0.0",
      "model_name": "OutputModel",
      "state": {
       "layout": "IPY_MODEL_97b03f6f5b914078af3c5291fae14cff"
      }
     },
     "21610ac1e4ee4dceae0fd9c385709a12": {
      "model_module": "@jupyter-widgets/base",
      "model_module_version": "1.2.0",
      "model_name": "LayoutModel",
      "state": {
       "width": "auto"
      }
     },
     "255515c507a742899e438a1401001625": {
      "model_module": "@jupyter-widgets/output",
      "model_module_version": "1.0.0",
      "model_name": "OutputModel",
      "state": {
       "layout": "IPY_MODEL_d1985d42374b43adb57a9c89abda5a5f",
       "outputs": [
        {
         "data": {
          "text/html": "<h3>DataSets</h3>",
          "text/plain": "<cassini.ipygui.WHTML at 0x2a58c735518>"
         },
         "metadata": {},
         "output_type": "display_data"
        }
       ]
      }
     },
     "2e3945f0392544cd87e700e87c994fc2": {
      "model_module": "@jupyter-widgets/controls",
      "model_module_version": "1.5.0",
      "model_name": "HBoxModel",
      "state": {
       "layout": "IPY_MODEL_53107f1010254b0d98cdeb36d5a7cdaa"
      }
     },
     "313db3cb0a214c2eb3f54c1e6bfcf8cd": {
      "model_module": "@jupyter-widgets/base",
      "model_module_version": "1.2.0",
      "model_name": "LayoutModel",
      "state": {}
     },
     "38d7dfd2ca604fc7b39b5536328e548c": {
      "model_module": "@jupyter-widgets/controls",
      "model_module_version": "1.5.0",
      "model_name": "HBoxModel",
      "state": {
       "children": [
        "IPY_MODEL_984c5fd760e546b3b7d13a19994e5d08",
        "IPY_MODEL_7001c5e0666f4e349d3ea37ba8d8b0bd"
       ],
       "layout": "IPY_MODEL_c517ad94b6a6440b9713d58512f03611"
      }
     },
     "3b93bd163bf442849a0c3eb7a58ef3d0": {
      "model_module": "@jupyter-widgets/base",
      "model_module_version": "1.2.0",
      "model_name": "LayoutModel",
      "state": {}
     },
     "4157d54ac11949f38a52d5186bfef28d": {
      "model_module": "@jupyter-widgets/output",
      "model_module_version": "1.0.0",
      "model_name": "OutputModel",
      "state": {
       "layout": "IPY_MODEL_a80d73cbba514e7aa76ce60f4e3b4077"
      }
     },
     "44cc5e5b19b747efa82b25d3ada328a4": {
      "model_module": "@jupyter-widgets/base",
      "model_module_version": "1.2.0",
      "model_name": "LayoutModel",
      "state": {}
     },
     "4b1c5c7b8fbf4c00a347327383548761": {
      "model_module": "@jupyter-widgets/controls",
      "model_module_version": "1.5.0",
      "model_name": "HBoxModel",
      "state": {
       "children": [
        "IPY_MODEL_59f371208868455a94a8cfaa7365c7f8",
        "IPY_MODEL_91ee48ed6df2464d973b8159638e28a5"
       ],
       "layout": "IPY_MODEL_dc3827d744144fd18d2223cf8e8b7cf0"
      }
     },
     "4ce6f47b9d5d447293c5df49c278db3c": {
      "model_module": "@jupyter-widgets/base",
      "model_module_version": "1.2.0",
      "model_name": "LayoutModel",
      "state": {}
     },
     "4de6549c98c94ca2b5dd5afb53705daa": {
      "model_module": "@jupyter-widgets/base",
      "model_module_version": "1.2.0",
      "model_name": "LayoutModel",
      "state": {
       "width": "auto"
      }
     },
     "4e7b67cec155496db0d5863c8ebab802": {
      "model_module": "@jupyter-widgets/controls",
      "model_module_version": "1.5.0",
      "model_name": "VBoxModel",
      "state": {
       "children": [
        "IPY_MODEL_880b75bd8cf7469c8f16a6e6620ffa91",
        "IPY_MODEL_04f4a51455254556b731d74d67e87927"
       ],
       "layout": "IPY_MODEL_60d4fff20e3f4de9a4d3429f63b6d9ae"
      }
     },
     "53107f1010254b0d98cdeb36d5a7cdaa": {
      "model_module": "@jupyter-widgets/base",
      "model_module_version": "1.2.0",
      "model_name": "LayoutModel",
      "state": {}
     },
     "563ded6d75de435097778fc6b6b7772a": {
      "model_module": "@jupyter-widgets/output",
      "model_module_version": "1.0.0",
      "model_name": "OutputModel",
      "state": {
       "layout": "IPY_MODEL_ec42221b69da4daca8b7e1b5e223170c"
      }
     },
     "59f371208868455a94a8cfaa7365c7f8": {
      "model_module": "@jupyter-widgets/controls",
      "model_module_version": "1.5.0",
      "model_name": "ButtonModel",
      "state": {
       "description": "Confirm",
       "disabled": true,
       "layout": "IPY_MODEL_10860c2594ab48698b8afd7399133a24",
       "style": "IPY_MODEL_6ca808bd22514c549f4392170fb29d00"
      }
     },
     "5fa6dbb7b8744088b74727d9c54516af": {
      "model_module": "@jupyter-widgets/output",
      "model_module_version": "1.0.0",
      "model_name": "OutputModel",
      "state": {
       "layout": "IPY_MODEL_d31d5eb3c82748868f065c17d1eb6bfa",
       "outputs": [
        {
         "data": {
          "text/html": "<h3>New DataSet</h3>",
          "text/plain": "<cassini.ipygui.WHTML at 0x2a58c7542b0>"
         },
         "metadata": {},
         "output_type": "display_data"
        }
       ]
      }
     },
     "60d4fff20e3f4de9a4d3429f63b6d9ae": {
      "model_module": "@jupyter-widgets/base",
      "model_module_version": "1.2.0",
      "model_name": "LayoutModel",
      "state": {}
     },
     "691249c869d740cc88069a1ffa7bfcde": {
      "model_module": "@jupyter-widgets/base",
      "model_module_version": "1.2.0",
      "model_name": "LayoutModel",
      "state": {}
     },
     "6a2bfeb8b5a44927ae413b90e51d1382": {
      "model_module": "@jupyter-widgets/base",
      "model_module_version": "1.2.0",
      "model_name": "LayoutModel",
      "state": {}
     },
     "6ca808bd22514c549f4392170fb29d00": {
      "model_module": "@jupyter-widgets/controls",
      "model_module_version": "1.5.0",
      "model_name": "ButtonStyleModel",
      "state": {}
     },
     "6eb45e757f93480a94b41f340dc536e2": {
      "model_module": "@jupyter-widgets/base",
      "model_module_version": "1.2.0",
      "model_name": "LayoutModel",
      "state": {}
     },
     "6fb2ffa1360b43c0b51243bed1afca0b": {
      "model_module": "@jupyter-widgets/controls",
      "model_module_version": "1.5.0",
      "model_name": "ButtonStyleModel",
      "state": {}
     },
     "7001c5e0666f4e349d3ea37ba8d8b0bd": {
      "model_module": "@jupyter-widgets/controls",
      "model_module_version": "1.5.0",
      "model_name": "ButtonModel",
      "state": {
       "description": "New",
       "layout": "IPY_MODEL_e167d779d479423183967ae7468b1e9d",
       "style": "IPY_MODEL_922bb72ed39e4bef9944db40db1fb172"
      }
     },
     "783fb9641d024518a521604d1033bb07": {
      "model_module": "@jupyter-widgets/base",
      "model_module_version": "1.2.0",
      "model_name": "LayoutModel",
      "state": {}
     },
     "880b75bd8cf7469c8f16a6e6620ffa91": {
      "model_module": "@jupyter-widgets/output",
      "model_module_version": "1.0.0",
      "model_name": "OutputModel",
      "state": {
       "layout": "IPY_MODEL_6eb45e757f93480a94b41f340dc536e2",
       "outputs": [
        {
         "data": {
          "text/html": "<h1 style=\"display: inline;\"><a href=\"WP1.1c.ipynb\">WP1.1c</a></h1><h3 style=\"display: inline;\">(<a href=\"../../../Home.ipynb\" target=\"_blank\">Home</a>-><a href=\"../../WP1.ipynb\" target=\"_blank\">WP1</a>-><a href=\"../WP1.1.ipynb\" target=\"_blank\">WP1.1</a>)</h3>",
          "text/plain": "<cassini.ipygui.WHTML at 0x2a58c70bd68>"
         },
         "metadata": {},
         "output_type": "display_data"
        }
       ]
      }
     },
     "89212cb120e748f2a6ccc0d19f60a1c1": {
      "model_module": "@jupyter-widgets/controls",
      "model_module_version": "1.5.0",
      "model_name": "VBoxModel",
      "state": {
       "children": [
        "IPY_MODEL_4e7b67cec155496db0d5863c8ebab802",
        "IPY_MODEL_255515c507a742899e438a1401001625",
        "IPY_MODEL_0f54858a72fd44c7b138126790ae3abe",
        "IPY_MODEL_5fa6dbb7b8744088b74727d9c54516af",
        "IPY_MODEL_ed51cbd9398b4f4c9ce6203c245a24d7"
       ],
       "layout": "IPY_MODEL_febe57ce3eb142b79d8262ed846ce243"
      }
     },
     "91ee48ed6df2464d973b8159638e28a5": {
      "model_module": "@jupyter-widgets/controls",
      "model_module_version": "1.5.0",
      "model_name": "ButtonModel",
      "state": {
       "description": "New",
       "layout": "IPY_MODEL_c00d90aaf095418c867b6089b8db20d4",
       "style": "IPY_MODEL_e44a1e53f42b46d5ba69f496d6ad16fd"
      }
     },
     "922bb72ed39e4bef9944db40db1fb172": {
      "model_module": "@jupyter-widgets/controls",
      "model_module_version": "1.5.0",
      "model_name": "ButtonStyleModel",
      "state": {}
     },
     "97b03f6f5b914078af3c5291fae14cff": {
      "model_module": "@jupyter-widgets/base",
      "model_module_version": "1.2.0",
      "model_name": "LayoutModel",
      "state": {
       "width": "auto"
      }
     },
     "984c5fd760e546b3b7d13a19994e5d08": {
      "model_module": "@jupyter-widgets/controls",
      "model_module_version": "1.5.0",
      "model_name": "ButtonModel",
      "state": {
       "description": "Confirm",
       "disabled": true,
       "layout": "IPY_MODEL_db9398f20c77498981dfdbc586d269ba",
       "style": "IPY_MODEL_6fb2ffa1360b43c0b51243bed1afca0b"
      }
     },
     "9a6601c4f3b942c9b970c32ede3b385b": {
      "model_module": "@jupyter-widgets/controls",
      "model_module_version": "1.5.0",
      "model_name": "VBoxModel",
      "state": {
       "children": [
        "IPY_MODEL_0df784c0669f40f392e17196420942ce",
        "IPY_MODEL_ccb81617627f4443a14662bf0f81b56a",
        "IPY_MODEL_2e3945f0392544cd87e700e87c994fc2",
        "IPY_MODEL_c98b0a3a208f4f6c988b7830cc84116b",
        "IPY_MODEL_1ab33090c35e4e028b62b7ec9e12ad47"
       ],
       "layout": "IPY_MODEL_3b93bd163bf442849a0c3eb7a58ef3d0"
      }
     },
     "9d48b887ddc84ed08fc5b2c3c4009bc1": {
      "model_module": "@jupyter-widgets/controls",
      "model_module_version": "1.5.0",
      "model_name": "ButtonModel",
      "state": {
       "description": "Folder",
       "layout": "IPY_MODEL_6a2bfeb8b5a44927ae413b90e51d1382",
       "style": "IPY_MODEL_e528da83d3444569ad3eb347c9107406"
      }
     },
     "a496668120e84f7f8431d19a0a0e9acd": {
      "model_module": "@jupyter-widgets/output",
      "model_module_version": "1.0.0",
      "model_name": "OutputModel",
      "state": {
       "layout": "IPY_MODEL_21610ac1e4ee4dceae0fd9c385709a12"
      }
     },
     "a80d73cbba514e7aa76ce60f4e3b4077": {
      "model_module": "@jupyter-widgets/base",
      "model_module_version": "1.2.0",
      "model_name": "LayoutModel",
      "state": {}
     },
     "a8e27f00f58e449eb4ae0376ef6aae93": {
      "model_module": "@jupyter-widgets/output",
      "model_module_version": "1.0.0",
      "model_name": "OutputModel",
      "state": {
       "layout": "IPY_MODEL_4ce6f47b9d5d447293c5df49c278db3c",
       "outputs": [
        {
         "data": {
          "text/html": "<h1 style=\"display: inline;\"><a href=\"WP1.1c.ipynb\">WP1.1c</a></h1><h3 style=\"display: inline;\">(<a href=\"../../../Home.ipynb\" target=\"_blank\">Home</a>-><a href=\"../../WP1.ipynb\" target=\"_blank\">WP1</a>-><a href=\"../WP1.1.ipynb\" target=\"_blank\">WP1.1</a>)</h3>",
          "text/plain": "<cassini.ipygui.WHTML at 0x2a58c754a20>"
         },
         "metadata": {},
         "output_type": "display_data"
        }
       ]
      }
     },
     "b8f210d6ba4b4602afca26fa3fe32196": {
      "model_module": "@jupyter-widgets/base",
      "model_module_version": "1.2.0",
      "model_name": "LayoutModel",
      "state": {}
     },
     "c00d90aaf095418c867b6089b8db20d4": {
      "model_module": "@jupyter-widgets/base",
      "model_module_version": "1.2.0",
      "model_name": "LayoutModel",
      "state": {}
     },
     "c517ad94b6a6440b9713d58512f03611": {
      "model_module": "@jupyter-widgets/base",
      "model_module_version": "1.2.0",
      "model_name": "LayoutModel",
      "state": {}
     },
     "c98b0a3a208f4f6c988b7830cc84116b": {
      "model_module": "@jupyter-widgets/output",
      "model_module_version": "1.0.0",
      "model_name": "OutputModel",
      "state": {
       "layout": "IPY_MODEL_313db3cb0a214c2eb3f54c1e6bfcf8cd",
       "outputs": [
        {
         "data": {
          "text/html": "<h3>New DataSet</h3>",
          "text/plain": "<cassini.ipygui.WHTML at 0x2a58c76a518>"
         },
         "metadata": {},
         "output_type": "display_data"
        }
       ]
      }
     },
     "ccb81617627f4443a14662bf0f81b56a": {
      "model_module": "@jupyter-widgets/output",
      "model_module_version": "1.0.0",
      "model_name": "OutputModel",
      "state": {
       "layout": "IPY_MODEL_b8f210d6ba4b4602afca26fa3fe32196",
       "outputs": [
        {
         "data": {
          "text/html": "<h3>DataSets</h3>",
          "text/plain": "<cassini.ipygui.WHTML at 0x2a58c735320>"
         },
         "metadata": {},
         "output_type": "display_data"
        }
       ]
      }
     },
     "d1985d42374b43adb57a9c89abda5a5f": {
      "model_module": "@jupyter-widgets/base",
      "model_module_version": "1.2.0",
      "model_name": "LayoutModel",
      "state": {}
     },
     "d31d5eb3c82748868f065c17d1eb6bfa": {
      "model_module": "@jupyter-widgets/base",
      "model_module_version": "1.2.0",
      "model_name": "LayoutModel",
      "state": {}
     },
     "d6a563d5ae7b4c2aabb194bc55fe01cd": {
      "model_module": "@jupyter-widgets/controls",
      "model_module_version": "1.5.0",
      "model_name": "TextModel",
      "state": {
       "description": "Name:",
       "layout": "IPY_MODEL_4de6549c98c94ca2b5dd5afb53705daa",
       "placeholder": "e.g. XRD",
       "style": "IPY_MODEL_e945a6fb82ce4ac3883b6d32ec93770f"
      }
     },
     "db9398f20c77498981dfdbc586d269ba": {
      "model_module": "@jupyter-widgets/base",
      "model_module_version": "1.2.0",
      "model_name": "LayoutModel",
      "state": {}
     },
     "dc3827d744144fd18d2223cf8e8b7cf0": {
      "model_module": "@jupyter-widgets/base",
      "model_module_version": "1.2.0",
      "model_name": "LayoutModel",
      "state": {}
     },
     "e167d779d479423183967ae7468b1e9d": {
      "model_module": "@jupyter-widgets/base",
      "model_module_version": "1.2.0",
      "model_name": "LayoutModel",
      "state": {}
     },
     "e44a1e53f42b46d5ba69f496d6ad16fd": {
      "model_module": "@jupyter-widgets/controls",
      "model_module_version": "1.5.0",
      "model_name": "ButtonStyleModel",
      "state": {}
     },
     "e528da83d3444569ad3eb347c9107406": {
      "model_module": "@jupyter-widgets/controls",
      "model_module_version": "1.5.0",
      "model_name": "ButtonStyleModel",
      "state": {}
     },
     "e5e4f973a7d04c2d9477d84273faaa31": {
      "model_module": "@jupyter-widgets/base",
      "model_module_version": "1.2.0",
      "model_name": "LayoutModel",
      "state": {}
     },
     "e945a6fb82ce4ac3883b6d32ec93770f": {
      "model_module": "@jupyter-widgets/controls",
      "model_module_version": "1.5.0",
      "model_name": "DescriptionStyleModel",
      "state": {
       "description_width": "10%"
      }
     },
     "ea3976a307f741508a54c8f366dc531a": {
      "model_module": "@jupyter-widgets/controls",
      "model_module_version": "1.5.0",
      "model_name": "ButtonStyleModel",
      "state": {}
     },
     "ec42221b69da4daca8b7e1b5e223170c": {
      "model_module": "@jupyter-widgets/base",
      "model_module_version": "1.2.0",
      "model_name": "LayoutModel",
      "state": {}
     },
     "ed51cbd9398b4f4c9ce6203c245a24d7": {
      "model_module": "@jupyter-widgets/controls",
      "model_module_version": "1.5.0",
      "model_name": "VBoxModel",
      "state": {
       "children": [
        "IPY_MODEL_d6a563d5ae7b4c2aabb194bc55fe01cd",
        "IPY_MODEL_38d7dfd2ca604fc7b39b5536328e548c",
        "IPY_MODEL_4157d54ac11949f38a52d5186bfef28d"
       ],
       "layout": "IPY_MODEL_691249c869d740cc88069a1ffa7bfcde"
      }
     },
     "fe59239c9cba4b6eb31d03d099343505": {
      "model_module": "@jupyter-widgets/base",
      "model_module_version": "1.2.0",
      "model_name": "LayoutModel",
      "state": {}
     },
     "febe57ce3eb142b79d8262ed846ce243": {
      "model_module": "@jupyter-widgets/base",
      "model_module_version": "1.2.0",
      "model_name": "LayoutModel",
      "state": {}
     },
     "ffaa6503bd2b4bf5ac44471736e11018": {
      "model_module": "@jupyter-widgets/controls",
      "model_module_version": "1.5.0",
      "model_name": "TextModel",
      "state": {
       "description": "Name:",
       "layout": "IPY_MODEL_0c11117facc848c28b993c4279309566",
       "placeholder": "e.g. XRD",
       "style": "IPY_MODEL_0e4c97d14ad541f4a12009c908ed72a4"
      }
     }
    },
    "version_major": 2,
    "version_minor": 0
   }
  }
 },
 "nbformat": 4,
 "nbformat_minor": 4
}
