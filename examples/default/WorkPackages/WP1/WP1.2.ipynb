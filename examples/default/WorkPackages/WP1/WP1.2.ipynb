{
 "cells": [
  {
   "cell_type": "code",
   "execution_count": 3,
   "metadata": {
    "pycharm": {
     "name": "#%%\n"
    }
   },
   "outputs": [
    {
     "data": {
      "application/vnd.jupyter.widget-view+json": {
       "model_id": "16f66acf3dfb4ec9aa2182e2bf8ce26c",
       "version_major": 2,
       "version_minor": 0
      },
      "text/plain": [
       "VBox(children=(VBox(children=(Output(), Button(description='Folder', style=ButtonStyle()))), Output(), Output(…"
      ]
     },
     "metadata": {},
     "output_type": "display_data"
    }
   ],
   "source": [
    "from project import project\n",
    "\n",
    "exp = project.env('WP1.2')\n",
    "exp.gui.header()"
   ]
  },
  {
   "cell_type": "code",
   "execution_count": null,
   "metadata": {},
   "outputs": [],
   "source": []
  },
  {
   "cell_type": "code",
   "execution_count": null,
   "metadata": {},
   "outputs": [],
   "source": []
  }
 ],
 "metadata": {
  "kernelspec": {
   "display_name": "Python 3",
   "language": "python",
   "name": "python3"
  },
  "language_info": {
   "codemirror_mode": {
    "name": "ipython",
    "version": 3
   },
   "file_extension": ".py",
   "mimetype": "text/x-python",
   "name": "python",
   "nbconvert_exporter": "python",
   "pygments_lexer": "ipython3",
   "version": "3.7.2"
  },
  "pycharm": {
   "stem_cell": {
    "cell_type": "raw",
    "metadata": {
     "collapsed": false
    },
    "source": []
   }
  },
  "widgets": {
   "application/vnd.jupyter.widget-state+json": {
    "state": {
     "0445d23d27b6453291f32ea89c144692": {
      "model_module": "@jupyter-widgets/controls",
      "model_module_version": "1.5.0",
      "model_name": "ButtonModel",
      "state": {
       "description": "Folder",
       "layout": "IPY_MODEL_dc1b5f6921354f638025f3ce827061a4",
       "style": "IPY_MODEL_6d4d243112084c5e8ca6b562bf245ed2"
      }
     },
     "06d2b1da09f64510a381bbc5aeb92966": {
      "model_module": "@jupyter-widgets/base",
      "model_module_version": "1.2.0",
      "model_name": "LayoutModel",
      "state": {}
     },
     "0a40ec38f367463ca259e058d4943c07": {
      "model_module": "@jupyter-widgets/controls",
      "model_module_version": "1.5.0",
      "model_name": "ButtonModel",
      "state": {
       "description": "Confirm",
       "disabled": true,
       "layout": "IPY_MODEL_443bddbebdf64677b0c8e8c0350deee2",
       "style": "IPY_MODEL_6023be04998b4bab90a4199b3c72d997"
      }
     },
     "0a7c5a5c9c49492b87254abd5fe7186e": {
      "model_module": "@jupyter-widgets/controls",
      "model_module_version": "1.5.0",
      "model_name": "ButtonStyleModel",
      "state": {}
     },
     "0cfb9bf63c3b4479a80a5c60e4f8201f": {
      "model_module": "@jupyter-widgets/output",
      "model_module_version": "1.0.0",
      "model_name": "OutputModel",
      "state": {
       "layout": "IPY_MODEL_5988349422d24f6cb846cd7ae3991340"
      }
     },
     "0f45176eea824512ad9917ab8ed8a7e7": {
      "model_module": "@jupyter-widgets/controls",
      "model_module_version": "1.5.0",
      "model_name": "DescriptionStyleModel",
      "state": {
       "description_width": "10%"
      }
     },
     "0fb4c0edc9544aae9029d9d9dde2a62a": {
      "model_module": "@jupyter-widgets/controls",
      "model_module_version": "1.5.0",
      "model_name": "SelectMultipleModel",
      "state": {
       "_options_labels": [
        "WP1.2c"
       ],
       "description": "Auto Add",
       "index": [],
       "layout": "IPY_MODEL_2403b089d6624113b12d4ebd23acc13d",
       "rows": 5,
       "style": "IPY_MODEL_cead8a64798e480388b7ff3d8e96d00b"
      }
     },
     "0fc5a5baa5e54b3f84f9fead4c65efdc": {
      "model_module": "@jupyter-widgets/base",
      "model_module_version": "1.2.0",
      "model_name": "LayoutModel",
      "state": {
       "width": "auto"
      }
     },
     "1145c922d92e4b0683d8dd8f0ea9a26e": {
      "model_module": "@jupyter-widgets/controls",
      "model_module_version": "1.5.0",
      "model_name": "ButtonModel",
      "state": {
       "description": "Folder",
       "layout": "IPY_MODEL_e3eb5aaa5ef644cb9542442720f75806",
       "style": "IPY_MODEL_edff800be0664b9294735d318f0297d8"
      }
     },
     "11d401aaa8e346cbb9de3f8c5924cedf": {
      "model_module": "@jupyter-widgets/output",
      "model_module_version": "1.0.0",
      "model_name": "OutputModel",
      "state": {
       "layout": "IPY_MODEL_d61664666dc34da69b310c79748a5513",
       "outputs": [
        {
         "data": {
          "text/html": "<h1 style=\"display: inline;\"><a href=\"WP1.2.ipynb\">WP1.2</a></h1><h3 style=\"display: inline;\">(<a href=\"../../Home.ipynb\" target=\"_blank\">Home</a>-><a href=\"../WP1.ipynb\" target=\"_blank\">WP1</a>)</h3>",
          "text/plain": "<cassini.ipygui.WHTML at 0x28f3ec35eb8>"
         },
         "metadata": {},
         "output_type": "display_data"
        }
       ]
      }
     },
     "14dfb43c6d564cc1aee37e1444005367": {
      "model_module": "@jupyter-widgets/base",
      "model_module_version": "1.2.0",
      "model_name": "LayoutModel",
      "state": {}
     },
     "1508d20e072b4a0a9c4b12db891af6b4": {
      "model_module": "@jupyter-widgets/base",
      "model_module_version": "1.2.0",
      "model_name": "LayoutModel",
      "state": {}
     },
     "1550f4b6953f48ba8baa0fdb1a692992": {
      "model_module": "@jupyter-widgets/output",
      "model_module_version": "1.0.0",
      "model_name": "OutputModel",
      "state": {
       "layout": "IPY_MODEL_fe6c3e1cbc534a589d85494d69d2f2ca"
      }
     },
     "16f66acf3dfb4ec9aa2182e2bf8ce26c": {
      "model_module": "@jupyter-widgets/controls",
      "model_module_version": "1.5.0",
      "model_name": "VBoxModel",
      "state": {
       "children": [
        "IPY_MODEL_2c02fa933bdd4c8184323adea075fbc0",
        "IPY_MODEL_97273cdead4347f18c9703fbac54e465",
        "IPY_MODEL_d3b5102cff654737b7cac6e4182c07e9",
        "IPY_MODEL_65c67cbc82f3439f8da552ffa2e29c76",
        "IPY_MODEL_7e82ac1e42ed49109dbde3eddec05ae6",
        "IPY_MODEL_be3e0c21258747109ee8186017078c14",
        "IPY_MODEL_b71c9674c1b04b7a9fb34bcfb2620cc6",
        "IPY_MODEL_5d789a4fbeba4b46a9e4f6e078cd2890",
        "IPY_MODEL_3f995387dee04dc7bb0a1b81d32663fa"
       ],
       "layout": "IPY_MODEL_9b330f30be094d6d9c99f97e11099d94"
      }
     },
     "171f4651250041739cb659df2ec6f664": {
      "model_module": "@jupyter-widgets/base",
      "model_module_version": "1.2.0",
      "model_name": "LayoutModel",
      "state": {}
     },
     "1788ead9cae44e49900b2d88d59f357b": {
      "model_module": "@jupyter-widgets/base",
      "model_module_version": "1.2.0",
      "model_name": "LayoutModel",
      "state": {}
     },
     "17e15be33fb543ed94be811aabfbdf06": {
      "model_module": "@jupyter-widgets/base",
      "model_module_version": "1.2.0",
      "model_name": "LayoutModel",
      "state": {
       "width": "auto"
      }
     },
     "18849b2f2f5847258e16cd76eb86980f": {
      "model_module": "@jupyter-widgets/controls",
      "model_module_version": "1.5.0",
      "model_name": "ButtonStyleModel",
      "state": {}
     },
     "18bf47b8b4624a4381f200365ea51f93": {
      "model_module": "@jupyter-widgets/base",
      "model_module_version": "1.2.0",
      "model_name": "LayoutModel",
      "state": {}
     },
     "20784446efc04bcbb2962d9d5bd35e20": {
      "model_module": "@jupyter-widgets/output",
      "model_module_version": "1.0.0",
      "model_name": "OutputModel",
      "state": {
       "layout": "IPY_MODEL_d4c9afcaaa384c99bd579e11ffb6d1be",
       "outputs": [
        {
         "data": {
          "text/html": "<h3>New Sample</h3>",
          "text/plain": "<cassini.ipygui.WHTML at 0x28f3ecd1a90>"
         },
         "metadata": {},
         "output_type": "display_data"
        }
       ]
      }
     },
     "22f2ef55b16449b382c9afe6169ad943": {
      "model_module": "@jupyter-widgets/base",
      "model_module_version": "1.2.0",
      "model_name": "LayoutModel",
      "state": {}
     },
     "2403b089d6624113b12d4ebd23acc13d": {
      "model_module": "@jupyter-widgets/base",
      "model_module_version": "1.2.0",
      "model_name": "LayoutModel",
      "state": {
       "width": "auto"
      }
     },
     "24074674159445cc88f0e3267fa9c780": {
      "model_module": "@jupyter-widgets/output",
      "model_module_version": "1.0.0",
      "model_name": "OutputModel",
      "state": {
       "layout": "IPY_MODEL_46ab004befe54481a2e0ce6a6de8dc3f"
      }
     },
     "2457dca4a7fd41808afaa26c67255dad": {
      "model_module": "@jupyter-widgets/controls",
      "model_module_version": "1.5.0",
      "model_name": "DescriptionStyleModel",
      "state": {
       "description_width": "10%"
      }
     },
     "26c696d91a6e4c12b55a953981e2e13b": {
      "model_module": "@jupyter-widgets/base",
      "model_module_version": "1.2.0",
      "model_name": "LayoutModel",
      "state": {
       "width": "auto"
      }
     },
     "2c02fa933bdd4c8184323adea075fbc0": {
      "model_module": "@jupyter-widgets/controls",
      "model_module_version": "1.5.0",
      "model_name": "VBoxModel",
      "state": {
       "children": [
        "IPY_MODEL_4b7de02a42ce4c5b8f28f287f0a362a3",
        "IPY_MODEL_1145c922d92e4b0683d8dd8f0ea9a26e"
       ],
       "layout": "IPY_MODEL_fd62e0f7ae3d4efbaef9fe8a2437f482"
      }
     },
     "342ae9f5298f4f58b4275ed355c33201": {
      "model_module": "@jupyter-widgets/controls",
      "model_module_version": "1.5.0",
      "model_name": "TextModel",
      "state": {
       "description": "Identifier",
       "layout": "IPY_MODEL_26c696d91a6e4c12b55a953981e2e13b",
       "placeholder": "([^0-9^-][^-]*)",
       "style": "IPY_MODEL_aa84026c2a074dc49921d1b1f0442cd9"
      }
     },
     "3bbfc1c966a54c38b7d50f9a12882a26": {
      "model_module": "@jupyter-widgets/controls",
      "model_module_version": "1.5.0",
      "model_name": "ButtonModel",
      "state": {
       "description": "Confirm",
       "disabled": true,
       "layout": "IPY_MODEL_f182245caacc4953a242b0fba3e137c9",
       "style": "IPY_MODEL_dcd480a92a384cab878fef78a573a074"
      }
     },
     "3e914612836f47d88b5caba7df0e2334": {
      "model_module": "@jupyter-widgets/base",
      "model_module_version": "1.2.0",
      "model_name": "LayoutModel",
      "state": {}
     },
     "3f995387dee04dc7bb0a1b81d32663fa": {
      "model_module": "@jupyter-widgets/controls",
      "model_module_version": "1.5.0",
      "model_name": "VBoxModel",
      "state": {
       "children": [
        "IPY_MODEL_416bcffc88b94cffad0267f5f7076515",
        "IPY_MODEL_0fb4c0edc9544aae9029d9d9dde2a62a",
        "IPY_MODEL_e009f221498c40ba9d5e61dbd14da436",
        "IPY_MODEL_e897cd3a30f14377a03e3d0e8d3f285c"
       ],
       "layout": "IPY_MODEL_b7057e4806784dd19b6cc27e9888d98a"
      }
     },
     "416bcffc88b94cffad0267f5f7076515": {
      "model_module": "@jupyter-widgets/controls",
      "model_module_version": "1.5.0",
      "model_name": "TextModel",
      "state": {
       "description": "Name:",
       "layout": "IPY_MODEL_cf04fd42c9f441c499a6d8ed5aaf8581",
       "placeholder": "e.g. XRD",
       "style": "IPY_MODEL_5525f3a64b3b4564a7b37d3248265794"
      }
     },
     "424d8cd0b9fb4e018904921af2fa5dad": {
      "model_module": "@jupyter-widgets/controls",
      "model_module_version": "1.5.0",
      "model_name": "TextareaModel",
      "state": {
       "description": "Motivation",
       "layout": "IPY_MODEL_e3026ad96a34417aa0c3a29fd59dbc9a",
       "style": "IPY_MODEL_2457dca4a7fd41808afaa26c67255dad"
      }
     },
     "443bddbebdf64677b0c8e8c0350deee2": {
      "model_module": "@jupyter-widgets/base",
      "model_module_version": "1.2.0",
      "model_name": "LayoutModel",
      "state": {}
     },
     "4478473e15c34c73a72756d0c4ffd781": {
      "model_module": "@jupyter-widgets/controls",
      "model_module_version": "1.5.0",
      "model_name": "ButtonModel",
      "state": {
       "description": "New",
       "layout": "IPY_MODEL_d1d078d4926e4fd292736439866fbbc1",
       "style": "IPY_MODEL_dcfc0c1bb7e14272ac92015de8bc0ba8"
      }
     },
     "46ab004befe54481a2e0ce6a6de8dc3f": {
      "model_module": "@jupyter-widgets/base",
      "model_module_version": "1.2.0",
      "model_name": "LayoutModel",
      "state": {
       "width": "auto"
      }
     },
     "46af5007552744fd8707f955aa5604ba": {
      "model_module": "@jupyter-widgets/base",
      "model_module_version": "1.2.0",
      "model_name": "LayoutModel",
      "state": {
       "width": "auto"
      }
     },
     "4b39d531ef16438188c9162150b14680": {
      "model_module": "@jupyter-widgets/controls",
      "model_module_version": "1.5.0",
      "model_name": "VBoxModel",
      "state": {
       "children": [
        "IPY_MODEL_99299b65949c44168b4cb68c77c9ac60",
        "IPY_MODEL_e477629d93464e378a5b72fc4f84e568",
        "IPY_MODEL_ec2bf9af79014905b3f3d8f3d7407517",
        "IPY_MODEL_20784446efc04bcbb2962d9d5bd35e20",
        "IPY_MODEL_66ec7322f62b473b822b580ccfa732ab",
        "IPY_MODEL_a9fb6b1b3051447da86f4418c3a10ca3",
        "IPY_MODEL_5bd93ed7e03a492ba2e9b624922ef14e"
       ],
       "layout": "IPY_MODEL_a9a2db57c3624b0b8884c5e7f0bb4825"
      }
     },
     "4b7de02a42ce4c5b8f28f287f0a362a3": {
      "model_module": "@jupyter-widgets/output",
      "model_module_version": "1.0.0",
      "model_name": "OutputModel",
      "state": {
       "layout": "IPY_MODEL_14dfb43c6d564cc1aee37e1444005367",
       "outputs": [
        {
         "data": {
          "text/html": "<h1 style=\"display: inline;\"><a href=\"WP1.2.ipynb\">WP1.2</a></h1><h3 style=\"display: inline;\">(<a href=\"../../Home.ipynb\" target=\"_blank\">Home</a>-><a href=\"../WP1.ipynb\" target=\"_blank\">WP1</a>)</h3>",
          "text/plain": "<cassini.ipygui.WHTML at 0x28f3ece57f0>"
         },
         "metadata": {},
         "output_type": "display_data"
        }
       ]
      }
     },
     "4ca11dd6aa2a41db9dfd57afdcc365ee": {
      "model_module": "@jupyter-widgets/controls",
      "model_module_version": "1.5.0",
      "model_name": "ButtonModel",
      "state": {
       "description": "New",
       "layout": "IPY_MODEL_3e914612836f47d88b5caba7df0e2334",
       "style": "IPY_MODEL_0a7c5a5c9c49492b87254abd5fe7186e"
      }
     },
     "4ffa5db1bf8f43a0bee833beb800efee": {
      "model_module": "@jupyter-widgets/base",
      "model_module_version": "1.2.0",
      "model_name": "LayoutModel",
      "state": {}
     },
     "50f8e79f179a4e91a7a23da5d781da7d": {
      "model_module": "@jupyter-widgets/base",
      "model_module_version": "1.2.0",
      "model_name": "LayoutModel",
      "state": {
       "width": "auto"
      }
     },
     "548f73a092714bffbeb8d1ea5333dc45": {
      "model_module": "@jupyter-widgets/base",
      "model_module_version": "1.2.0",
      "model_name": "LayoutModel",
      "state": {}
     },
     "5525f3a64b3b4564a7b37d3248265794": {
      "model_module": "@jupyter-widgets/controls",
      "model_module_version": "1.5.0",
      "model_name": "DescriptionStyleModel",
      "state": {
       "description_width": "10%"
      }
     },
     "57119a065e7b4793a32cc1ac1fb0e17a": {
      "model_module": "@jupyter-widgets/base",
      "model_module_version": "1.2.0",
      "model_name": "LayoutModel",
      "state": {}
     },
     "5988349422d24f6cb846cd7ae3991340": {
      "model_module": "@jupyter-widgets/base",
      "model_module_version": "1.2.0",
      "model_name": "LayoutModel",
      "state": {}
     },
     "5bd93ed7e03a492ba2e9b624922ef14e": {
      "model_module": "@jupyter-widgets/controls",
      "model_module_version": "1.5.0",
      "model_name": "VBoxModel",
      "state": {
       "children": [
        "IPY_MODEL_970c521cbbad483f8aaa53a5f9681564",
        "IPY_MODEL_dfa7082b9af84facadca31b4daae2f2d",
        "IPY_MODEL_b4ac0fa01cde4e0182ef96b65205ccd2",
        "IPY_MODEL_1550f4b6953f48ba8baa0fdb1a692992"
       ],
       "layout": "IPY_MODEL_8f186a4c619a4565be139135e013005e"
      }
     },
     "5d789a4fbeba4b46a9e4f6e078cd2890": {
      "model_module": "@jupyter-widgets/output",
      "model_module_version": "1.0.0",
      "model_name": "OutputModel",
      "state": {
       "layout": "IPY_MODEL_6aad61f9704b4b47b495a2236f79ed4f",
       "outputs": [
        {
         "data": {
          "text/html": "<h3>New Data</h3>",
          "text/plain": "<cassini.ipygui.WHTML at 0x28f3ed14be0>"
         },
         "metadata": {},
         "output_type": "display_data"
        }
       ]
      }
     },
     "6023be04998b4bab90a4199b3c72d997": {
      "model_module": "@jupyter-widgets/controls",
      "model_module_version": "1.5.0",
      "model_name": "ButtonStyleModel",
      "state": {}
     },
     "65c67cbc82f3439f8da552ffa2e29c76": {
      "model_module": "@jupyter-widgets/output",
      "model_module_version": "1.0.0",
      "model_name": "OutputModel",
      "state": {
       "layout": "IPY_MODEL_4ffa5db1bf8f43a0bee833beb800efee",
       "outputs": [
        {
         "data": {
          "text/html": "<h3>Samples</h3>",
          "text/plain": "<cassini.ipygui.WHTML at 0x28f3ecb1b38>"
         },
         "metadata": {},
         "output_type": "display_data"
        }
       ]
      }
     },
     "66ec7322f62b473b822b580ccfa732ab": {
      "model_module": "@jupyter-widgets/controls",
      "model_module_version": "1.5.0",
      "model_name": "VBoxModel",
      "state": {
       "children": [
        "IPY_MODEL_342ae9f5298f4f58b4275ed355c33201",
        "IPY_MODEL_e1a690054b4c412d8fa4b14dd5c36f8d",
        "IPY_MODEL_424d8cd0b9fb4e018904921af2fa5dad",
        "IPY_MODEL_82125a30c66b45d4b6a988af16f4b8f2",
        "IPY_MODEL_90b8da412d3949cbb8d1852ff9d06b7c"
       ],
       "layout": "IPY_MODEL_6913f01f4c2b45cf8aaf2b2b6e796076"
      }
     },
     "6913f01f4c2b45cf8aaf2b2b6e796076": {
      "model_module": "@jupyter-widgets/base",
      "model_module_version": "1.2.0",
      "model_name": "LayoutModel",
      "state": {}
     },
     "6aad61f9704b4b47b495a2236f79ed4f": {
      "model_module": "@jupyter-widgets/base",
      "model_module_version": "1.2.0",
      "model_name": "LayoutModel",
      "state": {}
     },
     "6d4d243112084c5e8ca6b562bf245ed2": {
      "model_module": "@jupyter-widgets/controls",
      "model_module_version": "1.5.0",
      "model_name": "ButtonStyleModel",
      "state": {}
     },
     "71b207491f064c8ab65c748db1b209c8": {
      "model_module": "@jupyter-widgets/controls",
      "model_module_version": "1.5.0",
      "model_name": "ButtonModel",
      "state": {
       "description": "New",
       "layout": "IPY_MODEL_7d502ad6253b4285af8d809e34e13564",
       "style": "IPY_MODEL_c072cd97455843d982d67742fb1cdaa6"
      }
     },
     "792fc7dd84774f819a716ebdb05a927c": {
      "model_module": "@jupyter-widgets/controls",
      "model_module_version": "1.5.0",
      "model_name": "TextareaModel",
      "state": {
       "description": "Motivation",
       "layout": "IPY_MODEL_17e15be33fb543ed94be811aabfbdf06",
       "style": "IPY_MODEL_0f45176eea824512ad9917ab8ed8a7e7"
      }
     },
     "7d502ad6253b4285af8d809e34e13564": {
      "model_module": "@jupyter-widgets/base",
      "model_module_version": "1.2.0",
      "model_name": "LayoutModel",
      "state": {}
     },
     "7e82ac1e42ed49109dbde3eddec05ae6": {
      "model_module": "@jupyter-widgets/output",
      "model_module_version": "1.0.0",
      "model_name": "OutputModel",
      "state": {
       "layout": "IPY_MODEL_d41ffee105844da18f0ee9342cc489f2",
       "outputs": [
        {
         "data": {
          "text/html": "<table border=\"1\" class=\"dataframe\">\n  <thead>\n    <tr style=\"text-align: right;\">\n      <th></th>\n      <th>started</th>\n      <th>description</th>\n      <th>Obj</th>\n      <th>datasets</th>\n    </tr>\n    <tr>\n      <th>Name</th>\n      <th></th>\n      <th></th>\n      <th></th>\n      <th></th>\n    </tr>\n  </thead>\n  <tbody>\n    <tr>\n      <th>WP1.2c</th>\n      <td>2020-06-29</td>\n      <td></td>\n      <td><a href=\"WP1.2/WP1.2c.ipynb\" target=\"_blank\"><h4 style=\"display: inline;\">WP1.2c</h4 style=\"display: inline;\"</a></td>\n      <td>[]</td>\n    </tr>\n  </tbody>\n</table>",
          "text/plain": "          started description                Obj datasets\nName                                                     \nWP1.2c 2020-06-29              <Sample \"WP1.2c\">       []"
         },
         "metadata": {},
         "output_type": "display_data"
        }
       ]
      }
     },
     "7f8aea3dc8144a1d8642081ea4e69ac0": {
      "model_module": "@jupyter-widgets/controls",
      "model_module_version": "1.5.0",
      "model_name": "DescriptionStyleModel",
      "state": {
       "description_width": "10%"
      }
     },
     "80df619e934c44d0b474f8374bc67c35": {
      "model_module": "@jupyter-widgets/controls",
      "model_module_version": "1.5.0",
      "model_name": "ButtonModel",
      "state": {
       "description": "New",
       "layout": "IPY_MODEL_f9d7e4427d4642e8b53e35dbc10e0802",
       "style": "IPY_MODEL_e3ea7ac34729477db992bacde60bc0fb"
      }
     },
     "82125a30c66b45d4b6a988af16f4b8f2": {
      "model_module": "@jupyter-widgets/controls",
      "model_module_version": "1.5.0",
      "model_name": "HBoxModel",
      "state": {
       "children": [
        "IPY_MODEL_3bbfc1c966a54c38b7d50f9a12882a26",
        "IPY_MODEL_4478473e15c34c73a72756d0c4ffd781"
       ],
       "layout": "IPY_MODEL_9935c349c8e64e75b0cfaf40d7bfe5e0"
      }
     },
     "8324a3a26e594fb38dadca8d20875225": {
      "model_module": "@jupyter-widgets/controls",
      "model_module_version": "1.5.0",
      "model_name": "ButtonModel",
      "state": {
       "description": "Confirm",
       "disabled": true,
       "layout": "IPY_MODEL_18bf47b8b4624a4381f200365ea51f93",
       "style": "IPY_MODEL_f5247027badb4a2dba54418074ac475a"
      }
     },
     "8c7a72b1c1b24a919c88bea05588c8ff": {
      "model_module": "@jupyter-widgets/controls",
      "model_module_version": "1.5.0",
      "model_name": "DescriptionStyleModel",
      "state": {
       "description_width": "10%"
      }
     },
     "8ddff1e69f15432b9f6dd9fe1860e2c9": {
      "model_module": "@jupyter-widgets/controls",
      "model_module_version": "1.5.0",
      "model_name": "SelectModel",
      "state": {
       "_options_labels": [
        "Custom.tmplt.ipynb",
        "Sample.tmplt.ipynb"
       ],
       "description": "Template",
       "index": 0,
       "layout": "IPY_MODEL_9f6b829f98134fdc9c94aca8314e256f",
       "style": "IPY_MODEL_974944f68230487b82b42a18b23b33a7"
      }
     },
     "8f186a4c619a4565be139135e013005e": {
      "model_module": "@jupyter-widgets/base",
      "model_module_version": "1.2.0",
      "model_name": "LayoutModel",
      "state": {}
     },
     "90b8da412d3949cbb8d1852ff9d06b7c": {
      "model_module": "@jupyter-widgets/output",
      "model_module_version": "1.0.0",
      "model_name": "OutputModel",
      "state": {
       "layout": "IPY_MODEL_22f2ef55b16449b382c9afe6169ad943"
      }
     },
     "970c521cbbad483f8aaa53a5f9681564": {
      "model_module": "@jupyter-widgets/controls",
      "model_module_version": "1.5.0",
      "model_name": "TextModel",
      "state": {
       "description": "Name:",
       "layout": "IPY_MODEL_c231b92931024b2aaf960e9bba4b9fe8",
       "placeholder": "e.g. XRD",
       "style": "IPY_MODEL_7f8aea3dc8144a1d8642081ea4e69ac0"
      }
     },
     "97273cdead4347f18c9703fbac54e465": {
      "model_module": "@jupyter-widgets/output",
      "model_module_version": "1.0.0",
      "model_name": "OutputModel",
      "state": {
       "layout": "IPY_MODEL_1788ead9cae44e49900b2d88d59f357b",
       "outputs": [
        {
         "data": {
          "text/html": "<h3>Description</h3>",
          "text/plain": "<cassini.ipygui.WHTML at 0x28f3ece5860>"
         },
         "metadata": {},
         "output_type": "display_data"
        }
       ]
      }
     },
     "974944f68230487b82b42a18b23b33a7": {
      "model_module": "@jupyter-widgets/controls",
      "model_module_version": "1.5.0",
      "model_name": "DescriptionStyleModel",
      "state": {
       "description_width": "10%"
      }
     },
     "99299b65949c44168b4cb68c77c9ac60": {
      "model_module": "@jupyter-widgets/controls",
      "model_module_version": "1.5.0",
      "model_name": "VBoxModel",
      "state": {
       "children": [
        "IPY_MODEL_11d401aaa8e346cbb9de3f8c5924cedf",
        "IPY_MODEL_0445d23d27b6453291f32ea89c144692"
       ],
       "layout": "IPY_MODEL_bbcd63e33fa84affab8130f61696b02e"
      }
     },
     "9935c349c8e64e75b0cfaf40d7bfe5e0": {
      "model_module": "@jupyter-widgets/base",
      "model_module_version": "1.2.0",
      "model_name": "LayoutModel",
      "state": {}
     },
     "9b330f30be094d6d9c99f97e11099d94": {
      "model_module": "@jupyter-widgets/base",
      "model_module_version": "1.2.0",
      "model_name": "LayoutModel",
      "state": {}
     },
     "9f6b829f98134fdc9c94aca8314e256f": {
      "model_module": "@jupyter-widgets/base",
      "model_module_version": "1.2.0",
      "model_name": "LayoutModel",
      "state": {
       "width": "auto"
      }
     },
     "a9a2db57c3624b0b8884c5e7f0bb4825": {
      "model_module": "@jupyter-widgets/base",
      "model_module_version": "1.2.0",
      "model_name": "LayoutModel",
      "state": {}
     },
     "a9fb6b1b3051447da86f4418c3a10ca3": {
      "model_module": "@jupyter-widgets/output",
      "model_module_version": "1.0.0",
      "model_name": "OutputModel",
      "state": {
       "layout": "IPY_MODEL_ed4f8734da984d6784c5b30746b9c246",
       "outputs": [
        {
         "data": {
          "text/html": "<h3>New Data</h3>",
          "text/plain": "<cassini.ipygui.WHTML at 0x28f3ece50b8>"
         },
         "metadata": {},
         "output_type": "display_data"
        }
       ]
      }
     },
     "aa84026c2a074dc49921d1b1f0442cd9": {
      "model_module": "@jupyter-widgets/controls",
      "model_module_version": "1.5.0",
      "model_name": "DescriptionStyleModel",
      "state": {
       "description_width": "10%"
      }
     },
     "ab4d450870c845d794da2610ba24715b": {
      "model_module": "@jupyter-widgets/base",
      "model_module_version": "1.2.0",
      "model_name": "LayoutModel",
      "state": {}
     },
     "ad6bb8cc2e7347eca8f8226f18380324": {
      "model_module": "@jupyter-widgets/controls",
      "model_module_version": "1.5.0",
      "model_name": "TextModel",
      "state": {
       "description": "Identifier",
       "layout": "IPY_MODEL_e50ee32238714c4dbc4cde4415d30bc0",
       "placeholder": "([^0-9^-][^-]*)",
       "style": "IPY_MODEL_d987e14bb9af452fa31d4e353360beb7"
      }
     },
     "b3493c97881d4c69ac58a71752a3f913": {
      "model_module": "@jupyter-widgets/controls",
      "model_module_version": "1.5.0",
      "model_name": "HBoxModel",
      "state": {
       "children": [
        "IPY_MODEL_8324a3a26e594fb38dadca8d20875225",
        "IPY_MODEL_71b207491f064c8ab65c748db1b209c8"
       ],
       "layout": "IPY_MODEL_cd6497d96ab341a6a78b1bec192c0523"
      }
     },
     "b4ac0fa01cde4e0182ef96b65205ccd2": {
      "model_module": "@jupyter-widgets/controls",
      "model_module_version": "1.5.0",
      "model_name": "HBoxModel",
      "state": {
       "children": [
        "IPY_MODEL_d89b9ad6ce8f4f90bb45aaf020450a52",
        "IPY_MODEL_80df619e934c44d0b474f8374bc67c35"
       ],
       "layout": "IPY_MODEL_171f4651250041739cb659df2ec6f664"
      }
     },
     "b7057e4806784dd19b6cc27e9888d98a": {
      "model_module": "@jupyter-widgets/base",
      "model_module_version": "1.2.0",
      "model_name": "LayoutModel",
      "state": {}
     },
     "b71c9674c1b04b7a9fb34bcfb2620cc6": {
      "model_module": "@jupyter-widgets/controls",
      "model_module_version": "1.5.0",
      "model_name": "VBoxModel",
      "state": {
       "children": [
        "IPY_MODEL_ad6bb8cc2e7347eca8f8226f18380324",
        "IPY_MODEL_8ddff1e69f15432b9f6dd9fe1860e2c9",
        "IPY_MODEL_792fc7dd84774f819a716ebdb05a927c",
        "IPY_MODEL_b3493c97881d4c69ac58a71752a3f913",
        "IPY_MODEL_0cfb9bf63c3b4479a80a5c60e4f8201f"
       ],
       "layout": "IPY_MODEL_57119a065e7b4793a32cc1ac1fb0e17a"
      }
     },
     "bbcd63e33fa84affab8130f61696b02e": {
      "model_module": "@jupyter-widgets/base",
      "model_module_version": "1.2.0",
      "model_name": "LayoutModel",
      "state": {}
     },
     "be3e0c21258747109ee8186017078c14": {
      "model_module": "@jupyter-widgets/output",
      "model_module_version": "1.0.0",
      "model_name": "OutputModel",
      "state": {
       "layout": "IPY_MODEL_1508d20e072b4a0a9c4b12db891af6b4",
       "outputs": [
        {
         "data": {
          "text/html": "<h3>New Sample</h3>",
          "text/plain": "<cassini.ipygui.WHTML at 0x28f3ed1a9e8>"
         },
         "metadata": {},
         "output_type": "display_data"
        }
       ]
      }
     },
     "c072cd97455843d982d67742fb1cdaa6": {
      "model_module": "@jupyter-widgets/controls",
      "model_module_version": "1.5.0",
      "model_name": "ButtonStyleModel",
      "state": {}
     },
     "c231b92931024b2aaf960e9bba4b9fe8": {
      "model_module": "@jupyter-widgets/base",
      "model_module_version": "1.2.0",
      "model_name": "LayoutModel",
      "state": {
       "width": "auto"
      }
     },
     "c71c45f520594d2285d753185026574a": {
      "model_module": "@jupyter-widgets/controls",
      "model_module_version": "1.5.0",
      "model_name": "DescriptionStyleModel",
      "state": {
       "description_width": "10%"
      }
     },
     "c9e3d9f8736147b78db02b22e7dca99c": {
      "model_module": "@jupyter-widgets/output",
      "model_module_version": "1.0.0",
      "model_name": "OutputModel",
      "state": {
       "layout": "IPY_MODEL_0fc5a5baa5e54b3f84f9fead4c65efdc"
      }
     },
     "cd6497d96ab341a6a78b1bec192c0523": {
      "model_module": "@jupyter-widgets/base",
      "model_module_version": "1.2.0",
      "model_name": "LayoutModel",
      "state": {}
     },
     "cead8a64798e480388b7ff3d8e96d00b": {
      "model_module": "@jupyter-widgets/controls",
      "model_module_version": "1.5.0",
      "model_name": "DescriptionStyleModel",
      "state": {
       "description_width": "10%"
      }
     },
     "cf04fd42c9f441c499a6d8ed5aaf8581": {
      "model_module": "@jupyter-widgets/base",
      "model_module_version": "1.2.0",
      "model_name": "LayoutModel",
      "state": {
       "width": "auto"
      }
     },
     "d1d078d4926e4fd292736439866fbbc1": {
      "model_module": "@jupyter-widgets/base",
      "model_module_version": "1.2.0",
      "model_name": "LayoutModel",
      "state": {}
     },
     "d22037e83a70486c81d2f0550b9efade": {
      "model_module": "@jupyter-widgets/base",
      "model_module_version": "1.2.0",
      "model_name": "LayoutModel",
      "state": {}
     },
     "d3b5102cff654737b7cac6e4182c07e9": {
      "model_module": "@jupyter-widgets/output",
      "model_module_version": "1.0.0",
      "model_name": "OutputModel",
      "state": {
       "layout": "IPY_MODEL_da969a2b17f64a709540d7b1c7fa142d",
       "outputs": [
        {
         "data": {
          "text/markdown": "They can contain markdown, although this isn't rendered in _tables_",
          "text/plain": "<IPython.core.display.Markdown object>"
         },
         "metadata": {},
         "output_type": "display_data"
        }
       ]
      }
     },
     "d41ffee105844da18f0ee9342cc489f2": {
      "model_module": "@jupyter-widgets/base",
      "model_module_version": "1.2.0",
      "model_name": "LayoutModel",
      "state": {}
     },
     "d4c9afcaaa384c99bd579e11ffb6d1be": {
      "model_module": "@jupyter-widgets/base",
      "model_module_version": "1.2.0",
      "model_name": "LayoutModel",
      "state": {}
     },
     "d61664666dc34da69b310c79748a5513": {
      "model_module": "@jupyter-widgets/base",
      "model_module_version": "1.2.0",
      "model_name": "LayoutModel",
      "state": {}
     },
     "d89b9ad6ce8f4f90bb45aaf020450a52": {
      "model_module": "@jupyter-widgets/controls",
      "model_module_version": "1.5.0",
      "model_name": "ButtonModel",
      "state": {
       "description": "Confirm",
       "disabled": true,
       "layout": "IPY_MODEL_06d2b1da09f64510a381bbc5aeb92966",
       "style": "IPY_MODEL_18849b2f2f5847258e16cd76eb86980f"
      }
     },
     "d987e14bb9af452fa31d4e353360beb7": {
      "model_module": "@jupyter-widgets/controls",
      "model_module_version": "1.5.0",
      "model_name": "DescriptionStyleModel",
      "state": {
       "description_width": "10%"
      }
     },
     "da969a2b17f64a709540d7b1c7fa142d": {
      "model_module": "@jupyter-widgets/base",
      "model_module_version": "1.2.0",
      "model_name": "LayoutModel",
      "state": {}
     },
     "dc1b5f6921354f638025f3ce827061a4": {
      "model_module": "@jupyter-widgets/base",
      "model_module_version": "1.2.0",
      "model_name": "LayoutModel",
      "state": {}
     },
     "dcd480a92a384cab878fef78a573a074": {
      "model_module": "@jupyter-widgets/controls",
      "model_module_version": "1.5.0",
      "model_name": "ButtonStyleModel",
      "state": {}
     },
     "dcfc0c1bb7e14272ac92015de8bc0ba8": {
      "model_module": "@jupyter-widgets/controls",
      "model_module_version": "1.5.0",
      "model_name": "ButtonStyleModel",
      "state": {}
     },
     "dfa7082b9af84facadca31b4daae2f2d": {
      "model_module": "@jupyter-widgets/controls",
      "model_module_version": "1.5.0",
      "model_name": "SelectMultipleModel",
      "state": {
       "_options_labels": [
        "WP1.2c"
       ],
       "description": "Auto Add",
       "index": [],
       "layout": "IPY_MODEL_ed3a0e66853745b39a70a5fb7cc3f6dc",
       "rows": 5,
       "style": "IPY_MODEL_8c7a72b1c1b24a919c88bea05588c8ff"
      }
     },
     "e009f221498c40ba9d5e61dbd14da436": {
      "model_module": "@jupyter-widgets/controls",
      "model_module_version": "1.5.0",
      "model_name": "HBoxModel",
      "state": {
       "children": [
        "IPY_MODEL_0a40ec38f367463ca259e058d4943c07",
        "IPY_MODEL_4ca11dd6aa2a41db9dfd57afdcc365ee"
       ],
       "layout": "IPY_MODEL_ab4d450870c845d794da2610ba24715b"
      }
     },
     "e1a690054b4c412d8fa4b14dd5c36f8d": {
      "model_module": "@jupyter-widgets/controls",
      "model_module_version": "1.5.0",
      "model_name": "SelectModel",
      "state": {
       "_options_labels": [
        "Custom.tmplt.ipynb",
        "Sample.tmplt.ipynb"
       ],
       "description": "Template",
       "index": 0,
       "layout": "IPY_MODEL_46af5007552744fd8707f955aa5604ba",
       "style": "IPY_MODEL_c71c45f520594d2285d753185026574a"
      }
     },
     "e3026ad96a34417aa0c3a29fd59dbc9a": {
      "model_module": "@jupyter-widgets/base",
      "model_module_version": "1.2.0",
      "model_name": "LayoutModel",
      "state": {
       "width": "auto"
      }
     },
     "e3ea7ac34729477db992bacde60bc0fb": {
      "model_module": "@jupyter-widgets/controls",
      "model_module_version": "1.5.0",
      "model_name": "ButtonStyleModel",
      "state": {}
     },
     "e3eb5aaa5ef644cb9542442720f75806": {
      "model_module": "@jupyter-widgets/base",
      "model_module_version": "1.2.0",
      "model_name": "LayoutModel",
      "state": {}
     },
     "e477629d93464e378a5b72fc4f84e568": {
      "model_module": "@jupyter-widgets/output",
      "model_module_version": "1.0.0",
      "model_name": "OutputModel",
      "state": {
       "layout": "IPY_MODEL_d22037e83a70486c81d2f0550b9efade",
       "outputs": [
        {
         "data": {
          "text/html": "<h3>Samples</h3>",
          "text/plain": "<cassini.ipygui.WHTML at 0x28f3ec359b0>"
         },
         "metadata": {},
         "output_type": "display_data"
        }
       ]
      }
     },
     "e50ee32238714c4dbc4cde4415d30bc0": {
      "model_module": "@jupyter-widgets/base",
      "model_module_version": "1.2.0",
      "model_name": "LayoutModel",
      "state": {
       "width": "auto"
      }
     },
     "e897cd3a30f14377a03e3d0e8d3f285c": {
      "model_module": "@jupyter-widgets/output",
      "model_module_version": "1.0.0",
      "model_name": "OutputModel",
      "state": {
       "layout": "IPY_MODEL_fdb3c34d4fad44939b51bd0ce75fe0d4"
      }
     },
     "ec2bf9af79014905b3f3d8f3d7407517": {
      "model_module": "@jupyter-widgets/output",
      "model_module_version": "1.0.0",
      "model_name": "OutputModel",
      "state": {
       "layout": "IPY_MODEL_548f73a092714bffbeb8d1ea5333dc45",
       "outputs": [
        {
         "data": {
          "text/html": "<table border=\"1\" class=\"dataframe\">\n  <thead>\n    <tr style=\"text-align: right;\">\n      <th></th>\n      <th>started</th>\n      <th>description</th>\n      <th>Obj</th>\n      <th>datasets</th>\n    </tr>\n    <tr>\n      <th>Name</th>\n      <th></th>\n      <th></th>\n      <th></th>\n      <th></th>\n    </tr>\n  </thead>\n  <tbody>\n    <tr>\n      <th>WP1.2c</th>\n      <td>2020-06-29</td>\n      <td></td>\n      <td><a href=\"WP1.2/WP1.2c.ipynb\" target=\"_blank\"><h4 style=\"display: inline;\">WP1.2c</h4 style=\"display: inline;\"</a></td>\n      <td>[]</td>\n    </tr>\n  </tbody>\n</table>",
          "text/plain": "          started description                Obj datasets\nName                                                     \nWP1.2c 2020-06-29              <Sample \"WP1.2c\">       []"
         },
         "metadata": {},
         "output_type": "display_data"
        }
       ]
      }
     },
     "ed3a0e66853745b39a70a5fb7cc3f6dc": {
      "model_module": "@jupyter-widgets/base",
      "model_module_version": "1.2.0",
      "model_name": "LayoutModel",
      "state": {
       "width": "auto"
      }
     },
     "ed4f8734da984d6784c5b30746b9c246": {
      "model_module": "@jupyter-widgets/base",
      "model_module_version": "1.2.0",
      "model_name": "LayoutModel",
      "state": {}
     },
     "edff800be0664b9294735d318f0297d8": {
      "model_module": "@jupyter-widgets/controls",
      "model_module_version": "1.5.0",
      "model_name": "ButtonStyleModel",
      "state": {}
     },
     "f182245caacc4953a242b0fba3e137c9": {
      "model_module": "@jupyter-widgets/base",
      "model_module_version": "1.2.0",
      "model_name": "LayoutModel",
      "state": {}
     },
     "f22bb25483bf42919bdd4b52920a1e0c": {
      "model_module": "@jupyter-widgets/output",
      "model_module_version": "1.0.0",
      "model_name": "OutputModel",
      "state": {
       "layout": "IPY_MODEL_50f8e79f179a4e91a7a23da5d781da7d"
      }
     },
     "f5247027badb4a2dba54418074ac475a": {
      "model_module": "@jupyter-widgets/controls",
      "model_module_version": "1.5.0",
      "model_name": "ButtonStyleModel",
      "state": {}
     },
     "f7644571406442aa8fc22c20030e5fb6": {
      "model_module": "@jupyter-widgets/base",
      "model_module_version": "1.2.0",
      "model_name": "LayoutModel",
      "state": {
       "width": "auto"
      }
     },
     "f9d7e4427d4642e8b53e35dbc10e0802": {
      "model_module": "@jupyter-widgets/base",
      "model_module_version": "1.2.0",
      "model_name": "LayoutModel",
      "state": {}
     },
     "fba9c0d25be8433c9a58bb1a6dadf749": {
      "model_module": "@jupyter-widgets/output",
      "model_module_version": "1.0.0",
      "model_name": "OutputModel",
      "state": {
       "layout": "IPY_MODEL_f7644571406442aa8fc22c20030e5fb6"
      }
     },
     "fd62e0f7ae3d4efbaef9fe8a2437f482": {
      "model_module": "@jupyter-widgets/base",
      "model_module_version": "1.2.0",
      "model_name": "LayoutModel",
      "state": {}
     },
     "fdb3c34d4fad44939b51bd0ce75fe0d4": {
      "model_module": "@jupyter-widgets/base",
      "model_module_version": "1.2.0",
      "model_name": "LayoutModel",
      "state": {}
     },
     "fe6c3e1cbc534a589d85494d69d2f2ca": {
      "model_module": "@jupyter-widgets/base",
      "model_module_version": "1.2.0",
      "model_name": "LayoutModel",
      "state": {}
     }
    },
    "version_major": 2,
    "version_minor": 0
   }
  }
 },
 "nbformat": 4,
 "nbformat_minor": 4
}
