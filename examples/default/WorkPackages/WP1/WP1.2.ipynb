{
 "cells": [
  {
   "cell_type": "code",
   "execution_count": 3,
   "metadata": {
    "pycharm": {
     "name": "#%%\n"
    }
   },
   "outputs": [
    {
     "data": {
      "application/vnd.jupyter.widget-view+json": {
       "model_id": "0454e96164a442d4b9aa1c64598cae28",
       "version_major": 2,
       "version_minor": 0
      },
      "text/plain": [
       "VBox(children=(VBox(children=(Output(), Button(description='Folder', style=ButtonStyle()))), Output(), Output(…"
      ]
     },
     "metadata": {},
     "output_type": "display_data"
    }
   ],
   "source": [
    "from project import project\n",
    "\n",
    "exp = project.env('WP1.2')\n",
    "exp.gui.header()"
   ]
  },
  {
   "cell_type": "code",
   "execution_count": null,
   "metadata": {},
   "outputs": [],
   "source": []
  }
 ],
 "metadata": {
  "kernelspec": {
   "display_name": "Python 3",
   "language": "python",
   "name": "python3"
  },
  "language_info": {
   "codemirror_mode": {
    "name": "ipython",
    "version": 3
   },
   "file_extension": ".py",
   "mimetype": "text/x-python",
   "name": "python",
   "nbconvert_exporter": "python",
   "pygments_lexer": "ipython3",
   "version": "3.7.2"
  },
  "pycharm": {
   "stem_cell": {
    "cell_type": "raw",
    "metadata": {
     "collapsed": false
    },
    "source": []
   }
  },
  "widgets": {
   "application/vnd.jupyter.widget-state+json": {
    "state": {
     "0055a60c9d31482993d6ef7e2d1840a4": {
      "model_module": "@jupyter-widgets/output",
      "model_module_version": "1.0.0",
      "model_name": "OutputModel",
      "state": {
       "layout": "IPY_MODEL_9f35240d53cb48bfa6721f0aafc136ce",
       "outputs": [
        {
         "data": {
          "text/html": "<h3>New Data</h3>",
          "text/plain": "<cassini.ipygui.WHTML at 0x26e47f92048>"
         },
         "metadata": {},
         "output_type": "display_data"
        }
       ]
      }
     },
     "019b3ab4de764936a94c92cb3c3c0e88": {
      "model_module": "@jupyter-widgets/controls",
      "model_module_version": "1.5.0",
      "model_name": "VBoxModel",
      "state": {
       "children": [
        "IPY_MODEL_38b85b83a20e48fc9edacbe734cffdbf",
        "IPY_MODEL_8a8773f2993d439e9f816758e1d4e017",
        "IPY_MODEL_dadf1e9935b4444ba60a9012a75fe71d",
        "IPY_MODEL_3f20de1084634d4fb69ffa8bcaadc6d4",
        "IPY_MODEL_b322ba9672124235a53ec3df3099a351"
       ],
       "layout": "IPY_MODEL_a839f778b9ff4648ba71be9430851326"
      }
     },
     "0268c18e044f4466bf3bbb62b844d279": {
      "model_module": "@jupyter-widgets/controls",
      "model_module_version": "1.5.0",
      "model_name": "VBoxModel",
      "state": {
       "children": [
        "IPY_MODEL_7280254e6c6a48779768b6e398600a69",
        "IPY_MODEL_85e14b1a35c74e24a740ed0b476a29ab"
       ],
       "layout": "IPY_MODEL_e8a2d4368705474daaf0b5674962d6c9"
      }
     },
     "0454e96164a442d4b9aa1c64598cae28": {
      "model_module": "@jupyter-widgets/controls",
      "model_module_version": "1.5.0",
      "model_name": "VBoxModel",
      "state": {
       "children": [
        "IPY_MODEL_7bcc2e1e9b8a4f2e8d6a6c9e8c3acb40",
        "IPY_MODEL_3a095c0cd5a64019b0bdd7098c960601",
        "IPY_MODEL_6dadd6f4ab8b453bb236d67b04633d2b",
        "IPY_MODEL_fcc565f4afdf4d72a11d98bef9e4728e",
        "IPY_MODEL_0b5a1efeb46a4226bef1dd7770dceff0",
        "IPY_MODEL_ad94dcc396ef48d2a41b8ff26ca27d8d",
        "IPY_MODEL_3cfd502b30884934aa33d22c8b6f1795"
       ],
       "layout": "IPY_MODEL_a1f5becce51a4697ba0d9326480b7e89"
      }
     },
     "0574df150c8c47258d87a3305392c632": {
      "model_module": "@jupyter-widgets/controls",
      "model_module_version": "1.5.0",
      "model_name": "TextModel",
      "state": {
       "description": "Identifier",
       "layout": "IPY_MODEL_bf2674ebaec24ce6a16ddf7d49178506",
       "placeholder": "([^0-9^-][^-]*)",
       "style": "IPY_MODEL_0c0187c4a2dc46b99e7498a645354798"
      }
     },
     "07937b3af5f74e258b0757910c297689": {
      "model_module": "@jupyter-widgets/controls",
      "model_module_version": "1.5.0",
      "model_name": "ButtonModel",
      "state": {
       "description": "Folder",
       "layout": "IPY_MODEL_ecbd62d149c24796acb14f381d95290d",
       "style": "IPY_MODEL_d1389a10b724473cb0c17ea98a7b6f98"
      }
     },
     "085088fb1ee7415c94449194eaf4e5e3": {
      "model_module": "@jupyter-widgets/base",
      "model_module_version": "1.2.0",
      "model_name": "LayoutModel",
      "state": {}
     },
     "0a45655e4da84f349344aae0da2aeb70": {
      "model_module": "@jupyter-widgets/base",
      "model_module_version": "1.2.0",
      "model_name": "LayoutModel",
      "state": {}
     },
     "0b5a1efeb46a4226bef1dd7770dceff0": {
      "model_module": "@jupyter-widgets/controls",
      "model_module_version": "1.5.0",
      "model_name": "VBoxModel",
      "state": {
       "children": [
        "IPY_MODEL_0574df150c8c47258d87a3305392c632",
        "IPY_MODEL_de274b02a7324b588f2b6eb12b898415",
        "IPY_MODEL_4ec2815f7d3f4e95b7b8013757ae613e",
        "IPY_MODEL_f4797bf0f5704b21a11e44e7bcef38e8",
        "IPY_MODEL_961d4cfeac36486e96a34a0f070bff8d"
       ],
       "layout": "IPY_MODEL_4e35fb6468444971adb8079b86968c2b"
      }
     },
     "0c0187c4a2dc46b99e7498a645354798": {
      "model_module": "@jupyter-widgets/controls",
      "model_module_version": "1.5.0",
      "model_name": "DescriptionStyleModel",
      "state": {
       "description_width": "10%"
      }
     },
     "0cd3a43b312d42e6ba3ded66a06aae4f": {
      "model_module": "@jupyter-widgets/output",
      "model_module_version": "1.0.0",
      "model_name": "OutputModel",
      "state": {
       "layout": "IPY_MODEL_61f14555fe0147a6bcb51f6551fc9458"
      }
     },
     "1048d9b0d275474ca1c84977b3e3073e": {
      "model_module": "@jupyter-widgets/base",
      "model_module_version": "1.2.0",
      "model_name": "LayoutModel",
      "state": {}
     },
     "133f505e78c04489844cc3a87dbb71ee": {
      "model_module": "@jupyter-widgets/controls",
      "model_module_version": "1.5.0",
      "model_name": "VBoxModel",
      "state": {
       "children": [
        "IPY_MODEL_9507104bb7e84f6884ea167243e932eb",
        "IPY_MODEL_26cebdb280b449c1ba2890eea11af6e0",
        "IPY_MODEL_296b53ff529f4c75b405ffd968c68cce",
        "IPY_MODEL_91e6c32009634066a8bf2e7aaad0746a"
       ],
       "layout": "IPY_MODEL_dd23355fbcb944cd9172b8f6fa9804db"
      }
     },
     "1340693fb7394c8a8587fbc94f0733cf": {
      "model_module": "@jupyter-widgets/base",
      "model_module_version": "1.2.0",
      "model_name": "LayoutModel",
      "state": {}
     },
     "13674ec636a04c0ca00e20d08558bf8d": {
      "model_module": "@jupyter-widgets/base",
      "model_module_version": "1.2.0",
      "model_name": "LayoutModel",
      "state": {}
     },
     "152cd2363153474897facf8bb177b291": {
      "model_module": "@jupyter-widgets/controls",
      "model_module_version": "1.5.0",
      "model_name": "VBoxModel",
      "state": {
       "children": [
        "IPY_MODEL_d4a8b3b0bf3a44acac352eca379496f2",
        "IPY_MODEL_3e10411048c94d1cae40c0053dccac39"
       ],
       "layout": "IPY_MODEL_c3fd4872d0864177bab83cf174f9cb89"
      }
     },
     "15a002960f964f46a4e1ad35d4a54857": {
      "model_module": "@jupyter-widgets/controls",
      "model_module_version": "1.5.0",
      "model_name": "ButtonModel",
      "state": {
       "description": "Confirm",
       "disabled": true,
       "layout": "IPY_MODEL_b6788942fbb74ddcbc98f080d33e386e",
       "style": "IPY_MODEL_489c802183bc42f69a2ed2192d4a89f7"
      }
     },
     "1dc81a7c48fb44458394a4f9c0614fce": {
      "model_module": "@jupyter-widgets/output",
      "model_module_version": "1.0.0",
      "model_name": "OutputModel",
      "state": {
       "layout": "IPY_MODEL_a44f2c74e96f4cd1a22d05b578062681"
      }
     },
     "20460ade88d54401853b4eaa56bab73b": {
      "model_module": "@jupyter-widgets/base",
      "model_module_version": "1.2.0",
      "model_name": "LayoutModel",
      "state": {}
     },
     "23f8fad78be549a092ce5b44f04c4ce1": {
      "model_module": "@jupyter-widgets/controls",
      "model_module_version": "1.5.0",
      "model_name": "ButtonStyleModel",
      "state": {}
     },
     "26cebdb280b449c1ba2890eea11af6e0": {
      "model_module": "@jupyter-widgets/controls",
      "model_module_version": "1.5.0",
      "model_name": "SelectMultipleModel",
      "state": {
       "description": "Auto Add",
       "index": [],
       "layout": "IPY_MODEL_99994f63f53642298a54e70975c6a327",
       "rows": 5,
       "style": "IPY_MODEL_b92f490aed1542a2a0dbb745d25027b4"
      }
     },
     "296b53ff529f4c75b405ffd968c68cce": {
      "model_module": "@jupyter-widgets/controls",
      "model_module_version": "1.5.0",
      "model_name": "HBoxModel",
      "state": {
       "children": [
        "IPY_MODEL_fbad6b4b59c24ff4895f9180a01773af",
        "IPY_MODEL_d1239b5b2cf84d5da515d2e5ccac26d6"
       ],
       "layout": "IPY_MODEL_964b2370d928417a8b5f5f6a71620076"
      }
     },
     "2a0068d3a4174547890fec5d5027cf3b": {
      "model_module": "@jupyter-widgets/base",
      "model_module_version": "1.2.0",
      "model_name": "LayoutModel",
      "state": {}
     },
     "2e7bdbae80d94aa882d98f0ce914365c": {
      "model_module": "@jupyter-widgets/controls",
      "model_module_version": "1.5.0",
      "model_name": "DescriptionStyleModel",
      "state": {
       "description_width": "10%"
      }
     },
     "2f29654d6ef64b0986caedef3c2c1447": {
      "model_module": "@jupyter-widgets/base",
      "model_module_version": "1.2.0",
      "model_name": "LayoutModel",
      "state": {}
     },
     "30605f041a0d4e9fa2d4045a2167b0dc": {
      "model_module": "@jupyter-widgets/output",
      "model_module_version": "1.0.0",
      "model_name": "OutputModel",
      "state": {
       "layout": "IPY_MODEL_e7e70fe5a78747ae9c5c911313afc812",
       "outputs": [
        {
         "data": {
          "text/html": "<h3>New Sample</h3>",
          "text/plain": "<cassini.ipygui.WHTML at 0x26e47ffb780>"
         },
         "metadata": {},
         "output_type": "display_data"
        }
       ]
      }
     },
     "318db10025554dcaaae03d8cb52c1b33": {
      "model_module": "@jupyter-widgets/base",
      "model_module_version": "1.2.0",
      "model_name": "LayoutModel",
      "state": {}
     },
     "3359731fca1a4a1bbb43af6cef10d563": {
      "model_module": "@jupyter-widgets/output",
      "model_module_version": "1.0.0",
      "model_name": "OutputModel",
      "state": {
       "layout": "IPY_MODEL_aaca96d5b03c4156927cc272beb72d88"
      }
     },
     "353484ce43d7423cb9d525251a707214": {
      "model_module": "@jupyter-widgets/controls",
      "model_module_version": "1.5.0",
      "model_name": "ButtonStyleModel",
      "state": {}
     },
     "38b85b83a20e48fc9edacbe734cffdbf": {
      "model_module": "@jupyter-widgets/controls",
      "model_module_version": "1.5.0",
      "model_name": "TextModel",
      "state": {
       "description": "Identifier",
       "layout": "IPY_MODEL_dfc14f143aa848539749919a8cebd53e",
       "placeholder": "([^0-9^-][^-]*)",
       "style": "IPY_MODEL_9f3c5864c6124c16ae1395d0a51e65fe"
      }
     },
     "3a095c0cd5a64019b0bdd7098c960601": {
      "model_module": "@jupyter-widgets/output",
      "model_module_version": "1.0.0",
      "model_name": "OutputModel",
      "state": {
       "layout": "IPY_MODEL_c3f81eaf2d9a494ca03eb2de5809f65a",
       "outputs": [
        {
         "data": {
          "text/html": "<h3>Samples</h3>",
          "text/plain": "<cassini.ipygui.WHTML at 0x26e3fbfd278>"
         },
         "metadata": {},
         "output_type": "display_data"
        }
       ]
      }
     },
     "3cfd502b30884934aa33d22c8b6f1795": {
      "model_module": "@jupyter-widgets/controls",
      "model_module_version": "1.5.0",
      "model_name": "VBoxModel",
      "state": {
       "children": [
        "IPY_MODEL_e83fc254ad344df5859ab32ffb3ef9c7",
        "IPY_MODEL_b58655e8c4ae4f11aba77b462ed842fc",
        "IPY_MODEL_4ca1b9d161f34e2493c02776c86f79e2",
        "IPY_MODEL_0cd3a43b312d42e6ba3ded66a06aae4f"
       ],
       "layout": "IPY_MODEL_85cc8372603c40ac92e340521be7db1e"
      }
     },
     "3e10411048c94d1cae40c0053dccac39": {
      "model_module": "@jupyter-widgets/controls",
      "model_module_version": "1.5.0",
      "model_name": "ButtonModel",
      "state": {
       "description": "Folder",
       "layout": "IPY_MODEL_13674ec636a04c0ca00e20d08558bf8d",
       "style": "IPY_MODEL_353484ce43d7423cb9d525251a707214"
      }
     },
     "3f04b36fbce14dd08fb67c9c611461b9": {
      "model_module": "@jupyter-widgets/output",
      "model_module_version": "1.0.0",
      "model_name": "OutputModel",
      "state": {
       "layout": "IPY_MODEL_aa51e687425849859f385ef6497a5ea0",
       "outputs": [
        {
         "data": {
          "text/html": "<h3>New Data</h3>",
          "text/plain": "<cassini.ipygui.WHTML at 0x26e47ffbda0>"
         },
         "metadata": {},
         "output_type": "display_data"
        }
       ]
      }
     },
     "3f20de1084634d4fb69ffa8bcaadc6d4": {
      "model_module": "@jupyter-widgets/controls",
      "model_module_version": "1.5.0",
      "model_name": "HBoxModel",
      "state": {
       "children": [
        "IPY_MODEL_15a002960f964f46a4e1ad35d4a54857",
        "IPY_MODEL_da3c63cd436b4064be06af9a807dfbb5"
       ],
       "layout": "IPY_MODEL_703db36601a444a6b9b0674f62ebfc0a"
      }
     },
     "4034f5ee78f44f3bbe8a569e330a87e9": {
      "model_module": "@jupyter-widgets/base",
      "model_module_version": "1.2.0",
      "model_name": "LayoutModel",
      "state": {}
     },
     "420352b1bfe042f297f0cda1b1ec5aa4": {
      "model_module": "@jupyter-widgets/base",
      "model_module_version": "1.2.0",
      "model_name": "LayoutModel",
      "state": {}
     },
     "42e714307e8248e686810c4ec4488cf3": {
      "model_module": "@jupyter-widgets/base",
      "model_module_version": "1.2.0",
      "model_name": "LayoutModel",
      "state": {}
     },
     "46ffee37ac3f4e4a8277b9001d043fd2": {
      "model_module": "@jupyter-widgets/controls",
      "model_module_version": "1.5.0",
      "model_name": "ButtonStyleModel",
      "state": {}
     },
     "47c0ef25f180463eb51dad73f74e9d87": {
      "model_module": "@jupyter-widgets/output",
      "model_module_version": "1.0.0",
      "model_name": "OutputModel",
      "state": {
       "layout": "IPY_MODEL_318db10025554dcaaae03d8cb52c1b33",
       "outputs": [
        {
         "data": {
          "text/html": "<h3>New Sample</h3>",
          "text/plain": "<cassini.ipygui.WHTML at 0x26e47f766a0>"
         },
         "metadata": {},
         "output_type": "display_data"
        }
       ]
      }
     },
     "489c802183bc42f69a2ed2192d4a89f7": {
      "model_module": "@jupyter-widgets/controls",
      "model_module_version": "1.5.0",
      "model_name": "ButtonStyleModel",
      "state": {}
     },
     "4a54cc5be2cf426991498b8eee6fae28": {
      "model_module": "@jupyter-widgets/base",
      "model_module_version": "1.2.0",
      "model_name": "LayoutModel",
      "state": {
       "width": "auto"
      }
     },
     "4ca1b9d161f34e2493c02776c86f79e2": {
      "model_module": "@jupyter-widgets/controls",
      "model_module_version": "1.5.0",
      "model_name": "HBoxModel",
      "state": {
       "children": [
        "IPY_MODEL_b4b6f61b185042dfb9dd006e6a53bd64",
        "IPY_MODEL_b1661f8dbce94d88ad21e2da5067e7cc"
       ],
       "layout": "IPY_MODEL_42e714307e8248e686810c4ec4488cf3"
      }
     },
     "4e35fb6468444971adb8079b86968c2b": {
      "model_module": "@jupyter-widgets/base",
      "model_module_version": "1.2.0",
      "model_name": "LayoutModel",
      "state": {}
     },
     "4ec2815f7d3f4e95b7b8013757ae613e": {
      "model_module": "@jupyter-widgets/controls",
      "model_module_version": "1.5.0",
      "model_name": "TextareaModel",
      "state": {
       "description": "Motivation",
       "layout": "IPY_MODEL_56461e7a6a59491e98e0ce3aa7ec498d",
       "style": "IPY_MODEL_f2db2ab867684b54a04f8181dfa65662"
      }
     },
     "50a53c05440e4e3693a56a32e34026ec": {
      "model_module": "@jupyter-widgets/base",
      "model_module_version": "1.2.0",
      "model_name": "LayoutModel",
      "state": {}
     },
     "50e02d099fc74d6896547b811de5b180": {
      "model_module": "@jupyter-widgets/base",
      "model_module_version": "1.2.0",
      "model_name": "LayoutModel",
      "state": {}
     },
     "512b3bed014048a09f390abb0b60856c": {
      "model_module": "@jupyter-widgets/controls",
      "model_module_version": "1.5.0",
      "model_name": "ButtonStyleModel",
      "state": {}
     },
     "52d7041339564abd897d397beadeec17": {
      "model_module": "@jupyter-widgets/controls",
      "model_module_version": "1.5.0",
      "model_name": "DescriptionStyleModel",
      "state": {
       "description_width": "10%"
      }
     },
     "53bdf910393c43489f0a40062df6f80e": {
      "model_module": "@jupyter-widgets/output",
      "model_module_version": "1.0.0",
      "model_name": "OutputModel",
      "state": {
       "layout": "IPY_MODEL_7b035844524b41c5b839bb7fe86e0d71"
      }
     },
     "53c8767893504bf5b5631301b576b483": {
      "model_module": "@jupyter-widgets/controls",
      "model_module_version": "1.5.0",
      "model_name": "VBoxModel",
      "state": {
       "children": [
        "IPY_MODEL_0268c18e044f4466bf3bbb62b844d279",
        "IPY_MODEL_d28e33a74dca4e219d1ba3860c546919",
        "IPY_MODEL_d183ac055d1246bfbd03082b58721d92",
        "IPY_MODEL_30605f041a0d4e9fa2d4045a2167b0dc",
        "IPY_MODEL_019b3ab4de764936a94c92cb3c3c0e88",
        "IPY_MODEL_3f04b36fbce14dd08fb67c9c611461b9",
        "IPY_MODEL_b1a1b5b7c3ad4b58be7647d3b545616c"
       ],
       "layout": "IPY_MODEL_20460ade88d54401853b4eaa56bab73b"
      }
     },
     "5474a66c36374c3bbe11d4d50c6b66d6": {
      "model_module": "@jupyter-widgets/base",
      "model_module_version": "1.2.0",
      "model_name": "LayoutModel",
      "state": {}
     },
     "55e73de9cd8b4922adcf0099e72dd749": {
      "model_module": "@jupyter-widgets/base",
      "model_module_version": "1.2.0",
      "model_name": "LayoutModel",
      "state": {}
     },
     "56461e7a6a59491e98e0ce3aa7ec498d": {
      "model_module": "@jupyter-widgets/base",
      "model_module_version": "1.2.0",
      "model_name": "LayoutModel",
      "state": {
       "width": "auto"
      }
     },
     "5c13df79149846849d7980be90f206ca": {
      "model_module": "@jupyter-widgets/controls",
      "model_module_version": "1.5.0",
      "model_name": "SelectMultipleModel",
      "state": {
       "_options_labels": [
        "WP1.2c"
       ],
       "description": "Auto Add",
       "index": [],
       "layout": "IPY_MODEL_8870766d5dd6454facdc59f639450f00",
       "rows": 5,
       "style": "IPY_MODEL_83578cc7d7f944f6bf80eed79c9702a8"
      }
     },
     "5e8271c787354dddb6070ccf311f8e8c": {
      "model_module": "@jupyter-widgets/output",
      "model_module_version": "1.0.0",
      "model_name": "OutputModel",
      "state": {
       "layout": "IPY_MODEL_ea6a809c5a394f4ea92163bb0a539f1b",
       "outputs": [
        {
         "data": {
          "text/html": "<h3>Samples</h3>",
          "text/plain": "<cassini.ipygui.WHTML at 0x26e47f37160>"
         },
         "metadata": {},
         "output_type": "display_data"
        }
       ]
      }
     },
     "5f08123523474cbb9c54d3c0a443c6e2": {
      "model_module": "@jupyter-widgets/base",
      "model_module_version": "1.2.0",
      "model_name": "LayoutModel",
      "state": {}
     },
     "5f65cc6fe2ce469990ed7122b27ec038": {
      "model_module": "@jupyter-widgets/controls",
      "model_module_version": "1.5.0",
      "model_name": "VBoxModel",
      "state": {
       "children": [
        "IPY_MODEL_6d5776604c9a45b4973c514bd2409bce",
        "IPY_MODEL_d58079e1c50b412195393823b7e0387c",
        "IPY_MODEL_9c5a9f4260854edfb5339639fcf10068",
        "IPY_MODEL_eea4c5bdbb7e4b899d4473821237f568",
        "IPY_MODEL_feab5b2adff846e29f2755a0195786e3"
       ],
       "layout": "IPY_MODEL_0a45655e4da84f349344aae0da2aeb70"
      }
     },
     "61f14555fe0147a6bcb51f6551fc9458": {
      "model_module": "@jupyter-widgets/base",
      "model_module_version": "1.2.0",
      "model_name": "LayoutModel",
      "state": {}
     },
     "62c76fc480694df4be860861c386dc13": {
      "model_module": "@jupyter-widgets/base",
      "model_module_version": "1.2.0",
      "model_name": "LayoutModel",
      "state": {}
     },
     "6b5b827574414b63ae2d199146e9c68b": {
      "model_module": "@jupyter-widgets/base",
      "model_module_version": "1.2.0",
      "model_name": "LayoutModel",
      "state": {}
     },
     "6c76c8ba93b2425abb2847a5a684c3e5": {
      "model_module": "@jupyter-widgets/base",
      "model_module_version": "1.2.0",
      "model_name": "LayoutModel",
      "state": {}
     },
     "6d53a1f9e7424a83b5981afea8c3d0de": {
      "model_module": "@jupyter-widgets/base",
      "model_module_version": "1.2.0",
      "model_name": "LayoutModel",
      "state": {}
     },
     "6d5776604c9a45b4973c514bd2409bce": {
      "model_module": "@jupyter-widgets/controls",
      "model_module_version": "1.5.0",
      "model_name": "TextModel",
      "state": {
       "description": "Identifier",
       "disabled": true,
       "layout": "IPY_MODEL_a80099dfdc1a4bb6a0bee0910c03e890",
       "placeholder": "([^0-9^-][^-]*)",
       "style": "IPY_MODEL_52d7041339564abd897d397beadeec17",
       "value": "c"
      }
     },
     "6dadd6f4ab8b453bb236d67b04633d2b": {
      "model_module": "@jupyter-widgets/output",
      "model_module_version": "1.0.0",
      "model_name": "OutputModel",
      "state": {
       "layout": "IPY_MODEL_e86f11b76b2b46ae953906d6c3f08ea3",
       "outputs": [
        {
         "data": {
          "text/html": "<table border=\"1\" class=\"dataframe\">\n  <thead>\n    <tr style=\"text-align: right;\">\n      <th></th>\n      <th>started</th>\n      <th>description</th>\n      <th>Obj</th>\n      <th>datasets</th>\n    </tr>\n    <tr>\n      <th>Name</th>\n      <th></th>\n      <th></th>\n      <th></th>\n      <th></th>\n    </tr>\n  </thead>\n  <tbody>\n    <tr>\n      <th>WP1.2c</th>\n      <td>2020-06-29</td>\n      <td></td>\n      <td><a href=\"WP1.2/WP1.2c.ipynb\" target=\"_blank\"><h4 style=\"display: inline;\">WP1.2c</h4 style=\"display: inline;\"</a></td>\n      <td>[]</td>\n    </tr>\n  </tbody>\n</table>",
          "text/plain": "          started description                Obj datasets\nName                                                     \nWP1.2c 2020-06-29              <Sample \"WP1.2c\">       []"
         },
         "metadata": {},
         "output_type": "display_data"
        }
       ]
      }
     },
     "6f208672ad584a59bdbbb983424b182d": {
      "model_module": "@jupyter-widgets/base",
      "model_module_version": "1.2.0",
      "model_name": "LayoutModel",
      "state": {}
     },
     "6f7fd2f3f0024e778bdcd472db084047": {
      "model_module": "@jupyter-widgets/controls",
      "model_module_version": "1.5.0",
      "model_name": "ButtonStyleModel",
      "state": {}
     },
     "6f99ec74c9254c3e8374df9ee35b3011": {
      "model_module": "@jupyter-widgets/controls",
      "model_module_version": "1.5.0",
      "model_name": "ButtonStyleModel",
      "state": {}
     },
     "6fdc74468a0349bfb82a7cd578e54858": {
      "model_module": "@jupyter-widgets/output",
      "model_module_version": "1.0.0",
      "model_name": "OutputModel",
      "state": {
       "layout": "IPY_MODEL_c569b60d36914b53a459e8a66d7f513b",
       "outputs": [
        {
         "data": {
          "text/html": "<h1 style=\"display: inline;\"><a href=\"WP1.2.ipynb\">WP1.2</a></h1><h3 style=\"display: inline;\">(<a href=\"../../Home.ipynb\" target=\"_blank\">Home</a>-><a href=\"../WP1.ipynb\" target=\"_blank\">WP1</a>)</h3>",
          "text/plain": "<cassini.ipygui.WHTML at 0x26e48024630>"
         },
         "metadata": {},
         "output_type": "display_data"
        }
       ]
      }
     },
     "703db36601a444a6b9b0674f62ebfc0a": {
      "model_module": "@jupyter-widgets/base",
      "model_module_version": "1.2.0",
      "model_name": "LayoutModel",
      "state": {}
     },
     "70605a6adb1443088ba86efebdacb3b3": {
      "model_module": "@jupyter-widgets/base",
      "model_module_version": "1.2.0",
      "model_name": "LayoutModel",
      "state": {}
     },
     "7280254e6c6a48779768b6e398600a69": {
      "model_module": "@jupyter-widgets/output",
      "model_module_version": "1.0.0",
      "model_name": "OutputModel",
      "state": {
       "layout": "IPY_MODEL_50e02d099fc74d6896547b811de5b180",
       "outputs": [
        {
         "data": {
          "text/html": "<h1 style=\"display: inline;\"><a href=\"WP1.2.ipynb\">WP1.2</a></h1><h3 style=\"display: inline;\">(<a href=\"../../Home.ipynb\" target=\"_blank\">Home</a>-><a href=\"../WP1.ipynb\" target=\"_blank\">WP1</a>)</h3>",
          "text/plain": "<cassini.ipygui.WHTML at 0x26e47f92668>"
         },
         "metadata": {},
         "output_type": "display_data"
        }
       ]
      }
     },
     "76fe3cf780dd438fb2615b5a28aa7ff7": {
      "model_module": "@jupyter-widgets/base",
      "model_module_version": "1.2.0",
      "model_name": "LayoutModel",
      "state": {}
     },
     "789cbd8c101f473089f7c3cc4cc0087a": {
      "model_module": "@jupyter-widgets/controls",
      "model_module_version": "1.5.0",
      "model_name": "ButtonModel",
      "state": {
       "description": "New",
       "layout": "IPY_MODEL_1340693fb7394c8a8587fbc94f0733cf",
       "style": "IPY_MODEL_9771974e58674d0789771f87da242e51"
      }
     },
     "7b035844524b41c5b839bb7fe86e0d71": {
      "model_module": "@jupyter-widgets/base",
      "model_module_version": "1.2.0",
      "model_name": "LayoutModel",
      "state": {
       "width": "auto"
      }
     },
     "7b7cdc3dc9d24019ac863b27b082fdf5": {
      "model_module": "@jupyter-widgets/base",
      "model_module_version": "1.2.0",
      "model_name": "LayoutModel",
      "state": {
       "width": "auto"
      }
     },
     "7bcc2e1e9b8a4f2e8d6a6c9e8c3acb40": {
      "model_module": "@jupyter-widgets/controls",
      "model_module_version": "1.5.0",
      "model_name": "VBoxModel",
      "state": {
       "children": [
        "IPY_MODEL_6fdc74468a0349bfb82a7cd578e54858",
        "IPY_MODEL_07937b3af5f74e258b0757910c297689"
       ],
       "layout": "IPY_MODEL_2a0068d3a4174547890fec5d5027cf3b"
      }
     },
     "7d876b99b76e480dabdf807c8e039e22": {
      "model_module": "@jupyter-widgets/base",
      "model_module_version": "1.2.0",
      "model_name": "LayoutModel",
      "state": {
       "width": "auto"
      }
     },
     "82b4b90b4e564c09bded8ffa8c0a9b7a": {
      "model_module": "@jupyter-widgets/base",
      "model_module_version": "1.2.0",
      "model_name": "LayoutModel",
      "state": {}
     },
     "83578cc7d7f944f6bf80eed79c9702a8": {
      "model_module": "@jupyter-widgets/controls",
      "model_module_version": "1.5.0",
      "model_name": "DescriptionStyleModel",
      "state": {
       "description_width": "10%"
      }
     },
     "84020878958f4161aac965d02a595085": {
      "model_module": "@jupyter-widgets/base",
      "model_module_version": "1.2.0",
      "model_name": "LayoutModel",
      "state": {}
     },
     "8508b2a36319425785aed8e4c1c8fae9": {
      "model_module": "@jupyter-widgets/output",
      "model_module_version": "1.0.0",
      "model_name": "OutputModel",
      "state": {
       "layout": "IPY_MODEL_e9f5b616324f47cc841adc2004508b14",
       "outputs": [
        {
         "data": {
          "text/html": "<a href=\"WP1.2/WP1.2c.ipynb\" target=\"_blank\"><h4 style=\"display: inline;\">WP1.2c</h4 style=\"display: inline;\"</a>",
          "text/plain": "<cassini.ipygui.WHTML at 0x26e47fa49e8>"
         },
         "metadata": {},
         "output_type": "display_data"
        }
       ]
      }
     },
     "85c2cd2c17144dc9b11ce3381b539808": {
      "model_module": "@jupyter-widgets/controls",
      "model_module_version": "1.5.0",
      "model_name": "DescriptionStyleModel",
      "state": {
       "description_width": "10%"
      }
     },
     "85cc8372603c40ac92e340521be7db1e": {
      "model_module": "@jupyter-widgets/base",
      "model_module_version": "1.2.0",
      "model_name": "LayoutModel",
      "state": {}
     },
     "85e14b1a35c74e24a740ed0b476a29ab": {
      "model_module": "@jupyter-widgets/controls",
      "model_module_version": "1.5.0",
      "model_name": "ButtonModel",
      "state": {
       "description": "Folder",
       "layout": "IPY_MODEL_6b5b827574414b63ae2d199146e9c68b",
       "style": "IPY_MODEL_6f7fd2f3f0024e778bdcd472db084047"
      }
     },
     "8870766d5dd6454facdc59f639450f00": {
      "model_module": "@jupyter-widgets/base",
      "model_module_version": "1.2.0",
      "model_name": "LayoutModel",
      "state": {
       "width": "auto"
      }
     },
     "8a8773f2993d439e9f816758e1d4e017": {
      "model_module": "@jupyter-widgets/controls",
      "model_module_version": "1.5.0",
      "model_name": "SelectModel",
      "state": {
       "_options_labels": [
        "Sample.tmplt.ipynb"
       ],
       "description": "Template",
       "index": 0,
       "layout": "IPY_MODEL_b01979dcb8db47459a12d26d92248d25",
       "style": "IPY_MODEL_f8cc70a7229e4f698fc9b672f0f11e09"
      }
     },
     "8b20df133ac34c9499c91c954d06dea5": {
      "model_module": "@jupyter-widgets/base",
      "model_module_version": "1.2.0",
      "model_name": "LayoutModel",
      "state": {}
     },
     "91e6c32009634066a8bf2e7aaad0746a": {
      "model_module": "@jupyter-widgets/output",
      "model_module_version": "1.0.0",
      "model_name": "OutputModel",
      "state": {
       "layout": "IPY_MODEL_085088fb1ee7415c94449194eaf4e5e3"
      }
     },
     "9507104bb7e84f6884ea167243e932eb": {
      "model_module": "@jupyter-widgets/controls",
      "model_module_version": "1.5.0",
      "model_name": "TextModel",
      "state": {
       "description": "Name:",
       "layout": "IPY_MODEL_f3df364b51b9498ab20641d5b81a118f",
       "placeholder": "e.g. XRD",
       "style": "IPY_MODEL_85c2cd2c17144dc9b11ce3381b539808"
      }
     },
     "961d4cfeac36486e96a34a0f070bff8d": {
      "model_module": "@jupyter-widgets/output",
      "model_module_version": "1.0.0",
      "model_name": "OutputModel",
      "state": {
       "layout": "IPY_MODEL_d9ae432de2c043f08cca3ba9a8eec7b6"
      }
     },
     "964b2370d928417a8b5f5f6a71620076": {
      "model_module": "@jupyter-widgets/base",
      "model_module_version": "1.2.0",
      "model_name": "LayoutModel",
      "state": {}
     },
     "9771974e58674d0789771f87da242e51": {
      "model_module": "@jupyter-widgets/controls",
      "model_module_version": "1.5.0",
      "model_name": "ButtonStyleModel",
      "state": {}
     },
     "97de0c6cca254fe2925e6dcc7a5ee87c": {
      "model_module": "@jupyter-widgets/controls",
      "model_module_version": "1.5.0",
      "model_name": "ButtonModel",
      "state": {
       "description": "Confirm",
       "disabled": true,
       "layout": "IPY_MODEL_9ec4d57b1bd44a6cb19af153dc17f730",
       "style": "IPY_MODEL_ca6615419c414ef59881f9d3dab5ed98"
      }
     },
     "99994f63f53642298a54e70975c6a327": {
      "model_module": "@jupyter-widgets/base",
      "model_module_version": "1.2.0",
      "model_name": "LayoutModel",
      "state": {
       "width": "auto"
      }
     },
     "9c5a9f4260854edfb5339639fcf10068": {
      "model_module": "@jupyter-widgets/controls",
      "model_module_version": "1.5.0",
      "model_name": "TextareaModel",
      "state": {
       "description": "Motivation",
       "disabled": true,
       "layout": "IPY_MODEL_d9fe265d1628496392cc7e6183ce07b7",
       "style": "IPY_MODEL_d10d51537ea849c9af0ccec37604b856"
      }
     },
     "9ceee2084ce7425fa823eff77178595e": {
      "model_module": "@jupyter-widgets/base",
      "model_module_version": "1.2.0",
      "model_name": "LayoutModel",
      "state": {}
     },
     "9d00bd2988834cf8b2e11cff4f2ee4e1": {
      "model_module": "@jupyter-widgets/controls",
      "model_module_version": "1.5.0",
      "model_name": "ButtonStyleModel",
      "state": {}
     },
     "9ec4d57b1bd44a6cb19af153dc17f730": {
      "model_module": "@jupyter-widgets/base",
      "model_module_version": "1.2.0",
      "model_name": "LayoutModel",
      "state": {}
     },
     "9f35240d53cb48bfa6721f0aafc136ce": {
      "model_module": "@jupyter-widgets/base",
      "model_module_version": "1.2.0",
      "model_name": "LayoutModel",
      "state": {}
     },
     "9f3c5864c6124c16ae1395d0a51e65fe": {
      "model_module": "@jupyter-widgets/controls",
      "model_module_version": "1.5.0",
      "model_name": "DescriptionStyleModel",
      "state": {
       "description_width": "10%"
      }
     },
     "a18e623278714bb6a6aa9de8980341cc": {
      "model_module": "@jupyter-widgets/base",
      "model_module_version": "1.2.0",
      "model_name": "LayoutModel",
      "state": {
       "width": "auto"
      }
     },
     "a1f5becce51a4697ba0d9326480b7e89": {
      "model_module": "@jupyter-widgets/base",
      "model_module_version": "1.2.0",
      "model_name": "LayoutModel",
      "state": {}
     },
     "a34a14ff46c44004be655587e1873381": {
      "model_module": "@jupyter-widgets/base",
      "model_module_version": "1.2.0",
      "model_name": "LayoutModel",
      "state": {}
     },
     "a44f2c74e96f4cd1a22d05b578062681": {
      "model_module": "@jupyter-widgets/base",
      "model_module_version": "1.2.0",
      "model_name": "LayoutModel",
      "state": {
       "width": "auto"
      }
     },
     "a69a1b2079124e90afd4cb06dae3eb9d": {
      "model_module": "@jupyter-widgets/controls",
      "model_module_version": "1.5.0",
      "model_name": "ButtonModel",
      "state": {
       "description": "New",
       "layout": "IPY_MODEL_9ceee2084ce7425fa823eff77178595e",
       "style": "IPY_MODEL_512b3bed014048a09f390abb0b60856c"
      }
     },
     "a705997c63f74c75b3f55776a9925065": {
      "model_module": "@jupyter-widgets/controls",
      "model_module_version": "1.5.0",
      "model_name": "ButtonModel",
      "state": {
       "description": "Confirm",
       "disabled": true,
       "layout": "IPY_MODEL_84020878958f4161aac965d02a595085",
       "style": "IPY_MODEL_e84b190ec8f74a169629ffacfeec4287"
      }
     },
     "a7902e0a2e1f4b99a893e7f0ad71bdc7": {
      "model_module": "@jupyter-widgets/controls",
      "model_module_version": "1.5.0",
      "model_name": "VBoxModel",
      "state": {
       "children": [
        "IPY_MODEL_152cd2363153474897facf8bb177b291",
        "IPY_MODEL_5e8271c787354dddb6070ccf311f8e8c",
        "IPY_MODEL_a87b75ad35fa4fa6bbdde057269218f1",
        "IPY_MODEL_47c0ef25f180463eb51dad73f74e9d87",
        "IPY_MODEL_5f65cc6fe2ce469990ed7122b27ec038",
        "IPY_MODEL_0055a60c9d31482993d6ef7e2d1840a4",
        "IPY_MODEL_133f505e78c04489844cc3a87dbb71ee"
       ],
       "layout": "IPY_MODEL_62c76fc480694df4be860861c386dc13"
      }
     },
     "a7c76e20bd384d8386e99105b120f8d6": {
      "model_module": "@jupyter-widgets/base",
      "model_module_version": "1.2.0",
      "model_name": "LayoutModel",
      "state": {}
     },
     "a80099dfdc1a4bb6a0bee0910c03e890": {
      "model_module": "@jupyter-widgets/base",
      "model_module_version": "1.2.0",
      "model_name": "LayoutModel",
      "state": {
       "width": "auto"
      }
     },
     "a839f778b9ff4648ba71be9430851326": {
      "model_module": "@jupyter-widgets/base",
      "model_module_version": "1.2.0",
      "model_name": "LayoutModel",
      "state": {}
     },
     "a87b75ad35fa4fa6bbdde057269218f1": {
      "model_module": "@jupyter-widgets/output",
      "model_module_version": "1.0.0",
      "model_name": "OutputModel",
      "state": {
       "layout": "IPY_MODEL_4034f5ee78f44f3bbe8a569e330a87e9",
       "outputs": [
        {
         "data": {
          "text/html": "<table border=\"1\" class=\"dataframe\">\n  <thead>\n    <tr style=\"text-align: right;\">\n      <th></th>\n    </tr>\n  </thead>\n  <tbody>\n  </tbody>\n</table>",
          "text/plain": "Empty UnescapedDataFrame\nColumns: []\nIndex: []"
         },
         "metadata": {},
         "output_type": "display_data"
        }
       ]
      }
     },
     "aa51e687425849859f385ef6497a5ea0": {
      "model_module": "@jupyter-widgets/base",
      "model_module_version": "1.2.0",
      "model_name": "LayoutModel",
      "state": {}
     },
     "aaca96d5b03c4156927cc272beb72d88": {
      "model_module": "@jupyter-widgets/base",
      "model_module_version": "1.2.0",
      "model_name": "LayoutModel",
      "state": {}
     },
     "ac1c1ce4701449b385a7275c28656b86": {
      "model_module": "@jupyter-widgets/controls",
      "model_module_version": "1.5.0",
      "model_name": "TextModel",
      "state": {
       "description": "Name:",
       "layout": "IPY_MODEL_f011c0abc2194e8dae3a4dc1083a9ec8",
       "placeholder": "e.g. XRD",
       "style": "IPY_MODEL_2e7bdbae80d94aa882d98f0ce914365c"
      }
     },
     "ad94dcc396ef48d2a41b8ff26ca27d8d": {
      "model_module": "@jupyter-widgets/output",
      "model_module_version": "1.0.0",
      "model_name": "OutputModel",
      "state": {
       "layout": "IPY_MODEL_70605a6adb1443088ba86efebdacb3b3",
       "outputs": [
        {
         "data": {
          "text/html": "<h3>New Data</h3>",
          "text/plain": "<cassini.ipygui.WHTML at 0x26e4804e898>"
         },
         "metadata": {},
         "output_type": "display_data"
        }
       ]
      }
     },
     "b01979dcb8db47459a12d26d92248d25": {
      "model_module": "@jupyter-widgets/base",
      "model_module_version": "1.2.0",
      "model_name": "LayoutModel",
      "state": {
       "width": "auto"
      }
     },
     "b1661f8dbce94d88ad21e2da5067e7cc": {
      "model_module": "@jupyter-widgets/controls",
      "model_module_version": "1.5.0",
      "model_name": "ButtonModel",
      "state": {
       "description": "New",
       "layout": "IPY_MODEL_50a53c05440e4e3693a56a32e34026ec",
       "style": "IPY_MODEL_fbb9791f092442f4b343f59df6cf606c"
      }
     },
     "b1a1b5b7c3ad4b58be7647d3b545616c": {
      "model_module": "@jupyter-widgets/controls",
      "model_module_version": "1.5.0",
      "model_name": "VBoxModel",
      "state": {
       "children": [
        "IPY_MODEL_ac1c1ce4701449b385a7275c28656b86",
        "IPY_MODEL_5c13df79149846849d7980be90f206ca",
        "IPY_MODEL_ca9897dfb05747fab39f178b87535a61",
        "IPY_MODEL_3359731fca1a4a1bbb43af6cef10d563"
       ],
       "layout": "IPY_MODEL_76fe3cf780dd438fb2615b5a28aa7ff7"
      }
     },
     "b322ba9672124235a53ec3df3099a351": {
      "model_module": "@jupyter-widgets/output",
      "model_module_version": "1.0.0",
      "model_name": "OutputModel",
      "state": {
       "layout": "IPY_MODEL_82b4b90b4e564c09bded8ffa8c0a9b7a"
      }
     },
     "b4b6f61b185042dfb9dd006e6a53bd64": {
      "model_module": "@jupyter-widgets/controls",
      "model_module_version": "1.5.0",
      "model_name": "ButtonModel",
      "state": {
       "description": "Confirm",
       "disabled": true,
       "layout": "IPY_MODEL_8b20df133ac34c9499c91c954d06dea5",
       "style": "IPY_MODEL_23f8fad78be549a092ce5b44f04c4ce1"
      }
     },
     "b58655e8c4ae4f11aba77b462ed842fc": {
      "model_module": "@jupyter-widgets/controls",
      "model_module_version": "1.5.0",
      "model_name": "SelectMultipleModel",
      "state": {
       "_options_labels": [
        "WP1.2c"
       ],
       "description": "Auto Add",
       "index": [],
       "layout": "IPY_MODEL_c8d3b303ca814001a930e13a633b414a",
       "rows": 5,
       "style": "IPY_MODEL_ea7feaea825949998ae8ee3de9e1e34e"
      }
     },
     "b6788942fbb74ddcbc98f080d33e386e": {
      "model_module": "@jupyter-widgets/base",
      "model_module_version": "1.2.0",
      "model_name": "LayoutModel",
      "state": {}
     },
     "b92f490aed1542a2a0dbb745d25027b4": {
      "model_module": "@jupyter-widgets/controls",
      "model_module_version": "1.5.0",
      "model_name": "DescriptionStyleModel",
      "state": {
       "description_width": "10%"
      }
     },
     "b9e20bc4cfe64ebbb1c1a326409eed22": {
      "model_module": "@jupyter-widgets/controls",
      "model_module_version": "1.5.0",
      "model_name": "DescriptionStyleModel",
      "state": {
       "description_width": "10%"
      }
     },
     "ba5a3288f5434dd192bf444fe374f6b6": {
      "model_module": "@jupyter-widgets/output",
      "model_module_version": "1.0.0",
      "model_name": "OutputModel",
      "state": {
       "layout": "IPY_MODEL_f798cf599eb44cb89495c2adf2acab10"
      }
     },
     "bb0c296becc24ab6ab78d7c4f0dcb4f6": {
      "model_module": "@jupyter-widgets/output",
      "model_module_version": "1.0.0",
      "model_name": "OutputModel",
      "state": {
       "layout": "IPY_MODEL_bc7d90f8a9cb41bea6237fb272405427"
      }
     },
     "bc7d90f8a9cb41bea6237fb272405427": {
      "model_module": "@jupyter-widgets/base",
      "model_module_version": "1.2.0",
      "model_name": "LayoutModel",
      "state": {
       "width": "auto"
      }
     },
     "bf2674ebaec24ce6a16ddf7d49178506": {
      "model_module": "@jupyter-widgets/base",
      "model_module_version": "1.2.0",
      "model_name": "LayoutModel",
      "state": {
       "width": "auto"
      }
     },
     "c203eefbcf0f40afb050d4d14e676e83": {
      "model_module": "@jupyter-widgets/controls",
      "model_module_version": "1.5.0",
      "model_name": "DescriptionStyleModel",
      "state": {
       "description_width": "10%"
      }
     },
     "c36e76c87f9943ab8f9ca2faaefc81be": {
      "model_module": "@jupyter-widgets/controls",
      "model_module_version": "1.5.0",
      "model_name": "ButtonModel",
      "state": {
       "description": "Confirm",
       "disabled": true,
       "layout": "IPY_MODEL_5f08123523474cbb9c54d3c0a443c6e2",
       "style": "IPY_MODEL_46ffee37ac3f4e4a8277b9001d043fd2"
      }
     },
     "c3f81eaf2d9a494ca03eb2de5809f65a": {
      "model_module": "@jupyter-widgets/base",
      "model_module_version": "1.2.0",
      "model_name": "LayoutModel",
      "state": {}
     },
     "c3fd4872d0864177bab83cf174f9cb89": {
      "model_module": "@jupyter-widgets/base",
      "model_module_version": "1.2.0",
      "model_name": "LayoutModel",
      "state": {}
     },
     "c569b60d36914b53a459e8a66d7f513b": {
      "model_module": "@jupyter-widgets/base",
      "model_module_version": "1.2.0",
      "model_name": "LayoutModel",
      "state": {}
     },
     "c6963d0ccb5a49ab981f81b0efd2aa88": {
      "model_module": "@jupyter-widgets/base",
      "model_module_version": "1.2.0",
      "model_name": "LayoutModel",
      "state": {}
     },
     "c7318a027caa4de3a4d2beb2fc53448e": {
      "model_module": "@jupyter-widgets/base",
      "model_module_version": "1.2.0",
      "model_name": "LayoutModel",
      "state": {
       "width": "auto"
      }
     },
     "c8d3b303ca814001a930e13a633b414a": {
      "model_module": "@jupyter-widgets/base",
      "model_module_version": "1.2.0",
      "model_name": "LayoutModel",
      "state": {
       "width": "auto"
      }
     },
     "ca6615419c414ef59881f9d3dab5ed98": {
      "model_module": "@jupyter-widgets/controls",
      "model_module_version": "1.5.0",
      "model_name": "ButtonStyleModel",
      "state": {}
     },
     "ca72fd0f36e442b094a2f814638bb06b": {
      "model_module": "@jupyter-widgets/output",
      "model_module_version": "1.0.0",
      "model_name": "OutputModel",
      "state": {
       "layout": "IPY_MODEL_a18e623278714bb6a6aa9de8980341cc"
      }
     },
     "ca9897dfb05747fab39f178b87535a61": {
      "model_module": "@jupyter-widgets/controls",
      "model_module_version": "1.5.0",
      "model_name": "HBoxModel",
      "state": {
       "children": [
        "IPY_MODEL_a705997c63f74c75b3f55776a9925065",
        "IPY_MODEL_a69a1b2079124e90afd4cb06dae3eb9d"
       ],
       "layout": "IPY_MODEL_c6963d0ccb5a49ab981f81b0efd2aa88"
      }
     },
     "d10d51537ea849c9af0ccec37604b856": {
      "model_module": "@jupyter-widgets/controls",
      "model_module_version": "1.5.0",
      "model_name": "DescriptionStyleModel",
      "state": {
       "description_width": "10%"
      }
     },
     "d1239b5b2cf84d5da515d2e5ccac26d6": {
      "model_module": "@jupyter-widgets/controls",
      "model_module_version": "1.5.0",
      "model_name": "ButtonModel",
      "state": {
       "description": "New",
       "layout": "IPY_MODEL_6f208672ad584a59bdbbb983424b182d",
       "style": "IPY_MODEL_eca2d8630aab47e8bba3574e27eb1f6b"
      }
     },
     "d1389a10b724473cb0c17ea98a7b6f98": {
      "model_module": "@jupyter-widgets/controls",
      "model_module_version": "1.5.0",
      "model_name": "ButtonStyleModel",
      "state": {}
     },
     "d183ac055d1246bfbd03082b58721d92": {
      "model_module": "@jupyter-widgets/output",
      "model_module_version": "1.0.0",
      "model_name": "OutputModel",
      "state": {
       "layout": "IPY_MODEL_420352b1bfe042f297f0cda1b1ec5aa4",
       "outputs": [
        {
         "data": {
          "text/html": "<table border=\"1\" class=\"dataframe\">\n  <thead>\n    <tr style=\"text-align: right;\">\n      <th></th>\n      <th>started</th>\n      <th>description</th>\n      <th>Obj</th>\n      <th>datasets</th>\n    </tr>\n    <tr>\n      <th>Name</th>\n      <th></th>\n      <th></th>\n      <th></th>\n      <th></th>\n    </tr>\n  </thead>\n  <tbody>\n    <tr>\n      <th>WP1.2c</th>\n      <td>2020-06-29</td>\n      <td></td>\n      <td><a href=\"WP1.2/WP1.2c.ipynb\" target=\"_blank\"><h4 style=\"display: inline;\">WP1.2c</h4 style=\"display: inline;\"</a></td>\n      <td>[]</td>\n    </tr>\n  </tbody>\n</table>",
          "text/plain": "          started description                Obj datasets\nName                                                     \nWP1.2c 2020-06-29              <Sample \"WP1.2c\">       []"
         },
         "metadata": {},
         "output_type": "display_data"
        }
       ]
      }
     },
     "d28e33a74dca4e219d1ba3860c546919": {
      "model_module": "@jupyter-widgets/output",
      "model_module_version": "1.0.0",
      "model_name": "OutputModel",
      "state": {
       "layout": "IPY_MODEL_55e73de9cd8b4922adcf0099e72dd749",
       "outputs": [
        {
         "data": {
          "text/html": "<h3>Samples</h3>",
          "text/plain": "<cassini.ipygui.WHTML at 0x26e47f92470>"
         },
         "metadata": {},
         "output_type": "display_data"
        }
       ]
      }
     },
     "d4a8b3b0bf3a44acac352eca379496f2": {
      "model_module": "@jupyter-widgets/output",
      "model_module_version": "1.0.0",
      "model_name": "OutputModel",
      "state": {
       "layout": "IPY_MODEL_6d53a1f9e7424a83b5981afea8c3d0de",
       "outputs": [
        {
         "data": {
          "text/html": "<h1 style=\"display: inline;\"><a href=\"WP1.2.ipynb\">WP1.2</a></h1><h3 style=\"display: inline;\">(<a href=\"../../Home.ipynb\" target=\"_blank\">Home</a>-><a href=\"../WP1.ipynb\" target=\"_blank\">WP1</a>)</h3>",
          "text/plain": "<cassini.ipygui.WHTML at 0x26e47f0cda0>"
         },
         "metadata": {},
         "output_type": "display_data"
        }
       ]
      }
     },
     "d58079e1c50b412195393823b7e0387c": {
      "model_module": "@jupyter-widgets/controls",
      "model_module_version": "1.5.0",
      "model_name": "SelectModel",
      "state": {
       "_options_labels": [
        "Sample.tmplt.ipynb"
       ],
       "description": "Template",
       "disabled": true,
       "index": 0,
       "layout": "IPY_MODEL_4a54cc5be2cf426991498b8eee6fae28",
       "style": "IPY_MODEL_fd3495abb5f3431489e54307bd827897"
      }
     },
     "d8482ebea7204d2f8fe7cb59fe501c0c": {
      "model_module": "@jupyter-widgets/output",
      "model_module_version": "1.0.0",
      "model_name": "OutputModel",
      "state": {
       "layout": "IPY_MODEL_db9b822b9ba94cadad6c3c8cc63f16d7"
      }
     },
     "d8bc5e9213e44208a3fe4075d485ce5b": {
      "model_module": "@jupyter-widgets/base",
      "model_module_version": "1.2.0",
      "model_name": "LayoutModel",
      "state": {}
     },
     "d9ae432de2c043f08cca3ba9a8eec7b6": {
      "model_module": "@jupyter-widgets/base",
      "model_module_version": "1.2.0",
      "model_name": "LayoutModel",
      "state": {}
     },
     "d9fe265d1628496392cc7e6183ce07b7": {
      "model_module": "@jupyter-widgets/base",
      "model_module_version": "1.2.0",
      "model_name": "LayoutModel",
      "state": {
       "width": "auto"
      }
     },
     "da3c63cd436b4064be06af9a807dfbb5": {
      "model_module": "@jupyter-widgets/controls",
      "model_module_version": "1.5.0",
      "model_name": "ButtonModel",
      "state": {
       "description": "New",
       "layout": "IPY_MODEL_6c76c8ba93b2425abb2847a5a684c3e5",
       "style": "IPY_MODEL_6f99ec74c9254c3e8374df9ee35b3011"
      }
     },
     "dadf1e9935b4444ba60a9012a75fe71d": {
      "model_module": "@jupyter-widgets/controls",
      "model_module_version": "1.5.0",
      "model_name": "TextareaModel",
      "state": {
       "description": "Motivation",
       "layout": "IPY_MODEL_7b7cdc3dc9d24019ac863b27b082fdf5",
       "style": "IPY_MODEL_eb4f0ffd89c74d01b88ecb35450ace4e"
      }
     },
     "db9b822b9ba94cadad6c3c8cc63f16d7": {
      "model_module": "@jupyter-widgets/base",
      "model_module_version": "1.2.0",
      "model_name": "LayoutModel",
      "state": {
       "width": "auto"
      }
     },
     "dd23355fbcb944cd9172b8f6fa9804db": {
      "model_module": "@jupyter-widgets/base",
      "model_module_version": "1.2.0",
      "model_name": "LayoutModel",
      "state": {}
     },
     "de274b02a7324b588f2b6eb12b898415": {
      "model_module": "@jupyter-widgets/controls",
      "model_module_version": "1.5.0",
      "model_name": "SelectModel",
      "state": {
       "_options_labels": [
        "Sample.tmplt.ipynb",
        "simple.tmplt.txt"
       ],
       "description": "Template",
       "index": 0,
       "layout": "IPY_MODEL_7d876b99b76e480dabdf807c8e039e22",
       "style": "IPY_MODEL_c203eefbcf0f40afb050d4d14e676e83"
      }
     },
     "dfc14f143aa848539749919a8cebd53e": {
      "model_module": "@jupyter-widgets/base",
      "model_module_version": "1.2.0",
      "model_name": "LayoutModel",
      "state": {
       "width": "auto"
      }
     },
     "e7e70fe5a78747ae9c5c911313afc812": {
      "model_module": "@jupyter-widgets/base",
      "model_module_version": "1.2.0",
      "model_name": "LayoutModel",
      "state": {}
     },
     "e83fc254ad344df5859ab32ffb3ef9c7": {
      "model_module": "@jupyter-widgets/controls",
      "model_module_version": "1.5.0",
      "model_name": "TextModel",
      "state": {
       "description": "Name:",
       "layout": "IPY_MODEL_c7318a027caa4de3a4d2beb2fc53448e",
       "placeholder": "e.g. XRD",
       "style": "IPY_MODEL_b9e20bc4cfe64ebbb1c1a326409eed22"
      }
     },
     "e84b190ec8f74a169629ffacfeec4287": {
      "model_module": "@jupyter-widgets/controls",
      "model_module_version": "1.5.0",
      "model_name": "ButtonStyleModel",
      "state": {}
     },
     "e86f11b76b2b46ae953906d6c3f08ea3": {
      "model_module": "@jupyter-widgets/base",
      "model_module_version": "1.2.0",
      "model_name": "LayoutModel",
      "state": {}
     },
     "e8a2d4368705474daaf0b5674962d6c9": {
      "model_module": "@jupyter-widgets/base",
      "model_module_version": "1.2.0",
      "model_name": "LayoutModel",
      "state": {}
     },
     "e9f5b616324f47cc841adc2004508b14": {
      "model_module": "@jupyter-widgets/base",
      "model_module_version": "1.2.0",
      "model_name": "LayoutModel",
      "state": {}
     },
     "ea6a809c5a394f4ea92163bb0a539f1b": {
      "model_module": "@jupyter-widgets/base",
      "model_module_version": "1.2.0",
      "model_name": "LayoutModel",
      "state": {}
     },
     "ea7feaea825949998ae8ee3de9e1e34e": {
      "model_module": "@jupyter-widgets/controls",
      "model_module_version": "1.5.0",
      "model_name": "DescriptionStyleModel",
      "state": {
       "description_width": "10%"
      }
     },
     "eb4f0ffd89c74d01b88ecb35450ace4e": {
      "model_module": "@jupyter-widgets/controls",
      "model_module_version": "1.5.0",
      "model_name": "DescriptionStyleModel",
      "state": {
       "description_width": "10%"
      }
     },
     "eca2d8630aab47e8bba3574e27eb1f6b": {
      "model_module": "@jupyter-widgets/controls",
      "model_module_version": "1.5.0",
      "model_name": "ButtonStyleModel",
      "state": {}
     },
     "ecbd62d149c24796acb14f381d95290d": {
      "model_module": "@jupyter-widgets/base",
      "model_module_version": "1.2.0",
      "model_name": "LayoutModel",
      "state": {}
     },
     "eea4c5bdbb7e4b899d4473821237f568": {
      "model_module": "@jupyter-widgets/controls",
      "model_module_version": "1.5.0",
      "model_name": "HBoxModel",
      "state": {
       "children": [
        "IPY_MODEL_c36e76c87f9943ab8f9ca2faaefc81be",
        "IPY_MODEL_789cbd8c101f473089f7c3cc4cc0087a"
       ],
       "layout": "IPY_MODEL_1048d9b0d275474ca1c84977b3e3073e"
      }
     },
     "f011c0abc2194e8dae3a4dc1083a9ec8": {
      "model_module": "@jupyter-widgets/base",
      "model_module_version": "1.2.0",
      "model_name": "LayoutModel",
      "state": {
       "width": "auto"
      }
     },
     "f19b92507ad244ef925a51ea0e13d17f": {
      "model_module": "@jupyter-widgets/controls",
      "model_module_version": "1.5.0",
      "model_name": "ButtonModel",
      "state": {
       "description": "New",
       "layout": "IPY_MODEL_a34a14ff46c44004be655587e1873381",
       "style": "IPY_MODEL_9d00bd2988834cf8b2e11cff4f2ee4e1"
      }
     },
     "f2db2ab867684b54a04f8181dfa65662": {
      "model_module": "@jupyter-widgets/controls",
      "model_module_version": "1.5.0",
      "model_name": "DescriptionStyleModel",
      "state": {
       "description_width": "10%"
      }
     },
     "f3df364b51b9498ab20641d5b81a118f": {
      "model_module": "@jupyter-widgets/base",
      "model_module_version": "1.2.0",
      "model_name": "LayoutModel",
      "state": {
       "width": "auto"
      }
     },
     "f4797bf0f5704b21a11e44e7bcef38e8": {
      "model_module": "@jupyter-widgets/controls",
      "model_module_version": "1.5.0",
      "model_name": "HBoxModel",
      "state": {
       "children": [
        "IPY_MODEL_97de0c6cca254fe2925e6dcc7a5ee87c",
        "IPY_MODEL_f19b92507ad244ef925a51ea0e13d17f"
       ],
       "layout": "IPY_MODEL_a7c76e20bd384d8386e99105b120f8d6"
      }
     },
     "f798cf599eb44cb89495c2adf2acab10": {
      "model_module": "@jupyter-widgets/base",
      "model_module_version": "1.2.0",
      "model_name": "LayoutModel",
      "state": {
       "width": "auto"
      }
     },
     "f8cc70a7229e4f698fc9b672f0f11e09": {
      "model_module": "@jupyter-widgets/controls",
      "model_module_version": "1.5.0",
      "model_name": "DescriptionStyleModel",
      "state": {
       "description_width": "10%"
      }
     },
     "fb00d29285594fdf8d43f6d88636c6f0": {
      "model_module": "@jupyter-widgets/controls",
      "model_module_version": "1.5.0",
      "model_name": "ButtonStyleModel",
      "state": {}
     },
     "fbad6b4b59c24ff4895f9180a01773af": {
      "model_module": "@jupyter-widgets/controls",
      "model_module_version": "1.5.0",
      "model_name": "ButtonModel",
      "state": {
       "description": "Confirm",
       "disabled": true,
       "layout": "IPY_MODEL_5474a66c36374c3bbe11d4d50c6b66d6",
       "style": "IPY_MODEL_fb00d29285594fdf8d43f6d88636c6f0"
      }
     },
     "fbb9791f092442f4b343f59df6cf606c": {
      "model_module": "@jupyter-widgets/controls",
      "model_module_version": "1.5.0",
      "model_name": "ButtonStyleModel",
      "state": {}
     },
     "fcc565f4afdf4d72a11d98bef9e4728e": {
      "model_module": "@jupyter-widgets/output",
      "model_module_version": "1.0.0",
      "model_name": "OutputModel",
      "state": {
       "layout": "IPY_MODEL_d8bc5e9213e44208a3fe4075d485ce5b",
       "outputs": [
        {
         "data": {
          "text/html": "<h3>New Sample</h3>",
          "text/plain": "<cassini.ipygui.WHTML at 0x26e48018630>"
         },
         "metadata": {},
         "output_type": "display_data"
        }
       ]
      }
     },
     "fd3495abb5f3431489e54307bd827897": {
      "model_module": "@jupyter-widgets/controls",
      "model_module_version": "1.5.0",
      "model_name": "DescriptionStyleModel",
      "state": {
       "description_width": "10%"
      }
     },
     "feab5b2adff846e29f2755a0195786e3": {
      "model_module": "@jupyter-widgets/output",
      "model_module_version": "1.0.0",
      "model_name": "OutputModel",
      "state": {
       "layout": "IPY_MODEL_2f29654d6ef64b0986caedef3c2c1447",
       "outputs": [
        {
         "name": "stdout",
         "output_type": "stream",
         "text": "Creating files for WP1.2c\nMeta (D:\\Documents\\Programin\\WorkingVersions\\cassini\\dev\\examples\\default\\WorkPackages\\WP1\\WP1.2\\.smpls\\WP1.2c.json)\nWriting Meta Data\nSuccess\nCreating Tier File (D:\\Documents\\Programin\\WorkingVersions\\cassini\\dev\\examples\\default\\WorkPackages\\WP1\\WP1.2\\WP1.2c.ipynb) using template (Sample\\Sample.tmplt.ipynb)\nSuccess\nCreating Tier Folder (D:\\Documents\\Programin\\WorkingVersions\\cassini\\dev\\examples\\default\\WorkPackages\\WP1\\WP1.2)\nSuccess\nAll Done\n"
        },
        {
         "data": {
          "application/vnd.jupyter.widget-view+json": {
           "model_id": "",
           "version_major": 2,
           "version_minor": 0
          },
          "text/plain": "Output()"
         },
         "metadata": {},
         "output_type": "display_data"
        }
       ]
      }
     }
    },
    "version_major": 2,
    "version_minor": 0
   }
  }
 },
 "nbformat": 4,
 "nbformat_minor": 4
}
