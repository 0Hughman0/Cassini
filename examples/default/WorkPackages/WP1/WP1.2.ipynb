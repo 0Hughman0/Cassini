{
 "cells": [
  {
   "cell_type": "code",
   "execution_count": 1,
   "metadata": {
    "pycharm": {
     "name": "#%%\n"
    }
   },
   "outputs": [
    {
     "name": "stderr",
     "output_type": "stream",
     "text": [
      "D:\\Documents\\Programin\\venvs\\cassini\\cassini-dev\\lib\\site-packages\\jupyter_server\\transutils.py:13: FutureWarning: The alias `_()` will be deprecated. Use `_i18n()` instead.\n",
      "  warnings.warn(warn_msg, FutureWarning)\n"
     ]
    },
    {
     "data": {
      "application/vnd.jupyter.widget-view+json": {
       "model_id": "a4ff4cf8494f4191b1660341275cf9fb",
       "version_major": 2,
       "version_minor": 0
      },
      "text/plain": [
       "VBox(children=(VBox(children=(Output(), Button(description='Folder', style=ButtonStyle()))), Output(), Output(…"
      ]
     },
     "metadata": {},
     "output_type": "display_data"
    }
   ],
   "source": [
    "from project import project\n",
    "\n",
    "exp = project.env('WP1.2')\n",
    "exp.gui.header()"
   ]
  },
  {
   "cell_type": "code",
   "execution_count": null,
   "metadata": {},
   "outputs": [],
   "source": []
  },
  {
   "cell_type": "code",
   "execution_count": null,
   "metadata": {},
   "outputs": [],
   "source": []
  }
 ],
 "metadata": {
  "kernelspec": {
   "display_name": "Python 3",
   "language": "python",
   "name": "python3"
  },
  "language_info": {
   "codemirror_mode": {
    "name": "ipython",
    "version": 3
   },
   "file_extension": ".py",
   "mimetype": "text/x-python",
   "name": "python",
   "nbconvert_exporter": "python",
   "pygments_lexer": "ipython3",
   "version": "3.7.2"
  },
  "pycharm": {
   "stem_cell": {
    "cell_type": "raw",
    "metadata": {
     "collapsed": false
    },
    "source": []
   }
  },
  "widgets": {
   "application/vnd.jupyter.widget-state+json": {
    "state": {
     "003ff65a40d84726b45e35f75e21da7d": {
      "model_module": "@jupyter-widgets/base",
      "model_module_version": "1.2.0",
      "model_name": "LayoutModel",
      "state": {}
     },
     "01f9c4b267e1444196c3c9be55eca23b": {
      "model_module": "@jupyter-widgets/output",
      "model_module_version": "1.0.0",
      "model_name": "OutputModel",
      "state": {
       "layout": "IPY_MODEL_58c936449cdd4d1aa91756c3082e67a2",
       "outputs": [
        {
         "data": {
          "text/html": "<h3>Description</h3>",
          "text/plain": "<cassini.ipygui.WHTML at 0x25d81106828>"
         },
         "metadata": {},
         "output_type": "display_data"
        }
       ]
      }
     },
     "05c220a09c6e4a3ba5fcba804cfb0688": {
      "model_module": "@jupyter-widgets/base",
      "model_module_version": "1.2.0",
      "model_name": "LayoutModel",
      "state": {}
     },
     "068b2145a8e640deb5c66d0151b4b272": {
      "model_module": "@jupyter-widgets/output",
      "model_module_version": "1.0.0",
      "model_name": "OutputModel",
      "state": {
       "layout": "IPY_MODEL_acdac9a8b739421ab0445c28328add55",
       "outputs": [
        {
         "data": {
          "text/html": "<h1 style=\"display: inline;\"><a href=\"WP1.2.ipynb\">WP1.2</a></h1><h3 style=\"display: inline;\">(<a href=\"../../Home.ipynb\" target=\"_blank\">Home</a>-><a href=\"../WP1.ipynb\" target=\"_blank\">WP1</a>)</h3>",
          "text/plain": "<cassini.ipygui.WHTML at 0x25d81106748>"
         },
         "metadata": {},
         "output_type": "display_data"
        }
       ]
      }
     },
     "0a340e9b8ab34994a5c27aa81d07bb8e": {
      "model_module": "@jupyter-widgets/base",
      "model_module_version": "1.2.0",
      "model_name": "LayoutModel",
      "state": {}
     },
     "1191d9930c5f489cad938075ddd8dca8": {
      "model_module": "@jupyter-widgets/base",
      "model_module_version": "1.2.0",
      "model_name": "LayoutModel",
      "state": {}
     },
     "123f9855b12b49c4bf2856a5117ccee9": {
      "model_module": "@jupyter-widgets/controls",
      "model_module_version": "1.5.0",
      "model_name": "DescriptionStyleModel",
      "state": {
       "description_width": "10%"
      }
     },
     "156e40b124534f81bdd9ba77082a9788": {
      "model_module": "@jupyter-widgets/controls",
      "model_module_version": "1.5.0",
      "model_name": "DescriptionStyleModel",
      "state": {
       "description_width": "10%"
      }
     },
     "1941bf0deb6a46e0af37c45785d680ca": {
      "model_module": "@jupyter-widgets/controls",
      "model_module_version": "1.5.0",
      "model_name": "VBoxModel",
      "state": {
       "children": [
        "IPY_MODEL_fe2539878a914231b13e514faa9b95bf",
        "IPY_MODEL_8084e89a61f948e288654d1fd610b357",
        "IPY_MODEL_8f72213b338041e4af099eb6f71d1ab6",
        "IPY_MODEL_cae4512d1b4f4730866a7ea927f12658",
        "IPY_MODEL_24376d2447b14cd38b231e4dbcd101e4"
       ],
       "layout": "IPY_MODEL_4dfa4d9e422c4856a88dc55533857bd9"
      }
     },
     "207cdd9c707a4cd2bddf715b2cf5ce73": {
      "model_module": "@jupyter-widgets/base",
      "model_module_version": "1.2.0",
      "model_name": "LayoutModel",
      "state": {}
     },
     "22aaaaa331414eccae20e94a058c1840": {
      "model_module": "@jupyter-widgets/base",
      "model_module_version": "1.2.0",
      "model_name": "LayoutModel",
      "state": {}
     },
     "24376d2447b14cd38b231e4dbcd101e4": {
      "model_module": "@jupyter-widgets/output",
      "model_module_version": "1.0.0",
      "model_name": "OutputModel",
      "state": {
       "layout": "IPY_MODEL_323aa823d9d74392af8b38dafc3fac60"
      }
     },
     "26d9b3a2b7424044b5907eb73e237eb6": {
      "model_module": "@jupyter-widgets/output",
      "model_module_version": "1.0.0",
      "model_name": "OutputModel",
      "state": {
       "layout": "IPY_MODEL_eee2838225a2477e8ddc473bb48946d5"
      }
     },
     "2a29c1742e6f4a89a401917621d499e6": {
      "model_module": "@jupyter-widgets/output",
      "model_module_version": "1.0.0",
      "model_name": "OutputModel",
      "state": {
       "layout": "IPY_MODEL_d0560fb14dcd4fd08f70aef7c1b42349"
      }
     },
     "319e126a4fbb4bbf960ccdb3490c1282": {
      "model_module": "@jupyter-widgets/controls",
      "model_module_version": "1.5.0",
      "model_name": "ButtonStyleModel",
      "state": {}
     },
     "323aa823d9d74392af8b38dafc3fac60": {
      "model_module": "@jupyter-widgets/base",
      "model_module_version": "1.2.0",
      "model_name": "LayoutModel",
      "state": {}
     },
     "375a9c72d9da4092996a34e2e2c6b81c": {
      "model_module": "@jupyter-widgets/controls",
      "model_module_version": "1.5.0",
      "model_name": "DescriptionStyleModel",
      "state": {
       "description_width": "10%"
      }
     },
     "3845f81dbc994d568f7ff2d83c29e704": {
      "model_module": "@jupyter-widgets/controls",
      "model_module_version": "1.5.0",
      "model_name": "ButtonStyleModel",
      "state": {}
     },
     "4a812a91ec2a4b9bb7b237aa7e49eab9": {
      "model_module": "@jupyter-widgets/output",
      "model_module_version": "1.0.0",
      "model_name": "OutputModel",
      "state": {
       "layout": "IPY_MODEL_0a340e9b8ab34994a5c27aa81d07bb8e",
       "outputs": [
        {
         "data": {
          "text/html": "<h3>New Data</h3>",
          "text/plain": "<cassini.ipygui.WHTML at 0x25d81191e48>"
         },
         "metadata": {},
         "output_type": "display_data"
        }
       ]
      }
     },
     "4dfa4d9e422c4856a88dc55533857bd9": {
      "model_module": "@jupyter-widgets/base",
      "model_module_version": "1.2.0",
      "model_name": "LayoutModel",
      "state": {}
     },
     "58c76cc93c8b45008f87e45e525447a7": {
      "model_module": "@jupyter-widgets/base",
      "model_module_version": "1.2.0",
      "model_name": "LayoutModel",
      "state": {
       "width": "auto"
      }
     },
     "58c936449cdd4d1aa91756c3082e67a2": {
      "model_module": "@jupyter-widgets/base",
      "model_module_version": "1.2.0",
      "model_name": "LayoutModel",
      "state": {}
     },
     "5fe2d716bbca4972be145d7b6db00209": {
      "model_module": "@jupyter-widgets/controls",
      "model_module_version": "1.5.0",
      "model_name": "ButtonModel",
      "state": {
       "description": "Confirm",
       "disabled": true,
       "layout": "IPY_MODEL_fa33362392fb40fe97f0552520bdb855",
       "style": "IPY_MODEL_319e126a4fbb4bbf960ccdb3490c1282"
      }
     },
     "6e23d9ab6fae4112b98a78e04584bf76": {
      "model_module": "@jupyter-widgets/base",
      "model_module_version": "1.2.0",
      "model_name": "LayoutModel",
      "state": {
       "width": "auto"
      }
     },
     "6f8ed9a227794b95bf12cdaa25667c71": {
      "model_module": "@jupyter-widgets/controls",
      "model_module_version": "1.5.0",
      "model_name": "ButtonModel",
      "state": {
       "description": "New",
       "layout": "IPY_MODEL_7a303cd5f5454610827a33e5c51da7eb",
       "style": "IPY_MODEL_3845f81dbc994d568f7ff2d83c29e704"
      }
     },
     "7662591fb9764dcd83fa42fd4ae8a5d1": {
      "model_module": "@jupyter-widgets/controls",
      "model_module_version": "1.5.0",
      "model_name": "VBoxModel",
      "state": {
       "children": [
        "IPY_MODEL_068b2145a8e640deb5c66d0151b4b272",
        "IPY_MODEL_f62a6ad4f6c54b5a9edbb893bf997196"
       ],
       "layout": "IPY_MODEL_b7cf4889812c40789843f8200c2ab734"
      }
     },
     "76bd9699d3d6468ba68bab1af026396d": {
      "model_module": "@jupyter-widgets/controls",
      "model_module_version": "1.5.0",
      "model_name": "TextModel",
      "state": {
       "description": "Name:",
       "layout": "IPY_MODEL_a880e860d2384d839e149e8b565a8b67",
       "placeholder": "e.g. XRD",
       "style": "IPY_MODEL_375a9c72d9da4092996a34e2e2c6b81c"
      }
     },
     "7a303cd5f5454610827a33e5c51da7eb": {
      "model_module": "@jupyter-widgets/base",
      "model_module_version": "1.2.0",
      "model_name": "LayoutModel",
      "state": {}
     },
     "7ec9c8a383014fcfb72f40d704b5ce5a": {
      "model_module": "@jupyter-widgets/base",
      "model_module_version": "1.2.0",
      "model_name": "LayoutModel",
      "state": {}
     },
     "8084e89a61f948e288654d1fd610b357": {
      "model_module": "@jupyter-widgets/controls",
      "model_module_version": "1.5.0",
      "model_name": "SelectModel",
      "state": {
       "_options_labels": [
        "Custom.tmplt.ipynb",
        "Sample.tmplt.ipynb"
       ],
       "description": "Template",
       "index": 0,
       "layout": "IPY_MODEL_58c76cc93c8b45008f87e45e525447a7",
       "style": "IPY_MODEL_156e40b124534f81bdd9ba77082a9788"
      }
     },
     "82cebc8764c0428592b8ed1602c7d7a0": {
      "model_module": "@jupyter-widgets/base",
      "model_module_version": "1.2.0",
      "model_name": "LayoutModel",
      "state": {
       "width": "auto"
      }
     },
     "8b77ef5384b747068c049377e66a8cea": {
      "model_module": "@jupyter-widgets/controls",
      "model_module_version": "1.5.0",
      "model_name": "ButtonStyleModel",
      "state": {}
     },
     "8dd131110eff49ca8d4ceb1781305198": {
      "model_module": "@jupyter-widgets/output",
      "model_module_version": "1.0.0",
      "model_name": "OutputModel",
      "state": {
       "layout": "IPY_MODEL_db4e835cdcb843cd87ac9648500039f3",
       "outputs": [
        {
         "data": {
          "text/markdown": "They can contain markdown, although this isn't rendered in _tables_",
          "text/plain": "<IPython.core.display.Markdown object>"
         },
         "metadata": {},
         "output_type": "display_data"
        }
       ]
      }
     },
     "8f72213b338041e4af099eb6f71d1ab6": {
      "model_module": "@jupyter-widgets/controls",
      "model_module_version": "1.5.0",
      "model_name": "TextareaModel",
      "state": {
       "description": "Motivation",
       "layout": "IPY_MODEL_6e23d9ab6fae4112b98a78e04584bf76",
       "style": "IPY_MODEL_ea3ef2484d944757b2c951416382c125"
      }
     },
     "90b32d962edb4b6c9431d810f97286e5": {
      "model_module": "@jupyter-widgets/controls",
      "model_module_version": "1.5.0",
      "model_name": "HBoxModel",
      "state": {
       "children": [
        "IPY_MODEL_5fe2d716bbca4972be145d7b6db00209",
        "IPY_MODEL_6f8ed9a227794b95bf12cdaa25667c71"
       ],
       "layout": "IPY_MODEL_003ff65a40d84726b45e35f75e21da7d"
      }
     },
     "91a91f52fa3346b5b23e53d07b817df8": {
      "model_module": "@jupyter-widgets/controls",
      "model_module_version": "1.5.0",
      "model_name": "SelectMultipleModel",
      "state": {
       "_options_labels": [
        "WP1.2c"
       ],
       "description": "Auto Add",
       "index": [],
       "layout": "IPY_MODEL_82cebc8764c0428592b8ed1602c7d7a0",
       "rows": 5,
       "style": "IPY_MODEL_123f9855b12b49c4bf2856a5117ccee9"
      }
     },
     "9469bdc6e9c844e2a4bb06cd01ce2e78": {
      "model_module": "@jupyter-widgets/controls",
      "model_module_version": "1.5.0",
      "model_name": "ButtonStyleModel",
      "state": {}
     },
     "9af06cd050a848608ed8b2b962a4b11f": {
      "model_module": "@jupyter-widgets/controls",
      "model_module_version": "1.5.0",
      "model_name": "VBoxModel",
      "state": {
       "children": [
        "IPY_MODEL_76bd9699d3d6468ba68bab1af026396d",
        "IPY_MODEL_91a91f52fa3346b5b23e53d07b817df8",
        "IPY_MODEL_90b32d962edb4b6c9431d810f97286e5",
        "IPY_MODEL_26d9b3a2b7424044b5907eb73e237eb6"
       ],
       "layout": "IPY_MODEL_b7f6193ab1da467d814d882c18310941"
      }
     },
     "9d0667f870724c05af280135a700e387": {
      "model_module": "@jupyter-widgets/base",
      "model_module_version": "1.2.0",
      "model_name": "LayoutModel",
      "state": {
       "width": "auto"
      }
     },
     "a2eab0198db5468f9611ec102d35f0df": {
      "model_module": "@jupyter-widgets/controls",
      "model_module_version": "1.5.0",
      "model_name": "DescriptionStyleModel",
      "state": {
       "description_width": "10%"
      }
     },
     "a4ff4cf8494f4191b1660341275cf9fb": {
      "model_module": "@jupyter-widgets/controls",
      "model_module_version": "1.5.0",
      "model_name": "VBoxModel",
      "state": {
       "children": [
        "IPY_MODEL_7662591fb9764dcd83fa42fd4ae8a5d1",
        "IPY_MODEL_01f9c4b267e1444196c3c9be55eca23b",
        "IPY_MODEL_8dd131110eff49ca8d4ceb1781305198",
        "IPY_MODEL_ec6e4578263f45ca990a84e9738f8849",
        "IPY_MODEL_ce3b152d90b54afdbe45619dc6ffa7b2",
        "IPY_MODEL_b8dc1e5046d24f45ae42483b49b36e61",
        "IPY_MODEL_1941bf0deb6a46e0af37c45785d680ca",
        "IPY_MODEL_4a812a91ec2a4b9bb7b237aa7e49eab9",
        "IPY_MODEL_9af06cd050a848608ed8b2b962a4b11f"
       ],
       "layout": "IPY_MODEL_22aaaaa331414eccae20e94a058c1840"
      }
     },
     "a880e860d2384d839e149e8b565a8b67": {
      "model_module": "@jupyter-widgets/base",
      "model_module_version": "1.2.0",
      "model_name": "LayoutModel",
      "state": {
       "width": "auto"
      }
     },
     "acdac9a8b739421ab0445c28328add55": {
      "model_module": "@jupyter-widgets/base",
      "model_module_version": "1.2.0",
      "model_name": "LayoutModel",
      "state": {}
     },
     "ae99bfcea6844758b9ef1083df3efc04": {
      "model_module": "@jupyter-widgets/controls",
      "model_module_version": "1.5.0",
      "model_name": "ButtonStyleModel",
      "state": {}
     },
     "b5ba880e932849ec84fd3f8635a47319": {
      "model_module": "@jupyter-widgets/base",
      "model_module_version": "1.2.0",
      "model_name": "LayoutModel",
      "state": {}
     },
     "b78ac10de29f4a2ab45e4072db201787": {
      "model_module": "@jupyter-widgets/base",
      "model_module_version": "1.2.0",
      "model_name": "LayoutModel",
      "state": {
       "width": "auto"
      }
     },
     "b7cf4889812c40789843f8200c2ab734": {
      "model_module": "@jupyter-widgets/base",
      "model_module_version": "1.2.0",
      "model_name": "LayoutModel",
      "state": {}
     },
     "b7f6193ab1da467d814d882c18310941": {
      "model_module": "@jupyter-widgets/base",
      "model_module_version": "1.2.0",
      "model_name": "LayoutModel",
      "state": {}
     },
     "b8bc11ba86bd4bd4bbb5a9f4b9764a65": {
      "model_module": "@jupyter-widgets/controls",
      "model_module_version": "1.5.0",
      "model_name": "ButtonModel",
      "state": {
       "description": "New",
       "layout": "IPY_MODEL_05c220a09c6e4a3ba5fcba804cfb0688",
       "style": "IPY_MODEL_8b77ef5384b747068c049377e66a8cea"
      }
     },
     "b8dc1e5046d24f45ae42483b49b36e61": {
      "model_module": "@jupyter-widgets/output",
      "model_module_version": "1.0.0",
      "model_name": "OutputModel",
      "state": {
       "layout": "IPY_MODEL_7ec9c8a383014fcfb72f40d704b5ce5a",
       "outputs": [
        {
         "data": {
          "text/html": "<h3>New Sample</h3>",
          "text/plain": "<cassini.ipygui.WHTML at 0x25d81191518>"
         },
         "metadata": {},
         "output_type": "display_data"
        }
       ]
      }
     },
     "bba66ae924f64a41936d6dff54c9d0f2": {
      "model_module": "@jupyter-widgets/base",
      "model_module_version": "1.2.0",
      "model_name": "LayoutModel",
      "state": {}
     },
     "c2227c00547043a091e2575a62c51f4f": {
      "model_module": "@jupyter-widgets/controls",
      "model_module_version": "1.5.0",
      "model_name": "ButtonModel",
      "state": {
       "description": "Confirm",
       "disabled": true,
       "layout": "IPY_MODEL_207cdd9c707a4cd2bddf715b2cf5ce73",
       "style": "IPY_MODEL_9469bdc6e9c844e2a4bb06cd01ce2e78"
      }
     },
     "cae4512d1b4f4730866a7ea927f12658": {
      "model_module": "@jupyter-widgets/controls",
      "model_module_version": "1.5.0",
      "model_name": "HBoxModel",
      "state": {
       "children": [
        "IPY_MODEL_c2227c00547043a091e2575a62c51f4f",
        "IPY_MODEL_b8bc11ba86bd4bd4bbb5a9f4b9764a65"
       ],
       "layout": "IPY_MODEL_1191d9930c5f489cad938075ddd8dca8"
      }
     },
     "ce3b152d90b54afdbe45619dc6ffa7b2": {
      "model_module": "@jupyter-widgets/output",
      "model_module_version": "1.0.0",
      "model_name": "OutputModel",
      "state": {
       "layout": "IPY_MODEL_b5ba880e932849ec84fd3f8635a47319",
       "outputs": [
        {
         "data": {
          "text/html": "<table border=\"1\" class=\"dataframe\">\n  <thead>\n    <tr style=\"text-align: right;\">\n      <th></th>\n      <th>started</th>\n      <th>description</th>\n      <th>Obj</th>\n      <th>datasets</th>\n    </tr>\n    <tr>\n      <th>Name</th>\n      <th></th>\n      <th></th>\n      <th></th>\n      <th></th>\n    </tr>\n  </thead>\n  <tbody>\n    <tr>\n      <th>WP1.2c</th>\n      <td>2020-06-29</td>\n      <td></td>\n      <td><a href=\"WP1.2/WP1.2c.ipynb\" target=\"_blank\"><h4 style=\"display: inline;\">WP1.2c</h4 style=\"display: inline;\"</a></td>\n      <td>[]</td>\n    </tr>\n  </tbody>\n</table>",
          "text/plain": "          started description                Obj datasets\nName                                                     \nWP1.2c 2020-06-29              <Sample \"WP1.2c\">       []"
         },
         "metadata": {},
         "output_type": "display_data"
        }
       ]
      }
     },
     "d0560fb14dcd4fd08f70aef7c1b42349": {
      "model_module": "@jupyter-widgets/base",
      "model_module_version": "1.2.0",
      "model_name": "LayoutModel",
      "state": {
       "width": "auto"
      }
     },
     "db4e835cdcb843cd87ac9648500039f3": {
      "model_module": "@jupyter-widgets/base",
      "model_module_version": "1.2.0",
      "model_name": "LayoutModel",
      "state": {}
     },
     "ea3ef2484d944757b2c951416382c125": {
      "model_module": "@jupyter-widgets/controls",
      "model_module_version": "1.5.0",
      "model_name": "DescriptionStyleModel",
      "state": {
       "description_width": "10%"
      }
     },
     "ec6e4578263f45ca990a84e9738f8849": {
      "model_module": "@jupyter-widgets/output",
      "model_module_version": "1.0.0",
      "model_name": "OutputModel",
      "state": {
       "layout": "IPY_MODEL_ff0d6247580a4a48a58665675eea5515",
       "outputs": [
        {
         "data": {
          "text/html": "<h3>Samples</h3>",
          "text/plain": "<cassini.ipygui.WHTML at 0x25d81106240>"
         },
         "metadata": {},
         "output_type": "display_data"
        }
       ]
      }
     },
     "eee2838225a2477e8ddc473bb48946d5": {
      "model_module": "@jupyter-widgets/base",
      "model_module_version": "1.2.0",
      "model_name": "LayoutModel",
      "state": {}
     },
     "f62a6ad4f6c54b5a9edbb893bf997196": {
      "model_module": "@jupyter-widgets/controls",
      "model_module_version": "1.5.0",
      "model_name": "ButtonModel",
      "state": {
       "description": "Folder",
       "layout": "IPY_MODEL_bba66ae924f64a41936d6dff54c9d0f2",
       "style": "IPY_MODEL_ae99bfcea6844758b9ef1083df3efc04"
      }
     },
     "fa33362392fb40fe97f0552520bdb855": {
      "model_module": "@jupyter-widgets/base",
      "model_module_version": "1.2.0",
      "model_name": "LayoutModel",
      "state": {}
     },
     "fa4a0a86cc524ed4bbdb2c40f2c2a4d8": {
      "model_module": "@jupyter-widgets/output",
      "model_module_version": "1.0.0",
      "model_name": "OutputModel",
      "state": {
       "layout": "IPY_MODEL_9d0667f870724c05af280135a700e387"
      }
     },
     "fe2539878a914231b13e514faa9b95bf": {
      "model_module": "@jupyter-widgets/controls",
      "model_module_version": "1.5.0",
      "model_name": "TextModel",
      "state": {
       "description": "Identifier",
       "layout": "IPY_MODEL_b78ac10de29f4a2ab45e4072db201787",
       "placeholder": "([^0-9^-][^-]*)",
       "style": "IPY_MODEL_a2eab0198db5468f9611ec102d35f0df"
      }
     },
     "ff0d6247580a4a48a58665675eea5515": {
      "model_module": "@jupyter-widgets/base",
      "model_module_version": "1.2.0",
      "model_name": "LayoutModel",
      "state": {}
     }
    },
    "version_major": 2,
    "version_minor": 0
   }
  }
 },
 "nbformat": 4,
 "nbformat_minor": 4
}
