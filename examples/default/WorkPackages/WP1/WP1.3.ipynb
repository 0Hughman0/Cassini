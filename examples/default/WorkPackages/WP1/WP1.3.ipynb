{
 "cells": [
  {
   "cell_type": "code",
   "execution_count": 1,
   "metadata": {
    "pycharm": {
     "name": "#%%\n"
    }
   },
   "outputs": [
    {
     "name": "stderr",
     "output_type": "stream",
     "text": [
      "D:\\Documents\\Programin\\venvs\\cassini\\cassini-dev\\lib\\site-packages\\jupyter_server\\transutils.py:13: FutureWarning: The alias `_()` will be deprecated. Use `_i18n()` instead.\n",
      "  warnings.warn(warn_msg, FutureWarning)\n"
     ]
    },
    {
     "data": {
      "application/vnd.jupyter.widget-view+json": {
       "model_id": "aee4590774c94b45857af632beddf778",
       "version_major": 2,
       "version_minor": 0
      },
      "text/plain": [
       "VBox(children=(VBox(children=(Output(), Button(description='Folder', style=ButtonStyle()))), Output(), Output(…"
      ]
     },
     "metadata": {},
     "output_type": "display_data"
    }
   ],
   "source": [
    "from project import project\n",
    "\n",
    "exp = project.env('WP1.3')\n",
    "exp.gui.header()"
   ]
  },
  {
   "cell_type": "code",
   "execution_count": null,
   "metadata": {},
   "outputs": [],
   "source": []
  }
 ],
 "metadata": {
  "kernelspec": {
   "display_name": "Python 3",
   "language": "python",
   "name": "python3"
  },
  "language_info": {
   "codemirror_mode": {
    "name": "ipython",
    "version": 3
   },
   "file_extension": ".py",
   "mimetype": "text/x-python",
   "name": "python",
   "nbconvert_exporter": "python",
   "pygments_lexer": "ipython3",
   "version": "3.7.2"
  },
  "pycharm": {
   "stem_cell": {
    "cell_type": "raw",
    "metadata": {
     "collapsed": false
    },
    "source": []
   }
  },
  "widgets": {
   "application/vnd.jupyter.widget-state+json": {
    "state": {
     "00a437413a934d5ca008d2c0d4767520": {
      "model_module": "@jupyter-widgets/base",
      "model_module_version": "1.2.0",
      "model_name": "LayoutModel",
      "state": {
       "width": "auto"
      }
     },
     "0203a720f80b45268c6ae1cd1e0bdd95": {
      "model_module": "@jupyter-widgets/controls",
      "model_module_version": "1.5.0",
      "model_name": "HBoxModel",
      "state": {
       "children": [
        "IPY_MODEL_c6568d65f0854da78fef8b1c70f86961",
        "IPY_MODEL_07c0f6e087ec4a6ba2fc4ac4c4420cde"
       ],
       "layout": "IPY_MODEL_850784de9ef84cd5aebd8773572d9b55"
      }
     },
     "07c0f6e087ec4a6ba2fc4ac4c4420cde": {
      "model_module": "@jupyter-widgets/controls",
      "model_module_version": "1.5.0",
      "model_name": "ButtonModel",
      "state": {
       "description": "New",
       "layout": "IPY_MODEL_dd249cbc944a487589a4d97b0c48abea",
       "style": "IPY_MODEL_6084dce87e004349b4ae82db9a6d2a93"
      }
     },
     "07f467dad11a422ea1a43a95ccbce85f": {
      "model_module": "@jupyter-widgets/controls",
      "model_module_version": "1.5.0",
      "model_name": "DescriptionStyleModel",
      "state": {
       "description_width": "10%"
      }
     },
     "0c8fb0c6b11a473d9efbf57b3cb91d32": {
      "model_module": "@jupyter-widgets/base",
      "model_module_version": "1.2.0",
      "model_name": "LayoutModel",
      "state": {}
     },
     "1198cbd0b81042b4b9126afbe5816579": {
      "model_module": "@jupyter-widgets/base",
      "model_module_version": "1.2.0",
      "model_name": "LayoutModel",
      "state": {
       "width": "auto"
      }
     },
     "1c18c49d8e2a4f0fb70aa85ff83e8c35": {
      "model_module": "@jupyter-widgets/controls",
      "model_module_version": "1.5.0",
      "model_name": "TextModel",
      "state": {
       "description": "Identifier",
       "layout": "IPY_MODEL_85218ed8467b4e14bf4b8c56d4435c7e",
       "placeholder": "([^0-9^-][^-]*)",
       "style": "IPY_MODEL_cdaa7379b82b4b96aeb6487978c7c275"
      }
     },
     "1c39c6c55b9b405e8e15a8a419a2740e": {
      "model_module": "@jupyter-widgets/base",
      "model_module_version": "1.2.0",
      "model_name": "LayoutModel",
      "state": {}
     },
     "1d127cefdfa746deadc153d7288e60ad": {
      "model_module": "@jupyter-widgets/controls",
      "model_module_version": "1.5.0",
      "model_name": "ButtonModel",
      "state": {
       "description": "Folder",
       "layout": "IPY_MODEL_af2ff3769a65453fa5e9956cc1299365",
       "style": "IPY_MODEL_3812f64cc4c34a529efae1501d099708"
      }
     },
     "322bcd542cdf483192b22cb64354e33a": {
      "model_module": "@jupyter-widgets/controls",
      "model_module_version": "1.5.0",
      "model_name": "SelectModel",
      "state": {
       "_options_labels": [
        "Custom.tmplt.ipynb",
        "Sample.tmplt.ipynb"
       ],
       "description": "Template",
       "index": 0,
       "layout": "IPY_MODEL_00a437413a934d5ca008d2c0d4767520",
       "style": "IPY_MODEL_34ea060dc806420a861d25fb0ee40b2d"
      }
     },
     "34ea060dc806420a861d25fb0ee40b2d": {
      "model_module": "@jupyter-widgets/controls",
      "model_module_version": "1.5.0",
      "model_name": "DescriptionStyleModel",
      "state": {
       "description_width": "10%"
      }
     },
     "3812f64cc4c34a529efae1501d099708": {
      "model_module": "@jupyter-widgets/controls",
      "model_module_version": "1.5.0",
      "model_name": "ButtonStyleModel",
      "state": {}
     },
     "39a209b2c5a7493e93191cd37d1caabe": {
      "model_module": "@jupyter-widgets/base",
      "model_module_version": "1.2.0",
      "model_name": "LayoutModel",
      "state": {}
     },
     "3daeeb501e294e87ab9565f3c65412c8": {
      "model_module": "@jupyter-widgets/controls",
      "model_module_version": "1.5.0",
      "model_name": "ButtonModel",
      "state": {
       "description": "Confirm",
       "disabled": true,
       "layout": "IPY_MODEL_1c39c6c55b9b405e8e15a8a419a2740e",
       "style": "IPY_MODEL_d755f917eed24c48ac0ef866e239da00"
      }
     },
     "43295f12081d4a2f9e8cd6e80dea1037": {
      "model_module": "@jupyter-widgets/output",
      "model_module_version": "1.0.0",
      "model_name": "OutputModel",
      "state": {
       "layout": "IPY_MODEL_c7585376119146579ed991a43f50e680"
      }
     },
     "4591e5b8575a4453890c0bd07a5ee53b": {
      "model_module": "@jupyter-widgets/base",
      "model_module_version": "1.2.0",
      "model_name": "LayoutModel",
      "state": {}
     },
     "45f24b38b6cc48e7b5c30a6801ceb9df": {
      "model_module": "@jupyter-widgets/output",
      "model_module_version": "1.0.0",
      "model_name": "OutputModel",
      "state": {
       "layout": "IPY_MODEL_ee93e7282ede42058d3bd8806fec2119",
       "outputs": [
        {
         "data": {
          "text/markdown": "My Description",
          "text/plain": "<IPython.core.display.Markdown object>"
         },
         "metadata": {},
         "output_type": "display_data"
        }
       ]
      }
     },
     "47d436276e9c499195342b1f5ade0832": {
      "model_module": "@jupyter-widgets/output",
      "model_module_version": "1.0.0",
      "model_name": "OutputModel",
      "state": {
       "layout": "IPY_MODEL_9134eb53c2ac497e93ab914be6b6235d"
      }
     },
     "4a9652f9def44a56b08e93fda90e4505": {
      "model_module": "@jupyter-widgets/output",
      "model_module_version": "1.0.0",
      "model_name": "OutputModel",
      "state": {
       "layout": "IPY_MODEL_a2caeef65b2c4f3cac5bc5c37cec0967",
       "outputs": [
        {
         "data": {
          "text/html": "<table border=\"1\" class=\"dataframe\">\n  <thead>\n    <tr style=\"text-align: right;\">\n      <th></th>\n    </tr>\n  </thead>\n  <tbody>\n  </tbody>\n</table>",
          "text/plain": "Empty UnescapedDataFrame\nColumns: []\nIndex: []"
         },
         "metadata": {},
         "output_type": "display_data"
        }
       ]
      }
     },
     "4e2830abfe864ff9bcddc90044ea3b10": {
      "model_module": "@jupyter-widgets/base",
      "model_module_version": "1.2.0",
      "model_name": "LayoutModel",
      "state": {
       "width": "auto"
      }
     },
     "506df6642f5246b8933abf16d2747d34": {
      "model_module": "@jupyter-widgets/controls",
      "model_module_version": "1.5.0",
      "model_name": "DescriptionStyleModel",
      "state": {
       "description_width": "10%"
      }
     },
     "5173ada646f044bbbf31f77c86419dae": {
      "model_module": "@jupyter-widgets/controls",
      "model_module_version": "1.5.0",
      "model_name": "ButtonStyleModel",
      "state": {}
     },
     "52b89ca69ab74bee99b2b7bb7ccfdf9e": {
      "model_module": "@jupyter-widgets/base",
      "model_module_version": "1.2.0",
      "model_name": "LayoutModel",
      "state": {}
     },
     "54549c2655ce496cb6036083726ad00e": {
      "model_module": "@jupyter-widgets/base",
      "model_module_version": "1.2.0",
      "model_name": "LayoutModel",
      "state": {}
     },
     "57204b6cc8714c55bcbb4af96ec3e6fc": {
      "model_module": "@jupyter-widgets/output",
      "model_module_version": "1.0.0",
      "model_name": "OutputModel",
      "state": {
       "layout": "IPY_MODEL_6db8c5b70a39447790419a09a0969996"
      }
     },
     "6084dce87e004349b4ae82db9a6d2a93": {
      "model_module": "@jupyter-widgets/controls",
      "model_module_version": "1.5.0",
      "model_name": "ButtonStyleModel",
      "state": {}
     },
     "6c6e28da69f64420b276bc6054dfe9ec": {
      "model_module": "@jupyter-widgets/controls",
      "model_module_version": "1.5.0",
      "model_name": "ButtonModel",
      "state": {
       "description": "New",
       "layout": "IPY_MODEL_0c8fb0c6b11a473d9efbf57b3cb91d32",
       "style": "IPY_MODEL_edcea9843bf54bc9b9744d4dfbab5142"
      }
     },
     "6cfe3686b425437da0d033b5dd36368a": {
      "model_module": "@jupyter-widgets/base",
      "model_module_version": "1.2.0",
      "model_name": "LayoutModel",
      "state": {}
     },
     "6db8c5b70a39447790419a09a0969996": {
      "model_module": "@jupyter-widgets/base",
      "model_module_version": "1.2.0",
      "model_name": "LayoutModel",
      "state": {}
     },
     "74799dc356214cdc8b7ce470fe9045e9": {
      "model_module": "@jupyter-widgets/controls",
      "model_module_version": "1.5.0",
      "model_name": "SelectMultipleModel",
      "state": {
       "description": "Auto Add",
       "index": [],
       "layout": "IPY_MODEL_f15f56bb8aa74b2ca53d7021e9e2c702",
       "rows": 5,
       "style": "IPY_MODEL_506df6642f5246b8933abf16d2747d34"
      }
     },
     "7aecc9e1a9e2461995ff61387eb8bb2a": {
      "model_module": "@jupyter-widgets/output",
      "model_module_version": "1.0.0",
      "model_name": "OutputModel",
      "state": {
       "layout": "IPY_MODEL_4e2830abfe864ff9bcddc90044ea3b10"
      }
     },
     "7e949d1c29c3436d828b18adba6f88c1": {
      "model_module": "@jupyter-widgets/output",
      "model_module_version": "1.0.0",
      "model_name": "OutputModel",
      "state": {
       "layout": "IPY_MODEL_8cf7a2ff25ab442ab0eae6b12699b686",
       "outputs": [
        {
         "data": {
          "text/html": "<h3>Samples</h3>",
          "text/plain": "<cassini.ipygui.WHTML at 0x1b14b716e10>"
         },
         "metadata": {},
         "output_type": "display_data"
        }
       ]
      }
     },
     "850784de9ef84cd5aebd8773572d9b55": {
      "model_module": "@jupyter-widgets/base",
      "model_module_version": "1.2.0",
      "model_name": "LayoutModel",
      "state": {}
     },
     "85218ed8467b4e14bf4b8c56d4435c7e": {
      "model_module": "@jupyter-widgets/base",
      "model_module_version": "1.2.0",
      "model_name": "LayoutModel",
      "state": {
       "width": "auto"
      }
     },
     "8c069f8693394447813827feebd1f2fc": {
      "model_module": "@jupyter-widgets/base",
      "model_module_version": "1.2.0",
      "model_name": "LayoutModel",
      "state": {
       "width": "auto"
      }
     },
     "8cf7a2ff25ab442ab0eae6b12699b686": {
      "model_module": "@jupyter-widgets/base",
      "model_module_version": "1.2.0",
      "model_name": "LayoutModel",
      "state": {}
     },
     "9134eb53c2ac497e93ab914be6b6235d": {
      "model_module": "@jupyter-widgets/base",
      "model_module_version": "1.2.0",
      "model_name": "LayoutModel",
      "state": {}
     },
     "9212b19b09204b608b2873a8cb55d431": {
      "model_module": "@jupyter-widgets/base",
      "model_module_version": "1.2.0",
      "model_name": "LayoutModel",
      "state": {}
     },
     "9265e35590e94a3580ad28914a778334": {
      "model_module": "@jupyter-widgets/base",
      "model_module_version": "1.2.0",
      "model_name": "LayoutModel",
      "state": {}
     },
     "92bff35a237b4b88951a6dab0d044e95": {
      "model_module": "@jupyter-widgets/controls",
      "model_module_version": "1.5.0",
      "model_name": "TextModel",
      "state": {
       "description": "Name:",
       "layout": "IPY_MODEL_8c069f8693394447813827feebd1f2fc",
       "placeholder": "e.g. XRD",
       "style": "IPY_MODEL_df1c0ade035c4f298272fc7afd4f1d7e"
      }
     },
     "968574f7a7af432987718aca30411d16": {
      "model_module": "@jupyter-widgets/output",
      "model_module_version": "1.0.0",
      "model_name": "OutputModel",
      "state": {
       "layout": "IPY_MODEL_52b89ca69ab74bee99b2b7bb7ccfdf9e",
       "outputs": [
        {
         "data": {
          "text/html": "<h3>New Sample</h3>",
          "text/plain": "<cassini.ipygui.WHTML at 0x1b14b777358>"
         },
         "metadata": {},
         "output_type": "display_data"
        }
       ]
      }
     },
     "99f32a2cc4b84c19ae29a21c4225287b": {
      "model_module": "@jupyter-widgets/output",
      "model_module_version": "1.0.0",
      "model_name": "OutputModel",
      "state": {
       "layout": "IPY_MODEL_6cfe3686b425437da0d033b5dd36368a",
       "outputs": [
        {
         "data": {
          "text/html": "<h3>Description</h3>",
          "text/plain": "<cassini.ipygui.WHTML at 0x1b14b716b00>"
         },
         "metadata": {},
         "output_type": "display_data"
        }
       ]
      }
     },
     "9addcdf82df2468a8abd48b4ee99c8f0": {
      "model_module": "@jupyter-widgets/controls",
      "model_module_version": "1.5.0",
      "model_name": "VBoxModel",
      "state": {
       "children": [
        "IPY_MODEL_92bff35a237b4b88951a6dab0d044e95",
        "IPY_MODEL_74799dc356214cdc8b7ce470fe9045e9",
        "IPY_MODEL_0203a720f80b45268c6ae1cd1e0bdd95",
        "IPY_MODEL_57204b6cc8714c55bcbb4af96ec3e6fc"
       ],
       "layout": "IPY_MODEL_54549c2655ce496cb6036083726ad00e"
      }
     },
     "a0fe8b1ca79345edb11fcb22951c98ac": {
      "model_module": "@jupyter-widgets/output",
      "model_module_version": "1.0.0",
      "model_name": "OutputModel",
      "state": {
       "layout": "IPY_MODEL_c14717072e69487ea438bbc7dbd406b5",
       "outputs": [
        {
         "data": {
          "text/html": "<h1 style=\"display: inline;\"><a href=\"WP1.3.ipynb\">WP1.3</a></h1><h3 style=\"display: inline;\">(<a href=\"../../Home.ipynb\" target=\"_blank\">Home</a>-><a href=\"../WP1.ipynb\" target=\"_blank\">WP1</a>)</h3>",
          "text/plain": "<cassini.ipygui.WHTML at 0x1b14b716710>"
         },
         "metadata": {},
         "output_type": "display_data"
        }
       ]
      }
     },
     "a2caeef65b2c4f3cac5bc5c37cec0967": {
      "model_module": "@jupyter-widgets/base",
      "model_module_version": "1.2.0",
      "model_name": "LayoutModel",
      "state": {}
     },
     "ad8b027268c543c393ef4ac1558bdaae": {
      "model_module": "@jupyter-widgets/output",
      "model_module_version": "1.0.0",
      "model_name": "OutputModel",
      "state": {
       "layout": "IPY_MODEL_39a209b2c5a7493e93191cd37d1caabe",
       "outputs": [
        {
         "data": {
          "text/html": "<h3>New Data</h3>",
          "text/plain": "<cassini.ipygui.WHTML at 0x1b14b777a20>"
         },
         "metadata": {},
         "output_type": "display_data"
        }
       ]
      }
     },
     "aee4590774c94b45857af632beddf778": {
      "model_module": "@jupyter-widgets/controls",
      "model_module_version": "1.5.0",
      "model_name": "VBoxModel",
      "state": {
       "children": [
        "IPY_MODEL_dacab2d57d3b4315aefa0f04baf78321",
        "IPY_MODEL_99f32a2cc4b84c19ae29a21c4225287b",
        "IPY_MODEL_45f24b38b6cc48e7b5c30a6801ceb9df",
        "IPY_MODEL_7e949d1c29c3436d828b18adba6f88c1",
        "IPY_MODEL_4a9652f9def44a56b08e93fda90e4505",
        "IPY_MODEL_968574f7a7af432987718aca30411d16",
        "IPY_MODEL_ccb68441d9ff4a69bdb53589caf9c352",
        "IPY_MODEL_ad8b027268c543c393ef4ac1558bdaae",
        "IPY_MODEL_9addcdf82df2468a8abd48b4ee99c8f0"
       ],
       "layout": "IPY_MODEL_9265e35590e94a3580ad28914a778334"
      }
     },
     "af2ff3769a65453fa5e9956cc1299365": {
      "model_module": "@jupyter-widgets/base",
      "model_module_version": "1.2.0",
      "model_name": "LayoutModel",
      "state": {}
     },
     "b98ff95d82534321a14be471cca8c68c": {
      "model_module": "@jupyter-widgets/base",
      "model_module_version": "1.2.0",
      "model_name": "LayoutModel",
      "state": {}
     },
     "c14717072e69487ea438bbc7dbd406b5": {
      "model_module": "@jupyter-widgets/base",
      "model_module_version": "1.2.0",
      "model_name": "LayoutModel",
      "state": {}
     },
     "c2c709daa2d44847bcbe0a51492e905a": {
      "model_module": "@jupyter-widgets/base",
      "model_module_version": "1.2.0",
      "model_name": "LayoutModel",
      "state": {}
     },
     "c6568d65f0854da78fef8b1c70f86961": {
      "model_module": "@jupyter-widgets/controls",
      "model_module_version": "1.5.0",
      "model_name": "ButtonModel",
      "state": {
       "description": "Confirm",
       "disabled": true,
       "layout": "IPY_MODEL_c2c709daa2d44847bcbe0a51492e905a",
       "style": "IPY_MODEL_5173ada646f044bbbf31f77c86419dae"
      }
     },
     "c7585376119146579ed991a43f50e680": {
      "model_module": "@jupyter-widgets/base",
      "model_module_version": "1.2.0",
      "model_name": "LayoutModel",
      "state": {
       "width": "auto"
      }
     },
     "ccb68441d9ff4a69bdb53589caf9c352": {
      "model_module": "@jupyter-widgets/controls",
      "model_module_version": "1.5.0",
      "model_name": "VBoxModel",
      "state": {
       "children": [
        "IPY_MODEL_1c18c49d8e2a4f0fb70aa85ff83e8c35",
        "IPY_MODEL_322bcd542cdf483192b22cb64354e33a",
        "IPY_MODEL_fe5635486c3c4cc385d10bee4cb6a64c",
        "IPY_MODEL_e16e6fcb73bd458e833a65b1b55865e1",
        "IPY_MODEL_47d436276e9c499195342b1f5ade0832"
       ],
       "layout": "IPY_MODEL_b98ff95d82534321a14be471cca8c68c"
      }
     },
     "cdaa7379b82b4b96aeb6487978c7c275": {
      "model_module": "@jupyter-widgets/controls",
      "model_module_version": "1.5.0",
      "model_name": "DescriptionStyleModel",
      "state": {
       "description_width": "10%"
      }
     },
     "d755f917eed24c48ac0ef866e239da00": {
      "model_module": "@jupyter-widgets/controls",
      "model_module_version": "1.5.0",
      "model_name": "ButtonStyleModel",
      "state": {}
     },
     "dacab2d57d3b4315aefa0f04baf78321": {
      "model_module": "@jupyter-widgets/controls",
      "model_module_version": "1.5.0",
      "model_name": "VBoxModel",
      "state": {
       "children": [
        "IPY_MODEL_a0fe8b1ca79345edb11fcb22951c98ac",
        "IPY_MODEL_1d127cefdfa746deadc153d7288e60ad"
       ],
       "layout": "IPY_MODEL_9212b19b09204b608b2873a8cb55d431"
      }
     },
     "dd249cbc944a487589a4d97b0c48abea": {
      "model_module": "@jupyter-widgets/base",
      "model_module_version": "1.2.0",
      "model_name": "LayoutModel",
      "state": {}
     },
     "df1c0ade035c4f298272fc7afd4f1d7e": {
      "model_module": "@jupyter-widgets/controls",
      "model_module_version": "1.5.0",
      "model_name": "DescriptionStyleModel",
      "state": {
       "description_width": "10%"
      }
     },
     "e16e6fcb73bd458e833a65b1b55865e1": {
      "model_module": "@jupyter-widgets/controls",
      "model_module_version": "1.5.0",
      "model_name": "HBoxModel",
      "state": {
       "children": [
        "IPY_MODEL_3daeeb501e294e87ab9565f3c65412c8",
        "IPY_MODEL_6c6e28da69f64420b276bc6054dfe9ec"
       ],
       "layout": "IPY_MODEL_4591e5b8575a4453890c0bd07a5ee53b"
      }
     },
     "edcea9843bf54bc9b9744d4dfbab5142": {
      "model_module": "@jupyter-widgets/controls",
      "model_module_version": "1.5.0",
      "model_name": "ButtonStyleModel",
      "state": {}
     },
     "ee93e7282ede42058d3bd8806fec2119": {
      "model_module": "@jupyter-widgets/base",
      "model_module_version": "1.2.0",
      "model_name": "LayoutModel",
      "state": {}
     },
     "f15f56bb8aa74b2ca53d7021e9e2c702": {
      "model_module": "@jupyter-widgets/base",
      "model_module_version": "1.2.0",
      "model_name": "LayoutModel",
      "state": {
       "width": "auto"
      }
     },
     "fe5635486c3c4cc385d10bee4cb6a64c": {
      "model_module": "@jupyter-widgets/controls",
      "model_module_version": "1.5.0",
      "model_name": "TextareaModel",
      "state": {
       "description": "Motivation",
       "layout": "IPY_MODEL_1198cbd0b81042b4b9126afbe5816579",
       "style": "IPY_MODEL_07f467dad11a422ea1a43a95ccbce85f"
      }
     }
    },
    "version_major": 2,
    "version_minor": 0
   }
  }
 },
 "nbformat": 4,
 "nbformat_minor": 4
}
