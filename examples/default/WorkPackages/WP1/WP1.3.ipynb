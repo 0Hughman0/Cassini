{
 "cells": [
  {
   "cell_type": "code",
   "execution_count": 1,
   "metadata": {
    "pycharm": {
     "name": "#%%\n"
    }
   },
   "outputs": [
    {
     "data": {
      "application/vnd.jupyter.widget-view+json": {
       "model_id": "dfb654f4136b4a1cb0339b89dda2d5c8",
       "version_major": 2,
       "version_minor": 0
      },
      "text/plain": [
       "VBox(children=(VBox(children=(Output(), Button(description='Folder', style=ButtonStyle()))), Output(), Output(…"
      ]
     },
     "metadata": {},
     "output_type": "display_data"
    }
   ],
   "source": [
    "from project import project\n",
    "\n",
    "exp = project.env('WP1.3')\n",
    "exp.gui.header()"
   ]
  },
  {
   "cell_type": "code",
   "execution_count": null,
   "metadata": {},
   "outputs": [],
   "source": []
  }
 ],
 "metadata": {
  "kernelspec": {
   "display_name": "Python 3",
   "language": "python",
   "name": "python3"
  },
  "language_info": {
   "codemirror_mode": {
    "name": "ipython",
    "version": 3
   },
   "file_extension": ".py",
   "mimetype": "text/x-python",
   "name": "python",
   "nbconvert_exporter": "python",
   "pygments_lexer": "ipython3",
   "version": "3.7.2"
  },
  "pycharm": {
   "stem_cell": {
    "cell_type": "raw",
    "metadata": {
     "collapsed": false
    },
    "source": []
   }
  },
  "widgets": {
   "application/vnd.jupyter.widget-state+json": {
    "state": {
     "00da02da806044dea8fcc24cb3dfe414": {
      "model_module": "@jupyter-widgets/base",
      "model_module_version": "1.2.0",
      "model_name": "LayoutModel",
      "state": {
       "width": "auto"
      }
     },
     "0cd6cc1c823a4c91a5ec78f8f1732860": {
      "model_module": "@jupyter-widgets/controls",
      "model_module_version": "1.5.0",
      "model_name": "ButtonModel",
      "state": {
       "description": "Confirm",
       "disabled": true,
       "layout": "IPY_MODEL_c47d6eb05af4400bb2188032f3ee925d",
       "style": "IPY_MODEL_7042183083dd46f4829644595686244c"
      }
     },
     "133a7fd814e94c4faf30e6f2313e59f9": {
      "model_module": "@jupyter-widgets/base",
      "model_module_version": "1.2.0",
      "model_name": "LayoutModel",
      "state": {}
     },
     "138241cf9f244f7aaaa630334bcfe344": {
      "model_module": "@jupyter-widgets/controls",
      "model_module_version": "1.5.0",
      "model_name": "ButtonStyleModel",
      "state": {}
     },
     "160a3c6f452d4e03851cbdb959b5802c": {
      "model_module": "@jupyter-widgets/base",
      "model_module_version": "1.2.0",
      "model_name": "LayoutModel",
      "state": {}
     },
     "1aef8062252e48e881ea8566527662f4": {
      "model_module": "@jupyter-widgets/base",
      "model_module_version": "1.2.0",
      "model_name": "LayoutModel",
      "state": {
       "width": "auto"
      }
     },
     "21097ea1a9294d568257f5b16433cd0d": {
      "model_module": "@jupyter-widgets/controls",
      "model_module_version": "1.5.0",
      "model_name": "ButtonModel",
      "state": {
       "description": "New",
       "layout": "IPY_MODEL_b8f927013ba54cbfa43e7cfa602eb1c2",
       "style": "IPY_MODEL_cec41003885c49668375d9e2c580fb40"
      }
     },
     "22d6d94941554f5ea37284c2d6f3db0d": {
      "model_module": "@jupyter-widgets/controls",
      "model_module_version": "1.5.0",
      "model_name": "VBoxModel",
      "state": {
       "children": [
        "IPY_MODEL_c8a17cf852ae4dfbb4a7381c3494e054",
        "IPY_MODEL_49c341b1d7af4406be1ada53669e5cf7",
        "IPY_MODEL_b543e8a4206b4cebaef31d97f200244b",
        "IPY_MODEL_a6f6c8fd19c54168b74e4147ebf6c952",
        "IPY_MODEL_2b039e83948c4f9681e6271e17e38ec5"
       ],
       "layout": "IPY_MODEL_89e4443696e74b9182fdc9eb80ad5359"
      }
     },
     "23de624ee75c4cc9a5707b88f93bc1bf": {
      "model_module": "@jupyter-widgets/base",
      "model_module_version": "1.2.0",
      "model_name": "LayoutModel",
      "state": {}
     },
     "258c7dbd90ba431494826e20861260d1": {
      "model_module": "@jupyter-widgets/output",
      "model_module_version": "1.0.0",
      "model_name": "OutputModel",
      "state": {
       "layout": "IPY_MODEL_8d14a7f7d14c4040997e2ed87da0054f",
       "outputs": [
        {
         "data": {
          "text/html": "<h1 style=\"display: inline;\"><a href=\"WP1.3.ipynb\">WP1.3</a></h1><h3 style=\"display: inline;\">(<a href=\"../../Home.ipynb\" target=\"_blank\">Home</a>-><a href=\"../WP1.ipynb\" target=\"_blank\">WP1</a>)</h3>",
          "text/plain": "<cassini.ipygui.WHTML at 0x14f54ab0f98>"
         },
         "metadata": {},
         "output_type": "display_data"
        }
       ]
      }
     },
     "2b039e83948c4f9681e6271e17e38ec5": {
      "model_module": "@jupyter-widgets/output",
      "model_module_version": "1.0.0",
      "model_name": "OutputModel",
      "state": {
       "layout": "IPY_MODEL_23de624ee75c4cc9a5707b88f93bc1bf"
      }
     },
     "2dd5fb9db82447cf86cc4ded3ad10c77": {
      "model_module": "@jupyter-widgets/base",
      "model_module_version": "1.2.0",
      "model_name": "LayoutModel",
      "state": {
       "width": "auto"
      }
     },
     "33c4b81de45c48089bb9f13f02654146": {
      "model_module": "@jupyter-widgets/controls",
      "model_module_version": "1.5.0",
      "model_name": "DescriptionStyleModel",
      "state": {
       "description_width": "10%"
      }
     },
     "3802cd7e70f246f78b333fde242d4020": {
      "model_module": "@jupyter-widgets/output",
      "model_module_version": "1.0.0",
      "model_name": "OutputModel",
      "state": {
       "layout": "IPY_MODEL_45596475deea4636ac89da8704d6f157",
       "outputs": [
        {
         "data": {
          "text/html": "<h3>New Sample</h3>",
          "text/plain": "<cassini.ipygui.WHTML at 0x14f54b269e8>"
         },
         "metadata": {},
         "output_type": "display_data"
        }
       ]
      }
     },
     "3df9c044bbe340888cbe0b8cba050ee7": {
      "model_module": "@jupyter-widgets/base",
      "model_module_version": "1.2.0",
      "model_name": "LayoutModel",
      "state": {}
     },
     "42ba63a5f82f4d469ed72d6b838fa892": {
      "model_module": "@jupyter-widgets/controls",
      "model_module_version": "1.5.0",
      "model_name": "SelectMultipleModel",
      "state": {
       "description": "Auto Add",
       "index": [],
       "layout": "IPY_MODEL_4d888a2524ca4d799cb0f265cbe2a106",
       "rows": 5,
       "style": "IPY_MODEL_e56cd0c743f6451981262f568e7c0691"
      }
     },
     "45596475deea4636ac89da8704d6f157": {
      "model_module": "@jupyter-widgets/base",
      "model_module_version": "1.2.0",
      "model_name": "LayoutModel",
      "state": {}
     },
     "49c341b1d7af4406be1ada53669e5cf7": {
      "model_module": "@jupyter-widgets/controls",
      "model_module_version": "1.5.0",
      "model_name": "SelectModel",
      "state": {
       "_options_labels": [
        "Custom.tmplt.ipynb",
        "Sample.tmplt.ipynb"
       ],
       "description": "Template",
       "index": 0,
       "layout": "IPY_MODEL_561668545a974df9bfca2a53da61188e",
       "style": "IPY_MODEL_a6c47b491749495ba630459fe1595c98"
      }
     },
     "4b985dc1089d43a68eb0ff6877b9bda4": {
      "model_module": "@jupyter-widgets/output",
      "model_module_version": "1.0.0",
      "model_name": "OutputModel",
      "state": {
       "layout": "IPY_MODEL_52e1c561fc564c91a812ea5a9ebf7b51"
      }
     },
     "4d888a2524ca4d799cb0f265cbe2a106": {
      "model_module": "@jupyter-widgets/base",
      "model_module_version": "1.2.0",
      "model_name": "LayoutModel",
      "state": {
       "width": "auto"
      }
     },
     "4f16bcad77724f99a590b79e3bea8248": {
      "model_module": "@jupyter-widgets/controls",
      "model_module_version": "1.5.0",
      "model_name": "VBoxModel",
      "state": {
       "children": [
        "IPY_MODEL_258c7dbd90ba431494826e20861260d1",
        "IPY_MODEL_92e2b0cb317c4a72a9c7eb491502994c"
       ],
       "layout": "IPY_MODEL_7fb31758289742ccb756ed37ba8abb8a"
      }
     },
     "52e1c561fc564c91a812ea5a9ebf7b51": {
      "model_module": "@jupyter-widgets/base",
      "model_module_version": "1.2.0",
      "model_name": "LayoutModel",
      "state": {
       "width": "auto"
      }
     },
     "561668545a974df9bfca2a53da61188e": {
      "model_module": "@jupyter-widgets/base",
      "model_module_version": "1.2.0",
      "model_name": "LayoutModel",
      "state": {
       "width": "auto"
      }
     },
     "63b6cc24b51b42eab92bb2ee9f725910": {
      "model_module": "@jupyter-widgets/output",
      "model_module_version": "1.0.0",
      "model_name": "OutputModel",
      "state": {
       "layout": "IPY_MODEL_d298522fd6144bf29692ba25c16710be",
       "outputs": [
        {
         "data": {
          "text/html": "<table border=\"1\" class=\"dataframe\">\n  <thead>\n    <tr style=\"text-align: right;\">\n      <th></th>\n    </tr>\n  </thead>\n  <tbody>\n  </tbody>\n</table>",
          "text/plain": "Empty UnescapedDataFrame\nColumns: []\nIndex: []"
         },
         "metadata": {},
         "output_type": "display_data"
        }
       ]
      }
     },
     "6cc567d05eaa42369b2e57dec77cbf21": {
      "model_module": "@jupyter-widgets/controls",
      "model_module_version": "1.5.0",
      "model_name": "ButtonModel",
      "state": {
       "description": "Confirm",
       "disabled": true,
       "layout": "IPY_MODEL_9dba9d1bc84c4b15828e12b8aee06474",
       "style": "IPY_MODEL_7ebf1bff2a604f7c87f8589820f136ca"
      }
     },
     "7042183083dd46f4829644595686244c": {
      "model_module": "@jupyter-widgets/controls",
      "model_module_version": "1.5.0",
      "model_name": "ButtonStyleModel",
      "state": {}
     },
     "708da37c2f7243b3900267c90c52c1b0": {
      "model_module": "@jupyter-widgets/controls",
      "model_module_version": "1.5.0",
      "model_name": "TextModel",
      "state": {
       "description": "Name:",
       "layout": "IPY_MODEL_9cc9fdaaffe64a8b88606781b0f8743e",
       "placeholder": "e.g. XRD",
       "style": "IPY_MODEL_33c4b81de45c48089bb9f13f02654146"
      }
     },
     "715afbe6091f421e8ad52e45c2afd6e7": {
      "model_module": "@jupyter-widgets/base",
      "model_module_version": "1.2.0",
      "model_name": "LayoutModel",
      "state": {}
     },
     "7517fcf4178c43a4a8143d30563a5aab": {
      "model_module": "@jupyter-widgets/base",
      "model_module_version": "1.2.0",
      "model_name": "LayoutModel",
      "state": {}
     },
     "7682531924c44d72aa2295d4852b29dc": {
      "model_module": "@jupyter-widgets/output",
      "model_module_version": "1.0.0",
      "model_name": "OutputModel",
      "state": {
       "layout": "IPY_MODEL_715afbe6091f421e8ad52e45c2afd6e7",
       "outputs": [
        {
         "data": {
          "text/markdown": "My Description",
          "text/plain": "<IPython.core.display.Markdown object>"
         },
         "metadata": {},
         "output_type": "display_data"
        }
       ]
      }
     },
     "7ebf1bff2a604f7c87f8589820f136ca": {
      "model_module": "@jupyter-widgets/controls",
      "model_module_version": "1.5.0",
      "model_name": "ButtonStyleModel",
      "state": {}
     },
     "7fb31758289742ccb756ed37ba8abb8a": {
      "model_module": "@jupyter-widgets/base",
      "model_module_version": "1.2.0",
      "model_name": "LayoutModel",
      "state": {}
     },
     "89e4443696e74b9182fdc9eb80ad5359": {
      "model_module": "@jupyter-widgets/base",
      "model_module_version": "1.2.0",
      "model_name": "LayoutModel",
      "state": {}
     },
     "8c1cccd8d4d64c2a9ec7bb88b6379f03": {
      "model_module": "@jupyter-widgets/base",
      "model_module_version": "1.2.0",
      "model_name": "LayoutModel",
      "state": {}
     },
     "8ca94a98cb574f2c8942dfe489258e10": {
      "model_module": "@jupyter-widgets/output",
      "model_module_version": "1.0.0",
      "model_name": "OutputModel",
      "state": {
       "layout": "IPY_MODEL_f1252610a8004dd9a87f500214a804bf",
       "outputs": [
        {
         "data": {
          "text/html": "<h3>Samples</h3>",
          "text/plain": "<cassini.ipygui.WHTML at 0x14f53b09198>"
         },
         "metadata": {},
         "output_type": "display_data"
        }
       ]
      }
     },
     "8d14a7f7d14c4040997e2ed87da0054f": {
      "model_module": "@jupyter-widgets/base",
      "model_module_version": "1.2.0",
      "model_name": "LayoutModel",
      "state": {}
     },
     "92e2b0cb317c4a72a9c7eb491502994c": {
      "model_module": "@jupyter-widgets/controls",
      "model_module_version": "1.5.0",
      "model_name": "ButtonModel",
      "state": {
       "description": "Folder",
       "layout": "IPY_MODEL_3df9c044bbe340888cbe0b8cba050ee7",
       "style": "IPY_MODEL_dffa72977065422c85e9be6e6b4b47f6"
      }
     },
     "987f144291294a3ea1f185f1a6649815": {
      "model_module": "@jupyter-widgets/output",
      "model_module_version": "1.0.0",
      "model_name": "OutputModel",
      "state": {
       "layout": "IPY_MODEL_160a3c6f452d4e03851cbdb959b5802c"
      }
     },
     "9cc9fdaaffe64a8b88606781b0f8743e": {
      "model_module": "@jupyter-widgets/base",
      "model_module_version": "1.2.0",
      "model_name": "LayoutModel",
      "state": {
       "width": "auto"
      }
     },
     "9dba9d1bc84c4b15828e12b8aee06474": {
      "model_module": "@jupyter-widgets/base",
      "model_module_version": "1.2.0",
      "model_name": "LayoutModel",
      "state": {}
     },
     "9e227a293c944afca764a13d2297c731": {
      "model_module": "@jupyter-widgets/controls",
      "model_module_version": "1.5.0",
      "model_name": "ButtonModel",
      "state": {
       "description": "New",
       "layout": "IPY_MODEL_7517fcf4178c43a4a8143d30563a5aab",
       "style": "IPY_MODEL_138241cf9f244f7aaaa630334bcfe344"
      }
     },
     "9f0b66b16d984340aeda05a4b14af79f": {
      "model_module": "@jupyter-widgets/base",
      "model_module_version": "1.2.0",
      "model_name": "LayoutModel",
      "state": {}
     },
     "a45a4be000cd478fa58737bde36cdd53": {
      "model_module": "@jupyter-widgets/base",
      "model_module_version": "1.2.0",
      "model_name": "LayoutModel",
      "state": {}
     },
     "a6c47b491749495ba630459fe1595c98": {
      "model_module": "@jupyter-widgets/controls",
      "model_module_version": "1.5.0",
      "model_name": "DescriptionStyleModel",
      "state": {
       "description_width": "10%"
      }
     },
     "a6f6c8fd19c54168b74e4147ebf6c952": {
      "model_module": "@jupyter-widgets/controls",
      "model_module_version": "1.5.0",
      "model_name": "HBoxModel",
      "state": {
       "children": [
        "IPY_MODEL_6cc567d05eaa42369b2e57dec77cbf21",
        "IPY_MODEL_9e227a293c944afca764a13d2297c731"
       ],
       "layout": "IPY_MODEL_d0eb11cac55d4d5baa07de07a8a5a68b"
      }
     },
     "a7110310b23b45548337cf4c733116a3": {
      "model_module": "@jupyter-widgets/output",
      "model_module_version": "1.0.0",
      "model_name": "OutputModel",
      "state": {
       "layout": "IPY_MODEL_9f0b66b16d984340aeda05a4b14af79f",
       "outputs": [
        {
         "data": {
          "text/html": "<h3>New Data</h3>",
          "text/plain": "<cassini.ipygui.WHTML at 0x14f54b3f278>"
         },
         "metadata": {},
         "output_type": "display_data"
        }
       ]
      }
     },
     "b543e8a4206b4cebaef31d97f200244b": {
      "model_module": "@jupyter-widgets/controls",
      "model_module_version": "1.5.0",
      "model_name": "TextareaModel",
      "state": {
       "description": "Motivation",
       "layout": "IPY_MODEL_00da02da806044dea8fcc24cb3dfe414",
       "style": "IPY_MODEL_ee46fd8115894e8d8639bd95a8db6e8a"
      }
     },
     "b8f927013ba54cbfa43e7cfa602eb1c2": {
      "model_module": "@jupyter-widgets/base",
      "model_module_version": "1.2.0",
      "model_name": "LayoutModel",
      "state": {}
     },
     "b9bf1db96bdb412897dbf5598d38ace5": {
      "model_module": "@jupyter-widgets/controls",
      "model_module_version": "1.5.0",
      "model_name": "DescriptionStyleModel",
      "state": {
       "description_width": "10%"
      }
     },
     "c47d6eb05af4400bb2188032f3ee925d": {
      "model_module": "@jupyter-widgets/base",
      "model_module_version": "1.2.0",
      "model_name": "LayoutModel",
      "state": {}
     },
     "c556e96a28db44a79b5d013d10c4a7e9": {
      "model_module": "@jupyter-widgets/controls",
      "model_module_version": "1.5.0",
      "model_name": "VBoxModel",
      "state": {
       "children": [
        "IPY_MODEL_708da37c2f7243b3900267c90c52c1b0",
        "IPY_MODEL_42ba63a5f82f4d469ed72d6b838fa892",
        "IPY_MODEL_e6dc69fe25574c8ba9480abe775ac518",
        "IPY_MODEL_987f144291294a3ea1f185f1a6649815"
       ],
       "layout": "IPY_MODEL_ffd25840ea574402b51b0f0d0464111f"
      }
     },
     "c8a17cf852ae4dfbb4a7381c3494e054": {
      "model_module": "@jupyter-widgets/controls",
      "model_module_version": "1.5.0",
      "model_name": "TextModel",
      "state": {
       "description": "Identifier",
       "layout": "IPY_MODEL_2dd5fb9db82447cf86cc4ded3ad10c77",
       "placeholder": "([^0-9^-][^-]*)",
       "style": "IPY_MODEL_b9bf1db96bdb412897dbf5598d38ace5"
      }
     },
     "cec41003885c49668375d9e2c580fb40": {
      "model_module": "@jupyter-widgets/controls",
      "model_module_version": "1.5.0",
      "model_name": "ButtonStyleModel",
      "state": {}
     },
     "d0eb11cac55d4d5baa07de07a8a5a68b": {
      "model_module": "@jupyter-widgets/base",
      "model_module_version": "1.2.0",
      "model_name": "LayoutModel",
      "state": {}
     },
     "d298522fd6144bf29692ba25c16710be": {
      "model_module": "@jupyter-widgets/base",
      "model_module_version": "1.2.0",
      "model_name": "LayoutModel",
      "state": {}
     },
     "dfb654f4136b4a1cb0339b89dda2d5c8": {
      "model_module": "@jupyter-widgets/controls",
      "model_module_version": "1.5.0",
      "model_name": "VBoxModel",
      "state": {
       "children": [
        "IPY_MODEL_4f16bcad77724f99a590b79e3bea8248",
        "IPY_MODEL_f810a7e7983248d0825ea56d719bd670",
        "IPY_MODEL_7682531924c44d72aa2295d4852b29dc",
        "IPY_MODEL_8ca94a98cb574f2c8942dfe489258e10",
        "IPY_MODEL_63b6cc24b51b42eab92bb2ee9f725910",
        "IPY_MODEL_3802cd7e70f246f78b333fde242d4020",
        "IPY_MODEL_22d6d94941554f5ea37284c2d6f3db0d",
        "IPY_MODEL_a7110310b23b45548337cf4c733116a3",
        "IPY_MODEL_c556e96a28db44a79b5d013d10c4a7e9"
       ],
       "layout": "IPY_MODEL_a45a4be000cd478fa58737bde36cdd53"
      }
     },
     "dffa72977065422c85e9be6e6b4b47f6": {
      "model_module": "@jupyter-widgets/controls",
      "model_module_version": "1.5.0",
      "model_name": "ButtonStyleModel",
      "state": {}
     },
     "e56cd0c743f6451981262f568e7c0691": {
      "model_module": "@jupyter-widgets/controls",
      "model_module_version": "1.5.0",
      "model_name": "DescriptionStyleModel",
      "state": {
       "description_width": "10%"
      }
     },
     "e6dc69fe25574c8ba9480abe775ac518": {
      "model_module": "@jupyter-widgets/controls",
      "model_module_version": "1.5.0",
      "model_name": "HBoxModel",
      "state": {
       "children": [
        "IPY_MODEL_0cd6cc1c823a4c91a5ec78f8f1732860",
        "IPY_MODEL_21097ea1a9294d568257f5b16433cd0d"
       ],
       "layout": "IPY_MODEL_133a7fd814e94c4faf30e6f2313e59f9"
      }
     },
     "ee46fd8115894e8d8639bd95a8db6e8a": {
      "model_module": "@jupyter-widgets/controls",
      "model_module_version": "1.5.0",
      "model_name": "DescriptionStyleModel",
      "state": {
       "description_width": "10%"
      }
     },
     "f1252610a8004dd9a87f500214a804bf": {
      "model_module": "@jupyter-widgets/base",
      "model_module_version": "1.2.0",
      "model_name": "LayoutModel",
      "state": {}
     },
     "f527e855674448038fcb033bbf57da28": {
      "model_module": "@jupyter-widgets/output",
      "model_module_version": "1.0.0",
      "model_name": "OutputModel",
      "state": {
       "layout": "IPY_MODEL_1aef8062252e48e881ea8566527662f4"
      }
     },
     "f810a7e7983248d0825ea56d719bd670": {
      "model_module": "@jupyter-widgets/output",
      "model_module_version": "1.0.0",
      "model_name": "OutputModel",
      "state": {
       "layout": "IPY_MODEL_8c1cccd8d4d64c2a9ec7bb88b6379f03",
       "outputs": [
        {
         "data": {
          "text/html": "<h3>Description</h3>",
          "text/plain": "<cassini.ipygui.WHTML at 0x14f54ab0f60>"
         },
         "metadata": {},
         "output_type": "display_data"
        }
       ]
      }
     },
     "ffd25840ea574402b51b0f0d0464111f": {
      "model_module": "@jupyter-widgets/base",
      "model_module_version": "1.2.0",
      "model_name": "LayoutModel",
      "state": {}
     }
    },
    "version_major": 2,
    "version_minor": 0
   }
  }
 },
 "nbformat": 4,
 "nbformat_minor": 4
}
