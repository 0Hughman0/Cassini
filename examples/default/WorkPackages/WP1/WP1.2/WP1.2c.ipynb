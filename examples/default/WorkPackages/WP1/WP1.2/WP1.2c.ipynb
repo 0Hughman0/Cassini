{
 "cells": [
  {
   "cell_type": "code",
   "execution_count": 1,
   "metadata": {
    "pycharm": {
     "name": "#%%\n"
    }
   },
   "outputs": [
    {
     "name": "stderr",
     "output_type": "stream",
     "text": [
      "D:\\Documents\\Programin\\venvs\\cassini\\cassini-dev\\lib\\site-packages\\jupyter_server\\transutils.py:13: FutureWarning: The alias `_()` will be deprecated. Use `_i18n()` instead.\n",
      "  warnings.warn(warn_msg, FutureWarning)\n"
     ]
    },
    {
     "data": {
      "application/vnd.jupyter.widget-view+json": {
       "model_id": "e4193a5dbb1e427c9aaaf7429dc6ddee",
       "version_major": 2,
       "version_minor": 0
      },
      "text/plain": [
       "VBox(children=(VBox(children=(Output(), Button(description='Folder', style=ButtonStyle()))), Output(), HBox(),…"
      ]
     },
     "metadata": {},
     "output_type": "display_data"
    }
   ],
   "source": [
    "from project import project\n",
    "\n",
    "smpl = project.env('WP1.2c')\n",
    "smpl.gui.header()"
   ]
  },
  {
   "cell_type": "code",
   "execution_count": null,
   "metadata": {},
   "outputs": [],
   "source": []
  }
 ],
 "metadata": {
  "kernelspec": {
   "display_name": "Python 3",
   "language": "python",
   "name": "python3"
  },
  "language_info": {
   "codemirror_mode": {
    "name": "ipython",
    "version": 3
   },
   "file_extension": ".py",
   "mimetype": "text/x-python",
   "name": "python",
   "nbconvert_exporter": "python",
   "pygments_lexer": "ipython3",
   "version": "3.7.2"
  },
  "pycharm": {
   "stem_cell": {
    "cell_type": "raw",
    "metadata": {
     "collapsed": false
    },
    "source": []
   }
  },
  "widgets": {
   "application/vnd.jupyter.widget-state+json": {
    "state": {
     "09a4dfac12ae440fae77b1e9c2d859c4": {
      "model_module": "@jupyter-widgets/base",
      "model_module_version": "1.2.0",
      "model_name": "LayoutModel",
      "state": {}
     },
     "0a5737d3f0624192948a0bd7ea35a1c6": {
      "model_module": "@jupyter-widgets/output",
      "model_module_version": "1.0.0",
      "model_name": "OutputModel",
      "state": {
       "layout": "IPY_MODEL_f9983a0477c2456784644b244f62d23b"
      }
     },
     "12d39f6576584f499cbf2b1eb6e00fd1": {
      "model_module": "@jupyter-widgets/base",
      "model_module_version": "1.2.0",
      "model_name": "LayoutModel",
      "state": {
       "width": "auto"
      }
     },
     "241ec8935f314a26b862890ff77ce200": {
      "model_module": "@jupyter-widgets/controls",
      "model_module_version": "1.5.0",
      "model_name": "HBoxModel",
      "state": {
       "children": [
        "IPY_MODEL_98e0f63fea824beb99c62225680780ba",
        "IPY_MODEL_9204ee3f41084fa082ee66ca713b956b"
       ],
       "layout": "IPY_MODEL_71123d0258334479bd338ecb152b1863"
      }
     },
     "3629897b765e4b53bbb3596297b1d86c": {
      "model_module": "@jupyter-widgets/base",
      "model_module_version": "1.2.0",
      "model_name": "LayoutModel",
      "state": {}
     },
     "3873526e3f3347289aee49786b2838d6": {
      "model_module": "@jupyter-widgets/controls",
      "model_module_version": "1.5.0",
      "model_name": "VBoxModel",
      "state": {
       "children": [
        "IPY_MODEL_df747e1bf31a48df973bf560f1cfaf27",
        "IPY_MODEL_241ec8935f314a26b862890ff77ce200",
        "IPY_MODEL_0a5737d3f0624192948a0bd7ea35a1c6"
       ],
       "layout": "IPY_MODEL_9aa1c25787444978a4834af6dce51c2f"
      }
     },
     "42bc5e0dd51642aa9d6b4fff69d12523": {
      "model_module": "@jupyter-widgets/output",
      "model_module_version": "1.0.0",
      "model_name": "OutputModel",
      "state": {
       "layout": "IPY_MODEL_12d39f6576584f499cbf2b1eb6e00fd1"
      }
     },
     "4cad1ccf2dd54582b110e058f61c0ed1": {
      "model_module": "@jupyter-widgets/output",
      "model_module_version": "1.0.0",
      "model_name": "OutputModel",
      "state": {
       "layout": "IPY_MODEL_5f105a5af2cc4890b527be4ed531beb9",
       "outputs": [
        {
         "data": {
          "text/html": "<h3>New DataSet</h3>",
          "text/plain": "<cassini.ipygui.WHTML at 0x1f759f8d400>"
         },
         "metadata": {},
         "output_type": "display_data"
        }
       ]
      }
     },
     "4e78274ddcf84ca4aad6bccac0d08a0c": {
      "model_module": "@jupyter-widgets/controls",
      "model_module_version": "1.5.0",
      "model_name": "ButtonModel",
      "state": {
       "description": "Folder",
       "layout": "IPY_MODEL_966c94fa54854fe09f88c283374aeba0",
       "style": "IPY_MODEL_63e52b8442fd48bb9bd97dd589d0b966"
      }
     },
     "52915174d8d949aa8381432c850de0e3": {
      "model_module": "@jupyter-widgets/base",
      "model_module_version": "1.2.0",
      "model_name": "LayoutModel",
      "state": {}
     },
     "5af12d2a1ae64ca4b72f42e7ddf37a8f": {
      "model_module": "@jupyter-widgets/base",
      "model_module_version": "1.2.0",
      "model_name": "LayoutModel",
      "state": {}
     },
     "5f105a5af2cc4890b527be4ed531beb9": {
      "model_module": "@jupyter-widgets/base",
      "model_module_version": "1.2.0",
      "model_name": "LayoutModel",
      "state": {}
     },
     "63e52b8442fd48bb9bd97dd589d0b966": {
      "model_module": "@jupyter-widgets/controls",
      "model_module_version": "1.5.0",
      "model_name": "ButtonStyleModel",
      "state": {}
     },
     "71123d0258334479bd338ecb152b1863": {
      "model_module": "@jupyter-widgets/base",
      "model_module_version": "1.2.0",
      "model_name": "LayoutModel",
      "state": {}
     },
     "7d7bb0c25109420eb05b9d6a341ea7f3": {
      "model_module": "@jupyter-widgets/controls",
      "model_module_version": "1.5.0",
      "model_name": "VBoxModel",
      "state": {
       "children": [
        "IPY_MODEL_bce3aaf226494921a452ebd2f4384a5d",
        "IPY_MODEL_4e78274ddcf84ca4aad6bccac0d08a0c"
       ],
       "layout": "IPY_MODEL_d9699d621bb6444d808e1d9303e9880e"
      }
     },
     "7e56b18e3f374590af2656fcd1024275": {
      "model_module": "@jupyter-widgets/base",
      "model_module_version": "1.2.0",
      "model_name": "LayoutModel",
      "state": {}
     },
     "9204ee3f41084fa082ee66ca713b956b": {
      "model_module": "@jupyter-widgets/controls",
      "model_module_version": "1.5.0",
      "model_name": "ButtonModel",
      "state": {
       "description": "New",
       "layout": "IPY_MODEL_7e56b18e3f374590af2656fcd1024275",
       "style": "IPY_MODEL_a0554965401342b4b7007fb881c9e084"
      }
     },
     "966c94fa54854fe09f88c283374aeba0": {
      "model_module": "@jupyter-widgets/base",
      "model_module_version": "1.2.0",
      "model_name": "LayoutModel",
      "state": {}
     },
     "982251e2d70442fbb54ae9a20a312f08": {
      "model_module": "@jupyter-widgets/controls",
      "model_module_version": "1.5.0",
      "model_name": "ButtonStyleModel",
      "state": {}
     },
     "98e0f63fea824beb99c62225680780ba": {
      "model_module": "@jupyter-widgets/controls",
      "model_module_version": "1.5.0",
      "model_name": "ButtonModel",
      "state": {
       "description": "Confirm",
       "disabled": true,
       "layout": "IPY_MODEL_52915174d8d949aa8381432c850de0e3",
       "style": "IPY_MODEL_982251e2d70442fbb54ae9a20a312f08"
      }
     },
     "9aa1c25787444978a4834af6dce51c2f": {
      "model_module": "@jupyter-widgets/base",
      "model_module_version": "1.2.0",
      "model_name": "LayoutModel",
      "state": {}
     },
     "a0554965401342b4b7007fb881c9e084": {
      "model_module": "@jupyter-widgets/controls",
      "model_module_version": "1.5.0",
      "model_name": "ButtonStyleModel",
      "state": {}
     },
     "a987469421c94d528816de22019ab495": {
      "model_module": "@jupyter-widgets/base",
      "model_module_version": "1.2.0",
      "model_name": "LayoutModel",
      "state": {
       "width": "auto"
      }
     },
     "bce3aaf226494921a452ebd2f4384a5d": {
      "model_module": "@jupyter-widgets/output",
      "model_module_version": "1.0.0",
      "model_name": "OutputModel",
      "state": {
       "layout": "IPY_MODEL_5af12d2a1ae64ca4b72f42e7ddf37a8f",
       "outputs": [
        {
         "data": {
          "text/html": "<h1 style=\"display: inline;\"><a href=\"WP1.2c.ipynb\">WP1.2c</a></h1><h3 style=\"display: inline;\">(<a href=\"../../../Home.ipynb\" target=\"_blank\">Home</a>-><a href=\"../../WP1.ipynb\" target=\"_blank\">WP1</a>-><a href=\"../WP1.2.ipynb\" target=\"_blank\">WP1.2</a>)</h3>",
          "text/plain": "<cassini.ipygui.WHTML at 0x1f759f63240>"
         },
         "metadata": {},
         "output_type": "display_data"
        }
       ]
      }
     },
     "d7aea461593749b2ba860c261b0734a7": {
      "model_module": "@jupyter-widgets/output",
      "model_module_version": "1.0.0",
      "model_name": "OutputModel",
      "state": {
       "layout": "IPY_MODEL_09a4dfac12ae440fae77b1e9c2d859c4",
       "outputs": [
        {
         "data": {
          "text/html": "<h3>DataSets</h3>",
          "text/plain": "<cassini.ipygui.WHTML at 0x1f759f63b38>"
         },
         "metadata": {},
         "output_type": "display_data"
        }
       ]
      }
     },
     "d9699d621bb6444d808e1d9303e9880e": {
      "model_module": "@jupyter-widgets/base",
      "model_module_version": "1.2.0",
      "model_name": "LayoutModel",
      "state": {}
     },
     "df747e1bf31a48df973bf560f1cfaf27": {
      "model_module": "@jupyter-widgets/controls",
      "model_module_version": "1.5.0",
      "model_name": "TextModel",
      "state": {
       "description": "Name:",
       "layout": "IPY_MODEL_a987469421c94d528816de22019ab495",
       "placeholder": "e.g. XRD",
       "style": "IPY_MODEL_fd7bdebf7f7f4a68a97727689b02d4a7"
      }
     },
     "e4193a5dbb1e427c9aaaf7429dc6ddee": {
      "model_module": "@jupyter-widgets/controls",
      "model_module_version": "1.5.0",
      "model_name": "VBoxModel",
      "state": {
       "children": [
        "IPY_MODEL_7d7bb0c25109420eb05b9d6a341ea7f3",
        "IPY_MODEL_d7aea461593749b2ba860c261b0734a7",
        "IPY_MODEL_fcb3711b94e04b64a6187197e6eadf3b",
        "IPY_MODEL_4cad1ccf2dd54582b110e058f61c0ed1",
        "IPY_MODEL_3873526e3f3347289aee49786b2838d6"
       ],
       "layout": "IPY_MODEL_3629897b765e4b53bbb3596297b1d86c"
      }
     },
     "f9983a0477c2456784644b244f62d23b": {
      "model_module": "@jupyter-widgets/base",
      "model_module_version": "1.2.0",
      "model_name": "LayoutModel",
      "state": {}
     },
     "fc42fccaef82490c8c4b716076cbdfde": {
      "model_module": "@jupyter-widgets/base",
      "model_module_version": "1.2.0",
      "model_name": "LayoutModel",
      "state": {}
     },
     "fcb3711b94e04b64a6187197e6eadf3b": {
      "model_module": "@jupyter-widgets/controls",
      "model_module_version": "1.5.0",
      "model_name": "HBoxModel",
      "state": {
       "layout": "IPY_MODEL_fc42fccaef82490c8c4b716076cbdfde"
      }
     },
     "fd7bdebf7f7f4a68a97727689b02d4a7": {
      "model_module": "@jupyter-widgets/controls",
      "model_module_version": "1.5.0",
      "model_name": "DescriptionStyleModel",
      "state": {
       "description_width": "10%"
      }
     }
    },
    "version_major": 2,
    "version_minor": 0
   }
  }
 },
 "nbformat": 4,
 "nbformat_minor": 4
}
