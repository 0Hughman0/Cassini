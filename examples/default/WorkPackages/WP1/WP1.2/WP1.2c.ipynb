{
 "cells": [
  {
   "cell_type": "code",
   "execution_count": 1,
   "metadata": {
    "pycharm": {
     "name": "#%%\n"
    }
   },
   "outputs": [
    {
     "data": {
      "application/vnd.jupyter.widget-view+json": {
       "model_id": "9c888ec490d54c9cb78ca9063231c53b",
       "version_major": 2,
       "version_minor": 0
      },
      "text/plain": [
       "VBox(children=(VBox(children=(Output(), Button(description='Folder', style=ButtonStyle()))), Output(), HBox(),…"
      ]
     },
     "metadata": {},
     "output_type": "display_data"
    }
   ],
   "source": [
    "from project import project\n",
    "\n",
    "smpl = project.env('WP1.2c')\n",
    "smpl.gui.header()"
   ]
  },
  {
   "cell_type": "code",
   "execution_count": null,
   "metadata": {},
   "outputs": [],
   "source": []
  }
 ],
 "metadata": {
  "kernelspec": {
   "display_name": "Python 3",
   "language": "python",
   "name": "python3"
  },
  "language_info": {
   "codemirror_mode": {
    "name": "ipython",
    "version": 3
   },
   "file_extension": ".py",
   "mimetype": "text/x-python",
   "name": "python",
   "nbconvert_exporter": "python",
   "pygments_lexer": "ipython3",
   "version": "3.7.2"
  },
  "pycharm": {
   "stem_cell": {
    "cell_type": "raw",
    "metadata": {
     "collapsed": false
    },
    "source": []
   }
  },
  "widgets": {
   "application/vnd.jupyter.widget-state+json": {
    "state": {
     "043d70d9f0c7420cbb1518d50afb563c": {
      "model_module": "@jupyter-widgets/base",
      "model_module_version": "1.2.0",
      "model_name": "LayoutModel",
      "state": {}
     },
     "060ac4c5f64942f586da74675cbdbe33": {
      "model_module": "@jupyter-widgets/output",
      "model_module_version": "1.0.0",
      "model_name": "OutputModel",
      "state": {
       "layout": "IPY_MODEL_e382a0c0e8644e7bb2523140dac60ded",
       "outputs": [
        {
         "data": {
          "text/html": "<h3>New DataSet</h3>",
          "text/plain": "<cassini.ipygui.WHTML at 0x185708abf28>"
         },
         "metadata": {},
         "output_type": "display_data"
        }
       ]
      }
     },
     "0f198d28307848279b3e94e372dbf7c3": {
      "model_module": "@jupyter-widgets/base",
      "model_module_version": "1.2.0",
      "model_name": "LayoutModel",
      "state": {}
     },
     "330394dcf4814d6780cb6fc29f4fd4c9": {
      "model_module": "@jupyter-widgets/base",
      "model_module_version": "1.2.0",
      "model_name": "LayoutModel",
      "state": {
       "width": "auto"
      }
     },
     "3a0314d332f54405969fdea058479642": {
      "model_module": "@jupyter-widgets/controls",
      "model_module_version": "1.5.0",
      "model_name": "VBoxModel",
      "state": {
       "children": [
        "IPY_MODEL_a0ecfc1fca1443b2ae1ed32e4e6b02b5",
        "IPY_MODEL_abcff8f621ba4cfe9870834ea5c3cb1f",
        "IPY_MODEL_f67113ce3a6a45619b8a65356761d713"
       ],
       "layout": "IPY_MODEL_c90b02f7f31b480a9b30b0a1b6731410"
      }
     },
     "3e029b91beec4057845b1b742729e40f": {
      "model_module": "@jupyter-widgets/controls",
      "model_module_version": "1.5.0",
      "model_name": "VBoxModel",
      "state": {
       "children": [
        "IPY_MODEL_b1c03beff94247acb16c3946f70d015d",
        "IPY_MODEL_c1e043d8ae57401c8666993d30ed638a"
       ],
       "layout": "IPY_MODEL_043d70d9f0c7420cbb1518d50afb563c"
      }
     },
     "4e6b79252edf4371a6dfe7d05bdf0c6d": {
      "model_module": "@jupyter-widgets/base",
      "model_module_version": "1.2.0",
      "model_name": "LayoutModel",
      "state": {
       "width": "auto"
      }
     },
     "4f01cf0be2924792a73655aa82f1522e": {
      "model_module": "@jupyter-widgets/controls",
      "model_module_version": "1.5.0",
      "model_name": "ButtonModel",
      "state": {
       "description": "Confirm",
       "disabled": true,
       "layout": "IPY_MODEL_0f198d28307848279b3e94e372dbf7c3",
       "style": "IPY_MODEL_eb91889ee543427790c4067643b9fc31"
      }
     },
     "5b6511a01c774ae08d0302a1f1e0bdd9": {
      "model_module": "@jupyter-widgets/base",
      "model_module_version": "1.2.0",
      "model_name": "LayoutModel",
      "state": {}
     },
     "6858b7a335f349cdb8b59a40f59cfeb8": {
      "model_module": "@jupyter-widgets/controls",
      "model_module_version": "1.5.0",
      "model_name": "ButtonModel",
      "state": {
       "description": "New",
       "layout": "IPY_MODEL_99816df5594145a587a6c1dc3d5085d3",
       "style": "IPY_MODEL_aec6a25dc638407382f0bc24cc1127e1"
      }
     },
     "7e779a8b02704230b74ec83a4231371a": {
      "model_module": "@jupyter-widgets/controls",
      "model_module_version": "1.5.0",
      "model_name": "HBoxModel",
      "state": {
       "layout": "IPY_MODEL_bf82b7913e164a8fa6757d9d1f98e4e6"
      }
     },
     "8c794168f0be40e1805b6ea29a80a487": {
      "model_module": "@jupyter-widgets/base",
      "model_module_version": "1.2.0",
      "model_name": "LayoutModel",
      "state": {}
     },
     "955d3fedeed84d528442e72f4595f4e6": {
      "model_module": "@jupyter-widgets/base",
      "model_module_version": "1.2.0",
      "model_name": "LayoutModel",
      "state": {}
     },
     "95b2a43724d04a349d16fedf004da693": {
      "model_module": "@jupyter-widgets/base",
      "model_module_version": "1.2.0",
      "model_name": "LayoutModel",
      "state": {}
     },
     "99816df5594145a587a6c1dc3d5085d3": {
      "model_module": "@jupyter-widgets/base",
      "model_module_version": "1.2.0",
      "model_name": "LayoutModel",
      "state": {}
     },
     "9c888ec490d54c9cb78ca9063231c53b": {
      "model_module": "@jupyter-widgets/controls",
      "model_module_version": "1.5.0",
      "model_name": "VBoxModel",
      "state": {
       "children": [
        "IPY_MODEL_3e029b91beec4057845b1b742729e40f",
        "IPY_MODEL_d10e0212a37f4912ba6ba4376ab9a64c",
        "IPY_MODEL_7e779a8b02704230b74ec83a4231371a",
        "IPY_MODEL_060ac4c5f64942f586da74675cbdbe33",
        "IPY_MODEL_3a0314d332f54405969fdea058479642"
       ],
       "layout": "IPY_MODEL_95b2a43724d04a349d16fedf004da693"
      }
     },
     "a0ecfc1fca1443b2ae1ed32e4e6b02b5": {
      "model_module": "@jupyter-widgets/controls",
      "model_module_version": "1.5.0",
      "model_name": "TextModel",
      "state": {
       "description": "Name:",
       "layout": "IPY_MODEL_330394dcf4814d6780cb6fc29f4fd4c9",
       "placeholder": "e.g. XRD",
       "style": "IPY_MODEL_fa0a505c712641a3b529912c437b0baf"
      }
     },
     "abcff8f621ba4cfe9870834ea5c3cb1f": {
      "model_module": "@jupyter-widgets/controls",
      "model_module_version": "1.5.0",
      "model_name": "HBoxModel",
      "state": {
       "children": [
        "IPY_MODEL_4f01cf0be2924792a73655aa82f1522e",
        "IPY_MODEL_6858b7a335f349cdb8b59a40f59cfeb8"
       ],
       "layout": "IPY_MODEL_5b6511a01c774ae08d0302a1f1e0bdd9"
      }
     },
     "aec6a25dc638407382f0bc24cc1127e1": {
      "model_module": "@jupyter-widgets/controls",
      "model_module_version": "1.5.0",
      "model_name": "ButtonStyleModel",
      "state": {}
     },
     "b1c03beff94247acb16c3946f70d015d": {
      "model_module": "@jupyter-widgets/output",
      "model_module_version": "1.0.0",
      "model_name": "OutputModel",
      "state": {
       "layout": "IPY_MODEL_8c794168f0be40e1805b6ea29a80a487",
       "outputs": [
        {
         "data": {
          "text/html": "<h1 style=\"display: inline;\"><a href=\"WP1.2c.ipynb\">WP1.2c</a></h1><h3 style=\"display: inline;\">(<a href=\"../../../Home.ipynb\" target=\"_blank\">Home</a>-><a href=\"../../WP1.ipynb\" target=\"_blank\">WP1</a>-><a href=\"../WP1.2.ipynb\" target=\"_blank\">WP1.2</a>)</h3>",
          "text/plain": "<cassini.ipygui.WHTML at 0x1857087cac8>"
         },
         "metadata": {},
         "output_type": "display_data"
        }
       ]
      }
     },
     "bf82b7913e164a8fa6757d9d1f98e4e6": {
      "model_module": "@jupyter-widgets/base",
      "model_module_version": "1.2.0",
      "model_name": "LayoutModel",
      "state": {}
     },
     "c1e043d8ae57401c8666993d30ed638a": {
      "model_module": "@jupyter-widgets/controls",
      "model_module_version": "1.5.0",
      "model_name": "ButtonModel",
      "state": {
       "description": "Folder",
       "layout": "IPY_MODEL_fd2e999e14214ac984c217cd1ab03d4a",
       "style": "IPY_MODEL_e38e95199e3148e4b7303c82d029fcd2"
      }
     },
     "c90b02f7f31b480a9b30b0a1b6731410": {
      "model_module": "@jupyter-widgets/base",
      "model_module_version": "1.2.0",
      "model_name": "LayoutModel",
      "state": {}
     },
     "d10e0212a37f4912ba6ba4376ab9a64c": {
      "model_module": "@jupyter-widgets/output",
      "model_module_version": "1.0.0",
      "model_name": "OutputModel",
      "state": {
       "layout": "IPY_MODEL_db4183cea5a34418883552e82d1728ce",
       "outputs": [
        {
         "data": {
          "text/html": "<h3>DataSets</h3>",
          "text/plain": "<cassini.ipygui.WHTML at 0x185708ab358>"
         },
         "metadata": {},
         "output_type": "display_data"
        }
       ]
      }
     },
     "db4183cea5a34418883552e82d1728ce": {
      "model_module": "@jupyter-widgets/base",
      "model_module_version": "1.2.0",
      "model_name": "LayoutModel",
      "state": {}
     },
     "e2835955ca72405792fcecfda548688e": {
      "model_module": "@jupyter-widgets/output",
      "model_module_version": "1.0.0",
      "model_name": "OutputModel",
      "state": {
       "layout": "IPY_MODEL_4e6b79252edf4371a6dfe7d05bdf0c6d"
      }
     },
     "e382a0c0e8644e7bb2523140dac60ded": {
      "model_module": "@jupyter-widgets/base",
      "model_module_version": "1.2.0",
      "model_name": "LayoutModel",
      "state": {}
     },
     "e38e95199e3148e4b7303c82d029fcd2": {
      "model_module": "@jupyter-widgets/controls",
      "model_module_version": "1.5.0",
      "model_name": "ButtonStyleModel",
      "state": {}
     },
     "eb91889ee543427790c4067643b9fc31": {
      "model_module": "@jupyter-widgets/controls",
      "model_module_version": "1.5.0",
      "model_name": "ButtonStyleModel",
      "state": {}
     },
     "f67113ce3a6a45619b8a65356761d713": {
      "model_module": "@jupyter-widgets/output",
      "model_module_version": "1.0.0",
      "model_name": "OutputModel",
      "state": {
       "layout": "IPY_MODEL_955d3fedeed84d528442e72f4595f4e6"
      }
     },
     "fa0a505c712641a3b529912c437b0baf": {
      "model_module": "@jupyter-widgets/controls",
      "model_module_version": "1.5.0",
      "model_name": "DescriptionStyleModel",
      "state": {
       "description_width": "10%"
      }
     },
     "fd2e999e14214ac984c217cd1ab03d4a": {
      "model_module": "@jupyter-widgets/base",
      "model_module_version": "1.2.0",
      "model_name": "LayoutModel",
      "state": {}
     }
    },
    "version_major": 2,
    "version_minor": 0
   }
  }
 },
 "nbformat": 4,
 "nbformat_minor": 4
}
