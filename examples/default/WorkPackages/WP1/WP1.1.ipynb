{
 "cells": [
  {
   "cell_type": "code",
   "execution_count": 6,
   "metadata": {
    "pycharm": {
     "name": "#%%\n"
    }
   },
   "outputs": [
    {
     "data": {
      "application/vnd.jupyter.widget-view+json": {
       "model_id": "1a96d0658ba649b0a7d29faf171d8080",
       "version_major": 2,
       "version_minor": 0
      },
      "text/plain": [
       "VBox(children=(VBox(children=(Output(), Button(description='Folder', style=ButtonStyle()))), Output(), Output(…"
      ]
     },
     "metadata": {},
     "output_type": "display_data"
    }
   ],
   "source": [
    "from project import project\n",
    "\n",
    "exp = project.env('WP1.1')\n",
    "exp.gui.header()"
   ]
  },
  {
   "cell_type": "code",
   "execution_count": 7,
   "metadata": {},
   "outputs": [],
   "source": [
    "exp.meta.additional = 100"
   ]
  },
  {
   "cell_type": "code",
   "execution_count": null,
   "metadata": {},
   "outputs": [],
   "source": []
  }
 ],
 "metadata": {
  "kernelspec": {
   "display_name": "Python 3",
   "language": "python",
   "name": "python3"
  },
  "language_info": {
   "codemirror_mode": {
    "name": "ipython",
    "version": 3
   },
   "file_extension": ".py",
   "mimetype": "text/x-python",
   "name": "python",
   "nbconvert_exporter": "python",
   "pygments_lexer": "ipython3",
   "version": "3.7.2"
  },
  "pycharm": {
   "stem_cell": {
    "cell_type": "raw",
    "metadata": {
     "collapsed": false
    },
    "source": []
   }
  },
  "widgets": {
   "application/vnd.jupyter.widget-state+json": {
    "state": {
     "00e6e039d6e946f38427334de98edf92": {
      "model_module": "@jupyter-widgets/controls",
      "model_module_version": "1.5.0",
      "model_name": "DescriptionStyleModel",
      "state": {
       "description_width": "10%"
      }
     },
     "0120ee4120954714a0d4f501756ceb8c": {
      "model_module": "@jupyter-widgets/base",
      "model_module_version": "1.2.0",
      "model_name": "LayoutModel",
      "state": {}
     },
     "01d031149dec44be8bef3cccedb6b715": {
      "model_module": "@jupyter-widgets/base",
      "model_module_version": "1.2.0",
      "model_name": "LayoutModel",
      "state": {
       "width": "auto"
      }
     },
     "0256872bc3144c4192f30c37aa8d6cc8": {
      "model_module": "@jupyter-widgets/base",
      "model_module_version": "1.2.0",
      "model_name": "LayoutModel",
      "state": {}
     },
     "02d8ea0c8c6f40f69a776f32ec28a73f": {
      "model_module": "@jupyter-widgets/controls",
      "model_module_version": "1.5.0",
      "model_name": "ButtonStyleModel",
      "state": {}
     },
     "02f7df8ad2ef4771b3e991bf0c1650ba": {
      "model_module": "@jupyter-widgets/output",
      "model_module_version": "1.0.0",
      "model_name": "OutputModel",
      "state": {
       "layout": "IPY_MODEL_637c95ccf1434f6d90507f85a8e87a60",
       "outputs": [
        {
         "data": {
          "text/html": "<h3>New Sample</h3>",
          "text/plain": "<cassini.ipygui.WHTML at 0x19714104198>"
         },
         "metadata": {},
         "output_type": "display_data"
        }
       ]
      }
     },
     "043ad78fb4344b0cb31ac039eddd5cb0": {
      "model_module": "@jupyter-widgets/controls",
      "model_module_version": "1.5.0",
      "model_name": "VBoxModel",
      "state": {
       "children": [
        "IPY_MODEL_41cc86540aae42e6a0f994c2ebf59a62",
        "IPY_MODEL_b1b8187a5445447c911148afe45a9550",
        "IPY_MODEL_40f2448e9dc8426bb413fc157485b72a",
        "IPY_MODEL_c82bc89a5c874876ab46c6d0c840ef7d",
        "IPY_MODEL_2b8d55dcc7514b6491ad599ba7cc202b"
       ],
       "layout": "IPY_MODEL_254003b3f6e640f49c33331d806fc84c"
      }
     },
     "079c02ea8a15470db35bd929defaa1c7": {
      "model_module": "@jupyter-widgets/controls",
      "model_module_version": "1.5.0",
      "model_name": "ButtonModel",
      "state": {
       "description": "New",
       "layout": "IPY_MODEL_6ff8e2b69068415db289ddf9ea702ed3",
       "style": "IPY_MODEL_ae7423a04f6d4071985f5baf86abad07"
      }
     },
     "07a3b346eb7040ca8c23106be5b22e73": {
      "model_module": "@jupyter-widgets/output",
      "model_module_version": "1.0.0",
      "model_name": "OutputModel",
      "state": {
       "layout": "IPY_MODEL_a84a1c696173475d8c196039d8455d73",
       "outputs": [
        {
         "data": {
          "text/html": "<a href=\"WP1.1/WP1.1b.ipynb\" target=\"_blank\"><h4 style=\"display: inline;\">WP1.1b</h4 style=\"display: inline;\"</a>",
          "text/plain": "<cassini.ipygui.WHTML at 0x1971413b198>"
         },
         "metadata": {},
         "output_type": "display_data"
        }
       ]
      }
     },
     "0a309950011c42b2a9bac5c1c2f7bb85": {
      "model_module": "@jupyter-widgets/base",
      "model_module_version": "1.2.0",
      "model_name": "LayoutModel",
      "state": {
       "width": "auto"
      }
     },
     "0b9ff744ebb647d0beb70eb57fa2c662": {
      "model_module": "@jupyter-widgets/controls",
      "model_module_version": "1.5.0",
      "model_name": "DescriptionStyleModel",
      "state": {
       "description_width": "10%"
      }
     },
     "0cf3c87f476848739072df771cdbc782": {
      "model_module": "@jupyter-widgets/controls",
      "model_module_version": "1.5.0",
      "model_name": "SelectMultipleModel",
      "state": {
       "_options_labels": [
        "WP1.1a",
        "WP1.1b",
        "WP1.1c"
       ],
       "description": "Auto Add",
       "index": [],
       "layout": "IPY_MODEL_c22a92796195452fba35cce880ec217f",
       "rows": 5,
       "style": "IPY_MODEL_369116cf057140798f5ac4b80fd8d22a"
      }
     },
     "0e2bfaa98d4441fab7722c44320a59f1": {
      "model_module": "@jupyter-widgets/base",
      "model_module_version": "1.2.0",
      "model_name": "LayoutModel",
      "state": {}
     },
     "110065f4bf7d4b90b1436dc1b5b1b344": {
      "model_module": "@jupyter-widgets/base",
      "model_module_version": "1.2.0",
      "model_name": "LayoutModel",
      "state": {
       "width": "auto"
      }
     },
     "122888a77bd448e6bab3ecc3aab61845": {
      "model_module": "@jupyter-widgets/controls",
      "model_module_version": "1.5.0",
      "model_name": "DescriptionStyleModel",
      "state": {
       "description_width": "10%"
      }
     },
     "13389cb83787471cba4f79653dd21705": {
      "model_module": "@jupyter-widgets/controls",
      "model_module_version": "1.5.0",
      "model_name": "DescriptionStyleModel",
      "state": {
       "description_width": "10%"
      }
     },
     "140fe324bb46423b9612716e86338db3": {
      "model_module": "@jupyter-widgets/controls",
      "model_module_version": "1.5.0",
      "model_name": "HBoxModel",
      "state": {
       "children": [
        "IPY_MODEL_46c85267ec6c4117b34ee42a21117430",
        "IPY_MODEL_8d4cc1d964f94f6b8b5767b765c191cc"
       ],
       "layout": "IPY_MODEL_2d21c1b24efd4b519faff41a68db8bb0"
      }
     },
     "15d30328fa4d423a90078783a0a7d8d2": {
      "model_module": "@jupyter-widgets/output",
      "model_module_version": "1.0.0",
      "model_name": "OutputModel",
      "state": {
       "layout": "IPY_MODEL_2c8419caa79041629349380d3ea2aae0",
       "outputs": [
        {
         "data": {
          "text/html": "<h3>Motivation</h3>",
          "text/plain": "<cassini.ipygui.WHTML at 0x19714158898>"
         },
         "metadata": {},
         "output_type": "display_data"
        }
       ]
      }
     },
     "172175e7d2a944ee8bc7bbff13b0ab73": {
      "model_module": "@jupyter-widgets/base",
      "model_module_version": "1.2.0",
      "model_name": "LayoutModel",
      "state": {}
     },
     "1758126b2c1240b2a8427a8787966815": {
      "model_module": "@jupyter-widgets/controls",
      "model_module_version": "1.5.0",
      "model_name": "TextareaModel",
      "state": {
       "description": "Motivation",
       "disabled": true,
       "layout": "IPY_MODEL_8361cd52a3b04a1b8e39fb0cb7c6394d",
       "style": "IPY_MODEL_b93753edbdf14ddaaff9ddd4838a5400"
      }
     },
     "17d60310812642d2b445f139caee9940": {
      "model_module": "@jupyter-widgets/controls",
      "model_module_version": "1.5.0",
      "model_name": "VBoxModel",
      "state": {
       "children": [
        "IPY_MODEL_3ed8b9aba9c145fa95362302bfe1a6e4",
        "IPY_MODEL_8503a74212854375b682d15d935d9efb",
        "IPY_MODEL_d038b1a2fe394e6c8b8a976349501a81",
        "IPY_MODEL_c4f2d607e7da4db184278a69a2e7f0ee",
        "IPY_MODEL_46de9ba8f2e6450f92a44b8331adaee5"
       ],
       "layout": "IPY_MODEL_9714eade4ac443a8809f1bc2dab6eda2"
      }
     },
     "184a9c45083f4bb4ac65607d66b7cd67": {
      "model_module": "@jupyter-widgets/base",
      "model_module_version": "1.2.0",
      "model_name": "LayoutModel",
      "state": {}
     },
     "187bd8d4ba4b48bcbfc79f1650f71639": {
      "model_module": "@jupyter-widgets/controls",
      "model_module_version": "1.5.0",
      "model_name": "TextareaModel",
      "state": {
       "description": "Motivation",
       "disabled": true,
       "layout": "IPY_MODEL_937a578505224ae080560fce61db218c",
       "style": "IPY_MODEL_8085b5dea23645629ee3ba4abf581ec6",
       "value": "Not sure what'll happen!"
      }
     },
     "1a8f4626dc054e95a123495456feff1a": {
      "model_module": "@jupyter-widgets/base",
      "model_module_version": "1.2.0",
      "model_name": "LayoutModel",
      "state": {}
     },
     "1a96d0658ba649b0a7d29faf171d8080": {
      "model_module": "@jupyter-widgets/controls",
      "model_module_version": "1.5.0",
      "model_name": "VBoxModel",
      "state": {
       "children": [
        "IPY_MODEL_3cbea6fe0bc748b99e1315340ba79e0b",
        "IPY_MODEL_323af3974e344fd2b3f0bbb590dc5e07",
        "IPY_MODEL_3d07b84fe546436a938dd608e31918cc",
        "IPY_MODEL_c6517b3c326f4bdeb80635a17718ee00",
        "IPY_MODEL_bf61c8a5a58d46c892dfe6891e2e9e1f",
        "IPY_MODEL_1e4e5246299f403eaf1b642b28c1d497",
        "IPY_MODEL_c8f9ceb07b28445b8f90acbb9bb05ff0",
        "IPY_MODEL_d490bd1b71cd466882d48be0e6eda280",
        "IPY_MODEL_7fa459db6c1c4043b70debdde7433488"
       ],
       "layout": "IPY_MODEL_f2358f92c35f46b587d35e2d5c63343e"
      }
     },
     "1af167f24e6940188cc75af0bd54032a": {
      "model_module": "@jupyter-widgets/base",
      "model_module_version": "1.2.0",
      "model_name": "LayoutModel",
      "state": {}
     },
     "1b31b3d7007c4e34a86499462f398ba2": {
      "model_module": "@jupyter-widgets/base",
      "model_module_version": "1.2.0",
      "model_name": "LayoutModel",
      "state": {}
     },
     "1ccd42cf0e0541b19e741d896c65aa96": {
      "model_module": "@jupyter-widgets/controls",
      "model_module_version": "1.5.0",
      "model_name": "ButtonStyleModel",
      "state": {}
     },
     "1d483c3904f94b119d90342cecf411ed": {
      "model_module": "@jupyter-widgets/output",
      "model_module_version": "1.0.0",
      "model_name": "OutputModel",
      "state": {
       "layout": "IPY_MODEL_db6532163d3d404786890d76e22ec50a",
       "outputs": [
        {
         "data": {
          "text/html": "<h3>New Data</h3>",
          "text/plain": "<cassini.ipygui.WHTML at 0x1971421d278>"
         },
         "metadata": {},
         "output_type": "display_data"
        }
       ]
      }
     },
     "1d6938e41dca46a6a2ed1bff53be1d98": {
      "model_module": "@jupyter-widgets/base",
      "model_module_version": "1.2.0",
      "model_name": "LayoutModel",
      "state": {}
     },
     "1df675efa0b343ae80416f31a2739e1d": {
      "model_module": "@jupyter-widgets/controls",
      "model_module_version": "1.5.0",
      "model_name": "ButtonModel",
      "state": {
       "description": "Confirm",
       "disabled": true,
       "layout": "IPY_MODEL_78ed90a36f9c4524a7a5ed7adbf580fc",
       "style": "IPY_MODEL_82dc02ceb0534b7e9505534fdd976489"
      }
     },
     "1e4e5246299f403eaf1b642b28c1d497": {
      "model_module": "@jupyter-widgets/output",
      "model_module_version": "1.0.0",
      "model_name": "OutputModel",
      "state": {
       "layout": "IPY_MODEL_172175e7d2a944ee8bc7bbff13b0ab73",
       "outputs": [
        {
         "data": {
          "text/html": "<h3>New Sample</h3>",
          "text/plain": "<cassini.ipygui.WHTML at 0x197142b1a20>"
         },
         "metadata": {},
         "output_type": "display_data"
        }
       ]
      }
     },
     "1eedba8ea5034ad4967521c3507ee57f": {
      "model_module": "@jupyter-widgets/base",
      "model_module_version": "1.2.0",
      "model_name": "LayoutModel",
      "state": {}
     },
     "20d168458269465eada54b7dc27f18a1": {
      "model_module": "@jupyter-widgets/controls",
      "model_module_version": "1.5.0",
      "model_name": "VBoxModel",
      "state": {
       "children": [
        "IPY_MODEL_34082a02cfcf4928b9c874d2bb65cac3",
        "IPY_MODEL_b04dc1092d9242d0ad7c174f9b9d707a",
        "IPY_MODEL_5b8fe31a790f48fdb24e2c0f91ffe213",
        "IPY_MODEL_613a03cfdcfa454a9a2509ae8452b29e",
        "IPY_MODEL_599a89e0ce064fbcaee4eb4ec2780b77",
        "IPY_MODEL_02f7df8ad2ef4771b3e991bf0c1650ba",
        "IPY_MODEL_31d9bbafbb77489ab49f159df8c2edfb",
        "IPY_MODEL_44a965e76dc34264995cec92d8dda841",
        "IPY_MODEL_5a0b045e69284cfc97ec0fe9fb5ef2c6"
       ],
       "layout": "IPY_MODEL_630f0863201043ffad3b734ffdc63557"
      }
     },
     "210219a672494c569d6e86ac60911099": {
      "model_module": "@jupyter-widgets/base",
      "model_module_version": "1.2.0",
      "model_name": "LayoutModel",
      "state": {}
     },
     "220974b53e1f41b1960aff9e79360ca1": {
      "model_module": "@jupyter-widgets/output",
      "model_module_version": "1.0.0",
      "model_name": "OutputModel",
      "state": {
       "layout": "IPY_MODEL_ce78aade80a0476994e8c2cf5c548798",
       "outputs": [
        {
         "data": {
          "text/html": "<h3>Samples</h3>",
          "text/plain": "<cassini.ipygui.WHTML at 0x19714158320>"
         },
         "metadata": {},
         "output_type": "display_data"
        }
       ]
      }
     },
     "22cda2fc3d5c48f4a31a5d9c42c3734e": {
      "model_module": "@jupyter-widgets/base",
      "model_module_version": "1.2.0",
      "model_name": "LayoutModel",
      "state": {}
     },
     "22ee010213384f02b1f3df70aeb0f0e2": {
      "model_module": "@jupyter-widgets/output",
      "model_module_version": "1.0.0",
      "model_name": "OutputModel",
      "state": {
       "layout": "IPY_MODEL_cb60c5aca55c4a4689a7a18a9cb7a72f"
      }
     },
     "243bde1549ec475fba10593207c60b1b": {
      "model_module": "@jupyter-widgets/controls",
      "model_module_version": "1.5.0",
      "model_name": "ButtonStyleModel",
      "state": {}
     },
     "2459f3dfb785417f836644d0e39d3042": {
      "model_module": "@jupyter-widgets/base",
      "model_module_version": "1.2.0",
      "model_name": "LayoutModel",
      "state": {
       "width": "auto"
      }
     },
     "254003b3f6e640f49c33331d806fc84c": {
      "model_module": "@jupyter-widgets/base",
      "model_module_version": "1.2.0",
      "model_name": "LayoutModel",
      "state": {}
     },
     "2552db2e6f354b74aa49c359294d00f3": {
      "model_module": "@jupyter-widgets/base",
      "model_module_version": "1.2.0",
      "model_name": "LayoutModel",
      "state": {}
     },
     "2554e4f4065947f6bfbaca5a14c07603": {
      "model_module": "@jupyter-widgets/base",
      "model_module_version": "1.2.0",
      "model_name": "LayoutModel",
      "state": {}
     },
     "25594a2738e848e38c89f1c43068af22": {
      "model_module": "@jupyter-widgets/output",
      "model_module_version": "1.0.0",
      "model_name": "OutputModel",
      "state": {
       "layout": "IPY_MODEL_ab3ac82d767b4d3d9d1892626e32f7c9"
      }
     },
     "266c3a404839472e907d695ad6f4e198": {
      "model_module": "@jupyter-widgets/output",
      "model_module_version": "1.0.0",
      "model_name": "OutputModel",
      "state": {
       "layout": "IPY_MODEL_3e0fef1975264d63879537a17d1f2d66"
      }
     },
     "26d27ab4595f4a3f8a52243b87a10e1b": {
      "model_module": "@jupyter-widgets/base",
      "model_module_version": "1.2.0",
      "model_name": "LayoutModel",
      "state": {}
     },
     "26d3a046c741468a8c420388b2682d5b": {
      "model_module": "@jupyter-widgets/output",
      "model_module_version": "1.0.0",
      "model_name": "OutputModel",
      "state": {
       "layout": "IPY_MODEL_4d2727ac62724b128b5903d95e49755d",
       "outputs": [
        {
         "data": {
          "text/html": "<h3>Motivation</h3>",
          "text/plain": "<cassini.ipygui.WHTML at 0x1971421d828>"
         },
         "metadata": {},
         "output_type": "display_data"
        }
       ]
      }
     },
     "276f831f4bbf43ce944a2e7bb2517ff9": {
      "model_module": "@jupyter-widgets/base",
      "model_module_version": "1.2.0",
      "model_name": "LayoutModel",
      "state": {}
     },
     "28bfa92dbce7439ab1c7c6ec5f61e30a": {
      "model_module": "@jupyter-widgets/base",
      "model_module_version": "1.2.0",
      "model_name": "LayoutModel",
      "state": {
       "width": "auto"
      }
     },
     "2a51fa3382da4db1b7666c5e1d1afe6f": {
      "model_module": "@jupyter-widgets/base",
      "model_module_version": "1.2.0",
      "model_name": "LayoutModel",
      "state": {
       "width": "auto"
      }
     },
     "2b8d55dcc7514b6491ad599ba7cc202b": {
      "model_module": "@jupyter-widgets/output",
      "model_module_version": "1.0.0",
      "model_name": "OutputModel",
      "state": {
       "layout": "IPY_MODEL_9b1000d9e1da465a93531fe8308f6dcd"
      }
     },
     "2bc9c4e1634f4143b576f3a6c246552a": {
      "model_module": "@jupyter-widgets/base",
      "model_module_version": "1.2.0",
      "model_name": "LayoutModel",
      "state": {
       "width": "auto"
      }
     },
     "2c4120390b5c4878900624c1ffe9d0d7": {
      "model_module": "@jupyter-widgets/base",
      "model_module_version": "1.2.0",
      "model_name": "LayoutModel",
      "state": {}
     },
     "2c8419caa79041629349380d3ea2aae0": {
      "model_module": "@jupyter-widgets/base",
      "model_module_version": "1.2.0",
      "model_name": "LayoutModel",
      "state": {}
     },
     "2d21c1b24efd4b519faff41a68db8bb0": {
      "model_module": "@jupyter-widgets/base",
      "model_module_version": "1.2.0",
      "model_name": "LayoutModel",
      "state": {}
     },
     "2e13bc064e8d4eb081c2411a0fc7db58": {
      "model_module": "@jupyter-widgets/base",
      "model_module_version": "1.2.0",
      "model_name": "LayoutModel",
      "state": {
       "width": "auto"
      }
     },
     "2e1dc903b4934ac1b7bbd74f997ae008": {
      "model_module": "@jupyter-widgets/controls",
      "model_module_version": "1.5.0",
      "model_name": "DescriptionStyleModel",
      "state": {
       "description_width": "10%"
      }
     },
     "2e595efbc9d44eb68b3a7d94fc309114": {
      "model_module": "@jupyter-widgets/base",
      "model_module_version": "1.2.0",
      "model_name": "LayoutModel",
      "state": {}
     },
     "2f184019ffc24c29b118597d7a399eea": {
      "model_module": "@jupyter-widgets/output",
      "model_module_version": "1.0.0",
      "model_name": "OutputModel",
      "state": {
       "layout": "IPY_MODEL_82c7f9a7e2c54c46906fd1eb6bac5216",
       "outputs": [
        {
         "data": {
          "text/html": "<h3>Samples</h3>",
          "text/plain": "<cassini.ipygui.WHTML at 0x19714205e10>"
         },
         "metadata": {},
         "output_type": "display_data"
        }
       ]
      }
     },
     "30584b74988447cdb9e396362c0f93e9": {
      "model_module": "@jupyter-widgets/controls",
      "model_module_version": "1.5.0",
      "model_name": "ButtonStyleModel",
      "state": {}
     },
     "312539747c9d44fda181e6f9fc0fbb57": {
      "model_module": "@jupyter-widgets/base",
      "model_module_version": "1.2.0",
      "model_name": "LayoutModel",
      "state": {}
     },
     "319d01b893bb457d9b48116a2dbcf73e": {
      "model_module": "@jupyter-widgets/base",
      "model_module_version": "1.2.0",
      "model_name": "LayoutModel",
      "state": {}
     },
     "31d9bbafbb77489ab49f159df8c2edfb": {
      "model_module": "@jupyter-widgets/controls",
      "model_module_version": "1.5.0",
      "model_name": "VBoxModel",
      "state": {
       "children": [
        "IPY_MODEL_5be24285baae45949b9feddfec464a1a",
        "IPY_MODEL_b24e1f28b0fc41c5b73afba53fd01df6",
        "IPY_MODEL_1758126b2c1240b2a8427a8787966815",
        "IPY_MODEL_140fe324bb46423b9612716e86338db3",
        "IPY_MODEL_ea3dbf5871d64b93853d674faf9fd12e"
       ],
       "layout": "IPY_MODEL_3f702b1bcc67434ab831ad9caa5b6199"
      }
     },
     "323af3974e344fd2b3f0bbb590dc5e07": {
      "model_module": "@jupyter-widgets/output",
      "model_module_version": "1.0.0",
      "model_name": "OutputModel",
      "state": {
       "layout": "IPY_MODEL_4068dbb1723e4b8397ace07769afe5d2",
       "outputs": [
        {
         "data": {
          "text/html": "<h3>Motivation</h3>",
          "text/plain": "<cassini.ipygui.WHTML at 0x197142a85f8>"
         },
         "metadata": {},
         "output_type": "display_data"
        }
       ]
      }
     },
     "3266377a615345bf998ae8864914325d": {
      "model_module": "@jupyter-widgets/controls",
      "model_module_version": "1.5.0",
      "model_name": "ButtonModel",
      "state": {
       "description": "New",
       "layout": "IPY_MODEL_f3894db1f6c846128a09254bf658cac4",
       "style": "IPY_MODEL_1ccd42cf0e0541b19e741d896c65aa96"
      }
     },
     "327d46b064c144748ca6cb24c491a164": {
      "model_module": "@jupyter-widgets/controls",
      "model_module_version": "1.5.0",
      "model_name": "HBoxModel",
      "state": {
       "children": [
        "IPY_MODEL_bc40224c72ff46faa6deddcd875b684a",
        "IPY_MODEL_f17add31ffa24becae4e333f4c0601a8"
       ],
       "layout": "IPY_MODEL_4a629c03de1a4859a6ae26a1c516c099"
      }
     },
     "338dfd2d282e4e2cb367565b07a4a8d0": {
      "model_module": "@jupyter-widgets/controls",
      "model_module_version": "1.5.0",
      "model_name": "HBoxModel",
      "state": {
       "children": [
        "IPY_MODEL_f3790614b55942c6bc5cd80869661fa8",
        "IPY_MODEL_e128dc25b591407b89ed99b406ddf977"
       ],
       "layout": "IPY_MODEL_7e34877015094a4983de574cbcda69de"
      }
     },
     "33a184ee1aa7401cb35266289702d41e": {
      "model_module": "@jupyter-widgets/base",
      "model_module_version": "1.2.0",
      "model_name": "LayoutModel",
      "state": {}
     },
     "34082a02cfcf4928b9c874d2bb65cac3": {
      "model_module": "@jupyter-widgets/controls",
      "model_module_version": "1.5.0",
      "model_name": "VBoxModel",
      "state": {
       "children": [
        "IPY_MODEL_3511b11d69504d5d9ed0108c4aef79b8",
        "IPY_MODEL_eed801267e2e4e9eba7b29be355bfda3"
       ],
       "layout": "IPY_MODEL_5e00229d647644799a10035954623e95"
      }
     },
     "3511b11d69504d5d9ed0108c4aef79b8": {
      "model_module": "@jupyter-widgets/output",
      "model_module_version": "1.0.0",
      "model_name": "OutputModel",
      "state": {
       "layout": "IPY_MODEL_818385e90f4d4aa78a69a3e73252492b",
       "outputs": [
        {
         "data": {
          "text/html": "<h1 style=\"display: inline;\"><a href=\"WP1.1.ipynb\">WP1.1</a></h1><h3 style=\"display: inline;\">(<a href=\"../../Home.ipynb\" target=\"_blank\">Home</a>-><a href=\"../WP1.ipynb\" target=\"_blank\">WP1</a>)</h3>",
          "text/plain": "<cassini.ipygui.WHTML at 0x19714091e10>"
         },
         "metadata": {},
         "output_type": "display_data"
        }
       ]
      }
     },
     "3597cd604f7c44eb8a25a5bd25db6890": {
      "model_module": "@jupyter-widgets/base",
      "model_module_version": "1.2.0",
      "model_name": "LayoutModel",
      "state": {}
     },
     "35d512b670844a42b059a25b21a8cda8": {
      "model_module": "@jupyter-widgets/controls",
      "model_module_version": "1.5.0",
      "model_name": "SelectModel",
      "state": {
       "_options_labels": [
        "Sample.tmplt.ipynb",
        "simple.tmplt.txt"
       ],
       "description": "Template",
       "index": 0,
       "layout": "IPY_MODEL_2e13bc064e8d4eb081c2411a0fc7db58",
       "style": "IPY_MODEL_5a9d2d6a328a407fb5a9ec7f9dd58375"
      }
     },
     "369116cf057140798f5ac4b80fd8d22a": {
      "model_module": "@jupyter-widgets/controls",
      "model_module_version": "1.5.0",
      "model_name": "DescriptionStyleModel",
      "state": {
       "description_width": "10%"
      }
     },
     "392e0c10e78846b6ada78688c790cfbb": {
      "model_module": "@jupyter-widgets/base",
      "model_module_version": "1.2.0",
      "model_name": "LayoutModel",
      "state": {}
     },
     "3c06d04e116a43a48df159e0fac687ba": {
      "model_module": "@jupyter-widgets/base",
      "model_module_version": "1.2.0",
      "model_name": "LayoutModel",
      "state": {}
     },
     "3cbea6fe0bc748b99e1315340ba79e0b": {
      "model_module": "@jupyter-widgets/controls",
      "model_module_version": "1.5.0",
      "model_name": "VBoxModel",
      "state": {
       "children": [
        "IPY_MODEL_4dee478876e8409f9ec2f1f4cc028f82",
        "IPY_MODEL_c6cbafdd61cc45b68b409642ef6d66fa"
       ],
       "layout": "IPY_MODEL_4aa4ba1b63de42d186eb164b694d9f47"
      }
     },
     "3d07b84fe546436a938dd608e31918cc": {
      "model_module": "@jupyter-widgets/output",
      "model_module_version": "1.0.0",
      "model_name": "OutputModel",
      "state": {
       "layout": "IPY_MODEL_951d03f865ff4152be9779ef2a88d3cf",
       "outputs": [
        {
         "data": {
          "text/markdown": "Fine",
          "text/plain": "<IPython.core.display.Markdown object>"
         },
         "metadata": {},
         "output_type": "display_data"
        }
       ]
      }
     },
     "3e0fef1975264d63879537a17d1f2d66": {
      "model_module": "@jupyter-widgets/base",
      "model_module_version": "1.2.0",
      "model_name": "LayoutModel",
      "state": {}
     },
     "3e46792d8fc04f0792b696c33b614552": {
      "model_module": "@jupyter-widgets/controls",
      "model_module_version": "1.5.0",
      "model_name": "TextModel",
      "state": {
       "description": "Name:",
       "layout": "IPY_MODEL_cddb8a893ff842389e4fa0a96aea91aa",
       "placeholder": "e.g. XRD",
       "style": "IPY_MODEL_5c76016ef8b24476a4cfa578273558cf"
      }
     },
     "3ec90233c619489b96bad1e0bb2d71ac": {
      "model_module": "@jupyter-widgets/base",
      "model_module_version": "1.2.0",
      "model_name": "LayoutModel",
      "state": {
       "width": "auto"
      }
     },
     "3ed8b9aba9c145fa95362302bfe1a6e4": {
      "model_module": "@jupyter-widgets/controls",
      "model_module_version": "1.5.0",
      "model_name": "TextModel",
      "state": {
       "description": "Identifier",
       "layout": "IPY_MODEL_92ce9daeacf644d08403fd723fc8d9e2",
       "placeholder": "([^0-9^-][^-]*)",
       "style": "IPY_MODEL_527bb5bcce5e474e9c35c1515652c06d"
      }
     },
     "3f702b1bcc67434ab831ad9caa5b6199": {
      "model_module": "@jupyter-widgets/base",
      "model_module_version": "1.2.0",
      "model_name": "LayoutModel",
      "state": {}
     },
     "4068dbb1723e4b8397ace07769afe5d2": {
      "model_module": "@jupyter-widgets/base",
      "model_module_version": "1.2.0",
      "model_name": "LayoutModel",
      "state": {}
     },
     "40d0914254fd44a9b027fd9f9533704e": {
      "model_module": "@jupyter-widgets/controls",
      "model_module_version": "1.5.0",
      "model_name": "TextareaModel",
      "state": {
       "description": "Motivation",
       "layout": "IPY_MODEL_f9087d0259084eceaad983898a7e8734",
       "style": "IPY_MODEL_a006da30c5e24c78b8cda26cfb98f122"
      }
     },
     "40f2448e9dc8426bb413fc157485b72a": {
      "model_module": "@jupyter-widgets/controls",
      "model_module_version": "1.5.0",
      "model_name": "TextareaModel",
      "state": {
       "description": "Motivation",
       "layout": "IPY_MODEL_9e3d111513984d5bb1c239f84a46c1ce",
       "style": "IPY_MODEL_da2307e2e7b74941b37acdbcfa6aa735"
      }
     },
     "4160c31dfd69434485808f5df0f8b8f9": {
      "model_module": "@jupyter-widgets/output",
      "model_module_version": "1.0.0",
      "model_name": "OutputModel",
      "state": {
       "layout": "IPY_MODEL_1d6938e41dca46a6a2ed1bff53be1d98"
      }
     },
     "41cc86540aae42e6a0f994c2ebf59a62": {
      "model_module": "@jupyter-widgets/controls",
      "model_module_version": "1.5.0",
      "model_name": "TextModel",
      "state": {
       "description": "Identifier",
       "layout": "IPY_MODEL_110065f4bf7d4b90b1436dc1b5b1b344",
       "placeholder": "([^0-9^-][^-]*)",
       "style": "IPY_MODEL_c7d050572dc64b3fa8fcbdf76154eb5c"
      }
     },
     "41cc877c55cc43d7ad5f71432766ecce": {
      "model_module": "@jupyter-widgets/controls",
      "model_module_version": "1.5.0",
      "model_name": "ButtonModel",
      "state": {
       "description": "Confirm",
       "disabled": true,
       "layout": "IPY_MODEL_962eb9e41d55470b9cd7491ef38be63f",
       "style": "IPY_MODEL_c8848fd785e3450db5eff5e73efcc17c"
      }
     },
     "431531ee84054694a7bf915095ff2be0": {
      "model_module": "@jupyter-widgets/base",
      "model_module_version": "1.2.0",
      "model_name": "LayoutModel",
      "state": {}
     },
     "44a965e76dc34264995cec92d8dda841": {
      "model_module": "@jupyter-widgets/output",
      "model_module_version": "1.0.0",
      "model_name": "OutputModel",
      "state": {
       "layout": "IPY_MODEL_184a9c45083f4bb4ac65607d66b7cd67",
       "outputs": [
        {
         "data": {
          "text/html": "<h3>New Data</h3>",
          "text/plain": "<cassini.ipygui.WHTML at 0x19714124358>"
         },
         "metadata": {},
         "output_type": "display_data"
        }
       ]
      }
     },
     "452d82ee2cab4e7bad834bfa6a35ab02": {
      "model_module": "@jupyter-widgets/base",
      "model_module_version": "1.2.0",
      "model_name": "LayoutModel",
      "state": {}
     },
     "455787803dd045239226e7a1bd2dd67e": {
      "model_module": "@jupyter-widgets/base",
      "model_module_version": "1.2.0",
      "model_name": "LayoutModel",
      "state": {}
     },
     "4586346bef9d471ba7df2ea64cfe0233": {
      "model_module": "@jupyter-widgets/output",
      "model_module_version": "1.0.0",
      "model_name": "OutputModel",
      "state": {
       "layout": "IPY_MODEL_4b81d16a4b654be7922de8d5f8ccbfaa"
      }
     },
     "46923384f6a545c3903a227fc3638385": {
      "model_module": "@jupyter-widgets/base",
      "model_module_version": "1.2.0",
      "model_name": "LayoutModel",
      "state": {}
     },
     "46c85267ec6c4117b34ee42a21117430": {
      "model_module": "@jupyter-widgets/controls",
      "model_module_version": "1.5.0",
      "model_name": "ButtonModel",
      "state": {
       "description": "Confirm",
       "disabled": true,
       "layout": "IPY_MODEL_33a184ee1aa7401cb35266289702d41e",
       "style": "IPY_MODEL_c95351758bd64b339e9f5fc995ce6e80"
      }
     },
     "46de9ba8f2e6450f92a44b8331adaee5": {
      "model_module": "@jupyter-widgets/output",
      "model_module_version": "1.0.0",
      "model_name": "OutputModel",
      "state": {
       "layout": "IPY_MODEL_daebc93ccebc4cd29267a41e9c6601ee"
      }
     },
     "475eac5dbe374f99b119fa5e426fb640": {
      "model_module": "@jupyter-widgets/controls",
      "model_module_version": "1.5.0",
      "model_name": "ButtonModel",
      "state": {
       "description": "New",
       "layout": "IPY_MODEL_b32c8d6ffa0f4076b0ef24e7ee04a3e5",
       "style": "IPY_MODEL_f82de01eb18c45fc8dce652455282987"
      }
     },
     "47f136bcf7ff4a4fa67fce0df95ee064": {
      "model_module": "@jupyter-widgets/controls",
      "model_module_version": "1.5.0",
      "model_name": "ButtonModel",
      "state": {
       "description": "Confirm",
       "disabled": true,
       "layout": "IPY_MODEL_d44b2befa6aa4695baa555d10841e071",
       "style": "IPY_MODEL_8efc42c5791643fa868c6346f5a71488"
      }
     },
     "48a9b23fc95e4e5398ae3aad9d75adfa": {
      "model_module": "@jupyter-widgets/base",
      "model_module_version": "1.2.0",
      "model_name": "LayoutModel",
      "state": {}
     },
     "48d2298385e045ca93757bd325b1a4b2": {
      "model_module": "@jupyter-widgets/base",
      "model_module_version": "1.2.0",
      "model_name": "LayoutModel",
      "state": {}
     },
     "49c991a9027a45f78d9b8e15cd6b72c4": {
      "model_module": "@jupyter-widgets/base",
      "model_module_version": "1.2.0",
      "model_name": "LayoutModel",
      "state": {}
     },
     "4a629c03de1a4859a6ae26a1c516c099": {
      "model_module": "@jupyter-widgets/base",
      "model_module_version": "1.2.0",
      "model_name": "LayoutModel",
      "state": {}
     },
     "4a854c0564dc4d32a99f13b002a21736": {
      "model_module": "@jupyter-widgets/controls",
      "model_module_version": "1.5.0",
      "model_name": "HBoxModel",
      "state": {
       "children": [
        "IPY_MODEL_47f136bcf7ff4a4fa67fce0df95ee064",
        "IPY_MODEL_f0b537fea9aa4a2ea721ef632a249d64"
       ],
       "layout": "IPY_MODEL_49c991a9027a45f78d9b8e15cd6b72c4"
      }
     },
     "4aa4ba1b63de42d186eb164b694d9f47": {
      "model_module": "@jupyter-widgets/base",
      "model_module_version": "1.2.0",
      "model_name": "LayoutModel",
      "state": {}
     },
     "4b09d02db43c42db8aa3aebde97513ee": {
      "model_module": "@jupyter-widgets/controls",
      "model_module_version": "1.5.0",
      "model_name": "TextModel",
      "state": {
       "description": "Name:",
       "layout": "IPY_MODEL_bc78878794ca4ac3814b46db5936a8a1",
       "placeholder": "e.g. XRD",
       "style": "IPY_MODEL_6cfc520ef655411bac9d42256dc3c4ef"
      }
     },
     "4b32a0f139924e93b0e0566d8cf84636": {
      "model_module": "@jupyter-widgets/output",
      "model_module_version": "1.0.0",
      "model_name": "OutputModel",
      "state": {
       "layout": "IPY_MODEL_ea42473b774648e8b3215f8e4566fef4",
       "outputs": [
        {
         "data": {
          "text/html": "<table border=\"1\" class=\"dataframe\">\n  <thead>\n    <tr style=\"text-align: right;\">\n      <th></th>\n      <th>started</th>\n      <th>description</th>\n      <th>Obj</th>\n      <th>datasets</th>\n    </tr>\n    <tr>\n      <th>Name</th>\n      <th></th>\n      <th></th>\n      <th></th>\n      <th></th>\n    </tr>\n  </thead>\n  <tbody>\n    <tr>\n      <th>WP1.1a</th>\n      <td>2020-06-29</td>\n      <td></td>\n      <td><a href=\"WP1.1/WP1.1a.ipynb\" target=\"_blank\"><h4 style=\"display: inline;\">WP1.1a</h4 style=\"display: inline;\"</a></td>\n      <td>[]</td>\n    </tr>\n    <tr>\n      <th>WP1.1b</th>\n      <td>2020-06-29</td>\n      <td></td>\n      <td><a href=\"WP1.1/WP1.1b.ipynb\" target=\"_blank\"><h4 style=\"display: inline;\">WP1.1b</h4 style=\"display: inline;\"</a></td>\n      <td>[]</td>\n    </tr>\n    <tr>\n      <th>WP1.1c</th>\n      <td>2020-06-29</td>\n      <td></td>\n      <td><a href=\"WP1.1/WP1.1c.ipynb\" target=\"_blank\"><h4 style=\"display: inline;\">WP1.1c</h4 style=\"display: inline;\"</a></td>\n      <td>[]</td>\n    </tr>\n  </tbody>\n</table>",
          "text/plain": "          started description                Obj datasets\nName                                                     \nWP1.1a 2020-06-29              <Sample \"WP1.1a\">       []\nWP1.1b 2020-06-29              <Sample \"WP1.1b\">       []\nWP1.1c 2020-06-29              <Sample \"WP1.1c\">       []"
         },
         "metadata": {},
         "output_type": "display_data"
        }
       ]
      }
     },
     "4b513f681fc34912964844e231687113": {
      "model_module": "@jupyter-widgets/base",
      "model_module_version": "1.2.0",
      "model_name": "LayoutModel",
      "state": {}
     },
     "4b81d16a4b654be7922de8d5f8ccbfaa": {
      "model_module": "@jupyter-widgets/base",
      "model_module_version": "1.2.0",
      "model_name": "LayoutModel",
      "state": {}
     },
     "4c180d19733540d5ba428a19b5ba229b": {
      "model_module": "@jupyter-widgets/output",
      "model_module_version": "1.0.0",
      "model_name": "OutputModel",
      "state": {
       "layout": "IPY_MODEL_c21d6925021b44669a31a5b7ac3dc16d"
      }
     },
     "4d2727ac62724b128b5903d95e49755d": {
      "model_module": "@jupyter-widgets/base",
      "model_module_version": "1.2.0",
      "model_name": "LayoutModel",
      "state": {}
     },
     "4dc79dfdca394e1aadb1ab1808a2025f": {
      "model_module": "@jupyter-widgets/controls",
      "model_module_version": "1.5.0",
      "model_name": "ButtonModel",
      "state": {
       "description": "Confirm",
       "disabled": true,
       "layout": "IPY_MODEL_e968fef9c3084271869bfa54affc79dd",
       "style": "IPY_MODEL_fd3580805ae74feca74af7605e617477"
      }
     },
     "4dee478876e8409f9ec2f1f4cc028f82": {
      "model_module": "@jupyter-widgets/output",
      "model_module_version": "1.0.0",
      "model_name": "OutputModel",
      "state": {
       "layout": "IPY_MODEL_2552db2e6f354b74aa49c359294d00f3",
       "outputs": [
        {
         "data": {
          "text/html": "<h1 style=\"display: inline;\"><a href=\"WP1.1.ipynb\">WP1.1</a></h1><h3 style=\"display: inline;\">(<a href=\"../../Home.ipynb\" target=\"_blank\">Home</a>-><a href=\"../WP1.ipynb\" target=\"_blank\">WP1</a>)</h3>",
          "text/plain": "<cassini.ipygui.WHTML at 0x197142a8b38>"
         },
         "metadata": {},
         "output_type": "display_data"
        }
       ]
      }
     },
     "4f0dedd2ef8245cd9f1c3bd3f28030c7": {
      "model_module": "@jupyter-widgets/controls",
      "model_module_version": "1.5.0",
      "model_name": "ButtonStyleModel",
      "state": {}
     },
     "51b345d41b724a71aad183302a913edf": {
      "model_module": "@jupyter-widgets/base",
      "model_module_version": "1.2.0",
      "model_name": "LayoutModel",
      "state": {}
     },
     "523c471384fa433cb08d2d569855f960": {
      "model_module": "@jupyter-widgets/controls",
      "model_module_version": "1.5.0",
      "model_name": "VBoxModel",
      "state": {
       "children": [
        "IPY_MODEL_6a93ea2c80ab4ab986aed8bdd32a1436",
        "IPY_MODEL_f6950d6328d34cbe8c7a6fe75a4fc56d"
       ],
       "layout": "IPY_MODEL_67bf8347b4e54561860a34a05c3724fc"
      }
     },
     "527bb5bcce5e474e9c35c1515652c06d": {
      "model_module": "@jupyter-widgets/controls",
      "model_module_version": "1.5.0",
      "model_name": "DescriptionStyleModel",
      "state": {
       "description_width": "10%"
      }
     },
     "560fb2f0af8a43049f3179574d9ac6fc": {
      "model_module": "@jupyter-widgets/controls",
      "model_module_version": "1.5.0",
      "model_name": "ButtonStyleModel",
      "state": {}
     },
     "5634648a5dfe47a5839967406e5ceab3": {
      "model_module": "@jupyter-widgets/controls",
      "model_module_version": "1.5.0",
      "model_name": "TextModel",
      "state": {
       "description": "Name:",
       "layout": "IPY_MODEL_cf0362f9306545d4b5f791f58fa9cd2d",
       "placeholder": "e.g. XRD",
       "style": "IPY_MODEL_886e966388d742779c055c03fe255729"
      }
     },
     "57409fbdf3fd4042ad879741420f1320": {
      "model_module": "@jupyter-widgets/controls",
      "model_module_version": "1.5.0",
      "model_name": "HBoxModel",
      "state": {
       "children": [
        "IPY_MODEL_1df675efa0b343ae80416f31a2739e1d",
        "IPY_MODEL_a0d413c2313f4131b4c58156b34c5143"
       ],
       "layout": "IPY_MODEL_9b6d8efbdaf243759ec14757df948623"
      }
     },
     "58eea66db74d4a7a9e398bd741c9f580": {
      "model_module": "@jupyter-widgets/base",
      "model_module_version": "1.2.0",
      "model_name": "LayoutModel",
      "state": {}
     },
     "599a89e0ce064fbcaee4eb4ec2780b77": {
      "model_module": "@jupyter-widgets/output",
      "model_module_version": "1.0.0",
      "model_name": "OutputModel",
      "state": {
       "layout": "IPY_MODEL_d0e0c827d11e4f85ac462da971f55fe1",
       "outputs": [
        {
         "data": {
          "text/html": "<table border=\"1\" class=\"dataframe\">\n  <thead>\n    <tr style=\"text-align: right;\">\n      <th></th>\n    </tr>\n  </thead>\n  <tbody>\n  </tbody>\n</table>",
          "text/plain": "Empty UnescapedDataFrame\nColumns: []\nIndex: []"
         },
         "metadata": {},
         "output_type": "display_data"
        }
       ]
      }
     },
     "59b91183fc9f4a108f292e9cf37c8cb6": {
      "model_module": "@jupyter-widgets/base",
      "model_module_version": "1.2.0",
      "model_name": "LayoutModel",
      "state": {
       "width": "auto"
      }
     },
     "5a0b045e69284cfc97ec0fe9fb5ef2c6": {
      "model_module": "@jupyter-widgets/controls",
      "model_module_version": "1.5.0",
      "model_name": "VBoxModel",
      "state": {
       "children": [
        "IPY_MODEL_3e46792d8fc04f0792b696c33b614552",
        "IPY_MODEL_c4ee8a922edb40c29fc5383a082e8f0c",
        "IPY_MODEL_327d46b064c144748ca6cb24c491a164",
        "IPY_MODEL_4160c31dfd69434485808f5df0f8b8f9"
       ],
       "layout": "IPY_MODEL_fcca37e3170e446aa4ddcd32c5066994"
      }
     },
     "5a9d2d6a328a407fb5a9ec7f9dd58375": {
      "model_module": "@jupyter-widgets/controls",
      "model_module_version": "1.5.0",
      "model_name": "DescriptionStyleModel",
      "state": {
       "description_width": "10%"
      }
     },
     "5b8fe31a790f48fdb24e2c0f91ffe213": {
      "model_module": "@jupyter-widgets/output",
      "model_module_version": "1.0.0",
      "model_name": "OutputModel",
      "state": {
       "layout": "IPY_MODEL_c68fdde93dbe402fa8d41b5911a1ad44",
       "outputs": [
        {
         "data": {
          "text/markdown": "Fine",
          "text/plain": "<IPython.core.display.Markdown object>"
         },
         "metadata": {},
         "output_type": "display_data"
        }
       ]
      }
     },
     "5be24285baae45949b9feddfec464a1a": {
      "model_module": "@jupyter-widgets/controls",
      "model_module_version": "1.5.0",
      "model_name": "TextModel",
      "state": {
       "description": "Identifier",
       "disabled": true,
       "layout": "IPY_MODEL_c9375f98dad741babdb81dbd844a0aa7",
       "placeholder": "([^0-9^-][^-]*)",
       "style": "IPY_MODEL_13389cb83787471cba4f79653dd21705",
       "value": "c"
      }
     },
     "5c76016ef8b24476a4cfa578273558cf": {
      "model_module": "@jupyter-widgets/controls",
      "model_module_version": "1.5.0",
      "model_name": "DescriptionStyleModel",
      "state": {
       "description_width": "10%"
      }
     },
     "5dcabb14ba0c4ad19813f7ead014f88f": {
      "model_module": "@jupyter-widgets/base",
      "model_module_version": "1.2.0",
      "model_name": "LayoutModel",
      "state": {}
     },
     "5e00229d647644799a10035954623e95": {
      "model_module": "@jupyter-widgets/base",
      "model_module_version": "1.2.0",
      "model_name": "LayoutModel",
      "state": {}
     },
     "5ed708af955b4b82bcadb43ffc2645d9": {
      "model_module": "@jupyter-widgets/base",
      "model_module_version": "1.2.0",
      "model_name": "LayoutModel",
      "state": {
       "width": "auto"
      }
     },
     "5f094508d8fe468a873a8e4455cb0ef9": {
      "model_module": "@jupyter-widgets/base",
      "model_module_version": "1.2.0",
      "model_name": "LayoutModel",
      "state": {}
     },
     "5f1c78b839634222891ac954527b3bfa": {
      "model_module": "@jupyter-widgets/controls",
      "model_module_version": "1.5.0",
      "model_name": "DescriptionStyleModel",
      "state": {
       "description_width": "10%"
      }
     },
     "5f4faa2a8f184fd0960b0468d116366b": {
      "model_module": "@jupyter-widgets/controls",
      "model_module_version": "1.5.0",
      "model_name": "TextModel",
      "state": {
       "description": "Identifier",
       "disabled": true,
       "layout": "IPY_MODEL_f1120cdd15804a0eaa8ef2b905778abc",
       "placeholder": "([^0-9^-][^-]*)",
       "style": "IPY_MODEL_70aa19de0293431589ded3d7bf57834c",
       "value": "d"
      }
     },
     "5fef35e3bc344cdfacc0fdebe054fdb0": {
      "model_module": "@jupyter-widgets/controls",
      "model_module_version": "1.5.0",
      "model_name": "DescriptionStyleModel",
      "state": {
       "description_width": "10%"
      }
     },
     "604ff60a3629499388ffd11966f4474e": {
      "model_module": "@jupyter-widgets/controls",
      "model_module_version": "1.5.0",
      "model_name": "VBoxModel",
      "state": {
       "children": [
        "IPY_MODEL_5634648a5dfe47a5839967406e5ceab3",
        "IPY_MODEL_9f7dd53850dc4688a3df424b54f82a12",
        "IPY_MODEL_338dfd2d282e4e2cb367565b07a4a8d0",
        "IPY_MODEL_d2a3969525b7474b9c7d0501ef4b49bf"
       ],
       "layout": "IPY_MODEL_392e0c10e78846b6ada78688c790cfbb"
      }
     },
     "613a03cfdcfa454a9a2509ae8452b29e": {
      "model_module": "@jupyter-widgets/output",
      "model_module_version": "1.0.0",
      "model_name": "OutputModel",
      "state": {
       "layout": "IPY_MODEL_8e5b1d6317ed47cfa657596243a1eb6f",
       "outputs": [
        {
         "data": {
          "text/html": "<h3>Samples</h3>",
          "text/plain": "<cassini.ipygui.WHTML at 0x197140be470>"
         },
         "metadata": {},
         "output_type": "display_data"
        }
       ]
      }
     },
     "61453ebc05474e2bbfbb762e8c484201": {
      "model_module": "@jupyter-widgets/base",
      "model_module_version": "1.2.0",
      "model_name": "LayoutModel",
      "state": {
       "width": "auto"
      }
     },
     "630f0863201043ffad3b734ffdc63557": {
      "model_module": "@jupyter-widgets/base",
      "model_module_version": "1.2.0",
      "model_name": "LayoutModel",
      "state": {}
     },
     "637c95ccf1434f6d90507f85a8e87a60": {
      "model_module": "@jupyter-widgets/base",
      "model_module_version": "1.2.0",
      "model_name": "LayoutModel",
      "state": {}
     },
     "63954222c1834906b9723994e4eb2c56": {
      "model_module": "@jupyter-widgets/base",
      "model_module_version": "1.2.0",
      "model_name": "LayoutModel",
      "state": {}
     },
     "64cf150ff3f346fc81f371a55efae347": {
      "model_module": "@jupyter-widgets/output",
      "model_module_version": "1.0.0",
      "model_name": "OutputModel",
      "state": {
       "layout": "IPY_MODEL_2a51fa3382da4db1b7666c5e1d1afe6f"
      }
     },
     "64e4fbaa07d541478541f88fe3572aac": {
      "model_module": "@jupyter-widgets/base",
      "model_module_version": "1.2.0",
      "model_name": "LayoutModel",
      "state": {}
     },
     "657c0045d8ce46b8a146568ca89d1c6f": {
      "model_module": "@jupyter-widgets/output",
      "model_module_version": "1.0.0",
      "model_name": "OutputModel",
      "state": {
       "layout": "IPY_MODEL_7dcd4e00f00d4d4da10def2050b65737"
      }
     },
     "660bc4ebe9274401865fbd32a0fb1cb8": {
      "model_module": "@jupyter-widgets/output",
      "model_module_version": "1.0.0",
      "model_name": "OutputModel",
      "state": {
       "layout": "IPY_MODEL_46923384f6a545c3903a227fc3638385",
       "outputs": [
        {
         "data": {
          "text/html": "<h1 style=\"display: inline;\"><a href=\"WP1.1.ipynb\">WP1.1</a></h1><h3 style=\"display: inline;\">(<a href=\"../../Home.ipynb\" target=\"_blank\">Home</a>-><a href=\"../WP1.ipynb\" target=\"_blank\">WP1</a>)</h3>",
          "text/plain": "<cassini.ipygui.WHTML at 0x197142174e0>"
         },
         "metadata": {},
         "output_type": "display_data"
        }
       ]
      }
     },
     "6611e5beb5704396bdabe8a67f28d890": {
      "model_module": "@jupyter-widgets/base",
      "model_module_version": "1.2.0",
      "model_name": "LayoutModel",
      "state": {
       "width": "auto"
      }
     },
     "67bf8347b4e54561860a34a05c3724fc": {
      "model_module": "@jupyter-widgets/base",
      "model_module_version": "1.2.0",
      "model_name": "LayoutModel",
      "state": {}
     },
     "682be32eafb64792befe49d282247b9c": {
      "model_module": "@jupyter-widgets/controls",
      "model_module_version": "1.5.0",
      "model_name": "ButtonModel",
      "state": {
       "description": "Confirm",
       "disabled": true,
       "layout": "IPY_MODEL_d23bad89bf934b999aa1ee0c4206bf1a",
       "style": "IPY_MODEL_02d8ea0c8c6f40f69a776f32ec28a73f"
      }
     },
     "6831dad7960c4158853854fb8f32b510": {
      "model_module": "@jupyter-widgets/base",
      "model_module_version": "1.2.0",
      "model_name": "LayoutModel",
      "state": {}
     },
     "68abbf63e78f455b98bbd6fb882e150c": {
      "model_module": "@jupyter-widgets/controls",
      "model_module_version": "1.5.0",
      "model_name": "ButtonModel",
      "state": {
       "description": "Folder",
       "layout": "IPY_MODEL_d4f8fdddebce4260822a3839352ffe63",
       "style": "IPY_MODEL_f0a59a40b949469d888783cb9c41000b"
      }
     },
     "68e3f527c5124912a8adc709de900233": {
      "model_module": "@jupyter-widgets/controls",
      "model_module_version": "1.5.0",
      "model_name": "VBoxModel",
      "state": {
       "children": [
        "IPY_MODEL_f4dfa37d33be4e249d6b7be0f286d08d",
        "IPY_MODEL_15d30328fa4d423a90078783a0a7d8d2",
        "IPY_MODEL_d9e79cfda9e040a185043a8b5cbe09f5",
        "IPY_MODEL_220974b53e1f41b1960aff9e79360ca1",
        "IPY_MODEL_4b32a0f139924e93b0e0566d8cf84636",
        "IPY_MODEL_b12a0bf7686a4d57bc9adb475696c85a",
        "IPY_MODEL_043ad78fb4344b0cb31ac039eddd5cb0",
        "IPY_MODEL_9773df89473a4688b56ab1cacf13dabf",
        "IPY_MODEL_f63657bbb1fb4686b302b7c42ca6dc4a"
       ],
       "layout": "IPY_MODEL_22cda2fc3d5c48f4a31a5d9c42c3734e"
      }
     },
     "690be8cdb01542e0ad3c5d0634a4f520": {
      "model_module": "@jupyter-widgets/controls",
      "model_module_version": "1.5.0",
      "model_name": "ButtonStyleModel",
      "state": {}
     },
     "6a1e8feec7414e3796f9380efdc82e98": {
      "model_module": "@jupyter-widgets/base",
      "model_module_version": "1.2.0",
      "model_name": "LayoutModel",
      "state": {
       "width": "auto"
      }
     },
     "6a480d0b218d465a9d80921ad6bead6b": {
      "model_module": "@jupyter-widgets/base",
      "model_module_version": "1.2.0",
      "model_name": "LayoutModel",
      "state": {
       "width": "auto"
      }
     },
     "6a93ea2c80ab4ab986aed8bdd32a1436": {
      "model_module": "@jupyter-widgets/output",
      "model_module_version": "1.0.0",
      "model_name": "OutputModel",
      "state": {
       "layout": "IPY_MODEL_1a8f4626dc054e95a123495456feff1a",
       "outputs": [
        {
         "data": {
          "text/html": "<h1 style=\"display: inline;\"><a href=\"WP1.1.ipynb\">WP1.1</a></h1><h3 style=\"display: inline;\">(<a href=\"../../Home.ipynb\" target=\"_blank\">Home</a>-><a href=\"../WP1.ipynb\" target=\"_blank\">WP1</a>)</h3>",
          "text/plain": "<cassini.ipygui.WHTML at 0x19714164eb8>"
         },
         "metadata": {},
         "output_type": "display_data"
        }
       ]
      }
     },
     "6b19b143809d47b0b349305c30f75496": {
      "model_module": "@jupyter-widgets/base",
      "model_module_version": "1.2.0",
      "model_name": "LayoutModel",
      "state": {
       "width": "auto"
      }
     },
     "6b6e3d9dc71245858b94845d38301c18": {
      "model_module": "@jupyter-widgets/controls",
      "model_module_version": "1.5.0",
      "model_name": "SelectMultipleModel",
      "state": {
       "_options_labels": [
        "WP1.1a",
        "WP1.1b",
        "WP1.1c",
        "WP1.1d"
       ],
       "description": "Auto Add",
       "index": [],
       "layout": "IPY_MODEL_2459f3dfb785417f836644d0e39d3042",
       "rows": 5,
       "style": "IPY_MODEL_f718d9c4721e4468a9a4683bf772c888"
      }
     },
     "6bd24e0e256245dfa845c000445efd2e": {
      "model_module": "@jupyter-widgets/output",
      "model_module_version": "1.0.0",
      "model_name": "OutputModel",
      "state": {
       "layout": "IPY_MODEL_7fc215b50053494a8eca15e1c24bb9af",
       "outputs": [
        {
         "data": {
          "text/html": "<a href=\"WP1.1/WP1.1c.ipynb\" target=\"_blank\"><h4 style=\"display: inline;\">WP1.1c</h4 style=\"display: inline;\"</a>",
          "text/plain": "<cassini.ipygui.WHTML at 0x19714158630>"
         },
         "metadata": {},
         "output_type": "display_data"
        }
       ]
      }
     },
     "6c3d091dcdda4f55b216b2e8151eb1cd": {
      "model_module": "@jupyter-widgets/base",
      "model_module_version": "1.2.0",
      "model_name": "LayoutModel",
      "state": {}
     },
     "6c46cc5787884f7888af26fe8c2b178d": {
      "model_module": "@jupyter-widgets/output",
      "model_module_version": "1.0.0",
      "model_name": "OutputModel",
      "state": {
       "layout": "IPY_MODEL_dcef87ae531449ac8f7beb689d6c332e",
       "outputs": [
        {
         "name": "stdout",
         "output_type": "stream",
         "text": "Creating files for WP1.1d\nMeta (D:\\Documents\\Programin\\WorkingVersions\\cassini\\dev\\examples\\default\\WorkPackages\\WP1\\WP1.1\\.smpls\\WP1.1d.json)\nWriting Meta Data\nSuccess\nCreating Tier File (D:\\Documents\\Programin\\WorkingVersions\\cassini\\dev\\examples\\default\\WorkPackages\\WP1\\WP1.1\\WP1.1d.ipynb) using template (Sample\\simple.tmplt.txt)\nSuccess\nCreating Tier Folder (D:\\Documents\\Programin\\WorkingVersions\\cassini\\dev\\examples\\default\\WorkPackages\\WP1\\WP1.1)\nSuccess\nAll Done\n"
        },
        {
         "data": {
          "application/vnd.jupyter.widget-view+json": {
           "model_id": "c2a358197d32440f8867cf6cd737449a",
           "version_major": 2,
           "version_minor": 0
          },
          "text/plain": "Output()"
         },
         "metadata": {},
         "output_type": "display_data"
        }
       ]
      }
     },
     "6c575b39ca774215900b078ce5da40e2": {
      "model_module": "@jupyter-widgets/controls",
      "model_module_version": "1.5.0",
      "model_name": "ButtonModel",
      "state": {
       "description": "New",
       "layout": "IPY_MODEL_7fc2ceac943f43a693c95b09f278eb13",
       "style": "IPY_MODEL_f5fc737659ba4cb1b6e5550fd2be22dc"
      }
     },
     "6cfc520ef655411bac9d42256dc3c4ef": {
      "model_module": "@jupyter-widgets/controls",
      "model_module_version": "1.5.0",
      "model_name": "DescriptionStyleModel",
      "state": {
       "description_width": "10%"
      }
     },
     "6e353c32635640aea2f009cab546d806": {
      "model_module": "@jupyter-widgets/controls",
      "model_module_version": "1.5.0",
      "model_name": "ButtonStyleModel",
      "state": {}
     },
     "6e4117014ed548a0aa854b90f621a03c": {
      "model_module": "@jupyter-widgets/output",
      "model_module_version": "1.0.0",
      "model_name": "OutputModel",
      "state": {
       "layout": "IPY_MODEL_dece851ff7c64236806834e441dcee9b"
      }
     },
     "6fcaf68d2d564c08a873b913d5d2697c": {
      "model_module": "@jupyter-widgets/controls",
      "model_module_version": "1.5.0",
      "model_name": "ButtonStyleModel",
      "state": {}
     },
     "6ff44d94ccdf4b3aab1cea389fcc9935": {
      "model_module": "@jupyter-widgets/base",
      "model_module_version": "1.2.0",
      "model_name": "LayoutModel",
      "state": {}
     },
     "6ff8e2b69068415db289ddf9ea702ed3": {
      "model_module": "@jupyter-widgets/base",
      "model_module_version": "1.2.0",
      "model_name": "LayoutModel",
      "state": {}
     },
     "70aa19de0293431589ded3d7bf57834c": {
      "model_module": "@jupyter-widgets/controls",
      "model_module_version": "1.5.0",
      "model_name": "DescriptionStyleModel",
      "state": {
       "description_width": "10%"
      }
     },
     "716873fe24d74482a3a537cc77dca650": {
      "model_module": "@jupyter-widgets/output",
      "model_module_version": "1.0.0",
      "model_name": "OutputModel",
      "state": {
       "layout": "IPY_MODEL_3597cd604f7c44eb8a25a5bd25db6890",
       "outputs": [
        {
         "data": {
          "text/html": "<h1 style=\"display: inline;\"><a href=\"WP1.1.ipynb\">WP1.1</a></h1><h3 style=\"display: inline;\">(<a href=\"../../Home.ipynb\" target=\"_blank\">Home</a>-><a href=\"../WP1.ipynb\" target=\"_blank\">WP1</a>)</h3>",
          "text/plain": "<cassini.ipygui.WHTML at 0x19714158908>"
         },
         "metadata": {},
         "output_type": "display_data"
        }
       ]
      }
     },
     "7581fc56603743a4ad0477f8a3f319a7": {
      "model_module": "@jupyter-widgets/controls",
      "model_module_version": "1.5.0",
      "model_name": "HBoxModel",
      "state": {
       "children": [
        "IPY_MODEL_c51069d959d64bf9ae456d3c399f3f2f",
        "IPY_MODEL_3266377a615345bf998ae8864914325d"
       ],
       "layout": "IPY_MODEL_f3e67289fc91441185a09923646b68c1"
      }
     },
     "76642d0995a745299095fb4cd1a1d6ac": {
      "model_module": "@jupyter-widgets/controls",
      "model_module_version": "1.5.0",
      "model_name": "HBoxModel",
      "state": {
       "children": [
        "IPY_MODEL_4dc79dfdca394e1aadb1ab1808a2025f",
        "IPY_MODEL_876a165f26154b5bbad0ba332b22517b"
       ],
       "layout": "IPY_MODEL_64e4fbaa07d541478541f88fe3572aac"
      }
     },
     "784bfa720bb043288f626edf8d61170a": {
      "model_module": "@jupyter-widgets/controls",
      "model_module_version": "1.5.0",
      "model_name": "VBoxModel",
      "state": {
       "children": [
        "IPY_MODEL_be30e7b9b52f49a79b51f1d2356fcc2c",
        "IPY_MODEL_6b6e3d9dc71245858b94845d38301c18",
        "IPY_MODEL_a1243fe122c048b38a91f32d19d6aa39",
        "IPY_MODEL_25594a2738e848e38c89f1c43068af22"
       ],
       "layout": "IPY_MODEL_26d27ab4595f4a3f8a52243b87a10e1b"
      }
     },
     "78ed90a36f9c4524a7a5ed7adbf580fc": {
      "model_module": "@jupyter-widgets/base",
      "model_module_version": "1.2.0",
      "model_name": "LayoutModel",
      "state": {}
     },
     "7aba52e0c25649fa936fb4d865719418": {
      "model_module": "@jupyter-widgets/base",
      "model_module_version": "1.2.0",
      "model_name": "LayoutModel",
      "state": {}
     },
     "7aeb9739bf004dafa9b4f6c794b2010c": {
      "model_module": "@jupyter-widgets/output",
      "model_module_version": "1.0.0",
      "model_name": "OutputModel",
      "state": {
       "layout": "IPY_MODEL_d8202424263840729276bcee5bee2620"
      }
     },
     "7bc9395d4b414382ab6da79d988250e6": {
      "model_module": "@jupyter-widgets/controls",
      "model_module_version": "1.5.0",
      "model_name": "VBoxModel",
      "state": {
       "children": [
        "IPY_MODEL_5f4faa2a8f184fd0960b0468d116366b",
        "IPY_MODEL_9db46de6a8454dbe9a1f455a270397dd",
        "IPY_MODEL_187bd8d4ba4b48bcbfc79f1650f71639",
        "IPY_MODEL_9d055a3f234f49c99c7507afc2a5b91a",
        "IPY_MODEL_6c46cc5787884f7888af26fe8c2b178d"
       ],
       "layout": "IPY_MODEL_b2db26c35c914bd48e8c964a1fff7d65"
      }
     },
     "7dc9fc09db6b4c3cba2aca50819589db": {
      "model_module": "@jupyter-widgets/base",
      "model_module_version": "1.2.0",
      "model_name": "LayoutModel",
      "state": {
       "width": "auto"
      }
     },
     "7dcd4e00f00d4d4da10def2050b65737": {
      "model_module": "@jupyter-widgets/base",
      "model_module_version": "1.2.0",
      "model_name": "LayoutModel",
      "state": {
       "width": "auto"
      }
     },
     "7e34877015094a4983de574cbcda69de": {
      "model_module": "@jupyter-widgets/base",
      "model_module_version": "1.2.0",
      "model_name": "LayoutModel",
      "state": {}
     },
     "7e8c39ca4e894524809f45e4a5991f8b": {
      "model_module": "@jupyter-widgets/base",
      "model_module_version": "1.2.0",
      "model_name": "LayoutModel",
      "state": {}
     },
     "7fa459db6c1c4043b70debdde7433488": {
      "model_module": "@jupyter-widgets/controls",
      "model_module_version": "1.5.0",
      "model_name": "VBoxModel",
      "state": {
       "children": [
        "IPY_MODEL_4b09d02db43c42db8aa3aebde97513ee",
        "IPY_MODEL_e27dc309678547d4ba5fd70d25ee1b38",
        "IPY_MODEL_76642d0995a745299095fb4cd1a1d6ac",
        "IPY_MODEL_4586346bef9d471ba7df2ea64cfe0233"
       ],
       "layout": "IPY_MODEL_ec5c5d5045ba4512965951c39a9f4a0b"
      }
     },
     "7fc215b50053494a8eca15e1c24bb9af": {
      "model_module": "@jupyter-widgets/base",
      "model_module_version": "1.2.0",
      "model_name": "LayoutModel",
      "state": {}
     },
     "7fc2ceac943f43a693c95b09f278eb13": {
      "model_module": "@jupyter-widgets/base",
      "model_module_version": "1.2.0",
      "model_name": "LayoutModel",
      "state": {}
     },
     "8085b5dea23645629ee3ba4abf581ec6": {
      "model_module": "@jupyter-widgets/controls",
      "model_module_version": "1.5.0",
      "model_name": "DescriptionStyleModel",
      "state": {
       "description_width": "10%"
      }
     },
     "818385e90f4d4aa78a69a3e73252492b": {
      "model_module": "@jupyter-widgets/base",
      "model_module_version": "1.2.0",
      "model_name": "LayoutModel",
      "state": {}
     },
     "82b414c1282841839b8e3946a07b36d8": {
      "model_module": "@jupyter-widgets/output",
      "model_module_version": "1.0.0",
      "model_name": "OutputModel",
      "state": {
       "layout": "IPY_MODEL_a7446eda595c422d8709da0ada5c10fb"
      }
     },
     "82c7f9a7e2c54c46906fd1eb6bac5216": {
      "model_module": "@jupyter-widgets/base",
      "model_module_version": "1.2.0",
      "model_name": "LayoutModel",
      "state": {}
     },
     "82dc02ceb0534b7e9505534fdd976489": {
      "model_module": "@jupyter-widgets/controls",
      "model_module_version": "1.5.0",
      "model_name": "ButtonStyleModel",
      "state": {}
     },
     "832ce554963c4447ac3410269a5a7e1b": {
      "model_module": "@jupyter-widgets/base",
      "model_module_version": "1.2.0",
      "model_name": "LayoutModel",
      "state": {}
     },
     "83431da498114900ba705b1bc1b8dbe0": {
      "model_module": "@jupyter-widgets/controls",
      "model_module_version": "1.5.0",
      "model_name": "ButtonModel",
      "state": {
       "description": "Folder",
       "layout": "IPY_MODEL_7aba52e0c25649fa936fb4d865719418",
       "style": "IPY_MODEL_97493bdc2a874617a1691f66781be585"
      }
     },
     "8361cd52a3b04a1b8e39fb0cb7c6394d": {
      "model_module": "@jupyter-widgets/base",
      "model_module_version": "1.2.0",
      "model_name": "LayoutModel",
      "state": {
       "width": "auto"
      }
     },
     "8368ca530fe84d6eb61c47da1a873acb": {
      "model_module": "@jupyter-widgets/output",
      "model_module_version": "1.0.0",
      "model_name": "OutputModel",
      "state": {
       "layout": "IPY_MODEL_c0dca00add6f43bb8451a35b891d60b8"
      }
     },
     "839272a4117b4c63b3f8e9e44bc994cb": {
      "model_module": "@jupyter-widgets/output",
      "model_module_version": "1.0.0",
      "model_name": "OutputModel",
      "state": {
       "layout": "IPY_MODEL_bc3383749e2c4da49af7ecf92f31566a",
       "outputs": [
        {
         "data": {
          "text/html": "<h3>New Sample</h3>",
          "text/plain": "<cassini.ipygui.WHTML at 0x1971420b080>"
         },
         "metadata": {},
         "output_type": "display_data"
        }
       ]
      }
     },
     "83c146225142437d9d9748520e9942b7": {
      "model_module": "@jupyter-widgets/base",
      "model_module_version": "1.2.0",
      "model_name": "LayoutModel",
      "state": {}
     },
     "8503a74212854375b682d15d935d9efb": {
      "model_module": "@jupyter-widgets/controls",
      "model_module_version": "1.5.0",
      "model_name": "SelectModel",
      "state": {
       "_options_labels": [
        "Sample.tmplt.ipynb",
        "simple.tmplt.txt"
       ],
       "description": "Template",
       "index": 0,
       "layout": "IPY_MODEL_0a309950011c42b2a9bac5c1c2f7bb85",
       "style": "IPY_MODEL_0b9ff744ebb647d0beb70eb57fa2c662"
      }
     },
     "8581012fffe1405aa0cf1559df4562d7": {
      "model_module": "@jupyter-widgets/base",
      "model_module_version": "1.2.0",
      "model_name": "LayoutModel",
      "state": {}
     },
     "861debdbdfe444a18060dca175d46398": {
      "model_module": "@jupyter-widgets/base",
      "model_module_version": "1.2.0",
      "model_name": "LayoutModel",
      "state": {}
     },
     "876a165f26154b5bbad0ba332b22517b": {
      "model_module": "@jupyter-widgets/controls",
      "model_module_version": "1.5.0",
      "model_name": "ButtonModel",
      "state": {
       "description": "New",
       "layout": "IPY_MODEL_51b345d41b724a71aad183302a913edf",
       "style": "IPY_MODEL_560fb2f0af8a43049f3179574d9ac6fc"
      }
     },
     "886e966388d742779c055c03fe255729": {
      "model_module": "@jupyter-widgets/controls",
      "model_module_version": "1.5.0",
      "model_name": "DescriptionStyleModel",
      "state": {
       "description_width": "10%"
      }
     },
     "8b56fe322e914617bca71bb8c3467502": {
      "model_module": "@jupyter-widgets/controls",
      "model_module_version": "1.5.0",
      "model_name": "DescriptionStyleModel",
      "state": {
       "description_width": "10%"
      }
     },
     "8bd26418821d45d7a1f03958f785d0c0": {
      "model_module": "@jupyter-widgets/controls",
      "model_module_version": "1.5.0",
      "model_name": "DescriptionStyleModel",
      "state": {
       "description_width": "10%"
      }
     },
     "8bf1650e36a3460abf99fef9184aef03": {
      "model_module": "@jupyter-widgets/controls",
      "model_module_version": "1.5.0",
      "model_name": "TextareaModel",
      "state": {
       "description": "Motivation",
       "layout": "IPY_MODEL_964ecc8fb05b4e1092b3c42bbdc54deb",
       "style": "IPY_MODEL_eaf2499267614459ad5de5360d6473ad"
      }
     },
     "8ce43de097654f2696d384199ea1f4c5": {
      "model_module": "@jupyter-widgets/output",
      "model_module_version": "1.0.0",
      "model_name": "OutputModel",
      "state": {
       "layout": "IPY_MODEL_8f28076379df422ea2334cec120d1c35"
      }
     },
     "8d4cc1d964f94f6b8b5767b765c191cc": {
      "model_module": "@jupyter-widgets/controls",
      "model_module_version": "1.5.0",
      "model_name": "ButtonModel",
      "state": {
       "description": "New",
       "layout": "IPY_MODEL_452d82ee2cab4e7bad834bfa6a35ab02",
       "style": "IPY_MODEL_ec8bcb85e87047b2adf213dd13259f07"
      }
     },
     "8e5b1d6317ed47cfa657596243a1eb6f": {
      "model_module": "@jupyter-widgets/base",
      "model_module_version": "1.2.0",
      "model_name": "LayoutModel",
      "state": {}
     },
     "8ee3f98ff5204e1cb5519262528656a5": {
      "model_module": "@jupyter-widgets/output",
      "model_module_version": "1.0.0",
      "model_name": "OutputModel",
      "state": {
       "layout": "IPY_MODEL_ce978afb7dfb48eb8ff59a0ab4f40119",
       "outputs": [
        {
         "data": {
          "text/markdown": "Fine",
          "text/plain": "<IPython.core.display.Markdown object>"
         },
         "metadata": {},
         "output_type": "display_data"
        }
       ]
      }
     },
     "8efc42c5791643fa868c6346f5a71488": {
      "model_module": "@jupyter-widgets/controls",
      "model_module_version": "1.5.0",
      "model_name": "ButtonStyleModel",
      "state": {}
     },
     "8f28076379df422ea2334cec120d1c35": {
      "model_module": "@jupyter-widgets/base",
      "model_module_version": "1.2.0",
      "model_name": "LayoutModel",
      "state": {}
     },
     "90b809d99b0a490985271f617228f4e3": {
      "model_module": "@jupyter-widgets/base",
      "model_module_version": "1.2.0",
      "model_name": "LayoutModel",
      "state": {
       "width": "auto"
      }
     },
     "910bc1c948a44c1997be484941eb3cd4": {
      "model_module": "@jupyter-widgets/controls",
      "model_module_version": "1.5.0",
      "model_name": "DescriptionStyleModel",
      "state": {
       "description_width": "10%"
      }
     },
     "92ce9daeacf644d08403fd723fc8d9e2": {
      "model_module": "@jupyter-widgets/base",
      "model_module_version": "1.2.0",
      "model_name": "LayoutModel",
      "state": {
       "width": "auto"
      }
     },
     "937a578505224ae080560fce61db218c": {
      "model_module": "@jupyter-widgets/base",
      "model_module_version": "1.2.0",
      "model_name": "LayoutModel",
      "state": {
       "width": "auto"
      }
     },
     "941273a0fea04d6093569510eba8a0e4": {
      "model_module": "@jupyter-widgets/controls",
      "model_module_version": "1.5.0",
      "model_name": "ButtonStyleModel",
      "state": {}
     },
     "94dfd44fcaa9410a8eb33b5533a73b83": {
      "model_module": "@jupyter-widgets/output",
      "model_module_version": "1.0.0",
      "model_name": "OutputModel",
      "state": {
       "layout": "IPY_MODEL_7dc9fc09db6b4c3cba2aca50819589db"
      }
     },
     "951d03f865ff4152be9779ef2a88d3cf": {
      "model_module": "@jupyter-widgets/base",
      "model_module_version": "1.2.0",
      "model_name": "LayoutModel",
      "state": {}
     },
     "95e1d07999924868b37962ff4a3944e2": {
      "model_module": "@jupyter-widgets/base",
      "model_module_version": "1.2.0",
      "model_name": "LayoutModel",
      "state": {}
     },
     "962eb9e41d55470b9cd7491ef38be63f": {
      "model_module": "@jupyter-widgets/base",
      "model_module_version": "1.2.0",
      "model_name": "LayoutModel",
      "state": {}
     },
     "964ecc8fb05b4e1092b3c42bbdc54deb": {
      "model_module": "@jupyter-widgets/base",
      "model_module_version": "1.2.0",
      "model_name": "LayoutModel",
      "state": {
       "width": "auto"
      }
     },
     "9714eade4ac443a8809f1bc2dab6eda2": {
      "model_module": "@jupyter-widgets/base",
      "model_module_version": "1.2.0",
      "model_name": "LayoutModel",
      "state": {}
     },
     "97493bdc2a874617a1691f66781be585": {
      "model_module": "@jupyter-widgets/controls",
      "model_module_version": "1.5.0",
      "model_name": "ButtonStyleModel",
      "state": {}
     },
     "9773df89473a4688b56ab1cacf13dabf": {
      "model_module": "@jupyter-widgets/output",
      "model_module_version": "1.0.0",
      "model_name": "OutputModel",
      "state": {
       "layout": "IPY_MODEL_9d47d6e913a2481e9dc01ddd6d9a3fd0",
       "outputs": [
        {
         "data": {
          "text/html": "<h3>New Data</h3>",
          "text/plain": "<cassini.ipygui.WHTML at 0x1971413d048>"
         },
         "metadata": {},
         "output_type": "display_data"
        }
       ]
      }
     },
     "97f48581234547e69ab6947267d71b3d": {
      "model_module": "@jupyter-widgets/controls",
      "model_module_version": "1.5.0",
      "model_name": "VBoxModel",
      "state": {
       "children": [
        "IPY_MODEL_a0506b4f17e44cfbb1c240ea1b339ae2",
        "IPY_MODEL_68abbf63e78f455b98bbd6fb882e150c"
       ],
       "layout": "IPY_MODEL_c717dafb34874336a91d5d5c741b44e0"
      }
     },
     "999ccc5e82e2457090d91d0788db071b": {
      "model_module": "@jupyter-widgets/output",
      "model_module_version": "1.0.0",
      "model_name": "OutputModel",
      "state": {
       "layout": "IPY_MODEL_eabc0cb67a534b7197a0d8169a9e5b94",
       "outputs": [
        {
         "data": {
          "text/html": "<h3>New Sample</h3>",
          "text/plain": "<cassini.ipygui.WHTML at 0x1971420b8d0>"
         },
         "metadata": {},
         "output_type": "display_data"
        }
       ]
      }
     },
     "9ac31c592397453f946a56043e51200d": {
      "model_module": "@jupyter-widgets/base",
      "model_module_version": "1.2.0",
      "model_name": "LayoutModel",
      "state": {}
     },
     "9b1000d9e1da465a93531fe8308f6dcd": {
      "model_module": "@jupyter-widgets/base",
      "model_module_version": "1.2.0",
      "model_name": "LayoutModel",
      "state": {}
     },
     "9b4eb45bd48b42148aee4f94e9431a14": {
      "model_module": "@jupyter-widgets/controls",
      "model_module_version": "1.5.0",
      "model_name": "HBoxModel",
      "state": {
       "children": [
        "IPY_MODEL_682be32eafb64792befe49d282247b9c",
        "IPY_MODEL_475eac5dbe374f99b119fa5e426fb640"
       ],
       "layout": "IPY_MODEL_5f094508d8fe468a873a8e4455cb0ef9"
      }
     },
     "9b6d8efbdaf243759ec14757df948623": {
      "model_module": "@jupyter-widgets/base",
      "model_module_version": "1.2.0",
      "model_name": "LayoutModel",
      "state": {}
     },
     "9d055a3f234f49c99c7507afc2a5b91a": {
      "model_module": "@jupyter-widgets/controls",
      "model_module_version": "1.5.0",
      "model_name": "HBoxModel",
      "state": {
       "children": [
        "IPY_MODEL_c6fcccf2b33a4551ae9d93a902aadd8a",
        "IPY_MODEL_ba7be87162764576bf91244ebead1fdf"
       ],
       "layout": "IPY_MODEL_312539747c9d44fda181e6f9fc0fbb57"
      }
     },
     "9d3f5aa4f33c41e4998085e9d341c500": {
      "model_module": "@jupyter-widgets/controls",
      "model_module_version": "1.5.0",
      "model_name": "TextModel",
      "state": {
       "description": "Identifier",
       "layout": "IPY_MODEL_f4a0e9a061cb435d932548979905f00b",
       "placeholder": "([^0-9^-][^-]*)",
       "style": "IPY_MODEL_00e6e039d6e946f38427334de98edf92"
      }
     },
     "9d47d6e913a2481e9dc01ddd6d9a3fd0": {
      "model_module": "@jupyter-widgets/base",
      "model_module_version": "1.2.0",
      "model_name": "LayoutModel",
      "state": {}
     },
     "9db46de6a8454dbe9a1f455a270397dd": {
      "model_module": "@jupyter-widgets/controls",
      "model_module_version": "1.5.0",
      "model_name": "SelectModel",
      "state": {
       "_options_labels": [
        "Sample.tmplt.ipynb",
        "simple.tmplt.txt"
       ],
       "description": "Template",
       "disabled": true,
       "index": 1,
       "layout": "IPY_MODEL_6611e5beb5704396bdabe8a67f28d890",
       "style": "IPY_MODEL_8bd26418821d45d7a1f03958f785d0c0"
      }
     },
     "9e26b7b87b884f32b50d1f30fd9c33f5": {
      "model_module": "@jupyter-widgets/base",
      "model_module_version": "1.2.0",
      "model_name": "LayoutModel",
      "state": {}
     },
     "9e3d111513984d5bb1c239f84a46c1ce": {
      "model_module": "@jupyter-widgets/base",
      "model_module_version": "1.2.0",
      "model_name": "LayoutModel",
      "state": {
       "width": "auto"
      }
     },
     "9e6cdf4390a843a9a351ba4ec093f6cf": {
      "model_module": "@jupyter-widgets/controls",
      "model_module_version": "1.5.0",
      "model_name": "TextModel",
      "state": {
       "description": "Name:",
       "layout": "IPY_MODEL_28bfa92dbce7439ab1c7c6ec5f61e30a",
       "placeholder": "e.g. XRD",
       "style": "IPY_MODEL_cea848b5c98e47ccb8c9033f8fa16052"
      }
     },
     "9f7dd53850dc4688a3df424b54f82a12": {
      "model_module": "@jupyter-widgets/controls",
      "model_module_version": "1.5.0",
      "model_name": "SelectMultipleModel",
      "state": {
       "_options_labels": [
        "WP1.1a",
        "WP1.1b",
        "WP1.1c",
        "WP1.1d"
       ],
       "description": "Auto Add",
       "index": [],
       "layout": "IPY_MODEL_90b809d99b0a490985271f617228f4e3",
       "rows": 5,
       "style": "IPY_MODEL_5f1c78b839634222891ac954527b3bfa"
      }
     },
     "a006da30c5e24c78b8cda26cfb98f122": {
      "model_module": "@jupyter-widgets/controls",
      "model_module_version": "1.5.0",
      "model_name": "DescriptionStyleModel",
      "state": {
       "description_width": "10%"
      }
     },
     "a0506b4f17e44cfbb1c240ea1b339ae2": {
      "model_module": "@jupyter-widgets/output",
      "model_module_version": "1.0.0",
      "model_name": "OutputModel",
      "state": {
       "layout": "IPY_MODEL_3c06d04e116a43a48df159e0fac687ba",
       "outputs": [
        {
         "data": {
          "text/html": "<h1 style=\"display: inline;\"><a href=\"WP1.1.ipynb\">WP1.1</a></h1><h3 style=\"display: inline;\">(<a href=\"../../Home.ipynb\" target=\"_blank\">Home</a>-><a href=\"../WP1.ipynb\" target=\"_blank\">WP1</a>)</h3>",
          "text/plain": "<cassini.ipygui.WHTML at 0x1971422a128>"
         },
         "metadata": {},
         "output_type": "display_data"
        }
       ]
      }
     },
     "a0d413c2313f4131b4c58156b34c5143": {
      "model_module": "@jupyter-widgets/controls",
      "model_module_version": "1.5.0",
      "model_name": "ButtonModel",
      "state": {
       "description": "New",
       "layout": "IPY_MODEL_6831dad7960c4158853854fb8f32b510",
       "style": "IPY_MODEL_690be8cdb01542e0ad3c5d0634a4f520"
      }
     },
     "a1243fe122c048b38a91f32d19d6aa39": {
      "model_module": "@jupyter-widgets/controls",
      "model_module_version": "1.5.0",
      "model_name": "HBoxModel",
      "state": {
       "children": [
        "IPY_MODEL_eba9fec153de4b949b919f03b65d44da",
        "IPY_MODEL_cfff6fac80b147cc8222413341ebeede"
       ],
       "layout": "IPY_MODEL_2554e4f4065947f6bfbaca5a14c07603"
      }
     },
     "a30f30be819343debbb03b5e566aab37": {
      "model_module": "@jupyter-widgets/controls",
      "model_module_version": "1.5.0",
      "model_name": "TextModel",
      "state": {
       "description": "Name:",
       "layout": "IPY_MODEL_e4cfbda6e30b49c2ad69488949164f6e",
       "placeholder": "e.g. XRD",
       "style": "IPY_MODEL_5fef35e3bc344cdfacc0fdebe054fdb0"
      }
     },
     "a34148e6b89d4e1595acc126df7ddc7e": {
      "model_module": "@jupyter-widgets/controls",
      "model_module_version": "1.5.0",
      "model_name": "TextModel",
      "state": {
       "description": "Identifier",
       "layout": "IPY_MODEL_2bc9c4e1634f4143b576f3a6c246552a",
       "placeholder": "([^0-9^-][^-]*)",
       "style": "IPY_MODEL_2e1dc903b4934ac1b7bbd74f997ae008"
      }
     },
     "a3a312b206b7433f9146fa2920c3881c": {
      "model_module": "@jupyter-widgets/controls",
      "model_module_version": "1.5.0",
      "model_name": "VBoxModel",
      "state": {
       "children": [
        "IPY_MODEL_a30f30be819343debbb03b5e566aab37",
        "IPY_MODEL_0cf3c87f476848739072df771cdbc782",
        "IPY_MODEL_57409fbdf3fd4042ad879741420f1320",
        "IPY_MODEL_4c180d19733540d5ba428a19b5ba229b"
       ],
       "layout": "IPY_MODEL_c5566b8dd9984f169262809474f00f3b"
      }
     },
     "a56f2986753f425b8f4b0b5bda37c92f": {
      "model_module": "@jupyter-widgets/controls",
      "model_module_version": "1.5.0",
      "model_name": "ButtonStyleModel",
      "state": {}
     },
     "a5ab8a72903a4f7993ed21733f29a2f1": {
      "model_module": "@jupyter-widgets/base",
      "model_module_version": "1.2.0",
      "model_name": "LayoutModel",
      "state": {}
     },
     "a7446eda595c422d8709da0ada5c10fb": {
      "model_module": "@jupyter-widgets/base",
      "model_module_version": "1.2.0",
      "model_name": "LayoutModel",
      "state": {
       "width": "auto"
      }
     },
     "a74a38766e6b4a999ce2258e77bb2f96": {
      "model_module": "@jupyter-widgets/controls",
      "model_module_version": "1.5.0",
      "model_name": "VBoxModel",
      "state": {
       "children": [
        "IPY_MODEL_b62df23f8fd742649942350463926df4",
        "IPY_MODEL_ec9c285e7efd4efc9679aebc5c25f9d8",
        "IPY_MODEL_e96d8de359974e56ad696a55adcc158a",
        "IPY_MODEL_2f184019ffc24c29b118597d7a399eea",
        "IPY_MODEL_ac2dc715457942b284d3a655f43c1140",
        "IPY_MODEL_839272a4117b4c63b3f8e9e44bc994cb",
        "IPY_MODEL_f02576e75c1540e183da662a6724710b",
        "IPY_MODEL_b1353ff76cb44bc3b2cd9ad8cb264570",
        "IPY_MODEL_604ff60a3629499388ffd11966f4474e"
       ],
       "layout": "IPY_MODEL_aa00c393f7fb463cb3df28ed9ac36f9a"
      }
     },
     "a782484a68714bc6839101019e735b7f": {
      "model_module": "@jupyter-widgets/base",
      "model_module_version": "1.2.0",
      "model_name": "LayoutModel",
      "state": {}
     },
     "a84a1c696173475d8c196039d8455d73": {
      "model_module": "@jupyter-widgets/base",
      "model_module_version": "1.2.0",
      "model_name": "LayoutModel",
      "state": {}
     },
     "aa00c393f7fb463cb3df28ed9ac36f9a": {
      "model_module": "@jupyter-widgets/base",
      "model_module_version": "1.2.0",
      "model_name": "LayoutModel",
      "state": {}
     },
     "ab3ac82d767b4d3d9d1892626e32f7c9": {
      "model_module": "@jupyter-widgets/base",
      "model_module_version": "1.2.0",
      "model_name": "LayoutModel",
      "state": {}
     },
     "ac2dc715457942b284d3a655f43c1140": {
      "model_module": "@jupyter-widgets/output",
      "model_module_version": "1.0.0",
      "model_name": "OutputModel",
      "state": {
       "layout": "IPY_MODEL_d8147205de814c469b6c23478415e280",
       "outputs": [
        {
         "data": {
          "text/html": "<table border=\"1\" class=\"dataframe\">\n  <thead>\n    <tr style=\"text-align: right;\">\n      <th></th>\n      <th>started</th>\n      <th>description</th>\n      <th>Obj</th>\n      <th>datasets</th>\n    </tr>\n    <tr>\n      <th>Name</th>\n      <th></th>\n      <th></th>\n      <th></th>\n      <th></th>\n    </tr>\n  </thead>\n  <tbody>\n    <tr>\n      <th>WP1.1a</th>\n      <td>2020-06-29</td>\n      <td></td>\n      <td><a href=\"WP1.1/WP1.1a.ipynb\" target=\"_blank\"><h4 style=\"display: inline;\">WP1.1a</h4 style=\"display: inline;\"</a></td>\n      <td>[&#x27;Plotting&#x27;]</td>\n    </tr>\n    <tr>\n      <th>WP1.1b</th>\n      <td>2020-06-29</td>\n      <td></td>\n      <td><a href=\"WP1.1/WP1.1b.ipynb\" target=\"_blank\"><h4 style=\"display: inline;\">WP1.1b</h4 style=\"display: inline;\"</a></td>\n      <td>[]</td>\n    </tr>\n    <tr>\n      <th>WP1.1c</th>\n      <td>2020-06-29</td>\n      <td></td>\n      <td><a href=\"WP1.1/WP1.1c.ipynb\" target=\"_blank\"><h4 style=\"display: inline;\">WP1.1c</h4 style=\"display: inline;\"</a></td>\n      <td>[]</td>\n    </tr>\n    <tr>\n      <th>WP1.1d</th>\n      <td>2020-06-29</td>\n      <td>Not sure what&#x27;ll happen!</td>\n      <td><a href=\"WP1.1/WP1.1d.ipynb\" target=\"_blank\"><h4 style=\"display: inline;\">WP1.1d</h4 style=\"display: inline;\"</a></td>\n      <td>[]</td>\n    </tr>\n  </tbody>\n</table>",
          "text/plain": "          started               description                Obj    datasets\nName                                                                      \nWP1.1a 2020-06-29                            <Sample \"WP1.1a\">  [Plotting]\nWP1.1b 2020-06-29                            <Sample \"WP1.1b\">          []\nWP1.1c 2020-06-29                            <Sample \"WP1.1c\">          []\nWP1.1d 2020-06-29  Not sure what'll happen!  <Sample \"WP1.1d\">          []"
         },
         "metadata": {},
         "output_type": "display_data"
        }
       ]
      }
     },
     "ae7423a04f6d4071985f5baf86abad07": {
      "model_module": "@jupyter-widgets/controls",
      "model_module_version": "1.5.0",
      "model_name": "ButtonStyleModel",
      "state": {}
     },
     "b04dc1092d9242d0ad7c174f9b9d707a": {
      "model_module": "@jupyter-widgets/output",
      "model_module_version": "1.0.0",
      "model_name": "OutputModel",
      "state": {
       "layout": "IPY_MODEL_1af167f24e6940188cc75af0bd54032a",
       "outputs": [
        {
         "data": {
          "text/html": "<h3>Motivation</h3>",
          "text/plain": "<cassini.ipygui.WHTML at 0x197140be470>"
         },
         "metadata": {},
         "output_type": "display_data"
        }
       ]
      }
     },
     "b12a0bf7686a4d57bc9adb475696c85a": {
      "model_module": "@jupyter-widgets/output",
      "model_module_version": "1.0.0",
      "model_name": "OutputModel",
      "state": {
       "layout": "IPY_MODEL_48a9b23fc95e4e5398ae3aad9d75adfa",
       "outputs": [
        {
         "data": {
          "text/html": "<h3>New Sample</h3>",
          "text/plain": "<cassini.ipygui.WHTML at 0x1971413b898>"
         },
         "metadata": {},
         "output_type": "display_data"
        }
       ]
      }
     },
     "b1353ff76cb44bc3b2cd9ad8cb264570": {
      "model_module": "@jupyter-widgets/output",
      "model_module_version": "1.0.0",
      "model_name": "OutputModel",
      "state": {
       "layout": "IPY_MODEL_832ce554963c4447ac3410269a5a7e1b",
       "outputs": [
        {
         "data": {
          "text/html": "<h3>New Data</h3>",
          "text/plain": "<cassini.ipygui.WHTML at 0x19714205a90>"
         },
         "metadata": {},
         "output_type": "display_data"
        }
       ]
      }
     },
     "b1b8187a5445447c911148afe45a9550": {
      "model_module": "@jupyter-widgets/controls",
      "model_module_version": "1.5.0",
      "model_name": "SelectModel",
      "state": {
       "_options_labels": [
        "Sample.tmplt.ipynb",
        "simple.tmplt.txt"
       ],
       "description": "Template",
       "index": 0,
       "layout": "IPY_MODEL_3ec90233c619489b96bad1e0bb2d71ac",
       "style": "IPY_MODEL_bea1d921cb174310a2a0e7862c33f0ec"
      }
     },
     "b1cf4927d5414abf9f8cfec369e55563": {
      "model_module": "@jupyter-widgets/base",
      "model_module_version": "1.2.0",
      "model_name": "LayoutModel",
      "state": {}
     },
     "b24e1f28b0fc41c5b73afba53fd01df6": {
      "model_module": "@jupyter-widgets/controls",
      "model_module_version": "1.5.0",
      "model_name": "SelectModel",
      "state": {
       "_options_labels": [
        "Sample.tmplt.ipynb",
        "simple.tmplt.txt"
       ],
       "description": "Template",
       "disabled": true,
       "index": 0,
       "layout": "IPY_MODEL_6b19b143809d47b0b349305c30f75496",
       "style": "IPY_MODEL_de2cc68947a44c1c9852484d31849ba8"
      }
     },
     "b25a14f643514f51928d0a18225e16d8": {
      "model_module": "@jupyter-widgets/base",
      "model_module_version": "1.2.0",
      "model_name": "LayoutModel",
      "state": {
       "width": "auto"
      }
     },
     "b2db26c35c914bd48e8c964a1fff7d65": {
      "model_module": "@jupyter-widgets/base",
      "model_module_version": "1.2.0",
      "model_name": "LayoutModel",
      "state": {}
     },
     "b32c8d6ffa0f4076b0ef24e7ee04a3e5": {
      "model_module": "@jupyter-widgets/base",
      "model_module_version": "1.2.0",
      "model_name": "LayoutModel",
      "state": {}
     },
     "b34cdca05f094dd1bdad24043171c6fa": {
      "model_module": "@jupyter-widgets/output",
      "model_module_version": "1.0.0",
      "model_name": "OutputModel",
      "state": {
       "layout": "IPY_MODEL_1b31b3d7007c4e34a86499462f398ba2",
       "outputs": [
        {
         "data": {
          "text/html": "<a href=\"WP1.1/WP1.1a.ipynb\" target=\"_blank\"><h4 style=\"display: inline;\">WP1.1a</h4 style=\"display: inline;\"</a>",
          "text/plain": "<cassini.ipygui.WHTML at 0x197140be3c8>"
         },
         "metadata": {},
         "output_type": "display_data"
        }
       ]
      }
     },
     "b510b93c0e424775ad8050a0a10c783c": {
      "model_module": "@jupyter-widgets/output",
      "model_module_version": "1.0.0",
      "model_name": "OutputModel",
      "state": {
       "layout": "IPY_MODEL_6a480d0b218d465a9d80921ad6bead6b"
      }
     },
     "b62df23f8fd742649942350463926df4": {
      "model_module": "@jupyter-widgets/controls",
      "model_module_version": "1.5.0",
      "model_name": "VBoxModel",
      "state": {
       "children": [
        "IPY_MODEL_660bc4ebe9274401865fbd32a0fb1cb8",
        "IPY_MODEL_83431da498114900ba705b1bc1b8dbe0"
       ],
       "layout": "IPY_MODEL_e36e0ac515354ea2b0df0923c3dc47fa"
      }
     },
     "b77958b44fd048fc90e8c8c9a1db1249": {
      "model_module": "@jupyter-widgets/controls",
      "model_module_version": "1.5.0",
      "model_name": "ButtonStyleModel",
      "state": {}
     },
     "b81f4b6c77334ef4af2b241b35801d71": {
      "model_module": "@jupyter-widgets/controls",
      "model_module_version": "1.5.0",
      "model_name": "ButtonModel",
      "state": {
       "description": "Confirm",
       "disabled": true,
       "layout": "IPY_MODEL_b1cf4927d5414abf9f8cfec369e55563",
       "style": "IPY_MODEL_6fcaf68d2d564c08a873b913d5d2697c"
      }
     },
     "b93753edbdf14ddaaff9ddd4838a5400": {
      "model_module": "@jupyter-widgets/controls",
      "model_module_version": "1.5.0",
      "model_name": "DescriptionStyleModel",
      "state": {
       "description_width": "10%"
      }
     },
     "b9b8d460254740b4a3cf7e0f4dda83d9": {
      "model_module": "@jupyter-widgets/base",
      "model_module_version": "1.2.0",
      "model_name": "LayoutModel",
      "state": {}
     },
     "ba290f2b19a64b27a12c3f4df336ee55": {
      "model_module": "@jupyter-widgets/controls",
      "model_module_version": "1.5.0",
      "model_name": "SelectMultipleModel",
      "state": {
       "_options_labels": [
        "WP1.1a",
        "WP1.1b",
        "WP1.1c"
       ],
       "description": "Auto Add",
       "index": [],
       "layout": "IPY_MODEL_6a1e8feec7414e3796f9380efdc82e98",
       "rows": 5,
       "style": "IPY_MODEL_122888a77bd448e6bab3ecc3aab61845"
      }
     },
     "ba763292b76244e7b5862600a111f367": {
      "model_module": "@jupyter-widgets/base",
      "model_module_version": "1.2.0",
      "model_name": "LayoutModel",
      "state": {
       "width": "auto"
      }
     },
     "ba7be87162764576bf91244ebead1fdf": {
      "model_module": "@jupyter-widgets/controls",
      "model_module_version": "1.5.0",
      "model_name": "ButtonModel",
      "state": {
       "description": "New",
       "layout": "IPY_MODEL_8581012fffe1405aa0cf1559df4562d7",
       "style": "IPY_MODEL_b77958b44fd048fc90e8c8c9a1db1249"
      }
     },
     "bc3383749e2c4da49af7ecf92f31566a": {
      "model_module": "@jupyter-widgets/base",
      "model_module_version": "1.2.0",
      "model_name": "LayoutModel",
      "state": {}
     },
     "bc40224c72ff46faa6deddcd875b684a": {
      "model_module": "@jupyter-widgets/controls",
      "model_module_version": "1.5.0",
      "model_name": "ButtonModel",
      "state": {
       "description": "Confirm",
       "disabled": true,
       "layout": "IPY_MODEL_861debdbdfe444a18060dca175d46398",
       "style": "IPY_MODEL_941273a0fea04d6093569510eba8a0e4"
      }
     },
     "bc78878794ca4ac3814b46db5936a8a1": {
      "model_module": "@jupyter-widgets/base",
      "model_module_version": "1.2.0",
      "model_name": "LayoutModel",
      "state": {
       "width": "auto"
      }
     },
     "bca5f3a6bafb4755a89b922cff2d4652": {
      "model_module": "@jupyter-widgets/base",
      "model_module_version": "1.2.0",
      "model_name": "LayoutModel",
      "state": {}
     },
     "bce8961a3d604944bb4de1348587bfab": {
      "model_module": "@jupyter-widgets/controls",
      "model_module_version": "1.5.0",
      "model_name": "DescriptionStyleModel",
      "state": {
       "description_width": "10%"
      }
     },
     "bd2bad9313c1421b8690734375c09dbc": {
      "model_module": "@jupyter-widgets/base",
      "model_module_version": "1.2.0",
      "model_name": "LayoutModel",
      "state": {}
     },
     "be30e7b9b52f49a79b51f1d2356fcc2c": {
      "model_module": "@jupyter-widgets/controls",
      "model_module_version": "1.5.0",
      "model_name": "TextModel",
      "state": {
       "description": "Name:",
       "layout": "IPY_MODEL_e231aeba3c8c4cfe916cd1922cb14b29",
       "placeholder": "e.g. XRD",
       "style": "IPY_MODEL_bce8961a3d604944bb4de1348587bfab"
      }
     },
     "bea1d921cb174310a2a0e7862c33f0ec": {
      "model_module": "@jupyter-widgets/controls",
      "model_module_version": "1.5.0",
      "model_name": "DescriptionStyleModel",
      "state": {
       "description_width": "10%"
      }
     },
     "bea407a9f54c40ef9933e9bf97fcf299": {
      "model_module": "@jupyter-widgets/output",
      "model_module_version": "1.0.0",
      "model_name": "OutputModel",
      "state": {
       "layout": "IPY_MODEL_9e26b7b87b884f32b50d1f30fd9c33f5",
       "outputs": [
        {
         "data": {
          "text/html": "<h3>Samples</h3>",
          "text/plain": "<cassini.ipygui.WHTML at 0x1970bd40470>"
         },
         "metadata": {},
         "output_type": "display_data"
        }
       ]
      }
     },
     "bec8581c510d44dfb58c25eca63faa8a": {
      "model_module": "@jupyter-widgets/controls",
      "model_module_version": "1.5.0",
      "model_name": "SelectModel",
      "state": {
       "_options_labels": [
        "Sample.tmplt.ipynb",
        "simple.tmplt.txt"
       ],
       "description": "Template",
       "index": 0,
       "layout": "IPY_MODEL_b25a14f643514f51928d0a18225e16d8",
       "style": "IPY_MODEL_8b56fe322e914617bca71bb8c3467502"
      }
     },
     "bf61c8a5a58d46c892dfe6891e2e9e1f": {
      "model_module": "@jupyter-widgets/output",
      "model_module_version": "1.0.0",
      "model_name": "OutputModel",
      "state": {
       "layout": "IPY_MODEL_bca5f3a6bafb4755a89b922cff2d4652",
       "outputs": [
        {
         "data": {
          "text/html": "<table border=\"1\" class=\"dataframe\">\n  <thead>\n    <tr style=\"text-align: right;\">\n      <th></th>\n      <th>started</th>\n      <th>description</th>\n      <th>Hang On</th>\n      <th>Obj</th>\n      <th>datasets</th>\n    </tr>\n    <tr>\n      <th>Name</th>\n      <th></th>\n      <th></th>\n      <th></th>\n      <th></th>\n      <th></th>\n    </tr>\n  </thead>\n  <tbody>\n    <tr>\n      <th>WP1.1a</th>\n      <td>2020-06-29</td>\n      <td></td>\n      <td>None</td>\n      <td><a href=\"WP1.1/WP1.1a.ipynb\" target=\"_blank\"><h4 style=\"display: inline;\">WP1.1a</h4 style=\"display: inline;\"</a></td>\n      <td>[&#x27;Plotting&#x27;]</td>\n    </tr>\n    <tr>\n      <th>WP1.1b</th>\n      <td>2020-06-29</td>\n      <td></td>\n      <td>None</td>\n      <td><a href=\"WP1.1/WP1.1b.ipynb\" target=\"_blank\"><h4 style=\"display: inline;\">WP1.1b</h4 style=\"display: inline;\"</a></td>\n      <td>[]</td>\n    </tr>\n    <tr>\n      <th>WP1.1c</th>\n      <td>2020-06-29</td>\n      <td></td>\n      <td>now</td>\n      <td><a href=\"WP1.1/WP1.1c.ipynb\" target=\"_blank\"><h4 style=\"display: inline;\">WP1.1c</h4 style=\"display: inline;\"</a></td>\n      <td>[]</td>\n    </tr>\n    <tr>\n      <th>WP1.1d</th>\n      <td>2020-06-29</td>\n      <td>Not sure what&#x27;ll happen!</td>\n      <td>None</td>\n      <td><a href=\"WP1.1/WP1.1d.ipynb\" target=\"_blank\"><h4 style=\"display: inline;\">WP1.1d</h4 style=\"display: inline;\"</a></td>\n      <td>[]</td>\n    </tr>\n  </tbody>\n</table>",
          "text/plain": "          started               description Hang On                Obj  \\\nName                                                                     \nWP1.1a 2020-06-29                              None  <Sample \"WP1.1a\">   \nWP1.1b 2020-06-29                              None  <Sample \"WP1.1b\">   \nWP1.1c 2020-06-29                               now  <Sample \"WP1.1c\">   \nWP1.1d 2020-06-29  Not sure what'll happen!    None  <Sample \"WP1.1d\">   \n\n          datasets  \nName                \nWP1.1a  [Plotting]  \nWP1.1b          []  \nWP1.1c          []  \nWP1.1d          []  "
         },
         "metadata": {},
         "output_type": "display_data"
        }
       ]
      }
     },
     "c04267a3a754436db6bd1eead2c36a93": {
      "model_module": "@jupyter-widgets/controls",
      "model_module_version": "1.5.0",
      "model_name": "DescriptionStyleModel",
      "state": {
       "description_width": "10%"
      }
     },
     "c0dca00add6f43bb8451a35b891d60b8": {
      "model_module": "@jupyter-widgets/base",
      "model_module_version": "1.2.0",
      "model_name": "LayoutModel",
      "state": {
       "width": "auto"
      }
     },
     "c21d6925021b44669a31a5b7ac3dc16d": {
      "model_module": "@jupyter-widgets/base",
      "model_module_version": "1.2.0",
      "model_name": "LayoutModel",
      "state": {}
     },
     "c22a92796195452fba35cce880ec217f": {
      "model_module": "@jupyter-widgets/base",
      "model_module_version": "1.2.0",
      "model_name": "LayoutModel",
      "state": {
       "width": "auto"
      }
     },
     "c2a358197d32440f8867cf6cd737449a": {
      "model_module": "@jupyter-widgets/output",
      "model_module_version": "1.0.0",
      "model_name": "OutputModel",
      "state": {
       "layout": "IPY_MODEL_daec763ab32a4267aba2ce97bf828b84",
       "outputs": [
        {
         "data": {
          "text/html": "<a href=\"WP1.1/WP1.1d.ipynb\" target=\"_blank\"><h4 style=\"display: inline;\">WP1.1d</h4 style=\"display: inline;\"</a>",
          "text/plain": "<cassini.ipygui.WHTML at 0x197141c45c0>"
         },
         "metadata": {},
         "output_type": "display_data"
        }
       ]
      }
     },
     "c384eddcbd774d31ad0c90f584aa0706": {
      "model_module": "@jupyter-widgets/controls",
      "model_module_version": "1.5.0",
      "model_name": "ButtonStyleModel",
      "state": {}
     },
     "c4ee8a922edb40c29fc5383a082e8f0c": {
      "model_module": "@jupyter-widgets/controls",
      "model_module_version": "1.5.0",
      "model_name": "SelectMultipleModel",
      "state": {
       "description": "Auto Add",
       "index": [],
       "layout": "IPY_MODEL_61453ebc05474e2bbfbb762e8c484201",
       "rows": 5,
       "style": "IPY_MODEL_910bc1c948a44c1997be484941eb3cd4"
      }
     },
     "c4f2d607e7da4db184278a69a2e7f0ee": {
      "model_module": "@jupyter-widgets/controls",
      "model_module_version": "1.5.0",
      "model_name": "HBoxModel",
      "state": {
       "children": [
        "IPY_MODEL_41cc877c55cc43d7ad5f71432766ecce",
        "IPY_MODEL_6c575b39ca774215900b078ce5da40e2"
       ],
       "layout": "IPY_MODEL_f2d198f7e0b74bb2a93a7c6923271932"
      }
     },
     "c51069d959d64bf9ae456d3c399f3f2f": {
      "model_module": "@jupyter-widgets/controls",
      "model_module_version": "1.5.0",
      "model_name": "ButtonModel",
      "state": {
       "description": "Confirm",
       "disabled": true,
       "layout": "IPY_MODEL_455787803dd045239226e7a1bd2dd67e",
       "style": "IPY_MODEL_243bde1549ec475fba10593207c60b1b"
      }
     },
     "c5566b8dd9984f169262809474f00f3b": {
      "model_module": "@jupyter-widgets/base",
      "model_module_version": "1.2.0",
      "model_name": "LayoutModel",
      "state": {}
     },
     "c62593e4d73941ecb12dde9d688d38a2": {
      "model_module": "@jupyter-widgets/base",
      "model_module_version": "1.2.0",
      "model_name": "LayoutModel",
      "state": {
       "width": "auto"
      }
     },
     "c6517b3c326f4bdeb80635a17718ee00": {
      "model_module": "@jupyter-widgets/output",
      "model_module_version": "1.0.0",
      "model_name": "OutputModel",
      "state": {
       "layout": "IPY_MODEL_58eea66db74d4a7a9e398bd741c9f580",
       "outputs": [
        {
         "data": {
          "text/html": "<h3>Samples</h3>",
          "text/plain": "<cassini.ipygui.WHTML at 0x19714158780>"
         },
         "metadata": {},
         "output_type": "display_data"
        }
       ]
      }
     },
     "c67a695a49a844edabff18acbf8c826c": {
      "model_module": "@jupyter-widgets/controls",
      "model_module_version": "1.5.0",
      "model_name": "ButtonStyleModel",
      "state": {}
     },
     "c68fdde93dbe402fa8d41b5911a1ad44": {
      "model_module": "@jupyter-widgets/base",
      "model_module_version": "1.2.0",
      "model_name": "LayoutModel",
      "state": {}
     },
     "c6cbafdd61cc45b68b409642ef6d66fa": {
      "model_module": "@jupyter-widgets/controls",
      "model_module_version": "1.5.0",
      "model_name": "ButtonModel",
      "state": {
       "description": "Folder",
       "layout": "IPY_MODEL_cdd636592fa04c3b85e527d5c0a2acfa",
       "style": "IPY_MODEL_6e353c32635640aea2f009cab546d806"
      }
     },
     "c6fcccf2b33a4551ae9d93a902aadd8a": {
      "model_module": "@jupyter-widgets/controls",
      "model_module_version": "1.5.0",
      "model_name": "ButtonModel",
      "state": {
       "description": "Confirm",
       "disabled": true,
       "layout": "IPY_MODEL_d2602e61278e428e832bb21ffd1ebb0f",
       "style": "IPY_MODEL_e28be2c5dab14a5a9257efd1f4ac89a4"
      }
     },
     "c717dafb34874336a91d5d5c741b44e0": {
      "model_module": "@jupyter-widgets/base",
      "model_module_version": "1.2.0",
      "model_name": "LayoutModel",
      "state": {}
     },
     "c7d050572dc64b3fa8fcbdf76154eb5c": {
      "model_module": "@jupyter-widgets/controls",
      "model_module_version": "1.5.0",
      "model_name": "DescriptionStyleModel",
      "state": {
       "description_width": "10%"
      }
     },
     "c82bc89a5c874876ab46c6d0c840ef7d": {
      "model_module": "@jupyter-widgets/controls",
      "model_module_version": "1.5.0",
      "model_name": "HBoxModel",
      "state": {
       "children": [
        "IPY_MODEL_b81f4b6c77334ef4af2b241b35801d71",
        "IPY_MODEL_079c02ea8a15470db35bd929defaa1c7"
       ],
       "layout": "IPY_MODEL_7e8c39ca4e894524809f45e4a5991f8b"
      }
     },
     "c8848fd785e3450db5eff5e73efcc17c": {
      "model_module": "@jupyter-widgets/controls",
      "model_module_version": "1.5.0",
      "model_name": "ButtonStyleModel",
      "state": {}
     },
     "c8f9ceb07b28445b8f90acbb9bb05ff0": {
      "model_module": "@jupyter-widgets/controls",
      "model_module_version": "1.5.0",
      "model_name": "VBoxModel",
      "state": {
       "children": [
        "IPY_MODEL_a34148e6b89d4e1595acc126df7ddc7e",
        "IPY_MODEL_bec8581c510d44dfb58c25eca63faa8a",
        "IPY_MODEL_8bf1650e36a3460abf99fef9184aef03",
        "IPY_MODEL_9b4eb45bd48b42148aee4f94e9431a14",
        "IPY_MODEL_d5bf3b5b95424205957e13c83bf957d1"
       ],
       "layout": "IPY_MODEL_0e2bfaa98d4441fab7722c44320a59f1"
      }
     },
     "c9375f98dad741babdb81dbd844a0aa7": {
      "model_module": "@jupyter-widgets/base",
      "model_module_version": "1.2.0",
      "model_name": "LayoutModel",
      "state": {
       "width": "auto"
      }
     },
     "c95351758bd64b339e9f5fc995ce6e80": {
      "model_module": "@jupyter-widgets/controls",
      "model_module_version": "1.5.0",
      "model_name": "ButtonStyleModel",
      "state": {}
     },
     "ca96b6dfbede44a3acb41aea597802ab": {
      "model_module": "@jupyter-widgets/controls",
      "model_module_version": "1.5.0",
      "model_name": "ButtonModel",
      "state": {
       "description": "Folder",
       "layout": "IPY_MODEL_2c4120390b5c4878900624c1ffe9d0d7",
       "style": "IPY_MODEL_de2a25d08cbd42ae9713905498a554fe"
      }
     },
     "cb60c5aca55c4a4689a7a18a9cb7a72f": {
      "model_module": "@jupyter-widgets/base",
      "model_module_version": "1.2.0",
      "model_name": "LayoutModel",
      "state": {
       "width": "auto"
      }
     },
     "cbec902505c447169579c3372770a838": {
      "model_module": "@jupyter-widgets/output",
      "model_module_version": "1.0.0",
      "model_name": "OutputModel",
      "state": {
       "layout": "IPY_MODEL_83c146225142437d9d9748520e9942b7",
       "outputs": [
        {
         "data": {
          "text/html": "<h3>New Data</h3>",
          "text/plain": "<cassini.ipygui.WHTML at 0x197141ef0f0>"
         },
         "metadata": {},
         "output_type": "display_data"
        }
       ]
      }
     },
     "ccc9d98aa0bd46aeb58ffc0b92ca9929": {
      "model_module": "@jupyter-widgets/controls",
      "model_module_version": "1.5.0",
      "model_name": "ButtonStyleModel",
      "state": {}
     },
     "cdc7d1405c804666ac33f63bb91ca5b7": {
      "model_module": "@jupyter-widgets/output",
      "model_module_version": "1.0.0",
      "model_name": "OutputModel",
      "state": {
       "layout": "IPY_MODEL_ea5aa28f3ad2489eb2a3c7b78bc9fb81",
       "outputs": [
        {
         "data": {
          "text/markdown": "Fine",
          "text/plain": "<IPython.core.display.Markdown object>"
         },
         "metadata": {},
         "output_type": "display_data"
        }
       ]
      }
     },
     "cdd636592fa04c3b85e527d5c0a2acfa": {
      "model_module": "@jupyter-widgets/base",
      "model_module_version": "1.2.0",
      "model_name": "LayoutModel",
      "state": {}
     },
     "cddb8a893ff842389e4fa0a96aea91aa": {
      "model_module": "@jupyter-widgets/base",
      "model_module_version": "1.2.0",
      "model_name": "LayoutModel",
      "state": {
       "width": "auto"
      }
     },
     "ce78aade80a0476994e8c2cf5c548798": {
      "model_module": "@jupyter-widgets/base",
      "model_module_version": "1.2.0",
      "model_name": "LayoutModel",
      "state": {}
     },
     "ce978afb7dfb48eb8ff59a0ab4f40119": {
      "model_module": "@jupyter-widgets/base",
      "model_module_version": "1.2.0",
      "model_name": "LayoutModel",
      "state": {}
     },
     "cea848b5c98e47ccb8c9033f8fa16052": {
      "model_module": "@jupyter-widgets/controls",
      "model_module_version": "1.5.0",
      "model_name": "DescriptionStyleModel",
      "state": {
       "description_width": "10%"
      }
     },
     "cef73018b60f4eca9bd98ea50a3455a8": {
      "model_module": "@jupyter-widgets/output",
      "model_module_version": "1.0.0",
      "model_name": "OutputModel",
      "state": {
       "layout": "IPY_MODEL_d4d375306ff74d21b381423f17f33707",
       "outputs": [
        {
         "data": {
          "text/html": "<table border=\"1\" class=\"dataframe\">\n  <thead>\n    <tr style=\"text-align: right;\">\n      <th></th>\n      <th>started</th>\n      <th>description</th>\n      <th>Obj</th>\n      <th>datasets</th>\n    </tr>\n    <tr>\n      <th>Name</th>\n      <th></th>\n      <th></th>\n      <th></th>\n      <th></th>\n    </tr>\n  </thead>\n  <tbody>\n    <tr>\n      <th>WP1.1a</th>\n      <td>2020-06-29</td>\n      <td></td>\n      <td><a href=\"WP1.1/WP1.1a.ipynb\" target=\"_blank\"><h4 style=\"display: inline;\">WP1.1a</h4 style=\"display: inline;\"</a></td>\n      <td>[&#x27;Plotting&#x27;]</td>\n    </tr>\n    <tr>\n      <th>WP1.1b</th>\n      <td>2020-06-29</td>\n      <td></td>\n      <td><a href=\"WP1.1/WP1.1b.ipynb\" target=\"_blank\"><h4 style=\"display: inline;\">WP1.1b</h4 style=\"display: inline;\"</a></td>\n      <td>[]</td>\n    </tr>\n    <tr>\n      <th>WP1.1c</th>\n      <td>2020-06-29</td>\n      <td></td>\n      <td><a href=\"WP1.1/WP1.1c.ipynb\" target=\"_blank\"><h4 style=\"display: inline;\">WP1.1c</h4 style=\"display: inline;\"</a></td>\n      <td>[]</td>\n    </tr>\n  </tbody>\n</table>",
          "text/plain": "          started description                Obj    datasets\nName                                                        \nWP1.1a 2020-06-29              <Sample \"WP1.1a\">  [Plotting]\nWP1.1b 2020-06-29              <Sample \"WP1.1b\">          []\nWP1.1c 2020-06-29              <Sample \"WP1.1c\">          []"
         },
         "metadata": {},
         "output_type": "display_data"
        }
       ]
      }
     },
     "cf0362f9306545d4b5f791f58fa9cd2d": {
      "model_module": "@jupyter-widgets/base",
      "model_module_version": "1.2.0",
      "model_name": "LayoutModel",
      "state": {
       "width": "auto"
      }
     },
     "cfd5e60b7e5a418688c238f470430640": {
      "model_module": "@jupyter-widgets/output",
      "model_module_version": "1.0.0",
      "model_name": "OutputModel",
      "state": {
       "layout": "IPY_MODEL_5ed708af955b4b82bcadb43ffc2645d9"
      }
     },
     "cfff6fac80b147cc8222413341ebeede": {
      "model_module": "@jupyter-widgets/controls",
      "model_module_version": "1.5.0",
      "model_name": "ButtonModel",
      "state": {
       "description": "New",
       "layout": "IPY_MODEL_a782484a68714bc6839101019e735b7f",
       "style": "IPY_MODEL_4f0dedd2ef8245cd9f1c3bd3f28030c7"
      }
     },
     "d038b1a2fe394e6c8b8a976349501a81": {
      "model_module": "@jupyter-widgets/controls",
      "model_module_version": "1.5.0",
      "model_name": "TextareaModel",
      "state": {
       "description": "Motivation",
       "layout": "IPY_MODEL_01d031149dec44be8bef3cccedb6b715",
       "style": "IPY_MODEL_c04267a3a754436db6bd1eead2c36a93"
      }
     },
     "d0e0c827d11e4f85ac462da971f55fe1": {
      "model_module": "@jupyter-widgets/base",
      "model_module_version": "1.2.0",
      "model_name": "LayoutModel",
      "state": {}
     },
     "d23bad89bf934b999aa1ee0c4206bf1a": {
      "model_module": "@jupyter-widgets/base",
      "model_module_version": "1.2.0",
      "model_name": "LayoutModel",
      "state": {}
     },
     "d2602e61278e428e832bb21ffd1ebb0f": {
      "model_module": "@jupyter-widgets/base",
      "model_module_version": "1.2.0",
      "model_name": "LayoutModel",
      "state": {}
     },
     "d2a3969525b7474b9c7d0501ef4b49bf": {
      "model_module": "@jupyter-widgets/output",
      "model_module_version": "1.0.0",
      "model_name": "OutputModel",
      "state": {
       "layout": "IPY_MODEL_276f831f4bbf43ce944a2e7bb2517ff9"
      }
     },
     "d44b2befa6aa4695baa555d10841e071": {
      "model_module": "@jupyter-widgets/base",
      "model_module_version": "1.2.0",
      "model_name": "LayoutModel",
      "state": {}
     },
     "d490bd1b71cd466882d48be0e6eda280": {
      "model_module": "@jupyter-widgets/output",
      "model_module_version": "1.0.0",
      "model_name": "OutputModel",
      "state": {
       "layout": "IPY_MODEL_431531ee84054694a7bf915095ff2be0",
       "outputs": [
        {
         "data": {
          "text/html": "<h3>New Data</h3>",
          "text/plain": "<cassini.ipygui.WHTML at 0x197141c4518>"
         },
         "metadata": {},
         "output_type": "display_data"
        }
       ]
      }
     },
     "d4d375306ff74d21b381423f17f33707": {
      "model_module": "@jupyter-widgets/base",
      "model_module_version": "1.2.0",
      "model_name": "LayoutModel",
      "state": {}
     },
     "d4f8fdddebce4260822a3839352ffe63": {
      "model_module": "@jupyter-widgets/base",
      "model_module_version": "1.2.0",
      "model_name": "LayoutModel",
      "state": {}
     },
     "d51a653ba9cd4a3983def43ab7c89002": {
      "model_module": "@jupyter-widgets/base",
      "model_module_version": "1.2.0",
      "model_name": "LayoutModel",
      "state": {}
     },
     "d5bf3b5b95424205957e13c83bf957d1": {
      "model_module": "@jupyter-widgets/output",
      "model_module_version": "1.0.0",
      "model_name": "OutputModel",
      "state": {
       "layout": "IPY_MODEL_bd2bad9313c1421b8690734375c09dbc"
      }
     },
     "d5df698948de483f8774604962511d04": {
      "model_module": "@jupyter-widgets/output",
      "model_module_version": "1.0.0",
      "model_name": "OutputModel",
      "state": {
       "layout": "IPY_MODEL_1eedba8ea5034ad4967521c3507ee57f",
       "outputs": [
        {
         "data": {
          "text/html": "<h3>Samples</h3>",
          "text/plain": "<cassini.ipygui.WHTML at 0x1971421d7f0>"
         },
         "metadata": {},
         "output_type": "display_data"
        }
       ]
      }
     },
     "d8147205de814c469b6c23478415e280": {
      "model_module": "@jupyter-widgets/base",
      "model_module_version": "1.2.0",
      "model_name": "LayoutModel",
      "state": {}
     },
     "d8202424263840729276bcee5bee2620": {
      "model_module": "@jupyter-widgets/base",
      "model_module_version": "1.2.0",
      "model_name": "LayoutModel",
      "state": {
       "width": "auto"
      }
     },
     "d9e79cfda9e040a185043a8b5cbe09f5": {
      "model_module": "@jupyter-widgets/output",
      "model_module_version": "1.0.0",
      "model_name": "OutputModel",
      "state": {
       "layout": "IPY_MODEL_d51a653ba9cd4a3983def43ab7c89002",
       "outputs": [
        {
         "data": {
          "text/markdown": "Fine",
          "text/plain": "<IPython.core.display.Markdown object>"
         },
         "metadata": {},
         "output_type": "display_data"
        }
       ]
      }
     },
     "da2307e2e7b74941b37acdbcfa6aa735": {
      "model_module": "@jupyter-widgets/controls",
      "model_module_version": "1.5.0",
      "model_name": "DescriptionStyleModel",
      "state": {
       "description_width": "10%"
      }
     },
     "dadba2868aa047eaa5bc3b65f57c6d08": {
      "model_module": "@jupyter-widgets/output",
      "model_module_version": "1.0.0",
      "model_name": "OutputModel",
      "state": {
       "layout": "IPY_MODEL_59b91183fc9f4a108f292e9cf37c8cb6"
      }
     },
     "daebc93ccebc4cd29267a41e9c6601ee": {
      "model_module": "@jupyter-widgets/base",
      "model_module_version": "1.2.0",
      "model_name": "LayoutModel",
      "state": {}
     },
     "daec763ab32a4267aba2ce97bf828b84": {
      "model_module": "@jupyter-widgets/base",
      "model_module_version": "1.2.0",
      "model_name": "LayoutModel",
      "state": {}
     },
     "db6532163d3d404786890d76e22ec50a": {
      "model_module": "@jupyter-widgets/base",
      "model_module_version": "1.2.0",
      "model_name": "LayoutModel",
      "state": {}
     },
     "dcef87ae531449ac8f7beb689d6c332e": {
      "model_module": "@jupyter-widgets/base",
      "model_module_version": "1.2.0",
      "model_name": "LayoutModel",
      "state": {}
     },
     "de2a25d08cbd42ae9713905498a554fe": {
      "model_module": "@jupyter-widgets/controls",
      "model_module_version": "1.5.0",
      "model_name": "ButtonStyleModel",
      "state": {}
     },
     "de2cc68947a44c1c9852484d31849ba8": {
      "model_module": "@jupyter-widgets/controls",
      "model_module_version": "1.5.0",
      "model_name": "DescriptionStyleModel",
      "state": {
       "description_width": "10%"
      }
     },
     "dece851ff7c64236806834e441dcee9b": {
      "model_module": "@jupyter-widgets/base",
      "model_module_version": "1.2.0",
      "model_name": "LayoutModel",
      "state": {
       "width": "auto"
      }
     },
     "e0dd01d575984f9ca64347ba3c787424": {
      "model_module": "@jupyter-widgets/base",
      "model_module_version": "1.2.0",
      "model_name": "LayoutModel",
      "state": {}
     },
     "e128dc25b591407b89ed99b406ddf977": {
      "model_module": "@jupyter-widgets/controls",
      "model_module_version": "1.5.0",
      "model_name": "ButtonModel",
      "state": {
       "description": "New",
       "layout": "IPY_MODEL_b9b8d460254740b4a3cf7e0f4dda83d9",
       "style": "IPY_MODEL_30584b74988447cdb9e396362c0f93e9"
      }
     },
     "e231aeba3c8c4cfe916cd1922cb14b29": {
      "model_module": "@jupyter-widgets/base",
      "model_module_version": "1.2.0",
      "model_name": "LayoutModel",
      "state": {
       "width": "auto"
      }
     },
     "e27dc309678547d4ba5fd70d25ee1b38": {
      "model_module": "@jupyter-widgets/controls",
      "model_module_version": "1.5.0",
      "model_name": "SelectMultipleModel",
      "state": {
       "_options_labels": [
        "WP1.1a",
        "WP1.1b",
        "WP1.1c",
        "WP1.1d"
       ],
       "description": "Auto Add",
       "index": [],
       "layout": "IPY_MODEL_c62593e4d73941ecb12dde9d688d38a2",
       "rows": 5,
       "style": "IPY_MODEL_fd7974679d1548d9829c8915864e2a40"
      }
     },
     "e28be2c5dab14a5a9257efd1f4ac89a4": {
      "model_module": "@jupyter-widgets/controls",
      "model_module_version": "1.5.0",
      "model_name": "ButtonStyleModel",
      "state": {}
     },
     "e35481c772d14619b3812f6105c69787": {
      "model_module": "@jupyter-widgets/output",
      "model_module_version": "1.0.0",
      "model_name": "OutputModel",
      "state": {
       "layout": "IPY_MODEL_ba763292b76244e7b5862600a111f367"
      }
     },
     "e36e0ac515354ea2b0df0923c3dc47fa": {
      "model_module": "@jupyter-widgets/base",
      "model_module_version": "1.2.0",
      "model_name": "LayoutModel",
      "state": {}
     },
     "e46bac6b32b74ebdb0dbedd65e0b9f00": {
      "model_module": "@jupyter-widgets/controls",
      "model_module_version": "1.5.0",
      "model_name": "VBoxModel",
      "state": {
       "children": [
        "IPY_MODEL_523c471384fa433cb08d2d569855f960",
        "IPY_MODEL_e59e837e140d4509bf443567734ef7c8",
        "IPY_MODEL_8ee3f98ff5204e1cb5519262528656a5",
        "IPY_MODEL_bea407a9f54c40ef9933e9bf97fcf299",
        "IPY_MODEL_cef73018b60f4eca9bd98ea50a3455a8",
        "IPY_MODEL_eefac998478c4224a4648e4daefda438",
        "IPY_MODEL_7bc9395d4b414382ab6da79d988250e6",
        "IPY_MODEL_cbec902505c447169579c3372770a838",
        "IPY_MODEL_a3a312b206b7433f9146fa2920c3881c"
       ],
       "layout": "IPY_MODEL_0256872bc3144c4192f30c37aa8d6cc8"
      }
     },
     "e4cfbda6e30b49c2ad69488949164f6e": {
      "model_module": "@jupyter-widgets/base",
      "model_module_version": "1.2.0",
      "model_name": "LayoutModel",
      "state": {
       "width": "auto"
      }
     },
     "e59e837e140d4509bf443567734ef7c8": {
      "model_module": "@jupyter-widgets/output",
      "model_module_version": "1.0.0",
      "model_name": "OutputModel",
      "state": {
       "layout": "IPY_MODEL_a5ab8a72903a4f7993ed21733f29a2f1",
       "outputs": [
        {
         "data": {
          "text/html": "<h3>Motivation</h3>",
          "text/plain": "<cassini.ipygui.WHTML at 0x197141580f0>"
         },
         "metadata": {},
         "output_type": "display_data"
        }
       ]
      }
     },
     "e968fef9c3084271869bfa54affc79dd": {
      "model_module": "@jupyter-widgets/base",
      "model_module_version": "1.2.0",
      "model_name": "LayoutModel",
      "state": {}
     },
     "e96d8de359974e56ad696a55adcc158a": {
      "model_module": "@jupyter-widgets/output",
      "model_module_version": "1.0.0",
      "model_name": "OutputModel",
      "state": {
       "layout": "IPY_MODEL_210219a672494c569d6e86ac60911099",
       "outputs": [
        {
         "data": {
          "text/markdown": "Fine",
          "text/plain": "<IPython.core.display.Markdown object>"
         },
         "metadata": {},
         "output_type": "display_data"
        }
       ]
      }
     },
     "ea3dbf5871d64b93853d674faf9fd12e": {
      "model_module": "@jupyter-widgets/output",
      "model_module_version": "1.0.0",
      "model_name": "OutputModel",
      "state": {
       "layout": "IPY_MODEL_6c3d091dcdda4f55b216b2e8151eb1cd",
       "outputs": [
        {
         "name": "stdout",
         "output_type": "stream",
         "text": "Creating files for WP1.1a\nMeta (D:\\Documents\\Programin\\WorkingVersions\\cassini\\dev\\examples\\default\\WorkPackages\\WP1\\WP1.1\\.smpls\\WP1.1a.json)\nWriting Meta Data\nSuccess\nCreating Tier File (D:\\Documents\\Programin\\WorkingVersions\\cassini\\dev\\examples\\default\\WorkPackages\\WP1\\WP1.1\\WP1.1a.ipynb) using template (Sample\\Sample.tmplt.ipynb)\nSuccess\nCreating Tier Folder (D:\\Documents\\Programin\\WorkingVersions\\cassini\\dev\\examples\\default\\WorkPackages\\WP1\\WP1.1)\nSuccess\nAll Done\n"
        },
        {
         "data": {
          "application/vnd.jupyter.widget-view+json": {
           "model_id": "b34cdca05f094dd1bdad24043171c6fa",
           "version_major": 2,
           "version_minor": 0
          },
          "text/plain": "Output()"
         },
         "metadata": {},
         "output_type": "display_data"
        },
        {
         "name": "stdout",
         "output_type": "stream",
         "text": "Creating files for WP1.1b\nMeta (D:\\Documents\\Programin\\WorkingVersions\\cassini\\dev\\examples\\default\\WorkPackages\\WP1\\WP1.1\\.smpls\\WP1.1b.json)\nWriting Meta Data\nSuccess\nCreating Tier File (D:\\Documents\\Programin\\WorkingVersions\\cassini\\dev\\examples\\default\\WorkPackages\\WP1\\WP1.1\\WP1.1b.ipynb) using template (Sample\\Sample.tmplt.ipynb)\nSuccess\nCreating Tier Folder (D:\\Documents\\Programin\\WorkingVersions\\cassini\\dev\\examples\\default\\WorkPackages\\WP1\\WP1.1)\nSuccess\nAll Done\n"
        },
        {
         "data": {
          "application/vnd.jupyter.widget-view+json": {
           "model_id": "07a3b346eb7040ca8c23106be5b22e73",
           "version_major": 2,
           "version_minor": 0
          },
          "text/plain": "Output()"
         },
         "metadata": {},
         "output_type": "display_data"
        },
        {
         "name": "stdout",
         "output_type": "stream",
         "text": "Creating files for WP1.1c\nMeta (D:\\Documents\\Programin\\WorkingVersions\\cassini\\dev\\examples\\default\\WorkPackages\\WP1\\WP1.1\\.smpls\\WP1.1c.json)\nWriting Meta Data\nSuccess\nCreating Tier File (D:\\Documents\\Programin\\WorkingVersions\\cassini\\dev\\examples\\default\\WorkPackages\\WP1\\WP1.1\\WP1.1c.ipynb) using template (Sample\\Sample.tmplt.ipynb)\nSuccess\nCreating Tier Folder (D:\\Documents\\Programin\\WorkingVersions\\cassini\\dev\\examples\\default\\WorkPackages\\WP1\\WP1.1)\nSuccess\nAll Done\n"
        },
        {
         "data": {
          "application/vnd.jupyter.widget-view+json": {
           "model_id": "6bd24e0e256245dfa845c000445efd2e",
           "version_major": 2,
           "version_minor": 0
          },
          "text/plain": "Output()"
         },
         "metadata": {},
         "output_type": "display_data"
        }
       ]
      }
     },
     "ea42473b774648e8b3215f8e4566fef4": {
      "model_module": "@jupyter-widgets/base",
      "model_module_version": "1.2.0",
      "model_name": "LayoutModel",
      "state": {}
     },
     "ea5aa28f3ad2489eb2a3c7b78bc9fb81": {
      "model_module": "@jupyter-widgets/base",
      "model_module_version": "1.2.0",
      "model_name": "LayoutModel",
      "state": {}
     },
     "eabc0cb67a534b7197a0d8169a9e5b94": {
      "model_module": "@jupyter-widgets/base",
      "model_module_version": "1.2.0",
      "model_name": "LayoutModel",
      "state": {}
     },
     "eaf2499267614459ad5de5360d6473ad": {
      "model_module": "@jupyter-widgets/controls",
      "model_module_version": "1.5.0",
      "model_name": "DescriptionStyleModel",
      "state": {
       "description_width": "10%"
      }
     },
     "eb50a720edea4950bdd3afa7e8db7bb8": {
      "model_module": "@jupyter-widgets/controls",
      "model_module_version": "1.5.0",
      "model_name": "ButtonStyleModel",
      "state": {}
     },
     "eba9fec153de4b949b919f03b65d44da": {
      "model_module": "@jupyter-widgets/controls",
      "model_module_version": "1.5.0",
      "model_name": "ButtonModel",
      "state": {
       "description": "Confirm",
       "disabled": true,
       "layout": "IPY_MODEL_fdcb2e3c0d6040e596b840b05357b6b7",
       "style": "IPY_MODEL_eb50a720edea4950bdd3afa7e8db7bb8"
      }
     },
     "ec5c5d5045ba4512965951c39a9f4a0b": {
      "model_module": "@jupyter-widgets/base",
      "model_module_version": "1.2.0",
      "model_name": "LayoutModel",
      "state": {}
     },
     "ec8bcb85e87047b2adf213dd13259f07": {
      "model_module": "@jupyter-widgets/controls",
      "model_module_version": "1.5.0",
      "model_name": "ButtonStyleModel",
      "state": {}
     },
     "ec9c285e7efd4efc9679aebc5c25f9d8": {
      "model_module": "@jupyter-widgets/output",
      "model_module_version": "1.0.0",
      "model_name": "OutputModel",
      "state": {
       "layout": "IPY_MODEL_9ac31c592397453f946a56043e51200d",
       "outputs": [
        {
         "data": {
          "text/html": "<h3>Motivation</h3>",
          "text/plain": "<cassini.ipygui.WHTML at 0x19714217630>"
         },
         "metadata": {},
         "output_type": "display_data"
        }
       ]
      }
     },
     "eed801267e2e4e9eba7b29be355bfda3": {
      "model_module": "@jupyter-widgets/controls",
      "model_module_version": "1.5.0",
      "model_name": "ButtonModel",
      "state": {
       "description": "Folder",
       "layout": "IPY_MODEL_5dcabb14ba0c4ad19813f7ead014f88f",
       "style": "IPY_MODEL_ccc9d98aa0bd46aeb58ffc0b92ca9929"
      }
     },
     "eeee41fabaf54bb0baaa587a9963dbab": {
      "model_module": "@jupyter-widgets/controls",
      "model_module_version": "1.5.0",
      "model_name": "ButtonStyleModel",
      "state": {}
     },
     "eefac998478c4224a4648e4daefda438": {
      "model_module": "@jupyter-widgets/output",
      "model_module_version": "1.0.0",
      "model_name": "OutputModel",
      "state": {
       "layout": "IPY_MODEL_95e1d07999924868b37962ff4a3944e2",
       "outputs": [
        {
         "data": {
          "text/html": "<h3>New Sample</h3>",
          "text/plain": "<cassini.ipygui.WHTML at 0x19714164710>"
         },
         "metadata": {},
         "output_type": "display_data"
        }
       ]
      }
     },
     "f02576e75c1540e183da662a6724710b": {
      "model_module": "@jupyter-widgets/controls",
      "model_module_version": "1.5.0",
      "model_name": "VBoxModel",
      "state": {
       "children": [
        "IPY_MODEL_9d3f5aa4f33c41e4998085e9d341c500",
        "IPY_MODEL_35d512b670844a42b059a25b21a8cda8",
        "IPY_MODEL_40d0914254fd44a9b027fd9f9533704e",
        "IPY_MODEL_4a854c0564dc4d32a99f13b002a21736",
        "IPY_MODEL_8ce43de097654f2696d384199ea1f4c5"
       ],
       "layout": "IPY_MODEL_0120ee4120954714a0d4f501756ceb8c"
      }
     },
     "f0a59a40b949469d888783cb9c41000b": {
      "model_module": "@jupyter-widgets/controls",
      "model_module_version": "1.5.0",
      "model_name": "ButtonStyleModel",
      "state": {}
     },
     "f0b537fea9aa4a2ea721ef632a249d64": {
      "model_module": "@jupyter-widgets/controls",
      "model_module_version": "1.5.0",
      "model_name": "ButtonModel",
      "state": {
       "description": "New",
       "layout": "IPY_MODEL_319d01b893bb457d9b48116a2dbcf73e",
       "style": "IPY_MODEL_c67a695a49a844edabff18acbf8c826c"
      }
     },
     "f1120cdd15804a0eaa8ef2b905778abc": {
      "model_module": "@jupyter-widgets/base",
      "model_module_version": "1.2.0",
      "model_name": "LayoutModel",
      "state": {
       "width": "auto"
      }
     },
     "f17add31ffa24becae4e333f4c0601a8": {
      "model_module": "@jupyter-widgets/controls",
      "model_module_version": "1.5.0",
      "model_name": "ButtonModel",
      "state": {
       "description": "New",
       "layout": "IPY_MODEL_e0dd01d575984f9ca64347ba3c787424",
       "style": "IPY_MODEL_a56f2986753f425b8f4b0b5bda37c92f"
      }
     },
     "f2358f92c35f46b587d35e2d5c63343e": {
      "model_module": "@jupyter-widgets/base",
      "model_module_version": "1.2.0",
      "model_name": "LayoutModel",
      "state": {}
     },
     "f2d198f7e0b74bb2a93a7c6923271932": {
      "model_module": "@jupyter-widgets/base",
      "model_module_version": "1.2.0",
      "model_name": "LayoutModel",
      "state": {}
     },
     "f3790614b55942c6bc5cd80869661fa8": {
      "model_module": "@jupyter-widgets/controls",
      "model_module_version": "1.5.0",
      "model_name": "ButtonModel",
      "state": {
       "description": "Confirm",
       "disabled": true,
       "layout": "IPY_MODEL_4b513f681fc34912964844e231687113",
       "style": "IPY_MODEL_c384eddcbd774d31ad0c90f584aa0706"
      }
     },
     "f3894db1f6c846128a09254bf658cac4": {
      "model_module": "@jupyter-widgets/base",
      "model_module_version": "1.2.0",
      "model_name": "LayoutModel",
      "state": {}
     },
     "f3e67289fc91441185a09923646b68c1": {
      "model_module": "@jupyter-widgets/base",
      "model_module_version": "1.2.0",
      "model_name": "LayoutModel",
      "state": {}
     },
     "f4a0e9a061cb435d932548979905f00b": {
      "model_module": "@jupyter-widgets/base",
      "model_module_version": "1.2.0",
      "model_name": "LayoutModel",
      "state": {
       "width": "auto"
      }
     },
     "f4dfa37d33be4e249d6b7be0f286d08d": {
      "model_module": "@jupyter-widgets/controls",
      "model_module_version": "1.5.0",
      "model_name": "VBoxModel",
      "state": {
       "children": [
        "IPY_MODEL_716873fe24d74482a3a537cc77dca650",
        "IPY_MODEL_ca96b6dfbede44a3acb41aea597802ab"
       ],
       "layout": "IPY_MODEL_2e595efbc9d44eb68b3a7d94fc309114"
      }
     },
     "f5fc737659ba4cb1b6e5550fd2be22dc": {
      "model_module": "@jupyter-widgets/controls",
      "model_module_version": "1.5.0",
      "model_name": "ButtonStyleModel",
      "state": {}
     },
     "f63657bbb1fb4686b302b7c42ca6dc4a": {
      "model_module": "@jupyter-widgets/controls",
      "model_module_version": "1.5.0",
      "model_name": "VBoxModel",
      "state": {
       "children": [
        "IPY_MODEL_9e6cdf4390a843a9a351ba4ec093f6cf",
        "IPY_MODEL_ba290f2b19a64b27a12c3f4df336ee55",
        "IPY_MODEL_7581fc56603743a4ad0477f8a3f319a7",
        "IPY_MODEL_266c3a404839472e907d695ad6f4e198"
       ],
       "layout": "IPY_MODEL_48d2298385e045ca93757bd325b1a4b2"
      }
     },
     "f6950d6328d34cbe8c7a6fe75a4fc56d": {
      "model_module": "@jupyter-widgets/controls",
      "model_module_version": "1.5.0",
      "model_name": "ButtonModel",
      "state": {
       "description": "Folder",
       "layout": "IPY_MODEL_ff704d67bdb34a159e20d01c50fda53c",
       "style": "IPY_MODEL_eeee41fabaf54bb0baaa587a9963dbab"
      }
     },
     "f718d9c4721e4468a9a4683bf772c888": {
      "model_module": "@jupyter-widgets/controls",
      "model_module_version": "1.5.0",
      "model_name": "DescriptionStyleModel",
      "state": {
       "description_width": "10%"
      }
     },
     "f7282a0e5b1f474f82d6c749ddba8099": {
      "model_module": "@jupyter-widgets/controls",
      "model_module_version": "1.5.0",
      "model_name": "VBoxModel",
      "state": {
       "children": [
        "IPY_MODEL_97f48581234547e69ab6947267d71b3d",
        "IPY_MODEL_26d3a046c741468a8c420388b2682d5b",
        "IPY_MODEL_cdc7d1405c804666ac33f63bb91ca5b7",
        "IPY_MODEL_d5df698948de483f8774604962511d04",
        "IPY_MODEL_fe1164a69560426e8fb70afbbb161a8a",
        "IPY_MODEL_999ccc5e82e2457090d91d0788db071b",
        "IPY_MODEL_17d60310812642d2b445f139caee9940",
        "IPY_MODEL_1d483c3904f94b119d90342cecf411ed",
        "IPY_MODEL_784bfa720bb043288f626edf8d61170a"
       ],
       "layout": "IPY_MODEL_6ff44d94ccdf4b3aab1cea389fcc9935"
      }
     },
     "f82de01eb18c45fc8dce652455282987": {
      "model_module": "@jupyter-widgets/controls",
      "model_module_version": "1.5.0",
      "model_name": "ButtonStyleModel",
      "state": {}
     },
     "f9087d0259084eceaad983898a7e8734": {
      "model_module": "@jupyter-widgets/base",
      "model_module_version": "1.2.0",
      "model_name": "LayoutModel",
      "state": {
       "width": "auto"
      }
     },
     "fcca37e3170e446aa4ddcd32c5066994": {
      "model_module": "@jupyter-widgets/base",
      "model_module_version": "1.2.0",
      "model_name": "LayoutModel",
      "state": {}
     },
     "fd3580805ae74feca74af7605e617477": {
      "model_module": "@jupyter-widgets/controls",
      "model_module_version": "1.5.0",
      "model_name": "ButtonStyleModel",
      "state": {}
     },
     "fd7974679d1548d9829c8915864e2a40": {
      "model_module": "@jupyter-widgets/controls",
      "model_module_version": "1.5.0",
      "model_name": "DescriptionStyleModel",
      "state": {
       "description_width": "10%"
      }
     },
     "fdcb2e3c0d6040e596b840b05357b6b7": {
      "model_module": "@jupyter-widgets/base",
      "model_module_version": "1.2.0",
      "model_name": "LayoutModel",
      "state": {}
     },
     "fe1164a69560426e8fb70afbbb161a8a": {
      "model_module": "@jupyter-widgets/output",
      "model_module_version": "1.0.0",
      "model_name": "OutputModel",
      "state": {
       "layout": "IPY_MODEL_63954222c1834906b9723994e4eb2c56",
       "outputs": [
        {
         "data": {
          "text/html": "<table border=\"1\" class=\"dataframe\">\n  <thead>\n    <tr style=\"text-align: right;\">\n      <th></th>\n      <th>started</th>\n      <th>description</th>\n      <th>Hang On</th>\n      <th>Obj</th>\n      <th>datasets</th>\n    </tr>\n    <tr>\n      <th>Name</th>\n      <th></th>\n      <th></th>\n      <th></th>\n      <th></th>\n      <th></th>\n    </tr>\n  </thead>\n  <tbody>\n    <tr>\n      <th>WP1.1a</th>\n      <td>2020-06-29</td>\n      <td></td>\n      <td>None</td>\n      <td><a href=\"WP1.1/WP1.1a.ipynb\" target=\"_blank\"><h4 style=\"display: inline;\">WP1.1a</h4 style=\"display: inline;\"</a></td>\n      <td>[&#x27;Plotting&#x27;]</td>\n    </tr>\n    <tr>\n      <th>WP1.1b</th>\n      <td>2020-06-29</td>\n      <td></td>\n      <td>None</td>\n      <td><a href=\"WP1.1/WP1.1b.ipynb\" target=\"_blank\"><h4 style=\"display: inline;\">WP1.1b</h4 style=\"display: inline;\"</a></td>\n      <td>[]</td>\n    </tr>\n    <tr>\n      <th>WP1.1c</th>\n      <td>2020-06-29</td>\n      <td></td>\n      <td>now</td>\n      <td><a href=\"WP1.1/WP1.1c.ipynb\" target=\"_blank\"><h4 style=\"display: inline;\">WP1.1c</h4 style=\"display: inline;\"</a></td>\n      <td>[]</td>\n    </tr>\n    <tr>\n      <th>WP1.1d</th>\n      <td>2020-06-29</td>\n      <td>Not sure what&#x27;ll happen!</td>\n      <td>None</td>\n      <td><a href=\"WP1.1/WP1.1d.ipynb\" target=\"_blank\"><h4 style=\"display: inline;\">WP1.1d</h4 style=\"display: inline;\"</a></td>\n      <td>[]</td>\n    </tr>\n  </tbody>\n</table>",
          "text/plain": "          started               description Hang On                Obj  \\\nName                                                                     \nWP1.1a 2020-06-29                              None  <Sample \"WP1.1a\">   \nWP1.1b 2020-06-29                              None  <Sample \"WP1.1b\">   \nWP1.1c 2020-06-29                               now  <Sample \"WP1.1c\">   \nWP1.1d 2020-06-29  Not sure what'll happen!    None  <Sample \"WP1.1d\">   \n\n          datasets  \nName                \nWP1.1a  [Plotting]  \nWP1.1b          []  \nWP1.1c          []  \nWP1.1d          []  "
         },
         "metadata": {},
         "output_type": "display_data"
        }
       ]
      }
     },
     "ff704d67bdb34a159e20d01c50fda53c": {
      "model_module": "@jupyter-widgets/base",
      "model_module_version": "1.2.0",
      "model_name": "LayoutModel",
      "state": {}
     }
    },
    "version_major": 2,
    "version_minor": 0
   }
  }
 },
 "nbformat": 4,
 "nbformat_minor": 4
}
