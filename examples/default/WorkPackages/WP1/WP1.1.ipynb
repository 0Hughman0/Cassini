{
 "cells": [
  {
   "cell_type": "markdown",
   "metadata": {},
   "source": [
    "# WP1.1\n",
    "\n",
    "Experiments usually have a common proceedure, with minor changes over multiple samples.\n",
    "\n",
    "To make it quicker to design new experiments, `cassini` uses [Jinja2 templating](https://jinja.palletsprojects.com/en/2.11.x/).\n",
    "\n",
    "Templates are stored in your project directory in a folder aptly named templates. \n",
    "\n",
    "Each `Tier` has its own folder, the contents of which is automatically shown in the `new_child` widget/ header.\n",
    "\n",
    "Head over to the default [`Sample.tmplt.ipynb`](../../../templates/Sample/Sample.tmplt.ipynb), make a copy and some changes, \n",
    "come back here and your new template appear in the New Sample widget.\n",
    "\n",
    "Try making a new Sample `WP1.1b` with the `Custom.tmplt.ipynb`."
   ]
  },
  {
   "cell_type": "code",
   "execution_count": 33,
   "metadata": {
    "pycharm": {
     "name": "#%%\n"
    }
   },
   "outputs": [
    {
     "data": {
      "application/vnd.jupyter.widget-view+json": {
       "model_id": "7938d5de3f264802a10859e7f03a2bd1",
       "version_major": 2,
       "version_minor": 0
      },
      "text/plain": [
       "VBox(children=(VBox(children=(Output(), Button(description='Folder', style=ButtonStyle()))), Output(), Output(…"
      ]
     },
     "metadata": {},
     "output_type": "display_data"
    }
   ],
   "source": [
    "from project import project\n",
    "\n",
    "exp = project.env('WP1.1')\n",
    "exp.gui.header()"
   ]
  },
  {
   "cell_type": "markdown",
   "metadata": {},
   "source": [
    "Now that you've made `WP1.1b`, we can imagine having a lot of samples and wanting to sort through them.\n",
    "\n",
    "This is easy because each tier can make a pandas DataFrame of its children:"
   ]
  },
  {
   "cell_type": "code",
   "execution_count": 26,
   "metadata": {},
   "outputs": [],
   "source": [
    "df = exp.children_df()"
   ]
  },
  {
   "cell_type": "markdown",
   "metadata": {},
   "source": [
    "Which we can query like a normal DataFrame:"
   ]
  },
  {
   "cell_type": "code",
   "execution_count": 31,
   "metadata": {},
   "outputs": [
    {
     "data": {
      "text/html": [
       "<div>\n",
       "<style scoped>\n",
       "    .dataframe tbody tr th:only-of-type {\n",
       "        vertical-align: middle;\n",
       "    }\n",
       "\n",
       "    .dataframe tbody tr th {\n",
       "        vertical-align: top;\n",
       "    }\n",
       "\n",
       "    .dataframe thead th {\n",
       "        text-align: right;\n",
       "    }\n",
       "</style>\n",
       "<table border=\"1\" class=\"dataframe\">\n",
       "  <thead>\n",
       "    <tr style=\"text-align: right;\">\n",
       "      <th></th>\n",
       "      <th>started</th>\n",
       "      <th>description</th>\n",
       "      <th>heating_time</th>\n",
       "      <th>Obj</th>\n",
       "      <th>datasets</th>\n",
       "    </tr>\n",
       "    <tr>\n",
       "      <th>Name</th>\n",
       "      <th></th>\n",
       "      <th></th>\n",
       "      <th></th>\n",
       "      <th></th>\n",
       "      <th></th>\n",
       "    </tr>\n",
       "  </thead>\n",
       "  <tbody>\n",
       "    <tr>\n",
       "      <th>WP1.1a</th>\n",
       "      <td>2020-06-29</td>\n",
       "      <td>A sample sample description</td>\n",
       "      <td>17</td>\n",
       "      <td>&lt;Sample \"WP1.1a\"&gt;</td>\n",
       "      <td>[Plotting]</td>\n",
       "    </tr>\n",
       "  </tbody>\n",
       "</table>\n",
       "</div>"
      ],
      "text/plain": [
       "          started                  description  heating_time  \\\n",
       "Name                                                           \n",
       "WP1.1a 2020-06-29  A sample sample description            17   \n",
       "\n",
       "                      Obj    datasets  \n",
       "Name                                   \n",
       "WP1.1a  <Sample \"WP1.1a\">  [Plotting]  "
      ]
     },
     "execution_count": 31,
     "metadata": {},
     "output_type": "execute_result"
    }
   ],
   "source": [
    "df.query(\"heating_time > 16\")"
   ]
  },
  {
   "cell_type": "markdown",
   "metadata": {},
   "source": [
    "Slighlty more usefully, the `tier.gui` provides a more interactive version of this DataFrame:"
   ]
  },
  {
   "cell_type": "code",
   "execution_count": 32,
   "metadata": {},
   "outputs": [
    {
     "data": {
      "text/html": [
       "<table border=\"1\" class=\"dataframe\">\n",
       "  <thead>\n",
       "    <tr style=\"text-align: right;\">\n",
       "      <th></th>\n",
       "      <th>started</th>\n",
       "      <th>description</th>\n",
       "      <th>heating_time</th>\n",
       "      <th>Obj</th>\n",
       "      <th>datasets</th>\n",
       "    </tr>\n",
       "    <tr>\n",
       "      <th>Name</th>\n",
       "      <th></th>\n",
       "      <th></th>\n",
       "      <th></th>\n",
       "      <th></th>\n",
       "      <th></th>\n",
       "    </tr>\n",
       "  </thead>\n",
       "  <tbody>\n",
       "    <tr>\n",
       "      <th>WP1.1a</th>\n",
       "      <td>2020-06-29</td>\n",
       "      <td>A sample sample description</td>\n",
       "      <td>17</td>\n",
       "      <td><a href=\"WP1.1/WP1.1a.ipynb\" target=\"_blank\"><h4 style=\"display: inline;\">WP1.1a</h4 style=\"display: inline;\"</a></td>\n",
       "      <td>[&#x27;Plotting&#x27;]</td>\n",
       "    </tr>\n",
       "  </tbody>\n",
       "</table>"
      ],
      "text/plain": [
       "          started                  description  heating_time  \\\n",
       "Name                                                           \n",
       "WP1.1a 2020-06-29  A sample sample description            17   \n",
       "\n",
       "                      Obj    datasets  \n",
       "Name                                   \n",
       "WP1.1a  <Sample \"WP1.1a\">  [Plotting]  "
      ]
     },
     "execution_count": 32,
     "metadata": {},
     "output_type": "execute_result"
    }
   ],
   "source": [
    "exp.gui.children_df().query(\"heating_time > 16\")"
   ]
  },
  {
   "cell_type": "code",
   "execution_count": null,
   "metadata": {},
   "outputs": [],
   "source": []
  }
 ],
 "metadata": {
  "kernelspec": {
   "display_name": "Python 3",
   "language": "python",
   "name": "python3"
  },
  "language_info": {
   "codemirror_mode": {
    "name": "ipython",
    "version": 3
   },
   "file_extension": ".py",
   "mimetype": "text/x-python",
   "name": "python",
   "nbconvert_exporter": "python",
   "pygments_lexer": "ipython3",
   "version": "3.7.2"
  },
  "pycharm": {
   "stem_cell": {
    "cell_type": "raw",
    "metadata": {
     "collapsed": false
    },
    "source": []
   }
  },
  "widgets": {
   "application/vnd.jupyter.widget-state+json": {
    "state": {
     "0003b7e918dc40eca1a23747324c4566": {
      "model_module": "@jupyter-widgets/output",
      "model_module_version": "1.0.0",
      "model_name": "OutputModel",
      "state": {
       "layout": "IPY_MODEL_8d0766c72b354c28975720d1b30e1ff7",
       "outputs": [
        {
         "data": {
          "text/html": "<table border=\"1\" class=\"dataframe\">\n  <thead>\n    <tr style=\"text-align: right;\">\n      <th></th>\n      <th>started</th>\n      <th>description</th>\n      <th>Obj</th>\n      <th>datasets</th>\n    </tr>\n    <tr>\n      <th>Name</th>\n      <th></th>\n      <th></th>\n      <th></th>\n      <th></th>\n    </tr>\n  </thead>\n  <tbody>\n    <tr>\n      <th>WP1.1a</th>\n      <td>2020-06-29</td>\n      <td>A sample sample description</td>\n      <td><a href=\"WP1.1/WP1.1a.ipynb\" target=\"_blank\"><h4 style=\"display: inline;\">WP1.1a</h4 style=\"display: inline;\"</a></td>\n      <td>[&#x27;Plotting&#x27;]</td>\n    </tr>\n    <tr>\n      <th>WP1.1b</th>\n      <td>2020-06-30</td>\n      <td>Try again</td>\n      <td><a href=\"WP1.1/WP1.1b.ipynb\" target=\"_blank\"><h4 style=\"display: inline;\">WP1.1b</h4 style=\"display: inline;\"</a></td>\n      <td>[]</td>\n    </tr>\n  </tbody>\n</table>",
          "text/plain": "          started                  description                Obj    datasets\nName                                                                         \nWP1.1a 2020-06-29  A sample sample description  <Sample \"WP1.1a\">  [Plotting]\nWP1.1b 2020-06-30                    Try again  <Sample \"WP1.1b\">          []"
         },
         "metadata": {},
         "output_type": "display_data"
        }
       ]
      }
     },
     "00ad27ba12134db8b29c11cf782965be": {
      "model_module": "@jupyter-widgets/controls",
      "model_module_version": "1.5.0",
      "model_name": "DescriptionStyleModel",
      "state": {
       "description_width": "10%"
      }
     },
     "016d90362f7e4412bae6cbd2d921de14": {
      "model_module": "@jupyter-widgets/base",
      "model_module_version": "1.2.0",
      "model_name": "LayoutModel",
      "state": {}
     },
     "01d3d00e061f49789496b3109618360b": {
      "model_module": "@jupyter-widgets/output",
      "model_module_version": "1.0.0",
      "model_name": "OutputModel",
      "state": {
       "layout": "IPY_MODEL_02ebc39bd7664ec6ad05841d2cccfd2a",
       "outputs": [
        {
         "data": {
          "text/html": "<h3>Samples</h3>",
          "text/plain": "<cassini.ipygui.WHTML at 0x2401d71d240>"
         },
         "metadata": {},
         "output_type": "display_data"
        }
       ]
      }
     },
     "02ebc39bd7664ec6ad05841d2cccfd2a": {
      "model_module": "@jupyter-widgets/base",
      "model_module_version": "1.2.0",
      "model_name": "LayoutModel",
      "state": {}
     },
     "03dfc8e3810045e39784b45d2ef1b7f3": {
      "model_module": "@jupyter-widgets/controls",
      "model_module_version": "1.5.0",
      "model_name": "DescriptionStyleModel",
      "state": {
       "description_width": "10%"
      }
     },
     "042e8753aa5f489c9a2fac25a22c0b1a": {
      "model_module": "@jupyter-widgets/base",
      "model_module_version": "1.2.0",
      "model_name": "LayoutModel",
      "state": {}
     },
     "0534401b40204c9ebd72f7c73c4ec99b": {
      "model_module": "@jupyter-widgets/output",
      "model_module_version": "1.0.0",
      "model_name": "OutputModel",
      "state": {
       "layout": "IPY_MODEL_cfa113b611c442478150b4818324f198"
      }
     },
     "054c5ea314e048379554a9a70df47506": {
      "model_module": "@jupyter-widgets/base",
      "model_module_version": "1.2.0",
      "model_name": "LayoutModel",
      "state": {}
     },
     "0574727c76804309b37d3986d06a9f6b": {
      "model_module": "@jupyter-widgets/controls",
      "model_module_version": "1.5.0",
      "model_name": "HBoxModel",
      "state": {
       "children": [
        "IPY_MODEL_5ec04b7661ee46baaabf048f9f3a1ebc",
        "IPY_MODEL_b72c215a67c749d7be21ce7d8097018d"
       ],
       "layout": "IPY_MODEL_c5f83b9c23a84ce286fad79bb398b50e"
      }
     },
     "05804d5fcf244bd79612a6d1e7203422": {
      "model_module": "@jupyter-widgets/controls",
      "model_module_version": "1.5.0",
      "model_name": "ButtonModel",
      "state": {
       "description": "Confirm",
       "disabled": true,
       "layout": "IPY_MODEL_2594c78b69f948dd8ad731f9d99d0284",
       "style": "IPY_MODEL_5616f68aa85447bcb837c3184781d38c"
      }
     },
     "05ab0d621cc44d5fa326ce689858149f": {
      "model_module": "@jupyter-widgets/output",
      "model_module_version": "1.0.0",
      "model_name": "OutputModel",
      "state": {
       "layout": "IPY_MODEL_042e8753aa5f489c9a2fac25a22c0b1a"
      }
     },
     "05f70e8aa0b44c28a6dee77104d7cf97": {
      "model_module": "@jupyter-widgets/base",
      "model_module_version": "1.2.0",
      "model_name": "LayoutModel",
      "state": {}
     },
     "06304d850c9d4a4d8390d3330f368e9c": {
      "model_module": "@jupyter-widgets/base",
      "model_module_version": "1.2.0",
      "model_name": "LayoutModel",
      "state": {}
     },
     "064e7f610e5e40e89ee2d68b36b44cff": {
      "model_module": "@jupyter-widgets/controls",
      "model_module_version": "1.5.0",
      "model_name": "HBoxModel",
      "state": {
       "children": [
        "IPY_MODEL_560292291ab4441cac32359eefcae498",
        "IPY_MODEL_55d6f61f156344fa8534f55b5737162c"
       ],
       "layout": "IPY_MODEL_8a2a6aa041ed48f395d729a9e036905c"
      }
     },
     "06533e04114743b89fc563be6d911bfa": {
      "model_module": "@jupyter-widgets/base",
      "model_module_version": "1.2.0",
      "model_name": "LayoutModel",
      "state": {}
     },
     "0671140537c5487f9d59e635ce554962": {
      "model_module": "@jupyter-widgets/controls",
      "model_module_version": "1.5.0",
      "model_name": "SelectModel",
      "state": {
       "_options_labels": [
        "Custom.tmplt.ipynb",
        "Sample.tmplt.ipynb"
       ],
       "description": "Template",
       "index": 0,
       "layout": "IPY_MODEL_e1cab08587a54d82bf9468ca117937c5",
       "style": "IPY_MODEL_fa6f9a97e9b94d5189975b7b0354a34c"
      }
     },
     "06a692af9b4c46759ed824d5b8f2eaf0": {
      "model_module": "@jupyter-widgets/base",
      "model_module_version": "1.2.0",
      "model_name": "LayoutModel",
      "state": {}
     },
     "06f945976e4e485e85df4731e5278902": {
      "model_module": "@jupyter-widgets/base",
      "model_module_version": "1.2.0",
      "model_name": "LayoutModel",
      "state": {
       "width": "auto"
      }
     },
     "0749371c13484b6c9b55708430ec071a": {
      "model_module": "@jupyter-widgets/output",
      "model_module_version": "1.0.0",
      "model_name": "OutputModel",
      "state": {
       "layout": "IPY_MODEL_e5ac9ed0673d485ca6edfe5b0bdb918e",
       "outputs": [
        {
         "data": {
          "text/html": "<h1 style=\"display: inline;\"><a href=\"WP1.1.ipynb\">WP1.1</a></h1><h3 style=\"display: inline;\">(<a href=\"../../Home.ipynb\" target=\"_blank\">Home</a>-><a href=\"../WP1.ipynb\" target=\"_blank\">WP1</a>)</h3>",
          "text/plain": "<cassini.ipygui.WHTML at 0x2401da37cc0>"
         },
         "metadata": {},
         "output_type": "display_data"
        }
       ]
      }
     },
     "07f5f6116c6a48cdb9fa43620323825c": {
      "model_module": "@jupyter-widgets/base",
      "model_module_version": "1.2.0",
      "model_name": "LayoutModel",
      "state": {}
     },
     "091bafad0819444095bb496e029e3d7a": {
      "model_module": "@jupyter-widgets/base",
      "model_module_version": "1.2.0",
      "model_name": "LayoutModel",
      "state": {}
     },
     "0950a567a4af45888d3774c5f95a4eb2": {
      "model_module": "@jupyter-widgets/controls",
      "model_module_version": "1.5.0",
      "model_name": "HBoxModel",
      "state": {
       "children": [
        "IPY_MODEL_b36938a9706343a381651e4703a26089",
        "IPY_MODEL_55c230a68943483da083188e8298f6d8"
       ],
       "layout": "IPY_MODEL_69b38cb7dbc94addb6decdb53212a388"
      }
     },
     "099f1f2f7f0b46a6b241ba020d2026da": {
      "model_module": "@jupyter-widgets/output",
      "model_module_version": "1.0.0",
      "model_name": "OutputModel",
      "state": {
       "layout": "IPY_MODEL_23e0c33326fb47f2b4dfd12c06c86aba",
       "outputs": [
        {
         "data": {
          "text/html": "<h3>New Data</h3>",
          "text/plain": "<cassini.ipygui.WHTML at 0x2401dab6470>"
         },
         "metadata": {},
         "output_type": "display_data"
        }
       ]
      }
     },
     "09ca11fdeea64c6b9ce5a851c1e69497": {
      "model_module": "@jupyter-widgets/base",
      "model_module_version": "1.2.0",
      "model_name": "LayoutModel",
      "state": {
       "width": "auto"
      }
     },
     "0b40c0f70ef040788ef182e72de3a190": {
      "model_module": "@jupyter-widgets/controls",
      "model_module_version": "1.5.0",
      "model_name": "DescriptionStyleModel",
      "state": {
       "description_width": "10%"
      }
     },
     "0b50497a4fbb478fb8eaea20b6bd1cfc": {
      "model_module": "@jupyter-widgets/controls",
      "model_module_version": "1.5.0",
      "model_name": "ButtonModel",
      "state": {
       "description": "Folder",
       "layout": "IPY_MODEL_586625c11d374c919deef62328a79733",
       "style": "IPY_MODEL_8c5e4fdf9fe1410db31991a4ed09898f"
      }
     },
     "0b80c7056dbb4dccb56182141d53639f": {
      "model_module": "@jupyter-widgets/controls",
      "model_module_version": "1.5.0",
      "model_name": "SelectMultipleModel",
      "state": {
       "_options_labels": [
        "WP1.1a",
        "WP1.1b",
        "WP1.1c",
        "WP1.1d"
       ],
       "description": "Auto Add",
       "index": [
        2
       ],
       "layout": "IPY_MODEL_1acb5546afd7464a95e7f526ac054d87",
       "rows": 5,
       "style": "IPY_MODEL_2426d37d617a4d9699020417f9e04dc1"
      }
     },
     "0b876fec2d5c4ee18e3668d494ed0ac9": {
      "model_module": "@jupyter-widgets/controls",
      "model_module_version": "1.5.0",
      "model_name": "TextModel",
      "state": {
       "description": "Name:",
       "layout": "IPY_MODEL_ad73658f8ada421389db3bffee6ccac4",
       "placeholder": "e.g. XRD",
       "style": "IPY_MODEL_d223dfd10d8246e3a0854824b45f0c81"
      }
     },
     "0bd9b4d81c4f47feb5560fd9e389a4a9": {
      "model_module": "@jupyter-widgets/output",
      "model_module_version": "1.0.0",
      "model_name": "OutputModel",
      "state": {
       "layout": "IPY_MODEL_d899c8a27f3046a38b0ccecdff73fee4"
      }
     },
     "0bff8c694ba24c6c8c69890e15bde87c": {
      "model_module": "@jupyter-widgets/controls",
      "model_module_version": "1.5.0",
      "model_name": "DescriptionStyleModel",
      "state": {
       "description_width": "10%"
      }
     },
     "0c62e660f8b84a2f85904fbd15f4eb93": {
      "model_module": "@jupyter-widgets/base",
      "model_module_version": "1.2.0",
      "model_name": "LayoutModel",
      "state": {
       "width": "auto"
      }
     },
     "0ce0ab8e7c8b49fbb9a6f559f4189ce9": {
      "model_module": "@jupyter-widgets/base",
      "model_module_version": "1.2.0",
      "model_name": "LayoutModel",
      "state": {}
     },
     "0ceb00f5173f4ad8be5022c55201d359": {
      "model_module": "@jupyter-widgets/base",
      "model_module_version": "1.2.0",
      "model_name": "LayoutModel",
      "state": {}
     },
     "0d7340fb52f04b9b8c42a46ba29914bd": {
      "model_module": "@jupyter-widgets/output",
      "model_module_version": "1.0.0",
      "model_name": "OutputModel",
      "state": {
       "layout": "IPY_MODEL_a181b2b09bfa40419ed2d2abc146fac6",
       "outputs": [
        {
         "data": {
          "text/markdown": "Usually some sort of process you'll tweak and repeat on multiple samples",
          "text/plain": "<IPython.core.display.Markdown object>"
         },
         "metadata": {},
         "output_type": "display_data"
        }
       ]
      }
     },
     "0dc8867db8f24b80983a8bbf60391949": {
      "model_module": "@jupyter-widgets/base",
      "model_module_version": "1.2.0",
      "model_name": "LayoutModel",
      "state": {}
     },
     "0e3efe203f504880831b25ca91be5ac6": {
      "model_module": "@jupyter-widgets/controls",
      "model_module_version": "1.5.0",
      "model_name": "ButtonStyleModel",
      "state": {}
     },
     "0e5bab23ab47461592f57f0faa055784": {
      "model_module": "@jupyter-widgets/output",
      "model_module_version": "1.0.0",
      "model_name": "OutputModel",
      "state": {
       "layout": "IPY_MODEL_0dc8867db8f24b80983a8bbf60391949",
       "outputs": [
        {
         "data": {
          "text/html": "<h3>Motivation</h3>",
          "text/plain": "<cassini.ipygui.WHTML at 0x2401d9f65f8>"
         },
         "metadata": {},
         "output_type": "display_data"
        }
       ]
      }
     },
     "0eac178d0e6844b2b478299dfa584f24": {
      "model_module": "@jupyter-widgets/base",
      "model_module_version": "1.2.0",
      "model_name": "LayoutModel",
      "state": {}
     },
     "103acd49618845959a2649421f1b8831": {
      "model_module": "@jupyter-widgets/output",
      "model_module_version": "1.0.0",
      "model_name": "OutputModel",
      "state": {
       "layout": "IPY_MODEL_f83630bb2cac468588974caf785ef432",
       "outputs": [
        {
         "data": {
          "text/markdown": "Usually some sort of process you'll tweak and repeat on multiple samples",
          "text/plain": "<IPython.core.display.Markdown object>"
         },
         "metadata": {},
         "output_type": "display_data"
        }
       ]
      }
     },
     "10514db26b9f4f1ba591b23e2499e1e6": {
      "model_module": "@jupyter-widgets/controls",
      "model_module_version": "1.5.0",
      "model_name": "ButtonModel",
      "state": {
       "description": "New",
       "layout": "IPY_MODEL_0eac178d0e6844b2b478299dfa584f24",
       "style": "IPY_MODEL_729e3a1d9c134376b6c0bbcf69a2557b"
      }
     },
     "10fd40c0d4594bcda5b3e966d6eb3c4b": {
      "model_module": "@jupyter-widgets/base",
      "model_module_version": "1.2.0",
      "model_name": "LayoutModel",
      "state": {}
     },
     "11485b91226c449cb50c5fd3e9818694": {
      "model_module": "@jupyter-widgets/controls",
      "model_module_version": "1.5.0",
      "model_name": "SelectMultipleModel",
      "state": {
       "_options_labels": [
        "WP1.1a",
        "WP1.1b",
        "WP1.1c",
        "WP1.1d"
       ],
       "description": "Auto Add",
       "index": [],
       "layout": "IPY_MODEL_3adb93da3cf146b8aa8ddb3698dde705",
       "rows": 5,
       "style": "IPY_MODEL_ce267c293df841769790d60e4ca33017"
      }
     },
     "129ed37b6f83490c9abbf6ead40115da": {
      "model_module": "@jupyter-widgets/base",
      "model_module_version": "1.2.0",
      "model_name": "LayoutModel",
      "state": {}
     },
     "1354735204024536afcb9b40d29cb53e": {
      "model_module": "@jupyter-widgets/output",
      "model_module_version": "1.0.0",
      "model_name": "OutputModel",
      "state": {
       "layout": "IPY_MODEL_16f6cfdef7b8430d8b7ba06c0ee7e01c",
       "outputs": [
        {
         "data": {
          "text/html": "<h3>Motivation</h3>",
          "text/plain": "<cassini.ipygui.WHTML at 0x2401d90add8>"
         },
         "metadata": {},
         "output_type": "display_data"
        }
       ]
      }
     },
     "137ec0ee44724702931c507e5855be27": {
      "model_module": "@jupyter-widgets/controls",
      "model_module_version": "1.5.0",
      "model_name": "ButtonStyleModel",
      "state": {}
     },
     "139cf94cad3647b189d0f42bd7eae513": {
      "model_module": "@jupyter-widgets/controls",
      "model_module_version": "1.5.0",
      "model_name": "ButtonModel",
      "state": {
       "description": "Folder",
       "layout": "IPY_MODEL_73a49a9159c7425a99cd3aefb077e359",
       "style": "IPY_MODEL_24bcb9f8ad214e32a004d68cf52513dc"
      }
     },
     "148a242f02be48dc92c07d81f7840553": {
      "model_module": "@jupyter-widgets/base",
      "model_module_version": "1.2.0",
      "model_name": "LayoutModel",
      "state": {}
     },
     "1499766c6bd14038a24f698b95d0106a": {
      "model_module": "@jupyter-widgets/controls",
      "model_module_version": "1.5.0",
      "model_name": "ButtonStyleModel",
      "state": {}
     },
     "14c3a4dc331d4eef8c3913128ccf0428": {
      "model_module": "@jupyter-widgets/base",
      "model_module_version": "1.2.0",
      "model_name": "LayoutModel",
      "state": {}
     },
     "14df159ebf334f3a933e9640ab6febe1": {
      "model_module": "@jupyter-widgets/controls",
      "model_module_version": "1.5.0",
      "model_name": "VBoxModel",
      "state": {
       "children": [
        "IPY_MODEL_61243261f9e94721bf9f225d78c3a15f",
        "IPY_MODEL_1354735204024536afcb9b40d29cb53e",
        "IPY_MODEL_901d5f37385a447da978f56e940bf09c",
        "IPY_MODEL_9f26e55683944112a2a1b4f2cef1fe47",
        "IPY_MODEL_0003b7e918dc40eca1a23747324c4566",
        "IPY_MODEL_de960cebe93b4bc78df0aa489495cf18",
        "IPY_MODEL_8cb9db9731684cc287457ada562abfd1",
        "IPY_MODEL_d096cb43d0994508941d3590aab788a7",
        "IPY_MODEL_200ee30b729b46958b0061fa4544168f"
       ],
       "layout": "IPY_MODEL_94e4849d04c94954b7a0fd68d2cdc820"
      }
     },
     "15607a6d837f4752947b985efd21333f": {
      "model_module": "@jupyter-widgets/base",
      "model_module_version": "1.2.0",
      "model_name": "LayoutModel",
      "state": {}
     },
     "15fc12dedaf549559aec7cfe793fc913": {
      "model_module": "@jupyter-widgets/base",
      "model_module_version": "1.2.0",
      "model_name": "LayoutModel",
      "state": {}
     },
     "1632de6ad8f643d3b0f794ce439e0be1": {
      "model_module": "@jupyter-widgets/base",
      "model_module_version": "1.2.0",
      "model_name": "LayoutModel",
      "state": {}
     },
     "166a5839c79048ceb487f22fde369f78": {
      "model_module": "@jupyter-widgets/controls",
      "model_module_version": "1.5.0",
      "model_name": "DescriptionStyleModel",
      "state": {
       "description_width": "10%"
      }
     },
     "166a783e2a684d9f8a23f1aa7cb4a922": {
      "model_module": "@jupyter-widgets/base",
      "model_module_version": "1.2.0",
      "model_name": "LayoutModel",
      "state": {}
     },
     "16ed344202c74a36acc5925815c129b4": {
      "model_module": "@jupyter-widgets/output",
      "model_module_version": "1.0.0",
      "model_name": "OutputModel",
      "state": {
       "layout": "IPY_MODEL_e51cf9d8c6764441af3fe8af2d1f8d6b"
      }
     },
     "16f6cfdef7b8430d8b7ba06c0ee7e01c": {
      "model_module": "@jupyter-widgets/base",
      "model_module_version": "1.2.0",
      "model_name": "LayoutModel",
      "state": {}
     },
     "1746c6506ac645e8888af51c1e6dfadf": {
      "model_module": "@jupyter-widgets/controls",
      "model_module_version": "1.5.0",
      "model_name": "TextModel",
      "state": {
       "description": "Name:",
       "layout": "IPY_MODEL_92470b6945f54e37b48fe3a72a5db079",
       "placeholder": "e.g. XRD",
       "style": "IPY_MODEL_5830f5d4895f4a00934bee95d0c2e344"
      }
     },
     "179b13befb1d4eae9c6524a030b32f17": {
      "model_module": "@jupyter-widgets/controls",
      "model_module_version": "1.5.0",
      "model_name": "VBoxModel",
      "state": {
       "children": [
        "IPY_MODEL_2023f9ed70ff48e19ace08c9a61bc15e",
        "IPY_MODEL_11485b91226c449cb50c5fd3e9818694",
        "IPY_MODEL_9f75d7cfb9ce443982a9321724d91df2",
        "IPY_MODEL_5cc97886249a44c9a5c9a16f237208fa"
       ],
       "layout": "IPY_MODEL_c4b5f24f0e014a91af2cd6d5cbea7e9c"
      }
     },
     "17ce25afe51e43608d58b03602ffca28": {
      "model_module": "@jupyter-widgets/output",
      "model_module_version": "1.0.0",
      "model_name": "OutputModel",
      "state": {
       "layout": "IPY_MODEL_07f5f6116c6a48cdb9fa43620323825c",
       "outputs": [
        {
         "data": {
          "text/html": "<h3>Motivation</h3>",
          "text/plain": "<cassini.ipygui.WHTML at 0x2401d76cda0>"
         },
         "metadata": {},
         "output_type": "display_data"
        }
       ]
      }
     },
     "17fbacf55c18473489e0dc9f59a0e32a": {
      "model_module": "@jupyter-widgets/controls",
      "model_module_version": "1.5.0",
      "model_name": "TextModel",
      "state": {
       "description": "Identifier",
       "layout": "IPY_MODEL_4fd42a0cd97143448a06c4d7a6a70668",
       "placeholder": "([^0-9^-][^-]*)",
       "style": "IPY_MODEL_b6faf39ca2ec4740ae508044d4c3ecd0"
      }
     },
     "1874a1571aec4788b4d80aa427f8f657": {
      "model_module": "@jupyter-widgets/output",
      "model_module_version": "1.0.0",
      "model_name": "OutputModel",
      "state": {
       "layout": "IPY_MODEL_b79b0bc61c89497ca5e73cbef76114b8",
       "outputs": [
        {
         "data": {
          "text/html": "<h3>New Sample</h3>",
          "text/plain": "<cassini.ipygui.WHTML at 0x2401d843978>"
         },
         "metadata": {},
         "output_type": "display_data"
        }
       ]
      }
     },
     "191b1b9521fc42b7be57ddba6d7e0c85": {
      "model_module": "@jupyter-widgets/base",
      "model_module_version": "1.2.0",
      "model_name": "LayoutModel",
      "state": {}
     },
     "197733de14de412eb008c4c7b2712752": {
      "model_module": "@jupyter-widgets/base",
      "model_module_version": "1.2.0",
      "model_name": "LayoutModel",
      "state": {
       "width": "auto"
      }
     },
     "19e2ef04463a43dda8975d5a18918528": {
      "model_module": "@jupyter-widgets/base",
      "model_module_version": "1.2.0",
      "model_name": "LayoutModel",
      "state": {}
     },
     "19f58a4050254c4ebfdbdc544dbe8802": {
      "model_module": "@jupyter-widgets/base",
      "model_module_version": "1.2.0",
      "model_name": "LayoutModel",
      "state": {}
     },
     "1a9582ad1d3a4cdaa83e27b853952acf": {
      "model_module": "@jupyter-widgets/base",
      "model_module_version": "1.2.0",
      "model_name": "LayoutModel",
      "state": {}
     },
     "1acb5546afd7464a95e7f526ac054d87": {
      "model_module": "@jupyter-widgets/base",
      "model_module_version": "1.2.0",
      "model_name": "LayoutModel",
      "state": {
       "width": "auto"
      }
     },
     "1b8103863ef54ad48681b3531c40f592": {
      "model_module": "@jupyter-widgets/controls",
      "model_module_version": "1.5.0",
      "model_name": "ButtonStyleModel",
      "state": {}
     },
     "1bba870f3370442a863e1b8a93f4417f": {
      "model_module": "@jupyter-widgets/controls",
      "model_module_version": "1.5.0",
      "model_name": "ButtonModel",
      "state": {
       "description": "New",
       "layout": "IPY_MODEL_7da8ba6aa76d4d92ac38b5b5ef43650f",
       "style": "IPY_MODEL_8fd4d38190954fa5a2d4cfcdc2f51fdf"
      }
     },
     "1c784d18fd594c5eb3bb3d6bb6c86a31": {
      "model_module": "@jupyter-widgets/base",
      "model_module_version": "1.2.0",
      "model_name": "LayoutModel",
      "state": {}
     },
     "1c7cefe5ed5c475082b900b16e80a91c": {
      "model_module": "@jupyter-widgets/controls",
      "model_module_version": "1.5.0",
      "model_name": "DescriptionStyleModel",
      "state": {
       "description_width": "10%"
      }
     },
     "1cbbc1613f724006ad7de9753bbb619f": {
      "model_module": "@jupyter-widgets/controls",
      "model_module_version": "1.5.0",
      "model_name": "HBoxModel",
      "state": {
       "children": [
        "IPY_MODEL_81735be17dce409291969244540aee85",
        "IPY_MODEL_10514db26b9f4f1ba591b23e2499e1e6"
       ],
       "layout": "IPY_MODEL_77783b30fcf8453a977bf809e364a1c4"
      }
     },
     "1de3bffd815d470283a9f2f7191926af": {
      "model_module": "@jupyter-widgets/controls",
      "model_module_version": "1.5.0",
      "model_name": "ButtonModel",
      "state": {
       "description": "Confirm",
       "disabled": true,
       "layout": "IPY_MODEL_c5570da0768a4166ae7e23a6ce402956",
       "style": "IPY_MODEL_d34df21ef998441ba4783cd5a26a3f2a"
      }
     },
     "1e52c51331664585a74c85e05c167aec": {
      "model_module": "@jupyter-widgets/output",
      "model_module_version": "1.0.0",
      "model_name": "OutputModel",
      "state": {
       "layout": "IPY_MODEL_5f2ab9653430417e8b6a638137ff13d6",
       "outputs": [
        {
         "data": {
          "text/html": "<table border=\"1\" class=\"dataframe\">\n  <thead>\n    <tr style=\"text-align: right;\">\n      <th></th>\n      <th>started</th>\n      <th>description</th>\n      <th>heating_time</th>\n      <th>Obj</th>\n      <th>datasets</th>\n    </tr>\n    <tr>\n      <th>Name</th>\n      <th></th>\n      <th></th>\n      <th></th>\n      <th></th>\n      <th></th>\n    </tr>\n  </thead>\n  <tbody>\n    <tr>\n      <th>WP1.1a</th>\n      <td>2020-06-29</td>\n      <td>A sample sample description</td>\n      <td>17.0</td>\n      <td><a href=\"WP1.1/WP1.1a.ipynb\" target=\"_blank\"><h4 style=\"display: inline;\">WP1.1a</h4 style=\"display: inline;\"</a></td>\n      <td>[&#x27;Plotting&#x27;]</td>\n    </tr>\n    <tr>\n      <th>WP1.1b</th>\n      <td>2020-06-30</td>\n      <td>Try again</td>\n      <td>NaN</td>\n      <td><a href=\"WP1.1/WP1.1b.ipynb\" target=\"_blank\"><h4 style=\"display: inline;\">WP1.1b</h4 style=\"display: inline;\"</a></td>\n      <td>[]</td>\n    </tr>\n  </tbody>\n</table>",
          "text/plain": "          started                  description  heating_time  \\\nName                                                           \nWP1.1a 2020-06-29  A sample sample description          17.0   \nWP1.1b 2020-06-30                    Try again           NaN   \n\n                      Obj    datasets  \nName                                   \nWP1.1a  <Sample \"WP1.1a\">  [Plotting]  \nWP1.1b  <Sample \"WP1.1b\">          []  "
         },
         "metadata": {},
         "output_type": "display_data"
        }
       ]
      }
     },
     "1e603dd349c240f99ebde1278e66c14c": {
      "model_module": "@jupyter-widgets/output",
      "model_module_version": "1.0.0",
      "model_name": "OutputModel",
      "state": {
       "layout": "IPY_MODEL_3acf4cda378d4e4096b2adc2f2b17a89",
       "outputs": [
        {
         "data": {
          "text/html": "<table border=\"1\" class=\"dataframe\">\n  <thead>\n    <tr style=\"text-align: right;\">\n      <th></th>\n      <th>started</th>\n      <th>description</th>\n      <th>Obj</th>\n      <th>datasets</th>\n    </tr>\n    <tr>\n      <th>Name</th>\n      <th></th>\n      <th></th>\n      <th></th>\n      <th></th>\n    </tr>\n  </thead>\n  <tbody>\n    <tr>\n      <th>WP1.1a</th>\n      <td>2020-06-29</td>\n      <td>A sample sample description</td>\n      <td><a href=\"WP1.1/WP1.1a.ipynb\" target=\"_blank\"><h4 style=\"display: inline;\">WP1.1a</h4 style=\"display: inline;\"</a></td>\n      <td>[&#x27;Plotting&#x27;]</td>\n    </tr>\n    <tr>\n      <th>WP1.1b</th>\n      <td>2020-06-30</td>\n      <td>Try again</td>\n      <td><a href=\"WP1.1/WP1.1b.ipynb\" target=\"_blank\"><h4 style=\"display: inline;\">WP1.1b</h4 style=\"display: inline;\"</a></td>\n      <td>[]</td>\n    </tr>\n  </tbody>\n</table>",
          "text/plain": "          started                  description                Obj    datasets\nName                                                                         \nWP1.1a 2020-06-29  A sample sample description  <Sample \"WP1.1a\">  [Plotting]\nWP1.1b 2020-06-30                    Try again  <Sample \"WP1.1b\">          []"
         },
         "metadata": {},
         "output_type": "display_data"
        }
       ]
      }
     },
     "1e6118adcb2e4c26b77843d04a17ff31": {
      "model_module": "@jupyter-widgets/base",
      "model_module_version": "1.2.0",
      "model_name": "LayoutModel",
      "state": {
       "width": "auto"
      }
     },
     "1e8fd225ab6e4df7adadefcdd41f4451": {
      "model_module": "@jupyter-widgets/base",
      "model_module_version": "1.2.0",
      "model_name": "LayoutModel",
      "state": {}
     },
     "1e90bf7e6bd14fde8a5302f3a0711f48": {
      "model_module": "@jupyter-widgets/base",
      "model_module_version": "1.2.0",
      "model_name": "LayoutModel",
      "state": {}
     },
     "1ea8bd7815944ef5b57fe13c85256c9f": {
      "model_module": "@jupyter-widgets/base",
      "model_module_version": "1.2.0",
      "model_name": "LayoutModel",
      "state": {}
     },
     "1eb4529cec084df0af7abbb5a0739848": {
      "model_module": "@jupyter-widgets/base",
      "model_module_version": "1.2.0",
      "model_name": "LayoutModel",
      "state": {}
     },
     "1fd9318877e24e24b326d962a229cc81": {
      "model_module": "@jupyter-widgets/base",
      "model_module_version": "1.2.0",
      "model_name": "LayoutModel",
      "state": {}
     },
     "1fdc3671de8a463c99b93dfdc9d437f0": {
      "model_module": "@jupyter-widgets/controls",
      "model_module_version": "1.5.0",
      "model_name": "VBoxModel",
      "state": {
       "children": [
        "IPY_MODEL_2019c8915e0b4c4686d28f7c53d06056",
        "IPY_MODEL_492418710a874ab98f1be62b55e6c31f",
        "IPY_MODEL_ac3668c0ccaf44ce8973588fe52004fa",
        "IPY_MODEL_b1bcf6bda5374742b7c3a1c0d625bdf7",
        "IPY_MODEL_9810abab5f5e4b2a86d1c9f1eb4f6115"
       ],
       "layout": "IPY_MODEL_19f58a4050254c4ebfdbdc544dbe8802"
      }
     },
     "200ee30b729b46958b0061fa4544168f": {
      "model_module": "@jupyter-widgets/controls",
      "model_module_version": "1.5.0",
      "model_name": "VBoxModel",
      "state": {
       "children": [
        "IPY_MODEL_f02bf35fb1a44734887f388e97dc651f",
        "IPY_MODEL_7800338adcd4417992509ebeb38352a1",
        "IPY_MODEL_58b2a77783e949689531a300dbb5a413",
        "IPY_MODEL_bdc103f897d843ac83f3a2dfac4dcce6"
       ],
       "layout": "IPY_MODEL_9257cb7b4864404cbd24fcd00649d41e"
      }
     },
     "2019c8915e0b4c4686d28f7c53d06056": {
      "model_module": "@jupyter-widgets/controls",
      "model_module_version": "1.5.0",
      "model_name": "TextModel",
      "state": {
       "description": "Identifier",
       "layout": "IPY_MODEL_95a7430eb8994ac59931d2e9f7d2bd82",
       "placeholder": "([^0-9^-][^-]*)",
       "style": "IPY_MODEL_793e5c0cbf74438989abe2c34725cfb8"
      }
     },
     "201f239c659c43209a80daf061e5d05d": {
      "model_module": "@jupyter-widgets/output",
      "model_module_version": "1.0.0",
      "model_name": "OutputModel",
      "state": {
       "layout": "IPY_MODEL_fd22239ebf914f69aadc2b444352eece"
      }
     },
     "20212ed3b54342959f0f03ad8750b369": {
      "model_module": "@jupyter-widgets/controls",
      "model_module_version": "1.5.0",
      "model_name": "ButtonModel",
      "state": {
       "description": "Folder",
       "layout": "IPY_MODEL_958e49505dc34596999e3654424fdc3b",
       "style": "IPY_MODEL_e6b4f2254b4f485bbe33529beadc81a8"
      }
     },
     "2023f9ed70ff48e19ace08c9a61bc15e": {
      "model_module": "@jupyter-widgets/controls",
      "model_module_version": "1.5.0",
      "model_name": "TextModel",
      "state": {
       "description": "Name:",
       "layout": "IPY_MODEL_e416a20f2fcf492090bb3079fe57561c",
       "placeholder": "e.g. XRD",
       "style": "IPY_MODEL_5926648e6f294c8fb4b35167ce007b3f"
      }
     },
     "20393b2169c142adb0fef352980790d5": {
      "model_module": "@jupyter-widgets/controls",
      "model_module_version": "1.5.0",
      "model_name": "HBoxModel",
      "state": {
       "children": [
        "IPY_MODEL_e7649a4bb00a485f8339cb1ec89ce7ed",
        "IPY_MODEL_ac3dfc655ec64209919ab960330c6776"
       ],
       "layout": "IPY_MODEL_337a35fbf6a24304975fb574e3a03485"
      }
     },
     "20908c01927e4840b7557c901070d84f": {
      "model_module": "@jupyter-widgets/output",
      "model_module_version": "1.0.0",
      "model_name": "OutputModel",
      "state": {
       "layout": "IPY_MODEL_5bea247d4e0546449528bc39b83fb253",
       "outputs": [
        {
         "data": {
          "text/html": "<h3>Samples</h3>",
          "text/plain": "<cassini.ipygui.WHTML at 0x2401dab6cc0>"
         },
         "metadata": {},
         "output_type": "display_data"
        }
       ]
      }
     },
     "20a283c5229e47f880d78cbbc2cba6e3": {
      "model_module": "@jupyter-widgets/base",
      "model_module_version": "1.2.0",
      "model_name": "LayoutModel",
      "state": {}
     },
     "20d2afa6c51a4d64b3cb9e38d4547d8a": {
      "model_module": "@jupyter-widgets/controls",
      "model_module_version": "1.5.0",
      "model_name": "DescriptionStyleModel",
      "state": {
       "description_width": "10%"
      }
     },
     "20f6ef047227449d8d1e5ab8a02fc726": {
      "model_module": "@jupyter-widgets/base",
      "model_module_version": "1.2.0",
      "model_name": "LayoutModel",
      "state": {}
     },
     "21206006a8db48feb74cc32ee75f6235": {
      "model_module": "@jupyter-widgets/base",
      "model_module_version": "1.2.0",
      "model_name": "LayoutModel",
      "state": {}
     },
     "225a508a3c2c4222b85b1b998ba46818": {
      "model_module": "@jupyter-widgets/output",
      "model_module_version": "1.0.0",
      "model_name": "OutputModel",
      "state": {
       "layout": "IPY_MODEL_9967e73b0161411e84393669c2973521"
      }
     },
     "22d62909726c46c58789d762a9566a36": {
      "model_module": "@jupyter-widgets/controls",
      "model_module_version": "1.5.0",
      "model_name": "ButtonModel",
      "state": {
       "description": "Confirm",
       "disabled": true,
       "layout": "IPY_MODEL_2866e3a0f9104764b92009decddb8a5c",
       "style": "IPY_MODEL_823d45084fc248718603b6ed8d6b8cea"
      }
     },
     "230a8923dc2942e5a4a1de125a5ec868": {
      "model_module": "@jupyter-widgets/base",
      "model_module_version": "1.2.0",
      "model_name": "LayoutModel",
      "state": {}
     },
     "239cf39484a749d3af8102dbe6ccc6b4": {
      "model_module": "@jupyter-widgets/base",
      "model_module_version": "1.2.0",
      "model_name": "LayoutModel",
      "state": {}
     },
     "23cc67e19df74a7fa822cbd4a6dcfb23": {
      "model_module": "@jupyter-widgets/controls",
      "model_module_version": "1.5.0",
      "model_name": "TextModel",
      "state": {
       "description": "Identifier",
       "layout": "IPY_MODEL_a01fa3d125fa47e79568da169432dd41",
       "placeholder": "([^0-9^-][^-]*)",
       "style": "IPY_MODEL_9821cfb546354732a38e31e2b99764f1"
      }
     },
     "23e0c33326fb47f2b4dfd12c06c86aba": {
      "model_module": "@jupyter-widgets/base",
      "model_module_version": "1.2.0",
      "model_name": "LayoutModel",
      "state": {}
     },
     "2426d37d617a4d9699020417f9e04dc1": {
      "model_module": "@jupyter-widgets/controls",
      "model_module_version": "1.5.0",
      "model_name": "DescriptionStyleModel",
      "state": {
       "description_width": "10%"
      }
     },
     "2459a64b7b234ed0ba940404f7b6a981": {
      "model_module": "@jupyter-widgets/controls",
      "model_module_version": "1.5.0",
      "model_name": "ButtonStyleModel",
      "state": {}
     },
     "24646a3b884d4b879050cc477cb1291e": {
      "model_module": "@jupyter-widgets/base",
      "model_module_version": "1.2.0",
      "model_name": "LayoutModel",
      "state": {
       "width": "auto"
      }
     },
     "24bcb9f8ad214e32a004d68cf52513dc": {
      "model_module": "@jupyter-widgets/controls",
      "model_module_version": "1.5.0",
      "model_name": "ButtonStyleModel",
      "state": {}
     },
     "24f3491eb3f94842b82031376df4aa87": {
      "model_module": "@jupyter-widgets/base",
      "model_module_version": "1.2.0",
      "model_name": "LayoutModel",
      "state": {
       "width": "auto"
      }
     },
     "252f32bb8e6544789f5bd22817d22e32": {
      "model_module": "@jupyter-widgets/controls",
      "model_module_version": "1.5.0",
      "model_name": "SelectMultipleModel",
      "state": {
       "_options_labels": [
        "WP1.1a"
       ],
       "description": "Auto Add",
       "index": [],
       "layout": "IPY_MODEL_3424964eb9c44a9890000c3a4d7522e2",
       "rows": 5,
       "style": "IPY_MODEL_7fa78688448941ada087d68307910083"
      }
     },
     "25442aa4628d402a96baec64ab06120f": {
      "model_module": "@jupyter-widgets/controls",
      "model_module_version": "1.5.0",
      "model_name": "SelectModel",
      "state": {
       "_options_labels": [
        "Custom.tmplt.ipynb",
        "Sample.tmplt.ipynb"
       ],
       "description": "Template",
       "index": 0,
       "layout": "IPY_MODEL_617b375bc0714e85874d55b9f25bb4b5",
       "style": "IPY_MODEL_f6466b690c294e1aa88b285559a99499"
      }
     },
     "25883e3e1da1468cb1b098d4556113db": {
      "model_module": "@jupyter-widgets/base",
      "model_module_version": "1.2.0",
      "model_name": "LayoutModel",
      "state": {}
     },
     "2594c78b69f948dd8ad731f9d99d0284": {
      "model_module": "@jupyter-widgets/base",
      "model_module_version": "1.2.0",
      "model_name": "LayoutModel",
      "state": {}
     },
     "263eafc078ad47b18708d230202df781": {
      "model_module": "@jupyter-widgets/controls",
      "model_module_version": "1.5.0",
      "model_name": "ButtonStyleModel",
      "state": {}
     },
     "2641032f121e47b1bad2a2a77a197b7d": {
      "model_module": "@jupyter-widgets/base",
      "model_module_version": "1.2.0",
      "model_name": "LayoutModel",
      "state": {}
     },
     "27ac13f4617f4e3f88fb176ef9ceff4d": {
      "model_module": "@jupyter-widgets/base",
      "model_module_version": "1.2.0",
      "model_name": "LayoutModel",
      "state": {
       "width": "auto"
      }
     },
     "28407b2f61f44600831d29d7bb88a62b": {
      "model_module": "@jupyter-widgets/controls",
      "model_module_version": "1.5.0",
      "model_name": "DescriptionStyleModel",
      "state": {
       "description_width": "10%"
      }
     },
     "2865ffbae4644fa8a348e9ea1147a0a4": {
      "model_module": "@jupyter-widgets/controls",
      "model_module_version": "1.5.0",
      "model_name": "HBoxModel",
      "state": {
       "children": [
        "IPY_MODEL_fff476a9347649c6b85ba7b0b6fa678c",
        "IPY_MODEL_d678389ff40948e593de326207666a7a"
       ],
       "layout": "IPY_MODEL_7a405fbb374049f7999942dcc2dfcaa2"
      }
     },
     "2866e3a0f9104764b92009decddb8a5c": {
      "model_module": "@jupyter-widgets/base",
      "model_module_version": "1.2.0",
      "model_name": "LayoutModel",
      "state": {}
     },
     "289a646237cf4434bb196d4665f57d19": {
      "model_module": "@jupyter-widgets/controls",
      "model_module_version": "1.5.0",
      "model_name": "VBoxModel",
      "state": {
       "children": [
        "IPY_MODEL_7a50bb11e6344cb3abc512ef3e9c6ae3",
        "IPY_MODEL_44151b3c8be248439d179c23e0914955",
        "IPY_MODEL_46537a9da9494e50b6ca75cea2225130",
        "IPY_MODEL_01d3d00e061f49789496b3109618360b",
        "IPY_MODEL_33fdb4d72b0241a68cddd3996050348f",
        "IPY_MODEL_ecee14039816446ea93ec1d8c67d49ed",
        "IPY_MODEL_871455e6ecbb413da4e64a7cc0a8c637",
        "IPY_MODEL_95d6a93c4b3549b8b9bcd10c70cc2c8b",
        "IPY_MODEL_179b13befb1d4eae9c6524a030b32f17"
       ],
       "layout": "IPY_MODEL_4a45f93538814d86a657c161f9cf54c1"
      }
     },
     "28d9677c39104359b93de7dea4831dc4": {
      "model_module": "@jupyter-widgets/base",
      "model_module_version": "1.2.0",
      "model_name": "LayoutModel",
      "state": {}
     },
     "298a41ddc1c24671aa2587ec30cdd365": {
      "model_module": "@jupyter-widgets/output",
      "model_module_version": "1.0.0",
      "model_name": "OutputModel",
      "state": {
       "layout": "IPY_MODEL_e1f25385bba64ea7ba1576aba137c8ea"
      }
     },
     "2a444a94a3d0462ba06a60fa045a9799": {
      "model_module": "@jupyter-widgets/output",
      "model_module_version": "1.0.0",
      "model_name": "OutputModel",
      "state": {
       "layout": "IPY_MODEL_583411523ad544109bed4d613355bfec"
      }
     },
     "2b2e9f890bbe4ec9b269698d6bbe7566": {
      "model_module": "@jupyter-widgets/base",
      "model_module_version": "1.2.0",
      "model_name": "LayoutModel",
      "state": {
       "width": "auto"
      }
     },
     "2b58d48f96cc4fe0a5f0c4636a57bdb4": {
      "model_module": "@jupyter-widgets/output",
      "model_module_version": "1.0.0",
      "model_name": "OutputModel",
      "state": {
       "layout": "IPY_MODEL_c80c5d895dfa49ba866ae497d2f20040",
       "outputs": [
        {
         "data": {
          "text/html": "<h3>Motivation</h3>",
          "text/plain": "<cassini.ipygui.WHTML at 0x2401da37f28>"
         },
         "metadata": {},
         "output_type": "display_data"
        }
       ]
      }
     },
     "2b7d8469717e459888184c4fbaa90ac5": {
      "model_module": "@jupyter-widgets/controls",
      "model_module_version": "1.5.0",
      "model_name": "DescriptionStyleModel",
      "state": {
       "description_width": "10%"
      }
     },
     "2bb914aef4c14ed98a943445b50cf6ba": {
      "model_module": "@jupyter-widgets/base",
      "model_module_version": "1.2.0",
      "model_name": "LayoutModel",
      "state": {}
     },
     "2bc445e9dbfe476ea2ee7264e132af80": {
      "model_module": "@jupyter-widgets/controls",
      "model_module_version": "1.5.0",
      "model_name": "ButtonModel",
      "state": {
       "description": "Confirm",
       "disabled": true,
       "layout": "IPY_MODEL_55596c74df4a43499ce5ad29e7db4601",
       "style": "IPY_MODEL_659c1c6172744f8091c7bf90882184fe"
      }
     },
     "2c362ad17f39450782fdf36ac1f4806a": {
      "model_module": "@jupyter-widgets/controls",
      "model_module_version": "1.5.0",
      "model_name": "DescriptionStyleModel",
      "state": {
       "description_width": "10%"
      }
     },
     "2c996e1d82794f6c8e248065a88c4395": {
      "model_module": "@jupyter-widgets/base",
      "model_module_version": "1.2.0",
      "model_name": "LayoutModel",
      "state": {}
     },
     "2d014582b90343108c66edc5d2b4150f": {
      "model_module": "@jupyter-widgets/controls",
      "model_module_version": "1.5.0",
      "model_name": "SelectMultipleModel",
      "state": {
       "_options_labels": [
        "WP1.1a"
       ],
       "description": "Auto Add",
       "index": [],
       "layout": "IPY_MODEL_a25d829c81cd4db295bf20e7b59212bd",
       "rows": 5,
       "style": "IPY_MODEL_a29e31bf108546a295bcd396396c6b8e"
      }
     },
     "2d58ca93be24493585015abed99894b6": {
      "model_module": "@jupyter-widgets/base",
      "model_module_version": "1.2.0",
      "model_name": "LayoutModel",
      "state": {}
     },
     "2ddce41199304d8888e63e395c84efa2": {
      "model_module": "@jupyter-widgets/base",
      "model_module_version": "1.2.0",
      "model_name": "LayoutModel",
      "state": {}
     },
     "2e2b4d032fc74897aaacc596699210d1": {
      "model_module": "@jupyter-widgets/controls",
      "model_module_version": "1.5.0",
      "model_name": "ButtonModel",
      "state": {
       "description": "New",
       "layout": "IPY_MODEL_3b253c246835456196df1cdf218789a2",
       "style": "IPY_MODEL_dfa5d600b89a4d54b72a886d0dbadb6d"
      }
     },
     "2e3d5ad380f740f6a1a94c25c0725445": {
      "model_module": "@jupyter-widgets/controls",
      "model_module_version": "1.5.0",
      "model_name": "TextareaModel",
      "state": {
       "description": "Motivation",
       "layout": "IPY_MODEL_78b745ea641140038a681336daee6c5e",
       "style": "IPY_MODEL_dac3c3c36f8644c6a8f2d2b15e1573ac"
      }
     },
     "2e4f0e806a354a71b5e2f46057dd6ebe": {
      "model_module": "@jupyter-widgets/controls",
      "model_module_version": "1.5.0",
      "model_name": "DescriptionStyleModel",
      "state": {
       "description_width": "10%"
      }
     },
     "2ed75abb917f469780edf578bb61e35b": {
      "model_module": "@jupyter-widgets/controls",
      "model_module_version": "1.5.0",
      "model_name": "HBoxModel",
      "state": {
       "children": [
        "IPY_MODEL_65935a10d89043349554d926322aab24",
        "IPY_MODEL_fefbd28638464729b14bd9dd86426bb6"
       ],
       "layout": "IPY_MODEL_e08ffce2928346db8eb0f4e2ae15ef98"
      }
     },
     "2eeb08696a1044e780ebe9880c76167d": {
      "model_module": "@jupyter-widgets/base",
      "model_module_version": "1.2.0",
      "model_name": "LayoutModel",
      "state": {}
     },
     "2f31bbe6e3c2485ba2c6db201c7f9e14": {
      "model_module": "@jupyter-widgets/base",
      "model_module_version": "1.2.0",
      "model_name": "LayoutModel",
      "state": {}
     },
     "2f840082c34345ffa5017c3e4732b968": {
      "model_module": "@jupyter-widgets/base",
      "model_module_version": "1.2.0",
      "model_name": "LayoutModel",
      "state": {}
     },
     "2fd0871c09ce4abfaedc16baf1762276": {
      "model_module": "@jupyter-widgets/output",
      "model_module_version": "1.0.0",
      "model_name": "OutputModel",
      "state": {
       "layout": "IPY_MODEL_10fd40c0d4594bcda5b3e966d6eb3c4b",
       "outputs": [
        {
         "data": {
          "text/html": "<h1 style=\"display: inline;\"><a href=\"WP1.1.ipynb\">WP1.1</a></h1><h3 style=\"display: inline;\">(<a href=\"../../Home.ipynb\" target=\"_blank\">Home</a>-><a href=\"../WP1.ipynb\" target=\"_blank\">WP1</a>)</h3>",
          "text/plain": "<cassini.ipygui.WHTML at 0x2401d76cc88>"
         },
         "metadata": {},
         "output_type": "display_data"
        }
       ]
      }
     },
     "2ff822f9b0a942feac17d1e93352ac6c": {
      "model_module": "@jupyter-widgets/output",
      "model_module_version": "1.0.0",
      "model_name": "OutputModel",
      "state": {
       "layout": "IPY_MODEL_96e4796d5b7c4d108cc51e93ac730e27",
       "outputs": [
        {
         "data": {
          "text/html": "<h3>New Sample</h3>",
          "text/plain": "<cassini.ipygui.WHTML at 0x2401d9f18d0>"
         },
         "metadata": {},
         "output_type": "display_data"
        }
       ]
      }
     },
     "305b9415313146a9ae2db30d74e21a19": {
      "model_module": "@jupyter-widgets/controls",
      "model_module_version": "1.5.0",
      "model_name": "DescriptionStyleModel",
      "state": {
       "description_width": "10%"
      }
     },
     "30ac5d2af0d54a4bbe35b1e7938e22f6": {
      "model_module": "@jupyter-widgets/base",
      "model_module_version": "1.2.0",
      "model_name": "LayoutModel",
      "state": {}
     },
     "30b3c65b73dd48db98723d2139bdab64": {
      "model_module": "@jupyter-widgets/base",
      "model_module_version": "1.2.0",
      "model_name": "LayoutModel",
      "state": {
       "width": "auto"
      }
     },
     "3113ad7ed7e14bbc8c86bed9bea4b6ab": {
      "model_module": "@jupyter-widgets/output",
      "model_module_version": "1.0.0",
      "model_name": "OutputModel",
      "state": {
       "layout": "IPY_MODEL_c6b27b2641eb4c6bb12dfb9380106301"
      }
     },
     "31f046f1359c4cb8b1a9e8bf1c6b973d": {
      "model_module": "@jupyter-widgets/controls",
      "model_module_version": "1.5.0",
      "model_name": "TextModel",
      "state": {
       "description": "Name:",
       "layout": "IPY_MODEL_b3314d150abf4a8a8a6a10c841810052",
       "placeholder": "e.g. XRD",
       "style": "IPY_MODEL_20d2afa6c51a4d64b3cb9e38d4547d8a"
      }
     },
     "32f1353f6e7b42be917a739b2171ae3c": {
      "model_module": "@jupyter-widgets/base",
      "model_module_version": "1.2.0",
      "model_name": "LayoutModel",
      "state": {}
     },
     "33083e3c486248d78c3b26351b628391": {
      "model_module": "@jupyter-widgets/controls",
      "model_module_version": "1.5.0",
      "model_name": "ButtonModel",
      "state": {
       "description": "New",
       "layout": "IPY_MODEL_b85057324e394f80a3e810cd4869f7db",
       "style": "IPY_MODEL_b2cae8e92c134445b8ef699acc28a9bf"
      }
     },
     "337a35fbf6a24304975fb574e3a03485": {
      "model_module": "@jupyter-widgets/base",
      "model_module_version": "1.2.0",
      "model_name": "LayoutModel",
      "state": {}
     },
     "3384dfc910c8442b84d5a8152e402b46": {
      "model_module": "@jupyter-widgets/base",
      "model_module_version": "1.2.0",
      "model_name": "LayoutModel",
      "state": {}
     },
     "33c3e8c93cae4aa2be37f3f92e51bced": {
      "model_module": "@jupyter-widgets/controls",
      "model_module_version": "1.5.0",
      "model_name": "ButtonModel",
      "state": {
       "description": "New",
       "layout": "IPY_MODEL_d5bdfaf08a9648fc91bfa38ff5a078ac",
       "style": "IPY_MODEL_9f3e2c3e3ce94ae38f9a2587d0cdfad3"
      }
     },
     "33fdb4d72b0241a68cddd3996050348f": {
      "model_module": "@jupyter-widgets/output",
      "model_module_version": "1.0.0",
      "model_name": "OutputModel",
      "state": {
       "layout": "IPY_MODEL_f2df8f0a27b947339292e33443ed68db",
       "outputs": [
        {
         "data": {
          "text/html": "<table border=\"1\" class=\"dataframe\">\n  <thead>\n    <tr style=\"text-align: right;\">\n      <th></th>\n      <th>started</th>\n      <th>description</th>\n      <th>Hang On</th>\n      <th>Obj</th>\n      <th>datasets</th>\n    </tr>\n    <tr>\n      <th>Name</th>\n      <th></th>\n      <th></th>\n      <th></th>\n      <th></th>\n      <th></th>\n    </tr>\n  </thead>\n  <tbody>\n    <tr>\n      <th>WP1.1a</th>\n      <td>2020-06-29</td>\n      <td></td>\n      <td>None</td>\n      <td><a href=\"WP1.1/WP1.1a.ipynb\" target=\"_blank\"><h4 style=\"display: inline;\">WP1.1a</h4 style=\"display: inline;\"</a></td>\n      <td>[&#x27;Plotting&#x27;]</td>\n    </tr>\n    <tr>\n      <th>WP1.1b</th>\n      <td>2020-06-29</td>\n      <td></td>\n      <td>None</td>\n      <td><a href=\"WP1.1/WP1.1b.ipynb\" target=\"_blank\"><h4 style=\"display: inline;\">WP1.1b</h4 style=\"display: inline;\"</a></td>\n      <td>[]</td>\n    </tr>\n    <tr>\n      <th>WP1.1c</th>\n      <td>2020-06-29</td>\n      <td></td>\n      <td>now</td>\n      <td><a href=\"WP1.1/WP1.1c.ipynb\" target=\"_blank\"><h4 style=\"display: inline;\">WP1.1c</h4 style=\"display: inline;\"</a></td>\n      <td>[]</td>\n    </tr>\n    <tr>\n      <th>WP1.1d</th>\n      <td>2020-06-29</td>\n      <td>Not sure what&#x27;ll happen!</td>\n      <td>None</td>\n      <td><a href=\"WP1.1/WP1.1d.ipynb\" target=\"_blank\"><h4 style=\"display: inline;\">WP1.1d</h4 style=\"display: inline;\"</a></td>\n      <td>[]</td>\n    </tr>\n  </tbody>\n</table>",
          "text/plain": "          started               description Hang On                Obj  \\\nName                                                                     \nWP1.1a 2020-06-29                              None  <Sample \"WP1.1a\">   \nWP1.1b 2020-06-29                              None  <Sample \"WP1.1b\">   \nWP1.1c 2020-06-29                               now  <Sample \"WP1.1c\">   \nWP1.1d 2020-06-29  Not sure what'll happen!    None  <Sample \"WP1.1d\">   \n\n          datasets  \nName                \nWP1.1a  [Plotting]  \nWP1.1b          []  \nWP1.1c          []  \nWP1.1d          []  "
         },
         "metadata": {},
         "output_type": "display_data"
        }
       ]
      }
     },
     "3424964eb9c44a9890000c3a4d7522e2": {
      "model_module": "@jupyter-widgets/base",
      "model_module_version": "1.2.0",
      "model_name": "LayoutModel",
      "state": {
       "width": "auto"
      }
     },
     "34453ffc6d3542678a13a15dac1ee3b4": {
      "model_module": "@jupyter-widgets/output",
      "model_module_version": "1.0.0",
      "model_name": "OutputModel",
      "state": {
       "layout": "IPY_MODEL_197733de14de412eb008c4c7b2712752"
      }
     },
     "346a24c3a5ee4330a9a6dda184c9607f": {
      "model_module": "@jupyter-widgets/controls",
      "model_module_version": "1.5.0",
      "model_name": "TextModel",
      "state": {
       "description": "Identifier",
       "layout": "IPY_MODEL_b0206005ba064fd9a98487fa5b2922d3",
       "placeholder": "([^0-9^-][^-]*)",
       "style": "IPY_MODEL_450f472423224d1385c074e27b23fe09"
      }
     },
     "3482a130434b47a29485472d315fe068": {
      "model_module": "@jupyter-widgets/base",
      "model_module_version": "1.2.0",
      "model_name": "LayoutModel",
      "state": {}
     },
     "348a1d09f9064a76b5839d3a5df2331d": {
      "model_module": "@jupyter-widgets/controls",
      "model_module_version": "1.5.0",
      "model_name": "SelectMultipleModel",
      "state": {
       "_options_labels": [
        "WP1.1a",
        "WP1.1b"
       ],
       "description": "Auto Add",
       "index": [],
       "layout": "IPY_MODEL_3a4fc569da1b4eb99079c6135edcc3aa",
       "rows": 5,
       "style": "IPY_MODEL_bac5a237949340f1893f46cc3679c30a"
      }
     },
     "34b4bab17b774ce8bfbd205cd44ed612": {
      "model_module": "@jupyter-widgets/controls",
      "model_module_version": "1.5.0",
      "model_name": "VBoxModel",
      "state": {
       "children": [
        "IPY_MODEL_b11b0fef86c14c96bbf9ba4bbeed4c13",
        "IPY_MODEL_2d014582b90343108c66edc5d2b4150f",
        "IPY_MODEL_555d747cd8f646a69cf84f0d0972c224",
        "IPY_MODEL_72ef143351794dbda0c1a9e19dd6b0fb"
       ],
       "layout": "IPY_MODEL_7c462e3a2d65467bb31620ce59627e5d"
      }
     },
     "3563371d764148ba989cffe0e947dec9": {
      "model_module": "@jupyter-widgets/base",
      "model_module_version": "1.2.0",
      "model_name": "LayoutModel",
      "state": {}
     },
     "357951c7867f449b80a6556c5e3a3f5d": {
      "model_module": "@jupyter-widgets/controls",
      "model_module_version": "1.5.0",
      "model_name": "ButtonModel",
      "state": {
       "description": "Confirm",
       "disabled": true,
       "layout": "IPY_MODEL_c755c895bb3c41f09f5f4864935de8e0",
       "style": "IPY_MODEL_e25b6fb1e81b497280000e74d8b3d821"
      }
     },
     "35ed3a62c97b418f97a3dad6a2e5e540": {
      "model_module": "@jupyter-widgets/base",
      "model_module_version": "1.2.0",
      "model_name": "LayoutModel",
      "state": {}
     },
     "35fef14e6daf4005b2c5d24ff9fdfa9a": {
      "model_module": "@jupyter-widgets/output",
      "model_module_version": "1.0.0",
      "model_name": "OutputModel",
      "state": {
       "layout": "IPY_MODEL_3482a130434b47a29485472d315fe068",
       "outputs": [
        {
         "data": {
          "text/html": "<h1 style=\"display: inline;\"><a href=\"WP1.1.ipynb\">WP1.1</a></h1><h3 style=\"display: inline;\">(<a href=\"../../Home.ipynb\" target=\"_blank\">Home</a>-><a href=\"../WP1.ipynb\" target=\"_blank\">WP1</a>)</h3>",
          "text/plain": "<cassini.ipygui.WHTML at 0x2401d71deb8>"
         },
         "metadata": {},
         "output_type": "display_data"
        }
       ]
      }
     },
     "362813efe37c4a59899e28c3d97b1b3e": {
      "model_module": "@jupyter-widgets/controls",
      "model_module_version": "1.5.0",
      "model_name": "TextModel",
      "state": {
       "description": "Identifier",
       "layout": "IPY_MODEL_ff128faeca484ff98cd101b443d5f44d",
       "placeholder": "([^0-9^-][^-]*)",
       "style": "IPY_MODEL_f358755ff5d942f3925b9a6f5fe09805"
      }
     },
     "367f343ea98c471eb0439b8e786a59c4": {
      "model_module": "@jupyter-widgets/base",
      "model_module_version": "1.2.0",
      "model_name": "LayoutModel",
      "state": {}
     },
     "37ba8628f78c490083b6f027862a26cb": {
      "model_module": "@jupyter-widgets/controls",
      "model_module_version": "1.5.0",
      "model_name": "DescriptionStyleModel",
      "state": {
       "description_width": "10%"
      }
     },
     "38444637301e4ee4aa62f1d9b6110074": {
      "model_module": "@jupyter-widgets/output",
      "model_module_version": "1.0.0",
      "model_name": "OutputModel",
      "state": {
       "layout": "IPY_MODEL_eb741f4aded9466f8d32ae82d7b2b4f6",
       "outputs": [
        {
         "data": {
          "text/html": "<h3>New Data</h3>",
          "text/plain": "<cassini.ipygui.WHTML at 0x2401d9f6f28>"
         },
         "metadata": {},
         "output_type": "display_data"
        }
       ]
      }
     },
     "384517bc06bc4d0e87b408a3504726fe": {
      "model_module": "@jupyter-widgets/controls",
      "model_module_version": "1.5.0",
      "model_name": "VBoxModel",
      "state": {
       "children": [
        "IPY_MODEL_0749371c13484b6c9b55708430ec071a",
        "IPY_MODEL_e839ded1f1f3465989c32826332dc659"
       ],
       "layout": "IPY_MODEL_6967a6b2d3d147dba1904614368969f8"
      }
     },
     "38774d6d97f8475a9d7dafc443970df2": {
      "model_module": "@jupyter-widgets/base",
      "model_module_version": "1.2.0",
      "model_name": "LayoutModel",
      "state": {}
     },
     "38965e5dc05641929852aca18606e187": {
      "model_module": "@jupyter-widgets/output",
      "model_module_version": "1.0.0",
      "model_name": "OutputModel",
      "state": {
       "layout": "IPY_MODEL_ad8a733b91e94f13841fb44bc3ab423c",
       "outputs": [
        {
         "data": {
          "text/html": "<h3>Samples</h3>",
          "text/plain": "<cassini.ipygui.WHTML at 0x2401d8bf358>"
         },
         "metadata": {},
         "output_type": "display_data"
        }
       ]
      }
     },
     "38eae02469d944f68b02645ea5b91b52": {
      "model_module": "@jupyter-widgets/controls",
      "model_module_version": "1.5.0",
      "model_name": "DescriptionStyleModel",
      "state": {
       "description_width": "10%"
      }
     },
     "39b4677923174f5b94f13c5310445851": {
      "model_module": "@jupyter-widgets/controls",
      "model_module_version": "1.5.0",
      "model_name": "SelectModel",
      "state": {
       "_options_labels": [
        "Custom.tmplt.ipynb",
        "Sample.tmplt.ipynb"
       ],
       "description": "Template",
       "index": 0,
       "layout": "IPY_MODEL_30b3c65b73dd48db98723d2139bdab64",
       "style": "IPY_MODEL_977a350fcd9542cd811a75a8fdeaed5f"
      }
     },
     "3a0c0cec2b464f41bfb59f68bbbbc229": {
      "model_module": "@jupyter-widgets/controls",
      "model_module_version": "1.5.0",
      "model_name": "VBoxModel",
      "state": {
       "children": [
        "IPY_MODEL_9e7b68e782484f31a17d300a104ca929",
        "IPY_MODEL_d98828b5f63f4cbf9ce9bd9e9e643ea7",
        "IPY_MODEL_103acd49618845959a2649421f1b8831",
        "IPY_MODEL_38965e5dc05641929852aca18606e187",
        "IPY_MODEL_fda6ce6fd2504eb1b409472bb9b8d531",
        "IPY_MODEL_8ea760f3bd39447c9d6b2adf6998c295",
        "IPY_MODEL_6eaa92297d444d9c9974cfc0f3e383f3",
        "IPY_MODEL_4c8fe58cc4f64a9ea55097dd9cb7ea5c",
        "IPY_MODEL_ea42b42996654ce6a8272bd56f4834d4"
       ],
       "layout": "IPY_MODEL_680363a73b2a490daac533fca7f41afa"
      }
     },
     "3a4fc569da1b4eb99079c6135edcc3aa": {
      "model_module": "@jupyter-widgets/base",
      "model_module_version": "1.2.0",
      "model_name": "LayoutModel",
      "state": {
       "width": "auto"
      }
     },
     "3abe31bdd73e47d88416443d39cd4e39": {
      "model_module": "@jupyter-widgets/output",
      "model_module_version": "1.0.0",
      "model_name": "OutputModel",
      "state": {
       "layout": "IPY_MODEL_e6fb5162ac8d434e94a435daaa8ce076",
       "outputs": [
        {
         "data": {
          "text/html": "<h3>New Sample</h3>",
          "text/plain": "<cassini.ipygui.WHTML at 0x2401d9f1128>"
         },
         "metadata": {},
         "output_type": "display_data"
        }
       ]
      }
     },
     "3acf4cda378d4e4096b2adc2f2b17a89": {
      "model_module": "@jupyter-widgets/base",
      "model_module_version": "1.2.0",
      "model_name": "LayoutModel",
      "state": {}
     },
     "3ad222f54bc94dd7bc6f8ea6b4234a62": {
      "model_module": "@jupyter-widgets/controls",
      "model_module_version": "1.5.0",
      "model_name": "ButtonStyleModel",
      "state": {}
     },
     "3adb93da3cf146b8aa8ddb3698dde705": {
      "model_module": "@jupyter-widgets/base",
      "model_module_version": "1.2.0",
      "model_name": "LayoutModel",
      "state": {
       "width": "auto"
      }
     },
     "3b253c246835456196df1cdf218789a2": {
      "model_module": "@jupyter-widgets/base",
      "model_module_version": "1.2.0",
      "model_name": "LayoutModel",
      "state": {}
     },
     "3b39454a0bb04f329db5fc5e8fb655f9": {
      "model_module": "@jupyter-widgets/base",
      "model_module_version": "1.2.0",
      "model_name": "LayoutModel",
      "state": {
       "width": "auto"
      }
     },
     "3b539324655d4007b0516d0fe57b8ed7": {
      "model_module": "@jupyter-widgets/controls",
      "model_module_version": "1.5.0",
      "model_name": "HBoxModel",
      "state": {
       "children": [
        "IPY_MODEL_ba285285f8e747d69163ced11ea95829",
        "IPY_MODEL_b210b673c9d6440187f6be1012ab4c14"
       ],
       "layout": "IPY_MODEL_2641032f121e47b1bad2a2a77a197b7d"
      }
     },
     "3ccab252e1ef4f17acd10eaa4d8975a3": {
      "model_module": "@jupyter-widgets/controls",
      "model_module_version": "1.5.0",
      "model_name": "VBoxModel",
      "state": {
       "children": [
        "IPY_MODEL_5a343908fca6422abd59ae60187fdd7e",
        "IPY_MODEL_dc47cc3090fe4895adaafe21a6ea420f",
        "IPY_MODEL_872c760bded84147ad87ea1dfc182883",
        "IPY_MODEL_bb3c948319084ca2815a0ea79ff6bee2"
       ],
       "layout": "IPY_MODEL_30ac5d2af0d54a4bbe35b1e7938e22f6"
      }
     },
     "3cccae5dadf148c98a600e6964c3e1e2": {
      "model_module": "@jupyter-widgets/controls",
      "model_module_version": "1.5.0",
      "model_name": "VBoxModel",
      "state": {
       "children": [
        "IPY_MODEL_346a24c3a5ee4330a9a6dda184c9607f",
        "IPY_MODEL_ff756727780e40aaa961212a867800a7",
        "IPY_MODEL_4a26a65bdb2a498c9bb4adc204a5bb64",
        "IPY_MODEL_3b539324655d4007b0516d0fe57b8ed7",
        "IPY_MODEL_7df3e9b5b2114bf28191f150027568f7"
       ],
       "layout": "IPY_MODEL_5d2c3a244cf54c6383ba7431dc4440eb"
      }
     },
     "3d40e5e111df4141b9d1bb1acbcf26ba": {
      "model_module": "@jupyter-widgets/base",
      "model_module_version": "1.2.0",
      "model_name": "LayoutModel",
      "state": {}
     },
     "3db94d50a9054accbcf46fdceffaa1b1": {
      "model_module": "@jupyter-widgets/output",
      "model_module_version": "1.0.0",
      "model_name": "OutputModel",
      "state": {
       "layout": "IPY_MODEL_8d5e839411db413bb60f63b72c9bc368"
      }
     },
     "3e0731dd785e458cb26f9d692825bc0c": {
      "model_module": "@jupyter-widgets/base",
      "model_module_version": "1.2.0",
      "model_name": "LayoutModel",
      "state": {}
     },
     "3e0ca0e944694b559be0fbe432f1cce0": {
      "model_module": "@jupyter-widgets/base",
      "model_module_version": "1.2.0",
      "model_name": "LayoutModel",
      "state": {}
     },
     "3e32ee7dbc8b4ae2befb2824ab2f7be0": {
      "model_module": "@jupyter-widgets/controls",
      "model_module_version": "1.5.0",
      "model_name": "ButtonStyleModel",
      "state": {}
     },
     "3e55d25851644b37bdef8873daad033e": {
      "model_module": "@jupyter-widgets/controls",
      "model_module_version": "1.5.0",
      "model_name": "TextareaModel",
      "state": {
       "description": "Motivation",
       "layout": "IPY_MODEL_43711cc125c242ae947c4991a44061d2",
       "style": "IPY_MODEL_7eb414e0995b4efb831f605af356a3cc"
      }
     },
     "3f7d87793cf74ced92cc8ca0429ce36e": {
      "model_module": "@jupyter-widgets/base",
      "model_module_version": "1.2.0",
      "model_name": "LayoutModel",
      "state": {}
     },
     "3f91c998dda840e58ee797e41872fdd3": {
      "model_module": "@jupyter-widgets/controls",
      "model_module_version": "1.5.0",
      "model_name": "TextareaModel",
      "state": {
       "description": "Motivation",
       "disabled": true,
       "layout": "IPY_MODEL_d59b61b7a3194b678f8cd546f3f1b0cb",
       "style": "IPY_MODEL_9e1cdd4f8b9849db93356e2998fdc0e2",
       "value": "Try again"
      }
     },
     "4075d76a9c3642f4a837ff0245b00527": {
      "model_module": "@jupyter-widgets/output",
      "model_module_version": "1.0.0",
      "model_name": "OutputModel",
      "state": {
       "layout": "IPY_MODEL_9c2172b3976149fa83b25e4514c81aee",
       "outputs": [
        {
         "data": {
          "text/html": "<h1 style=\"display: inline;\"><a href=\"WP1.1.ipynb\">WP1.1</a></h1><h3 style=\"display: inline;\">(<a href=\"../../Home.ipynb\" target=\"_blank\">Home</a>-><a href=\"../WP1.ipynb\" target=\"_blank\">WP1</a>)</h3>",
          "text/plain": "<cassini.ipygui.WHTML at 0x2401da7af60>"
         },
         "metadata": {},
         "output_type": "display_data"
        }
       ]
      }
     },
     "40f9b80336ea4649b1954ef942e922eb": {
      "model_module": "@jupyter-widgets/controls",
      "model_module_version": "1.5.0",
      "model_name": "ButtonStyleModel",
      "state": {}
     },
     "41bb1634830547e5ad912f9e129a42fd": {
      "model_module": "@jupyter-widgets/output",
      "model_module_version": "1.0.0",
      "model_name": "OutputModel",
      "state": {
       "layout": "IPY_MODEL_6460f45e78014eccbf0b7cdc1e802e54",
       "outputs": [
        {
         "data": {
          "text/html": "<h1 style=\"display: inline;\"><a href=\"WP1.1.ipynb\">WP1.1</a></h1><h3 style=\"display: inline;\">(<a href=\"../../Home.ipynb\" target=\"_blank\">Home</a>-><a href=\"../WP1.ipynb\" target=\"_blank\">WP1</a>)</h3>",
          "text/plain": "<cassini.ipygui.WHTML at 0x2401d6c02e8>"
         },
         "metadata": {},
         "output_type": "display_data"
        }
       ]
      }
     },
     "4200aefdf9a64eaf98cd7fb7ac3262f0": {
      "model_module": "@jupyter-widgets/base",
      "model_module_version": "1.2.0",
      "model_name": "LayoutModel",
      "state": {}
     },
     "43016712259e4561bf496000643fac75": {
      "model_module": "@jupyter-widgets/controls",
      "model_module_version": "1.5.0",
      "model_name": "VBoxModel",
      "state": {
       "children": [
        "IPY_MODEL_73a727776ae94cb4b35c7afb7b8e6a35",
        "IPY_MODEL_ee7254d98cf043829889170c77cc4074",
        "IPY_MODEL_0d7340fb52f04b9b8c42a46ba29914bd",
        "IPY_MODEL_8f8e6e80fc13427b90d2159286fd4136",
        "IPY_MODEL_79bc904854994904a0f86463eca3346c",
        "IPY_MODEL_5aedf38dcb8e463db5a716fabfb884b3",
        "IPY_MODEL_9eb207bbb84143288c7dcc66295fdf5d",
        "IPY_MODEL_e5404a6c76dd458597a539dc86adc290",
        "IPY_MODEL_8965f03a7e71462aac68f0bb28771182"
       ],
       "layout": "IPY_MODEL_c59e9d41c2b8475b9865592ebb93f898"
      }
     },
     "434f6cb6b9f941f1977c8a1178b335ea": {
      "model_module": "@jupyter-widgets/controls",
      "model_module_version": "1.5.0",
      "model_name": "VBoxModel",
      "state": {
       "children": [
        "IPY_MODEL_2fd0871c09ce4abfaedc16baf1762276",
        "IPY_MODEL_89d916403e4a4e1b885b24f93025779f"
       ],
       "layout": "IPY_MODEL_f0507918759743db9f39559f7afef2bf"
      }
     },
     "43711cc125c242ae947c4991a44061d2": {
      "model_module": "@jupyter-widgets/base",
      "model_module_version": "1.2.0",
      "model_name": "LayoutModel",
      "state": {
       "width": "auto"
      }
     },
     "439002c14a0c4c8eb6edb1eb94d7bda7": {
      "model_module": "@jupyter-widgets/base",
      "model_module_version": "1.2.0",
      "model_name": "LayoutModel",
      "state": {}
     },
     "43df30e7068746a590a22ef4fc03cabe": {
      "model_module": "@jupyter-widgets/base",
      "model_module_version": "1.2.0",
      "model_name": "LayoutModel",
      "state": {}
     },
     "44151b3c8be248439d179c23e0914955": {
      "model_module": "@jupyter-widgets/output",
      "model_module_version": "1.0.0",
      "model_name": "OutputModel",
      "state": {
       "layout": "IPY_MODEL_648c422546874fa7996bba5de396323f",
       "outputs": [
        {
         "data": {
          "text/html": "<h3>Motivation</h3>",
          "text/plain": "<cassini.ipygui.WHTML at 0x2401d71df98>"
         },
         "metadata": {},
         "output_type": "display_data"
        }
       ]
      }
     },
     "44580fdd04704738a9d1c3577d3016fd": {
      "model_module": "@jupyter-widgets/output",
      "model_module_version": "1.0.0",
      "model_name": "OutputModel",
      "state": {
       "layout": "IPY_MODEL_191b1b9521fc42b7be57ddba6d7e0c85",
       "outputs": [
        {
         "data": {
          "text/markdown": "Usually some sort of process you'll tweak and repeat on multiple samples",
          "text/plain": "<IPython.core.display.Markdown object>"
         },
         "metadata": {},
         "output_type": "display_data"
        }
       ]
      }
     },
     "44863f09cb90433d801f2dfda37ddd8e": {
      "model_module": "@jupyter-widgets/controls",
      "model_module_version": "1.5.0",
      "model_name": "DescriptionStyleModel",
      "state": {
       "description_width": "10%"
      }
     },
     "448717717e2642e9808b07df35447ac7": {
      "model_module": "@jupyter-widgets/base",
      "model_module_version": "1.2.0",
      "model_name": "LayoutModel",
      "state": {}
     },
     "44c5881df6cc490c95740f48ad969268": {
      "model_module": "@jupyter-widgets/base",
      "model_module_version": "1.2.0",
      "model_name": "LayoutModel",
      "state": {}
     },
     "4508073e62824b468b75e4bc8c482979": {
      "model_module": "@jupyter-widgets/controls",
      "model_module_version": "1.5.0",
      "model_name": "ButtonModel",
      "state": {
       "description": "New",
       "layout": "IPY_MODEL_44c5881df6cc490c95740f48ad969268",
       "style": "IPY_MODEL_3ad222f54bc94dd7bc6f8ea6b4234a62"
      }
     },
     "450f472423224d1385c074e27b23fe09": {
      "model_module": "@jupyter-widgets/controls",
      "model_module_version": "1.5.0",
      "model_name": "DescriptionStyleModel",
      "state": {
       "description_width": "10%"
      }
     },
     "4551ba7f141e4759a02703e7f0f16208": {
      "model_module": "@jupyter-widgets/base",
      "model_module_version": "1.2.0",
      "model_name": "LayoutModel",
      "state": {
       "width": "auto"
      }
     },
     "45e36c89b96142498e30e3e5ccfa272b": {
      "model_module": "@jupyter-widgets/output",
      "model_module_version": "1.0.0",
      "model_name": "OutputModel",
      "state": {
       "layout": "IPY_MODEL_a03d0cfaf8e74a199c588816a825776d"
      }
     },
     "45e6a537f8f84fdcb76666d8c8aa32b2": {
      "model_module": "@jupyter-widgets/base",
      "model_module_version": "1.2.0",
      "model_name": "LayoutModel",
      "state": {}
     },
     "463e3282b762400db36bfb8b7b1b1338": {
      "model_module": "@jupyter-widgets/output",
      "model_module_version": "1.0.0",
      "model_name": "OutputModel",
      "state": {
       "layout": "IPY_MODEL_3e0ca0e944694b559be0fbe432f1cce0"
      }
     },
     "46537a9da9494e50b6ca75cea2225130": {
      "model_module": "@jupyter-widgets/output",
      "model_module_version": "1.0.0",
      "model_name": "OutputModel",
      "state": {
       "layout": "IPY_MODEL_cbceb4957802409aa07558d2beaa5e70",
       "outputs": [
        {
         "data": {
          "text/markdown": "Usually some sort of process you'll tweak and repeat on multiple samples",
          "text/plain": "<IPython.core.display.Markdown object>"
         },
         "metadata": {},
         "output_type": "display_data"
        }
       ]
      }
     },
     "467eaec2c17f40b3a4d06c22e61f6ad1": {
      "model_module": "@jupyter-widgets/base",
      "model_module_version": "1.2.0",
      "model_name": "LayoutModel",
      "state": {}
     },
     "476e9757fe5445b6b62b84d55c8fcb94": {
      "model_module": "@jupyter-widgets/controls",
      "model_module_version": "1.5.0",
      "model_name": "DescriptionStyleModel",
      "state": {
       "description_width": "10%"
      }
     },
     "4781689de1794aba86ea8f72649c9c51": {
      "model_module": "@jupyter-widgets/base",
      "model_module_version": "1.2.0",
      "model_name": "LayoutModel",
      "state": {}
     },
     "4832c724006a4d66924fef09e5f044d4": {
      "model_module": "@jupyter-widgets/controls",
      "model_module_version": "1.5.0",
      "model_name": "DescriptionStyleModel",
      "state": {
       "description_width": "10%"
      }
     },
     "48639ca772e04eab99565638b55c58a8": {
      "model_module": "@jupyter-widgets/controls",
      "model_module_version": "1.5.0",
      "model_name": "DescriptionStyleModel",
      "state": {
       "description_width": "10%"
      }
     },
     "487d41fb1b4e4f1c97dc184e041ed032": {
      "model_module": "@jupyter-widgets/output",
      "model_module_version": "1.0.0",
      "model_name": "OutputModel",
      "state": {
       "layout": "IPY_MODEL_f1c272d13e7942bdb4e886f773d73984"
      }
     },
     "492418710a874ab98f1be62b55e6c31f": {
      "model_module": "@jupyter-widgets/controls",
      "model_module_version": "1.5.0",
      "model_name": "SelectModel",
      "state": {
       "_options_labels": [
        "Custom.tmplt.ipynb",
        "Sample.tmplt.ipynb"
       ],
       "description": "Template",
       "index": 0,
       "layout": "IPY_MODEL_6e386c83598d42b69b76359e2abb210d",
       "style": "IPY_MODEL_a260aa9fc64e4aa5b1bcedc415224cc0"
      }
     },
     "4a26a65bdb2a498c9bb4adc204a5bb64": {
      "model_module": "@jupyter-widgets/controls",
      "model_module_version": "1.5.0",
      "model_name": "TextareaModel",
      "state": {
       "description": "Motivation",
       "layout": "IPY_MODEL_a547670942ff4081b8d1d33abe55018f",
       "style": "IPY_MODEL_166a5839c79048ceb487f22fde369f78"
      }
     },
     "4a3a487b42894363be222d6d6fb7e5f0": {
      "model_module": "@jupyter-widgets/output",
      "model_module_version": "1.0.0",
      "model_name": "OutputModel",
      "state": {
       "layout": "IPY_MODEL_367f343ea98c471eb0439b8e786a59c4",
       "outputs": [
        {
         "data": {
          "text/html": "<h3>New Data</h3>",
          "text/plain": "<cassini.ipygui.WHTML at 0x2401d61fe80>"
         },
         "metadata": {},
         "output_type": "display_data"
        }
       ]
      }
     },
     "4a45f93538814d86a657c161f9cf54c1": {
      "model_module": "@jupyter-widgets/base",
      "model_module_version": "1.2.0",
      "model_name": "LayoutModel",
      "state": {}
     },
     "4ab68dbf7bb14317af418094eab088dc": {
      "model_module": "@jupyter-widgets/base",
      "model_module_version": "1.2.0",
      "model_name": "LayoutModel",
      "state": {
       "width": "auto"
      }
     },
     "4b2d2c4d1d924d9e8c727d6b12c36e3c": {
      "model_module": "@jupyter-widgets/base",
      "model_module_version": "1.2.0",
      "model_name": "LayoutModel",
      "state": {
       "width": "auto"
      }
     },
     "4ba97753772b4e2f874cace207dd2815": {
      "model_module": "@jupyter-widgets/controls",
      "model_module_version": "1.5.0",
      "model_name": "ButtonStyleModel",
      "state": {}
     },
     "4bc4aa9592ac42999741412a3c5973c1": {
      "model_module": "@jupyter-widgets/base",
      "model_module_version": "1.2.0",
      "model_name": "LayoutModel",
      "state": {
       "width": "auto"
      }
     },
     "4c8fe58cc4f64a9ea55097dd9cb7ea5c": {
      "model_module": "@jupyter-widgets/output",
      "model_module_version": "1.0.0",
      "model_name": "OutputModel",
      "state": {
       "layout": "IPY_MODEL_b5b0754da22f4708bed281ad2146a5f7",
       "outputs": [
        {
         "data": {
          "text/html": "<h3>New Data</h3>",
          "text/plain": "<cassini.ipygui.WHTML at 0x2401d90aa58>"
         },
         "metadata": {},
         "output_type": "display_data"
        }
       ]
      }
     },
     "4cccb014a53b4f9faf5cbcdc32ee80a2": {
      "model_module": "@jupyter-widgets/controls",
      "model_module_version": "1.5.0",
      "model_name": "DescriptionStyleModel",
      "state": {
       "description_width": "10%"
      }
     },
     "4cd94f54bd104307b6b8802dae5cb674": {
      "model_module": "@jupyter-widgets/base",
      "model_module_version": "1.2.0",
      "model_name": "LayoutModel",
      "state": {}
     },
     "4da0bf957cbd4d89b746954a43e5fd9f": {
      "model_module": "@jupyter-widgets/base",
      "model_module_version": "1.2.0",
      "model_name": "LayoutModel",
      "state": {}
     },
     "4dd274bbdd354ca8b6e3a2f387c32209": {
      "model_module": "@jupyter-widgets/controls",
      "model_module_version": "1.5.0",
      "model_name": "ButtonStyleModel",
      "state": {}
     },
     "4de1579cc8ce4da793392f11b27998ee": {
      "model_module": "@jupyter-widgets/output",
      "model_module_version": "1.0.0",
      "model_name": "OutputModel",
      "state": {
       "layout": "IPY_MODEL_e9889f9722dd4c63b7dd0191c471e281",
       "outputs": [
        {
         "data": {
          "text/html": "<h3>Motivation</h3>",
          "text/plain": "<cassini.ipygui.WHTML at 0x2401dac8b38>"
         },
         "metadata": {},
         "output_type": "display_data"
        }
       ]
      }
     },
     "4e64ee6f15f045e2ab21455492cba02c": {
      "model_module": "@jupyter-widgets/controls",
      "model_module_version": "1.5.0",
      "model_name": "TextareaModel",
      "state": {
       "description": "Motivation",
       "layout": "IPY_MODEL_b8a320fed546451496c776c079db1365",
       "style": "IPY_MODEL_2c362ad17f39450782fdf36ac1f4806a"
      }
     },
     "4f2f9c2de29e4b4998392cc5de7a186a": {
      "model_module": "@jupyter-widgets/base",
      "model_module_version": "1.2.0",
      "model_name": "LayoutModel",
      "state": {}
     },
     "4f544e716138458290005b9c2940294f": {
      "model_module": "@jupyter-widgets/base",
      "model_module_version": "1.2.0",
      "model_name": "LayoutModel",
      "state": {}
     },
     "4f893fe7470e457aa47c8f73d17f59f9": {
      "model_module": "@jupyter-widgets/base",
      "model_module_version": "1.2.0",
      "model_name": "LayoutModel",
      "state": {}
     },
     "4fd42a0cd97143448a06c4d7a6a70668": {
      "model_module": "@jupyter-widgets/base",
      "model_module_version": "1.2.0",
      "model_name": "LayoutModel",
      "state": {
       "width": "auto"
      }
     },
     "50f483a230ae464693a0cb927be84dc0": {
      "model_module": "@jupyter-widgets/controls",
      "model_module_version": "1.5.0",
      "model_name": "VBoxModel",
      "state": {
       "children": [
        "IPY_MODEL_b7338a79759b4969a0e8569c33ef0031",
        "IPY_MODEL_df4af43bd484422e8a97336fec3eae4b",
        "IPY_MODEL_555d349312f649a79b0877ebeeb555b7",
        "IPY_MODEL_59d65ae943eb4bbab30501eb0904635b"
       ],
       "layout": "IPY_MODEL_43df30e7068746a590a22ef4fc03cabe"
      }
     },
     "513c45ad3f1441abb3f6477715284ec3": {
      "model_module": "@jupyter-widgets/base",
      "model_module_version": "1.2.0",
      "model_name": "LayoutModel",
      "state": {}
     },
     "515f80854a6f4ec2a2fa5efbcc9b78d5": {
      "model_module": "@jupyter-widgets/controls",
      "model_module_version": "1.5.0",
      "model_name": "DescriptionStyleModel",
      "state": {
       "description_width": "10%"
      }
     },
     "51efc96890d143bc8d91ec4ddd2ca79b": {
      "model_module": "@jupyter-widgets/base",
      "model_module_version": "1.2.0",
      "model_name": "LayoutModel",
      "state": {
       "width": "auto"
      }
     },
     "520a1c6762b04d799839a7b8210a3527": {
      "model_module": "@jupyter-widgets/controls",
      "model_module_version": "1.5.0",
      "model_name": "TextareaModel",
      "state": {
       "description": "Motivation",
       "layout": "IPY_MODEL_63bc77d00f374257a7268e7371cf845f",
       "style": "IPY_MODEL_305b9415313146a9ae2db30d74e21a19"
      }
     },
     "5224ee06a6b84d3db87187dc1a8953e3": {
      "model_module": "@jupyter-widgets/base",
      "model_module_version": "1.2.0",
      "model_name": "LayoutModel",
      "state": {}
     },
     "528e27dee0ba43c7a4b09765f3bd0a6b": {
      "model_module": "@jupyter-widgets/controls",
      "model_module_version": "1.5.0",
      "model_name": "TextModel",
      "state": {
       "description": "Name:",
       "layout": "IPY_MODEL_5c3f0d7e30bc432faab9d1c1e89de252",
       "placeholder": "e.g. XRD",
       "style": "IPY_MODEL_1c7cefe5ed5c475082b900b16e80a91c"
      }
     },
     "52af791b2b4344cb8ee7b621a7cdf354": {
      "model_module": "@jupyter-widgets/output",
      "model_module_version": "1.0.0",
      "model_name": "OutputModel",
      "state": {
       "layout": "IPY_MODEL_6b71f2fd0e3044478f67fef610719bcc"
      }
     },
     "531efbb7d5c546b5b292b6a5a290dfa2": {
      "model_module": "@jupyter-widgets/base",
      "model_module_version": "1.2.0",
      "model_name": "LayoutModel",
      "state": {}
     },
     "5395d86ea169478eb5e7bb2a2f002ffc": {
      "model_module": "@jupyter-widgets/output",
      "model_module_version": "1.0.0",
      "model_name": "OutputModel",
      "state": {
       "layout": "IPY_MODEL_2b2e9f890bbe4ec9b269698d6bbe7566"
      }
     },
     "53a3ecf3eca54846a5817b05bf95999b": {
      "model_module": "@jupyter-widgets/base",
      "model_module_version": "1.2.0",
      "model_name": "LayoutModel",
      "state": {}
     },
     "5404f7b46c4a488cae252785db6b8a97": {
      "model_module": "@jupyter-widgets/base",
      "model_module_version": "1.2.0",
      "model_name": "LayoutModel",
      "state": {}
     },
     "540f33a6a61f4c3b89e2871600294a34": {
      "model_module": "@jupyter-widgets/controls",
      "model_module_version": "1.5.0",
      "model_name": "VBoxModel",
      "state": {
       "children": [
        "IPY_MODEL_528e27dee0ba43c7a4b09765f3bd0a6b",
        "IPY_MODEL_252f32bb8e6544789f5bd22817d22e32",
        "IPY_MODEL_a4bf66a5bdc04c6abd22d73eafc95ba4",
        "IPY_MODEL_990d6f0ec34d4d20b0486561061ec1d4"
       ],
       "layout": "IPY_MODEL_eadec7c19beb4a1c827ded0c85cc537c"
      }
     },
     "5483466610464f2e90240a7a2ffec1c5": {
      "model_module": "@jupyter-widgets/output",
      "model_module_version": "1.0.0",
      "model_name": "OutputModel",
      "state": {
       "layout": "IPY_MODEL_3563371d764148ba989cffe0e947dec9",
       "outputs": [
        {
         "data": {
          "text/markdown": "Fine",
          "text/plain": "<IPython.core.display.Markdown object>"
         },
         "metadata": {},
         "output_type": "display_data"
        }
       ]
      }
     },
     "54d1ff924148409e8ffc1c1194de4170": {
      "model_module": "@jupyter-widgets/output",
      "model_module_version": "1.0.0",
      "model_name": "OutputModel",
      "state": {
       "layout": "IPY_MODEL_db58e99ef1514bb8be322104a82ff5ce",
       "outputs": [
        {
         "data": {
          "text/html": "<h1 style=\"display: inline;\"><a href=\"WP1.1.ipynb\">WP1.1</a></h1><h3 style=\"display: inline;\">(<a href=\"../../Home.ipynb\" target=\"_blank\">Home</a>-><a href=\"../WP1.ipynb\" target=\"_blank\">WP1</a>)</h3>",
          "text/plain": "<cassini.ipygui.WHTML at 0x2401d9f62e8>"
         },
         "metadata": {},
         "output_type": "display_data"
        }
       ]
      }
     },
     "55596c74df4a43499ce5ad29e7db4601": {
      "model_module": "@jupyter-widgets/base",
      "model_module_version": "1.2.0",
      "model_name": "LayoutModel",
      "state": {}
     },
     "555d349312f649a79b0877ebeeb555b7": {
      "model_module": "@jupyter-widgets/controls",
      "model_module_version": "1.5.0",
      "model_name": "HBoxModel",
      "state": {
       "children": [
        "IPY_MODEL_5c167ae457e3470a900da7830fd816bf",
        "IPY_MODEL_33083e3c486248d78c3b26351b628391"
       ],
       "layout": "IPY_MODEL_9f9a284cc9944dacac05d9151ef686fe"
      }
     },
     "555d747cd8f646a69cf84f0d0972c224": {
      "model_module": "@jupyter-widgets/controls",
      "model_module_version": "1.5.0",
      "model_name": "HBoxModel",
      "state": {
       "children": [
        "IPY_MODEL_af033a1456414d119dfff4c1b26a7a20",
        "IPY_MODEL_ffcf1ed4b5d8478cb578851f0559c2df"
       ],
       "layout": "IPY_MODEL_dd04872e40e744d98cf40ec8735c0d25"
      }
     },
     "556712e1b30a4491a6e0db3b59d47aeb": {
      "model_module": "@jupyter-widgets/output",
      "model_module_version": "1.0.0",
      "model_name": "OutputModel",
      "state": {
       "layout": "IPY_MODEL_b3e547d76c564f7fb026b0c37aaa472f"
      }
     },
     "55899232a21446fba5e7e00c370bc997": {
      "model_module": "@jupyter-widgets/controls",
      "model_module_version": "1.5.0",
      "model_name": "ButtonStyleModel",
      "state": {}
     },
     "55a0d897c0364130999352ef30d30759": {
      "model_module": "@jupyter-widgets/controls",
      "model_module_version": "1.5.0",
      "model_name": "VBoxModel",
      "state": {
       "children": [
        "IPY_MODEL_6161968c2db3474e86fd87f1b5e3ef0c",
        "IPY_MODEL_cc47ec118e5f4575a85b5d1a86bcaaff"
       ],
       "layout": "IPY_MODEL_cf013b55511b43acb4c848ca80b0f1eb"
      }
     },
     "55c230a68943483da083188e8298f6d8": {
      "model_module": "@jupyter-widgets/controls",
      "model_module_version": "1.5.0",
      "model_name": "ButtonModel",
      "state": {
       "description": "New",
       "layout": "IPY_MODEL_d8ed064644884cce8ddfafc1965f18d3",
       "style": "IPY_MODEL_a83e8566593a4110b900531fec936176"
      }
     },
     "55c6bbfb3d76427bb534678b4e975882": {
      "model_module": "@jupyter-widgets/base",
      "model_module_version": "1.2.0",
      "model_name": "LayoutModel",
      "state": {
       "width": "auto"
      }
     },
     "55d6f61f156344fa8534f55b5737162c": {
      "model_module": "@jupyter-widgets/controls",
      "model_module_version": "1.5.0",
      "model_name": "ButtonModel",
      "state": {
       "description": "New",
       "layout": "IPY_MODEL_cf670a48564d431aab6a40ed19e78c52",
       "style": "IPY_MODEL_137ec0ee44724702931c507e5855be27"
      }
     },
     "560292291ab4441cac32359eefcae498": {
      "model_module": "@jupyter-widgets/controls",
      "model_module_version": "1.5.0",
      "model_name": "ButtonModel",
      "state": {
       "description": "Confirm",
       "disabled": true,
       "layout": "IPY_MODEL_9558ba7836544502889cd7008241d46a",
       "style": "IPY_MODEL_9fddcd15cc7f4cdc85ce4f866d8bf29e"
      }
     },
     "5616f68aa85447bcb837c3184781d38c": {
      "model_module": "@jupyter-widgets/controls",
      "model_module_version": "1.5.0",
      "model_name": "ButtonStyleModel",
      "state": {}
     },
     "57f7a3a481aa499f891732bdec8e6e83": {
      "model_module": "@jupyter-widgets/controls",
      "model_module_version": "1.5.0",
      "model_name": "TextareaModel",
      "state": {
       "description": "Motivation",
       "layout": "IPY_MODEL_ccb895660f624f07a6e24e848c8949c4",
       "style": "IPY_MODEL_fa3a3ba947f6427eacd5889dd6525c68"
      }
     },
     "57fb4b5e7a454da9980a36356331ba9d": {
      "model_module": "@jupyter-widgets/output",
      "model_module_version": "1.0.0",
      "model_name": "OutputModel",
      "state": {
       "layout": "IPY_MODEL_6502e3d399ec4e43813b7746f9225c5d",
       "outputs": [
        {
         "data": {
          "text/html": "<a href=\"WP1.1/WP1.1b.ipynb\" target=\"_blank\"><h4 style=\"display: inline;\">WP1.1b</h4 style=\"display: inline;\"</a>",
          "text/plain": "<cassini.ipygui.WHTML at 0x2401d8cb860>"
         },
         "metadata": {},
         "output_type": "display_data"
        }
       ]
      }
     },
     "5830f5d4895f4a00934bee95d0c2e344": {
      "model_module": "@jupyter-widgets/controls",
      "model_module_version": "1.5.0",
      "model_name": "DescriptionStyleModel",
      "state": {
       "description_width": "10%"
      }
     },
     "583411523ad544109bed4d613355bfec": {
      "model_module": "@jupyter-widgets/base",
      "model_module_version": "1.2.0",
      "model_name": "LayoutModel",
      "state": {}
     },
     "586625c11d374c919deef62328a79733": {
      "model_module": "@jupyter-widgets/base",
      "model_module_version": "1.2.0",
      "model_name": "LayoutModel",
      "state": {}
     },
     "589864fc0c864b0b84c9cc2317a246cb": {
      "model_module": "@jupyter-widgets/base",
      "model_module_version": "1.2.0",
      "model_name": "LayoutModel",
      "state": {}
     },
     "58a70e45dfb744d3983fd92b3cdd0922": {
      "model_module": "@jupyter-widgets/controls",
      "model_module_version": "1.5.0",
      "model_name": "HBoxModel",
      "state": {
       "children": [
        "IPY_MODEL_8cc5545b44da4dbf950e2bb0e46da14e",
        "IPY_MODEL_9d6444a4213a4ffe83a290fa2bfe81ff"
       ],
       "layout": "IPY_MODEL_148a242f02be48dc92c07d81f7840553"
      }
     },
     "58b2a77783e949689531a300dbb5a413": {
      "model_module": "@jupyter-widgets/controls",
      "model_module_version": "1.5.0",
      "model_name": "HBoxModel",
      "state": {
       "children": [
        "IPY_MODEL_357951c7867f449b80a6556c5e3a3f5d",
        "IPY_MODEL_f763868c83244e10965a127782b5d846"
       ],
       "layout": "IPY_MODEL_bfeb316a96d34b0cad06b4d5219669d1"
      }
     },
     "5926648e6f294c8fb4b35167ce007b3f": {
      "model_module": "@jupyter-widgets/controls",
      "model_module_version": "1.5.0",
      "model_name": "DescriptionStyleModel",
      "state": {
       "description_width": "10%"
      }
     },
     "59b51c8851bb48b0bac5bd93c712a8fa": {
      "model_module": "@jupyter-widgets/controls",
      "model_module_version": "1.5.0",
      "model_name": "ButtonModel",
      "state": {
       "description": "Folder",
       "layout": "IPY_MODEL_663e8a3f3b9049df8396087f6b02e719",
       "style": "IPY_MODEL_b00f751f885347acbb35d339ca95206e"
      }
     },
     "59bd62049ca247e69469370b148c7076": {
      "model_module": "@jupyter-widgets/base",
      "model_module_version": "1.2.0",
      "model_name": "LayoutModel",
      "state": {}
     },
     "59d65ae943eb4bbab30501eb0904635b": {
      "model_module": "@jupyter-widgets/output",
      "model_module_version": "1.0.0",
      "model_name": "OutputModel",
      "state": {
       "layout": "IPY_MODEL_3f7d87793cf74ced92cc8ca0429ce36e"
      }
     },
     "5a343908fca6422abd59ae60187fdd7e": {
      "model_module": "@jupyter-widgets/controls",
      "model_module_version": "1.5.0",
      "model_name": "TextModel",
      "state": {
       "description": "Name:",
       "layout": "IPY_MODEL_855224049ae549578580c54e6efe2729",
       "placeholder": "e.g. XRD",
       "style": "IPY_MODEL_607cbabbbe7b426f88230b726f8ce284"
      }
     },
     "5aedf38dcb8e463db5a716fabfb884b3": {
      "model_module": "@jupyter-widgets/output",
      "model_module_version": "1.0.0",
      "model_name": "OutputModel",
      "state": {
       "layout": "IPY_MODEL_ec12d7861f7e44c2a8e46b70577a52fe",
       "outputs": [
        {
         "data": {
          "text/html": "<h3>New Sample</h3>",
          "text/plain": "<cassini.ipygui.WHTML at 0x2401d9af9e8>"
         },
         "metadata": {},
         "output_type": "display_data"
        }
       ]
      }
     },
     "5b2116ca1e424dfb9aef66c6768867a9": {
      "model_module": "@jupyter-widgets/output",
      "model_module_version": "1.0.0",
      "model_name": "OutputModel",
      "state": {
       "layout": "IPY_MODEL_439002c14a0c4c8eb6edb1eb94d7bda7",
       "outputs": [
        {
         "data": {
          "text/html": "<table border=\"1\" class=\"dataframe\">\n  <thead>\n    <tr style=\"text-align: right;\">\n      <th></th>\n      <th>started</th>\n      <th>description</th>\n      <th>Hang On</th>\n      <th>Obj</th>\n      <th>datasets</th>\n    </tr>\n    <tr>\n      <th>Name</th>\n      <th></th>\n      <th></th>\n      <th></th>\n      <th></th>\n      <th></th>\n    </tr>\n  </thead>\n  <tbody>\n    <tr>\n      <th>WP1.1a</th>\n      <td>2020-06-29</td>\n      <td></td>\n      <td>None</td>\n      <td><a href=\"WP1.1/WP1.1a.ipynb\" target=\"_blank\"><h4 style=\"display: inline;\">WP1.1a</h4 style=\"display: inline;\"</a></td>\n      <td>[&#x27;Plotting&#x27;]</td>\n    </tr>\n    <tr>\n      <th>WP1.1b</th>\n      <td>2020-06-29</td>\n      <td></td>\n      <td>None</td>\n      <td><a href=\"WP1.1/WP1.1b.ipynb\" target=\"_blank\"><h4 style=\"display: inline;\">WP1.1b</h4 style=\"display: inline;\"</a></td>\n      <td>[]</td>\n    </tr>\n    <tr>\n      <th>WP1.1c</th>\n      <td>2020-06-29</td>\n      <td></td>\n      <td>now</td>\n      <td><a href=\"WP1.1/WP1.1c.ipynb\" target=\"_blank\"><h4 style=\"display: inline;\">WP1.1c</h4 style=\"display: inline;\"</a></td>\n      <td>[]</td>\n    </tr>\n    <tr>\n      <th>WP1.1d</th>\n      <td>2020-06-29</td>\n      <td>Not sure what&#x27;ll happen!</td>\n      <td>None</td>\n      <td><a href=\"WP1.1/WP1.1d.ipynb\" target=\"_blank\"><h4 style=\"display: inline;\">WP1.1d</h4 style=\"display: inline;\"</a></td>\n      <td>[]</td>\n    </tr>\n  </tbody>\n</table>",
          "text/plain": "          started               description Hang On                Obj  \\\nName                                                                     \nWP1.1a 2020-06-29                              None  <Sample \"WP1.1a\">   \nWP1.1b 2020-06-29                              None  <Sample \"WP1.1b\">   \nWP1.1c 2020-06-29                               now  <Sample \"WP1.1c\">   \nWP1.1d 2020-06-29  Not sure what'll happen!    None  <Sample \"WP1.1d\">   \n\n          datasets  \nName                \nWP1.1a  [Plotting]  \nWP1.1b          []  \nWP1.1c          []  \nWP1.1d          []  "
         },
         "metadata": {},
         "output_type": "display_data"
        }
       ]
      }
     },
     "5b75777aa3444aa9b56f84c7fdb7e2a2": {
      "model_module": "@jupyter-widgets/base",
      "model_module_version": "1.2.0",
      "model_name": "LayoutModel",
      "state": {
       "width": "auto"
      }
     },
     "5bea247d4e0546449528bc39b83fb253": {
      "model_module": "@jupyter-widgets/base",
      "model_module_version": "1.2.0",
      "model_name": "LayoutModel",
      "state": {}
     },
     "5beac395aaf14211897da91e9d9519c7": {
      "model_module": "@jupyter-widgets/output",
      "model_module_version": "1.0.0",
      "model_name": "OutputModel",
      "state": {
       "layout": "IPY_MODEL_467eaec2c17f40b3a4d06c22e61f6ad1",
       "outputs": [
        {
         "data": {
          "text/html": "<h3>New Sample</h3>",
          "text/plain": "<cassini.ipygui.WHTML at 0x2401d76c710>"
         },
         "metadata": {},
         "output_type": "display_data"
        }
       ]
      }
     },
     "5c167ae457e3470a900da7830fd816bf": {
      "model_module": "@jupyter-widgets/controls",
      "model_module_version": "1.5.0",
      "model_name": "ButtonModel",
      "state": {
       "description": "Confirm",
       "disabled": true,
       "layout": "IPY_MODEL_0ceb00f5173f4ad8be5022c55201d359",
       "style": "IPY_MODEL_c3c6df30510349e0984a2904974955c2"
      }
     },
     "5c3f0d7e30bc432faab9d1c1e89de252": {
      "model_module": "@jupyter-widgets/base",
      "model_module_version": "1.2.0",
      "model_name": "LayoutModel",
      "state": {
       "width": "auto"
      }
     },
     "5cc97886249a44c9a5c9a16f237208fa": {
      "model_module": "@jupyter-widgets/output",
      "model_module_version": "1.0.0",
      "model_name": "OutputModel",
      "state": {
       "layout": "IPY_MODEL_78c3ea4722ce421b8712501f6c41810c"
      }
     },
     "5d2c3a244cf54c6383ba7431dc4440eb": {
      "model_module": "@jupyter-widgets/base",
      "model_module_version": "1.2.0",
      "model_name": "LayoutModel",
      "state": {}
     },
     "5d77af82462a4900a2c040fc0bab5a20": {
      "model_module": "@jupyter-widgets/output",
      "model_module_version": "1.0.0",
      "model_name": "OutputModel",
      "state": {
       "layout": "IPY_MODEL_8f73909b4036468483bde07521937ce4",
       "outputs": [
        {
         "data": {
          "text/markdown": "Usually some sort of process you'll tweak and repeat on multiple samples",
          "text/plain": "<IPython.core.display.Markdown object>"
         },
         "metadata": {},
         "output_type": "display_data"
        }
       ]
      }
     },
     "5dbf6ba185104aacbea47d41c7630edb": {
      "model_module": "@jupyter-widgets/base",
      "model_module_version": "1.2.0",
      "model_name": "LayoutModel",
      "state": {
       "width": "auto"
      }
     },
     "5e60aab2aed74292b82f01e0f2800970": {
      "model_module": "@jupyter-widgets/controls",
      "model_module_version": "1.5.0",
      "model_name": "SelectModel",
      "state": {
       "_options_labels": [
        "Custom.tmplt.ipynb",
        "Sample.tmplt.ipynb"
       ],
       "description": "Template",
       "index": 0,
       "layout": "IPY_MODEL_5b75777aa3444aa9b56f84c7fdb7e2a2",
       "style": "IPY_MODEL_759aa45ed67d42ea923ec3aa04d8c672"
      }
     },
     "5ec04b7661ee46baaabf048f9f3a1ebc": {
      "model_module": "@jupyter-widgets/controls",
      "model_module_version": "1.5.0",
      "model_name": "ButtonModel",
      "state": {
       "description": "Confirm",
       "disabled": true,
       "layout": "IPY_MODEL_4f2f9c2de29e4b4998392cc5de7a186a",
       "style": "IPY_MODEL_7d7780ed657d47b79ea63b38b06378c8"
      }
     },
     "5f1e897b8d6146c6bc64d26fb4d529fd": {
      "model_module": "@jupyter-widgets/base",
      "model_module_version": "1.2.0",
      "model_name": "LayoutModel",
      "state": {}
     },
     "5f2ab9653430417e8b6a638137ff13d6": {
      "model_module": "@jupyter-widgets/base",
      "model_module_version": "1.2.0",
      "model_name": "LayoutModel",
      "state": {}
     },
     "6014eee0494f40d39685bd33cf90226f": {
      "model_module": "@jupyter-widgets/controls",
      "model_module_version": "1.5.0",
      "model_name": "HBoxModel",
      "state": {
       "children": [
        "IPY_MODEL_791f8d79ba29439d98560f3b2ea3604b",
        "IPY_MODEL_fd8afb1ad5224a7a8073dc152e7468d2"
       ],
       "layout": "IPY_MODEL_7ceb3e47d8c540e3a1e9ec4bd2150786"
      }
     },
     "607cbabbbe7b426f88230b726f8ce284": {
      "model_module": "@jupyter-widgets/controls",
      "model_module_version": "1.5.0",
      "model_name": "DescriptionStyleModel",
      "state": {
       "description_width": "10%"
      }
     },
     "61243261f9e94721bf9f225d78c3a15f": {
      "model_module": "@jupyter-widgets/controls",
      "model_module_version": "1.5.0",
      "model_name": "VBoxModel",
      "state": {
       "children": [
        "IPY_MODEL_82eaccc442554f6c94c86c9c7cebc2e1",
        "IPY_MODEL_59b51c8851bb48b0bac5bd93c712a8fa"
       ],
       "layout": "IPY_MODEL_b5b2d92e32204505bfda4692dc3c6687"
      }
     },
     "6161968c2db3474e86fd87f1b5e3ef0c": {
      "model_module": "@jupyter-widgets/output",
      "model_module_version": "1.0.0",
      "model_name": "OutputModel",
      "state": {
       "layout": "IPY_MODEL_59bd62049ca247e69469370b148c7076",
       "outputs": [
        {
         "data": {
          "text/html": "<h1 style=\"display: inline;\"><a href=\"WP1.1.ipynb\">WP1.1</a></h1><h3 style=\"display: inline;\">(<a href=\"../../Home.ipynb\" target=\"_blank\">Home</a>-><a href=\"../WP1.ipynb\" target=\"_blank\">WP1</a>)</h3>",
          "text/plain": "<cassini.ipygui.WHTML at 0x2401d87e668>"
         },
         "metadata": {},
         "output_type": "display_data"
        }
       ]
      }
     },
     "617b375bc0714e85874d55b9f25bb4b5": {
      "model_module": "@jupyter-widgets/base",
      "model_module_version": "1.2.0",
      "model_name": "LayoutModel",
      "state": {
       "width": "auto"
      }
     },
     "6186013409744c60a7aaf32f1eae34f3": {
      "model_module": "@jupyter-widgets/controls",
      "model_module_version": "1.5.0",
      "model_name": "ButtonStyleModel",
      "state": {}
     },
     "62ad8e861b6146c3a343c3fc79316f97": {
      "model_module": "@jupyter-widgets/base",
      "model_module_version": "1.2.0",
      "model_name": "LayoutModel",
      "state": {}
     },
     "62de7c7ca9424a1b8aeb19c298f4f48a": {
      "model_module": "@jupyter-widgets/controls",
      "model_module_version": "1.5.0",
      "model_name": "ButtonStyleModel",
      "state": {}
     },
     "62df90c85f1043168067b691d777b7cc": {
      "model_module": "@jupyter-widgets/base",
      "model_module_version": "1.2.0",
      "model_name": "LayoutModel",
      "state": {}
     },
     "62eb8cdb7b91462c881ea1cb6021932e": {
      "model_module": "@jupyter-widgets/controls",
      "model_module_version": "1.5.0",
      "model_name": "SelectModel",
      "state": {
       "_options_labels": [
        "Custom.tmplt.ipynb",
        "Sample.tmplt.ipynb"
       ],
       "description": "Template",
       "index": 0,
       "layout": "IPY_MODEL_27ac13f4617f4e3f88fb176ef9ceff4d",
       "style": "IPY_MODEL_7840a51afbb8449b9bc6e877162be930"
      }
     },
     "62f7635364db4c57a59a22548656307b": {
      "model_module": "@jupyter-widgets/controls",
      "model_module_version": "1.5.0",
      "model_name": "DescriptionStyleModel",
      "state": {
       "description_width": "10%"
      }
     },
     "63bc77d00f374257a7268e7371cf845f": {
      "model_module": "@jupyter-widgets/base",
      "model_module_version": "1.2.0",
      "model_name": "LayoutModel",
      "state": {
       "width": "auto"
      }
     },
     "6460f45e78014eccbf0b7cdc1e802e54": {
      "model_module": "@jupyter-widgets/base",
      "model_module_version": "1.2.0",
      "model_name": "LayoutModel",
      "state": {}
     },
     "648c422546874fa7996bba5de396323f": {
      "model_module": "@jupyter-widgets/base",
      "model_module_version": "1.2.0",
      "model_name": "LayoutModel",
      "state": {}
     },
     "6502e3d399ec4e43813b7746f9225c5d": {
      "model_module": "@jupyter-widgets/base",
      "model_module_version": "1.2.0",
      "model_name": "LayoutModel",
      "state": {}
     },
     "65189afd906a4d80b05778344e82f879": {
      "model_module": "@jupyter-widgets/controls",
      "model_module_version": "1.5.0",
      "model_name": "VBoxModel",
      "state": {
       "children": [
        "IPY_MODEL_70008e75e6e04943bf934229e0c12457",
        "IPY_MODEL_0e5bab23ab47461592f57f0faa055784",
        "IPY_MODEL_7f1885aeacfb4cf79bba5dccacad1ec5",
        "IPY_MODEL_a1b20b2a15254cc7ab722e56fd814b3e",
        "IPY_MODEL_1e603dd349c240f99ebde1278e66c14c",
        "IPY_MODEL_3abe31bdd73e47d88416443d39cd4e39",
        "IPY_MODEL_9694c4bd515c4d178352350539575eeb",
        "IPY_MODEL_38444637301e4ee4aa62f1d9b6110074",
        "IPY_MODEL_a1b72fff0b534f929080f2479e46fe6b"
       ],
       "layout": "IPY_MODEL_4f893fe7470e457aa47c8f73d17f59f9"
      }
     },
     "6524595489334013b900c5a48492df78": {
      "model_module": "@jupyter-widgets/controls",
      "model_module_version": "1.5.0",
      "model_name": "ButtonStyleModel",
      "state": {}
     },
     "656cfbe5311045fa8adc187c504b40a1": {
      "model_module": "@jupyter-widgets/controls",
      "model_module_version": "1.5.0",
      "model_name": "VBoxModel",
      "state": {
       "children": [
        "IPY_MODEL_4075d76a9c3642f4a837ff0245b00527",
        "IPY_MODEL_76a929d28c6e4404bc9f1d0da6238fce"
       ],
       "layout": "IPY_MODEL_68c82df4be7b4c17bb6f25f1c8368e53"
      }
     },
     "65935a10d89043349554d926322aab24": {
      "model_module": "@jupyter-widgets/controls",
      "model_module_version": "1.5.0",
      "model_name": "ButtonModel",
      "state": {
       "description": "Confirm",
       "disabled": true,
       "layout": "IPY_MODEL_4200aefdf9a64eaf98cd7fb7ac3262f0",
       "style": "IPY_MODEL_76feb329d23c46e8a767397b0f7e0331"
      }
     },
     "659c1c6172744f8091c7bf90882184fe": {
      "model_module": "@jupyter-widgets/controls",
      "model_module_version": "1.5.0",
      "model_name": "ButtonStyleModel",
      "state": {}
     },
     "65ec0b9bd08d4e628a8a2d72860327d5": {
      "model_module": "@jupyter-widgets/base",
      "model_module_version": "1.2.0",
      "model_name": "LayoutModel",
      "state": {}
     },
     "663e8a3f3b9049df8396087f6b02e719": {
      "model_module": "@jupyter-widgets/base",
      "model_module_version": "1.2.0",
      "model_name": "LayoutModel",
      "state": {}
     },
     "67157a7aa984408288c402ce891c00bd": {
      "model_module": "@jupyter-widgets/controls",
      "model_module_version": "1.5.0",
      "model_name": "VBoxModel",
      "state": {
       "children": [
        "IPY_MODEL_f82e0d4ddd324293941f5b4fb4a29b93",
        "IPY_MODEL_39b4677923174f5b94f13c5310445851",
        "IPY_MODEL_ea1c47bf4eb549b4b101de067125435a",
        "IPY_MODEL_2ed75abb917f469780edf578bb61e35b",
        "IPY_MODEL_8f5b51cb31f54bbb8c4fa04ddf46fdde"
       ],
       "layout": "IPY_MODEL_bb106ad0f4784eb697a7dae8c974ee89"
      }
     },
     "67c6366c15f244ceb735ad16e95a83d6": {
      "model_module": "@jupyter-widgets/controls",
      "model_module_version": "1.5.0",
      "model_name": "ButtonModel",
      "state": {
       "description": "New",
       "layout": "IPY_MODEL_1e90bf7e6bd14fde8a5302f3a0711f48",
       "style": "IPY_MODEL_f4e9c688126f4aeabf86ebecf30c847d"
      }
     },
     "67ed8854b78b47769464d0fbf96c2956": {
      "model_module": "@jupyter-widgets/controls",
      "model_module_version": "1.5.0",
      "model_name": "DescriptionStyleModel",
      "state": {
       "description_width": "10%"
      }
     },
     "680363a73b2a490daac533fca7f41afa": {
      "model_module": "@jupyter-widgets/base",
      "model_module_version": "1.2.0",
      "model_name": "LayoutModel",
      "state": {}
     },
     "68c363c9b0094942aaaee60a666b317c": {
      "model_module": "@jupyter-widgets/base",
      "model_module_version": "1.2.0",
      "model_name": "LayoutModel",
      "state": {
       "width": "auto"
      }
     },
     "68c82df4be7b4c17bb6f25f1c8368e53": {
      "model_module": "@jupyter-widgets/base",
      "model_module_version": "1.2.0",
      "model_name": "LayoutModel",
      "state": {}
     },
     "6967a6b2d3d147dba1904614368969f8": {
      "model_module": "@jupyter-widgets/base",
      "model_module_version": "1.2.0",
      "model_name": "LayoutModel",
      "state": {}
     },
     "6979c77c07614dec9830b27d0b61945d": {
      "model_module": "@jupyter-widgets/output",
      "model_module_version": "1.0.0",
      "model_name": "OutputModel",
      "state": {
       "layout": "IPY_MODEL_4bc4aa9592ac42999741412a3c5973c1"
      }
     },
     "69abf5e967df42c28da2c8a09d160d85": {
      "model_module": "@jupyter-widgets/controls",
      "model_module_version": "1.5.0",
      "model_name": "DescriptionStyleModel",
      "state": {
       "description_width": "10%"
      }
     },
     "69b38cb7dbc94addb6decdb53212a388": {
      "model_module": "@jupyter-widgets/base",
      "model_module_version": "1.2.0",
      "model_name": "LayoutModel",
      "state": {}
     },
     "69bddf23fe7f45c8ac01dfd84674e8d9": {
      "model_module": "@jupyter-widgets/controls",
      "model_module_version": "1.5.0",
      "model_name": "ButtonModel",
      "state": {
       "description": "Confirm",
       "layout": "IPY_MODEL_a1f41e5b92a04205b5f7e3ec3ad3bf9d",
       "style": "IPY_MODEL_3e32ee7dbc8b4ae2befb2824ab2f7be0"
      }
     },
     "6b71f2fd0e3044478f67fef610719bcc": {
      "model_module": "@jupyter-widgets/base",
      "model_module_version": "1.2.0",
      "model_name": "LayoutModel",
      "state": {}
     },
     "6c2e465d905c475e9237066d09effaf8": {
      "model_module": "@jupyter-widgets/base",
      "model_module_version": "1.2.0",
      "model_name": "LayoutModel",
      "state": {}
     },
     "6c81340b34054de2811e0c5713c4c826": {
      "model_module": "@jupyter-widgets/controls",
      "model_module_version": "1.5.0",
      "model_name": "ButtonStyleModel",
      "state": {}
     },
     "6ce0a3794f4f44c49161ac5b5b34e9f0": {
      "model_module": "@jupyter-widgets/base",
      "model_module_version": "1.2.0",
      "model_name": "LayoutModel",
      "state": {}
     },
     "6d18c6de723e47b798f541dfb2c031af": {
      "model_module": "@jupyter-widgets/base",
      "model_module_version": "1.2.0",
      "model_name": "LayoutModel",
      "state": {}
     },
     "6e386c83598d42b69b76359e2abb210d": {
      "model_module": "@jupyter-widgets/base",
      "model_module_version": "1.2.0",
      "model_name": "LayoutModel",
      "state": {
       "width": "auto"
      }
     },
     "6eaa92297d444d9c9974cfc0f3e383f3": {
      "model_module": "@jupyter-widgets/controls",
      "model_module_version": "1.5.0",
      "model_name": "VBoxModel",
      "state": {
       "children": [
        "IPY_MODEL_b53c215edf79485d810193f184204e76",
        "IPY_MODEL_25442aa4628d402a96baec64ab06120f",
        "IPY_MODEL_3e55d25851644b37bdef8873daad033e",
        "IPY_MODEL_ef92a02e7714492888c74d3b5ce4e206",
        "IPY_MODEL_225a508a3c2c4222b85b1b998ba46818"
       ],
       "layout": "IPY_MODEL_d3e26dc2d3f6446794b673467039f79d"
      }
     },
     "6f5666683e85452f90264e23bab52d8c": {
      "model_module": "@jupyter-widgets/controls",
      "model_module_version": "1.5.0",
      "model_name": "HBoxModel",
      "state": {
       "children": [
        "IPY_MODEL_2bc445e9dbfe476ea2ee7264e132af80",
        "IPY_MODEL_fee194ad858d4e65a8931a8f77f3951e"
       ],
       "layout": "IPY_MODEL_89a0748408b948098b67ba539282230b"
      }
     },
     "6f8a38ccd5644ed785cb10b37184cc6c": {
      "model_module": "@jupyter-widgets/base",
      "model_module_version": "1.2.0",
      "model_name": "LayoutModel",
      "state": {}
     },
     "70008e75e6e04943bf934229e0c12457": {
      "model_module": "@jupyter-widgets/controls",
      "model_module_version": "1.5.0",
      "model_name": "VBoxModel",
      "state": {
       "children": [
        "IPY_MODEL_54d1ff924148409e8ffc1c1194de4170",
        "IPY_MODEL_20212ed3b54342959f0f03ad8750b369"
       ],
       "layout": "IPY_MODEL_0ce0ab8e7c8b49fbb9a6f559f4189ce9"
      }
     },
     "7106591c39fa46b3b0ba799e96ea30f2": {
      "model_module": "@jupyter-widgets/base",
      "model_module_version": "1.2.0",
      "model_name": "LayoutModel",
      "state": {}
     },
     "722f1403ad2d492c924ce7cb0b5f2257": {
      "model_module": "@jupyter-widgets/base",
      "model_module_version": "1.2.0",
      "model_name": "LayoutModel",
      "state": {}
     },
     "724fa4d433fd49cebfc5ee21aaae2263": {
      "model_module": "@jupyter-widgets/controls",
      "model_module_version": "1.5.0",
      "model_name": "TextModel",
      "state": {
       "description": "Name:",
       "layout": "IPY_MODEL_b884176ad4b34df38ccc3f2e47f3482c",
       "placeholder": "e.g. XRD",
       "style": "IPY_MODEL_4cccb014a53b4f9faf5cbcdc32ee80a2"
      }
     },
     "729e3a1d9c134376b6c0bbcf69a2557b": {
      "model_module": "@jupyter-widgets/controls",
      "model_module_version": "1.5.0",
      "model_name": "ButtonStyleModel",
      "state": {}
     },
     "72ef143351794dbda0c1a9e19dd6b0fb": {
      "model_module": "@jupyter-widgets/output",
      "model_module_version": "1.0.0",
      "model_name": "OutputModel",
      "state": {
       "layout": "IPY_MODEL_f11f9b7ab82146ac97b9472c55843613"
      }
     },
     "7307cfe727d84453b1d98bd211b27aa5": {
      "model_module": "@jupyter-widgets/controls",
      "model_module_version": "1.5.0",
      "model_name": "ButtonStyleModel",
      "state": {}
     },
     "733d5064436343eb8800ba6ddd3b2974": {
      "model_module": "@jupyter-widgets/base",
      "model_module_version": "1.2.0",
      "model_name": "LayoutModel",
      "state": {}
     },
     "73a49a9159c7425a99cd3aefb077e359": {
      "model_module": "@jupyter-widgets/base",
      "model_module_version": "1.2.0",
      "model_name": "LayoutModel",
      "state": {}
     },
     "73a727776ae94cb4b35c7afb7b8e6a35": {
      "model_module": "@jupyter-widgets/controls",
      "model_module_version": "1.5.0",
      "model_name": "VBoxModel",
      "state": {
       "children": [
        "IPY_MODEL_ac2103d6e46f46c59042f1fc40729c3c",
        "IPY_MODEL_0b50497a4fbb478fb8eaea20b6bd1cfc"
       ],
       "layout": "IPY_MODEL_1632de6ad8f643d3b0f794ce439e0be1"
      }
     },
     "73dc2e00ef9740b88dbe69238ca217be": {
      "model_module": "@jupyter-widgets/controls",
      "model_module_version": "1.5.0",
      "model_name": "DescriptionStyleModel",
      "state": {
       "description_width": "10%"
      }
     },
     "74ad90b94e764b4992c02a71d9d57a7c": {
      "model_module": "@jupyter-widgets/output",
      "model_module_version": "1.0.0",
      "model_name": "OutputModel",
      "state": {
       "layout": "IPY_MODEL_b3a5010451eb40c28d0430b65ca2fbdb"
      }
     },
     "759aa45ed67d42ea923ec3aa04d8c672": {
      "model_module": "@jupyter-widgets/controls",
      "model_module_version": "1.5.0",
      "model_name": "DescriptionStyleModel",
      "state": {
       "description_width": "10%"
      }
     },
     "76a929d28c6e4404bc9f1d0da6238fce": {
      "model_module": "@jupyter-widgets/controls",
      "model_module_version": "1.5.0",
      "model_name": "ButtonModel",
      "state": {
       "description": "Folder",
       "layout": "IPY_MODEL_20f6ef047227449d8d1e5ab8a02fc726",
       "style": "IPY_MODEL_da432c9d4be340739a30c499da167faa"
      }
     },
     "76c4ad900f824d2281093fb94889b3ba": {
      "model_module": "@jupyter-widgets/output",
      "model_module_version": "1.0.0",
      "model_name": "OutputModel",
      "state": {
       "layout": "IPY_MODEL_c28b7db08bf84dca8d77ef99c3650598",
       "outputs": [
        {
         "data": {
          "text/markdown": "Usually some sort of process you'll tweak and repeat on multiple samples",
          "text/plain": "<IPython.core.display.Markdown object>"
         },
         "metadata": {},
         "output_type": "display_data"
        }
       ]
      }
     },
     "76d2212175da4a9589102ee966cbf3bb": {
      "model_module": "@jupyter-widgets/base",
      "model_module_version": "1.2.0",
      "model_name": "LayoutModel",
      "state": {}
     },
     "76feb329d23c46e8a767397b0f7e0331": {
      "model_module": "@jupyter-widgets/controls",
      "model_module_version": "1.5.0",
      "model_name": "ButtonStyleModel",
      "state": {}
     },
     "7728d980a57049838ed8c5a37fa22ba2": {
      "model_module": "@jupyter-widgets/base",
      "model_module_version": "1.2.0",
      "model_name": "LayoutModel",
      "state": {
       "width": "auto"
      }
     },
     "77783b30fcf8453a977bf809e364a1c4": {
      "model_module": "@jupyter-widgets/base",
      "model_module_version": "1.2.0",
      "model_name": "LayoutModel",
      "state": {}
     },
     "7800338adcd4417992509ebeb38352a1": {
      "model_module": "@jupyter-widgets/controls",
      "model_module_version": "1.5.0",
      "model_name": "SelectMultipleModel",
      "state": {
       "_options_labels": [
        "WP1.1a",
        "WP1.1b"
       ],
       "description": "Auto Add",
       "index": [],
       "layout": "IPY_MODEL_1e6118adcb2e4c26b77843d04a17ff31",
       "rows": 5,
       "style": "IPY_MODEL_2e4f0e806a354a71b5e2f46057dd6ebe"
      }
     },
     "7840a51afbb8449b9bc6e877162be930": {
      "model_module": "@jupyter-widgets/controls",
      "model_module_version": "1.5.0",
      "model_name": "DescriptionStyleModel",
      "state": {
       "description_width": "10%"
      }
     },
     "788bfd02c9a6497db1eec11bb8b46b99": {
      "model_module": "@jupyter-widgets/base",
      "model_module_version": "1.2.0",
      "model_name": "LayoutModel",
      "state": {}
     },
     "78b745ea641140038a681336daee6c5e": {
      "model_module": "@jupyter-widgets/base",
      "model_module_version": "1.2.0",
      "model_name": "LayoutModel",
      "state": {
       "width": "auto"
      }
     },
     "78c3ea4722ce421b8712501f6c41810c": {
      "model_module": "@jupyter-widgets/base",
      "model_module_version": "1.2.0",
      "model_name": "LayoutModel",
      "state": {}
     },
     "78dae9497a704c16931bc48080313f01": {
      "model_module": "@jupyter-widgets/base",
      "model_module_version": "1.2.0",
      "model_name": "LayoutModel",
      "state": {
       "width": "auto"
      }
     },
     "791f8d79ba29439d98560f3b2ea3604b": {
      "model_module": "@jupyter-widgets/controls",
      "model_module_version": "1.5.0",
      "model_name": "ButtonModel",
      "state": {
       "description": "Confirm",
       "disabled": true,
       "layout": "IPY_MODEL_80b1c191344c4920be423fe63c0739ce",
       "style": "IPY_MODEL_be14e49f72744b7e8b709e8e2a4a827b"
      }
     },
     "7938d5de3f264802a10859e7f03a2bd1": {
      "model_module": "@jupyter-widgets/controls",
      "model_module_version": "1.5.0",
      "model_name": "VBoxModel",
      "state": {
       "children": [
        "IPY_MODEL_d94d425d049f4367812bcbef2c208a23",
        "IPY_MODEL_4de1579cc8ce4da793392f11b27998ee",
        "IPY_MODEL_5d77af82462a4900a2c040fc0bab5a20",
        "IPY_MODEL_20908c01927e4840b7557c901070d84f",
        "IPY_MODEL_fdc17a6010984863bf1d65acefb80393",
        "IPY_MODEL_dc04f3ea911945ad8f37da3e26e656fd",
        "IPY_MODEL_82c8c77b1a674d59b3ecc62d07c381d5",
        "IPY_MODEL_95c4d0a65ffa45e9be61cd13b10af890",
        "IPY_MODEL_a37e0362178b4e86941f2f2b537c69fa"
       ],
       "layout": "IPY_MODEL_c1b15c0825354fd88eb3c327c672ef1e"
      }
     },
     "793e5c0cbf74438989abe2c34725cfb8": {
      "model_module": "@jupyter-widgets/controls",
      "model_module_version": "1.5.0",
      "model_name": "DescriptionStyleModel",
      "state": {
       "description_width": "10%"
      }
     },
     "79509822fc2c4b9c85c2e800d20642bc": {
      "model_module": "@jupyter-widgets/output",
      "model_module_version": "1.0.0",
      "model_name": "OutputModel",
      "state": {
       "layout": "IPY_MODEL_b87e680de401467aaca223a48de6935d",
       "outputs": [
        {
         "data": {
          "text/html": "<h1 style=\"display: inline;\"><a href=\"WP1.1.ipynb\">WP1.1</a></h1><h3 style=\"display: inline;\">(<a href=\"../../Home.ipynb\" target=\"_blank\">Home</a>-><a href=\"../WP1.ipynb\" target=\"_blank\">WP1</a>)</h3>",
          "text/plain": "<cassini.ipygui.WHTML at 0x2401dac8c50>"
         },
         "metadata": {},
         "output_type": "display_data"
        }
       ]
      }
     },
     "79b392a9b83f4f5a91eb2f29537b4017": {
      "model_module": "@jupyter-widgets/output",
      "model_module_version": "1.0.0",
      "model_name": "OutputModel",
      "state": {
       "layout": "IPY_MODEL_f6f8ad87dd95457387a2a02b9efc4061",
       "outputs": [
        {
         "name": "stdout",
         "output_type": "stream",
         "text": "Creating files for WP1.1b\nMeta (D:\\Documents\\Programin\\WorkingVersions\\cassini\\dev\\examples\\default\\WorkPackages\\WP1\\WP1.1\\.smpls\\WP1.1b.json)\nWriting Meta Data\nSuccess\nCreating Tier File (D:\\Documents\\Programin\\WorkingVersions\\cassini\\dev\\examples\\default\\WorkPackages\\WP1\\WP1.1\\WP1.1b.ipynb) using template (Sample\\Custom.tmplt.ipynb)\n<class 'jinja2.exceptions.TemplateSyntaxError'> occured, rolling back\nDeleting D:\\Documents\\Programin\\WorkingVersions\\cassini\\dev\\examples\\default\\WorkPackages\\WP1\\WP1.1\\.smpls\\WP1.1b.json\nDone\n"
        },
        {
         "ename": "TypeError",
         "evalue": "__init__() missing 1 required positional argument: 'lineno'",
         "output_type": "error",
         "traceback": [
          "\u001b[1;31m---------------------------------------------------------------------------\u001b[0m",
          "\u001b[1;31mTemplateSyntaxError\u001b[0m                       Traceback (most recent call last)",
          "\u001b[1;32md:\\documents\\programin\\workingversions\\cassini\\dev\\cassini\\core.py\u001b[0m in \u001b[0;36msetup_files\u001b[1;34m(self, template)\u001b[0m\n\u001b[0;32m    317\u001b[0m             \u001b[0mprint\u001b[0m\u001b[1;33m(\u001b[0m\u001b[1;34mf\"Creating Tier File ({self.file}) using template ({template})\"\u001b[0m\u001b[1;33m)\u001b[0m\u001b[1;33m\u001b[0m\u001b[1;33m\u001b[0m\u001b[0m\n\u001b[1;32m--> 318\u001b[1;33m             \u001b[0mmaker\u001b[0m\u001b[1;33m.\u001b[0m\u001b[0mwrite_file\u001b[0m\u001b[1;33m(\u001b[0m\u001b[0mself\u001b[0m\u001b[1;33m.\u001b[0m\u001b[0mfile\u001b[0m\u001b[1;33m,\u001b[0m \u001b[0mself\u001b[0m\u001b[1;33m.\u001b[0m\u001b[0mrender_template\u001b[0m\u001b[1;33m(\u001b[0m\u001b[0mtemplate\u001b[0m\u001b[1;33m)\u001b[0m\u001b[1;33m)\u001b[0m\u001b[1;33m\u001b[0m\u001b[1;33m\u001b[0m\u001b[0m\n\u001b[0m\u001b[0;32m    319\u001b[0m             \u001b[0mprint\u001b[0m\u001b[1;33m(\u001b[0m\u001b[1;34m\"Success\"\u001b[0m\u001b[1;33m)\u001b[0m\u001b[1;33m\u001b[0m\u001b[1;33m\u001b[0m\u001b[0m\n",
          "\u001b[1;32md:\\documents\\programin\\workingversions\\cassini\\dev\\cassini\\core.py\u001b[0m in \u001b[0;36mrender_template\u001b[1;34m(self, template)\u001b[0m\n\u001b[0;32m    578\u001b[0m         \"\"\"\n\u001b[1;32m--> 579\u001b[1;33m         \u001b[0mtemplate\u001b[0m \u001b[1;33m=\u001b[0m \u001b[0menv\u001b[0m\u001b[1;33m.\u001b[0m\u001b[0mproject\u001b[0m\u001b[1;33m.\u001b[0m\u001b[0mtemplate_env\u001b[0m\u001b[1;33m.\u001b[0m\u001b[0mget_template\u001b[0m\u001b[1;33m(\u001b[0m\u001b[0mtemplate\u001b[0m\u001b[1;33m)\u001b[0m\u001b[1;33m\u001b[0m\u001b[1;33m\u001b[0m\u001b[0m\n\u001b[0m\u001b[0;32m    580\u001b[0m         \u001b[1;32mreturn\u001b[0m \u001b[0mtemplate\u001b[0m\u001b[1;33m.\u001b[0m\u001b[0mrender\u001b[0m\u001b[1;33m(\u001b[0m\u001b[1;33m**\u001b[0m\u001b[1;33m{\u001b[0m\u001b[0mself\u001b[0m\u001b[1;33m.\u001b[0m\u001b[0mshort_type\u001b[0m\u001b[1;33m:\u001b[0m \u001b[0mself\u001b[0m\u001b[1;33m,\u001b[0m \u001b[1;34m'tier'\u001b[0m\u001b[1;33m:\u001b[0m \u001b[0mself\u001b[0m\u001b[1;33m}\u001b[0m\u001b[1;33m)\u001b[0m\u001b[1;33m\u001b[0m\u001b[1;33m\u001b[0m\u001b[0m\n",
          "\u001b[1;32md:\\documents\\programin\\workingversions\\cassini\\dev\\cassini\\environment.py\u001b[0m in \u001b[0;36mget_template\u001b[1;34m(self, name, parent, globals)\u001b[0m\n\u001b[0;32m     21\u001b[0m     \u001b[1;32mdef\u001b[0m \u001b[0mget_template\u001b[0m\u001b[1;33m(\u001b[0m\u001b[0mself\u001b[0m\u001b[1;33m,\u001b[0m \u001b[0mname\u001b[0m\u001b[1;33m:\u001b[0m \u001b[0mUnion\u001b[0m\u001b[1;33m[\u001b[0m\u001b[0mPath\u001b[0m\u001b[1;33m,\u001b[0m \u001b[0mstr\u001b[0m\u001b[1;33m]\u001b[0m\u001b[1;33m,\u001b[0m \u001b[0mparent\u001b[0m\u001b[1;33m=\u001b[0m\u001b[1;32mNone\u001b[0m\u001b[1;33m,\u001b[0m \u001b[0mglobals\u001b[0m\u001b[1;33m=\u001b[0m\u001b[1;32mNone\u001b[0m\u001b[1;33m)\u001b[0m\u001b[1;33m:\u001b[0m\u001b[1;33m\u001b[0m\u001b[1;33m\u001b[0m\u001b[0m\n\u001b[1;32m---> 22\u001b[1;33m         \u001b[1;32mreturn\u001b[0m \u001b[0msuper\u001b[0m\u001b[1;33m(\u001b[0m\u001b[1;33m)\u001b[0m\u001b[1;33m.\u001b[0m\u001b[0mget_template\u001b[0m\u001b[1;33m(\u001b[0m\u001b[0mname\u001b[0m\u001b[1;33m.\u001b[0m\u001b[0mas_posix\u001b[0m\u001b[1;33m(\u001b[0m\u001b[1;33m)\u001b[0m \u001b[1;32mif\u001b[0m \u001b[0misinstance\u001b[0m\u001b[1;33m(\u001b[0m\u001b[0mname\u001b[0m\u001b[1;33m,\u001b[0m \u001b[0mPath\u001b[0m\u001b[1;33m)\u001b[0m \u001b[1;32melse\u001b[0m \u001b[0mname\u001b[0m\u001b[1;33m,\u001b[0m \u001b[0mparent\u001b[0m\u001b[1;33m=\u001b[0m\u001b[1;32mNone\u001b[0m\u001b[1;33m,\u001b[0m \u001b[0mglobals\u001b[0m\u001b[1;33m=\u001b[0m\u001b[1;32mNone\u001b[0m\u001b[1;33m)\u001b[0m\u001b[1;33m\u001b[0m\u001b[1;33m\u001b[0m\u001b[0m\n\u001b[0m\u001b[0;32m     23\u001b[0m \u001b[1;33m\u001b[0m\u001b[0m\n",
          "\u001b[1;32md:\\documents\\programin\\venvs\\cassini\\lib\\site-packages\\jinja2\\environment.py\u001b[0m in \u001b[0;36mget_template\u001b[1;34m(self, name, parent, globals)\u001b[0m\n\u001b[0;32m    882\u001b[0m             \u001b[0mname\u001b[0m \u001b[1;33m=\u001b[0m \u001b[0mself\u001b[0m\u001b[1;33m.\u001b[0m\u001b[0mjoin_path\u001b[0m\u001b[1;33m(\u001b[0m\u001b[0mname\u001b[0m\u001b[1;33m,\u001b[0m \u001b[0mparent\u001b[0m\u001b[1;33m)\u001b[0m\u001b[1;33m\u001b[0m\u001b[1;33m\u001b[0m\u001b[0m\n\u001b[1;32m--> 883\u001b[1;33m         \u001b[1;32mreturn\u001b[0m \u001b[0mself\u001b[0m\u001b[1;33m.\u001b[0m\u001b[0m_load_template\u001b[0m\u001b[1;33m(\u001b[0m\u001b[0mname\u001b[0m\u001b[1;33m,\u001b[0m \u001b[0mself\u001b[0m\u001b[1;33m.\u001b[0m\u001b[0mmake_globals\u001b[0m\u001b[1;33m(\u001b[0m\u001b[0mglobals\u001b[0m\u001b[1;33m)\u001b[0m\u001b[1;33m)\u001b[0m\u001b[1;33m\u001b[0m\u001b[1;33m\u001b[0m\u001b[0m\n\u001b[0m\u001b[0;32m    884\u001b[0m \u001b[1;33m\u001b[0m\u001b[0m\n",
          "\u001b[1;32md:\\documents\\programin\\venvs\\cassini\\lib\\site-packages\\jinja2\\environment.py\u001b[0m in \u001b[0;36m_load_template\u001b[1;34m(self, name, globals)\u001b[0m\n\u001b[0;32m    856\u001b[0m                 \u001b[1;32mreturn\u001b[0m \u001b[0mtemplate\u001b[0m\u001b[1;33m\u001b[0m\u001b[1;33m\u001b[0m\u001b[0m\n\u001b[1;32m--> 857\u001b[1;33m         \u001b[0mtemplate\u001b[0m \u001b[1;33m=\u001b[0m \u001b[0mself\u001b[0m\u001b[1;33m.\u001b[0m\u001b[0mloader\u001b[0m\u001b[1;33m.\u001b[0m\u001b[0mload\u001b[0m\u001b[1;33m(\u001b[0m\u001b[0mself\u001b[0m\u001b[1;33m,\u001b[0m \u001b[0mname\u001b[0m\u001b[1;33m,\u001b[0m \u001b[0mglobals\u001b[0m\u001b[1;33m)\u001b[0m\u001b[1;33m\u001b[0m\u001b[1;33m\u001b[0m\u001b[0m\n\u001b[0m\u001b[0;32m    858\u001b[0m         \u001b[1;32mif\u001b[0m \u001b[0mself\u001b[0m\u001b[1;33m.\u001b[0m\u001b[0mcache\u001b[0m \u001b[1;32mis\u001b[0m \u001b[1;32mnot\u001b[0m \u001b[1;32mNone\u001b[0m\u001b[1;33m:\u001b[0m\u001b[1;33m\u001b[0m\u001b[1;33m\u001b[0m\u001b[0m\n",
          "\u001b[1;32md:\\documents\\programin\\venvs\\cassini\\lib\\site-packages\\jinja2\\loaders.py\u001b[0m in \u001b[0;36mload\u001b[1;34m(self, environment, name, globals)\u001b[0m\n\u001b[0;32m    126\u001b[0m         \u001b[1;32mif\u001b[0m \u001b[0mcode\u001b[0m \u001b[1;32mis\u001b[0m \u001b[1;32mNone\u001b[0m\u001b[1;33m:\u001b[0m\u001b[1;33m\u001b[0m\u001b[1;33m\u001b[0m\u001b[0m\n\u001b[1;32m--> 127\u001b[1;33m             \u001b[0mcode\u001b[0m \u001b[1;33m=\u001b[0m \u001b[0menvironment\u001b[0m\u001b[1;33m.\u001b[0m\u001b[0mcompile\u001b[0m\u001b[1;33m(\u001b[0m\u001b[0msource\u001b[0m\u001b[1;33m,\u001b[0m \u001b[0mname\u001b[0m\u001b[1;33m,\u001b[0m \u001b[0mfilename\u001b[0m\u001b[1;33m)\u001b[0m\u001b[1;33m\u001b[0m\u001b[1;33m\u001b[0m\u001b[0m\n\u001b[0m\u001b[0;32m    128\u001b[0m \u001b[1;33m\u001b[0m\u001b[0m\n",
          "\u001b[1;32md:\\documents\\programin\\venvs\\cassini\\lib\\site-packages\\jinja2\\environment.py\u001b[0m in \u001b[0;36mcompile\u001b[1;34m(self, source, name, filename, raw, defer_init)\u001b[0m\n\u001b[0;32m    637\u001b[0m         \u001b[1;32mexcept\u001b[0m \u001b[0mTemplateSyntaxError\u001b[0m\u001b[1;33m:\u001b[0m\u001b[1;33m\u001b[0m\u001b[1;33m\u001b[0m\u001b[0m\n\u001b[1;32m--> 638\u001b[1;33m             \u001b[0mself\u001b[0m\u001b[1;33m.\u001b[0m\u001b[0mhandle_exception\u001b[0m\u001b[1;33m(\u001b[0m\u001b[0msource\u001b[0m\u001b[1;33m=\u001b[0m\u001b[0msource_hint\u001b[0m\u001b[1;33m)\u001b[0m\u001b[1;33m\u001b[0m\u001b[1;33m\u001b[0m\u001b[0m\n\u001b[0m\u001b[0;32m    639\u001b[0m \u001b[1;33m\u001b[0m\u001b[0m\n",
          "\u001b[1;32md:\\documents\\programin\\venvs\\cassini\\lib\\site-packages\\jinja2\\environment.py\u001b[0m in \u001b[0;36mhandle_exception\u001b[1;34m(self, source)\u001b[0m\n\u001b[0;32m    831\u001b[0m \u001b[1;33m\u001b[0m\u001b[0m\n\u001b[1;32m--> 832\u001b[1;33m         \u001b[0mreraise\u001b[0m\u001b[1;33m(\u001b[0m\u001b[1;33m*\u001b[0m\u001b[0mrewrite_traceback_stack\u001b[0m\u001b[1;33m(\u001b[0m\u001b[0msource\u001b[0m\u001b[1;33m=\u001b[0m\u001b[0msource\u001b[0m\u001b[1;33m)\u001b[0m\u001b[1;33m)\u001b[0m\u001b[1;33m\u001b[0m\u001b[1;33m\u001b[0m\u001b[0m\n\u001b[0m\u001b[0;32m    833\u001b[0m \u001b[1;33m\u001b[0m\u001b[0m\n",
          "\u001b[1;32md:\\documents\\programin\\venvs\\cassini\\lib\\site-packages\\jinja2\\_compat.py\u001b[0m in \u001b[0;36mreraise\u001b[1;34m(tp, value, tb)\u001b[0m\n\u001b[0;32m     27\u001b[0m         \u001b[1;32mif\u001b[0m \u001b[0mvalue\u001b[0m\u001b[1;33m.\u001b[0m\u001b[0m__traceback__\u001b[0m \u001b[1;32mis\u001b[0m \u001b[1;32mnot\u001b[0m \u001b[0mtb\u001b[0m\u001b[1;33m:\u001b[0m\u001b[1;33m\u001b[0m\u001b[1;33m\u001b[0m\u001b[0m\n\u001b[1;32m---> 28\u001b[1;33m             \u001b[1;32mraise\u001b[0m \u001b[0mvalue\u001b[0m\u001b[1;33m.\u001b[0m\u001b[0mwith_traceback\u001b[0m\u001b[1;33m(\u001b[0m\u001b[0mtb\u001b[0m\u001b[1;33m)\u001b[0m\u001b[1;33m\u001b[0m\u001b[1;33m\u001b[0m\u001b[0m\n\u001b[0m\u001b[0;32m     29\u001b[0m         \u001b[1;32mraise\u001b[0m \u001b[0mvalue\u001b[0m\u001b[1;33m\u001b[0m\u001b[1;33m\u001b[0m\u001b[0m\n",
          "\u001b[1;32mD:\\Documents\\Programin\\WorkingVersions\\cassini\\dev\\examples\\default\\templates\\Sample\\Custom.tmplt.ipynb\u001b[0m in \u001b[0;36mtemplate\u001b[1;34m()\u001b[0m\n\u001b[0;32m     10\u001b[0m    \"source\": [\n\u001b[1;32m---> 11\u001b[1;33m     \u001b[1;34m\"Any parts with {{ }} will be evaluated and filled in by Jinja2.\\n\"\u001b[0m\u001b[1;33m,\u001b[0m\u001b[1;33m\u001b[0m\u001b[1;33m\u001b[0m\u001b[0m\n\u001b[0m\u001b[0;32m     12\u001b[0m     \u001b[1;34m\"\\n\"\u001b[0m\u001b[1;33m,\u001b[0m\u001b[1;33m\u001b[0m\u001b[1;33m\u001b[0m\u001b[0m\n",
          "\u001b[1;31mTemplateSyntaxError\u001b[0m: Expected an expression, got 'end of print statement'",
          "\nDuring handling of the above exception, another exception occurred:\n",
          "\u001b[1;31mTypeError\u001b[0m                                 Traceback (most recent call last)",
          "\u001b[1;32md:\\documents\\programin\\workingversions\\cassini\\dev\\cassini\\ipygui.py\u001b[0m in \u001b[0;36mcreate\u001b[1;34m(name, template, description)\u001b[0m\n\u001b[0;32m    385\u001b[0m             \u001b[1;32mwith\u001b[0m \u001b[0mform\u001b[0m\u001b[1;33m.\u001b[0m\u001b[0mstatus\u001b[0m\u001b[1;33m:\u001b[0m\u001b[1;33m\u001b[0m\u001b[1;33m\u001b[0m\u001b[0m\n\u001b[0;32m    386\u001b[0m                 \u001b[0mobj\u001b[0m \u001b[1;33m=\u001b[0m \u001b[0mchild\u001b[0m\u001b[1;33m(\u001b[0m\u001b[1;33m*\u001b[0m\u001b[0mself\u001b[0m\u001b[1;33m.\u001b[0m\u001b[0mtier\u001b[0m\u001b[1;33m.\u001b[0m\u001b[0midentifiers\u001b[0m\u001b[1;33m,\u001b[0m \u001b[0mname\u001b[0m\u001b[1;33m)\u001b[0m\u001b[1;33m\u001b[0m\u001b[1;33m\u001b[0m\u001b[0m\n\u001b[1;32m--> 387\u001b[1;33m                 \u001b[0mobj\u001b[0m\u001b[1;33m.\u001b[0m\u001b[0msetup_files\u001b[0m\u001b[1;33m(\u001b[0m\u001b[0mmapping\u001b[0m\u001b[1;33m[\u001b[0m\u001b[0mtemplate\u001b[0m\u001b[1;33m]\u001b[0m\u001b[1;33m)\u001b[0m\u001b[1;33m\u001b[0m\u001b[1;33m\u001b[0m\u001b[0m\n\u001b[0m\u001b[0;32m    388\u001b[0m                 \u001b[0mobj\u001b[0m\u001b[1;33m.\u001b[0m\u001b[0mdescription\u001b[0m \u001b[1;33m=\u001b[0m \u001b[0mdescription\u001b[0m\u001b[1;33m\u001b[0m\u001b[1;33m\u001b[0m\u001b[0m\n\u001b[0;32m    389\u001b[0m                 \u001b[0mdisplay\u001b[0m\u001b[1;33m(\u001b[0m\u001b[0mwidgetify_html\u001b[0m\u001b[1;33m(\u001b[0m\u001b[0mobj\u001b[0m\u001b[1;33m.\u001b[0m\u001b[0m_repr_html_\u001b[0m\u001b[1;33m(\u001b[0m\u001b[1;33m)\u001b[0m\u001b[1;33m)\u001b[0m\u001b[1;33m)\u001b[0m\u001b[1;33m\u001b[0m\u001b[1;33m\u001b[0m\u001b[0m\n",
          "\u001b[1;32md:\\documents\\programin\\workingversions\\cassini\\dev\\cassini\\core.py\u001b[0m in \u001b[0;36msetup_files\u001b[1;34m(self, template)\u001b[0m\n\u001b[0;32m    323\u001b[0m             \u001b[0mself\u001b[0m\u001b[1;33m.\u001b[0m\u001b[0mfolder\u001b[0m\u001b[1;33m.\u001b[0m\u001b[0mmkdir\u001b[0m\u001b[1;33m(\u001b[0m\u001b[0mexist_ok\u001b[0m\u001b[1;33m=\u001b[0m\u001b[1;32mTrue\u001b[0m\u001b[1;33m)\u001b[0m\u001b[1;33m\u001b[0m\u001b[1;33m\u001b[0m\u001b[0m\n\u001b[0;32m    324\u001b[0m \u001b[1;33m\u001b[0m\u001b[0m\n\u001b[1;32m--> 325\u001b[1;33m             \u001b[0mprint\u001b[0m\u001b[1;33m(\u001b[0m\u001b[1;34m\"Success\"\u001b[0m\u001b[1;33m)\u001b[0m\u001b[1;33m\u001b[0m\u001b[1;33m\u001b[0m\u001b[0m\n\u001b[0m\u001b[0;32m    326\u001b[0m \u001b[1;33m\u001b[0m\u001b[0m\n\u001b[0;32m    327\u001b[0m         \u001b[0mprint\u001b[0m\u001b[1;33m(\u001b[0m\u001b[1;34m\"All Done\"\u001b[0m\u001b[1;33m)\u001b[0m\u001b[1;33m\u001b[0m\u001b[1;33m\u001b[0m\u001b[0m\n",
          "\u001b[1;32md:\\documents\\programin\\workingversions\\cassini\\dev\\cassini\\utils.py\u001b[0m in \u001b[0;36m__exit__\u001b[1;34m(self, exc_type, exc_val, exc_tb)\u001b[0m\n\u001b[0;32m     51\u001b[0m                 \u001b[0mfolder\u001b[0m\u001b[1;33m.\u001b[0m\u001b[0mrmdir\u001b[0m\u001b[1;33m(\u001b[0m\u001b[1;33m)\u001b[0m\u001b[1;33m\u001b[0m\u001b[1;33m\u001b[0m\u001b[0m\n\u001b[0;32m     52\u001b[0m                 \u001b[0mprint\u001b[0m\u001b[1;33m(\u001b[0m\u001b[1;34m\"Done\"\u001b[0m\u001b[1;33m)\u001b[0m\u001b[1;33m\u001b[0m\u001b[1;33m\u001b[0m\u001b[0m\n\u001b[1;32m---> 53\u001b[1;33m             \u001b[1;32mraise\u001b[0m \u001b[0mexc_type\u001b[0m\u001b[1;33m(\u001b[0m\u001b[0mexc_val\u001b[0m\u001b[1;33m)\u001b[0m\u001b[1;33m\u001b[0m\u001b[1;33m\u001b[0m\u001b[0m\n\u001b[0m",
          "\u001b[1;31mTypeError\u001b[0m: __init__() missing 1 required positional argument: 'lineno'"
         ]
        },
        {
         "name": "stdout",
         "output_type": "stream",
         "text": "Creating files for WP1.1b\nMeta (D:\\Documents\\Programin\\WorkingVersions\\cassini\\dev\\examples\\default\\WorkPackages\\WP1\\WP1.1\\.smpls\\WP1.1b.json)\nWriting Meta Data\nSuccess\nCreating Tier File (D:\\Documents\\Programin\\WorkingVersions\\cassini\\dev\\examples\\default\\WorkPackages\\WP1\\WP1.1\\WP1.1b.ipynb) using template (Sample\\Custom.tmplt.ipynb)\n<class 'jinja2.exceptions.TemplateSyntaxError'> occured, rolling back\nDeleting D:\\Documents\\Programin\\WorkingVersions\\cassini\\dev\\examples\\default\\WorkPackages\\WP1\\WP1.1\\.smpls\\WP1.1b.json\nDone\n"
        },
        {
         "ename": "TypeError",
         "evalue": "__init__() missing 1 required positional argument: 'lineno'",
         "output_type": "error",
         "traceback": [
          "\u001b[1;31m---------------------------------------------------------------------------\u001b[0m",
          "\u001b[1;31mTemplateSyntaxError\u001b[0m                       Traceback (most recent call last)",
          "\u001b[1;32md:\\documents\\programin\\workingversions\\cassini\\dev\\cassini\\core.py\u001b[0m in \u001b[0;36msetup_files\u001b[1;34m(self, template)\u001b[0m\n\u001b[0;32m    317\u001b[0m             \u001b[0mprint\u001b[0m\u001b[1;33m(\u001b[0m\u001b[1;34mf\"Creating Tier File ({self.file}) using template ({template})\"\u001b[0m\u001b[1;33m)\u001b[0m\u001b[1;33m\u001b[0m\u001b[1;33m\u001b[0m\u001b[0m\n\u001b[1;32m--> 318\u001b[1;33m             \u001b[0mmaker\u001b[0m\u001b[1;33m.\u001b[0m\u001b[0mwrite_file\u001b[0m\u001b[1;33m(\u001b[0m\u001b[0mself\u001b[0m\u001b[1;33m.\u001b[0m\u001b[0mfile\u001b[0m\u001b[1;33m,\u001b[0m \u001b[0mself\u001b[0m\u001b[1;33m.\u001b[0m\u001b[0mrender_template\u001b[0m\u001b[1;33m(\u001b[0m\u001b[0mtemplate\u001b[0m\u001b[1;33m)\u001b[0m\u001b[1;33m)\u001b[0m\u001b[1;33m\u001b[0m\u001b[1;33m\u001b[0m\u001b[0m\n\u001b[0m\u001b[0;32m    319\u001b[0m             \u001b[0mprint\u001b[0m\u001b[1;33m(\u001b[0m\u001b[1;34m\"Success\"\u001b[0m\u001b[1;33m)\u001b[0m\u001b[1;33m\u001b[0m\u001b[1;33m\u001b[0m\u001b[0m\n",
          "\u001b[1;32md:\\documents\\programin\\workingversions\\cassini\\dev\\cassini\\core.py\u001b[0m in \u001b[0;36mrender_template\u001b[1;34m(self, template)\u001b[0m\n\u001b[0;32m    578\u001b[0m         \"\"\"\n\u001b[1;32m--> 579\u001b[1;33m         \u001b[0mtemplate\u001b[0m \u001b[1;33m=\u001b[0m \u001b[0menv\u001b[0m\u001b[1;33m.\u001b[0m\u001b[0mproject\u001b[0m\u001b[1;33m.\u001b[0m\u001b[0mtemplate_env\u001b[0m\u001b[1;33m.\u001b[0m\u001b[0mget_template\u001b[0m\u001b[1;33m(\u001b[0m\u001b[0mtemplate\u001b[0m\u001b[1;33m)\u001b[0m\u001b[1;33m\u001b[0m\u001b[1;33m\u001b[0m\u001b[0m\n\u001b[0m\u001b[0;32m    580\u001b[0m         \u001b[1;32mreturn\u001b[0m \u001b[0mtemplate\u001b[0m\u001b[1;33m.\u001b[0m\u001b[0mrender\u001b[0m\u001b[1;33m(\u001b[0m\u001b[1;33m**\u001b[0m\u001b[1;33m{\u001b[0m\u001b[0mself\u001b[0m\u001b[1;33m.\u001b[0m\u001b[0mshort_type\u001b[0m\u001b[1;33m:\u001b[0m \u001b[0mself\u001b[0m\u001b[1;33m,\u001b[0m \u001b[1;34m'tier'\u001b[0m\u001b[1;33m:\u001b[0m \u001b[0mself\u001b[0m\u001b[1;33m}\u001b[0m\u001b[1;33m)\u001b[0m\u001b[1;33m\u001b[0m\u001b[1;33m\u001b[0m\u001b[0m\n",
          "\u001b[1;32md:\\documents\\programin\\workingversions\\cassini\\dev\\cassini\\environment.py\u001b[0m in \u001b[0;36mget_template\u001b[1;34m(self, name, parent, globals)\u001b[0m\n\u001b[0;32m     21\u001b[0m     \u001b[1;32mdef\u001b[0m \u001b[0mget_template\u001b[0m\u001b[1;33m(\u001b[0m\u001b[0mself\u001b[0m\u001b[1;33m,\u001b[0m \u001b[0mname\u001b[0m\u001b[1;33m:\u001b[0m \u001b[0mUnion\u001b[0m\u001b[1;33m[\u001b[0m\u001b[0mPath\u001b[0m\u001b[1;33m,\u001b[0m \u001b[0mstr\u001b[0m\u001b[1;33m]\u001b[0m\u001b[1;33m,\u001b[0m \u001b[0mparent\u001b[0m\u001b[1;33m=\u001b[0m\u001b[1;32mNone\u001b[0m\u001b[1;33m,\u001b[0m \u001b[0mglobals\u001b[0m\u001b[1;33m=\u001b[0m\u001b[1;32mNone\u001b[0m\u001b[1;33m)\u001b[0m\u001b[1;33m:\u001b[0m\u001b[1;33m\u001b[0m\u001b[1;33m\u001b[0m\u001b[0m\n\u001b[1;32m---> 22\u001b[1;33m         \u001b[1;32mreturn\u001b[0m \u001b[0msuper\u001b[0m\u001b[1;33m(\u001b[0m\u001b[1;33m)\u001b[0m\u001b[1;33m.\u001b[0m\u001b[0mget_template\u001b[0m\u001b[1;33m(\u001b[0m\u001b[0mname\u001b[0m\u001b[1;33m.\u001b[0m\u001b[0mas_posix\u001b[0m\u001b[1;33m(\u001b[0m\u001b[1;33m)\u001b[0m \u001b[1;32mif\u001b[0m \u001b[0misinstance\u001b[0m\u001b[1;33m(\u001b[0m\u001b[0mname\u001b[0m\u001b[1;33m,\u001b[0m \u001b[0mPath\u001b[0m\u001b[1;33m)\u001b[0m \u001b[1;32melse\u001b[0m \u001b[0mname\u001b[0m\u001b[1;33m,\u001b[0m \u001b[0mparent\u001b[0m\u001b[1;33m=\u001b[0m\u001b[1;32mNone\u001b[0m\u001b[1;33m,\u001b[0m \u001b[0mglobals\u001b[0m\u001b[1;33m=\u001b[0m\u001b[1;32mNone\u001b[0m\u001b[1;33m)\u001b[0m\u001b[1;33m\u001b[0m\u001b[1;33m\u001b[0m\u001b[0m\n\u001b[0m\u001b[0;32m     23\u001b[0m \u001b[1;33m\u001b[0m\u001b[0m\n",
          "\u001b[1;32md:\\documents\\programin\\venvs\\cassini\\lib\\site-packages\\jinja2\\environment.py\u001b[0m in \u001b[0;36mget_template\u001b[1;34m(self, name, parent, globals)\u001b[0m\n\u001b[0;32m    882\u001b[0m             \u001b[0mname\u001b[0m \u001b[1;33m=\u001b[0m \u001b[0mself\u001b[0m\u001b[1;33m.\u001b[0m\u001b[0mjoin_path\u001b[0m\u001b[1;33m(\u001b[0m\u001b[0mname\u001b[0m\u001b[1;33m,\u001b[0m \u001b[0mparent\u001b[0m\u001b[1;33m)\u001b[0m\u001b[1;33m\u001b[0m\u001b[1;33m\u001b[0m\u001b[0m\n\u001b[1;32m--> 883\u001b[1;33m         \u001b[1;32mreturn\u001b[0m \u001b[0mself\u001b[0m\u001b[1;33m.\u001b[0m\u001b[0m_load_template\u001b[0m\u001b[1;33m(\u001b[0m\u001b[0mname\u001b[0m\u001b[1;33m,\u001b[0m \u001b[0mself\u001b[0m\u001b[1;33m.\u001b[0m\u001b[0mmake_globals\u001b[0m\u001b[1;33m(\u001b[0m\u001b[0mglobals\u001b[0m\u001b[1;33m)\u001b[0m\u001b[1;33m)\u001b[0m\u001b[1;33m\u001b[0m\u001b[1;33m\u001b[0m\u001b[0m\n\u001b[0m\u001b[0;32m    884\u001b[0m \u001b[1;33m\u001b[0m\u001b[0m\n",
          "\u001b[1;32md:\\documents\\programin\\venvs\\cassini\\lib\\site-packages\\jinja2\\environment.py\u001b[0m in \u001b[0;36m_load_template\u001b[1;34m(self, name, globals)\u001b[0m\n\u001b[0;32m    856\u001b[0m                 \u001b[1;32mreturn\u001b[0m \u001b[0mtemplate\u001b[0m\u001b[1;33m\u001b[0m\u001b[1;33m\u001b[0m\u001b[0m\n\u001b[1;32m--> 857\u001b[1;33m         \u001b[0mtemplate\u001b[0m \u001b[1;33m=\u001b[0m \u001b[0mself\u001b[0m\u001b[1;33m.\u001b[0m\u001b[0mloader\u001b[0m\u001b[1;33m.\u001b[0m\u001b[0mload\u001b[0m\u001b[1;33m(\u001b[0m\u001b[0mself\u001b[0m\u001b[1;33m,\u001b[0m \u001b[0mname\u001b[0m\u001b[1;33m,\u001b[0m \u001b[0mglobals\u001b[0m\u001b[1;33m)\u001b[0m\u001b[1;33m\u001b[0m\u001b[1;33m\u001b[0m\u001b[0m\n\u001b[0m\u001b[0;32m    858\u001b[0m         \u001b[1;32mif\u001b[0m \u001b[0mself\u001b[0m\u001b[1;33m.\u001b[0m\u001b[0mcache\u001b[0m \u001b[1;32mis\u001b[0m \u001b[1;32mnot\u001b[0m \u001b[1;32mNone\u001b[0m\u001b[1;33m:\u001b[0m\u001b[1;33m\u001b[0m\u001b[1;33m\u001b[0m\u001b[0m\n",
          "\u001b[1;32md:\\documents\\programin\\venvs\\cassini\\lib\\site-packages\\jinja2\\loaders.py\u001b[0m in \u001b[0;36mload\u001b[1;34m(self, environment, name, globals)\u001b[0m\n\u001b[0;32m    126\u001b[0m         \u001b[1;32mif\u001b[0m \u001b[0mcode\u001b[0m \u001b[1;32mis\u001b[0m \u001b[1;32mNone\u001b[0m\u001b[1;33m:\u001b[0m\u001b[1;33m\u001b[0m\u001b[1;33m\u001b[0m\u001b[0m\n\u001b[1;32m--> 127\u001b[1;33m             \u001b[0mcode\u001b[0m \u001b[1;33m=\u001b[0m \u001b[0menvironment\u001b[0m\u001b[1;33m.\u001b[0m\u001b[0mcompile\u001b[0m\u001b[1;33m(\u001b[0m\u001b[0msource\u001b[0m\u001b[1;33m,\u001b[0m \u001b[0mname\u001b[0m\u001b[1;33m,\u001b[0m \u001b[0mfilename\u001b[0m\u001b[1;33m)\u001b[0m\u001b[1;33m\u001b[0m\u001b[1;33m\u001b[0m\u001b[0m\n\u001b[0m\u001b[0;32m    128\u001b[0m \u001b[1;33m\u001b[0m\u001b[0m\n",
          "\u001b[1;32md:\\documents\\programin\\venvs\\cassini\\lib\\site-packages\\jinja2\\environment.py\u001b[0m in \u001b[0;36mcompile\u001b[1;34m(self, source, name, filename, raw, defer_init)\u001b[0m\n\u001b[0;32m    637\u001b[0m         \u001b[1;32mexcept\u001b[0m \u001b[0mTemplateSyntaxError\u001b[0m\u001b[1;33m:\u001b[0m\u001b[1;33m\u001b[0m\u001b[1;33m\u001b[0m\u001b[0m\n\u001b[1;32m--> 638\u001b[1;33m             \u001b[0mself\u001b[0m\u001b[1;33m.\u001b[0m\u001b[0mhandle_exception\u001b[0m\u001b[1;33m(\u001b[0m\u001b[0msource\u001b[0m\u001b[1;33m=\u001b[0m\u001b[0msource_hint\u001b[0m\u001b[1;33m)\u001b[0m\u001b[1;33m\u001b[0m\u001b[1;33m\u001b[0m\u001b[0m\n\u001b[0m\u001b[0;32m    639\u001b[0m \u001b[1;33m\u001b[0m\u001b[0m\n",
          "\u001b[1;32md:\\documents\\programin\\venvs\\cassini\\lib\\site-packages\\jinja2\\environment.py\u001b[0m in \u001b[0;36mhandle_exception\u001b[1;34m(self, source)\u001b[0m\n\u001b[0;32m    831\u001b[0m \u001b[1;33m\u001b[0m\u001b[0m\n\u001b[1;32m--> 832\u001b[1;33m         \u001b[0mreraise\u001b[0m\u001b[1;33m(\u001b[0m\u001b[1;33m*\u001b[0m\u001b[0mrewrite_traceback_stack\u001b[0m\u001b[1;33m(\u001b[0m\u001b[0msource\u001b[0m\u001b[1;33m=\u001b[0m\u001b[0msource\u001b[0m\u001b[1;33m)\u001b[0m\u001b[1;33m)\u001b[0m\u001b[1;33m\u001b[0m\u001b[1;33m\u001b[0m\u001b[0m\n\u001b[0m\u001b[0;32m    833\u001b[0m \u001b[1;33m\u001b[0m\u001b[0m\n",
          "\u001b[1;32md:\\documents\\programin\\venvs\\cassini\\lib\\site-packages\\jinja2\\_compat.py\u001b[0m in \u001b[0;36mreraise\u001b[1;34m(tp, value, tb)\u001b[0m\n\u001b[0;32m     27\u001b[0m         \u001b[1;32mif\u001b[0m \u001b[0mvalue\u001b[0m\u001b[1;33m.\u001b[0m\u001b[0m__traceback__\u001b[0m \u001b[1;32mis\u001b[0m \u001b[1;32mnot\u001b[0m \u001b[0mtb\u001b[0m\u001b[1;33m:\u001b[0m\u001b[1;33m\u001b[0m\u001b[1;33m\u001b[0m\u001b[0m\n\u001b[1;32m---> 28\u001b[1;33m             \u001b[1;32mraise\u001b[0m \u001b[0mvalue\u001b[0m\u001b[1;33m.\u001b[0m\u001b[0mwith_traceback\u001b[0m\u001b[1;33m(\u001b[0m\u001b[0mtb\u001b[0m\u001b[1;33m)\u001b[0m\u001b[1;33m\u001b[0m\u001b[1;33m\u001b[0m\u001b[0m\n\u001b[0m\u001b[0;32m     29\u001b[0m         \u001b[1;32mraise\u001b[0m \u001b[0mvalue\u001b[0m\u001b[1;33m\u001b[0m\u001b[1;33m\u001b[0m\u001b[0m\n",
          "\u001b[1;32mD:\\Documents\\Programin\\WorkingVersions\\cassini\\dev\\examples\\default\\templates\\Sample\\Custom.tmplt.ipynb\u001b[0m in \u001b[0;36mtemplate\u001b[1;34m()\u001b[0m\n\u001b[0;32m     10\u001b[0m    \"source\": [\n\u001b[1;32m---> 11\u001b[1;33m     \u001b[1;34m\"Any parts with {{ }} will be evaluated and filled in by Jinja2.\\n\"\u001b[0m\u001b[1;33m,\u001b[0m\u001b[1;33m\u001b[0m\u001b[1;33m\u001b[0m\u001b[0m\n\u001b[0m\u001b[0;32m     12\u001b[0m     \u001b[1;34m\"\\n\"\u001b[0m\u001b[1;33m,\u001b[0m\u001b[1;33m\u001b[0m\u001b[1;33m\u001b[0m\u001b[0m\n",
          "\u001b[1;31mTemplateSyntaxError\u001b[0m: Expected an expression, got 'end of print statement'",
          "\nDuring handling of the above exception, another exception occurred:\n",
          "\u001b[1;31mTypeError\u001b[0m                                 Traceback (most recent call last)",
          "\u001b[1;32md:\\documents\\programin\\workingversions\\cassini\\dev\\cassini\\ipygui.py\u001b[0m in \u001b[0;36mcreate\u001b[1;34m(name, template, description)\u001b[0m\n\u001b[0;32m    385\u001b[0m             \u001b[1;32mwith\u001b[0m \u001b[0mform\u001b[0m\u001b[1;33m.\u001b[0m\u001b[0mstatus\u001b[0m\u001b[1;33m:\u001b[0m\u001b[1;33m\u001b[0m\u001b[1;33m\u001b[0m\u001b[0m\n\u001b[0;32m    386\u001b[0m                 \u001b[0mobj\u001b[0m \u001b[1;33m=\u001b[0m \u001b[0mchild\u001b[0m\u001b[1;33m(\u001b[0m\u001b[1;33m*\u001b[0m\u001b[0mself\u001b[0m\u001b[1;33m.\u001b[0m\u001b[0mtier\u001b[0m\u001b[1;33m.\u001b[0m\u001b[0midentifiers\u001b[0m\u001b[1;33m,\u001b[0m \u001b[0mname\u001b[0m\u001b[1;33m)\u001b[0m\u001b[1;33m\u001b[0m\u001b[1;33m\u001b[0m\u001b[0m\n\u001b[1;32m--> 387\u001b[1;33m                 \u001b[0mobj\u001b[0m\u001b[1;33m.\u001b[0m\u001b[0msetup_files\u001b[0m\u001b[1;33m(\u001b[0m\u001b[0mmapping\u001b[0m\u001b[1;33m[\u001b[0m\u001b[0mtemplate\u001b[0m\u001b[1;33m]\u001b[0m\u001b[1;33m)\u001b[0m\u001b[1;33m\u001b[0m\u001b[1;33m\u001b[0m\u001b[0m\n\u001b[0m\u001b[0;32m    388\u001b[0m                 \u001b[0mobj\u001b[0m\u001b[1;33m.\u001b[0m\u001b[0mdescription\u001b[0m \u001b[1;33m=\u001b[0m \u001b[0mdescription\u001b[0m\u001b[1;33m\u001b[0m\u001b[1;33m\u001b[0m\u001b[0m\n\u001b[0;32m    389\u001b[0m                 \u001b[0mdisplay\u001b[0m\u001b[1;33m(\u001b[0m\u001b[0mwidgetify_html\u001b[0m\u001b[1;33m(\u001b[0m\u001b[0mobj\u001b[0m\u001b[1;33m.\u001b[0m\u001b[0m_repr_html_\u001b[0m\u001b[1;33m(\u001b[0m\u001b[1;33m)\u001b[0m\u001b[1;33m)\u001b[0m\u001b[1;33m)\u001b[0m\u001b[1;33m\u001b[0m\u001b[1;33m\u001b[0m\u001b[0m\n",
          "\u001b[1;32md:\\documents\\programin\\workingversions\\cassini\\dev\\cassini\\core.py\u001b[0m in \u001b[0;36msetup_files\u001b[1;34m(self, template)\u001b[0m\n\u001b[0;32m    323\u001b[0m             \u001b[0mself\u001b[0m\u001b[1;33m.\u001b[0m\u001b[0mfolder\u001b[0m\u001b[1;33m.\u001b[0m\u001b[0mmkdir\u001b[0m\u001b[1;33m(\u001b[0m\u001b[0mexist_ok\u001b[0m\u001b[1;33m=\u001b[0m\u001b[1;32mTrue\u001b[0m\u001b[1;33m)\u001b[0m\u001b[1;33m\u001b[0m\u001b[1;33m\u001b[0m\u001b[0m\n\u001b[0;32m    324\u001b[0m \u001b[1;33m\u001b[0m\u001b[0m\n\u001b[1;32m--> 325\u001b[1;33m             \u001b[0mprint\u001b[0m\u001b[1;33m(\u001b[0m\u001b[1;34m\"Success\"\u001b[0m\u001b[1;33m)\u001b[0m\u001b[1;33m\u001b[0m\u001b[1;33m\u001b[0m\u001b[0m\n\u001b[0m\u001b[0;32m    326\u001b[0m \u001b[1;33m\u001b[0m\u001b[0m\n\u001b[0;32m    327\u001b[0m         \u001b[0mprint\u001b[0m\u001b[1;33m(\u001b[0m\u001b[1;34m\"All Done\"\u001b[0m\u001b[1;33m)\u001b[0m\u001b[1;33m\u001b[0m\u001b[1;33m\u001b[0m\u001b[0m\n",
          "\u001b[1;32md:\\documents\\programin\\workingversions\\cassini\\dev\\cassini\\utils.py\u001b[0m in \u001b[0;36m__exit__\u001b[1;34m(self, exc_type, exc_val, exc_tb)\u001b[0m\n\u001b[0;32m     51\u001b[0m                 \u001b[0mfolder\u001b[0m\u001b[1;33m.\u001b[0m\u001b[0mrmdir\u001b[0m\u001b[1;33m(\u001b[0m\u001b[1;33m)\u001b[0m\u001b[1;33m\u001b[0m\u001b[1;33m\u001b[0m\u001b[0m\n\u001b[0;32m     52\u001b[0m                 \u001b[0mprint\u001b[0m\u001b[1;33m(\u001b[0m\u001b[1;34m\"Done\"\u001b[0m\u001b[1;33m)\u001b[0m\u001b[1;33m\u001b[0m\u001b[1;33m\u001b[0m\u001b[0m\n\u001b[1;32m---> 53\u001b[1;33m             \u001b[1;32mraise\u001b[0m \u001b[0mexc_type\u001b[0m\u001b[1;33m(\u001b[0m\u001b[0mexc_val\u001b[0m\u001b[1;33m)\u001b[0m\u001b[1;33m\u001b[0m\u001b[1;33m\u001b[0m\u001b[0m\n\u001b[0m",
          "\u001b[1;31mTypeError\u001b[0m: __init__() missing 1 required positional argument: 'lineno'"
         ]
        },
        {
         "name": "stdout",
         "output_type": "stream",
         "text": "Creating files for WP1.1b\nMeta (D:\\Documents\\Programin\\WorkingVersions\\cassini\\dev\\examples\\default\\WorkPackages\\WP1\\WP1.1\\.smpls\\WP1.1b.json)\nWriting Meta Data\nSuccess\nCreating Tier File (D:\\Documents\\Programin\\WorkingVersions\\cassini\\dev\\examples\\default\\WorkPackages\\WP1\\WP1.1\\WP1.1b.ipynb) using template (Sample\\Custom.tmplt.ipynb)\nSuccess\nCreating Tier Folder (D:\\Documents\\Programin\\WorkingVersions\\cassini\\dev\\examples\\default\\WorkPackages\\WP1\\WP1.1)\nSuccess\nAll Done\n"
        },
        {
         "data": {
          "application/vnd.jupyter.widget-view+json": {
           "model_id": "",
           "version_major": 2,
           "version_minor": 0
          },
          "text/plain": "Output()"
         },
         "metadata": {},
         "output_type": "display_data"
        }
       ]
      }
     },
     "79bc904854994904a0f86463eca3346c": {
      "model_module": "@jupyter-widgets/output",
      "model_module_version": "1.0.0",
      "model_name": "OutputModel",
      "state": {
       "layout": "IPY_MODEL_82cf4f58646d4ee3b4f9c79037e67d05",
       "outputs": [
        {
         "data": {
          "text/html": "<table border=\"1\" class=\"dataframe\">\n  <thead>\n    <tr style=\"text-align: right;\">\n      <th></th>\n      <th>started</th>\n      <th>description</th>\n      <th>Obj</th>\n      <th>datasets</th>\n    </tr>\n    <tr>\n      <th>Name</th>\n      <th></th>\n      <th></th>\n      <th></th>\n      <th></th>\n    </tr>\n  </thead>\n  <tbody>\n    <tr>\n      <th>WP1.1a</th>\n      <td>2020-06-29</td>\n      <td>A sample sample description</td>\n      <td><a href=\"WP1.1/WP1.1a.ipynb\" target=\"_blank\"><h4 style=\"display: inline;\">WP1.1a</h4 style=\"display: inline;\"</a></td>\n      <td>[&#x27;Plotting&#x27;]</td>\n    </tr>\n    <tr>\n      <th>WP1.1b</th>\n      <td>2020-06-30</td>\n      <td>Try again</td>\n      <td><a href=\"WP1.1/WP1.1b.ipynb\" target=\"_blank\"><h4 style=\"display: inline;\">WP1.1b</h4 style=\"display: inline;\"</a></td>\n      <td>[]</td>\n    </tr>\n  </tbody>\n</table>",
          "text/plain": "          started                  description                Obj    datasets\nName                                                                         \nWP1.1a 2020-06-29  A sample sample description  <Sample \"WP1.1a\">  [Plotting]\nWP1.1b 2020-06-30                    Try again  <Sample \"WP1.1b\">          []"
         },
         "metadata": {},
         "output_type": "display_data"
        }
       ]
      }
     },
     "79c28d8d468042c5a1a6b253fa1d8c00": {
      "model_module": "@jupyter-widgets/controls",
      "model_module_version": "1.5.0",
      "model_name": "SelectMultipleModel",
      "state": {
       "_options_labels": [
        "WP1.1a",
        "WP1.1b"
       ],
       "description": "Auto Add",
       "index": [],
       "layout": "IPY_MODEL_09ca11fdeea64c6b9ce5a851c1e69497",
       "rows": 5,
       "style": "IPY_MODEL_476e9757fe5445b6b62b84d55c8fcb94"
      }
     },
     "7a405fbb374049f7999942dcc2dfcaa2": {
      "model_module": "@jupyter-widgets/base",
      "model_module_version": "1.2.0",
      "model_name": "LayoutModel",
      "state": {}
     },
     "7a50bb11e6344cb3abc512ef3e9c6ae3": {
      "model_module": "@jupyter-widgets/controls",
      "model_module_version": "1.5.0",
      "model_name": "VBoxModel",
      "state": {
       "children": [
        "IPY_MODEL_35fef14e6daf4005b2c5d24ff9fdfa9a",
        "IPY_MODEL_8c64161e573c40ac81f4f71f57e078f5"
       ],
       "layout": "IPY_MODEL_4781689de1794aba86ea8f72649c9c51"
      }
     },
     "7b093421914d4c3cbb2a3f1d4fd29f7e": {
      "model_module": "@jupyter-widgets/base",
      "model_module_version": "1.2.0",
      "model_name": "LayoutModel",
      "state": {}
     },
     "7b9611e029b749d5a4e7d43ca1764479": {
      "model_module": "@jupyter-widgets/base",
      "model_module_version": "1.2.0",
      "model_name": "LayoutModel",
      "state": {
       "width": "auto"
      }
     },
     "7ba65fd3af7b45df808f093febd1dd8c": {
      "model_module": "@jupyter-widgets/base",
      "model_module_version": "1.2.0",
      "model_name": "LayoutModel",
      "state": {}
     },
     "7c462e3a2d65467bb31620ce59627e5d": {
      "model_module": "@jupyter-widgets/base",
      "model_module_version": "1.2.0",
      "model_name": "LayoutModel",
      "state": {}
     },
     "7ce00e2ed42d445cae6ac4073e45ddea": {
      "model_module": "@jupyter-widgets/controls",
      "model_module_version": "1.5.0",
      "model_name": "VBoxModel",
      "state": {
       "children": [
        "IPY_MODEL_41bb1634830547e5ad912f9e129a42fd",
        "IPY_MODEL_ecd53d4293f44553a6619d60af7f3dca"
       ],
       "layout": "IPY_MODEL_f50d807af00c44c68e81f1c45f631cb9"
      }
     },
     "7ceb3e47d8c540e3a1e9ec4bd2150786": {
      "model_module": "@jupyter-widgets/base",
      "model_module_version": "1.2.0",
      "model_name": "LayoutModel",
      "state": {}
     },
     "7d7780ed657d47b79ea63b38b06378c8": {
      "model_module": "@jupyter-widgets/controls",
      "model_module_version": "1.5.0",
      "model_name": "ButtonStyleModel",
      "state": {}
     },
     "7da8ba6aa76d4d92ac38b5b5ef43650f": {
      "model_module": "@jupyter-widgets/base",
      "model_module_version": "1.2.0",
      "model_name": "LayoutModel",
      "state": {}
     },
     "7ddab273b1f845adbe74fbbba752708c": {
      "model_module": "@jupyter-widgets/controls",
      "model_module_version": "1.5.0",
      "model_name": "ButtonStyleModel",
      "state": {}
     },
     "7df3e9b5b2114bf28191f150027568f7": {
      "model_module": "@jupyter-widgets/output",
      "model_module_version": "1.0.0",
      "model_name": "OutputModel",
      "state": {
       "layout": "IPY_MODEL_d91a6b6a8e6c495b994b9fdd4b07f14b"
      }
     },
     "7df5218994874a1db33b285f67dbf9b1": {
      "model_module": "@jupyter-widgets/base",
      "model_module_version": "1.2.0",
      "model_name": "LayoutModel",
      "state": {}
     },
     "7e61d5454d3e451d96b56c31679e02e8": {
      "model_module": "@jupyter-widgets/base",
      "model_module_version": "1.2.0",
      "model_name": "LayoutModel",
      "state": {}
     },
     "7e6505c1b44d4779a8f99a883ca4611f": {
      "model_module": "@jupyter-widgets/controls",
      "model_module_version": "1.5.0",
      "model_name": "DescriptionStyleModel",
      "state": {
       "description_width": "10%"
      }
     },
     "7e7014713a3e453ab7f8afa05c5fa409": {
      "model_module": "@jupyter-widgets/base",
      "model_module_version": "1.2.0",
      "model_name": "LayoutModel",
      "state": {
       "width": "auto"
      }
     },
     "7eb414e0995b4efb831f605af356a3cc": {
      "model_module": "@jupyter-widgets/controls",
      "model_module_version": "1.5.0",
      "model_name": "DescriptionStyleModel",
      "state": {
       "description_width": "10%"
      }
     },
     "7f1885aeacfb4cf79bba5dccacad1ec5": {
      "model_module": "@jupyter-widgets/output",
      "model_module_version": "1.0.0",
      "model_name": "OutputModel",
      "state": {
       "layout": "IPY_MODEL_4f544e716138458290005b9c2940294f",
       "outputs": [
        {
         "data": {
          "text/markdown": "Usually some sort of process you'll tweak and repeat on multiple samples",
          "text/plain": "<IPython.core.display.Markdown object>"
         },
         "metadata": {},
         "output_type": "display_data"
        }
       ]
      }
     },
     "7f26484d5bf74a7fbf32a6e9f798badf": {
      "model_module": "@jupyter-widgets/controls",
      "model_module_version": "1.5.0",
      "model_name": "TextareaModel",
      "state": {
       "description": "Motivation",
       "layout": "IPY_MODEL_7e7014713a3e453ab7f8afa05c5fa409",
       "style": "IPY_MODEL_37ba8628f78c490083b6f027862a26cb"
      }
     },
     "7f2e5b55305047d1826da7b90fb15f1b": {
      "model_module": "@jupyter-widgets/output",
      "model_module_version": "1.0.0",
      "model_name": "OutputModel",
      "state": {
       "layout": "IPY_MODEL_1ea8bd7815944ef5b57fe13c85256c9f",
       "outputs": [
        {
         "data": {
          "text/html": "<h3>Samples</h3>",
          "text/plain": "<cassini.ipygui.WHTML at 0x2401d715748>"
         },
         "metadata": {},
         "output_type": "display_data"
        }
       ]
      }
     },
     "7fa08fdfe2b24f1797fbe8416f716a1f": {
      "model_module": "@jupyter-widgets/controls",
      "model_module_version": "1.5.0",
      "model_name": "ButtonModel",
      "state": {
       "description": "New",
       "layout": "IPY_MODEL_6c2e465d905c475e9237066d09effaf8",
       "style": "IPY_MODEL_a876945f2b214a1394146eebcbfdf3b5"
      }
     },
     "7fa78688448941ada087d68307910083": {
      "model_module": "@jupyter-widgets/controls",
      "model_module_version": "1.5.0",
      "model_name": "DescriptionStyleModel",
      "state": {
       "description_width": "10%"
      }
     },
     "80091c362daf47b89a02604a91147cc5": {
      "model_module": "@jupyter-widgets/controls",
      "model_module_version": "1.5.0",
      "model_name": "HBoxModel",
      "state": {
       "children": [
        "IPY_MODEL_e7cbf312a8054de6b76cbcdf4e79d741",
        "IPY_MODEL_e6c5d9694c6644668e6ae362e6572d8c"
       ],
       "layout": "IPY_MODEL_8aa07b7e1365412689ebceea5714f76f"
      }
     },
     "804d32837d63413cae67d6b863add70a": {
      "model_module": "@jupyter-widgets/controls",
      "model_module_version": "1.5.0",
      "model_name": "ButtonStyleModel",
      "state": {}
     },
     "804ef11f24e2464b8ebe1dcfcd8c9074": {
      "model_module": "@jupyter-widgets/controls",
      "model_module_version": "1.5.0",
      "model_name": "SelectMultipleModel",
      "state": {
       "_options_labels": [
        "WP1.1a",
        "WP1.1d"
       ],
       "description": "Auto Add",
       "index": [],
       "layout": "IPY_MODEL_cd243351962c4e1cbc539d1369778607",
       "rows": 5,
       "style": "IPY_MODEL_902a4135a1404026a24f1c7400da9f02"
      }
     },
     "80b1c191344c4920be423fe63c0739ce": {
      "model_module": "@jupyter-widgets/base",
      "model_module_version": "1.2.0",
      "model_name": "LayoutModel",
      "state": {}
     },
     "81735be17dce409291969244540aee85": {
      "model_module": "@jupyter-widgets/controls",
      "model_module_version": "1.5.0",
      "model_name": "ButtonModel",
      "state": {
       "description": "Confirm",
       "disabled": true,
       "layout": "IPY_MODEL_15607a6d837f4752947b985efd21333f",
       "style": "IPY_MODEL_846915abb7424ed4a484de0cb441b1a7"
      }
     },
     "81df1a24b4c74bce994e2b9ae86035e0": {
      "model_module": "@jupyter-widgets/base",
      "model_module_version": "1.2.0",
      "model_name": "LayoutModel",
      "state": {}
     },
     "823d45084fc248718603b6ed8d6b8cea": {
      "model_module": "@jupyter-widgets/controls",
      "model_module_version": "1.5.0",
      "model_name": "ButtonStyleModel",
      "state": {}
     },
     "82929f90abbc45819740aeaed7e66a4b": {
      "model_module": "@jupyter-widgets/base",
      "model_module_version": "1.2.0",
      "model_name": "LayoutModel",
      "state": {
       "width": "auto"
      }
     },
     "82c8c77b1a674d59b3ecc62d07c381d5": {
      "model_module": "@jupyter-widgets/controls",
      "model_module_version": "1.5.0",
      "model_name": "VBoxModel",
      "state": {
       "children": [
        "IPY_MODEL_955327210fdb4779b410a424526038ef",
        "IPY_MODEL_b70d12b898a24e5fab2b46bcd544c5ad",
        "IPY_MODEL_9ab30c6642564c36b9632228eb019c7e",
        "IPY_MODEL_58a70e45dfb744d3983fd92b3cdd0922",
        "IPY_MODEL_d5899b1601cc4e1581413b2e2020b4fa"
       ],
       "layout": "IPY_MODEL_ad5b1dcc40684cca8be656de91404f63"
      }
     },
     "82cf4f58646d4ee3b4f9c79037e67d05": {
      "model_module": "@jupyter-widgets/base",
      "model_module_version": "1.2.0",
      "model_name": "LayoutModel",
      "state": {}
     },
     "82eaccc442554f6c94c86c9c7cebc2e1": {
      "model_module": "@jupyter-widgets/output",
      "model_module_version": "1.0.0",
      "model_name": "OutputModel",
      "state": {
       "layout": "IPY_MODEL_06533e04114743b89fc563be6d911bfa",
       "outputs": [
        {
         "data": {
          "text/html": "<h1 style=\"display: inline;\"><a href=\"WP1.1.ipynb\">WP1.1</a></h1><h3 style=\"display: inline;\">(<a href=\"../../Home.ipynb\" target=\"_blank\">Home</a>-><a href=\"../WP1.ipynb\" target=\"_blank\">WP1</a>)</h3>",
          "text/plain": "<cassini.ipygui.WHTML at 0x2401d9194e0>"
         },
         "metadata": {},
         "output_type": "display_data"
        }
       ]
      }
     },
     "8301d686b25b400a9d938a7ea6d4393f": {
      "model_module": "@jupyter-widgets/base",
      "model_module_version": "1.2.0",
      "model_name": "LayoutModel",
      "state": {
       "width": "auto"
      }
     },
     "8303cd8d3e5f459a80f836e6da6e6a96": {
      "model_module": "@jupyter-widgets/controls",
      "model_module_version": "1.5.0",
      "model_name": "SelectModel",
      "state": {
       "_options_labels": [
        "Custom.tmplt.ipynb",
        "Sample.tmplt.ipynb"
       ],
       "description": "Template",
       "disabled": true,
       "index": 0,
       "layout": "IPY_MODEL_5dbf6ba185104aacbea47d41c7630edb",
       "style": "IPY_MODEL_28407b2f61f44600831d29d7bb88a62b"
      }
     },
     "83364cf837d14472833378357fa1cc9c": {
      "model_module": "@jupyter-widgets/output",
      "model_module_version": "1.0.0",
      "model_name": "OutputModel",
      "state": {
       "layout": "IPY_MODEL_5404f7b46c4a488cae252785db6b8a97",
       "outputs": [
        {
         "data": {
          "text/html": "<h3>Samples</h3>",
          "text/plain": "<cassini.ipygui.WHTML at 0x2401d61f3c8>"
         },
         "metadata": {},
         "output_type": "display_data"
        }
       ]
      }
     },
     "841830073ec34410a3a70013e2fa7eaa": {
      "model_module": "@jupyter-widgets/controls",
      "model_module_version": "1.5.0",
      "model_name": "DescriptionStyleModel",
      "state": {
       "description_width": "10%"
      }
     },
     "846915abb7424ed4a484de0cb441b1a7": {
      "model_module": "@jupyter-widgets/controls",
      "model_module_version": "1.5.0",
      "model_name": "ButtonStyleModel",
      "state": {}
     },
     "847a142c8a6444449152afccc6ff4fb9": {
      "model_module": "@jupyter-widgets/output",
      "model_module_version": "1.0.0",
      "model_name": "OutputModel",
      "state": {
       "layout": "IPY_MODEL_8e70c5a856d6492188a4bbbfa1f1f43a"
      }
     },
     "855224049ae549578580c54e6efe2729": {
      "model_module": "@jupyter-widgets/base",
      "model_module_version": "1.2.0",
      "model_name": "LayoutModel",
      "state": {
       "width": "auto"
      }
     },
     "86b75ea394b8448d98b5a21dd114875b": {
      "model_module": "@jupyter-widgets/base",
      "model_module_version": "1.2.0",
      "model_name": "LayoutModel",
      "state": {}
     },
     "86fd3b1bd37049399d5027214fd78588": {
      "model_module": "@jupyter-widgets/controls",
      "model_module_version": "1.5.0",
      "model_name": "ButtonModel",
      "state": {
       "description": "New",
       "layout": "IPY_MODEL_9fa8a0b2cb224050aebcc65666fee3b9",
       "style": "IPY_MODEL_7ddab273b1f845adbe74fbbba752708c"
      }
     },
     "871455e6ecbb413da4e64a7cc0a8c637": {
      "model_module": "@jupyter-widgets/controls",
      "model_module_version": "1.5.0",
      "model_name": "VBoxModel",
      "state": {
       "children": [
        "IPY_MODEL_ea33a964c5dd4467b1efcb614785796a",
        "IPY_MODEL_a2ba421162544cf28c56cbdc3c61faca",
        "IPY_MODEL_da1ce60fb63445a283ebc6ff530d62cb",
        "IPY_MODEL_0950a567a4af45888d3774c5f95a4eb2",
        "IPY_MODEL_298a41ddc1c24671aa2587ec30cdd365"
       ],
       "layout": "IPY_MODEL_b79acf1b53014798ad4197e23fc7085d"
      }
     },
     "872c760bded84147ad87ea1dfc182883": {
      "model_module": "@jupyter-widgets/controls",
      "model_module_version": "1.5.0",
      "model_name": "HBoxModel",
      "state": {
       "children": [
        "IPY_MODEL_05804d5fcf244bd79612a6d1e7203422",
        "IPY_MODEL_1bba870f3370442a863e1b8a93f4417f"
       ],
       "layout": "IPY_MODEL_a1d359539a8a47c888458bb6ffc3c5ee"
      }
     },
     "873c6cec85e540d495c5b9f6a105f7f8": {
      "model_module": "@jupyter-widgets/controls",
      "model_module_version": "1.5.0",
      "model_name": "ButtonStyleModel",
      "state": {}
     },
     "8799bb260ea74db4a2fd345101d4e06a": {
      "model_module": "@jupyter-widgets/output",
      "model_module_version": "1.0.0",
      "model_name": "OutputModel",
      "state": {
       "layout": "IPY_MODEL_c4bf9bf6ef5440deba2f9b03201417e8"
      }
     },
     "879dd3ebbcff4abcae73d553009827f0": {
      "model_module": "@jupyter-widgets/base",
      "model_module_version": "1.2.0",
      "model_name": "LayoutModel",
      "state": {}
     },
     "8965f03a7e71462aac68f0bb28771182": {
      "model_module": "@jupyter-widgets/controls",
      "model_module_version": "1.5.0",
      "model_name": "VBoxModel",
      "state": {
       "children": [
        "IPY_MODEL_eb8b060d2a964fe39fde1e50dae45bf1",
        "IPY_MODEL_348a1d09f9064a76b5839d3a5df2331d",
        "IPY_MODEL_1cbbc1613f724006ad7de9753bbb619f",
        "IPY_MODEL_0bd9b4d81c4f47feb5560fd9e389a4a9"
       ],
       "layout": "IPY_MODEL_531efbb7d5c546b5b292b6a5a290dfa2"
      }
     },
     "8971318500f44dfc9aec2a4c5d5f00fd": {
      "model_module": "@jupyter-widgets/controls",
      "model_module_version": "1.5.0",
      "model_name": "HBoxModel",
      "state": {
       "children": [
        "IPY_MODEL_b3d217402fef43129978ebd5a560b64f",
        "IPY_MODEL_86fd3b1bd37049399d5027214fd78588"
       ],
       "layout": "IPY_MODEL_1a9582ad1d3a4cdaa83e27b853952acf"
      }
     },
     "89a0748408b948098b67ba539282230b": {
      "model_module": "@jupyter-widgets/base",
      "model_module_version": "1.2.0",
      "model_name": "LayoutModel",
      "state": {}
     },
     "89b2dd57f55949378dfd115407c486ec": {
      "model_module": "@jupyter-widgets/output",
      "model_module_version": "1.0.0",
      "model_name": "OutputModel",
      "state": {
       "layout": "IPY_MODEL_d9ad10a6747348819d93411f9d492cbd",
       "outputs": [
        {
         "data": {
          "text/html": "<h3>Motivation</h3>",
          "text/plain": "<cassini.ipygui.WHTML at 0x2401da7aac8>"
         },
         "metadata": {},
         "output_type": "display_data"
        }
       ]
      }
     },
     "89b67c3f7a2a493dbdb07bc75fe97bab": {
      "model_module": "@jupyter-widgets/output",
      "model_module_version": "1.0.0",
      "model_name": "OutputModel",
      "state": {
       "layout": "IPY_MODEL_918ce7fb789e43118c0ff7464fa735b6"
      }
     },
     "89d916403e4a4e1b885b24f93025779f": {
      "model_module": "@jupyter-widgets/controls",
      "model_module_version": "1.5.0",
      "model_name": "ButtonModel",
      "state": {
       "description": "Folder",
       "layout": "IPY_MODEL_b487a22dd9934c91bc650d66435988f3",
       "style": "IPY_MODEL_a84fd0b22953442d81396a35af3e69b3"
      }
     },
     "8a2a6aa041ed48f395d729a9e036905c": {
      "model_module": "@jupyter-widgets/base",
      "model_module_version": "1.2.0",
      "model_name": "LayoutModel",
      "state": {}
     },
     "8aa07b7e1365412689ebceea5714f76f": {
      "model_module": "@jupyter-widgets/base",
      "model_module_version": "1.2.0",
      "model_name": "LayoutModel",
      "state": {}
     },
     "8abd224dd1504737a30362320efb95c8": {
      "model_module": "@jupyter-widgets/controls",
      "model_module_version": "1.5.0",
      "model_name": "SelectMultipleModel",
      "state": {
       "_options_labels": [
        "WP1.1a"
       ],
       "description": "Auto Add",
       "index": [],
       "layout": "IPY_MODEL_4ab68dbf7bb14317af418094eab088dc",
       "rows": 5,
       "style": "IPY_MODEL_73dc2e00ef9740b88dbe69238ca217be"
      }
     },
     "8b35b32f9b72428e8ce05d3c480304a1": {
      "model_module": "@jupyter-widgets/base",
      "model_module_version": "1.2.0",
      "model_name": "LayoutModel",
      "state": {
       "width": "auto"
      }
     },
     "8c5e4fdf9fe1410db31991a4ed09898f": {
      "model_module": "@jupyter-widgets/controls",
      "model_module_version": "1.5.0",
      "model_name": "ButtonStyleModel",
      "state": {}
     },
     "8c64161e573c40ac81f4f71f57e078f5": {
      "model_module": "@jupyter-widgets/controls",
      "model_module_version": "1.5.0",
      "model_name": "ButtonModel",
      "state": {
       "description": "Folder",
       "layout": "IPY_MODEL_15fc12dedaf549559aec7cfe793fc913",
       "style": "IPY_MODEL_1b8103863ef54ad48681b3531c40f592"
      }
     },
     "8c6fccc4c2b449628d9b8086ce2f362e": {
      "model_module": "@jupyter-widgets/output",
      "model_module_version": "1.0.0",
      "model_name": "OutputModel",
      "state": {
       "layout": "IPY_MODEL_8f034445566d413b8ffba6c83533d7c6"
      }
     },
     "8cb9db9731684cc287457ada562abfd1": {
      "model_module": "@jupyter-widgets/controls",
      "model_module_version": "1.5.0",
      "model_name": "VBoxModel",
      "state": {
       "children": [
        "IPY_MODEL_eb343d11db674308ac2742eb67c4ecd6",
        "IPY_MODEL_0671140537c5487f9d59e635ce554962",
        "IPY_MODEL_57f7a3a481aa499f891732bdec8e6e83",
        "IPY_MODEL_80091c362daf47b89a02604a91147cc5",
        "IPY_MODEL_db86151f3aff442697cb715f405e4e2a"
       ],
       "layout": "IPY_MODEL_62df90c85f1043168067b691d777b7cc"
      }
     },
     "8cc5545b44da4dbf950e2bb0e46da14e": {
      "model_module": "@jupyter-widgets/controls",
      "model_module_version": "1.5.0",
      "model_name": "ButtonModel",
      "state": {
       "description": "Confirm",
       "disabled": true,
       "layout": "IPY_MODEL_dd795d6e6eb141598b1cf2fb6911545e",
       "style": "IPY_MODEL_6c81340b34054de2811e0c5713c4c826"
      }
     },
     "8d0766c72b354c28975720d1b30e1ff7": {
      "model_module": "@jupyter-widgets/base",
      "model_module_version": "1.2.0",
      "model_name": "LayoutModel",
      "state": {}
     },
     "8d241643734f4320863b7655f46b6791": {
      "model_module": "@jupyter-widgets/base",
      "model_module_version": "1.2.0",
      "model_name": "LayoutModel",
      "state": {}
     },
     "8d5e839411db413bb60f63b72c9bc368": {
      "model_module": "@jupyter-widgets/base",
      "model_module_version": "1.2.0",
      "model_name": "LayoutModel",
      "state": {}
     },
     "8d67c19c9f784115af4d35877bec69d9": {
      "model_module": "@jupyter-widgets/controls",
      "model_module_version": "1.5.0",
      "model_name": "ButtonStyleModel",
      "state": {}
     },
     "8dd0fcd2e0244220830afda5007b0f28": {
      "model_module": "@jupyter-widgets/output",
      "model_module_version": "1.0.0",
      "model_name": "OutputModel",
      "state": {
       "layout": "IPY_MODEL_8b35b32f9b72428e8ce05d3c480304a1"
      }
     },
     "8e70c5a856d6492188a4bbbfa1f1f43a": {
      "model_module": "@jupyter-widgets/base",
      "model_module_version": "1.2.0",
      "model_name": "LayoutModel",
      "state": {
       "width": "auto"
      }
     },
     "8ea760f3bd39447c9d6b2adf6998c295": {
      "model_module": "@jupyter-widgets/output",
      "model_module_version": "1.0.0",
      "model_name": "OutputModel",
      "state": {
       "layout": "IPY_MODEL_a9fe3c94e3b34e91970ecfc51540331a",
       "outputs": [
        {
         "data": {
          "text/html": "<h3>New Sample</h3>",
          "text/plain": "<cassini.ipygui.WHTML at 0x2401d8cb128>"
         },
         "metadata": {},
         "output_type": "display_data"
        }
       ]
      }
     },
     "8f034445566d413b8ffba6c83533d7c6": {
      "model_module": "@jupyter-widgets/base",
      "model_module_version": "1.2.0",
      "model_name": "LayoutModel",
      "state": {
       "width": "auto"
      }
     },
     "8f5b51cb31f54bbb8c4fa04ddf46fdde": {
      "model_module": "@jupyter-widgets/output",
      "model_module_version": "1.0.0",
      "model_name": "OutputModel",
      "state": {
       "layout": "IPY_MODEL_32f1353f6e7b42be917a739b2171ae3c"
      }
     },
     "8f73909b4036468483bde07521937ce4": {
      "model_module": "@jupyter-widgets/base",
      "model_module_version": "1.2.0",
      "model_name": "LayoutModel",
      "state": {}
     },
     "8f8e6e80fc13427b90d2159286fd4136": {
      "model_module": "@jupyter-widgets/output",
      "model_module_version": "1.0.0",
      "model_name": "OutputModel",
      "state": {
       "layout": "IPY_MODEL_2d58ca93be24493585015abed99894b6",
       "outputs": [
        {
         "data": {
          "text/html": "<h3>Samples</h3>",
          "text/plain": "<cassini.ipygui.WHTML at 0x2401d90add8>"
         },
         "metadata": {},
         "output_type": "display_data"
        }
       ]
      }
     },
     "8fd4d38190954fa5a2d4cfcdc2f51fdf": {
      "model_module": "@jupyter-widgets/controls",
      "model_module_version": "1.5.0",
      "model_name": "ButtonStyleModel",
      "state": {}
     },
     "900990960eaa425aa30a4830d670cf03": {
      "model_module": "@jupyter-widgets/output",
      "model_module_version": "1.0.0",
      "model_name": "OutputModel",
      "state": {
       "layout": "IPY_MODEL_8301d686b25b400a9d938a7ea6d4393f"
      }
     },
     "901d5f37385a447da978f56e940bf09c": {
      "model_module": "@jupyter-widgets/output",
      "model_module_version": "1.0.0",
      "model_name": "OutputModel",
      "state": {
       "layout": "IPY_MODEL_7b093421914d4c3cbb2a3f1d4fd29f7e",
       "outputs": [
        {
         "data": {
          "text/markdown": "Usually some sort of process you'll tweak and repeat on multiple samples",
          "text/plain": "<IPython.core.display.Markdown object>"
         },
         "metadata": {},
         "output_type": "display_data"
        }
       ]
      }
     },
     "902a4135a1404026a24f1c7400da9f02": {
      "model_module": "@jupyter-widgets/controls",
      "model_module_version": "1.5.0",
      "model_name": "DescriptionStyleModel",
      "state": {
       "description_width": "10%"
      }
     },
     "90397537bf9f468eb1c53fa55ac902be": {
      "model_module": "@jupyter-widgets/output",
      "model_module_version": "1.0.0",
      "model_name": "OutputModel",
      "state": {
       "layout": "IPY_MODEL_d508b83272d64105952906060512f164",
       "outputs": [
        {
         "data": {
          "text/html": "<h3>Samples</h3>",
          "text/plain": "<cassini.ipygui.WHTML at 0x2401d659f60>"
         },
         "metadata": {},
         "output_type": "display_data"
        }
       ]
      }
     },
     "9143cbee5f854f7591ec4311e7c2279a": {
      "model_module": "@jupyter-widgets/output",
      "model_module_version": "1.0.0",
      "model_name": "OutputModel",
      "state": {
       "layout": "IPY_MODEL_2f840082c34345ffa5017c3e4732b968",
       "outputs": [
        {
         "data": {
          "text/markdown": "Usually some sort of process you'll tweak and repeat on multiple samples",
          "text/plain": "<IPython.core.display.Markdown object>"
         },
         "metadata": {},
         "output_type": "display_data"
        }
       ]
      }
     },
     "918ce7fb789e43118c0ff7464fa735b6": {
      "model_module": "@jupyter-widgets/base",
      "model_module_version": "1.2.0",
      "model_name": "LayoutModel",
      "state": {
       "width": "auto"
      }
     },
     "92470b6945f54e37b48fe3a72a5db079": {
      "model_module": "@jupyter-widgets/base",
      "model_module_version": "1.2.0",
      "model_name": "LayoutModel",
      "state": {
       "width": "auto"
      }
     },
     "9257cb7b4864404cbd24fcd00649d41e": {
      "model_module": "@jupyter-widgets/base",
      "model_module_version": "1.2.0",
      "model_name": "LayoutModel",
      "state": {}
     },
     "92e9df07da03462dbf4fe07834516eca": {
      "model_module": "@jupyter-widgets/base",
      "model_module_version": "1.2.0",
      "model_name": "LayoutModel",
      "state": {}
     },
     "9308cfe7c4fc4a76b4d0c502194c73b3": {
      "model_module": "@jupyter-widgets/controls",
      "model_module_version": "1.5.0",
      "model_name": "DescriptionStyleModel",
      "state": {
       "description_width": "10%"
      }
     },
     "941069ee1ae4429389a882f73161b30f": {
      "model_module": "@jupyter-widgets/output",
      "model_module_version": "1.0.0",
      "model_name": "OutputModel",
      "state": {
       "layout": "IPY_MODEL_24f3491eb3f94842b82031376df4aa87"
      }
     },
     "94e4849d04c94954b7a0fd68d2cdc820": {
      "model_module": "@jupyter-widgets/base",
      "model_module_version": "1.2.0",
      "model_name": "LayoutModel",
      "state": {}
     },
     "955327210fdb4779b410a424526038ef": {
      "model_module": "@jupyter-widgets/controls",
      "model_module_version": "1.5.0",
      "model_name": "TextModel",
      "state": {
       "description": "Identifier",
       "layout": "IPY_MODEL_9b75488db54942b2800ed676210897cd",
       "placeholder": "([^0-9^-][^-]*)",
       "style": "IPY_MODEL_2b7d8469717e459888184c4fbaa90ac5"
      }
     },
     "9558ba7836544502889cd7008241d46a": {
      "model_module": "@jupyter-widgets/base",
      "model_module_version": "1.2.0",
      "model_name": "LayoutModel",
      "state": {}
     },
     "957fd1f1abef47f88f4bd4cd53353bbb": {
      "model_module": "@jupyter-widgets/controls",
      "model_module_version": "1.5.0",
      "model_name": "HBoxModel",
      "state": {
       "children": [
        "IPY_MODEL_69bddf23fe7f45c8ac01dfd84674e8d9",
        "IPY_MODEL_2e2b4d032fc74897aaacc596699210d1"
       ],
       "layout": "IPY_MODEL_b8904453db9e4b9bab39c4eaa8d3437d"
      }
     },
     "958e49505dc34596999e3654424fdc3b": {
      "model_module": "@jupyter-widgets/base",
      "model_module_version": "1.2.0",
      "model_name": "LayoutModel",
      "state": {}
     },
     "95a7430eb8994ac59931d2e9f7d2bd82": {
      "model_module": "@jupyter-widgets/base",
      "model_module_version": "1.2.0",
      "model_name": "LayoutModel",
      "state": {
       "width": "auto"
      }
     },
     "95c4d0a65ffa45e9be61cd13b10af890": {
      "model_module": "@jupyter-widgets/output",
      "model_module_version": "1.0.0",
      "model_name": "OutputModel",
      "state": {
       "layout": "IPY_MODEL_25883e3e1da1468cb1b098d4556113db",
       "outputs": [
        {
         "data": {
          "text/html": "<h3>New Data</h3>",
          "text/plain": "<cassini.ipygui.WHTML at 0x2401dd52f28>"
         },
         "metadata": {},
         "output_type": "display_data"
        }
       ]
      }
     },
     "95d6a93c4b3549b8b9bcd10c70cc2c8b": {
      "model_module": "@jupyter-widgets/output",
      "model_module_version": "1.0.0",
      "model_name": "OutputModel",
      "state": {
       "layout": "IPY_MODEL_bfaf7ce7095b417bae511326277ef191",
       "outputs": [
        {
         "data": {
          "text/html": "<h3>New Data</h3>",
          "text/plain": "<cassini.ipygui.WHTML at 0x2401d71d320>"
         },
         "metadata": {},
         "output_type": "display_data"
        }
       ]
      }
     },
     "9694c4bd515c4d178352350539575eeb": {
      "model_module": "@jupyter-widgets/controls",
      "model_module_version": "1.5.0",
      "model_name": "VBoxModel",
      "state": {
       "children": [
        "IPY_MODEL_17fbacf55c18473489e0dc9f59a0e32a",
        "IPY_MODEL_9bdb9e349f6e49659e47bed6eed95fbb",
        "IPY_MODEL_7f26484d5bf74a7fbf32a6e9f798badf",
        "IPY_MODEL_6014eee0494f40d39685bd33cf90226f",
        "IPY_MODEL_d070257bc2db455b90172f7b4a5ecedc"
       ],
       "layout": "IPY_MODEL_879dd3ebbcff4abcae73d553009827f0"
      }
     },
     "96e4796d5b7c4d108cc51e93ac730e27": {
      "model_module": "@jupyter-widgets/base",
      "model_module_version": "1.2.0",
      "model_name": "LayoutModel",
      "state": {}
     },
     "977a350fcd9542cd811a75a8fdeaed5f": {
      "model_module": "@jupyter-widgets/controls",
      "model_module_version": "1.5.0",
      "model_name": "DescriptionStyleModel",
      "state": {
       "description_width": "10%"
      }
     },
     "9810abab5f5e4b2a86d1c9f1eb4f6115": {
      "model_module": "@jupyter-widgets/output",
      "model_module_version": "1.0.0",
      "model_name": "OutputModel",
      "state": {
       "layout": "IPY_MODEL_239cf39484a749d3af8102dbe6ccc6b4"
      }
     },
     "9821cfb546354732a38e31e2b99764f1": {
      "model_module": "@jupyter-widgets/controls",
      "model_module_version": "1.5.0",
      "model_name": "DescriptionStyleModel",
      "state": {
       "description_width": "10%"
      }
     },
     "98c5d0a691e74240bf8e453dae69eecf": {
      "model_module": "@jupyter-widgets/base",
      "model_module_version": "1.2.0",
      "model_name": "LayoutModel",
      "state": {
       "width": "auto"
      }
     },
     "990d6f0ec34d4d20b0486561061ec1d4": {
      "model_module": "@jupyter-widgets/output",
      "model_module_version": "1.0.0",
      "model_name": "OutputModel",
      "state": {
       "layout": "IPY_MODEL_eb5ee72e2d174f2a83ab81d710afb9a0"
      }
     },
     "9967e73b0161411e84393669c2973521": {
      "model_module": "@jupyter-widgets/base",
      "model_module_version": "1.2.0",
      "model_name": "LayoutModel",
      "state": {}
     },
     "99860067e71f4293ba59397224bbcbed": {
      "model_module": "@jupyter-widgets/base",
      "model_module_version": "1.2.0",
      "model_name": "LayoutModel",
      "state": {
       "width": "auto"
      }
     },
     "9993cee058f94be6aebdc3784dbe689f": {
      "model_module": "@jupyter-widgets/controls",
      "model_module_version": "1.5.0",
      "model_name": "ButtonModel",
      "state": {
       "description": "New",
       "layout": "IPY_MODEL_6d18c6de723e47b798f541dfb2c031af",
       "style": "IPY_MODEL_4ba97753772b4e2f874cace207dd2815"
      }
     },
     "9a27c13f6b464b879f59f95f3366c06c": {
      "model_module": "@jupyter-widgets/base",
      "model_module_version": "1.2.0",
      "model_name": "LayoutModel",
      "state": {
       "width": "auto"
      }
     },
     "9ab30c6642564c36b9632228eb019c7e": {
      "model_module": "@jupyter-widgets/controls",
      "model_module_version": "1.5.0",
      "model_name": "TextareaModel",
      "state": {
       "description": "Motivation",
       "layout": "IPY_MODEL_d12d9cbeef304a2cafb39a0fb2fa8d49",
       "style": "IPY_MODEL_f22a9d8473a148fc962c5d251d78503a"
      }
     },
     "9b517708699649158b50845cdb7c3893": {
      "model_module": "@jupyter-widgets/base",
      "model_module_version": "1.2.0",
      "model_name": "LayoutModel",
      "state": {}
     },
     "9b60a0dcbf034ad991735fb5604b2be8": {
      "model_module": "@jupyter-widgets/base",
      "model_module_version": "1.2.0",
      "model_name": "LayoutModel",
      "state": {}
     },
     "9b75488db54942b2800ed676210897cd": {
      "model_module": "@jupyter-widgets/base",
      "model_module_version": "1.2.0",
      "model_name": "LayoutModel",
      "state": {
       "width": "auto"
      }
     },
     "9bdb9e349f6e49659e47bed6eed95fbb": {
      "model_module": "@jupyter-widgets/controls",
      "model_module_version": "1.5.0",
      "model_name": "SelectModel",
      "state": {
       "_options_labels": [
        "Custom.tmplt.ipynb",
        "Sample.tmplt.ipynb"
       ],
       "description": "Template",
       "index": 0,
       "layout": "IPY_MODEL_ffc27bb7b2a14804b769082ec8e3aaf7",
       "style": "IPY_MODEL_7e6505c1b44d4779a8f99a883ca4611f"
      }
     },
     "9be620ba5b1d4119a511ecd91564d22b": {
      "model_module": "@jupyter-widgets/base",
      "model_module_version": "1.2.0",
      "model_name": "LayoutModel",
      "state": {}
     },
     "9c2172b3976149fa83b25e4514c81aee": {
      "model_module": "@jupyter-widgets/base",
      "model_module_version": "1.2.0",
      "model_name": "LayoutModel",
      "state": {}
     },
     "9d3a6c077a47407f8229fcf0be4ecb8e": {
      "model_module": "@jupyter-widgets/output",
      "model_module_version": "1.0.0",
      "model_name": "OutputModel",
      "state": {
       "layout": "IPY_MODEL_c5bac8ee513f49c394a6cd5e6f29f3aa",
       "outputs": [
        {
         "data": {
          "text/html": "<h3>Samples</h3>",
          "text/plain": "<cassini.ipygui.WHTML at 0x2401d71d7f0>"
         },
         "metadata": {},
         "output_type": "display_data"
        }
       ]
      }
     },
     "9d6444a4213a4ffe83a290fa2bfe81ff": {
      "model_module": "@jupyter-widgets/controls",
      "model_module_version": "1.5.0",
      "model_name": "ButtonModel",
      "state": {
       "description": "New",
       "layout": "IPY_MODEL_b448e63370c449d8aa01633afd23fe49",
       "style": "IPY_MODEL_6186013409744c60a7aaf32f1eae34f3"
      }
     },
     "9d6a36dcaa344a58b0dad19ece47f2f2": {
      "model_module": "@jupyter-widgets/controls",
      "model_module_version": "1.5.0",
      "model_name": "ButtonModel",
      "state": {
       "description": "Confirm",
       "disabled": true,
       "layout": "IPY_MODEL_a394d57843ee4636b31252e3fe390047",
       "style": "IPY_MODEL_d8d6f6922b0e46dc938f9637f57fb878"
      }
     },
     "9e0b723e833744f48b0bc2941fc2d515": {
      "model_module": "@jupyter-widgets/controls",
      "model_module_version": "1.5.0",
      "model_name": "TextModel",
      "state": {
       "description": "Identifier",
       "layout": "IPY_MODEL_99860067e71f4293ba59397224bbcbed",
       "placeholder": "([^0-9^-][^-]*)",
       "style": "IPY_MODEL_9308cfe7c4fc4a76b4d0c502194c73b3"
      }
     },
     "9e1cdd4f8b9849db93356e2998fdc0e2": {
      "model_module": "@jupyter-widgets/controls",
      "model_module_version": "1.5.0",
      "model_name": "DescriptionStyleModel",
      "state": {
       "description_width": "10%"
      }
     },
     "9e7b68e782484f31a17d300a104ca929": {
      "model_module": "@jupyter-widgets/controls",
      "model_module_version": "1.5.0",
      "model_name": "VBoxModel",
      "state": {
       "children": [
        "IPY_MODEL_b7747d762b7240f991f0a1c1ed079ed6",
        "IPY_MODEL_139cf94cad3647b189d0f42bd7eae513"
       ],
       "layout": "IPY_MODEL_ca5b7c02aae445ca8e46d910230d3658"
      }
     },
     "9eb207bbb84143288c7dcc66295fdf5d": {
      "model_module": "@jupyter-widgets/controls",
      "model_module_version": "1.5.0",
      "model_name": "VBoxModel",
      "state": {
       "children": [
        "IPY_MODEL_23cc67e19df74a7fa822cbd4a6dcfb23",
        "IPY_MODEL_cb8eb3019cac460b8795341cfdda8e36",
        "IPY_MODEL_520a1c6762b04d799839a7b8210a3527",
        "IPY_MODEL_0574727c76804309b37d3986d06a9f6b",
        "IPY_MODEL_dde777c9eda348999705a1d063820248"
       ],
       "layout": "IPY_MODEL_bfb6c675a2a548ddb3064fd933c8579d"
      }
     },
     "9eda10c9afaa4787b441186301ceaf32": {
      "model_module": "@jupyter-widgets/output",
      "model_module_version": "1.0.0",
      "model_name": "OutputModel",
      "state": {
       "layout": "IPY_MODEL_2bb914aef4c14ed98a943445b50cf6ba",
       "outputs": [
        {
         "data": {
          "text/html": "<h3>New Data</h3>",
          "text/plain": "<cassini.ipygui.WHTML at 0x2401d87ef98>"
         },
         "metadata": {},
         "output_type": "display_data"
        }
       ]
      }
     },
     "9f26e55683944112a2a1b4f2cef1fe47": {
      "model_module": "@jupyter-widgets/output",
      "model_module_version": "1.0.0",
      "model_name": "OutputModel",
      "state": {
       "layout": "IPY_MODEL_1eb4529cec084df0af7abbb5a0739848",
       "outputs": [
        {
         "data": {
          "text/html": "<h3>Samples</h3>",
          "text/plain": "<cassini.ipygui.WHTML at 0x2401d9196d8>"
         },
         "metadata": {},
         "output_type": "display_data"
        }
       ]
      }
     },
     "9f3e2c3e3ce94ae38f9a2587d0cdfad3": {
      "model_module": "@jupyter-widgets/controls",
      "model_module_version": "1.5.0",
      "model_name": "ButtonStyleModel",
      "state": {}
     },
     "9f75d7cfb9ce443982a9321724d91df2": {
      "model_module": "@jupyter-widgets/controls",
      "model_module_version": "1.5.0",
      "model_name": "HBoxModel",
      "state": {
       "children": [
        "IPY_MODEL_d7624dd975a0458fbe17eacf5c5c4bb5",
        "IPY_MODEL_b51c2e2f8cf64bb4b31638b107a6348e"
       ],
       "layout": "IPY_MODEL_c81345f581474370ae1c7c1f5d90cac8"
      }
     },
     "9f9a284cc9944dacac05d9151ef686fe": {
      "model_module": "@jupyter-widgets/base",
      "model_module_version": "1.2.0",
      "model_name": "LayoutModel",
      "state": {}
     },
     "9fa8a0b2cb224050aebcc65666fee3b9": {
      "model_module": "@jupyter-widgets/base",
      "model_module_version": "1.2.0",
      "model_name": "LayoutModel",
      "state": {}
     },
     "9faa9e55a2a444a79b77303822d5c181": {
      "model_module": "@jupyter-widgets/base",
      "model_module_version": "1.2.0",
      "model_name": "LayoutModel",
      "state": {}
     },
     "9fadad621d9d4534bc09263de7e44c4b": {
      "model_module": "@jupyter-widgets/base",
      "model_module_version": "1.2.0",
      "model_name": "LayoutModel",
      "state": {}
     },
     "9fddcd15cc7f4cdc85ce4f866d8bf29e": {
      "model_module": "@jupyter-widgets/controls",
      "model_module_version": "1.5.0",
      "model_name": "ButtonStyleModel",
      "state": {}
     },
     "a00d5da3dca145bebd32edfa784ff0bd": {
      "model_module": "@jupyter-widgets/base",
      "model_module_version": "1.2.0",
      "model_name": "LayoutModel",
      "state": {
       "width": "auto"
      }
     },
     "a01fa3d125fa47e79568da169432dd41": {
      "model_module": "@jupyter-widgets/base",
      "model_module_version": "1.2.0",
      "model_name": "LayoutModel",
      "state": {
       "width": "auto"
      }
     },
     "a027d9d8d8a44a6a8184ddd2aaf4c0f9": {
      "model_module": "@jupyter-widgets/base",
      "model_module_version": "1.2.0",
      "model_name": "LayoutModel",
      "state": {}
     },
     "a03d0cfaf8e74a199c588816a825776d": {
      "model_module": "@jupyter-widgets/base",
      "model_module_version": "1.2.0",
      "model_name": "LayoutModel",
      "state": {
       "width": "auto"
      }
     },
     "a081ac10260348d1a8698b32e91426f7": {
      "model_module": "@jupyter-widgets/output",
      "model_module_version": "1.0.0",
      "model_name": "OutputModel",
      "state": {
       "layout": "IPY_MODEL_9a27c13f6b464b879f59f95f3366c06c"
      }
     },
     "a181b2b09bfa40419ed2d2abc146fac6": {
      "model_module": "@jupyter-widgets/base",
      "model_module_version": "1.2.0",
      "model_name": "LayoutModel",
      "state": {}
     },
     "a1b20b2a15254cc7ab722e56fd814b3e": {
      "model_module": "@jupyter-widgets/output",
      "model_module_version": "1.0.0",
      "model_name": "OutputModel",
      "state": {
       "layout": "IPY_MODEL_c4567ea967e74885ab92a99babce9b25",
       "outputs": [
        {
         "data": {
          "text/html": "<h3>Samples</h3>",
          "text/plain": "<cassini.ipygui.WHTML at 0x2401d997a90>"
         },
         "metadata": {},
         "output_type": "display_data"
        }
       ]
      }
     },
     "a1b72fff0b534f929080f2479e46fe6b": {
      "model_module": "@jupyter-widgets/controls",
      "model_module_version": "1.5.0",
      "model_name": "VBoxModel",
      "state": {
       "children": [
        "IPY_MODEL_fc5dddb867aa404bb6606d1bee10203a",
        "IPY_MODEL_b7713977e8dc43e5a52dd4d21ac9bc5b",
        "IPY_MODEL_2865ffbae4644fa8a348e9ea1147a0a4",
        "IPY_MODEL_463e3282b762400db36bfb8b7b1b1338"
       ],
       "layout": "IPY_MODEL_e62d301633cf4c029d2ef0231990ef32"
      }
     },
     "a1d359539a8a47c888458bb6ffc3c5ee": {
      "model_module": "@jupyter-widgets/base",
      "model_module_version": "1.2.0",
      "model_name": "LayoutModel",
      "state": {}
     },
     "a1f41e5b92a04205b5f7e3ec3ad3bf9d": {
      "model_module": "@jupyter-widgets/base",
      "model_module_version": "1.2.0",
      "model_name": "LayoutModel",
      "state": {}
     },
     "a25d829c81cd4db295bf20e7b59212bd": {
      "model_module": "@jupyter-widgets/base",
      "model_module_version": "1.2.0",
      "model_name": "LayoutModel",
      "state": {
       "width": "auto"
      }
     },
     "a260aa9fc64e4aa5b1bcedc415224cc0": {
      "model_module": "@jupyter-widgets/controls",
      "model_module_version": "1.5.0",
      "model_name": "DescriptionStyleModel",
      "state": {
       "description_width": "10%"
      }
     },
     "a29e31bf108546a295bcd396396c6b8e": {
      "model_module": "@jupyter-widgets/controls",
      "model_module_version": "1.5.0",
      "model_name": "DescriptionStyleModel",
      "state": {
       "description_width": "10%"
      }
     },
     "a2ba421162544cf28c56cbdc3c61faca": {
      "model_module": "@jupyter-widgets/controls",
      "model_module_version": "1.5.0",
      "model_name": "SelectModel",
      "state": {
       "_options_labels": [
        "Custom.tmplt.ipynb",
        "Sample.tmplt.ipynb"
       ],
       "description": "Template",
       "index": 1,
       "layout": "IPY_MODEL_24646a3b884d4b879050cc477cb1291e",
       "style": "IPY_MODEL_69abf5e967df42c28da2c8a09d160d85"
      }
     },
     "a374c3c7e03a4ddcb937ad0965cb3754": {
      "model_module": "@jupyter-widgets/controls",
      "model_module_version": "1.5.0",
      "model_name": "HBoxModel",
      "state": {
       "children": [
        "IPY_MODEL_22d62909726c46c58789d762a9566a36",
        "IPY_MODEL_67c6366c15f244ceb735ad16e95a83d6"
       ],
       "layout": "IPY_MODEL_35ed3a62c97b418f97a3dad6a2e5e540"
      }
     },
     "a37e0362178b4e86941f2f2b537c69fa": {
      "model_module": "@jupyter-widgets/controls",
      "model_module_version": "1.5.0",
      "model_name": "VBoxModel",
      "state": {
       "children": [
        "IPY_MODEL_724fa4d433fd49cebfc5ee21aaae2263",
        "IPY_MODEL_8abd224dd1504737a30362320efb95c8",
        "IPY_MODEL_dab787f8273f4b468bf7f8767909db81",
        "IPY_MODEL_c8af5e1ff3854fc5a82be15c7dfdf618"
       ],
       "layout": "IPY_MODEL_86b75ea394b8448d98b5a21dd114875b"
      }
     },
     "a394d57843ee4636b31252e3fe390047": {
      "model_module": "@jupyter-widgets/base",
      "model_module_version": "1.2.0",
      "model_name": "LayoutModel",
      "state": {}
     },
     "a4bf66a5bdc04c6abd22d73eafc95ba4": {
      "model_module": "@jupyter-widgets/controls",
      "model_module_version": "1.5.0",
      "model_name": "HBoxModel",
      "state": {
       "children": [
        "IPY_MODEL_1de3bffd815d470283a9f2f7191926af",
        "IPY_MODEL_4508073e62824b468b75e4bc8c482979"
       ],
       "layout": "IPY_MODEL_fbf7013c299b43d6acb271cb9bc6ce8a"
      }
     },
     "a4e8ced171194b1fa41ac2539a9d2e12": {
      "model_module": "@jupyter-widgets/base",
      "model_module_version": "1.2.0",
      "model_name": "LayoutModel",
      "state": {}
     },
     "a5184b303dff44429a1d57d0ff95fd9a": {
      "model_module": "@jupyter-widgets/output",
      "model_module_version": "1.0.0",
      "model_name": "OutputModel",
      "state": {
       "layout": "IPY_MODEL_4cd94f54bd104307b6b8802dae5cb674",
       "outputs": [
        {
         "data": {
          "text/html": "<h1 style=\"display: inline;\"><a href=\"WP1.1.ipynb\">WP1.1</a></h1><h3 style=\"display: inline;\">(<a href=\"../../Home.ipynb\" target=\"_blank\">Home</a>-><a href=\"../WP1.ipynb\" target=\"_blank\">WP1</a>)</h3>",
          "text/plain": "<cassini.ipygui.WHTML at 0x2401d5f4ef0>"
         },
         "metadata": {},
         "output_type": "display_data"
        }
       ]
      }
     },
     "a547670942ff4081b8d1d33abe55018f": {
      "model_module": "@jupyter-widgets/base",
      "model_module_version": "1.2.0",
      "model_name": "LayoutModel",
      "state": {
       "width": "auto"
      }
     },
     "a5eb6095dea341a990ca5d59466b999c": {
      "model_module": "@jupyter-widgets/output",
      "model_module_version": "1.0.0",
      "model_name": "OutputModel",
      "state": {
       "layout": "IPY_MODEL_788bfd02c9a6497db1eec11bb8b46b99",
       "outputs": [
        {
         "data": {
          "text/markdown": "Fine",
          "text/plain": "<IPython.core.display.Markdown object>"
         },
         "metadata": {},
         "output_type": "display_data"
        }
       ]
      }
     },
     "a6c0701e0172457dbab7544511cdfeff": {
      "model_module": "@jupyter-widgets/controls",
      "model_module_version": "1.5.0",
      "model_name": "DescriptionStyleModel",
      "state": {
       "description_width": "10%"
      }
     },
     "a75b786f2e7e489abbf3d7f871a49d8c": {
      "model_module": "@jupyter-widgets/controls",
      "model_module_version": "1.5.0",
      "model_name": "ButtonStyleModel",
      "state": {}
     },
     "a78321b7f68845628b6a04aa2901fd9b": {
      "model_module": "@jupyter-widgets/controls",
      "model_module_version": "1.5.0",
      "model_name": "VBoxModel",
      "state": {
       "children": [
        "IPY_MODEL_bc6cd6bb777a4295adfbd157a721d5b8",
        "IPY_MODEL_8303cd8d3e5f459a80f836e6da6e6a96",
        "IPY_MODEL_3f91c998dda840e58ee797e41872fdd3",
        "IPY_MODEL_a374c3c7e03a4ddcb937ad0965cb3754",
        "IPY_MODEL_79b392a9b83f4f5a91eb2f29537b4017"
       ],
       "layout": "IPY_MODEL_ee0849b31fbd43ebb488ac7857988c41"
      }
     },
     "a7d6bb316ec24e9d93b6ee5807ad72fe": {
      "model_module": "@jupyter-widgets/output",
      "model_module_version": "1.0.0",
      "model_name": "OutputModel",
      "state": {
       "layout": "IPY_MODEL_3e0731dd785e458cb26f9d692825bc0c",
       "outputs": [
        {
         "data": {
          "text/html": "<table border=\"1\" class=\"dataframe\">\n  <thead>\n    <tr style=\"text-align: right;\">\n      <th></th>\n      <th>started</th>\n      <th>description</th>\n      <th>Hang On</th>\n      <th>Obj</th>\n      <th>datasets</th>\n    </tr>\n    <tr>\n      <th>Name</th>\n      <th></th>\n      <th></th>\n      <th></th>\n      <th></th>\n      <th></th>\n    </tr>\n  </thead>\n  <tbody>\n    <tr>\n      <th>WP1.1a</th>\n      <td>2020-06-29</td>\n      <td></td>\n      <td>None</td>\n      <td><a href=\"WP1.1/WP1.1a.ipynb\" target=\"_blank\"><h4 style=\"display: inline;\">WP1.1a</h4 style=\"display: inline;\"</a></td>\n      <td>[&#x27;Plotting&#x27;]</td>\n    </tr>\n    <tr>\n      <th>WP1.1b</th>\n      <td>2020-06-29</td>\n      <td></td>\n      <td>None</td>\n      <td><a href=\"WP1.1/WP1.1b.ipynb\" target=\"_blank\"><h4 style=\"display: inline;\">WP1.1b</h4 style=\"display: inline;\"</a></td>\n      <td>[]</td>\n    </tr>\n    <tr>\n      <th>WP1.1c</th>\n      <td>2020-06-29</td>\n      <td></td>\n      <td>now</td>\n      <td><a href=\"WP1.1/WP1.1c.ipynb\" target=\"_blank\"><h4 style=\"display: inline;\">WP1.1c</h4 style=\"display: inline;\"</a></td>\n      <td>[]</td>\n    </tr>\n    <tr>\n      <th>WP1.1d</th>\n      <td>2020-06-29</td>\n      <td>Not sure what&#x27;ll happen!</td>\n      <td>None</td>\n      <td><a href=\"WP1.1/WP1.1d.ipynb\" target=\"_blank\"><h4 style=\"display: inline;\">WP1.1d</h4 style=\"display: inline;\"</a></td>\n      <td>[]</td>\n    </tr>\n  </tbody>\n</table>",
          "text/plain": "          started               description Hang On                Obj  \\\nName                                                                     \nWP1.1a 2020-06-29                              None  <Sample \"WP1.1a\">   \nWP1.1b 2020-06-29                              None  <Sample \"WP1.1b\">   \nWP1.1c 2020-06-29                               now  <Sample \"WP1.1c\">   \nWP1.1d 2020-06-29  Not sure what'll happen!    None  <Sample \"WP1.1d\">   \n\n          datasets  \nName                \nWP1.1a  [Plotting]  \nWP1.1b          []  \nWP1.1c          []  \nWP1.1d          []  "
         },
         "metadata": {},
         "output_type": "display_data"
        }
       ]
      }
     },
     "a83e8566593a4110b900531fec936176": {
      "model_module": "@jupyter-widgets/controls",
      "model_module_version": "1.5.0",
      "model_name": "ButtonStyleModel",
      "state": {}
     },
     "a84fd0b22953442d81396a35af3e69b3": {
      "model_module": "@jupyter-widgets/controls",
      "model_module_version": "1.5.0",
      "model_name": "ButtonStyleModel",
      "state": {}
     },
     "a876945f2b214a1394146eebcbfdf3b5": {
      "model_module": "@jupyter-widgets/controls",
      "model_module_version": "1.5.0",
      "model_name": "ButtonStyleModel",
      "state": {}
     },
     "a89c80926e40446caf88edfac2b081a3": {
      "model_module": "@jupyter-widgets/controls",
      "model_module_version": "1.5.0",
      "model_name": "ButtonModel",
      "state": {
       "description": "Folder",
       "layout": "IPY_MODEL_76d2212175da4a9589102ee966cbf3bb",
       "style": "IPY_MODEL_ed344b9b823a4e7ba250499c26bb4221"
      }
     },
     "a9940ee041a545848e2fa4ad8b80ddda": {
      "model_module": "@jupyter-widgets/controls",
      "model_module_version": "1.5.0",
      "model_name": "DescriptionStyleModel",
      "state": {
       "description_width": "10%"
      }
     },
     "a9fe3c94e3b34e91970ecfc51540331a": {
      "model_module": "@jupyter-widgets/base",
      "model_module_version": "1.2.0",
      "model_name": "LayoutModel",
      "state": {}
     },
     "aab9872c77e44562ba5630a9af9348bc": {
      "model_module": "@jupyter-widgets/controls",
      "model_module_version": "1.5.0",
      "model_name": "DescriptionStyleModel",
      "state": {
       "description_width": "10%"
      }
     },
     "aad131ae698e4fd5893f891bc8ec90ee": {
      "model_module": "@jupyter-widgets/output",
      "model_module_version": "1.0.0",
      "model_name": "OutputModel",
      "state": {
       "layout": "IPY_MODEL_06f945976e4e485e85df4731e5278902"
      }
     },
     "ab787d623d964dfa9ffcf2d83f76c03e": {
      "model_module": "@jupyter-widgets/base",
      "model_module_version": "1.2.0",
      "model_name": "LayoutModel",
      "state": {
       "width": "auto"
      }
     },
     "ac2103d6e46f46c59042f1fc40729c3c": {
      "model_module": "@jupyter-widgets/output",
      "model_module_version": "1.0.0",
      "model_name": "OutputModel",
      "state": {
       "layout": "IPY_MODEL_9b517708699649158b50845cdb7c3893",
       "outputs": [
        {
         "data": {
          "text/html": "<h1 style=\"display: inline;\"><a href=\"WP1.1.ipynb\">WP1.1</a></h1><h3 style=\"display: inline;\">(<a href=\"../../Home.ipynb\" target=\"_blank\">Home</a>-><a href=\"../WP1.ipynb\" target=\"_blank\">WP1</a>)</h3>",
          "text/plain": "<cassini.ipygui.WHTML at 0x2401d997eb8>"
         },
         "metadata": {},
         "output_type": "display_data"
        }
       ]
      }
     },
     "ac3668c0ccaf44ce8973588fe52004fa": {
      "model_module": "@jupyter-widgets/controls",
      "model_module_version": "1.5.0",
      "model_name": "TextareaModel",
      "state": {
       "description": "Motivation",
       "layout": "IPY_MODEL_d20e61d03f0e4427a410bec283affd0e",
       "style": "IPY_MODEL_67ed8854b78b47769464d0fbf96c2956"
      }
     },
     "ac3dfc655ec64209919ab960330c6776": {
      "model_module": "@jupyter-widgets/controls",
      "model_module_version": "1.5.0",
      "model_name": "ButtonModel",
      "state": {
       "description": "New",
       "layout": "IPY_MODEL_5f1e897b8d6146c6bc64d26fb4d529fd",
       "style": "IPY_MODEL_4dd274bbdd354ca8b6e3a2f387c32209"
      }
     },
     "ac79efa7a0ca4709a32cb8586b0d95f8": {
      "model_module": "@jupyter-widgets/controls",
      "model_module_version": "1.5.0",
      "model_name": "ButtonStyleModel",
      "state": {}
     },
     "ad5b1dcc40684cca8be656de91404f63": {
      "model_module": "@jupyter-widgets/base",
      "model_module_version": "1.2.0",
      "model_name": "LayoutModel",
      "state": {}
     },
     "ad73658f8ada421389db3bffee6ccac4": {
      "model_module": "@jupyter-widgets/base",
      "model_module_version": "1.2.0",
      "model_name": "LayoutModel",
      "state": {
       "width": "auto"
      }
     },
     "ad8a733b91e94f13841fb44bc3ab423c": {
      "model_module": "@jupyter-widgets/base",
      "model_module_version": "1.2.0",
      "model_name": "LayoutModel",
      "state": {}
     },
     "adaf8e7a267041ef8a162b8f9717d00d": {
      "model_module": "@jupyter-widgets/base",
      "model_module_version": "1.2.0",
      "model_name": "LayoutModel",
      "state": {
       "width": "auto"
      }
     },
     "af033a1456414d119dfff4c1b26a7a20": {
      "model_module": "@jupyter-widgets/controls",
      "model_module_version": "1.5.0",
      "model_name": "ButtonModel",
      "state": {
       "description": "Confirm",
       "disabled": true,
       "layout": "IPY_MODEL_19e2ef04463a43dda8975d5a18918528",
       "style": "IPY_MODEL_af3afc29def649cf8415dd7855bcec6c"
      }
     },
     "af3afc29def649cf8415dd7855bcec6c": {
      "model_module": "@jupyter-widgets/controls",
      "model_module_version": "1.5.0",
      "model_name": "ButtonStyleModel",
      "state": {}
     },
     "b00f751f885347acbb35d339ca95206e": {
      "model_module": "@jupyter-widgets/controls",
      "model_module_version": "1.5.0",
      "model_name": "ButtonStyleModel",
      "state": {}
     },
     "b0206005ba064fd9a98487fa5b2922d3": {
      "model_module": "@jupyter-widgets/base",
      "model_module_version": "1.2.0",
      "model_name": "LayoutModel",
      "state": {
       "width": "auto"
      }
     },
     "b02cc70d26ab4bdc865b5bc87665cec4": {
      "model_module": "@jupyter-widgets/base",
      "model_module_version": "1.2.0",
      "model_name": "LayoutModel",
      "state": {}
     },
     "b06b125baf0b497588f08c6619c265ee": {
      "model_module": "@jupyter-widgets/base",
      "model_module_version": "1.2.0",
      "model_name": "LayoutModel",
      "state": {}
     },
     "b0eb2cbd67324aab9e779d46d3ebf5e5": {
      "model_module": "@jupyter-widgets/output",
      "model_module_version": "1.0.0",
      "model_name": "OutputModel",
      "state": {
       "layout": "IPY_MODEL_c4d8b59899444ef786266bf42e5d2bcc",
       "outputs": [
        {
         "data": {
          "text/html": "<h3>Motivation</h3>",
          "text/plain": "<cassini.ipygui.WHTML at 0x2401d87e748>"
         },
         "metadata": {},
         "output_type": "display_data"
        }
       ]
      }
     },
     "b11b0fef86c14c96bbf9ba4bbeed4c13": {
      "model_module": "@jupyter-widgets/controls",
      "model_module_version": "1.5.0",
      "model_name": "TextModel",
      "state": {
       "description": "Name:",
       "layout": "IPY_MODEL_db9341d1d3d1452ba4afa4fa033832a0",
       "placeholder": "e.g. XRD",
       "style": "IPY_MODEL_aab9872c77e44562ba5630a9af9348bc"
      }
     },
     "b1bcf6bda5374742b7c3a1c0d625bdf7": {
      "model_module": "@jupyter-widgets/controls",
      "model_module_version": "1.5.0",
      "model_name": "HBoxModel",
      "state": {
       "children": [
        "IPY_MODEL_e2ea14cd2d6240e5a98b1251f25350b7",
        "IPY_MODEL_33c3e8c93cae4aa2be37f3f92e51bced"
       ],
       "layout": "IPY_MODEL_06a692af9b4c46759ed824d5b8f2eaf0"
      }
     },
     "b210b673c9d6440187f6be1012ab4c14": {
      "model_module": "@jupyter-widgets/controls",
      "model_module_version": "1.5.0",
      "model_name": "ButtonModel",
      "state": {
       "description": "New",
       "layout": "IPY_MODEL_38774d6d97f8475a9d7dafc443970df2",
       "style": "IPY_MODEL_d840774d22e149648e3256b5b8332996"
      }
     },
     "b2cae8e92c134445b8ef699acc28a9bf": {
      "model_module": "@jupyter-widgets/controls",
      "model_module_version": "1.5.0",
      "model_name": "ButtonStyleModel",
      "state": {}
     },
     "b3314d150abf4a8a8a6a10c841810052": {
      "model_module": "@jupyter-widgets/base",
      "model_module_version": "1.2.0",
      "model_name": "LayoutModel",
      "state": {
       "width": "auto"
      }
     },
     "b36938a9706343a381651e4703a26089": {
      "model_module": "@jupyter-widgets/controls",
      "model_module_version": "1.5.0",
      "model_name": "ButtonModel",
      "state": {
       "description": "Confirm",
       "layout": "IPY_MODEL_baad5ab310e34cf0b0b805bc3aff1035",
       "style": "IPY_MODEL_f8639c8d77a74ea590266ed680d034bd"
      }
     },
     "b3a5010451eb40c28d0430b65ca2fbdb": {
      "model_module": "@jupyter-widgets/base",
      "model_module_version": "1.2.0",
      "model_name": "LayoutModel",
      "state": {
       "width": "auto"
      }
     },
     "b3d217402fef43129978ebd5a560b64f": {
      "model_module": "@jupyter-widgets/controls",
      "model_module_version": "1.5.0",
      "model_name": "ButtonModel",
      "state": {
       "description": "Confirm",
       "disabled": true,
       "layout": "IPY_MODEL_016d90362f7e4412bae6cbd2d921de14",
       "style": "IPY_MODEL_62de7c7ca9424a1b8aeb19c298f4f48a"
      }
     },
     "b3e547d76c564f7fb026b0c37aaa472f": {
      "model_module": "@jupyter-widgets/base",
      "model_module_version": "1.2.0",
      "model_name": "LayoutModel",
      "state": {
       "width": "auto"
      }
     },
     "b43f848376344f7d8439c4172b874e09": {
      "model_module": "@jupyter-widgets/controls",
      "model_module_version": "1.5.0",
      "model_name": "VBoxModel",
      "state": {
       "children": [
        "IPY_MODEL_a5184b303dff44429a1d57d0ff95fd9a",
        "IPY_MODEL_e754704183e244219e7a74aa9e6990c8"
       ],
       "layout": "IPY_MODEL_efe5eb8f08654671a4996a4f4367e857"
      }
     },
     "b448e63370c449d8aa01633afd23fe49": {
      "model_module": "@jupyter-widgets/base",
      "model_module_version": "1.2.0",
      "model_name": "LayoutModel",
      "state": {}
     },
     "b487a22dd9934c91bc650d66435988f3": {
      "model_module": "@jupyter-widgets/base",
      "model_module_version": "1.2.0",
      "model_name": "LayoutModel",
      "state": {}
     },
     "b51c2e2f8cf64bb4b31638b107a6348e": {
      "model_module": "@jupyter-widgets/controls",
      "model_module_version": "1.5.0",
      "model_name": "ButtonModel",
      "state": {
       "description": "New",
       "layout": "IPY_MODEL_448717717e2642e9808b07df35447ac7",
       "style": "IPY_MODEL_6524595489334013b900c5a48492df78"
      }
     },
     "b53c215edf79485d810193f184204e76": {
      "model_module": "@jupyter-widgets/controls",
      "model_module_version": "1.5.0",
      "model_name": "TextModel",
      "state": {
       "description": "Identifier",
       "layout": "IPY_MODEL_7728d980a57049838ed8c5a37fa22ba2",
       "placeholder": "([^0-9^-][^-]*)",
       "style": "IPY_MODEL_48639ca772e04eab99565638b55c58a8"
      }
     },
     "b5b0754da22f4708bed281ad2146a5f7": {
      "model_module": "@jupyter-widgets/base",
      "model_module_version": "1.2.0",
      "model_name": "LayoutModel",
      "state": {}
     },
     "b5b2d92e32204505bfda4692dc3c6687": {
      "model_module": "@jupyter-widgets/base",
      "model_module_version": "1.2.0",
      "model_name": "LayoutModel",
      "state": {}
     },
     "b5fbdbb2bc5946a895b6dc015188b986": {
      "model_module": "@jupyter-widgets/base",
      "model_module_version": "1.2.0",
      "model_name": "LayoutModel",
      "state": {}
     },
     "b6280d8ff5c745ae95bbd34b65fae7d5": {
      "model_module": "@jupyter-widgets/controls",
      "model_module_version": "1.5.0",
      "model_name": "VBoxModel",
      "state": {
       "children": [
        "IPY_MODEL_0b876fec2d5c4ee18e3668d494ed0ac9",
        "IPY_MODEL_0b80c7056dbb4dccb56182141d53639f",
        "IPY_MODEL_957fd1f1abef47f88f4bd4cd53353bbb",
        "IPY_MODEL_201f239c659c43209a80daf061e5d05d"
       ],
       "layout": "IPY_MODEL_f08e3d664aa94f26b0269c69e8dcf2bc"
      }
     },
     "b6dd952496374a14b5fe14abd2f79257": {
      "model_module": "@jupyter-widgets/base",
      "model_module_version": "1.2.0",
      "model_name": "LayoutModel",
      "state": {}
     },
     "b6faf39ca2ec4740ae508044d4c3ecd0": {
      "model_module": "@jupyter-widgets/controls",
      "model_module_version": "1.5.0",
      "model_name": "DescriptionStyleModel",
      "state": {
       "description_width": "10%"
      }
     },
     "b6fee75845644850b1584c49219364a8": {
      "model_module": "@jupyter-widgets/controls",
      "model_module_version": "1.5.0",
      "model_name": "ButtonStyleModel",
      "state": {}
     },
     "b70d12b898a24e5fab2b46bcd544c5ad": {
      "model_module": "@jupyter-widgets/controls",
      "model_module_version": "1.5.0",
      "model_name": "SelectModel",
      "state": {
       "_options_labels": [
        "Custom.tmplt.ipynb",
        "Sample.tmplt.ipynb"
       ],
       "description": "Template",
       "index": 0,
       "layout": "IPY_MODEL_a00d5da3dca145bebd32edfa784ff0bd",
       "style": "IPY_MODEL_38eae02469d944f68b02645ea5b91b52"
      }
     },
     "b72c215a67c749d7be21ce7d8097018d": {
      "model_module": "@jupyter-widgets/controls",
      "model_module_version": "1.5.0",
      "model_name": "ButtonModel",
      "state": {
       "description": "New",
       "layout": "IPY_MODEL_eb19d8d383704bd29c213cc4b2c0895c",
       "style": "IPY_MODEL_bff564d525974ef2a216eb719c8f46fd"
      }
     },
     "b7338a79759b4969a0e8569c33ef0031": {
      "model_module": "@jupyter-widgets/controls",
      "model_module_version": "1.5.0",
      "model_name": "TextModel",
      "state": {
       "description": "Name:",
       "layout": "IPY_MODEL_3b39454a0bb04f329db5fc5e8fb655f9",
       "placeholder": "e.g. XRD",
       "style": "IPY_MODEL_4832c724006a4d66924fef09e5f044d4"
      }
     },
     "b7713977e8dc43e5a52dd4d21ac9bc5b": {
      "model_module": "@jupyter-widgets/controls",
      "model_module_version": "1.5.0",
      "model_name": "SelectMultipleModel",
      "state": {
       "_options_labels": [
        "WP1.1a",
        "WP1.1b"
       ],
       "description": "Auto Add",
       "index": [],
       "layout": "IPY_MODEL_4551ba7f141e4759a02703e7f0f16208",
       "rows": 5,
       "style": "IPY_MODEL_44863f09cb90433d801f2dfda37ddd8e"
      }
     },
     "b7747d762b7240f991f0a1c1ed079ed6": {
      "model_module": "@jupyter-widgets/output",
      "model_module_version": "1.0.0",
      "model_name": "OutputModel",
      "state": {
       "layout": "IPY_MODEL_28d9677c39104359b93de7dea4831dc4",
       "outputs": [
        {
         "data": {
          "text/html": "<h1 style=\"display: inline;\"><a href=\"WP1.1.ipynb\">WP1.1</a></h1><h3 style=\"display: inline;\">(<a href=\"../../Home.ipynb\" target=\"_blank\">Home</a>-><a href=\"../WP1.ipynb\" target=\"_blank\">WP1</a>)</h3>",
          "text/plain": "<cassini.ipygui.WHTML at 0x2401d8bfe80>"
         },
         "metadata": {},
         "output_type": "display_data"
        }
       ]
      }
     },
     "b79acf1b53014798ad4197e23fc7085d": {
      "model_module": "@jupyter-widgets/base",
      "model_module_version": "1.2.0",
      "model_name": "LayoutModel",
      "state": {}
     },
     "b79b0bc61c89497ca5e73cbef76114b8": {
      "model_module": "@jupyter-widgets/base",
      "model_module_version": "1.2.0",
      "model_name": "LayoutModel",
      "state": {}
     },
     "b85057324e394f80a3e810cd4869f7db": {
      "model_module": "@jupyter-widgets/base",
      "model_module_version": "1.2.0",
      "model_name": "LayoutModel",
      "state": {}
     },
     "b87e680de401467aaca223a48de6935d": {
      "model_module": "@jupyter-widgets/base",
      "model_module_version": "1.2.0",
      "model_name": "LayoutModel",
      "state": {}
     },
     "b884176ad4b34df38ccc3f2e47f3482c": {
      "model_module": "@jupyter-widgets/base",
      "model_module_version": "1.2.0",
      "model_name": "LayoutModel",
      "state": {
       "width": "auto"
      }
     },
     "b8904453db9e4b9bab39c4eaa8d3437d": {
      "model_module": "@jupyter-widgets/base",
      "model_module_version": "1.2.0",
      "model_name": "LayoutModel",
      "state": {}
     },
     "b8a320fed546451496c776c079db1365": {
      "model_module": "@jupyter-widgets/base",
      "model_module_version": "1.2.0",
      "model_name": "LayoutModel",
      "state": {
       "width": "auto"
      }
     },
     "b9a6b15dfa534c4e83dc362945136a20": {
      "model_module": "@jupyter-widgets/output",
      "model_module_version": "1.0.0",
      "model_name": "OutputModel",
      "state": {
       "layout": "IPY_MODEL_3384dfc910c8442b84d5a8152e402b46",
       "outputs": [
        {
         "data": {
          "text/html": "<h3>Motivation</h3>",
          "text/plain": "<cassini.ipygui.WHTML at 0x2401d61f278>"
         },
         "metadata": {},
         "output_type": "display_data"
        }
       ]
      }
     },
     "b9ccfc1e7fae4ad0b27f80ba0f706a95": {
      "model_module": "@jupyter-widgets/base",
      "model_module_version": "1.2.0",
      "model_name": "LayoutModel",
      "state": {}
     },
     "ba285285f8e747d69163ced11ea95829": {
      "model_module": "@jupyter-widgets/controls",
      "model_module_version": "1.5.0",
      "model_name": "ButtonModel",
      "state": {
       "description": "Confirm",
       "disabled": true,
       "layout": "IPY_MODEL_f48f73b59fcd4359a24ea891cd1d9ea8",
       "style": "IPY_MODEL_a75b786f2e7e489abbf3d7f871a49d8c"
      }
     },
     "baad5ab310e34cf0b0b805bc3aff1035": {
      "model_module": "@jupyter-widgets/base",
      "model_module_version": "1.2.0",
      "model_name": "LayoutModel",
      "state": {}
     },
     "bac5a237949340f1893f46cc3679c30a": {
      "model_module": "@jupyter-widgets/controls",
      "model_module_version": "1.5.0",
      "model_name": "DescriptionStyleModel",
      "state": {
       "description_width": "10%"
      }
     },
     "bb106ad0f4784eb697a7dae8c974ee89": {
      "model_module": "@jupyter-widgets/base",
      "model_module_version": "1.2.0",
      "model_name": "LayoutModel",
      "state": {}
     },
     "bb3c948319084ca2815a0ea79ff6bee2": {
      "model_module": "@jupyter-widgets/output",
      "model_module_version": "1.0.0",
      "model_name": "OutputModel",
      "state": {
       "layout": "IPY_MODEL_a4e8ced171194b1fa41ac2539a9d2e12"
      }
     },
     "bba69a0f268946d098be8e4e9db9d555": {
      "model_module": "@jupyter-widgets/output",
      "model_module_version": "1.0.0",
      "model_name": "OutputModel",
      "state": {
       "layout": "IPY_MODEL_722f1403ad2d492c924ce7cb0b5f2257",
       "outputs": [
        {
         "data": {
          "text/html": "<h3>New Data</h3>",
          "text/plain": "<cassini.ipygui.WHTML at 0x2401da64978>"
         },
         "metadata": {},
         "output_type": "display_data"
        }
       ]
      }
     },
     "bc6cd6bb777a4295adfbd157a721d5b8": {
      "model_module": "@jupyter-widgets/controls",
      "model_module_version": "1.5.0",
      "model_name": "TextModel",
      "state": {
       "description": "Identifier",
       "disabled": true,
       "layout": "IPY_MODEL_78dae9497a704c16931bc48080313f01",
       "placeholder": "([^0-9^-][^-]*)",
       "style": "IPY_MODEL_62f7635364db4c57a59a22548656307b",
       "value": "b"
      }
     },
     "bdc103f897d843ac83f3a2dfac4dcce6": {
      "model_module": "@jupyter-widgets/output",
      "model_module_version": "1.0.0",
      "model_name": "OutputModel",
      "state": {
       "layout": "IPY_MODEL_ea95e4e945e246209d8048e4f232e9b3"
      }
     },
     "be14e49f72744b7e8b709e8e2a4a827b": {
      "model_module": "@jupyter-widgets/controls",
      "model_module_version": "1.5.0",
      "model_name": "ButtonStyleModel",
      "state": {}
     },
     "bfaf7ce7095b417bae511326277ef191": {
      "model_module": "@jupyter-widgets/base",
      "model_module_version": "1.2.0",
      "model_name": "LayoutModel",
      "state": {}
     },
     "bfb6c675a2a548ddb3064fd933c8579d": {
      "model_module": "@jupyter-widgets/base",
      "model_module_version": "1.2.0",
      "model_name": "LayoutModel",
      "state": {}
     },
     "bfeb316a96d34b0cad06b4d5219669d1": {
      "model_module": "@jupyter-widgets/base",
      "model_module_version": "1.2.0",
      "model_name": "LayoutModel",
      "state": {}
     },
     "bff564d525974ef2a216eb719c8f46fd": {
      "model_module": "@jupyter-widgets/controls",
      "model_module_version": "1.5.0",
      "model_name": "ButtonStyleModel",
      "state": {}
     },
     "c02d877f0b0f4fcaac5e045ba75af512": {
      "model_module": "@jupyter-widgets/controls",
      "model_module_version": "1.5.0",
      "model_name": "DescriptionStyleModel",
      "state": {
       "description_width": "10%"
      }
     },
     "c166c90c975e41ef8422ee6089464c13": {
      "model_module": "@jupyter-widgets/controls",
      "model_module_version": "1.5.0",
      "model_name": "ButtonModel",
      "state": {
       "description": "Confirm",
       "disabled": true,
       "layout": "IPY_MODEL_6f8a38ccd5644ed785cb10b37184cc6c",
       "style": "IPY_MODEL_ac79efa7a0ca4709a32cb8586b0d95f8"
      }
     },
     "c1b15c0825354fd88eb3c327c672ef1e": {
      "model_module": "@jupyter-widgets/base",
      "model_module_version": "1.2.0",
      "model_name": "LayoutModel",
      "state": {}
     },
     "c28b7db08bf84dca8d77ef99c3650598": {
      "model_module": "@jupyter-widgets/base",
      "model_module_version": "1.2.0",
      "model_name": "LayoutModel",
      "state": {}
     },
     "c301d27bdd454eb6bd07b13ef67e4a57": {
      "model_module": "@jupyter-widgets/output",
      "model_module_version": "1.0.0",
      "model_name": "OutputModel",
      "state": {
       "layout": "IPY_MODEL_7e61d5454d3e451d96b56c31679e02e8",
       "outputs": [
        {
         "data": {
          "text/html": "<table border=\"1\" class=\"dataframe\">\n  <thead>\n    <tr style=\"text-align: right;\">\n      <th></th>\n      <th>started</th>\n      <th>description</th>\n      <th>Obj</th>\n      <th>datasets</th>\n    </tr>\n    <tr>\n      <th>Name</th>\n      <th></th>\n      <th></th>\n      <th></th>\n      <th></th>\n    </tr>\n  </thead>\n  <tbody>\n    <tr>\n      <th>WP1.1a</th>\n      <td>2020-06-29</td>\n      <td></td>\n      <td><a href=\"WP1.1/WP1.1a.ipynb\" target=\"_blank\"><h4 style=\"display: inline;\">WP1.1a</h4 style=\"display: inline;\"</a></td>\n      <td>[&#x27;Plotting&#x27;]</td>\n    </tr>\n  </tbody>\n</table>",
          "text/plain": "          started description                Obj    datasets\nName                                                        \nWP1.1a 2020-06-29              <Sample \"WP1.1a\">  [Plotting]"
         },
         "metadata": {},
         "output_type": "display_data"
        }
       ]
      }
     },
     "c3c6df30510349e0984a2904974955c2": {
      "model_module": "@jupyter-widgets/controls",
      "model_module_version": "1.5.0",
      "model_name": "ButtonStyleModel",
      "state": {}
     },
     "c3f03a0129584cde8bff92aedf007f7c": {
      "model_module": "@jupyter-widgets/base",
      "model_module_version": "1.2.0",
      "model_name": "LayoutModel",
      "state": {
       "width": "auto"
      }
     },
     "c3f1c9b273cf4b779018f184e4574091": {
      "model_module": "@jupyter-widgets/controls",
      "model_module_version": "1.5.0",
      "model_name": "VBoxModel",
      "state": {
       "children": [
        "IPY_MODEL_31f046f1359c4cb8b1a9e8bf1c6b973d",
        "IPY_MODEL_804ef11f24e2464b8ebe1dcfcd8c9074",
        "IPY_MODEL_20393b2169c142adb0fef352980790d5",
        "IPY_MODEL_3db94d50a9054accbcf46fdceffaa1b1"
       ],
       "layout": "IPY_MODEL_9fadad621d9d4534bc09263de7e44c4b"
      }
     },
     "c4567ea967e74885ab92a99babce9b25": {
      "model_module": "@jupyter-widgets/base",
      "model_module_version": "1.2.0",
      "model_name": "LayoutModel",
      "state": {}
     },
     "c4b5f24f0e014a91af2cd6d5cbea7e9c": {
      "model_module": "@jupyter-widgets/base",
      "model_module_version": "1.2.0",
      "model_name": "LayoutModel",
      "state": {}
     },
     "c4bf9bf6ef5440deba2f9b03201417e8": {
      "model_module": "@jupyter-widgets/base",
      "model_module_version": "1.2.0",
      "model_name": "LayoutModel",
      "state": {
       "width": "auto"
      }
     },
     "c4d8b59899444ef786266bf42e5d2bcc": {
      "model_module": "@jupyter-widgets/base",
      "model_module_version": "1.2.0",
      "model_name": "LayoutModel",
      "state": {}
     },
     "c5570da0768a4166ae7e23a6ce402956": {
      "model_module": "@jupyter-widgets/base",
      "model_module_version": "1.2.0",
      "model_name": "LayoutModel",
      "state": {}
     },
     "c59e9d41c2b8475b9865592ebb93f898": {
      "model_module": "@jupyter-widgets/base",
      "model_module_version": "1.2.0",
      "model_name": "LayoutModel",
      "state": {}
     },
     "c5bac8ee513f49c394a6cd5e6f29f3aa": {
      "model_module": "@jupyter-widgets/base",
      "model_module_version": "1.2.0",
      "model_name": "LayoutModel",
      "state": {}
     },
     "c5f83b9c23a84ce286fad79bb398b50e": {
      "model_module": "@jupyter-widgets/base",
      "model_module_version": "1.2.0",
      "model_name": "LayoutModel",
      "state": {}
     },
     "c623a46877b644879a571ae621e60d4e": {
      "model_module": "@jupyter-widgets/controls",
      "model_module_version": "1.5.0",
      "model_name": "VBoxModel",
      "state": {
       "children": [
        "IPY_MODEL_55a0d897c0364130999352ef30d30759",
        "IPY_MODEL_b0eb2cbd67324aab9e779d46d3ebf5e5",
        "IPY_MODEL_d22a0675388b4b618ba8e24fbc2d6754",
        "IPY_MODEL_7f2e5b55305047d1826da7b90fb15f1b",
        "IPY_MODEL_c301d27bdd454eb6bd07b13ef67e4a57",
        "IPY_MODEL_5beac395aaf14211897da91e9d9519c7",
        "IPY_MODEL_a78321b7f68845628b6a04aa2901fd9b",
        "IPY_MODEL_9eda10c9afaa4787b441186301ceaf32",
        "IPY_MODEL_34b4bab17b774ce8bfbd205cd44ed612"
       ],
       "layout": "IPY_MODEL_20a283c5229e47f880d78cbbc2cba6e3"
      }
     },
     "c6b27b2641eb4c6bb12dfb9380106301": {
      "model_module": "@jupyter-widgets/base",
      "model_module_version": "1.2.0",
      "model_name": "LayoutModel",
      "state": {
       "width": "auto"
      }
     },
     "c6c21ce2d4544fcb96666217ed4cf2b7": {
      "model_module": "@jupyter-widgets/base",
      "model_module_version": "1.2.0",
      "model_name": "LayoutModel",
      "state": {
       "width": "auto"
      }
     },
     "c755c895bb3c41f09f5f4864935de8e0": {
      "model_module": "@jupyter-widgets/base",
      "model_module_version": "1.2.0",
      "model_name": "LayoutModel",
      "state": {}
     },
     "c7ad9de789254e1b82228b47930ed2bf": {
      "model_module": "@jupyter-widgets/output",
      "model_module_version": "1.0.0",
      "model_name": "OutputModel",
      "state": {
       "layout": "IPY_MODEL_45e6a537f8f84fdcb76666d8c8aa32b2",
       "outputs": [
        {
         "data": {
          "text/html": "<h3>Samples</h3>",
          "text/plain": "<cassini.ipygui.WHTML at 0x2401d9f1d30>"
         },
         "metadata": {},
         "output_type": "display_data"
        }
       ]
      }
     },
     "c80c5d895dfa49ba866ae497d2f20040": {
      "model_module": "@jupyter-widgets/base",
      "model_module_version": "1.2.0",
      "model_name": "LayoutModel",
      "state": {}
     },
     "c81345f581474370ae1c7c1f5d90cac8": {
      "model_module": "@jupyter-widgets/base",
      "model_module_version": "1.2.0",
      "model_name": "LayoutModel",
      "state": {}
     },
     "c8af5e1ff3854fc5a82be15c7dfdf618": {
      "model_module": "@jupyter-widgets/output",
      "model_module_version": "1.0.0",
      "model_name": "OutputModel",
      "state": {
       "layout": "IPY_MODEL_92e9df07da03462dbf4fe07834516eca"
      }
     },
     "c8b3cf6d54e34a6cb68063d5671e8c00": {
      "model_module": "@jupyter-widgets/controls",
      "model_module_version": "1.5.0",
      "model_name": "ButtonStyleModel",
      "state": {}
     },
     "c9428dbdcee2429c9e8077187dfe2555": {
      "model_module": "@jupyter-widgets/base",
      "model_module_version": "1.2.0",
      "model_name": "LayoutModel",
      "state": {}
     },
     "ca16f0c776144ac9917d1f6dc2225cd7": {
      "model_module": "@jupyter-widgets/base",
      "model_module_version": "1.2.0",
      "model_name": "LayoutModel",
      "state": {
       "width": "auto"
      }
     },
     "ca52d2a3a65a49b68e017b373e35f850": {
      "model_module": "@jupyter-widgets/base",
      "model_module_version": "1.2.0",
      "model_name": "LayoutModel",
      "state": {}
     },
     "ca5b7c02aae445ca8e46d910230d3658": {
      "model_module": "@jupyter-widgets/base",
      "model_module_version": "1.2.0",
      "model_name": "LayoutModel",
      "state": {}
     },
     "cb8eb3019cac460b8795341cfdda8e36": {
      "model_module": "@jupyter-widgets/controls",
      "model_module_version": "1.5.0",
      "model_name": "SelectModel",
      "state": {
       "_options_labels": [
        "Custom.tmplt.ipynb",
        "Sample.tmplt.ipynb"
       ],
       "description": "Template",
       "index": 0,
       "layout": "IPY_MODEL_e571eed4a7b74d44a59403a9c5ef54ae",
       "style": "IPY_MODEL_a9940ee041a545848e2fa4ad8b80ddda"
      }
     },
     "cb965e5f433b4fe6b7c325134916d47a": {
      "model_module": "@jupyter-widgets/base",
      "model_module_version": "1.2.0",
      "model_name": "LayoutModel",
      "state": {}
     },
     "cbceb4957802409aa07558d2beaa5e70": {
      "model_module": "@jupyter-widgets/base",
      "model_module_version": "1.2.0",
      "model_name": "LayoutModel",
      "state": {}
     },
     "cc47ec118e5f4575a85b5d1a86bcaaff": {
      "model_module": "@jupyter-widgets/controls",
      "model_module_version": "1.5.0",
      "model_name": "ButtonModel",
      "state": {
       "description": "Folder",
       "layout": "IPY_MODEL_fcdaea1b77fc4766b11793ed6b4f9701",
       "style": "IPY_MODEL_2459a64b7b234ed0ba940404f7b6a981"
      }
     },
     "cc9d9e02c70b4af8bc5717200d7afc7c": {
      "model_module": "@jupyter-widgets/base",
      "model_module_version": "1.2.0",
      "model_name": "LayoutModel",
      "state": {}
     },
     "ccb895660f624f07a6e24e848c8949c4": {
      "model_module": "@jupyter-widgets/base",
      "model_module_version": "1.2.0",
      "model_name": "LayoutModel",
      "state": {
       "width": "auto"
      }
     },
     "cd243351962c4e1cbc539d1369778607": {
      "model_module": "@jupyter-widgets/base",
      "model_module_version": "1.2.0",
      "model_name": "LayoutModel",
      "state": {
       "width": "auto"
      }
     },
     "cdc8d6dea75747349c92ceeb04a870c7": {
      "model_module": "@jupyter-widgets/base",
      "model_module_version": "1.2.0",
      "model_name": "LayoutModel",
      "state": {}
     },
     "ce267c293df841769790d60e4ca33017": {
      "model_module": "@jupyter-widgets/controls",
      "model_module_version": "1.5.0",
      "model_name": "DescriptionStyleModel",
      "state": {
       "description_width": "10%"
      }
     },
     "cf013b55511b43acb4c848ca80b0f1eb": {
      "model_module": "@jupyter-widgets/base",
      "model_module_version": "1.2.0",
      "model_name": "LayoutModel",
      "state": {}
     },
     "cf670a48564d431aab6a40ed19e78c52": {
      "model_module": "@jupyter-widgets/base",
      "model_module_version": "1.2.0",
      "model_name": "LayoutModel",
      "state": {}
     },
     "cfa113b611c442478150b4818324f198": {
      "model_module": "@jupyter-widgets/base",
      "model_module_version": "1.2.0",
      "model_name": "LayoutModel",
      "state": {
       "width": "auto"
      }
     },
     "d070257bc2db455b90172f7b4a5ecedc": {
      "model_module": "@jupyter-widgets/output",
      "model_module_version": "1.0.0",
      "model_name": "OutputModel",
      "state": {
       "layout": "IPY_MODEL_9faa9e55a2a444a79b77303822d5c181"
      }
     },
     "d096cb43d0994508941d3590aab788a7": {
      "model_module": "@jupyter-widgets/output",
      "model_module_version": "1.0.0",
      "model_name": "OutputModel",
      "state": {
       "layout": "IPY_MODEL_ca52d2a3a65a49b68e017b373e35f850",
       "outputs": [
        {
         "data": {
          "text/html": "<h3>New Data</h3>",
          "text/plain": "<cassini.ipygui.WHTML at 0x2401d967ef0>"
         },
         "metadata": {},
         "output_type": "display_data"
        }
       ]
      }
     },
     "d12d9cbeef304a2cafb39a0fb2fa8d49": {
      "model_module": "@jupyter-widgets/base",
      "model_module_version": "1.2.0",
      "model_name": "LayoutModel",
      "state": {
       "width": "auto"
      }
     },
     "d20e61d03f0e4427a410bec283affd0e": {
      "model_module": "@jupyter-widgets/base",
      "model_module_version": "1.2.0",
      "model_name": "LayoutModel",
      "state": {
       "width": "auto"
      }
     },
     "d223dfd10d8246e3a0854824b45f0c81": {
      "model_module": "@jupyter-widgets/controls",
      "model_module_version": "1.5.0",
      "model_name": "DescriptionStyleModel",
      "state": {
       "description_width": "10%"
      }
     },
     "d22a0675388b4b618ba8e24fbc2d6754": {
      "model_module": "@jupyter-widgets/output",
      "model_module_version": "1.0.0",
      "model_name": "OutputModel",
      "state": {
       "layout": "IPY_MODEL_589864fc0c864b0b84c9cc2317a246cb",
       "outputs": [
        {
         "data": {
          "text/markdown": "Usually some sort of process you'll tweak and repeat on multiple samples",
          "text/plain": "<IPython.core.display.Markdown object>"
         },
         "metadata": {},
         "output_type": "display_data"
        }
       ]
      }
     },
     "d2ac8b2fb89f4fdca356a467e4f6b367": {
      "model_module": "@jupyter-widgets/output",
      "model_module_version": "1.0.0",
      "model_name": "OutputModel",
      "state": {
       "layout": "IPY_MODEL_166a783e2a684d9f8a23f1aa7cb4a922",
       "outputs": [
        {
         "data": {
          "text/html": "<h3>Motivation</h3>",
          "text/plain": "<cassini.ipygui.WHTML at 0x2401d6c0160>"
         },
         "metadata": {},
         "output_type": "display_data"
        }
       ]
      }
     },
     "d34df21ef998441ba4783cd5a26a3f2a": {
      "model_module": "@jupyter-widgets/controls",
      "model_module_version": "1.5.0",
      "model_name": "ButtonStyleModel",
      "state": {}
     },
     "d377cf655faf4beb8e3bd289eaddb916": {
      "model_module": "@jupyter-widgets/output",
      "model_module_version": "1.0.0",
      "model_name": "OutputModel",
      "state": {
       "layout": "IPY_MODEL_4b2d2c4d1d924d9e8c727d6b12c36e3c"
      }
     },
     "d3c71f6976c843b6876d63ab685c7201": {
      "model_module": "@jupyter-widgets/controls",
      "model_module_version": "1.5.0",
      "model_name": "VBoxModel",
      "state": {
       "children": [
        "IPY_MODEL_7ce00e2ed42d445cae6ac4073e45ddea",
        "IPY_MODEL_d2ac8b2fb89f4fdca356a467e4f6b367",
        "IPY_MODEL_a5eb6095dea341a990ca5d59466b999c",
        "IPY_MODEL_90397537bf9f468eb1c53fa55ac902be",
        "IPY_MODEL_a7d6bb316ec24e9d93b6ee5807ad72fe",
        "IPY_MODEL_f1c75a0ea6d64c479adc7d09cc96ff94",
        "IPY_MODEL_1fdc3671de8a463c99b93dfdc9d437f0",
        "IPY_MODEL_d6d95e7d1cef49ed95a8b40773849499",
        "IPY_MODEL_b6280d8ff5c745ae95bbd34b65fae7d5"
       ],
       "layout": "IPY_MODEL_53a3ecf3eca54846a5817b05bf95999b"
      }
     },
     "d3e26dc2d3f6446794b673467039f79d": {
      "model_module": "@jupyter-widgets/base",
      "model_module_version": "1.2.0",
      "model_name": "LayoutModel",
      "state": {}
     },
     "d508b83272d64105952906060512f164": {
      "model_module": "@jupyter-widgets/base",
      "model_module_version": "1.2.0",
      "model_name": "LayoutModel",
      "state": {}
     },
     "d5899b1601cc4e1581413b2e2020b4fa": {
      "model_module": "@jupyter-widgets/output",
      "model_module_version": "1.0.0",
      "model_name": "OutputModel",
      "state": {
       "layout": "IPY_MODEL_9b60a0dcbf034ad991735fb5604b2be8"
      }
     },
     "d59b61b7a3194b678f8cd546f3f1b0cb": {
      "model_module": "@jupyter-widgets/base",
      "model_module_version": "1.2.0",
      "model_name": "LayoutModel",
      "state": {
       "width": "auto"
      }
     },
     "d5bdfaf08a9648fc91bfa38ff5a078ac": {
      "model_module": "@jupyter-widgets/base",
      "model_module_version": "1.2.0",
      "model_name": "LayoutModel",
      "state": {}
     },
     "d678389ff40948e593de326207666a7a": {
      "model_module": "@jupyter-widgets/controls",
      "model_module_version": "1.5.0",
      "model_name": "ButtonModel",
      "state": {
       "description": "New",
       "layout": "IPY_MODEL_2eeb08696a1044e780ebe9880c76167d",
       "style": "IPY_MODEL_e2f921e903be40eea4506865ff1f85a9"
      }
     },
     "d6d95e7d1cef49ed95a8b40773849499": {
      "model_module": "@jupyter-widgets/output",
      "model_module_version": "1.0.0",
      "model_name": "OutputModel",
      "state": {
       "layout": "IPY_MODEL_5224ee06a6b84d3db87187dc1a8953e3",
       "outputs": [
        {
         "data": {
          "text/html": "<h3>New Data</h3>",
          "text/plain": "<cassini.ipygui.WHTML at 0x2401d61fcc0>"
         },
         "metadata": {},
         "output_type": "display_data"
        }
       ]
      }
     },
     "d7624dd975a0458fbe17eacf5c5c4bb5": {
      "model_module": "@jupyter-widgets/controls",
      "model_module_version": "1.5.0",
      "model_name": "ButtonModel",
      "state": {
       "description": "Confirm",
       "disabled": true,
       "layout": "IPY_MODEL_cb965e5f433b4fe6b7c325134916d47a",
       "style": "IPY_MODEL_263eafc078ad47b18708d230202df781"
      }
     },
     "d840774d22e149648e3256b5b8332996": {
      "model_module": "@jupyter-widgets/controls",
      "model_module_version": "1.5.0",
      "model_name": "ButtonStyleModel",
      "state": {}
     },
     "d899c8a27f3046a38b0ccecdff73fee4": {
      "model_module": "@jupyter-widgets/base",
      "model_module_version": "1.2.0",
      "model_name": "LayoutModel",
      "state": {}
     },
     "d8d6f6922b0e46dc938f9637f57fb878": {
      "model_module": "@jupyter-widgets/controls",
      "model_module_version": "1.5.0",
      "model_name": "ButtonStyleModel",
      "state": {}
     },
     "d8ed064644884cce8ddfafc1965f18d3": {
      "model_module": "@jupyter-widgets/base",
      "model_module_version": "1.2.0",
      "model_name": "LayoutModel",
      "state": {}
     },
     "d91a6b6a8e6c495b994b9fdd4b07f14b": {
      "model_module": "@jupyter-widgets/base",
      "model_module_version": "1.2.0",
      "model_name": "LayoutModel",
      "state": {}
     },
     "d94d425d049f4367812bcbef2c208a23": {
      "model_module": "@jupyter-widgets/controls",
      "model_module_version": "1.5.0",
      "model_name": "VBoxModel",
      "state": {
       "children": [
        "IPY_MODEL_79509822fc2c4b9c85c2e800d20642bc",
        "IPY_MODEL_a89c80926e40446caf88edfac2b081a3"
       ],
       "layout": "IPY_MODEL_81df1a24b4c74bce994e2b9ae86035e0"
      }
     },
     "d98828b5f63f4cbf9ce9bd9e9e643ea7": {
      "model_module": "@jupyter-widgets/output",
      "model_module_version": "1.0.0",
      "model_name": "OutputModel",
      "state": {
       "layout": "IPY_MODEL_091bafad0819444095bb496e029e3d7a",
       "outputs": [
        {
         "data": {
          "text/html": "<h3>Motivation</h3>",
          "text/plain": "<cassini.ipygui.WHTML at 0x2401d8bff98>"
         },
         "metadata": {},
         "output_type": "display_data"
        }
       ]
      }
     },
     "d9a2c17354df4d14991ac637a6737d93": {
      "model_module": "@jupyter-widgets/controls",
      "model_module_version": "1.5.0",
      "model_name": "VBoxModel",
      "state": {
       "children": [
        "IPY_MODEL_434f6cb6b9f941f1977c8a1178b335ea",
        "IPY_MODEL_17ce25afe51e43608d58b03602ffca28",
        "IPY_MODEL_76c4ad900f824d2281093fb94889b3ba",
        "IPY_MODEL_9d3a6c077a47407f8229fcf0be4ecb8e",
        "IPY_MODEL_fde8dc3e3e504601a0048202e8917bb1",
        "IPY_MODEL_1874a1571aec4788b4d80aa427f8f657",
        "IPY_MODEL_67157a7aa984408288c402ce891c00bd",
        "IPY_MODEL_edcf675dae3241a3b2b23af556810666",
        "IPY_MODEL_c3f1c9b273cf4b779018f184e4574091"
       ],
       "layout": "IPY_MODEL_2ddce41199304d8888e63e395c84efa2"
      }
     },
     "d9ad10a6747348819d93411f9d492cbd": {
      "model_module": "@jupyter-widgets/base",
      "model_module_version": "1.2.0",
      "model_name": "LayoutModel",
      "state": {}
     },
     "d9cd32bff1bd44c09ba41393efd2575f": {
      "model_module": "@jupyter-widgets/base",
      "model_module_version": "1.2.0",
      "model_name": "LayoutModel",
      "state": {
       "width": "auto"
      }
     },
     "da1ce60fb63445a283ebc6ff530d62cb": {
      "model_module": "@jupyter-widgets/controls",
      "model_module_version": "1.5.0",
      "model_name": "TextareaModel",
      "state": {
       "description": "Motivation",
       "layout": "IPY_MODEL_98c5d0a691e74240bf8e453dae69eecf",
       "style": "IPY_MODEL_db93bc23529f46529cebf0ea5fbc2e9a"
      }
     },
     "da432c9d4be340739a30c499da167faa": {
      "model_module": "@jupyter-widgets/controls",
      "model_module_version": "1.5.0",
      "model_name": "ButtonStyleModel",
      "state": {}
     },
     "dab787f8273f4b468bf7f8767909db81": {
      "model_module": "@jupyter-widgets/controls",
      "model_module_version": "1.5.0",
      "model_name": "HBoxModel",
      "state": {
       "children": [
        "IPY_MODEL_9d6a36dcaa344a58b0dad19ece47f2f2",
        "IPY_MODEL_7fa08fdfe2b24f1797fbe8416f716a1f"
       ],
       "layout": "IPY_MODEL_733d5064436343eb8800ba6ddd3b2974"
      }
     },
     "dac3c3c36f8644c6a8f2d2b15e1573ac": {
      "model_module": "@jupyter-widgets/controls",
      "model_module_version": "1.5.0",
      "model_name": "DescriptionStyleModel",
      "state": {
       "description_width": "10%"
      }
     },
     "db2c2027b7f54040a21f87f9a58b2ca5": {
      "model_module": "@jupyter-widgets/base",
      "model_module_version": "1.2.0",
      "model_name": "LayoutModel",
      "state": {}
     },
     "db58e99ef1514bb8be322104a82ff5ce": {
      "model_module": "@jupyter-widgets/base",
      "model_module_version": "1.2.0",
      "model_name": "LayoutModel",
      "state": {}
     },
     "db86151f3aff442697cb715f405e4e2a": {
      "model_module": "@jupyter-widgets/output",
      "model_module_version": "1.0.0",
      "model_name": "OutputModel",
      "state": {
       "layout": "IPY_MODEL_2f31bbe6e3c2485ba2c6db201c7f9e14"
      }
     },
     "db9341d1d3d1452ba4afa4fa033832a0": {
      "model_module": "@jupyter-widgets/base",
      "model_module_version": "1.2.0",
      "model_name": "LayoutModel",
      "state": {
       "width": "auto"
      }
     },
     "db93bc23529f46529cebf0ea5fbc2e9a": {
      "model_module": "@jupyter-widgets/controls",
      "model_module_version": "1.5.0",
      "model_name": "DescriptionStyleModel",
      "state": {
       "description_width": "10%"
      }
     },
     "dc04f3ea911945ad8f37da3e26e656fd": {
      "model_module": "@jupyter-widgets/output",
      "model_module_version": "1.0.0",
      "model_name": "OutputModel",
      "state": {
       "layout": "IPY_MODEL_513c45ad3f1441abb3f6477715284ec3",
       "outputs": [
        {
         "data": {
          "text/html": "<h3>New Sample</h3>",
          "text/plain": "<cassini.ipygui.WHTML at 0x2401dd523c8>"
         },
         "metadata": {},
         "output_type": "display_data"
        }
       ]
      }
     },
     "dc47cc3090fe4895adaafe21a6ea420f": {
      "model_module": "@jupyter-widgets/controls",
      "model_module_version": "1.5.0",
      "model_name": "SelectMultipleModel",
      "state": {
       "_options_labels": [
        "WP1.1a",
        "WP1.1b"
       ],
       "description": "Auto Add",
       "index": [],
       "layout": "IPY_MODEL_51efc96890d143bc8d91ec4ddd2ca79b",
       "rows": 5,
       "style": "IPY_MODEL_03dfc8e3810045e39784b45d2ef1b7f3"
      }
     },
     "dd04872e40e744d98cf40ec8735c0d25": {
      "model_module": "@jupyter-widgets/base",
      "model_module_version": "1.2.0",
      "model_name": "LayoutModel",
      "state": {}
     },
     "dd795d6e6eb141598b1cf2fb6911545e": {
      "model_module": "@jupyter-widgets/base",
      "model_module_version": "1.2.0",
      "model_name": "LayoutModel",
      "state": {}
     },
     "dde777c9eda348999705a1d063820248": {
      "model_module": "@jupyter-widgets/output",
      "model_module_version": "1.0.0",
      "model_name": "OutputModel",
      "state": {
       "layout": "IPY_MODEL_b02cc70d26ab4bdc865b5bc87665cec4"
      }
     },
     "de960cebe93b4bc78df0aa489495cf18": {
      "model_module": "@jupyter-widgets/output",
      "model_module_version": "1.0.0",
      "model_name": "OutputModel",
      "state": {
       "layout": "IPY_MODEL_1e8fd225ab6e4df7adadefcdd41f4451",
       "outputs": [
        {
         "data": {
          "text/html": "<h3>New Sample</h3>",
          "text/plain": "<cassini.ipygui.WHTML at 0x2401d912320>"
         },
         "metadata": {},
         "output_type": "display_data"
        }
       ]
      }
     },
     "df4af43bd484422e8a97336fec3eae4b": {
      "model_module": "@jupyter-widgets/controls",
      "model_module_version": "1.5.0",
      "model_name": "SelectMultipleModel",
      "state": {
       "_options_labels": [
        "WP1.1a",
        "WP1.1b",
        "WP1.1c",
        "WP1.1d"
       ],
       "description": "Auto Add",
       "index": [],
       "layout": "IPY_MODEL_55c6bbfb3d76427bb534678b4e975882",
       "rows": 5,
       "style": "IPY_MODEL_515f80854a6f4ec2a2fa5efbcc9b78d5"
      }
     },
     "dfa5d600b89a4d54b72a886d0dbadb6d": {
      "model_module": "@jupyter-widgets/controls",
      "model_module_version": "1.5.0",
      "model_name": "ButtonStyleModel",
      "state": {}
     },
     "e08ffce2928346db8eb0f4e2ae15ef98": {
      "model_module": "@jupyter-widgets/base",
      "model_module_version": "1.2.0",
      "model_name": "LayoutModel",
      "state": {}
     },
     "e1cab08587a54d82bf9468ca117937c5": {
      "model_module": "@jupyter-widgets/base",
      "model_module_version": "1.2.0",
      "model_name": "LayoutModel",
      "state": {
       "width": "auto"
      }
     },
     "e1f25385bba64ea7ba1576aba137c8ea": {
      "model_module": "@jupyter-widgets/base",
      "model_module_version": "1.2.0",
      "model_name": "LayoutModel",
      "state": {}
     },
     "e25b6fb1e81b497280000e74d8b3d821": {
      "model_module": "@jupyter-widgets/controls",
      "model_module_version": "1.5.0",
      "model_name": "ButtonStyleModel",
      "state": {}
     },
     "e2ea14cd2d6240e5a98b1251f25350b7": {
      "model_module": "@jupyter-widgets/controls",
      "model_module_version": "1.5.0",
      "model_name": "ButtonModel",
      "state": {
       "description": "Confirm",
       "disabled": true,
       "layout": "IPY_MODEL_129ed37b6f83490c9abbf6ead40115da",
       "style": "IPY_MODEL_804d32837d63413cae67d6b863add70a"
      }
     },
     "e2f921e903be40eea4506865ff1f85a9": {
      "model_module": "@jupyter-widgets/controls",
      "model_module_version": "1.5.0",
      "model_name": "ButtonStyleModel",
      "state": {}
     },
     "e416a20f2fcf492090bb3079fe57561c": {
      "model_module": "@jupyter-widgets/base",
      "model_module_version": "1.2.0",
      "model_name": "LayoutModel",
      "state": {
       "width": "auto"
      }
     },
     "e51cf9d8c6764441af3fe8af2d1f8d6b": {
      "model_module": "@jupyter-widgets/base",
      "model_module_version": "1.2.0",
      "model_name": "LayoutModel",
      "state": {
       "width": "auto"
      }
     },
     "e5404a6c76dd458597a539dc86adc290": {
      "model_module": "@jupyter-widgets/output",
      "model_module_version": "1.0.0",
      "model_name": "OutputModel",
      "state": {
       "layout": "IPY_MODEL_7ba65fd3af7b45df808f093febd1dd8c",
       "outputs": [
        {
         "data": {
          "text/html": "<h3>New Data</h3>",
          "text/plain": "<cassini.ipygui.WHTML at 0x2401d9da9b0>"
         },
         "metadata": {},
         "output_type": "display_data"
        }
       ]
      }
     },
     "e571eed4a7b74d44a59403a9c5ef54ae": {
      "model_module": "@jupyter-widgets/base",
      "model_module_version": "1.2.0",
      "model_name": "LayoutModel",
      "state": {
       "width": "auto"
      }
     },
     "e5ac9ed0673d485ca6edfe5b0bdb918e": {
      "model_module": "@jupyter-widgets/base",
      "model_module_version": "1.2.0",
      "model_name": "LayoutModel",
      "state": {}
     },
     "e6241bd98fff45c9aba3c0f2d093b8bd": {
      "model_module": "@jupyter-widgets/output",
      "model_module_version": "1.0.0",
      "model_name": "OutputModel",
      "state": {
       "layout": "IPY_MODEL_f110ac61618845079456152039d11a74"
      }
     },
     "e62d301633cf4c029d2ef0231990ef32": {
      "model_module": "@jupyter-widgets/base",
      "model_module_version": "1.2.0",
      "model_name": "LayoutModel",
      "state": {}
     },
     "e6817214ffd8429eb5c732ac69b47e2d": {
      "model_module": "@jupyter-widgets/controls",
      "model_module_version": "1.5.0",
      "model_name": "VBoxModel",
      "state": {
       "children": [
        "IPY_MODEL_656cfbe5311045fa8adc187c504b40a1",
        "IPY_MODEL_89b2dd57f55949378dfd115407c486ec",
        "IPY_MODEL_9143cbee5f854f7591ec4311e7c2279a",
        "IPY_MODEL_c7ad9de789254e1b82228b47930ed2bf",
        "IPY_MODEL_f1d0e66ed9374c0cb8c63d4c40636603",
        "IPY_MODEL_f5e81b00c87a419ab7efb9972764035f",
        "IPY_MODEL_f1cb484224e4418788c2689c9cec0244",
        "IPY_MODEL_099f1f2f7f0b46a6b241ba020d2026da",
        "IPY_MODEL_540f33a6a61f4c3b89e2871600294a34"
       ],
       "layout": "IPY_MODEL_65ec0b9bd08d4e628a8a2d72860327d5"
      }
     },
     "e6b4f2254b4f485bbe33529beadc81a8": {
      "model_module": "@jupyter-widgets/controls",
      "model_module_version": "1.5.0",
      "model_name": "ButtonStyleModel",
      "state": {}
     },
     "e6c5d9694c6644668e6ae362e6572d8c": {
      "model_module": "@jupyter-widgets/controls",
      "model_module_version": "1.5.0",
      "model_name": "ButtonModel",
      "state": {
       "description": "New",
       "layout": "IPY_MODEL_1c784d18fd594c5eb3bb3d6bb6c86a31",
       "style": "IPY_MODEL_873c6cec85e540d495c5b9f6a105f7f8"
      }
     },
     "e6fb5162ac8d434e94a435daaa8ce076": {
      "model_module": "@jupyter-widgets/base",
      "model_module_version": "1.2.0",
      "model_name": "LayoutModel",
      "state": {}
     },
     "e754704183e244219e7a74aa9e6990c8": {
      "model_module": "@jupyter-widgets/controls",
      "model_module_version": "1.5.0",
      "model_name": "ButtonModel",
      "state": {
       "description": "Folder",
       "layout": "IPY_MODEL_7df5218994874a1db33b285f67dbf9b1",
       "style": "IPY_MODEL_0e3efe203f504880831b25ca91be5ac6"
      }
     },
     "e7649a4bb00a485f8339cb1ec89ce7ed": {
      "model_module": "@jupyter-widgets/controls",
      "model_module_version": "1.5.0",
      "model_name": "ButtonModel",
      "state": {
       "description": "Confirm",
       "disabled": true,
       "layout": "IPY_MODEL_cc9d9e02c70b4af8bc5717200d7afc7c",
       "style": "IPY_MODEL_8d67c19c9f784115af4d35877bec69d9"
      }
     },
     "e7cbf312a8054de6b76cbcdf4e79d741": {
      "model_module": "@jupyter-widgets/controls",
      "model_module_version": "1.5.0",
      "model_name": "ButtonModel",
      "state": {
       "description": "Confirm",
       "disabled": true,
       "layout": "IPY_MODEL_14c3a4dc331d4eef8c3913128ccf0428",
       "style": "IPY_MODEL_7307cfe727d84453b1d98bd211b27aa5"
      }
     },
     "e839ded1f1f3465989c32826332dc659": {
      "model_module": "@jupyter-widgets/controls",
      "model_module_version": "1.5.0",
      "model_name": "ButtonModel",
      "state": {
       "description": "Folder",
       "layout": "IPY_MODEL_3d40e5e111df4141b9d1bb1acbcf26ba",
       "style": "IPY_MODEL_fab51f93b0ca4a94a121e3d5be151ff0"
      }
     },
     "e8cabe925ab1421abd43421e25f929a4": {
      "model_module": "@jupyter-widgets/base",
      "model_module_version": "1.2.0",
      "model_name": "LayoutModel",
      "state": {
       "width": "auto"
      }
     },
     "e91639a777fc4a0cbb5d7f1bdf7187e5": {
      "model_module": "@jupyter-widgets/controls",
      "model_module_version": "1.5.0",
      "model_name": "ButtonStyleModel",
      "state": {}
     },
     "e9889f9722dd4c63b7dd0191c471e281": {
      "model_module": "@jupyter-widgets/base",
      "model_module_version": "1.2.0",
      "model_name": "LayoutModel",
      "state": {}
     },
     "ea0b5001a8404b9e887665abadbb5d36": {
      "model_module": "@jupyter-widgets/controls",
      "model_module_version": "1.5.0",
      "model_name": "ButtonStyleModel",
      "state": {}
     },
     "ea1c47bf4eb549b4b101de067125435a": {
      "model_module": "@jupyter-widgets/controls",
      "model_module_version": "1.5.0",
      "model_name": "TextareaModel",
      "state": {
       "description": "Motivation",
       "layout": "IPY_MODEL_d9cd32bff1bd44c09ba41393efd2575f",
       "style": "IPY_MODEL_edf4f92eb71b4984bac08b5cdbbdd3ca"
      }
     },
     "ea33a964c5dd4467b1efcb614785796a": {
      "model_module": "@jupyter-widgets/controls",
      "model_module_version": "1.5.0",
      "model_name": "TextModel",
      "state": {
       "description": "Identifier",
       "layout": "IPY_MODEL_adaf8e7a267041ef8a162b8f9717d00d",
       "placeholder": "([^0-9^-][^-]*)",
       "style": "IPY_MODEL_841830073ec34410a3a70013e2fa7eaa"
      }
     },
     "ea42b42996654ce6a8272bd56f4834d4": {
      "model_module": "@jupyter-widgets/controls",
      "model_module_version": "1.5.0",
      "model_name": "VBoxModel",
      "state": {
       "children": [
        "IPY_MODEL_1746c6506ac645e8888af51c1e6dfadf",
        "IPY_MODEL_79c28d8d468042c5a1a6b253fa1d8c00",
        "IPY_MODEL_064e7f610e5e40e89ee2d68b36b44cff",
        "IPY_MODEL_52af791b2b4344cb8ee7b621a7cdf354"
       ],
       "layout": "IPY_MODEL_7106591c39fa46b3b0ba799e96ea30f2"
      }
     },
     "ea95e4e945e246209d8048e4f232e9b3": {
      "model_module": "@jupyter-widgets/base",
      "model_module_version": "1.2.0",
      "model_name": "LayoutModel",
      "state": {}
     },
     "eab080290ebb43d187ebbcbcf4e27e80": {
      "model_module": "@jupyter-widgets/controls",
      "model_module_version": "1.5.0",
      "model_name": "VBoxModel",
      "state": {
       "children": [
        "IPY_MODEL_b43f848376344f7d8439c4172b874e09",
        "IPY_MODEL_b9a6b15dfa534c4e83dc362945136a20",
        "IPY_MODEL_5483466610464f2e90240a7a2ffec1c5",
        "IPY_MODEL_83364cf837d14472833378357fa1cc9c",
        "IPY_MODEL_5b2116ca1e424dfb9aef66c6768867a9",
        "IPY_MODEL_f2c2761a917e4296bc1bca9808fc86fe",
        "IPY_MODEL_3cccae5dadf148c98a600e6964c3e1e2",
        "IPY_MODEL_4a3a487b42894363be222d6d6fb7e5f0",
        "IPY_MODEL_50f483a230ae464693a0cb927be84dc0"
       ],
       "layout": "IPY_MODEL_21206006a8db48feb74cc32ee75f6235"
      }
     },
     "eadec7c19beb4a1c827ded0c85cc537c": {
      "model_module": "@jupyter-widgets/base",
      "model_module_version": "1.2.0",
      "model_name": "LayoutModel",
      "state": {}
     },
     "eb19d8d383704bd29c213cc4b2c0895c": {
      "model_module": "@jupyter-widgets/base",
      "model_module_version": "1.2.0",
      "model_name": "LayoutModel",
      "state": {}
     },
     "eb343d11db674308ac2742eb67c4ecd6": {
      "model_module": "@jupyter-widgets/controls",
      "model_module_version": "1.5.0",
      "model_name": "TextModel",
      "state": {
       "description": "Identifier",
       "layout": "IPY_MODEL_e8cabe925ab1421abd43421e25f929a4",
       "placeholder": "([^0-9^-][^-]*)",
       "style": "IPY_MODEL_a6c0701e0172457dbab7544511cdfeff"
      }
     },
     "eb4c8bbf0c4f4aa3b862778bb8e28a68": {
      "model_module": "@jupyter-widgets/controls",
      "model_module_version": "1.5.0",
      "model_name": "VBoxModel",
      "state": {
       "children": [
        "IPY_MODEL_384517bc06bc4d0e87b408a3504726fe",
        "IPY_MODEL_2b58d48f96cc4fe0a5f0c4636a57bdb4",
        "IPY_MODEL_44580fdd04704738a9d1c3577d3016fd",
        "IPY_MODEL_f05cdf65912048ea9cee081540818394",
        "IPY_MODEL_1e52c51331664585a74c85e05c167aec",
        "IPY_MODEL_2ff822f9b0a942feac17d1e93352ac6c",
        "IPY_MODEL_fcf05e3a75494b0c98cda2701461fc9b",
        "IPY_MODEL_bba69a0f268946d098be8e4e9db9d555",
        "IPY_MODEL_3ccab252e1ef4f17acd10eaa4d8975a3"
       ],
       "layout": "IPY_MODEL_b9ccfc1e7fae4ad0b27f80ba0f706a95"
      }
     },
     "eb5ec685530c44a98677be4519620a08": {
      "model_module": "@jupyter-widgets/base",
      "model_module_version": "1.2.0",
      "model_name": "LayoutModel",
      "state": {}
     },
     "eb5ee72e2d174f2a83ab81d710afb9a0": {
      "model_module": "@jupyter-widgets/base",
      "model_module_version": "1.2.0",
      "model_name": "LayoutModel",
      "state": {}
     },
     "eb741f4aded9466f8d32ae82d7b2b4f6": {
      "model_module": "@jupyter-widgets/base",
      "model_module_version": "1.2.0",
      "model_name": "LayoutModel",
      "state": {}
     },
     "eb8b060d2a964fe39fde1e50dae45bf1": {
      "model_module": "@jupyter-widgets/controls",
      "model_module_version": "1.5.0",
      "model_name": "TextModel",
      "state": {
       "description": "Name:",
       "layout": "IPY_MODEL_c3f03a0129584cde8bff92aedf007f7c",
       "placeholder": "e.g. XRD",
       "style": "IPY_MODEL_0bff8c694ba24c6c8c69890e15bde87c"
      }
     },
     "ec12d7861f7e44c2a8e46b70577a52fe": {
      "model_module": "@jupyter-widgets/base",
      "model_module_version": "1.2.0",
      "model_name": "LayoutModel",
      "state": {}
     },
     "ecd53d4293f44553a6619d60af7f3dca": {
      "model_module": "@jupyter-widgets/controls",
      "model_module_version": "1.5.0",
      "model_name": "ButtonModel",
      "state": {
       "description": "Folder",
       "layout": "IPY_MODEL_9be620ba5b1d4119a511ecd91564d22b",
       "style": "IPY_MODEL_1499766c6bd14038a24f698b95d0106a"
      }
     },
     "ecee14039816446ea93ec1d8c67d49ed": {
      "model_module": "@jupyter-widgets/output",
      "model_module_version": "1.0.0",
      "model_name": "OutputModel",
      "state": {
       "layout": "IPY_MODEL_1fd9318877e24e24b326d962a229cc81",
       "outputs": [
        {
         "data": {
          "text/html": "<h3>New Sample</h3>",
          "text/plain": "<cassini.ipygui.WHTML at 0x2401d6e2470>"
         },
         "metadata": {},
         "output_type": "display_data"
        }
       ]
      }
     },
     "ed344b9b823a4e7ba250499c26bb4221": {
      "model_module": "@jupyter-widgets/controls",
      "model_module_version": "1.5.0",
      "model_name": "ButtonStyleModel",
      "state": {}
     },
     "edcf675dae3241a3b2b23af556810666": {
      "model_module": "@jupyter-widgets/output",
      "model_module_version": "1.0.0",
      "model_name": "OutputModel",
      "state": {
       "layout": "IPY_MODEL_62ad8e861b6146c3a343c3fc79316f97",
       "outputs": [
        {
         "data": {
          "text/html": "<h3>New Data</h3>",
          "text/plain": "<cassini.ipygui.WHTML at 0x2401d86b3c8>"
         },
         "metadata": {},
         "output_type": "display_data"
        }
       ]
      }
     },
     "edf4f92eb71b4984bac08b5cdbbdd3ca": {
      "model_module": "@jupyter-widgets/controls",
      "model_module_version": "1.5.0",
      "model_name": "DescriptionStyleModel",
      "state": {
       "description_width": "10%"
      }
     },
     "ee0849b31fbd43ebb488ac7857988c41": {
      "model_module": "@jupyter-widgets/base",
      "model_module_version": "1.2.0",
      "model_name": "LayoutModel",
      "state": {}
     },
     "ee7254d98cf043829889170c77cc4074": {
      "model_module": "@jupyter-widgets/output",
      "model_module_version": "1.0.0",
      "model_name": "OutputModel",
      "state": {
       "layout": "IPY_MODEL_f61b383e202041afae9c7c29a026981c",
       "outputs": [
        {
         "data": {
          "text/html": "<h3>Motivation</h3>",
          "text/plain": "<cassini.ipygui.WHTML at 0x2401d997e80>"
         },
         "metadata": {},
         "output_type": "display_data"
        }
       ]
      }
     },
     "ef92a02e7714492888c74d3b5ce4e206": {
      "model_module": "@jupyter-widgets/controls",
      "model_module_version": "1.5.0",
      "model_name": "HBoxModel",
      "state": {
       "children": [
        "IPY_MODEL_c166c90c975e41ef8422ee6089464c13",
        "IPY_MODEL_9993cee058f94be6aebdc3784dbe689f"
       ],
       "layout": "IPY_MODEL_b6dd952496374a14b5fe14abd2f79257"
      }
     },
     "efb6b647abcd4e6785d5cfcc8777505e": {
      "model_module": "@jupyter-widgets/output",
      "model_module_version": "1.0.0",
      "model_name": "OutputModel",
      "state": {
       "layout": "IPY_MODEL_ca16f0c776144ac9917d1f6dc2225cd7"
      }
     },
     "efe5eb8f08654671a4996a4f4367e857": {
      "model_module": "@jupyter-widgets/base",
      "model_module_version": "1.2.0",
      "model_name": "LayoutModel",
      "state": {}
     },
     "f02bf35fb1a44734887f388e97dc651f": {
      "model_module": "@jupyter-widgets/controls",
      "model_module_version": "1.5.0",
      "model_name": "TextModel",
      "state": {
       "description": "Name:",
       "layout": "IPY_MODEL_7b9611e029b749d5a4e7d43ca1764479",
       "placeholder": "e.g. XRD",
       "style": "IPY_MODEL_ff817d89304840099c6e426d8e421c5b"
      }
     },
     "f0507918759743db9f39559f7afef2bf": {
      "model_module": "@jupyter-widgets/base",
      "model_module_version": "1.2.0",
      "model_name": "LayoutModel",
      "state": {}
     },
     "f05cdf65912048ea9cee081540818394": {
      "model_module": "@jupyter-widgets/output",
      "model_module_version": "1.0.0",
      "model_name": "OutputModel",
      "state": {
       "layout": "IPY_MODEL_b5fbdbb2bc5946a895b6dc015188b986",
       "outputs": [
        {
         "data": {
          "text/html": "<h3>Samples</h3>",
          "text/plain": "<cassini.ipygui.WHTML at 0x2401d967ac8>"
         },
         "metadata": {},
         "output_type": "display_data"
        }
       ]
      }
     },
     "f08e3d664aa94f26b0269c69e8dcf2bc": {
      "model_module": "@jupyter-widgets/base",
      "model_module_version": "1.2.0",
      "model_name": "LayoutModel",
      "state": {}
     },
     "f110ac61618845079456152039d11a74": {
      "model_module": "@jupyter-widgets/base",
      "model_module_version": "1.2.0",
      "model_name": "LayoutModel",
      "state": {
       "width": "auto"
      }
     },
     "f11f9b7ab82146ac97b9472c55843613": {
      "model_module": "@jupyter-widgets/base",
      "model_module_version": "1.2.0",
      "model_name": "LayoutModel",
      "state": {}
     },
     "f1c272d13e7942bdb4e886f773d73984": {
      "model_module": "@jupyter-widgets/base",
      "model_module_version": "1.2.0",
      "model_name": "LayoutModel",
      "state": {
       "width": "auto"
      }
     },
     "f1c75a0ea6d64c479adc7d09cc96ff94": {
      "model_module": "@jupyter-widgets/output",
      "model_module_version": "1.0.0",
      "model_name": "OutputModel",
      "state": {
       "layout": "IPY_MODEL_f31748db8e7741e6a9465c3ca4344014",
       "outputs": [
        {
         "data": {
          "text/html": "<h3>New Sample</h3>",
          "text/plain": "<cassini.ipygui.WHTML at 0x2401d6cff98>"
         },
         "metadata": {},
         "output_type": "display_data"
        }
       ]
      }
     },
     "f1cb484224e4418788c2689c9cec0244": {
      "model_module": "@jupyter-widgets/controls",
      "model_module_version": "1.5.0",
      "model_name": "VBoxModel",
      "state": {
       "children": [
        "IPY_MODEL_362813efe37c4a59899e28c3d97b1b3e",
        "IPY_MODEL_5e60aab2aed74292b82f01e0f2800970",
        "IPY_MODEL_2e3d5ad380f740f6a1a94c25c0725445",
        "IPY_MODEL_6f5666683e85452f90264e23bab52d8c",
        "IPY_MODEL_2a444a94a3d0462ba06a60fa045a9799"
       ],
       "layout": "IPY_MODEL_db2c2027b7f54040a21f87f9a58b2ca5"
      }
     },
     "f1d0e66ed9374c0cb8c63d4c40636603": {
      "model_module": "@jupyter-widgets/output",
      "model_module_version": "1.0.0",
      "model_name": "OutputModel",
      "state": {
       "layout": "IPY_MODEL_06304d850c9d4a4d8390d3330f368e9c",
       "outputs": [
        {
         "data": {
          "text/html": "<table border=\"1\" class=\"dataframe\">\n  <thead>\n    <tr style=\"text-align: right;\">\n      <th></th>\n      <th>started</th>\n      <th>description</th>\n      <th>heating_time</th>\n      <th>Obj</th>\n      <th>datasets</th>\n    </tr>\n    <tr>\n      <th>Name</th>\n      <th></th>\n      <th></th>\n      <th></th>\n      <th></th>\n      <th></th>\n    </tr>\n  </thead>\n  <tbody>\n    <tr>\n      <th>WP1.1a</th>\n      <td>2020-06-29</td>\n      <td>A sample sample description</td>\n      <td>17</td>\n      <td><a href=\"WP1.1/WP1.1a.ipynb\" target=\"_blank\"><h4 style=\"display: inline;\">WP1.1a</h4 style=\"display: inline;\"</a></td>\n      <td>[&#x27;Plotting&#x27;]</td>\n    </tr>\n  </tbody>\n</table>",
          "text/plain": "          started                  description  heating_time  \\\nName                                                           \nWP1.1a 2020-06-29  A sample sample description            17   \n\n                      Obj    datasets  \nName                                   \nWP1.1a  <Sample \"WP1.1a\">  [Plotting]  "
         },
         "metadata": {},
         "output_type": "display_data"
        }
       ]
      }
     },
     "f21a740e8cf1463eb59dc45460ef9462": {
      "model_module": "@jupyter-widgets/output",
      "model_module_version": "1.0.0",
      "model_name": "OutputModel",
      "state": {
       "layout": "IPY_MODEL_68c363c9b0094942aaaee60a666b317c"
      }
     },
     "f22a9d8473a148fc962c5d251d78503a": {
      "model_module": "@jupyter-widgets/controls",
      "model_module_version": "1.5.0",
      "model_name": "DescriptionStyleModel",
      "state": {
       "description_width": "10%"
      }
     },
     "f2c2761a917e4296bc1bca9808fc86fe": {
      "model_module": "@jupyter-widgets/output",
      "model_module_version": "1.0.0",
      "model_name": "OutputModel",
      "state": {
       "layout": "IPY_MODEL_eb5ec685530c44a98677be4519620a08",
       "outputs": [
        {
         "data": {
          "text/html": "<h3>New Sample</h3>",
          "text/plain": "<cassini.ipygui.WHTML at 0x2401d6a44e0>"
         },
         "metadata": {},
         "output_type": "display_data"
        }
       ]
      }
     },
     "f2df8f0a27b947339292e33443ed68db": {
      "model_module": "@jupyter-widgets/base",
      "model_module_version": "1.2.0",
      "model_name": "LayoutModel",
      "state": {}
     },
     "f31748db8e7741e6a9465c3ca4344014": {
      "model_module": "@jupyter-widgets/base",
      "model_module_version": "1.2.0",
      "model_name": "LayoutModel",
      "state": {}
     },
     "f358755ff5d942f3925b9a6f5fe09805": {
      "model_module": "@jupyter-widgets/controls",
      "model_module_version": "1.5.0",
      "model_name": "DescriptionStyleModel",
      "state": {
       "description_width": "10%"
      }
     },
     "f48f73b59fcd4359a24ea891cd1d9ea8": {
      "model_module": "@jupyter-widgets/base",
      "model_module_version": "1.2.0",
      "model_name": "LayoutModel",
      "state": {}
     },
     "f4e9c688126f4aeabf86ebecf30c847d": {
      "model_module": "@jupyter-widgets/controls",
      "model_module_version": "1.5.0",
      "model_name": "ButtonStyleModel",
      "state": {}
     },
     "f50d807af00c44c68e81f1c45f631cb9": {
      "model_module": "@jupyter-widgets/base",
      "model_module_version": "1.2.0",
      "model_name": "LayoutModel",
      "state": {}
     },
     "f5e81b00c87a419ab7efb9972764035f": {
      "model_module": "@jupyter-widgets/output",
      "model_module_version": "1.0.0",
      "model_name": "OutputModel",
      "state": {
       "layout": "IPY_MODEL_8d241643734f4320863b7655f46b6791",
       "outputs": [
        {
         "data": {
          "text/html": "<h3>New Sample</h3>",
          "text/plain": "<cassini.ipygui.WHTML at 0x2401da95518>"
         },
         "metadata": {},
         "output_type": "display_data"
        }
       ]
      }
     },
     "f61b383e202041afae9c7c29a026981c": {
      "model_module": "@jupyter-widgets/base",
      "model_module_version": "1.2.0",
      "model_name": "LayoutModel",
      "state": {}
     },
     "f6466b690c294e1aa88b285559a99499": {
      "model_module": "@jupyter-widgets/controls",
      "model_module_version": "1.5.0",
      "model_name": "DescriptionStyleModel",
      "state": {
       "description_width": "10%"
      }
     },
     "f6f8ad87dd95457387a2a02b9efc4061": {
      "model_module": "@jupyter-widgets/base",
      "model_module_version": "1.2.0",
      "model_name": "LayoutModel",
      "state": {}
     },
     "f763868c83244e10965a127782b5d846": {
      "model_module": "@jupyter-widgets/controls",
      "model_module_version": "1.5.0",
      "model_name": "ButtonModel",
      "state": {
       "description": "New",
       "layout": "IPY_MODEL_cdc8d6dea75747349c92ceeb04a870c7",
       "style": "IPY_MODEL_e91639a777fc4a0cbb5d7f1bdf7187e5"
      }
     },
     "f82e0d4ddd324293941f5b4fb4a29b93": {
      "model_module": "@jupyter-widgets/controls",
      "model_module_version": "1.5.0",
      "model_name": "TextModel",
      "state": {
       "description": "Identifier",
       "layout": "IPY_MODEL_ab787d623d964dfa9ffcf2d83f76c03e",
       "placeholder": "([^0-9^-][^-]*)",
       "style": "IPY_MODEL_0b40c0f70ef040788ef182e72de3a190"
      }
     },
     "f83630bb2cac468588974caf785ef432": {
      "model_module": "@jupyter-widgets/base",
      "model_module_version": "1.2.0",
      "model_name": "LayoutModel",
      "state": {}
     },
     "f8639c8d77a74ea590266ed680d034bd": {
      "model_module": "@jupyter-widgets/controls",
      "model_module_version": "1.5.0",
      "model_name": "ButtonStyleModel",
      "state": {}
     },
     "fa3a3ba947f6427eacd5889dd6525c68": {
      "model_module": "@jupyter-widgets/controls",
      "model_module_version": "1.5.0",
      "model_name": "DescriptionStyleModel",
      "state": {
       "description_width": "10%"
      }
     },
     "fa6f9a97e9b94d5189975b7b0354a34c": {
      "model_module": "@jupyter-widgets/controls",
      "model_module_version": "1.5.0",
      "model_name": "DescriptionStyleModel",
      "state": {
       "description_width": "10%"
      }
     },
     "fab51f93b0ca4a94a121e3d5be151ff0": {
      "model_module": "@jupyter-widgets/controls",
      "model_module_version": "1.5.0",
      "model_name": "ButtonStyleModel",
      "state": {}
     },
     "fbf7013c299b43d6acb271cb9bc6ce8a": {
      "model_module": "@jupyter-widgets/base",
      "model_module_version": "1.2.0",
      "model_name": "LayoutModel",
      "state": {}
     },
     "fc5dddb867aa404bb6606d1bee10203a": {
      "model_module": "@jupyter-widgets/controls",
      "model_module_version": "1.5.0",
      "model_name": "TextModel",
      "state": {
       "description": "Name:",
       "layout": "IPY_MODEL_82929f90abbc45819740aeaed7e66a4b",
       "placeholder": "e.g. XRD",
       "style": "IPY_MODEL_c02d877f0b0f4fcaac5e045ba75af512"
      }
     },
     "fcdaea1b77fc4766b11793ed6b4f9701": {
      "model_module": "@jupyter-widgets/base",
      "model_module_version": "1.2.0",
      "model_name": "LayoutModel",
      "state": {}
     },
     "fcf05e3a75494b0c98cda2701461fc9b": {
      "model_module": "@jupyter-widgets/controls",
      "model_module_version": "1.5.0",
      "model_name": "VBoxModel",
      "state": {
       "children": [
        "IPY_MODEL_9e0b723e833744f48b0bc2941fc2d515",
        "IPY_MODEL_62eb8cdb7b91462c881ea1cb6021932e",
        "IPY_MODEL_4e64ee6f15f045e2ab21455492cba02c",
        "IPY_MODEL_8971318500f44dfc9aec2a4c5d5f00fd",
        "IPY_MODEL_05ab0d621cc44d5fa326ce689858149f"
       ],
       "layout": "IPY_MODEL_c9428dbdcee2429c9e8077187dfe2555"
      }
     },
     "fd22239ebf914f69aadc2b444352eece": {
      "model_module": "@jupyter-widgets/base",
      "model_module_version": "1.2.0",
      "model_name": "LayoutModel",
      "state": {}
     },
     "fd8afb1ad5224a7a8073dc152e7468d2": {
      "model_module": "@jupyter-widgets/controls",
      "model_module_version": "1.5.0",
      "model_name": "ButtonModel",
      "state": {
       "description": "New",
       "layout": "IPY_MODEL_054c5ea314e048379554a9a70df47506",
       "style": "IPY_MODEL_40f9b80336ea4649b1954ef942e922eb"
      }
     },
     "fda6ce6fd2504eb1b409472bb9b8d531": {
      "model_module": "@jupyter-widgets/output",
      "model_module_version": "1.0.0",
      "model_name": "OutputModel",
      "state": {
       "layout": "IPY_MODEL_a027d9d8d8a44a6a8184ddd2aaf4c0f9",
       "outputs": [
        {
         "data": {
          "text/html": "<table border=\"1\" class=\"dataframe\">\n  <thead>\n    <tr style=\"text-align: right;\">\n      <th></th>\n      <th>started</th>\n      <th>description</th>\n      <th>Obj</th>\n      <th>datasets</th>\n    </tr>\n    <tr>\n      <th>Name</th>\n      <th></th>\n      <th></th>\n      <th></th>\n      <th></th>\n    </tr>\n  </thead>\n  <tbody>\n    <tr>\n      <th>WP1.1a</th>\n      <td>2020-06-29</td>\n      <td>A sample sample description</td>\n      <td><a href=\"WP1.1/WP1.1a.ipynb\" target=\"_blank\"><h4 style=\"display: inline;\">WP1.1a</h4 style=\"display: inline;\"</a></td>\n      <td>[&#x27;Plotting&#x27;]</td>\n    </tr>\n    <tr>\n      <th>WP1.1b</th>\n      <td>2020-06-30</td>\n      <td>Try again</td>\n      <td><a href=\"WP1.1/WP1.1b.ipynb\" target=\"_blank\"><h4 style=\"display: inline;\">WP1.1b</h4 style=\"display: inline;\"</a></td>\n      <td>[]</td>\n    </tr>\n  </tbody>\n</table>",
          "text/plain": "          started                  description                Obj    datasets\nName                                                                         \nWP1.1a 2020-06-29  A sample sample description  <Sample \"WP1.1a\">  [Plotting]\nWP1.1b 2020-06-30                    Try again  <Sample \"WP1.1b\">          []"
         },
         "metadata": {},
         "output_type": "display_data"
        }
       ]
      }
     },
     "fdc17a6010984863bf1d65acefb80393": {
      "model_module": "@jupyter-widgets/output",
      "model_module_version": "1.0.0",
      "model_name": "OutputModel",
      "state": {
       "layout": "IPY_MODEL_05f70e8aa0b44c28a6dee77104d7cf97",
       "outputs": [
        {
         "data": {
          "text/html": "<table border=\"1\" class=\"dataframe\">\n  <thead>\n    <tr style=\"text-align: right;\">\n      <th></th>\n      <th>started</th>\n      <th>description</th>\n      <th>heating_time</th>\n      <th>Obj</th>\n      <th>datasets</th>\n    </tr>\n    <tr>\n      <th>Name</th>\n      <th></th>\n      <th></th>\n      <th></th>\n      <th></th>\n      <th></th>\n    </tr>\n  </thead>\n  <tbody>\n    <tr>\n      <th>WP1.1a</th>\n      <td>2020-06-29</td>\n      <td>A sample sample description</td>\n      <td>17</td>\n      <td><a href=\"WP1.1/WP1.1a.ipynb\" target=\"_blank\"><h4 style=\"display: inline;\">WP1.1a</h4 style=\"display: inline;\"</a></td>\n      <td>[&#x27;Plotting&#x27;]</td>\n    </tr>\n  </tbody>\n</table>",
          "text/plain": "          started                  description  heating_time  \\\nName                                                           \nWP1.1a 2020-06-29  A sample sample description            17   \n\n                      Obj    datasets  \nName                                   \nWP1.1a  <Sample \"WP1.1a\">  [Plotting]  "
         },
         "metadata": {},
         "output_type": "display_data"
        }
       ]
      }
     },
     "fde8dc3e3e504601a0048202e8917bb1": {
      "model_module": "@jupyter-widgets/output",
      "model_module_version": "1.0.0",
      "model_name": "OutputModel",
      "state": {
       "layout": "IPY_MODEL_6ce0a3794f4f44c49161ac5b5b34e9f0",
       "outputs": [
        {
         "data": {
          "text/html": "<table border=\"1\" class=\"dataframe\">\n  <thead>\n    <tr style=\"text-align: right;\">\n      <th></th>\n      <th>started</th>\n      <th>description</th>\n      <th>Obj</th>\n      <th>datasets</th>\n    </tr>\n    <tr>\n      <th>Name</th>\n      <th></th>\n      <th></th>\n      <th></th>\n      <th></th>\n    </tr>\n  </thead>\n  <tbody>\n    <tr>\n      <th>WP1.1a</th>\n      <td>2020-06-29</td>\n      <td></td>\n      <td><a href=\"WP1.1/WP1.1a.ipynb\" target=\"_blank\"><h4 style=\"display: inline;\">WP1.1a</h4 style=\"display: inline;\"</a></td>\n      <td>[&#x27;Plotting&#x27;]</td>\n    </tr>\n    <tr>\n      <th>WP1.1d</th>\n      <td>2020-06-29</td>\n      <td>Not sure what&#x27;ll happen!</td>\n      <td><a href=\"WP1.1/WP1.1d.ipynb\" target=\"_blank\"><h4 style=\"display: inline;\">WP1.1d</h4 style=\"display: inline;\"</a></td>\n      <td>[]</td>\n    </tr>\n  </tbody>\n</table>",
          "text/plain": "          started               description                Obj    datasets\nName                                                                      \nWP1.1a 2020-06-29                            <Sample \"WP1.1a\">  [Plotting]\nWP1.1d 2020-06-29  Not sure what'll happen!  <Sample \"WP1.1d\">          []"
         },
         "metadata": {},
         "output_type": "display_data"
        }
       ]
      }
     },
     "fee194ad858d4e65a8931a8f77f3951e": {
      "model_module": "@jupyter-widgets/controls",
      "model_module_version": "1.5.0",
      "model_name": "ButtonModel",
      "state": {
       "description": "New",
       "layout": "IPY_MODEL_4da0bf957cbd4d89b746954a43e5fd9f",
       "style": "IPY_MODEL_c8b3cf6d54e34a6cb68063d5671e8c00"
      }
     },
     "fefbd28638464729b14bd9dd86426bb6": {
      "model_module": "@jupyter-widgets/controls",
      "model_module_version": "1.5.0",
      "model_name": "ButtonModel",
      "state": {
       "description": "New",
       "layout": "IPY_MODEL_b06b125baf0b497588f08c6619c265ee",
       "style": "IPY_MODEL_b6fee75845644850b1584c49219364a8"
      }
     },
     "ff128faeca484ff98cd101b443d5f44d": {
      "model_module": "@jupyter-widgets/base",
      "model_module_version": "1.2.0",
      "model_name": "LayoutModel",
      "state": {
       "width": "auto"
      }
     },
     "ff756727780e40aaa961212a867800a7": {
      "model_module": "@jupyter-widgets/controls",
      "model_module_version": "1.5.0",
      "model_name": "SelectModel",
      "state": {
       "_options_labels": [
        "Custom.tmplt.ipynb",
        "Sample.tmplt.ipynb"
       ],
       "description": "Template",
       "index": 0,
       "layout": "IPY_MODEL_0c62e660f8b84a2f85904fbd15f4eb93",
       "style": "IPY_MODEL_00ad27ba12134db8b29c11cf782965be"
      }
     },
     "ff817d89304840099c6e426d8e421c5b": {
      "model_module": "@jupyter-widgets/controls",
      "model_module_version": "1.5.0",
      "model_name": "DescriptionStyleModel",
      "state": {
       "description_width": "10%"
      }
     },
     "ff928b02fb014693b488d0b4c92800cd": {
      "model_module": "@jupyter-widgets/output",
      "model_module_version": "1.0.0",
      "model_name": "OutputModel",
      "state": {
       "layout": "IPY_MODEL_c6c21ce2d4544fcb96666217ed4cf2b7"
      }
     },
     "ffc27bb7b2a14804b769082ec8e3aaf7": {
      "model_module": "@jupyter-widgets/base",
      "model_module_version": "1.2.0",
      "model_name": "LayoutModel",
      "state": {
       "width": "auto"
      }
     },
     "ffcf1ed4b5d8478cb578851f0559c2df": {
      "model_module": "@jupyter-widgets/controls",
      "model_module_version": "1.5.0",
      "model_name": "ButtonModel",
      "state": {
       "description": "New",
       "layout": "IPY_MODEL_2c996e1d82794f6c8e248065a88c4395",
       "style": "IPY_MODEL_55899232a21446fba5e7e00c370bc997"
      }
     },
     "fff476a9347649c6b85ba7b0b6fa678c": {
      "model_module": "@jupyter-widgets/controls",
      "model_module_version": "1.5.0",
      "model_name": "ButtonModel",
      "state": {
       "description": "Confirm",
       "disabled": true,
       "layout": "IPY_MODEL_230a8923dc2942e5a4a1de125a5ec868",
       "style": "IPY_MODEL_ea0b5001a8404b9e887665abadbb5d36"
      }
     }
    },
    "version_major": 2,
    "version_minor": 0
   }
  }
 },
 "nbformat": 4,
 "nbformat_minor": 4
}
