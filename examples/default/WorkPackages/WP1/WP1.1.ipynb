{
 "cells": [
  {
   "cell_type": "markdown",
   "metadata": {},
   "source": [
    "# WP1.1\n",
    "\n",
    "Experiments usually have a common proceedure, with minor changes over multiple samples.\n",
    "\n",
    "To make it quicker to design new experiments, `cassini` uses [Jinja2 templating](https://jinja.palletsprojects.com/en/2.11.x/).\n",
    "\n",
    "Templates are stored in your project directory in a folder aptly named templates. \n",
    "\n",
    "Each `Tier` has its own folder, the contents of which is automatically shown in the `new_child` widget/ header.\n",
    "\n",
    "Head over to the default [`Sample.tmplt.ipynb`](../../../templates/Sample/Sample.tmplt.ipynb), make a copy and some changes, \n",
    "come back here and your new template appear in the New Sample widget.\n",
    "\n",
    "Try making a new Sample `WP1.1b` with the `Custom.tmplt.ipynb`."
   ]
  },
  {
   "cell_type": "code",
   "execution_count": 1,
   "metadata": {
    "pycharm": {
     "name": "#%%\n"
    }
   },
   "outputs": [
    {
     "name": "stderr",
     "output_type": "stream",
     "text": [
      "D:\\Documents\\Programin\\venvs\\cassini\\cassini-dev\\lib\\site-packages\\jupyter_server\\transutils.py:13: FutureWarning: The alias `_()` will be deprecated. Use `_i18n()` instead.\n",
      "  warnings.warn(warn_msg, FutureWarning)\n"
     ]
    },
    {
     "data": {
      "application/vnd.jupyter.widget-view+json": {
       "model_id": "357e69768b394e1394f3ba3c446aeaa4",
       "version_major": 2,
       "version_minor": 0
      },
      "text/plain": [
       "VBox(children=(VBox(children=(Output(), Button(description='Folder', style=ButtonStyle()))), Output(), Output(…"
      ]
     },
     "metadata": {},
     "output_type": "display_data"
    }
   ],
   "source": [
    "from project import project\n",
    "\n",
    "exp = project.env('WP1.1')\n",
    "exp.gui.header()"
   ]
  },
  {
   "cell_type": "markdown",
   "metadata": {},
   "source": [
    "Now that you've made `WP1.1b`, we can imagine having a lot of samples and wanting to sort through them.\n",
    "\n",
    "This is easy because each tier can make a pandas DataFrame of its children:"
   ]
  },
  {
   "cell_type": "code",
   "execution_count": 2,
   "metadata": {},
   "outputs": [],
   "source": [
    "df = exp.children_df()"
   ]
  },
  {
   "cell_type": "markdown",
   "metadata": {},
   "source": [
    "Which we can query like a normal DataFrame:"
   ]
  },
  {
   "cell_type": "code",
   "execution_count": 3,
   "metadata": {},
   "outputs": [
    {
     "data": {
      "text/html": [
       "<div>\n",
       "<style scoped>\n",
       "    .dataframe tbody tr th:only-of-type {\n",
       "        vertical-align: middle;\n",
       "    }\n",
       "\n",
       "    .dataframe tbody tr th {\n",
       "        vertical-align: top;\n",
       "    }\n",
       "\n",
       "    .dataframe thead th {\n",
       "        text-align: right;\n",
       "    }\n",
       "</style>\n",
       "<table border=\"1\" class=\"dataframe\">\n",
       "  <thead>\n",
       "    <tr style=\"text-align: right;\">\n",
       "      <th></th>\n",
       "      <th>started</th>\n",
       "      <th>description</th>\n",
       "      <th>heating_time</th>\n",
       "      <th>Obj</th>\n",
       "      <th>datasets</th>\n",
       "    </tr>\n",
       "    <tr>\n",
       "      <th>Name</th>\n",
       "      <th></th>\n",
       "      <th></th>\n",
       "      <th></th>\n",
       "      <th></th>\n",
       "      <th></th>\n",
       "    </tr>\n",
       "  </thead>\n",
       "  <tbody>\n",
       "    <tr>\n",
       "      <th>WP1.1a</th>\n",
       "      <td>2020-06-29</td>\n",
       "      <td>A sample sample description</td>\n",
       "      <td>17</td>\n",
       "      <td>&lt;Sample \"WP1.1a\"&gt;</td>\n",
       "      <td>[Plotting]</td>\n",
       "    </tr>\n",
       "  </tbody>\n",
       "</table>\n",
       "</div>"
      ],
      "text/plain": [
       "          started                  description  heating_time  \\\n",
       "Name                                                           \n",
       "WP1.1a 2020-06-29  A sample sample description            17   \n",
       "\n",
       "                      Obj    datasets  \n",
       "Name                                   \n",
       "WP1.1a  <Sample \"WP1.1a\">  [Plotting]  "
      ]
     },
     "execution_count": 3,
     "metadata": {},
     "output_type": "execute_result"
    }
   ],
   "source": [
    "df.query(\"heating_time > 16\")"
   ]
  },
  {
   "cell_type": "markdown",
   "metadata": {},
   "source": [
    "Slighlty more usefully, the `tier.gui` provides a more interactive version of this DataFrame:"
   ]
  },
  {
   "cell_type": "code",
   "execution_count": 4,
   "metadata": {},
   "outputs": [
    {
     "data": {
      "text/html": [
       "<table border=\"1\" class=\"dataframe\">\n",
       "  <thead>\n",
       "    <tr style=\"text-align: right;\">\n",
       "      <th></th>\n",
       "      <th>started</th>\n",
       "      <th>description</th>\n",
       "      <th>heating_time</th>\n",
       "      <th>Obj</th>\n",
       "      <th>datasets</th>\n",
       "    </tr>\n",
       "    <tr>\n",
       "      <th>Name</th>\n",
       "      <th></th>\n",
       "      <th></th>\n",
       "      <th></th>\n",
       "      <th></th>\n",
       "      <th></th>\n",
       "    </tr>\n",
       "  </thead>\n",
       "  <tbody>\n",
       "    <tr>\n",
       "      <th>WP1.1a</th>\n",
       "      <td>2020-06-29</td>\n",
       "      <td>A sample sample description</td>\n",
       "      <td>17</td>\n",
       "      <td><a href=\"WP1.1/WP1.1a.ipynb\" target=\"_blank\"><h4 style=\"display: inline;\">WP1.1a</h4 style=\"display: inline;\"</a></td>\n",
       "      <td>[&#x27;Plotting&#x27;]</td>\n",
       "    </tr>\n",
       "  </tbody>\n",
       "</table>"
      ],
      "text/plain": [
       "          started                  description  heating_time  \\\n",
       "Name                                                           \n",
       "WP1.1a 2020-06-29  A sample sample description            17   \n",
       "\n",
       "                      Obj    datasets  \n",
       "Name                                   \n",
       "WP1.1a  <Sample \"WP1.1a\">  [Plotting]  "
      ]
     },
     "execution_count": 4,
     "metadata": {},
     "output_type": "execute_result"
    }
   ],
   "source": [
    "exp.gui.children_df().query(\"heating_time > 16\")"
   ]
  },
  {
   "cell_type": "code",
   "execution_count": null,
   "metadata": {},
   "outputs": [],
   "source": []
  }
 ],
 "metadata": {
  "kernelspec": {
   "display_name": "Python 3",
   "language": "python",
   "name": "python3"
  },
  "language_info": {
   "codemirror_mode": {
    "name": "ipython",
    "version": 3
   },
   "file_extension": ".py",
   "mimetype": "text/x-python",
   "name": "python",
   "nbconvert_exporter": "python",
   "pygments_lexer": "ipython3",
   "version": "3.7.2"
  },
  "pycharm": {
   "stem_cell": {
    "cell_type": "raw",
    "metadata": {
     "collapsed": false
    },
    "source": []
   }
  },
  "widgets": {
   "application/vnd.jupyter.widget-state+json": {
    "state": {
     "010934d0817a45c38297b8c3c24bda88": {
      "model_module": "@jupyter-widgets/base",
      "model_module_version": "1.2.0",
      "model_name": "LayoutModel",
      "state": {}
     },
     "032c4dc0102b4a95aa842db95c01f698": {
      "model_module": "@jupyter-widgets/output",
      "model_module_version": "1.0.0",
      "model_name": "OutputModel",
      "state": {
       "layout": "IPY_MODEL_010934d0817a45c38297b8c3c24bda88",
       "outputs": [
        {
         "data": {
          "text/html": "<table border=\"1\" class=\"dataframe\">\n  <thead>\n    <tr style=\"text-align: right;\">\n      <th></th>\n      <th>started</th>\n      <th>description</th>\n      <th>heating_time</th>\n      <th>Obj</th>\n      <th>datasets</th>\n    </tr>\n    <tr>\n      <th>Name</th>\n      <th></th>\n      <th></th>\n      <th></th>\n      <th></th>\n      <th></th>\n    </tr>\n  </thead>\n  <tbody>\n    <tr>\n      <th>WP1.1a</th>\n      <td>2020-06-29</td>\n      <td>A sample sample description</td>\n      <td>17</td>\n      <td><a href=\"WP1.1/WP1.1a.ipynb\" target=\"_blank\"><h4 style=\"display: inline;\">WP1.1a</h4 style=\"display: inline;\"</a></td>\n      <td>[&#x27;Plotting&#x27;]</td>\n    </tr>\n  </tbody>\n</table>",
          "text/plain": "          started                  description  heating_time  \\\nName                                                           \nWP1.1a 2020-06-29  A sample sample description            17   \n\n                      Obj    datasets  \nName                                   \nWP1.1a  <Sample \"WP1.1a\">  [Plotting]  "
         },
         "metadata": {},
         "output_type": "display_data"
        }
       ]
      }
     },
     "0420eb10b21344bab29c4683fa6494b1": {
      "model_module": "@jupyter-widgets/controls",
      "model_module_version": "1.5.0",
      "model_name": "ButtonModel",
      "state": {
       "description": "Confirm",
       "disabled": true,
       "layout": "IPY_MODEL_780de7bbb2f3460bb7ea1ab75f02c18c",
       "style": "IPY_MODEL_9155a1cdeca94ec586fdf75f7a07a194"
      }
     },
     "0b01f21ad9484750a0f3ac72dd3b72a2": {
      "model_module": "@jupyter-widgets/base",
      "model_module_version": "1.2.0",
      "model_name": "LayoutModel",
      "state": {}
     },
     "0db05fc52f3e4c8192694d5a66eedc7b": {
      "model_module": "@jupyter-widgets/controls",
      "model_module_version": "1.5.0",
      "model_name": "ButtonModel",
      "state": {
       "description": "New",
       "layout": "IPY_MODEL_131e3327dae148d58e44987a0a48f569",
       "style": "IPY_MODEL_7890e4d31f804a3095a9941a81950456"
      }
     },
     "0dea180100484482aa28831fcafbf64e": {
      "model_module": "@jupyter-widgets/base",
      "model_module_version": "1.2.0",
      "model_name": "LayoutModel",
      "state": {}
     },
     "0fba6c40ddfb4251a597c5ea6e6b5750": {
      "model_module": "@jupyter-widgets/base",
      "model_module_version": "1.2.0",
      "model_name": "LayoutModel",
      "state": {}
     },
     "12a6e53e08e64069bf66f5e197614364": {
      "model_module": "@jupyter-widgets/base",
      "model_module_version": "1.2.0",
      "model_name": "LayoutModel",
      "state": {}
     },
     "131e3327dae148d58e44987a0a48f569": {
      "model_module": "@jupyter-widgets/base",
      "model_module_version": "1.2.0",
      "model_name": "LayoutModel",
      "state": {}
     },
     "183b731cc1d540d49e3ebb392211807d": {
      "model_module": "@jupyter-widgets/base",
      "model_module_version": "1.2.0",
      "model_name": "LayoutModel",
      "state": {
       "width": "auto"
      }
     },
     "22ec4fc525994244a2db2fee90574dce": {
      "model_module": "@jupyter-widgets/controls",
      "model_module_version": "1.5.0",
      "model_name": "TextModel",
      "state": {
       "description": "Identifier",
       "layout": "IPY_MODEL_9b5bf2f8dc8f4546a3287f0b056f5d80",
       "placeholder": "([^0-9^-][^-]*)",
       "style": "IPY_MODEL_6ca2bcbe13984b3e92154295d33dd81e"
      }
     },
     "24a93e84b04b49d28314d729dde88b2f": {
      "model_module": "@jupyter-widgets/controls",
      "model_module_version": "1.5.0",
      "model_name": "DescriptionStyleModel",
      "state": {
       "description_width": "10%"
      }
     },
     "2b8f682ad74745f288fa7211ebdaa135": {
      "model_module": "@jupyter-widgets/controls",
      "model_module_version": "1.5.0",
      "model_name": "ButtonStyleModel",
      "state": {}
     },
     "301b1402638641cdafe37752bb342e9f": {
      "model_module": "@jupyter-widgets/base",
      "model_module_version": "1.2.0",
      "model_name": "LayoutModel",
      "state": {}
     },
     "357e69768b394e1394f3ba3c446aeaa4": {
      "model_module": "@jupyter-widgets/controls",
      "model_module_version": "1.5.0",
      "model_name": "VBoxModel",
      "state": {
       "children": [
        "IPY_MODEL_5d8558de9a4c412fa156f111320999fa",
        "IPY_MODEL_d49ea8d4a3c441d78a7220fa6c8de955",
        "IPY_MODEL_5f27d2abc192430bb29690c217979335",
        "IPY_MODEL_52c15be16cbb438f9af7b7a3703038e3",
        "IPY_MODEL_032c4dc0102b4a95aa842db95c01f698",
        "IPY_MODEL_52b07983a0b4402989dcf75d9cdeba32",
        "IPY_MODEL_8e3ce31b08bd4a09990ceb35d58bbf62",
        "IPY_MODEL_e22807f8a7f348db886a120675282863",
        "IPY_MODEL_7b8430dbfa31458b8477bb7fbac66b1c"
       ],
       "layout": "IPY_MODEL_af0fb1e6ab50446bab974da11e2a2f1f"
      }
     },
     "37d65f39f7e74089955b648c0ae85008": {
      "model_module": "@jupyter-widgets/base",
      "model_module_version": "1.2.0",
      "model_name": "LayoutModel",
      "state": {}
     },
     "38506132f48145a2a971d003fe22f3a3": {
      "model_module": "@jupyter-widgets/base",
      "model_module_version": "1.2.0",
      "model_name": "LayoutModel",
      "state": {}
     },
     "40ee8e1b10934f889d373b1c039d098a": {
      "model_module": "@jupyter-widgets/controls",
      "model_module_version": "1.5.0",
      "model_name": "DescriptionStyleModel",
      "state": {
       "description_width": "10%"
      }
     },
     "44ff6652447c42d399edd45d46e60f86": {
      "model_module": "@jupyter-widgets/controls",
      "model_module_version": "1.5.0",
      "model_name": "SelectModel",
      "state": {
       "_options_labels": [
        "Custom.tmplt.ipynb",
        "Sample.tmplt.ipynb"
       ],
       "description": "Template",
       "index": 0,
       "layout": "IPY_MODEL_79dc8407cc804b788827c3e0a3e36d5c",
       "style": "IPY_MODEL_8cf43a82b19c4a9787fe926b8886a40c"
      }
     },
     "4e25cc95036b4838829252b1ccc78c83": {
      "model_module": "@jupyter-widgets/controls",
      "model_module_version": "1.5.0",
      "model_name": "TextareaModel",
      "state": {
       "description": "Motivation",
       "layout": "IPY_MODEL_183b731cc1d540d49e3ebb392211807d",
       "style": "IPY_MODEL_24a93e84b04b49d28314d729dde88b2f"
      }
     },
     "52b07983a0b4402989dcf75d9cdeba32": {
      "model_module": "@jupyter-widgets/output",
      "model_module_version": "1.0.0",
      "model_name": "OutputModel",
      "state": {
       "layout": "IPY_MODEL_a802cd3a309545ea921f2b01f0af88cd",
       "outputs": [
        {
         "data": {
          "text/html": "<h3>New Sample</h3>",
          "text/plain": "<cassini.ipygui.WHTML at 0x1a25b4804a8>"
         },
         "metadata": {},
         "output_type": "display_data"
        }
       ]
      }
     },
     "52c15be16cbb438f9af7b7a3703038e3": {
      "model_module": "@jupyter-widgets/output",
      "model_module_version": "1.0.0",
      "model_name": "OutputModel",
      "state": {
       "layout": "IPY_MODEL_0fba6c40ddfb4251a597c5ea6e6b5750",
       "outputs": [
        {
         "data": {
          "text/html": "<h3>Samples</h3>",
          "text/plain": "<cassini.ipygui.WHTML at 0x1a25b43d470>"
         },
         "metadata": {},
         "output_type": "display_data"
        }
       ]
      }
     },
     "53313b30b6ac4c8280f0b07d29462acd": {
      "model_module": "@jupyter-widgets/output",
      "model_module_version": "1.0.0",
      "model_name": "OutputModel",
      "state": {
       "layout": "IPY_MODEL_d42979dd12b34b9e9852ff6062d56aef"
      }
     },
     "550915cfffb24f89a586f63c9c684b16": {
      "model_module": "@jupyter-widgets/base",
      "model_module_version": "1.2.0",
      "model_name": "LayoutModel",
      "state": {}
     },
     "5cfa055478df4b038396b3d60ed79572": {
      "model_module": "@jupyter-widgets/output",
      "model_module_version": "1.0.0",
      "model_name": "OutputModel",
      "state": {
       "layout": "IPY_MODEL_e4edb4aae82f4c08aa6761eb8af4b788"
      }
     },
     "5d8558de9a4c412fa156f111320999fa": {
      "model_module": "@jupyter-widgets/controls",
      "model_module_version": "1.5.0",
      "model_name": "VBoxModel",
      "state": {
       "children": [
        "IPY_MODEL_c7e7a13cf8fe4f599b0ebf5b5089df64",
        "IPY_MODEL_c60edc11077740d3944ee7069b1bcd46"
       ],
       "layout": "IPY_MODEL_b529b51794a9405f8ae158e3f694beaa"
      }
     },
     "5f27d2abc192430bb29690c217979335": {
      "model_module": "@jupyter-widgets/output",
      "model_module_version": "1.0.0",
      "model_name": "OutputModel",
      "state": {
       "layout": "IPY_MODEL_301b1402638641cdafe37752bb342e9f",
       "outputs": [
        {
         "data": {
          "text/markdown": "Usually some sort of process you'll tweak and repeat on multiple samples",
          "text/plain": "<IPython.core.display.Markdown object>"
         },
         "metadata": {},
         "output_type": "display_data"
        }
       ]
      }
     },
     "6995fc6e233044bab7e46927ce5bba64": {
      "model_module": "@jupyter-widgets/base",
      "model_module_version": "1.2.0",
      "model_name": "LayoutModel",
      "state": {}
     },
     "6ca2bcbe13984b3e92154295d33dd81e": {
      "model_module": "@jupyter-widgets/controls",
      "model_module_version": "1.5.0",
      "model_name": "DescriptionStyleModel",
      "state": {
       "description_width": "10%"
      }
     },
     "6f4d52b1da924651a89ad73918804a74": {
      "model_module": "@jupyter-widgets/controls",
      "model_module_version": "1.5.0",
      "model_name": "ButtonStyleModel",
      "state": {}
     },
     "780de7bbb2f3460bb7ea1ab75f02c18c": {
      "model_module": "@jupyter-widgets/base",
      "model_module_version": "1.2.0",
      "model_name": "LayoutModel",
      "state": {}
     },
     "7890e4d31f804a3095a9941a81950456": {
      "model_module": "@jupyter-widgets/controls",
      "model_module_version": "1.5.0",
      "model_name": "ButtonStyleModel",
      "state": {}
     },
     "79dc8407cc804b788827c3e0a3e36d5c": {
      "model_module": "@jupyter-widgets/base",
      "model_module_version": "1.2.0",
      "model_name": "LayoutModel",
      "state": {
       "width": "auto"
      }
     },
     "7b5b2e70f2934e8cb134ad3de7837507": {
      "model_module": "@jupyter-widgets/controls",
      "model_module_version": "1.5.0",
      "model_name": "SelectMultipleModel",
      "state": {
       "_options_labels": [
        "WP1.1a"
       ],
       "description": "Auto Add",
       "index": [],
       "layout": "IPY_MODEL_bebb7e6ccc294b8c9b9c5857396d7dfc",
       "rows": 5,
       "style": "IPY_MODEL_ca8291ef99674217a49c1e4b502335a5"
      }
     },
     "7b8430dbfa31458b8477bb7fbac66b1c": {
      "model_module": "@jupyter-widgets/controls",
      "model_module_version": "1.5.0",
      "model_name": "VBoxModel",
      "state": {
       "children": [
        "IPY_MODEL_7dcad8832cc94f19a37a195e517573c7",
        "IPY_MODEL_7b5b2e70f2934e8cb134ad3de7837507",
        "IPY_MODEL_f16fef78ade24db893a40e1623f66b89",
        "IPY_MODEL_7c1413d849d041d2aeace1535ea13610"
       ],
       "layout": "IPY_MODEL_0b01f21ad9484750a0f3ac72dd3b72a2"
      }
     },
     "7c1413d849d041d2aeace1535ea13610": {
      "model_module": "@jupyter-widgets/output",
      "model_module_version": "1.0.0",
      "model_name": "OutputModel",
      "state": {
       "layout": "IPY_MODEL_37d65f39f7e74089955b648c0ae85008"
      }
     },
     "7dcad8832cc94f19a37a195e517573c7": {
      "model_module": "@jupyter-widgets/controls",
      "model_module_version": "1.5.0",
      "model_name": "TextModel",
      "state": {
       "description": "Name:",
       "layout": "IPY_MODEL_ab1a040799314168a22323b6da7a8b9f",
       "placeholder": "e.g. XRD",
       "style": "IPY_MODEL_40ee8e1b10934f889d373b1c039d098a"
      }
     },
     "8336a5743403445fa2de3d3a0ca491b9": {
      "model_module": "@jupyter-widgets/base",
      "model_module_version": "1.2.0",
      "model_name": "LayoutModel",
      "state": {
       "width": "auto"
      }
     },
     "8cf43a82b19c4a9787fe926b8886a40c": {
      "model_module": "@jupyter-widgets/controls",
      "model_module_version": "1.5.0",
      "model_name": "DescriptionStyleModel",
      "state": {
       "description_width": "10%"
      }
     },
     "8e3ce31b08bd4a09990ceb35d58bbf62": {
      "model_module": "@jupyter-widgets/controls",
      "model_module_version": "1.5.0",
      "model_name": "VBoxModel",
      "state": {
       "children": [
        "IPY_MODEL_22ec4fc525994244a2db2fee90574dce",
        "IPY_MODEL_44ff6652447c42d399edd45d46e60f86",
        "IPY_MODEL_4e25cc95036b4838829252b1ccc78c83",
        "IPY_MODEL_8f054f6748b04c9da38576d292673c3a",
        "IPY_MODEL_53313b30b6ac4c8280f0b07d29462acd"
       ],
       "layout": "IPY_MODEL_6995fc6e233044bab7e46927ce5bba64"
      }
     },
     "8f054f6748b04c9da38576d292673c3a": {
      "model_module": "@jupyter-widgets/controls",
      "model_module_version": "1.5.0",
      "model_name": "HBoxModel",
      "state": {
       "children": [
        "IPY_MODEL_0420eb10b21344bab29c4683fa6494b1",
        "IPY_MODEL_9200d17b0657453aa3ff3b9a48d943c6"
       ],
       "layout": "IPY_MODEL_12a6e53e08e64069bf66f5e197614364"
      }
     },
     "9155a1cdeca94ec586fdf75f7a07a194": {
      "model_module": "@jupyter-widgets/controls",
      "model_module_version": "1.5.0",
      "model_name": "ButtonStyleModel",
      "state": {}
     },
     "9200d17b0657453aa3ff3b9a48d943c6": {
      "model_module": "@jupyter-widgets/controls",
      "model_module_version": "1.5.0",
      "model_name": "ButtonModel",
      "state": {
       "description": "New",
       "layout": "IPY_MODEL_0dea180100484482aa28831fcafbf64e",
       "style": "IPY_MODEL_6f4d52b1da924651a89ad73918804a74"
      }
     },
     "93d0179555cc4dada389287dec54cdd8": {
      "model_module": "@jupyter-widgets/controls",
      "model_module_version": "1.5.0",
      "model_name": "ButtonModel",
      "state": {
       "description": "Confirm",
       "disabled": true,
       "layout": "IPY_MODEL_9b4e7b643c2f4a839377d67dfe5a6adb",
       "style": "IPY_MODEL_d472c6909836447192f5f1b0848feac4"
      }
     },
     "941a463b87264557a639a17701ca7ade": {
      "model_module": "@jupyter-widgets/base",
      "model_module_version": "1.2.0",
      "model_name": "LayoutModel",
      "state": {}
     },
     "9b4e7b643c2f4a839377d67dfe5a6adb": {
      "model_module": "@jupyter-widgets/base",
      "model_module_version": "1.2.0",
      "model_name": "LayoutModel",
      "state": {}
     },
     "9b5bf2f8dc8f4546a3287f0b056f5d80": {
      "model_module": "@jupyter-widgets/base",
      "model_module_version": "1.2.0",
      "model_name": "LayoutModel",
      "state": {
       "width": "auto"
      }
     },
     "a00fe9396c724b2698a0a1261e72349f": {
      "model_module": "@jupyter-widgets/output",
      "model_module_version": "1.0.0",
      "model_name": "OutputModel",
      "state": {
       "layout": "IPY_MODEL_8336a5743403445fa2de3d3a0ca491b9"
      }
     },
     "a66395040f6c48d7a74a9af07bbf3b25": {
      "model_module": "@jupyter-widgets/base",
      "model_module_version": "1.2.0",
      "model_name": "LayoutModel",
      "state": {}
     },
     "a802cd3a309545ea921f2b01f0af88cd": {
      "model_module": "@jupyter-widgets/base",
      "model_module_version": "1.2.0",
      "model_name": "LayoutModel",
      "state": {}
     },
     "ab1a040799314168a22323b6da7a8b9f": {
      "model_module": "@jupyter-widgets/base",
      "model_module_version": "1.2.0",
      "model_name": "LayoutModel",
      "state": {
       "width": "auto"
      }
     },
     "af0fb1e6ab50446bab974da11e2a2f1f": {
      "model_module": "@jupyter-widgets/base",
      "model_module_version": "1.2.0",
      "model_name": "LayoutModel",
      "state": {}
     },
     "b33cffb358dc451bbf4974820cc9230f": {
      "model_module": "@jupyter-widgets/base",
      "model_module_version": "1.2.0",
      "model_name": "LayoutModel",
      "state": {}
     },
     "b529b51794a9405f8ae158e3f694beaa": {
      "model_module": "@jupyter-widgets/base",
      "model_module_version": "1.2.0",
      "model_name": "LayoutModel",
      "state": {}
     },
     "bebb7e6ccc294b8c9b9c5857396d7dfc": {
      "model_module": "@jupyter-widgets/base",
      "model_module_version": "1.2.0",
      "model_name": "LayoutModel",
      "state": {
       "width": "auto"
      }
     },
     "c60edc11077740d3944ee7069b1bcd46": {
      "model_module": "@jupyter-widgets/controls",
      "model_module_version": "1.5.0",
      "model_name": "ButtonModel",
      "state": {
       "description": "Folder",
       "layout": "IPY_MODEL_b33cffb358dc451bbf4974820cc9230f",
       "style": "IPY_MODEL_2b8f682ad74745f288fa7211ebdaa135"
      }
     },
     "c7e7a13cf8fe4f599b0ebf5b5089df64": {
      "model_module": "@jupyter-widgets/output",
      "model_module_version": "1.0.0",
      "model_name": "OutputModel",
      "state": {
       "layout": "IPY_MODEL_941a463b87264557a639a17701ca7ade",
       "outputs": [
        {
         "data": {
          "text/html": "<h1 style=\"display: inline;\"><a href=\"WP1.1.ipynb\">WP1.1</a></h1><h3 style=\"display: inline;\">(<a href=\"../../Home.ipynb\" target=\"_blank\">Home</a>-><a href=\"../WP1.ipynb\" target=\"_blank\">WP1</a>)</h3>",
          "text/plain": "<cassini.ipygui.WHTML at 0x1a25b43d940>"
         },
         "metadata": {},
         "output_type": "display_data"
        }
       ]
      }
     },
     "ca8291ef99674217a49c1e4b502335a5": {
      "model_module": "@jupyter-widgets/controls",
      "model_module_version": "1.5.0",
      "model_name": "DescriptionStyleModel",
      "state": {
       "description_width": "10%"
      }
     },
     "d42979dd12b34b9e9852ff6062d56aef": {
      "model_module": "@jupyter-widgets/base",
      "model_module_version": "1.2.0",
      "model_name": "LayoutModel",
      "state": {}
     },
     "d472c6909836447192f5f1b0848feac4": {
      "model_module": "@jupyter-widgets/controls",
      "model_module_version": "1.5.0",
      "model_name": "ButtonStyleModel",
      "state": {}
     },
     "d49ea8d4a3c441d78a7220fa6c8de955": {
      "model_module": "@jupyter-widgets/output",
      "model_module_version": "1.0.0",
      "model_name": "OutputModel",
      "state": {
       "layout": "IPY_MODEL_a66395040f6c48d7a74a9af07bbf3b25",
       "outputs": [
        {
         "data": {
          "text/html": "<h3>Description</h3>",
          "text/plain": "<cassini.ipygui.WHTML at 0x1a25b43dd68>"
         },
         "metadata": {},
         "output_type": "display_data"
        }
       ]
      }
     },
     "e22807f8a7f348db886a120675282863": {
      "model_module": "@jupyter-widgets/output",
      "model_module_version": "1.0.0",
      "model_name": "OutputModel",
      "state": {
       "layout": "IPY_MODEL_550915cfffb24f89a586f63c9c684b16",
       "outputs": [
        {
         "data": {
          "text/html": "<h3>New Data</h3>",
          "text/plain": "<cassini.ipygui.WHTML at 0x1a25b509080>"
         },
         "metadata": {},
         "output_type": "display_data"
        }
       ]
      }
     },
     "e4edb4aae82f4c08aa6761eb8af4b788": {
      "model_module": "@jupyter-widgets/base",
      "model_module_version": "1.2.0",
      "model_name": "LayoutModel",
      "state": {
       "width": "auto"
      }
     },
     "f16fef78ade24db893a40e1623f66b89": {
      "model_module": "@jupyter-widgets/controls",
      "model_module_version": "1.5.0",
      "model_name": "HBoxModel",
      "state": {
       "children": [
        "IPY_MODEL_93d0179555cc4dada389287dec54cdd8",
        "IPY_MODEL_0db05fc52f3e4c8192694d5a66eedc7b"
       ],
       "layout": "IPY_MODEL_38506132f48145a2a971d003fe22f3a3"
      }
     }
    },
    "version_major": 2,
    "version_minor": 0
   }
  }
 },
 "nbformat": 4,
 "nbformat_minor": 4
}
