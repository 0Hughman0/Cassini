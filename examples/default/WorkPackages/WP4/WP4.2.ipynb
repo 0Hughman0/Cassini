{
 "cells": [
  {
   "cell_type": "code",
   "execution_count": 4,
   "metadata": {
    "pycharm": {
     "name": "#%%\n"
    }
   },
   "outputs": [
    {
     "data": {
      "application/vnd.jupyter.widget-view+json": {
       "model_id": "e374d2627c7f4348b0026f73af3a28ec",
       "version_major": 2,
       "version_minor": 0
      },
      "text/plain": [
       "VBox(children=(VBox(children=(Output(), Button(description='Folder', style=ButtonStyle()))), Output(), Output(…"
      ]
     },
     "metadata": {},
     "output_type": "display_data"
    }
   ],
   "source": [
    "from project import project\n",
    "\n",
    "exp = project.env('WP4.2')\n",
    "exp.gui.header()"
   ]
  },
  {
   "cell_type": "code",
   "execution_count": null,
   "metadata": {},
   "outputs": [],
   "source": []
  }
 ],
 "metadata": {
  "kernelspec": {
   "display_name": "Python 3",
   "language": "python",
   "name": "python3"
  },
  "language_info": {
   "codemirror_mode": {
    "name": "ipython",
    "version": 3
   },
   "file_extension": ".py",
   "mimetype": "text/x-python",
   "name": "python",
   "nbconvert_exporter": "python",
   "pygments_lexer": "ipython3",
   "version": "3.7.2"
  },
  "pycharm": {
   "stem_cell": {
    "cell_type": "raw",
    "metadata": {
     "collapsed": false
    },
    "source": []
   }
  },
  "widgets": {
   "application/vnd.jupyter.widget-state+json": {
    "state": {
     "0121fd9ac2f0482a875eb79eefde6f8f": {
      "model_module": "@jupyter-widgets/base",
      "model_module_version": "1.2.0",
      "model_name": "LayoutModel",
      "state": {}
     },
     "0165130e72fb4932b52df91c01b89490": {
      "model_module": "@jupyter-widgets/controls",
      "model_module_version": "1.5.0",
      "model_name": "ButtonModel",
      "state": {
       "description": "New",
       "layout": "IPY_MODEL_377cb3a05341485c8f0aa01583d717c5",
       "style": "IPY_MODEL_52756652d6ee45d0b749ae17fafc9b03"
      }
     },
     "08fb69f184c34ca19beeaa9b7dcf1710": {
      "model_module": "@jupyter-widgets/controls",
      "model_module_version": "1.5.0",
      "model_name": "TextareaModel",
      "state": {
       "description": "Motivation",
       "layout": "IPY_MODEL_1c5f9a494f4044f7aa1127d024740182",
       "style": "IPY_MODEL_8a007edc91f4482bbfe1d172e543bd62"
      }
     },
     "08fefe62abd44226a61fb4174ce48cf8": {
      "model_module": "@jupyter-widgets/base",
      "model_module_version": "1.2.0",
      "model_name": "LayoutModel",
      "state": {}
     },
     "09166d18c5d94dada1b2700bd0cbf305": {
      "model_module": "@jupyter-widgets/base",
      "model_module_version": "1.2.0",
      "model_name": "LayoutModel",
      "state": {}
     },
     "0a41b8776c524dda90154d1b56ef0e83": {
      "model_module": "@jupyter-widgets/controls",
      "model_module_version": "1.5.0",
      "model_name": "SelectModel",
      "state": {
       "_options_labels": [
        "Sample.tmplt.ipynb"
       ],
       "description": "Template",
       "index": 0,
       "layout": "IPY_MODEL_5fb389c754394954bfd23336001f2d91",
       "style": "IPY_MODEL_ad248d0c73764a7188e5c77d77d9b319"
      }
     },
     "0a98bfc443434e4587d327f5b0a37e92": {
      "model_module": "@jupyter-widgets/output",
      "model_module_version": "1.0.0",
      "model_name": "OutputModel",
      "state": {
       "layout": "IPY_MODEL_3275b880c6bb47588cc3bb031c414cd6"
      }
     },
     "0ab394ea556e4d9484a328c7ef6a6c8b": {
      "model_module": "@jupyter-widgets/controls",
      "model_module_version": "1.5.0",
      "model_name": "TextModel",
      "state": {
       "description": "Identifier",
       "layout": "IPY_MODEL_f77d1c0105ba43e3a2095ae1f708bbad",
       "placeholder": "([^0-9^-][^-]*)",
       "style": "IPY_MODEL_241b2da4b95143e49548c80fc9a9790a"
      }
     },
     "0e6b6869eb8943d19477ed9aaaf5bf7a": {
      "model_module": "@jupyter-widgets/controls",
      "model_module_version": "1.5.0",
      "model_name": "DescriptionStyleModel",
      "state": {
       "description_width": "10%"
      }
     },
     "0ed264abe3d84c258fd13b14eab498ae": {
      "model_module": "@jupyter-widgets/base",
      "model_module_version": "1.2.0",
      "model_name": "LayoutModel",
      "state": {}
     },
     "0fdcb50a881c48afaccd6efebc9055b8": {
      "model_module": "@jupyter-widgets/controls",
      "model_module_version": "1.5.0",
      "model_name": "ButtonStyleModel",
      "state": {}
     },
     "120d49ddc69a4346a832f7a42b3f3530": {
      "model_module": "@jupyter-widgets/controls",
      "model_module_version": "1.5.0",
      "model_name": "ButtonStyleModel",
      "state": {}
     },
     "1232577e487f4d08b36beda85fad38b7": {
      "model_module": "@jupyter-widgets/controls",
      "model_module_version": "1.5.0",
      "model_name": "ButtonModel",
      "state": {
       "description": "New",
       "layout": "IPY_MODEL_87b2ac63a6444949b2724071d7b7e890",
       "style": "IPY_MODEL_b207727a878f47b3af6973c93ee2eb4c"
      }
     },
     "12eacf8ebc1b426281e9c5397c539796": {
      "model_module": "@jupyter-widgets/controls",
      "model_module_version": "1.5.0",
      "model_name": "ButtonStyleModel",
      "state": {}
     },
     "12ee378bd8d74cc397949e5073d493a0": {
      "model_module": "@jupyter-widgets/base",
      "model_module_version": "1.2.0",
      "model_name": "LayoutModel",
      "state": {}
     },
     "1358a91fb471474486cc54b219230c68": {
      "model_module": "@jupyter-widgets/base",
      "model_module_version": "1.2.0",
      "model_name": "LayoutModel",
      "state": {}
     },
     "142b037cc81547809af4df0a0f19e361": {
      "model_module": "@jupyter-widgets/base",
      "model_module_version": "1.2.0",
      "model_name": "LayoutModel",
      "state": {
       "width": "auto"
      }
     },
     "164dbf6163524d4fb652a1bddd7c6375": {
      "model_module": "@jupyter-widgets/base",
      "model_module_version": "1.2.0",
      "model_name": "LayoutModel",
      "state": {}
     },
     "16bd70031f5d4226a60ac75d26fcfc81": {
      "model_module": "@jupyter-widgets/controls",
      "model_module_version": "1.5.0",
      "model_name": "VBoxModel",
      "state": {
       "children": [
        "IPY_MODEL_d142419af1ae4d7994daa240dc91dd8c",
        "IPY_MODEL_8766fffc9b4842b5bc5e739c9c17e72c",
        "IPY_MODEL_ffcf637a0de647b2b043e1068bfd256c",
        "IPY_MODEL_bae9fbaccce04e83894d2b44159c006c"
       ],
       "layout": "IPY_MODEL_61326223aa1c4cdb889effb271b7c468"
      }
     },
     "16d2506388be4827ae3704a7bc5b436c": {
      "model_module": "@jupyter-widgets/controls",
      "model_module_version": "1.5.0",
      "model_name": "ButtonStyleModel",
      "state": {}
     },
     "184049201894438e99898129cc434cb4": {
      "model_module": "@jupyter-widgets/controls",
      "model_module_version": "1.5.0",
      "model_name": "VBoxModel",
      "state": {
       "children": [
        "IPY_MODEL_0ab394ea556e4d9484a328c7ef6a6c8b",
        "IPY_MODEL_0a41b8776c524dda90154d1b56ef0e83",
        "IPY_MODEL_56114f6225444f78aec6dc9e93b2face",
        "IPY_MODEL_24d9fa8ebb684fb3af90580ad33873e6",
        "IPY_MODEL_1ca1015492804b329790047e22b018a4"
       ],
       "layout": "IPY_MODEL_9d306b11fb5045b09802a29108b6f509"
      }
     },
     "192b19496314404fbeaf49b3ab4ac58d": {
      "model_module": "@jupyter-widgets/controls",
      "model_module_version": "1.5.0",
      "model_name": "HBoxModel",
      "state": {
       "children": [
        "IPY_MODEL_386e9af75a344f378dfe9de5a09623a0",
        "IPY_MODEL_1232577e487f4d08b36beda85fad38b7"
       ],
       "layout": "IPY_MODEL_dc7a61e707a94c54abc5abd28dee10a8"
      }
     },
     "1ab91506936840398f969426856d720d": {
      "model_module": "@jupyter-widgets/output",
      "model_module_version": "1.0.0",
      "model_name": "OutputModel",
      "state": {
       "layout": "IPY_MODEL_7db2d9df6ebe4540b8a2367fba31e6f3",
       "outputs": [
        {
         "data": {
          "text/html": "<h3>New Sample</h3>",
          "text/plain": "<cassini.ipygui.WHTML at 0x202745ed438>"
         },
         "metadata": {},
         "output_type": "display_data"
        }
       ]
      }
     },
     "1c5f9a494f4044f7aa1127d024740182": {
      "model_module": "@jupyter-widgets/base",
      "model_module_version": "1.2.0",
      "model_name": "LayoutModel",
      "state": {
       "width": "auto"
      }
     },
     "1ca1015492804b329790047e22b018a4": {
      "model_module": "@jupyter-widgets/output",
      "model_module_version": "1.0.0",
      "model_name": "OutputModel",
      "state": {
       "layout": "IPY_MODEL_0121fd9ac2f0482a875eb79eefde6f8f"
      }
     },
     "1e5f03a40ba6499594159a56191c5118": {
      "model_module": "@jupyter-widgets/base",
      "model_module_version": "1.2.0",
      "model_name": "LayoutModel",
      "state": {
       "width": "auto"
      }
     },
     "1f1ab9cab8a840fda3ea8268196496b1": {
      "model_module": "@jupyter-widgets/output",
      "model_module_version": "1.0.0",
      "model_name": "OutputModel",
      "state": {
       "layout": "IPY_MODEL_945db5d8a1854bbd8fa05745161eb0bc",
       "outputs": [
        {
         "data": {
          "text/html": "<a href=\"WP4.2/WP4.2c.ipynb\" target=\"_blank\"><h4 style=\"display: inline;\">WP4.2c</h4 style=\"display: inline;\"</a>",
          "text/plain": "<cassini.ipygui.WHTML at 0x202744c4f60>"
         },
         "metadata": {},
         "output_type": "display_data"
        }
       ]
      }
     },
     "1fd43e4bf8e5479c830e6f9bf6087796": {
      "model_module": "@jupyter-widgets/output",
      "model_module_version": "1.0.0",
      "model_name": "OutputModel",
      "state": {
       "layout": "IPY_MODEL_b4e2e50559ae4400b580ef6be507062d",
       "outputs": [
        {
         "data": {
          "text/markdown": "Slightly smaller aim.",
          "text/plain": "<IPython.core.display.Markdown object>"
         },
         "metadata": {},
         "output_type": "display_data"
        }
       ]
      }
     },
     "20c5c0ee6d3f43809724ab4f1ffb552c": {
      "model_module": "@jupyter-widgets/base",
      "model_module_version": "1.2.0",
      "model_name": "LayoutModel",
      "state": {}
     },
     "2104898c927246d7b6b71618a16064e2": {
      "model_module": "@jupyter-widgets/controls",
      "model_module_version": "1.5.0",
      "model_name": "ButtonModel",
      "state": {
       "description": "New",
       "layout": "IPY_MODEL_ed4d946288ce47b79735977f7935f394",
       "style": "IPY_MODEL_875e3121ab7240bd8c04e2d7aa54b142"
      }
     },
     "21d248f514a744b89855106d00e12040": {
      "model_module": "@jupyter-widgets/controls",
      "model_module_version": "1.5.0",
      "model_name": "SelectModel",
      "state": {
       "_options_labels": [
        "Sample.tmplt.ipynb"
       ],
       "description": "Template",
       "disabled": true,
       "index": 0,
       "layout": "IPY_MODEL_142b037cc81547809af4df0a0f19e361",
       "style": "IPY_MODEL_9d9ad9bb38784ccf95d8370b0a56c74e"
      }
     },
     "22beebb96ac049428c4adbe99076ca59": {
      "model_module": "@jupyter-widgets/base",
      "model_module_version": "1.2.0",
      "model_name": "LayoutModel",
      "state": {}
     },
     "23a18bdbb4fa4d33987cb4df179c78e2": {
      "model_module": "@jupyter-widgets/controls",
      "model_module_version": "1.5.0",
      "model_name": "ButtonModel",
      "state": {
       "description": "Folder",
       "layout": "IPY_MODEL_9b00edc9e4414a569b2d496d776eb52c",
       "style": "IPY_MODEL_971f81a238184052a0ceb75fa65fe13e"
      }
     },
     "241b2da4b95143e49548c80fc9a9790a": {
      "model_module": "@jupyter-widgets/controls",
      "model_module_version": "1.5.0",
      "model_name": "DescriptionStyleModel",
      "state": {
       "description_width": "10%"
      }
     },
     "24d9fa8ebb684fb3af90580ad33873e6": {
      "model_module": "@jupyter-widgets/controls",
      "model_module_version": "1.5.0",
      "model_name": "HBoxModel",
      "state": {
       "children": [
        "IPY_MODEL_3abb616823bf48c9b8527d5fb700c419",
        "IPY_MODEL_c4e5b41f3acd4df38f01c6144cd0d593"
       ],
       "layout": "IPY_MODEL_66b66b4fb0f84c2f8d09be4ec5ab119c"
      }
     },
     "269ebcdd1c6b4753a6d046e1ad917006": {
      "model_module": "@jupyter-widgets/output",
      "model_module_version": "1.0.0",
      "model_name": "OutputModel",
      "state": {
       "layout": "IPY_MODEL_b7df0eaa2ca3460994e8217566379926"
      }
     },
     "27597e2c6e79440ca8703cd7082e782e": {
      "model_module": "@jupyter-widgets/output",
      "model_module_version": "1.0.0",
      "model_name": "OutputModel",
      "state": {
       "layout": "IPY_MODEL_83ee60b35b7b43678a3d754a4e1c6ced",
       "outputs": [
        {
         "data": {
          "text/html": "<table border=\"1\" class=\"dataframe\">\n  <thead>\n    <tr style=\"text-align: right;\">\n      <th></th>\n      <th>started</th>\n      <th>description</th>\n      <th>conclusion</th>\n      <th>Obj</th>\n      <th>datasets</th>\n    </tr>\n    <tr>\n      <th>Name</th>\n      <th></th>\n      <th></th>\n      <th></th>\n      <th></th>\n      <th></th>\n    </tr>\n  </thead>\n  <tbody>\n    <tr>\n      <th>WP4.2c</th>\n      <td>2020-06-29</td>\n      <td>My very precious sample.</td>\n      <td>Incredible Success</td>\n      <td><a href=\"WP4.2/WP4.2c.ipynb\" target=\"_blank\"><h4 style=\"display: inline;\">WP4.2c</h4 style=\"display: inline;\"</a></td>\n      <td>[&#x27;Raman&#x27;, &#x27;SEM&#x27;, &#x27;XRD&#x27;]</td>\n    </tr>\n  </tbody>\n</table>",
          "text/plain": "          started               description              conclusion  \\\nName                                                                  \nWP4.2c 2020-06-29  My very precious sample.  \\nIncredible Success\\n   \n\n                      Obj           datasets  \nName                                          \nWP4.2c  <Sample \"WP4.2c\">  [Raman, SEM, XRD]  "
         },
         "metadata": {},
         "output_type": "display_data"
        }
       ]
      }
     },
     "27845ca9eb3c4d5b97649b4fc05bcfbf": {
      "model_module": "@jupyter-widgets/controls",
      "model_module_version": "1.5.0",
      "model_name": "ButtonModel",
      "state": {
       "description": "Folder",
       "layout": "IPY_MODEL_733d089c3c524d6db71583763d2faafb",
       "style": "IPY_MODEL_82318c5d690e4249a29ac70410fa3a56"
      }
     },
     "27a2d2eab2444b1db2ceef39a1b16117": {
      "model_module": "@jupyter-widgets/output",
      "model_module_version": "1.0.0",
      "model_name": "OutputModel",
      "state": {
       "layout": "IPY_MODEL_6e15cf35bb754b0488d6143a981a19fa",
       "outputs": [
        {
         "data": {
          "text/html": "<h1 style=\"display: inline;\"><a href=\"WP4.2.ipynb\">WP4.2</a></h1><h3 style=\"display: inline;\">(<a href=\"../../Home.ipynb\" target=\"_blank\">Home</a>-><a href=\"../WP4.ipynb\" target=\"_blank\">WP4</a>)</h3>",
          "text/plain": "<cassini.ipygui.WHTML at 0x2026c19b6d8>"
         },
         "metadata": {},
         "output_type": "display_data"
        }
       ]
      }
     },
     "2825dc45b45e411993e77fa4778254bd": {
      "model_module": "@jupyter-widgets/base",
      "model_module_version": "1.2.0",
      "model_name": "LayoutModel",
      "state": {}
     },
     "2a1802db80384fab80320ed1e8ce6d05": {
      "model_module": "@jupyter-widgets/controls",
      "model_module_version": "1.5.0",
      "model_name": "ButtonModel",
      "state": {
       "description": "New",
       "layout": "IPY_MODEL_cf405785ecd8414f9f64daed1988ebb5",
       "style": "IPY_MODEL_88b85b70e7364e609121180e767bda84"
      }
     },
     "2cda4d11bd344c7ea20007078fe6a174": {
      "model_module": "@jupyter-widgets/controls",
      "model_module_version": "1.5.0",
      "model_name": "VBoxModel",
      "state": {
       "children": [
        "IPY_MODEL_dfd961480b6d42c2978d9ff400f58b0f",
        "IPY_MODEL_45b250819c5e47598e043f13fd154a05",
        "IPY_MODEL_a27a2cea20dd451381193fca9aa0e22d",
        "IPY_MODEL_aae0ce887f2b4b678a43ea23cca0b083",
        "IPY_MODEL_54bc157b7ece458b881dec3a301af7dc",
        "IPY_MODEL_f00cd2bbd197487fbe163cdc7f57f49b",
        "IPY_MODEL_184049201894438e99898129cc434cb4",
        "IPY_MODEL_943471799ad345e68d8f219b7a2f8fb5",
        "IPY_MODEL_16bd70031f5d4226a60ac75d26fcfc81"
       ],
       "layout": "IPY_MODEL_768cbc05be9f41f6bab65f985b40588f"
      }
     },
     "2d0e99b459d44394a2d8cbdcc3791a5b": {
      "model_module": "@jupyter-widgets/controls",
      "model_module_version": "1.5.0",
      "model_name": "SelectModel",
      "state": {
       "_options_labels": [
        "Sample.tmplt.ipynb",
        "simple.tmplt.txt"
       ],
       "description": "Template",
       "index": 0,
       "layout": "IPY_MODEL_45e83ae2719540c9a1670d87dac270d2",
       "style": "IPY_MODEL_4761dee4ac8f47468e0a31ba8e8dc1dd"
      }
     },
     "2f80131d89c0402dadc770e98d5c7050": {
      "model_module": "@jupyter-widgets/output",
      "model_module_version": "1.0.0",
      "model_name": "OutputModel",
      "state": {
       "layout": "IPY_MODEL_607da30feea74f7ca5bb7e5afc957679",
       "outputs": [
        {
         "data": {
          "text/html": "<h3>Motivation</h3>",
          "text/plain": "<cassini.ipygui.WHTML at 0x202744c4e10>"
         },
         "metadata": {},
         "output_type": "display_data"
        }
       ]
      }
     },
     "2fb505769a5448d6b32eeca605cba126": {
      "model_module": "@jupyter-widgets/base",
      "model_module_version": "1.2.0",
      "model_name": "LayoutModel",
      "state": {}
     },
     "2fbc7d85c00442a39c69cf293d1d88d6": {
      "model_module": "@jupyter-widgets/base",
      "model_module_version": "1.2.0",
      "model_name": "LayoutModel",
      "state": {}
     },
     "3271ae1a97804f8697912312ea12e58b": {
      "model_module": "@jupyter-widgets/base",
      "model_module_version": "1.2.0",
      "model_name": "LayoutModel",
      "state": {}
     },
     "3275b880c6bb47588cc3bb031c414cd6": {
      "model_module": "@jupyter-widgets/base",
      "model_module_version": "1.2.0",
      "model_name": "LayoutModel",
      "state": {
       "width": "auto"
      }
     },
     "32c216d1cb0649f881f8d4681fc842df": {
      "model_module": "@jupyter-widgets/base",
      "model_module_version": "1.2.0",
      "model_name": "LayoutModel",
      "state": {}
     },
     "377cb3a05341485c8f0aa01583d717c5": {
      "model_module": "@jupyter-widgets/base",
      "model_module_version": "1.2.0",
      "model_name": "LayoutModel",
      "state": {}
     },
     "37b93accb818424bba0fd432da5f6dcf": {
      "model_module": "@jupyter-widgets/base",
      "model_module_version": "1.2.0",
      "model_name": "LayoutModel",
      "state": {
       "width": "auto"
      }
     },
     "386e9af75a344f378dfe9de5a09623a0": {
      "model_module": "@jupyter-widgets/controls",
      "model_module_version": "1.5.0",
      "model_name": "ButtonModel",
      "state": {
       "description": "Confirm",
       "disabled": true,
       "layout": "IPY_MODEL_e3f658b550004145bd4970b0732cad2d",
       "style": "IPY_MODEL_5a423ba5ea9f4f9b8d35541075b2fd2e"
      }
     },
     "38ba1318f73842b086ee05bc3df575c4": {
      "model_module": "@jupyter-widgets/controls",
      "model_module_version": "1.5.0",
      "model_name": "ButtonStyleModel",
      "state": {}
     },
     "3a0478fc35804bc98a3f9c61801005a9": {
      "model_module": "@jupyter-widgets/controls",
      "model_module_version": "1.5.0",
      "model_name": "ButtonModel",
      "state": {
       "description": "Confirm",
       "disabled": true,
       "layout": "IPY_MODEL_593ec7026f434ed5897c6cc071bf5cf2",
       "style": "IPY_MODEL_120d49ddc69a4346a832f7a42b3f3530"
      }
     },
     "3abb616823bf48c9b8527d5fb700c419": {
      "model_module": "@jupyter-widgets/controls",
      "model_module_version": "1.5.0",
      "model_name": "ButtonModel",
      "state": {
       "description": "Confirm",
       "disabled": true,
       "layout": "IPY_MODEL_3271ae1a97804f8697912312ea12e58b",
       "style": "IPY_MODEL_fb2d188f34064c94bb55e9d7ed2fa566"
      }
     },
     "3f939984f8be426d855f60417eb287c2": {
      "model_module": "@jupyter-widgets/controls",
      "model_module_version": "1.5.0",
      "model_name": "HBoxModel",
      "state": {
       "children": [
        "IPY_MODEL_5ca7e40bd71e430d8b96b4ccf5e4fbcc",
        "IPY_MODEL_a4cfaedfcdb6474097a82f5beffb9c84"
       ],
       "layout": "IPY_MODEL_9a416f45bbab4883a42d4c49e7ef1f7b"
      }
     },
     "3feeb18e010c43e0baffb4ef2e03fe28": {
      "model_module": "@jupyter-widgets/base",
      "model_module_version": "1.2.0",
      "model_name": "LayoutModel",
      "state": {
       "width": "auto"
      }
     },
     "409404dde62e4ad1923d7eb1371ca767": {
      "model_module": "@jupyter-widgets/output",
      "model_module_version": "1.0.0",
      "model_name": "OutputModel",
      "state": {
       "layout": "IPY_MODEL_09166d18c5d94dada1b2700bd0cbf305",
       "outputs": [
        {
         "data": {
          "text/html": "<table border=\"1\" class=\"dataframe\">\n  <thead>\n    <tr style=\"text-align: right;\">\n      <th></th>\n      <th>started</th>\n      <th>description</th>\n      <th>conclusion</th>\n      <th>Obj</th>\n      <th>datasets</th>\n    </tr>\n    <tr>\n      <th>Name</th>\n      <th></th>\n      <th></th>\n      <th></th>\n      <th></th>\n      <th></th>\n    </tr>\n  </thead>\n  <tbody>\n    <tr>\n      <th>WP4.2c</th>\n      <td>2020-06-29</td>\n      <td>My very precious sample.</td>\n      <td>Incredible Success</td>\n      <td><a href=\"WP4.2/WP4.2c.ipynb\" target=\"_blank\"><h4 style=\"display: inline;\">WP4.2c</h4 style=\"display: inline;\"</a></td>\n      <td>[&#x27;Raman&#x27;, &#x27;SEM&#x27;, &#x27;XRD&#x27;]</td>\n    </tr>\n  </tbody>\n</table>",
          "text/plain": "          started               description              conclusion  \\\nName                                                                  \nWP4.2c 2020-06-29  My very precious sample.  \\nIncredible Success\\n   \n\n                      Obj           datasets  \nName                                          \nWP4.2c  <Sample \"WP4.2c\">  [Raman, SEM, XRD]  "
         },
         "metadata": {},
         "output_type": "display_data"
        }
       ]
      }
     },
     "40abed497e56445a90f29776303f5a5c": {
      "model_module": "@jupyter-widgets/controls",
      "model_module_version": "1.5.0",
      "model_name": "DescriptionStyleModel",
      "state": {
       "description_width": "10%"
      }
     },
     "40c5449dff3e4a70b18daf8b79238f05": {
      "model_module": "@jupyter-widgets/output",
      "model_module_version": "1.0.0",
      "model_name": "OutputModel",
      "state": {
       "layout": "IPY_MODEL_d003c19eecf8472aaace041f853517de",
       "outputs": [
        {
         "data": {
          "text/html": "<h3>New Data</h3>",
          "text/plain": "<cassini.ipygui.WHTML at 0x2027452ad30>"
         },
         "metadata": {},
         "output_type": "display_data"
        }
       ]
      }
     },
     "40dca71c997b497f8f587dab4a532e64": {
      "model_module": "@jupyter-widgets/controls",
      "model_module_version": "1.5.0",
      "model_name": "DescriptionStyleModel",
      "state": {
       "description_width": "10%"
      }
     },
     "441af475af6244799d35cd2f7ec8e7b2": {
      "model_module": "@jupyter-widgets/controls",
      "model_module_version": "1.5.0",
      "model_name": "HBoxModel",
      "state": {
       "children": [
        "IPY_MODEL_4bb19aea5eab4875bfc7336ec48432b6",
        "IPY_MODEL_78e22bb259a64200b0a5b434714f8d74"
       ],
       "layout": "IPY_MODEL_ea89f60cddf24ca0be714d8d0d1c65dc"
      }
     },
     "45b250819c5e47598e043f13fd154a05": {
      "model_module": "@jupyter-widgets/output",
      "model_module_version": "1.0.0",
      "model_name": "OutputModel",
      "state": {
       "layout": "IPY_MODEL_2fb505769a5448d6b32eeca605cba126",
       "outputs": [
        {
         "data": {
          "text/html": "<h3>Motivation</h3>",
          "text/plain": "<cassini.ipygui.WHTML at 0x2026c19b9b0>"
         },
         "metadata": {},
         "output_type": "display_data"
        }
       ]
      }
     },
     "45e83ae2719540c9a1670d87dac270d2": {
      "model_module": "@jupyter-widgets/base",
      "model_module_version": "1.2.0",
      "model_name": "LayoutModel",
      "state": {
       "width": "auto"
      }
     },
     "4634f8ff541f45539914be70092648cf": {
      "model_module": "@jupyter-widgets/base",
      "model_module_version": "1.2.0",
      "model_name": "LayoutModel",
      "state": {}
     },
     "4689ea381cd7466fa0197b2f5b1c99c6": {
      "model_module": "@jupyter-widgets/base",
      "model_module_version": "1.2.0",
      "model_name": "LayoutModel",
      "state": {
       "width": "auto"
      }
     },
     "47080ddd63ff4a6daef888145efc4435": {
      "model_module": "@jupyter-widgets/controls",
      "model_module_version": "1.5.0",
      "model_name": "VBoxModel",
      "state": {
       "children": [
        "IPY_MODEL_d8ed2901687d40d7870d98775c260555",
        "IPY_MODEL_8a7702a3f32a456db7eddbb0b18aa058",
        "IPY_MODEL_578159b090d840bc9f297eb22c2a28b7",
        "IPY_MODEL_8f40dd92b4fa426da23b33b78d2f0508"
       ],
       "layout": "IPY_MODEL_ff4aa746478d4910a505249aeead8be9"
      }
     },
     "47226a5fa6764c9cb968df07d15e3573": {
      "model_module": "@jupyter-widgets/base",
      "model_module_version": "1.2.0",
      "model_name": "LayoutModel",
      "state": {
       "width": "auto"
      }
     },
     "4761dee4ac8f47468e0a31ba8e8dc1dd": {
      "model_module": "@jupyter-widgets/controls",
      "model_module_version": "1.5.0",
      "model_name": "DescriptionStyleModel",
      "state": {
       "description_width": "10%"
      }
     },
     "494b9360e7984a9d85a9cc3ab7720ba7": {
      "model_module": "@jupyter-widgets/base",
      "model_module_version": "1.2.0",
      "model_name": "LayoutModel",
      "state": {
       "width": "auto"
      }
     },
     "49d2ee6361534790a2001551baa0aa88": {
      "model_module": "@jupyter-widgets/base",
      "model_module_version": "1.2.0",
      "model_name": "LayoutModel",
      "state": {}
     },
     "4b7fa090456547eaa7d5bcb5ad203b67": {
      "model_module": "@jupyter-widgets/base",
      "model_module_version": "1.2.0",
      "model_name": "LayoutModel",
      "state": {}
     },
     "4bb19aea5eab4875bfc7336ec48432b6": {
      "model_module": "@jupyter-widgets/controls",
      "model_module_version": "1.5.0",
      "model_name": "ButtonModel",
      "state": {
       "description": "Confirm",
       "disabled": true,
       "layout": "IPY_MODEL_e3ada086d4ba4735a057df9c00ef674d",
       "style": "IPY_MODEL_7857220f4858416584424f93baee7980"
      }
     },
     "4dd7a7bccee640bab9e0b17f13189d0a": {
      "model_module": "@jupyter-widgets/base",
      "model_module_version": "1.2.0",
      "model_name": "LayoutModel",
      "state": {
       "width": "auto"
      }
     },
     "4e7f5f38d4b64cbcb1108ba7d37674d4": {
      "model_module": "@jupyter-widgets/controls",
      "model_module_version": "1.5.0",
      "model_name": "DescriptionStyleModel",
      "state": {
       "description_width": "10%"
      }
     },
     "4fa6ac350d7d4477b54774ae556b3080": {
      "model_module": "@jupyter-widgets/base",
      "model_module_version": "1.2.0",
      "model_name": "LayoutModel",
      "state": {}
     },
     "5153787f3ed24108bbffc986e2594d19": {
      "model_module": "@jupyter-widgets/output",
      "model_module_version": "1.0.0",
      "model_name": "OutputModel",
      "state": {
       "layout": "IPY_MODEL_943ba17d6f1f491385d1d8685f80180b",
       "outputs": [
        {
         "data": {
          "text/html": "<h3>Motivation</h3>",
          "text/plain": "<cassini.ipygui.WHTML at 0x202745fc048>"
         },
         "metadata": {},
         "output_type": "display_data"
        }
       ]
      }
     },
     "521bca31561e46399d443828a9e43c76": {
      "model_module": "@jupyter-widgets/controls",
      "model_module_version": "1.5.0",
      "model_name": "SelectModel",
      "state": {
       "_options_labels": [
        "Sample.tmplt.ipynb",
        "simple.tmplt.txt"
       ],
       "description": "Template",
       "index": 0,
       "layout": "IPY_MODEL_77cf5ee01e0b40abbb43c3bea70b1dc2",
       "style": "IPY_MODEL_6b798b14e73f40a2865f0fa5c7d6f15d"
      }
     },
     "523c5399b5da44eeb1d09907ecb1422f": {
      "model_module": "@jupyter-widgets/base",
      "model_module_version": "1.2.0",
      "model_name": "LayoutModel",
      "state": {
       "width": "auto"
      }
     },
     "52756652d6ee45d0b749ae17fafc9b03": {
      "model_module": "@jupyter-widgets/controls",
      "model_module_version": "1.5.0",
      "model_name": "ButtonStyleModel",
      "state": {}
     },
     "54bc157b7ece458b881dec3a301af7dc": {
      "model_module": "@jupyter-widgets/output",
      "model_module_version": "1.0.0",
      "model_name": "OutputModel",
      "state": {
       "layout": "IPY_MODEL_f2c1353b504e447abe469e35ed85e1cf",
       "outputs": [
        {
         "data": {
          "text/html": "<table border=\"1\" class=\"dataframe\">\n  <thead>\n    <tr style=\"text-align: right;\">\n      <th></th>\n      <th>started</th>\n      <th>description</th>\n      <th>conclusion</th>\n      <th>Obj</th>\n      <th>datasets</th>\n    </tr>\n    <tr>\n      <th>Name</th>\n      <th></th>\n      <th></th>\n      <th></th>\n      <th></th>\n      <th></th>\n    </tr>\n  </thead>\n  <tbody>\n    <tr>\n      <th>WP4.2c</th>\n      <td>2020-06-29</td>\n      <td>My very precious sample.</td>\n      <td>Incredible Success</td>\n      <td><a href=\"WP4.2/WP4.2c.ipynb\" target=\"_blank\"><h4 style=\"display: inline;\">WP4.2c</h4 style=\"display: inline;\"</a></td>\n      <td>[&#x27;Raman&#x27;, &#x27;SEM&#x27;, &#x27;XRD&#x27;]</td>\n    </tr>\n  </tbody>\n</table>",
          "text/plain": "          started               description              conclusion  \\\nName                                                                  \nWP4.2c 2020-06-29  My very precious sample.  \\nIncredible Success\\n   \n\n                      Obj           datasets  \nName                                          \nWP4.2c  <Sample \"WP4.2c\">  [Raman, SEM, XRD]  "
         },
         "metadata": {},
         "output_type": "display_data"
        }
       ]
      }
     },
     "553b569b59ff4c329ba87e965630960a": {
      "model_module": "@jupyter-widgets/base",
      "model_module_version": "1.2.0",
      "model_name": "LayoutModel",
      "state": {}
     },
     "555b382405584aa78e4b40298982d470": {
      "model_module": "@jupyter-widgets/base",
      "model_module_version": "1.2.0",
      "model_name": "LayoutModel",
      "state": {}
     },
     "56114f6225444f78aec6dc9e93b2face": {
      "model_module": "@jupyter-widgets/controls",
      "model_module_version": "1.5.0",
      "model_name": "TextareaModel",
      "state": {
       "description": "Motivation",
       "layout": "IPY_MODEL_c8db569d891044419fe50da306d2ad20",
       "style": "IPY_MODEL_84793382027e47b093bc9629267ed77a"
      }
     },
     "56f573fbb6bd4feb8c316e1473a6ca81": {
      "model_module": "@jupyter-widgets/controls",
      "model_module_version": "1.5.0",
      "model_name": "DescriptionStyleModel",
      "state": {
       "description_width": "10%"
      }
     },
     "57567949c2b74fc89fa3aa3b4aba5634": {
      "model_module": "@jupyter-widgets/controls",
      "model_module_version": "1.5.0",
      "model_name": "DescriptionStyleModel",
      "state": {
       "description_width": "10%"
      }
     },
     "578159b090d840bc9f297eb22c2a28b7": {
      "model_module": "@jupyter-widgets/controls",
      "model_module_version": "1.5.0",
      "model_name": "HBoxModel",
      "state": {
       "children": [
        "IPY_MODEL_629325e3d91b43feb5a7960818f6fb31",
        "IPY_MODEL_b06a9fdf09bc402aac0de49741215e6f"
       ],
       "layout": "IPY_MODEL_8c7ae2ce77474039882b789b39cbda6b"
      }
     },
     "57d09ace3f87491899d6963fa91ee088": {
      "model_module": "@jupyter-widgets/base",
      "model_module_version": "1.2.0",
      "model_name": "LayoutModel",
      "state": {}
     },
     "580992c1c0d04d0582b35e3971fbcd0e": {
      "model_module": "@jupyter-widgets/controls",
      "model_module_version": "1.5.0",
      "model_name": "ButtonStyleModel",
      "state": {}
     },
     "58b807718c3c476daf87b71e58a56b20": {
      "model_module": "@jupyter-widgets/output",
      "model_module_version": "1.0.0",
      "model_name": "OutputModel",
      "state": {
       "layout": "IPY_MODEL_49d2ee6361534790a2001551baa0aa88",
       "outputs": [
        {
         "data": {
          "text/html": "<h3>Samples</h3>",
          "text/plain": "<cassini.ipygui.WHTML at 0x20274555208>"
         },
         "metadata": {},
         "output_type": "display_data"
        }
       ]
      }
     },
     "593ec7026f434ed5897c6cc071bf5cf2": {
      "model_module": "@jupyter-widgets/base",
      "model_module_version": "1.2.0",
      "model_name": "LayoutModel",
      "state": {}
     },
     "5a0bb34698054a63925667671dac6e47": {
      "model_module": "@jupyter-widgets/base",
      "model_module_version": "1.2.0",
      "model_name": "LayoutModel",
      "state": {}
     },
     "5a423ba5ea9f4f9b8d35541075b2fd2e": {
      "model_module": "@jupyter-widgets/controls",
      "model_module_version": "1.5.0",
      "model_name": "ButtonStyleModel",
      "state": {}
     },
     "5a5012a224854919920d33a33be1fd37": {
      "model_module": "@jupyter-widgets/controls",
      "model_module_version": "1.5.0",
      "model_name": "VBoxModel",
      "state": {
       "children": [
        "IPY_MODEL_cb5b6cc8133d4d7e9631038b9aeba8cc",
        "IPY_MODEL_5f3f7b47b5854ae89e0f1d3c8f6bc7a2"
       ],
       "layout": "IPY_MODEL_b58cd585d609460984c82182430b1431"
      }
     },
     "5aa10e89f9794f1b98b6b8ed39f3c42e": {
      "model_module": "@jupyter-widgets/base",
      "model_module_version": "1.2.0",
      "model_name": "LayoutModel",
      "state": {}
     },
     "5ca7e40bd71e430d8b96b4ccf5e4fbcc": {
      "model_module": "@jupyter-widgets/controls",
      "model_module_version": "1.5.0",
      "model_name": "ButtonModel",
      "state": {
       "description": "Confirm",
       "disabled": true,
       "layout": "IPY_MODEL_73fec6e2e3b3482aad52bce40b1c8bc6",
       "style": "IPY_MODEL_6f89a65637394ad482743a8cfdcc678b"
      }
     },
     "5dbb6eb7fc504eca99db911f092de6db": {
      "model_module": "@jupyter-widgets/controls",
      "model_module_version": "1.5.0",
      "model_name": "VBoxModel",
      "state": {
       "children": [
        "IPY_MODEL_5a5012a224854919920d33a33be1fd37",
        "IPY_MODEL_2f80131d89c0402dadc770e98d5c7050",
        "IPY_MODEL_939e49426ae74b1f8445ae5ccce46aa2",
        "IPY_MODEL_a2a2b15fc37f4a7ab0291c22c2792565",
        "IPY_MODEL_f59a30d59e2c49e890e47b11fb107fb8",
        "IPY_MODEL_b70cf4bc8c2f43ea95a49c7c7b4f6279",
        "IPY_MODEL_7e771368c5c14d14bafa464045fe92a8",
        "IPY_MODEL_40c5449dff3e4a70b18daf8b79238f05",
        "IPY_MODEL_a0eb91b81cbc407b8c0a75a875251a1b"
       ],
       "layout": "IPY_MODEL_db65909a9bfa4bdaba38c371e4a17ed5"
      }
     },
     "5e6f4092029849c08beff0c93b600e5d": {
      "model_module": "@jupyter-widgets/base",
      "model_module_version": "1.2.0",
      "model_name": "LayoutModel",
      "state": {}
     },
     "5e880fd8f13147daa4687e6f90308bad": {
      "model_module": "@jupyter-widgets/controls",
      "model_module_version": "1.5.0",
      "model_name": "DescriptionStyleModel",
      "state": {
       "description_width": "10%"
      }
     },
     "5f3f7b47b5854ae89e0f1d3c8f6bc7a2": {
      "model_module": "@jupyter-widgets/controls",
      "model_module_version": "1.5.0",
      "model_name": "ButtonModel",
      "state": {
       "description": "Folder",
       "layout": "IPY_MODEL_89310dcf10dd4b698ed67ba0d842d768",
       "style": "IPY_MODEL_f82c8f82245e4810982fdb0b7a43c206"
      }
     },
     "5fb389c754394954bfd23336001f2d91": {
      "model_module": "@jupyter-widgets/base",
      "model_module_version": "1.2.0",
      "model_name": "LayoutModel",
      "state": {
       "width": "auto"
      }
     },
     "600b914da0504c5fa195344fccc84fbe": {
      "model_module": "@jupyter-widgets/controls",
      "model_module_version": "1.5.0",
      "model_name": "DescriptionStyleModel",
      "state": {
       "description_width": "10%"
      }
     },
     "60559a1a88dd4dfc985953252960a91f": {
      "model_module": "@jupyter-widgets/base",
      "model_module_version": "1.2.0",
      "model_name": "LayoutModel",
      "state": {}
     },
     "607da30feea74f7ca5bb7e5afc957679": {
      "model_module": "@jupyter-widgets/base",
      "model_module_version": "1.2.0",
      "model_name": "LayoutModel",
      "state": {}
     },
     "61326223aa1c4cdb889effb271b7c468": {
      "model_module": "@jupyter-widgets/base",
      "model_module_version": "1.2.0",
      "model_name": "LayoutModel",
      "state": {}
     },
     "629325e3d91b43feb5a7960818f6fb31": {
      "model_module": "@jupyter-widgets/controls",
      "model_module_version": "1.5.0",
      "model_name": "ButtonModel",
      "state": {
       "description": "Confirm",
       "disabled": true,
       "layout": "IPY_MODEL_9b969fd90388435e93b28c89ed43c032",
       "style": "IPY_MODEL_16d2506388be4827ae3704a7bc5b436c"
      }
     },
     "63ba965b2d464732af0496c69d020fe8": {
      "model_module": "@jupyter-widgets/controls",
      "model_module_version": "1.5.0",
      "model_name": "VBoxModel",
      "state": {
       "children": [
        "IPY_MODEL_d0ef815cc4674c64a71c71c47a32387b",
        "IPY_MODEL_23a18bdbb4fa4d33987cb4df179c78e2"
       ],
       "layout": "IPY_MODEL_553b569b59ff4c329ba87e965630960a"
      }
     },
     "63f6110432f249df9e8082ce413d7fd0": {
      "model_module": "@jupyter-widgets/controls",
      "model_module_version": "1.5.0",
      "model_name": "ButtonStyleModel",
      "state": {}
     },
     "64712d5fc54940bcb00bf9b9c8325182": {
      "model_module": "@jupyter-widgets/controls",
      "model_module_version": "1.5.0",
      "model_name": "DescriptionStyleModel",
      "state": {
       "description_width": "10%"
      }
     },
     "65dfeeeae87143228ea11e79111831e4": {
      "model_module": "@jupyter-widgets/base",
      "model_module_version": "1.2.0",
      "model_name": "LayoutModel",
      "state": {}
     },
     "66b66b4fb0f84c2f8d09be4ec5ab119c": {
      "model_module": "@jupyter-widgets/base",
      "model_module_version": "1.2.0",
      "model_name": "LayoutModel",
      "state": {}
     },
     "66f7f004323247ef8f7e14b584164606": {
      "model_module": "@jupyter-widgets/base",
      "model_module_version": "1.2.0",
      "model_name": "LayoutModel",
      "state": {}
     },
     "6811b048084043e88684492b5939eb6f": {
      "model_module": "@jupyter-widgets/controls",
      "model_module_version": "1.5.0",
      "model_name": "TextModel",
      "state": {
       "description": "Identifier",
       "layout": "IPY_MODEL_b300542af9104775b482d56ce57bc63f",
       "placeholder": "([^0-9^-][^-]*)",
       "style": "IPY_MODEL_0e6b6869eb8943d19477ed9aaaf5bf7a"
      }
     },
     "683b7293dc884e6fb212d8845c8f524a": {
      "model_module": "@jupyter-widgets/controls",
      "model_module_version": "1.5.0",
      "model_name": "TextModel",
      "state": {
       "description": "Identifier",
       "layout": "IPY_MODEL_aae953369fc242e08b8a1b8c0a891707",
       "placeholder": "([^0-9^-][^-]*)",
       "style": "IPY_MODEL_56f573fbb6bd4feb8c316e1473a6ca81"
      }
     },
     "6b798b14e73f40a2865f0fa5c7d6f15d": {
      "model_module": "@jupyter-widgets/controls",
      "model_module_version": "1.5.0",
      "model_name": "DescriptionStyleModel",
      "state": {
       "description_width": "10%"
      }
     },
     "6c902965d05046c18011ece9f65c472b": {
      "model_module": "@jupyter-widgets/output",
      "model_module_version": "1.0.0",
      "model_name": "OutputModel",
      "state": {
       "layout": "IPY_MODEL_08fefe62abd44226a61fb4174ce48cf8",
       "outputs": [
        {
         "data": {
          "text/html": "<h1 style=\"display: inline;\"><a href=\"WP4.2.ipynb\">WP4.2</a></h1><h3 style=\"display: inline;\">(<a href=\"../../Home.ipynb\" target=\"_blank\">Home</a>-><a href=\"../WP4.ipynb\" target=\"_blank\">WP4</a>)</h3>",
          "text/plain": "<cassini.ipygui.WHTML at 0x202745692e8>"
         },
         "metadata": {},
         "output_type": "display_data"
        }
       ]
      }
     },
     "6cea2a7f04ec42f78eb940b96f228691": {
      "model_module": "@jupyter-widgets/controls",
      "model_module_version": "1.5.0",
      "model_name": "TextModel",
      "state": {
       "description": "Name:",
       "layout": "IPY_MODEL_1e5f03a40ba6499594159a56191c5118",
       "placeholder": "e.g. XRD",
       "style": "IPY_MODEL_64712d5fc54940bcb00bf9b9c8325182"
      }
     },
     "6d4b0753e20949d188633dcacaa3fa47": {
      "model_module": "@jupyter-widgets/base",
      "model_module_version": "1.2.0",
      "model_name": "LayoutModel",
      "state": {
       "width": "auto"
      }
     },
     "6e15cf35bb754b0488d6143a981a19fa": {
      "model_module": "@jupyter-widgets/base",
      "model_module_version": "1.2.0",
      "model_name": "LayoutModel",
      "state": {}
     },
     "6f89a65637394ad482743a8cfdcc678b": {
      "model_module": "@jupyter-widgets/controls",
      "model_module_version": "1.5.0",
      "model_name": "ButtonStyleModel",
      "state": {}
     },
     "73126da71273452c905c168b8cc33969": {
      "model_module": "@jupyter-widgets/base",
      "model_module_version": "1.2.0",
      "model_name": "LayoutModel",
      "state": {}
     },
     "733d089c3c524d6db71583763d2faafb": {
      "model_module": "@jupyter-widgets/base",
      "model_module_version": "1.2.0",
      "model_name": "LayoutModel",
      "state": {}
     },
     "7385a084ca034166994070be7ff00f30": {
      "model_module": "@jupyter-widgets/base",
      "model_module_version": "1.2.0",
      "model_name": "LayoutModel",
      "state": {}
     },
     "73fec6e2e3b3482aad52bce40b1c8bc6": {
      "model_module": "@jupyter-widgets/base",
      "model_module_version": "1.2.0",
      "model_name": "LayoutModel",
      "state": {}
     },
     "75c7eabf3c344eb498a7319770dd223a": {
      "model_module": "@jupyter-widgets/controls",
      "model_module_version": "1.5.0",
      "model_name": "DescriptionStyleModel",
      "state": {
       "description_width": "10%"
      }
     },
     "768cbc05be9f41f6bab65f985b40588f": {
      "model_module": "@jupyter-widgets/base",
      "model_module_version": "1.2.0",
      "model_name": "LayoutModel",
      "state": {}
     },
     "77cf5ee01e0b40abbb43c3bea70b1dc2": {
      "model_module": "@jupyter-widgets/base",
      "model_module_version": "1.2.0",
      "model_name": "LayoutModel",
      "state": {
       "width": "auto"
      }
     },
     "7857220f4858416584424f93baee7980": {
      "model_module": "@jupyter-widgets/controls",
      "model_module_version": "1.5.0",
      "model_name": "ButtonStyleModel",
      "state": {}
     },
     "78e22bb259a64200b0a5b434714f8d74": {
      "model_module": "@jupyter-widgets/controls",
      "model_module_version": "1.5.0",
      "model_name": "ButtonModel",
      "state": {
       "description": "New",
       "layout": "IPY_MODEL_f8c0a750f90e493ea7b06433c94f2820",
       "style": "IPY_MODEL_c427b2d742ef42fa82733773df5d9c5a"
      }
     },
     "7d275c60690a419aa1dabffe3227dd79": {
      "model_module": "@jupyter-widgets/output",
      "model_module_version": "1.0.0",
      "model_name": "OutputModel",
      "state": {
       "layout": "IPY_MODEL_c32dc1c052a34aa583d34d56fbb7d28c",
       "outputs": [
        {
         "data": {
          "text/html": "<h3>New Data</h3>",
          "text/plain": "<cassini.ipygui.WHTML at 0x202745d6e48>"
         },
         "metadata": {},
         "output_type": "display_data"
        }
       ]
      }
     },
     "7db2d9df6ebe4540b8a2367fba31e6f3": {
      "model_module": "@jupyter-widgets/base",
      "model_module_version": "1.2.0",
      "model_name": "LayoutModel",
      "state": {}
     },
     "7e771368c5c14d14bafa464045fe92a8": {
      "model_module": "@jupyter-widgets/controls",
      "model_module_version": "1.5.0",
      "model_name": "VBoxModel",
      "state": {
       "children": [
        "IPY_MODEL_f62ed7ecf0314cd8b2381d819e10d247",
        "IPY_MODEL_21d248f514a744b89855106d00e12040",
        "IPY_MODEL_9c2c83d69f7e41879d1cb8de030eed90",
        "IPY_MODEL_441af475af6244799d35cd2f7ec8e7b2",
        "IPY_MODEL_c8b4811a42e549fd92f6d00a6a0057e3"
       ],
       "layout": "IPY_MODEL_a03484cb228c4b55b69fdc6739a7b3bc"
      }
     },
     "80c843a4df684cb9bc3dbe735bc7c8d4": {
      "model_module": "@jupyter-widgets/output",
      "model_module_version": "1.0.0",
      "model_name": "OutputModel",
      "state": {
       "layout": "IPY_MODEL_89275e7dd272450c8c937a43ab98fb53"
      }
     },
     "80e1d34d53dc495c8820b88967a8654c": {
      "model_module": "@jupyter-widgets/controls",
      "model_module_version": "1.5.0",
      "model_name": "ButtonModel",
      "state": {
       "description": "Confirm",
       "disabled": true,
       "layout": "IPY_MODEL_bc928b9247cb4384870caf26ace90f74",
       "style": "IPY_MODEL_580992c1c0d04d0582b35e3971fbcd0e"
      }
     },
     "82318c5d690e4249a29ac70410fa3a56": {
      "model_module": "@jupyter-widgets/controls",
      "model_module_version": "1.5.0",
      "model_name": "ButtonStyleModel",
      "state": {}
     },
     "83ee60b35b7b43678a3d754a4e1c6ced": {
      "model_module": "@jupyter-widgets/base",
      "model_module_version": "1.2.0",
      "model_name": "LayoutModel",
      "state": {}
     },
     "84793382027e47b093bc9629267ed77a": {
      "model_module": "@jupyter-widgets/controls",
      "model_module_version": "1.5.0",
      "model_name": "DescriptionStyleModel",
      "state": {
       "description_width": "10%"
      }
     },
     "84d30f5a0f8b4d47a10174dde7f7f183": {
      "model_module": "@jupyter-widgets/controls",
      "model_module_version": "1.5.0",
      "model_name": "VBoxModel",
      "state": {
       "children": [
        "IPY_MODEL_6811b048084043e88684492b5939eb6f",
        "IPY_MODEL_2d0e99b459d44394a2d8cbdcc3791a5b",
        "IPY_MODEL_b758f8f7b5aa420da5d5107d067a14b5",
        "IPY_MODEL_e30ce8f24e8d4b0590e103a001742e8b",
        "IPY_MODEL_a17dbbbbc4394f19955321f5559abe3a"
       ],
       "layout": "IPY_MODEL_66f7f004323247ef8f7e14b584164606"
      }
     },
     "8576db5284cb4759b4e474b524fecb65": {
      "model_module": "@jupyter-widgets/output",
      "model_module_version": "1.0.0",
      "model_name": "OutputModel",
      "state": {
       "layout": "IPY_MODEL_73126da71273452c905c168b8cc33969"
      }
     },
     "875e3121ab7240bd8c04e2d7aa54b142": {
      "model_module": "@jupyter-widgets/controls",
      "model_module_version": "1.5.0",
      "model_name": "ButtonStyleModel",
      "state": {}
     },
     "8766fffc9b4842b5bc5e739c9c17e72c": {
      "model_module": "@jupyter-widgets/controls",
      "model_module_version": "1.5.0",
      "model_name": "SelectMultipleModel",
      "state": {
       "_options_labels": [
        "WP4.2c"
       ],
       "description": "Auto Add",
       "index": [],
       "layout": "IPY_MODEL_4689ea381cd7466fa0197b2f5b1c99c6",
       "rows": 5,
       "style": "IPY_MODEL_40dca71c997b497f8f587dab4a532e64"
      }
     },
     "87b2ac63a6444949b2724071d7b7e890": {
      "model_module": "@jupyter-widgets/base",
      "model_module_version": "1.2.0",
      "model_name": "LayoutModel",
      "state": {}
     },
     "88b85b70e7364e609121180e767bda84": {
      "model_module": "@jupyter-widgets/controls",
      "model_module_version": "1.5.0",
      "model_name": "ButtonStyleModel",
      "state": {}
     },
     "89275e7dd272450c8c937a43ab98fb53": {
      "model_module": "@jupyter-widgets/base",
      "model_module_version": "1.2.0",
      "model_name": "LayoutModel",
      "state": {
       "width": "auto"
      }
     },
     "89310dcf10dd4b698ed67ba0d842d768": {
      "model_module": "@jupyter-widgets/base",
      "model_module_version": "1.2.0",
      "model_name": "LayoutModel",
      "state": {}
     },
     "89729abc59fd49a99aaec92c749d0350": {
      "model_module": "@jupyter-widgets/output",
      "model_module_version": "1.0.0",
      "model_name": "OutputModel",
      "state": {
       "layout": "IPY_MODEL_5a0bb34698054a63925667671dac6e47",
       "outputs": [
        {
         "data": {
          "text/html": "<h3>New Data</h3>",
          "text/plain": "<cassini.ipygui.WHTML at 0x2027465f470>"
         },
         "metadata": {},
         "output_type": "display_data"
        }
       ]
      }
     },
     "8a007edc91f4482bbfe1d172e543bd62": {
      "model_module": "@jupyter-widgets/controls",
      "model_module_version": "1.5.0",
      "model_name": "DescriptionStyleModel",
      "state": {
       "description_width": "10%"
      }
     },
     "8a7702a3f32a456db7eddbb0b18aa058": {
      "model_module": "@jupyter-widgets/controls",
      "model_module_version": "1.5.0",
      "model_name": "SelectMultipleModel",
      "state": {
       "_options_labels": [
        "WP4.2c"
       ],
       "description": "Auto Add",
       "index": [],
       "layout": "IPY_MODEL_bf17d4fd776b4d4db22eb461b33292e2",
       "rows": 5,
       "style": "IPY_MODEL_40abed497e56445a90f29776303f5a5c"
      }
     },
     "8ad55582af054fb89e4779e97fd26f1b": {
      "model_module": "@jupyter-widgets/output",
      "model_module_version": "1.0.0",
      "model_name": "OutputModel",
      "state": {
       "layout": "IPY_MODEL_9462546d7b744a53a567603b78585a4a"
      }
     },
     "8b9eed0686e14a5f9c37f8629fcecb31": {
      "model_module": "@jupyter-widgets/base",
      "model_module_version": "1.2.0",
      "model_name": "LayoutModel",
      "state": {}
     },
     "8c7ae2ce77474039882b789b39cbda6b": {
      "model_module": "@jupyter-widgets/base",
      "model_module_version": "1.2.0",
      "model_name": "LayoutModel",
      "state": {}
     },
     "8cd5b1c547fa4a31915018a9d43e28b1": {
      "model_module": "@jupyter-widgets/controls",
      "model_module_version": "1.5.0",
      "model_name": "VBoxModel",
      "state": {
       "children": [
        "IPY_MODEL_683b7293dc884e6fb212d8845c8f524a",
        "IPY_MODEL_521bca31561e46399d443828a9e43c76",
        "IPY_MODEL_08fb69f184c34ca19beeaa9b7dcf1710",
        "IPY_MODEL_3f939984f8be426d855f60417eb287c2",
        "IPY_MODEL_8576db5284cb4759b4e474b524fecb65"
       ],
       "layout": "IPY_MODEL_d014cbb092b14354b3181c3d5985be6f"
      }
     },
     "8f40dd92b4fa426da23b33b78d2f0508": {
      "model_module": "@jupyter-widgets/output",
      "model_module_version": "1.0.0",
      "model_name": "OutputModel",
      "state": {
       "layout": "IPY_MODEL_c5936f2b337f43fb97b12d50f7662730"
      }
     },
     "8fa695fdab5e4c53ba20c56e2b23f1d9": {
      "model_module": "@jupyter-widgets/controls",
      "model_module_version": "1.5.0",
      "model_name": "VBoxModel",
      "state": {
       "children": [
        "IPY_MODEL_6c902965d05046c18011ece9f65c472b",
        "IPY_MODEL_d3b3e19cd7974a569935a7bdd24e6bd5"
       ],
       "layout": "IPY_MODEL_fcce74997bdb4b88be56e1aa163064c0"
      }
     },
     "939e49426ae74b1f8445ae5ccce46aa2": {
      "model_module": "@jupyter-widgets/output",
      "model_module_version": "1.0.0",
      "model_name": "OutputModel",
      "state": {
       "layout": "IPY_MODEL_8b9eed0686e14a5f9c37f8629fcecb31",
       "outputs": [
        {
         "data": {
          "text/markdown": "Slightly smaller aim.",
          "text/plain": "<IPython.core.display.Markdown object>"
         },
         "metadata": {},
         "output_type": "display_data"
        }
       ]
      }
     },
     "943471799ad345e68d8f219b7a2f8fb5": {
      "model_module": "@jupyter-widgets/output",
      "model_module_version": "1.0.0",
      "model_name": "OutputModel",
      "state": {
       "layout": "IPY_MODEL_1358a91fb471474486cc54b219230c68",
       "outputs": [
        {
         "data": {
          "text/html": "<h3>New Data</h3>",
          "text/plain": "<cassini.ipygui.WHTML at 0x20274563fd0>"
         },
         "metadata": {},
         "output_type": "display_data"
        }
       ]
      }
     },
     "943ba17d6f1f491385d1d8685f80180b": {
      "model_module": "@jupyter-widgets/base",
      "model_module_version": "1.2.0",
      "model_name": "LayoutModel",
      "state": {}
     },
     "945db5d8a1854bbd8fa05745161eb0bc": {
      "model_module": "@jupyter-widgets/base",
      "model_module_version": "1.2.0",
      "model_name": "LayoutModel",
      "state": {}
     },
     "9462546d7b744a53a567603b78585a4a": {
      "model_module": "@jupyter-widgets/base",
      "model_module_version": "1.2.0",
      "model_name": "LayoutModel",
      "state": {
       "width": "auto"
      }
     },
     "963a01a314f847f1ba2840844bd5ea7c": {
      "model_module": "@jupyter-widgets/output",
      "model_module_version": "1.0.0",
      "model_name": "OutputModel",
      "state": {
       "layout": "IPY_MODEL_a8b0e75c1dbf43f483576d8ffe25fceb"
      }
     },
     "96f1d694cb2e4218ac233b4575f9049f": {
      "model_module": "@jupyter-widgets/output",
      "model_module_version": "1.0.0",
      "model_name": "OutputModel",
      "state": {
       "layout": "IPY_MODEL_4dd7a7bccee640bab9e0b17f13189d0a"
      }
     },
     "971f81a238184052a0ceb75fa65fe13e": {
      "model_module": "@jupyter-widgets/controls",
      "model_module_version": "1.5.0",
      "model_name": "ButtonStyleModel",
      "state": {}
     },
     "98c370befca041eda96da776be526118": {
      "model_module": "@jupyter-widgets/controls",
      "model_module_version": "1.5.0",
      "model_name": "SelectMultipleModel",
      "state": {
       "description": "Auto Add",
       "index": [],
       "layout": "IPY_MODEL_6d4b0753e20949d188633dcacaa3fa47",
       "rows": 5,
       "style": "IPY_MODEL_5e880fd8f13147daa4687e6f90308bad"
      }
     },
     "9947416dcbc04213846fec91b48b759f": {
      "model_module": "@jupyter-widgets/base",
      "model_module_version": "1.2.0",
      "model_name": "LayoutModel",
      "state": {}
     },
     "9a416f45bbab4883a42d4c49e7ef1f7b": {
      "model_module": "@jupyter-widgets/base",
      "model_module_version": "1.2.0",
      "model_name": "LayoutModel",
      "state": {}
     },
     "9b00edc9e4414a569b2d496d776eb52c": {
      "model_module": "@jupyter-widgets/base",
      "model_module_version": "1.2.0",
      "model_name": "LayoutModel",
      "state": {}
     },
     "9b969fd90388435e93b28c89ed43c032": {
      "model_module": "@jupyter-widgets/base",
      "model_module_version": "1.2.0",
      "model_name": "LayoutModel",
      "state": {}
     },
     "9c2c83d69f7e41879d1cb8de030eed90": {
      "model_module": "@jupyter-widgets/controls",
      "model_module_version": "1.5.0",
      "model_name": "TextareaModel",
      "state": {
       "description": "Motivation",
       "disabled": true,
       "layout": "IPY_MODEL_37b93accb818424bba0fd432da5f6dcf",
       "style": "IPY_MODEL_ca4cd18998ca44a296b528518ddc99f2",
       "value": "My very precious sample."
      }
     },
     "9d306b11fb5045b09802a29108b6f509": {
      "model_module": "@jupyter-widgets/base",
      "model_module_version": "1.2.0",
      "model_name": "LayoutModel",
      "state": {}
     },
     "9d9ad9bb38784ccf95d8370b0a56c74e": {
      "model_module": "@jupyter-widgets/controls",
      "model_module_version": "1.5.0",
      "model_name": "DescriptionStyleModel",
      "state": {
       "description_width": "10%"
      }
     },
     "9e4f609144974f36aa15febef6795a0c": {
      "model_module": "@jupyter-widgets/base",
      "model_module_version": "1.2.0",
      "model_name": "LayoutModel",
      "state": {}
     },
     "a03484cb228c4b55b69fdc6739a7b3bc": {
      "model_module": "@jupyter-widgets/base",
      "model_module_version": "1.2.0",
      "model_name": "LayoutModel",
      "state": {}
     },
     "a0eb91b81cbc407b8c0a75a875251a1b": {
      "model_module": "@jupyter-widgets/controls",
      "model_module_version": "1.5.0",
      "model_name": "VBoxModel",
      "state": {
       "children": [
        "IPY_MODEL_ccf969fbbb844a54ad3fabbc9b0077b7",
        "IPY_MODEL_98c370befca041eda96da776be526118",
        "IPY_MODEL_192b19496314404fbeaf49b3ab4ac58d",
        "IPY_MODEL_963a01a314f847f1ba2840844bd5ea7c"
       ],
       "layout": "IPY_MODEL_4b7fa090456547eaa7d5bcb5ad203b67"
      }
     },
     "a17dbbbbc4394f19955321f5559abe3a": {
      "model_module": "@jupyter-widgets/output",
      "model_module_version": "1.0.0",
      "model_name": "OutputModel",
      "state": {
       "layout": "IPY_MODEL_20c5c0ee6d3f43809724ab4f1ffb552c"
      }
     },
     "a27a2cea20dd451381193fca9aa0e22d": {
      "model_module": "@jupyter-widgets/output",
      "model_module_version": "1.0.0",
      "model_name": "OutputModel",
      "state": {
       "layout": "IPY_MODEL_0ed264abe3d84c258fd13b14eab498ae",
       "outputs": [
        {
         "data": {
          "text/markdown": "Slightly smaller aim.",
          "text/plain": "<IPython.core.display.Markdown object>"
         },
         "metadata": {},
         "output_type": "display_data"
        }
       ]
      }
     },
     "a2a2b15fc37f4a7ab0291c22c2792565": {
      "model_module": "@jupyter-widgets/output",
      "model_module_version": "1.0.0",
      "model_name": "OutputModel",
      "state": {
       "layout": "IPY_MODEL_e9d7540a8a5f4bf590e55bdc3b2b372e",
       "outputs": [
        {
         "data": {
          "text/html": "<h3>Samples</h3>",
          "text/plain": "<cassini.ipygui.WHTML at 0x202744c4a20>"
         },
         "metadata": {},
         "output_type": "display_data"
        }
       ]
      }
     },
     "a4cfaedfcdb6474097a82f5beffb9c84": {
      "model_module": "@jupyter-widgets/controls",
      "model_module_version": "1.5.0",
      "model_name": "ButtonModel",
      "state": {
       "description": "New",
       "layout": "IPY_MODEL_ae85194e0d2340c2946e90160804fe83",
       "style": "IPY_MODEL_0fdcb50a881c48afaccd6efebc9055b8"
      }
     },
     "a753c17d5c8c4796a117e096c5288fbb": {
      "model_module": "@jupyter-widgets/controls",
      "model_module_version": "1.5.0",
      "model_name": "ButtonModel",
      "state": {
       "description": "Confirm",
       "disabled": true,
       "layout": "IPY_MODEL_57d09ace3f87491899d6963fa91ee088",
       "style": "IPY_MODEL_ccdb474b66904aee88bbbe0623cf1ac3"
      }
     },
     "a8b0e75c1dbf43f483576d8ffe25fceb": {
      "model_module": "@jupyter-widgets/base",
      "model_module_version": "1.2.0",
      "model_name": "LayoutModel",
      "state": {}
     },
     "aae0ce887f2b4b678a43ea23cca0b083": {
      "model_module": "@jupyter-widgets/output",
      "model_module_version": "1.0.0",
      "model_name": "OutputModel",
      "state": {
       "layout": "IPY_MODEL_d44eb85083db4b8f9970451a679fcac3",
       "outputs": [
        {
         "data": {
          "text/html": "<h3>Samples</h3>",
          "text/plain": "<cassini.ipygui.WHTML at 0x2026c19b7b8>"
         },
         "metadata": {},
         "output_type": "display_data"
        }
       ]
      }
     },
     "aae953369fc242e08b8a1b8c0a891707": {
      "model_module": "@jupyter-widgets/base",
      "model_module_version": "1.2.0",
      "model_name": "LayoutModel",
      "state": {
       "width": "auto"
      }
     },
     "ad248d0c73764a7188e5c77d77d9b319": {
      "model_module": "@jupyter-widgets/controls",
      "model_module_version": "1.5.0",
      "model_name": "DescriptionStyleModel",
      "state": {
       "description_width": "10%"
      }
     },
     "ae3f79cf61d54508893bfb1c14e36cca": {
      "model_module": "@jupyter-widgets/base",
      "model_module_version": "1.2.0",
      "model_name": "LayoutModel",
      "state": {
       "width": "auto"
      }
     },
     "ae85194e0d2340c2946e90160804fe83": {
      "model_module": "@jupyter-widgets/base",
      "model_module_version": "1.2.0",
      "model_name": "LayoutModel",
      "state": {}
     },
     "b06a9fdf09bc402aac0de49741215e6f": {
      "model_module": "@jupyter-widgets/controls",
      "model_module_version": "1.5.0",
      "model_name": "ButtonModel",
      "state": {
       "description": "New",
       "layout": "IPY_MODEL_4634f8ff541f45539914be70092648cf",
       "style": "IPY_MODEL_63f6110432f249df9e8082ce413d7fd0"
      }
     },
     "b207727a878f47b3af6973c93ee2eb4c": {
      "model_module": "@jupyter-widgets/controls",
      "model_module_version": "1.5.0",
      "model_name": "ButtonStyleModel",
      "state": {}
     },
     "b300542af9104775b482d56ce57bc63f": {
      "model_module": "@jupyter-widgets/base",
      "model_module_version": "1.2.0",
      "model_name": "LayoutModel",
      "state": {
       "width": "auto"
      }
     },
     "b4e2e50559ae4400b580ef6be507062d": {
      "model_module": "@jupyter-widgets/base",
      "model_module_version": "1.2.0",
      "model_name": "LayoutModel",
      "state": {}
     },
     "b58cd585d609460984c82182430b1431": {
      "model_module": "@jupyter-widgets/base",
      "model_module_version": "1.2.0",
      "model_name": "LayoutModel",
      "state": {}
     },
     "b6a4e155f0f9477bae60bbc9ebb73499": {
      "model_module": "@jupyter-widgets/base",
      "model_module_version": "1.2.0",
      "model_name": "LayoutModel",
      "state": {}
     },
     "b70cf4bc8c2f43ea95a49c7c7b4f6279": {
      "model_module": "@jupyter-widgets/output",
      "model_module_version": "1.0.0",
      "model_name": "OutputModel",
      "state": {
       "layout": "IPY_MODEL_22beebb96ac049428c4adbe99076ca59",
       "outputs": [
        {
         "data": {
          "text/html": "<h3>New Sample</h3>",
          "text/plain": "<cassini.ipygui.WHTML at 0x2027450a198>"
         },
         "metadata": {},
         "output_type": "display_data"
        }
       ]
      }
     },
     "b758f8f7b5aa420da5d5107d067a14b5": {
      "model_module": "@jupyter-widgets/controls",
      "model_module_version": "1.5.0",
      "model_name": "TextareaModel",
      "state": {
       "description": "Motivation",
       "layout": "IPY_MODEL_3feeb18e010c43e0baffb4ef2e03fe28",
       "style": "IPY_MODEL_4e7f5f38d4b64cbcb1108ba7d37674d4"
      }
     },
     "b7df0eaa2ca3460994e8217566379926": {
      "model_module": "@jupyter-widgets/base",
      "model_module_version": "1.2.0",
      "model_name": "LayoutModel",
      "state": {
       "width": "auto"
      }
     },
     "ba94301e58404ae98b29438128717c79": {
      "model_module": "@jupyter-widgets/base",
      "model_module_version": "1.2.0",
      "model_name": "LayoutModel",
      "state": {
       "width": "auto"
      }
     },
     "bae9fbaccce04e83894d2b44159c006c": {
      "model_module": "@jupyter-widgets/output",
      "model_module_version": "1.0.0",
      "model_name": "OutputModel",
      "state": {
       "layout": "IPY_MODEL_dff28cfbd1b84a31921ebec16fe94351"
      }
     },
     "bc928b9247cb4384870caf26ace90f74": {
      "model_module": "@jupyter-widgets/base",
      "model_module_version": "1.2.0",
      "model_name": "LayoutModel",
      "state": {}
     },
     "bc992d025e8a497cb00001b2dbc1715c": {
      "model_module": "@jupyter-widgets/base",
      "model_module_version": "1.2.0",
      "model_name": "LayoutModel",
      "state": {}
     },
     "bf17d4fd776b4d4db22eb461b33292e2": {
      "model_module": "@jupyter-widgets/base",
      "model_module_version": "1.2.0",
      "model_name": "LayoutModel",
      "state": {
       "width": "auto"
      }
     },
     "bf7df0c8fd1e41b6876d2abaa5b758e6": {
      "model_module": "@jupyter-widgets/controls",
      "model_module_version": "1.5.0",
      "model_name": "DescriptionStyleModel",
      "state": {
       "description_width": "10%"
      }
     },
     "c21f2fdfb638460ab2d012229201beed": {
      "model_module": "@jupyter-widgets/output",
      "model_module_version": "1.0.0",
      "model_name": "OutputModel",
      "state": {
       "layout": "IPY_MODEL_bc992d025e8a497cb00001b2dbc1715c",
       "outputs": [
        {
         "data": {
          "text/html": "<h3>Motivation</h3>",
          "text/plain": "<cassini.ipygui.WHTML at 0x2026c19b898>"
         },
         "metadata": {},
         "output_type": "display_data"
        }
       ]
      }
     },
     "c32dc1c052a34aa583d34d56fbb7d28c": {
      "model_module": "@jupyter-widgets/base",
      "model_module_version": "1.2.0",
      "model_name": "LayoutModel",
      "state": {}
     },
     "c427b2d742ef42fa82733773df5d9c5a": {
      "model_module": "@jupyter-widgets/controls",
      "model_module_version": "1.5.0",
      "model_name": "ButtonStyleModel",
      "state": {}
     },
     "c4e5b41f3acd4df38f01c6144cd0d593": {
      "model_module": "@jupyter-widgets/controls",
      "model_module_version": "1.5.0",
      "model_name": "ButtonModel",
      "state": {
       "description": "New",
       "layout": "IPY_MODEL_9e4f609144974f36aa15febef6795a0c",
       "style": "IPY_MODEL_38ba1318f73842b086ee05bc3df575c4"
      }
     },
     "c5936f2b337f43fb97b12d50f7662730": {
      "model_module": "@jupyter-widgets/base",
      "model_module_version": "1.2.0",
      "model_name": "LayoutModel",
      "state": {}
     },
     "c5de47dba2ce4c53ab2b8418cb9e7636": {
      "model_module": "@jupyter-widgets/controls",
      "model_module_version": "1.5.0",
      "model_name": "DescriptionStyleModel",
      "state": {
       "description_width": "10%"
      }
     },
     "c699338946504420a7a41dffce8ed63f": {
      "model_module": "@jupyter-widgets/base",
      "model_module_version": "1.2.0",
      "model_name": "LayoutModel",
      "state": {
       "width": "auto"
      }
     },
     "c8b4811a42e549fd92f6d00a6a0057e3": {
      "model_module": "@jupyter-widgets/output",
      "model_module_version": "1.0.0",
      "model_name": "OutputModel",
      "state": {
       "layout": "IPY_MODEL_5aa10e89f9794f1b98b6b8ed39f3c42e",
       "outputs": [
        {
         "name": "stdout",
         "output_type": "stream",
         "text": "Creating files for WP4.2c\nMeta (D:\\Documents\\Programin\\WorkingVersions\\cassini\\dev\\examples\\default\\WorkPackages\\WP4\\WP4.2\\.smpls\\WP4.2c.json)\nWriting Meta Data\nSuccess\nCreating Tier File (D:\\Documents\\Programin\\WorkingVersions\\cassini\\dev\\examples\\default\\WorkPackages\\WP4\\WP4.2\\WP4.2c.ipynb) using template (Sample\\Sample.tmplt.ipynb)\nSuccess\nCreating Tier Folder (D:\\Documents\\Programin\\WorkingVersions\\cassini\\dev\\examples\\default\\WorkPackages\\WP4\\WP4.2)\nSuccess\nAll Done\n"
        },
        {
         "data": {
          "application/vnd.jupyter.widget-view+json": {
           "model_id": "1f1ab9cab8a840fda3ea8268196496b1",
           "version_major": 2,
           "version_minor": 0
          },
          "text/plain": "Output()"
         },
         "metadata": {},
         "output_type": "display_data"
        }
       ]
      }
     },
     "c8d23889889e4901bc4c9c304bed5c8b": {
      "model_module": "@jupyter-widgets/base",
      "model_module_version": "1.2.0",
      "model_name": "LayoutModel",
      "state": {}
     },
     "c8db569d891044419fe50da306d2ad20": {
      "model_module": "@jupyter-widgets/base",
      "model_module_version": "1.2.0",
      "model_name": "LayoutModel",
      "state": {
       "width": "auto"
      }
     },
     "c96aca26396342c792002ac349988c8d": {
      "model_module": "@jupyter-widgets/controls",
      "model_module_version": "1.5.0",
      "model_name": "HBoxModel",
      "state": {
       "children": [
        "IPY_MODEL_80e1d34d53dc495c8820b88967a8654c",
        "IPY_MODEL_0165130e72fb4932b52df91c01b89490"
       ],
       "layout": "IPY_MODEL_c8d23889889e4901bc4c9c304bed5c8b"
      }
     },
     "ca4cd18998ca44a296b528518ddc99f2": {
      "model_module": "@jupyter-widgets/controls",
      "model_module_version": "1.5.0",
      "model_name": "DescriptionStyleModel",
      "state": {
       "description_width": "10%"
      }
     },
     "ca8d7aaa70874bdeb2a0d8b9a8d3c75a": {
      "model_module": "@jupyter-widgets/output",
      "model_module_version": "1.0.0",
      "model_name": "OutputModel",
      "state": {
       "layout": "IPY_MODEL_4fa6ac350d7d4477b54774ae556b3080",
       "outputs": [
        {
         "data": {
          "text/markdown": "Slightly smaller aim.",
          "text/plain": "<IPython.core.display.Markdown object>"
         },
         "metadata": {},
         "output_type": "display_data"
        }
       ]
      }
     },
     "cab2c4793b494b3999efeddf512cefc1": {
      "model_module": "@jupyter-widgets/controls",
      "model_module_version": "1.5.0",
      "model_name": "SelectMultipleModel",
      "state": {
       "_options_labels": [
        "WP4.2c"
       ],
       "description": "Auto Add",
       "index": [],
       "layout": "IPY_MODEL_e577820206e2424ba68b0bec6aaea2c4",
       "rows": 5,
       "style": "IPY_MODEL_c5de47dba2ce4c53ab2b8418cb9e7636"
      }
     },
     "cb5b6cc8133d4d7e9631038b9aeba8cc": {
      "model_module": "@jupyter-widgets/output",
      "model_module_version": "1.0.0",
      "model_name": "OutputModel",
      "state": {
       "layout": "IPY_MODEL_555b382405584aa78e4b40298982d470",
       "outputs": [
        {
         "data": {
          "text/html": "<h1 style=\"display: inline;\"><a href=\"WP4.2.ipynb\">WP4.2</a></h1><h3 style=\"display: inline;\">(<a href=\"../../Home.ipynb\" target=\"_blank\">Home</a>-><a href=\"../WP4.ipynb\" target=\"_blank\">WP4</a>)</h3>",
          "text/plain": "<cassini.ipygui.WHTML at 0x202744c49b0>"
         },
         "metadata": {},
         "output_type": "display_data"
        }
       ]
      }
     },
     "ccdb474b66904aee88bbbe0623cf1ac3": {
      "model_module": "@jupyter-widgets/controls",
      "model_module_version": "1.5.0",
      "model_name": "ButtonStyleModel",
      "state": {}
     },
     "ccf969fbbb844a54ad3fabbc9b0077b7": {
      "model_module": "@jupyter-widgets/controls",
      "model_module_version": "1.5.0",
      "model_name": "TextModel",
      "state": {
       "description": "Name:",
       "layout": "IPY_MODEL_ba94301e58404ae98b29438128717c79",
       "placeholder": "e.g. XRD",
       "style": "IPY_MODEL_75c7eabf3c344eb498a7319770dd223a"
      }
     },
     "cd69f0f462b94a4ea165f46621d94aa1": {
      "model_module": "@jupyter-widgets/output",
      "model_module_version": "1.0.0",
      "model_name": "OutputModel",
      "state": {
       "layout": "IPY_MODEL_c699338946504420a7a41dffce8ed63f"
      }
     },
     "cf405785ecd8414f9f64daed1988ebb5": {
      "model_module": "@jupyter-widgets/base",
      "model_module_version": "1.2.0",
      "model_name": "LayoutModel",
      "state": {}
     },
     "d003c19eecf8472aaace041f853517de": {
      "model_module": "@jupyter-widgets/base",
      "model_module_version": "1.2.0",
      "model_name": "LayoutModel",
      "state": {}
     },
     "d014cbb092b14354b3181c3d5985be6f": {
      "model_module": "@jupyter-widgets/base",
      "model_module_version": "1.2.0",
      "model_name": "LayoutModel",
      "state": {}
     },
     "d0ef815cc4674c64a71c71c47a32387b": {
      "model_module": "@jupyter-widgets/output",
      "model_module_version": "1.0.0",
      "model_name": "OutputModel",
      "state": {
       "layout": "IPY_MODEL_32c216d1cb0649f881f8d4681fc842df",
       "outputs": [
        {
         "data": {
          "text/html": "<h1 style=\"display: inline;\"><a href=\"WP4.2.ipynb\">WP4.2</a></h1><h3 style=\"display: inline;\">(<a href=\"../../Home.ipynb\" target=\"_blank\">Home</a>-><a href=\"../WP4.ipynb\" target=\"_blank\">WP4</a>)</h3>",
          "text/plain": "<cassini.ipygui.WHTML at 0x202745fc208>"
         },
         "metadata": {},
         "output_type": "display_data"
        }
       ]
      }
     },
     "d142419af1ae4d7994daa240dc91dd8c": {
      "model_module": "@jupyter-widgets/controls",
      "model_module_version": "1.5.0",
      "model_name": "TextModel",
      "state": {
       "description": "Name:",
       "layout": "IPY_MODEL_523c5399b5da44eeb1d09907ecb1422f",
       "placeholder": "e.g. XRD",
       "style": "IPY_MODEL_600b914da0504c5fa195344fccc84fbe"
      }
     },
     "d3b3e19cd7974a569935a7bdd24e6bd5": {
      "model_module": "@jupyter-widgets/controls",
      "model_module_version": "1.5.0",
      "model_name": "ButtonModel",
      "state": {
       "description": "Folder",
       "layout": "IPY_MODEL_ea5523f990ff4275b9460e9dcd5aabc8",
       "style": "IPY_MODEL_12eacf8ebc1b426281e9c5397c539796"
      }
     },
     "d44eb85083db4b8f9970451a679fcac3": {
      "model_module": "@jupyter-widgets/base",
      "model_module_version": "1.2.0",
      "model_name": "LayoutModel",
      "state": {}
     },
     "d493090ea2d3443a858aad876d2f3df3": {
      "model_module": "@jupyter-widgets/controls",
      "model_module_version": "1.5.0",
      "model_name": "VBoxModel",
      "state": {
       "children": [
        "IPY_MODEL_6cea2a7f04ec42f78eb940b96f228691",
        "IPY_MODEL_cab2c4793b494b3999efeddf512cefc1",
        "IPY_MODEL_c96aca26396342c792002ac349988c8d",
        "IPY_MODEL_f5b1b84721d6467085b202372a47e4ce"
       ],
       "layout": "IPY_MODEL_df808aff79d143e3b8df465cdb53f764"
      }
     },
     "d7b74b273aa74566b9d934ea351741a6": {
      "model_module": "@jupyter-widgets/output",
      "model_module_version": "1.0.0",
      "model_name": "OutputModel",
      "state": {
       "layout": "IPY_MODEL_494b9360e7984a9d85a9cc3ab7720ba7"
      }
     },
     "d8ed2901687d40d7870d98775c260555": {
      "model_module": "@jupyter-widgets/controls",
      "model_module_version": "1.5.0",
      "model_name": "TextModel",
      "state": {
       "description": "Name:",
       "layout": "IPY_MODEL_e9b964cd56de48edaecf1fef4025b041",
       "placeholder": "e.g. XRD",
       "style": "IPY_MODEL_57567949c2b74fc89fa3aa3b4aba5634"
      }
     },
     "db65909a9bfa4bdaba38c371e4a17ed5": {
      "model_module": "@jupyter-widgets/base",
      "model_module_version": "1.2.0",
      "model_name": "LayoutModel",
      "state": {}
     },
     "dc7a61e707a94c54abc5abd28dee10a8": {
      "model_module": "@jupyter-widgets/base",
      "model_module_version": "1.2.0",
      "model_name": "LayoutModel",
      "state": {}
     },
     "df808aff79d143e3b8df465cdb53f764": {
      "model_module": "@jupyter-widgets/base",
      "model_module_version": "1.2.0",
      "model_name": "LayoutModel",
      "state": {}
     },
     "dfd961480b6d42c2978d9ff400f58b0f": {
      "model_module": "@jupyter-widgets/controls",
      "model_module_version": "1.5.0",
      "model_name": "VBoxModel",
      "state": {
       "children": [
        "IPY_MODEL_27a2d2eab2444b1db2ceef39a1b16117",
        "IPY_MODEL_27845ca9eb3c4d5b97649b4fc05bcfbf"
       ],
       "layout": "IPY_MODEL_2fbc7d85c00442a39c69cf293d1d88d6"
      }
     },
     "dff28cfbd1b84a31921ebec16fe94351": {
      "model_module": "@jupyter-widgets/base",
      "model_module_version": "1.2.0",
      "model_name": "LayoutModel",
      "state": {}
     },
     "e30ce8f24e8d4b0590e103a001742e8b": {
      "model_module": "@jupyter-widgets/controls",
      "model_module_version": "1.5.0",
      "model_name": "HBoxModel",
      "state": {
       "children": [
        "IPY_MODEL_3a0478fc35804bc98a3f9c61801005a9",
        "IPY_MODEL_2a1802db80384fab80320ed1e8ce6d05"
       ],
       "layout": "IPY_MODEL_65dfeeeae87143228ea11e79111831e4"
      }
     },
     "e374d2627c7f4348b0026f73af3a28ec": {
      "model_module": "@jupyter-widgets/controls",
      "model_module_version": "1.5.0",
      "model_name": "VBoxModel",
      "state": {
       "children": [
        "IPY_MODEL_63ba965b2d464732af0496c69d020fe8",
        "IPY_MODEL_5153787f3ed24108bbffc986e2594d19",
        "IPY_MODEL_ca8d7aaa70874bdeb2a0d8b9a8d3c75a",
        "IPY_MODEL_ed0cc16204904797bdd02b7145b1e50e",
        "IPY_MODEL_27597e2c6e79440ca8703cd7082e782e",
        "IPY_MODEL_e50428cdb98d4e00bb047a76755ed85e",
        "IPY_MODEL_8cd5b1c547fa4a31915018a9d43e28b1",
        "IPY_MODEL_89729abc59fd49a99aaec92c749d0350",
        "IPY_MODEL_47080ddd63ff4a6daef888145efc4435"
       ],
       "layout": "IPY_MODEL_2825dc45b45e411993e77fa4778254bd"
      }
     },
     "e3ada086d4ba4735a057df9c00ef674d": {
      "model_module": "@jupyter-widgets/base",
      "model_module_version": "1.2.0",
      "model_name": "LayoutModel",
      "state": {}
     },
     "e3f658b550004145bd4970b0732cad2d": {
      "model_module": "@jupyter-widgets/base",
      "model_module_version": "1.2.0",
      "model_name": "LayoutModel",
      "state": {}
     },
     "e50428cdb98d4e00bb047a76755ed85e": {
      "model_module": "@jupyter-widgets/output",
      "model_module_version": "1.0.0",
      "model_name": "OutputModel",
      "state": {
       "layout": "IPY_MODEL_b6a4e155f0f9477bae60bbc9ebb73499",
       "outputs": [
        {
         "data": {
          "text/html": "<h3>New Sample</h3>",
          "text/plain": "<cassini.ipygui.WHTML at 0x202745e5080>"
         },
         "metadata": {},
         "output_type": "display_data"
        }
       ]
      }
     },
     "e577820206e2424ba68b0bec6aaea2c4": {
      "model_module": "@jupyter-widgets/base",
      "model_module_version": "1.2.0",
      "model_name": "LayoutModel",
      "state": {
       "width": "auto"
      }
     },
     "e9b964cd56de48edaecf1fef4025b041": {
      "model_module": "@jupyter-widgets/base",
      "model_module_version": "1.2.0",
      "model_name": "LayoutModel",
      "state": {
       "width": "auto"
      }
     },
     "e9d7540a8a5f4bf590e55bdc3b2b372e": {
      "model_module": "@jupyter-widgets/base",
      "model_module_version": "1.2.0",
      "model_name": "LayoutModel",
      "state": {}
     },
     "ea09e9dd42d345e9a8db310f5b7e60bc": {
      "model_module": "@jupyter-widgets/output",
      "model_module_version": "1.0.0",
      "model_name": "OutputModel",
      "state": {
       "layout": "IPY_MODEL_47226a5fa6764c9cb968df07d15e3573"
      }
     },
     "ea5523f990ff4275b9460e9dcd5aabc8": {
      "model_module": "@jupyter-widgets/base",
      "model_module_version": "1.2.0",
      "model_name": "LayoutModel",
      "state": {}
     },
     "ea89f60cddf24ca0be714d8d0d1c65dc": {
      "model_module": "@jupyter-widgets/base",
      "model_module_version": "1.2.0",
      "model_name": "LayoutModel",
      "state": {}
     },
     "ed0cc16204904797bdd02b7145b1e50e": {
      "model_module": "@jupyter-widgets/output",
      "model_module_version": "1.0.0",
      "model_name": "OutputModel",
      "state": {
       "layout": "IPY_MODEL_9947416dcbc04213846fec91b48b759f",
       "outputs": [
        {
         "data": {
          "text/html": "<h3>Samples</h3>",
          "text/plain": "<cassini.ipygui.WHTML at 0x20274546400>"
         },
         "metadata": {},
         "output_type": "display_data"
        }
       ]
      }
     },
     "ed4d946288ce47b79735977f7935f394": {
      "model_module": "@jupyter-widgets/base",
      "model_module_version": "1.2.0",
      "model_name": "LayoutModel",
      "state": {}
     },
     "f00cd2bbd197487fbe163cdc7f57f49b": {
      "model_module": "@jupyter-widgets/output",
      "model_module_version": "1.0.0",
      "model_name": "OutputModel",
      "state": {
       "layout": "IPY_MODEL_12ee378bd8d74cc397949e5073d493a0",
       "outputs": [
        {
         "data": {
          "text/html": "<h3>New Sample</h3>",
          "text/plain": "<cassini.ipygui.WHTML at 0x20274555ba8>"
         },
         "metadata": {},
         "output_type": "display_data"
        }
       ]
      }
     },
     "f2c1353b504e447abe469e35ed85e1cf": {
      "model_module": "@jupyter-widgets/base",
      "model_module_version": "1.2.0",
      "model_name": "LayoutModel",
      "state": {}
     },
     "f59a30d59e2c49e890e47b11fb107fb8": {
      "model_module": "@jupyter-widgets/output",
      "model_module_version": "1.0.0",
      "model_name": "OutputModel",
      "state": {
       "layout": "IPY_MODEL_60559a1a88dd4dfc985953252960a91f",
       "outputs": [
        {
         "data": {
          "text/html": "<table border=\"1\" class=\"dataframe\">\n  <thead>\n    <tr style=\"text-align: right;\">\n      <th></th>\n    </tr>\n  </thead>\n  <tbody>\n  </tbody>\n</table>",
          "text/plain": "Empty UnescapedDataFrame\nColumns: []\nIndex: []"
         },
         "metadata": {},
         "output_type": "display_data"
        }
       ]
      }
     },
     "f5b1b84721d6467085b202372a47e4ce": {
      "model_module": "@jupyter-widgets/output",
      "model_module_version": "1.0.0",
      "model_name": "OutputModel",
      "state": {
       "layout": "IPY_MODEL_164dbf6163524d4fb652a1bddd7c6375"
      }
     },
     "f62ed7ecf0314cd8b2381d819e10d247": {
      "model_module": "@jupyter-widgets/controls",
      "model_module_version": "1.5.0",
      "model_name": "TextModel",
      "state": {
       "description": "Identifier",
       "disabled": true,
       "layout": "IPY_MODEL_ae3f79cf61d54508893bfb1c14e36cca",
       "placeholder": "([^0-9^-][^-]*)",
       "style": "IPY_MODEL_bf7df0c8fd1e41b6876d2abaa5b758e6",
       "value": "c"
      }
     },
     "f77d1c0105ba43e3a2095ae1f708bbad": {
      "model_module": "@jupyter-widgets/base",
      "model_module_version": "1.2.0",
      "model_name": "LayoutModel",
      "state": {
       "width": "auto"
      }
     },
     "f82c8f82245e4810982fdb0b7a43c206": {
      "model_module": "@jupyter-widgets/controls",
      "model_module_version": "1.5.0",
      "model_name": "ButtonStyleModel",
      "state": {}
     },
     "f8c0a750f90e493ea7b06433c94f2820": {
      "model_module": "@jupyter-widgets/base",
      "model_module_version": "1.2.0",
      "model_name": "LayoutModel",
      "state": {}
     },
     "fb2d188f34064c94bb55e9d7ed2fa566": {
      "model_module": "@jupyter-widgets/controls",
      "model_module_version": "1.5.0",
      "model_name": "ButtonStyleModel",
      "state": {}
     },
     "fbf3559e5cf340e4a32d8258662fb6a5": {
      "model_module": "@jupyter-widgets/controls",
      "model_module_version": "1.5.0",
      "model_name": "VBoxModel",
      "state": {
       "children": [
        "IPY_MODEL_8fa695fdab5e4c53ba20c56e2b23f1d9",
        "IPY_MODEL_c21f2fdfb638460ab2d012229201beed",
        "IPY_MODEL_1fd43e4bf8e5479c830e6f9bf6087796",
        "IPY_MODEL_58b807718c3c476daf87b71e58a56b20",
        "IPY_MODEL_409404dde62e4ad1923d7eb1371ca767",
        "IPY_MODEL_1ab91506936840398f969426856d720d",
        "IPY_MODEL_84d30f5a0f8b4d47a10174dde7f7f183",
        "IPY_MODEL_7d275c60690a419aa1dabffe3227dd79",
        "IPY_MODEL_d493090ea2d3443a858aad876d2f3df3"
       ],
       "layout": "IPY_MODEL_5e6f4092029849c08beff0c93b600e5d"
      }
     },
     "fcce74997bdb4b88be56e1aa163064c0": {
      "model_module": "@jupyter-widgets/base",
      "model_module_version": "1.2.0",
      "model_name": "LayoutModel",
      "state": {}
     },
     "ff4aa746478d4910a505249aeead8be9": {
      "model_module": "@jupyter-widgets/base",
      "model_module_version": "1.2.0",
      "model_name": "LayoutModel",
      "state": {}
     },
     "ffcf637a0de647b2b043e1068bfd256c": {
      "model_module": "@jupyter-widgets/controls",
      "model_module_version": "1.5.0",
      "model_name": "HBoxModel",
      "state": {
       "children": [
        "IPY_MODEL_a753c17d5c8c4796a117e096c5288fbb",
        "IPY_MODEL_2104898c927246d7b6b71618a16064e2"
       ],
       "layout": "IPY_MODEL_7385a084ca034166994070be7ff00f30"
      }
     }
    },
    "version_major": 2,
    "version_minor": 0
   }
  }
 },
 "nbformat": 4,
 "nbformat_minor": 4
}
