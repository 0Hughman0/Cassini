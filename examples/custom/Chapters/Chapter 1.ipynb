{
 "cells": [
  {
   "cell_type": "code",
   "execution_count": 5,
   "metadata": {
    "pycharm": {
     "name": "#%%\n"
    }
   },
   "outputs": [
    {
     "data": {
      "application/vnd.jupyter.widget-view+json": {
       "model_id": "df58a71b1c7d4fa09a936bb793e9a8cb",
       "version_major": 2,
       "version_minor": 0
      },
      "text/plain": [
       "VBox(children=(VBox(children=(Output(), Button(description='Folder', style=ButtonStyle()))), Output(), Output(…"
      ]
     },
     "metadata": {},
     "output_type": "display_data"
    }
   ],
   "source": [
    "from my_project import project\n",
    "\n",
    "chptr = project.env('Chapter 1')\n",
    "chptr.gui.header()"
   ]
  },
  {
   "cell_type": "code",
   "execution_count": null,
   "metadata": {},
   "outputs": [],
   "source": []
  },
  {
   "cell_type": "code",
   "execution_count": null,
   "metadata": {},
   "outputs": [],
   "source": []
  }
 ],
 "metadata": {
  "kernelspec": {
   "display_name": "Python 3",
   "language": "python",
   "name": "python3"
  },
  "language_info": {
   "codemirror_mode": {
    "name": "ipython",
    "version": 3
   },
   "file_extension": ".py",
   "mimetype": "text/x-python",
   "name": "python",
   "nbconvert_exporter": "python",
   "pygments_lexer": "ipython3",
   "version": "3.7.2"
  },
  "pycharm": {
   "stem_cell": {
    "cell_type": "raw",
    "metadata": {
     "collapsed": false
    },
    "source": []
   }
  },
  "widgets": {
   "application/vnd.jupyter.widget-state+json": {
    "state": {
     "03d3db0c2a744310ae7073dba2175b06": {
      "model_module": "@jupyter-widgets/controls",
      "model_module_version": "1.5.0",
      "model_name": "ButtonStyleModel",
      "state": {}
     },
     "03d93f4263a04a6e97212bf18e0e1d60": {
      "model_module": "@jupyter-widgets/output",
      "model_module_version": "1.0.0",
      "model_name": "OutputModel",
      "state": {
       "layout": "IPY_MODEL_eb46c03c58be408faee75e89df13c7a4",
       "outputs": [
        {
         "data": {
          "text/markdown": "An unexpected guest.",
          "text/plain": "<IPython.core.display.Markdown object>"
         },
         "metadata": {},
         "output_type": "display_data"
        }
       ]
      }
     },
     "0588f250d9424333ba4cc8178948a6c3": {
      "model_module": "@jupyter-widgets/output",
      "model_module_version": "1.0.0",
      "model_name": "OutputModel",
      "state": {
       "layout": "IPY_MODEL_e52570b2bf0149c1ae97714528280916",
       "outputs": [
        {
         "data": {
          "text/html": "<h3>Description</h3>",
          "text/plain": "<cassini.ipygui.WHTML at 0x28a104060b8>"
         },
         "metadata": {},
         "output_type": "display_data"
        }
       ]
      }
     },
     "08576affba3641b98a7444d0c4793d13": {
      "model_module": "@jupyter-widgets/controls",
      "model_module_version": "1.5.0",
      "model_name": "ButtonModel",
      "state": {
       "description": "New",
       "layout": "IPY_MODEL_dd5beec34e634a46aebe10756e4e4742",
       "style": "IPY_MODEL_03d3db0c2a744310ae7073dba2175b06"
      }
     },
     "09d30c4a45fa4600a67ff28986e2f110": {
      "model_module": "@jupyter-widgets/controls",
      "model_module_version": "1.5.0",
      "model_name": "DescriptionStyleModel",
      "state": {
       "description_width": "10%"
      }
     },
     "0b24b3ac8c534af2baf239446ced879e": {
      "model_module": "@jupyter-widgets/controls",
      "model_module_version": "1.5.0",
      "model_name": "TextModel",
      "state": {
       "description": "Identifier",
       "layout": "IPY_MODEL_af400e0546784db0bd16fa1406605bd3",
       "placeholder": "(\\d+)",
       "style": "IPY_MODEL_dfed355fcd8540ef809c9b2d30b402a5"
      }
     },
     "0da11845aad2488ca9fd6bbe6029971c": {
      "model_module": "@jupyter-widgets/base",
      "model_module_version": "1.2.0",
      "model_name": "LayoutModel",
      "state": {
       "width": "auto"
      }
     },
     "10040c0e3ab24c2483713d00ea135aee": {
      "model_module": "@jupyter-widgets/output",
      "model_module_version": "1.0.0",
      "model_name": "OutputModel",
      "state": {
       "layout": "IPY_MODEL_75ae0c48b0f746ca8b53c2d458f5be0c"
      }
     },
     "1022f66e5c7c4e2faf7ddf72eb86c71e": {
      "model_module": "@jupyter-widgets/base",
      "model_module_version": "1.2.0",
      "model_name": "LayoutModel",
      "state": {}
     },
     "115cbe001b9b4dc798b9a9571d7b2bfc": {
      "model_module": "@jupyter-widgets/output",
      "model_module_version": "1.0.0",
      "model_name": "OutputModel",
      "state": {
       "layout": "IPY_MODEL_b1dbf3943d114e86b50aad197d462535",
       "outputs": [
        {
         "data": {
          "text/html": "<h3>Description</h3>",
          "text/plain": "<cassini.ipygui.WHTML at 0x28a104be588>"
         },
         "metadata": {},
         "output_type": "display_data"
        }
       ]
      }
     },
     "11eb128c4f1848ba8052f919535a152a": {
      "model_module": "@jupyter-widgets/base",
      "model_module_version": "1.2.0",
      "model_name": "LayoutModel",
      "state": {
       "width": "auto"
      }
     },
     "1353e68e3d1846969bdd12421972ce40": {
      "model_module": "@jupyter-widgets/base",
      "model_module_version": "1.2.0",
      "model_name": "LayoutModel",
      "state": {}
     },
     "16397e4314d546378892c7b37a15ab91": {
      "model_module": "@jupyter-widgets/base",
      "model_module_version": "1.2.0",
      "model_name": "LayoutModel",
      "state": {}
     },
     "180d634546a04d22b8bbdcc45470af42": {
      "model_module": "@jupyter-widgets/controls",
      "model_module_version": "1.5.0",
      "model_name": "ButtonModel",
      "state": {
       "description": "Confirm",
       "disabled": true,
       "layout": "IPY_MODEL_4bd8bf1773e14ef98c34f68d03a2fcae",
       "style": "IPY_MODEL_d590cff4ed4842aabab0029f4cd0dc9d"
      }
     },
     "207f61013a934de087fa1d47ccbf0ea4": {
      "model_module": "@jupyter-widgets/base",
      "model_module_version": "1.2.0",
      "model_name": "LayoutModel",
      "state": {}
     },
     "25392ca3991647e49c808dc4a9a427cf": {
      "model_module": "@jupyter-widgets/controls",
      "model_module_version": "1.5.0",
      "model_name": "ButtonStyleModel",
      "state": {}
     },
     "277dac37b9df4d0ca108c0eaf7c720c4": {
      "model_module": "@jupyter-widgets/controls",
      "model_module_version": "1.5.0",
      "model_name": "TextModel",
      "state": {
       "description": "Identifier",
       "layout": "IPY_MODEL_0da11845aad2488ca9fd6bbe6029971c",
       "placeholder": "(\\d+)",
       "style": "IPY_MODEL_9ed2024e12ba461f8766d84935ce0c68"
      }
     },
     "2b6c7a5a084944c79db598d78a68420e": {
      "model_module": "@jupyter-widgets/base",
      "model_module_version": "1.2.0",
      "model_name": "LayoutModel",
      "state": {
       "width": "auto"
      }
     },
     "3008e324883646f497556c0a9cb75e2d": {
      "model_module": "@jupyter-widgets/controls",
      "model_module_version": "1.5.0",
      "model_name": "DescriptionStyleModel",
      "state": {
       "description_width": "10%"
      }
     },
     "30b1e437648c454b8df438571e17a0dd": {
      "model_module": "@jupyter-widgets/controls",
      "model_module_version": "1.5.0",
      "model_name": "SelectModel",
      "state": {
       "_options_labels": [
        "Page.tmplt.ipynb"
       ],
       "description": "Template",
       "index": 0,
       "layout": "IPY_MODEL_fd65ffbde0c14db092b7f4f034d249a7",
       "style": "IPY_MODEL_3008e324883646f497556c0a9cb75e2d"
      }
     },
     "3569cce57a6e40afb0cb88ca7180ec16": {
      "model_module": "@jupyter-widgets/output",
      "model_module_version": "1.0.0",
      "model_name": "OutputModel",
      "state": {
       "layout": "IPY_MODEL_fffed305133e477fae29de31d0a2e958",
       "outputs": [
        {
         "data": {
          "text/html": "<h3>New Page</h3>",
          "text/plain": "<cassini.ipygui.WHTML at 0x28a0d8404a8>"
         },
         "metadata": {},
         "output_type": "display_data"
        }
       ]
      }
     },
     "37158c60217e437bacce289d40c756ad": {
      "model_module": "@jupyter-widgets/controls",
      "model_module_version": "1.5.0",
      "model_name": "DescriptionStyleModel",
      "state": {
       "description_width": "10%"
      }
     },
     "383f7d7bccf74b6c947695b12a4b3ccd": {
      "model_module": "@jupyter-widgets/controls",
      "model_module_version": "1.5.0",
      "model_name": "TextareaModel",
      "state": {
       "description": "Motivation",
       "layout": "IPY_MODEL_11eb128c4f1848ba8052f919535a152a",
       "style": "IPY_MODEL_09d30c4a45fa4600a67ff28986e2f110"
      }
     },
     "413b2722f6b34c289880560f735d182f": {
      "model_module": "@jupyter-widgets/base",
      "model_module_version": "1.2.0",
      "model_name": "LayoutModel",
      "state": {}
     },
     "4146ac6e8d4341b9a57d4786ccbdf932": {
      "model_module": "@jupyter-widgets/controls",
      "model_module_version": "1.5.0",
      "model_name": "VBoxModel",
      "state": {
       "children": [
        "IPY_MODEL_9fad417374944e4ba3cd8b41eddd5897",
        "IPY_MODEL_78041840818c49f49cf8cbf8a8d963c6"
       ],
       "layout": "IPY_MODEL_a7ab4b948fe74878bacc27408ce6e022"
      }
     },
     "4bd8bf1773e14ef98c34f68d03a2fcae": {
      "model_module": "@jupyter-widgets/base",
      "model_module_version": "1.2.0",
      "model_name": "LayoutModel",
      "state": {}
     },
     "4d5e1e222e604f3dbe916edff9456079": {
      "model_module": "@jupyter-widgets/base",
      "model_module_version": "1.2.0",
      "model_name": "LayoutModel",
      "state": {}
     },
     "4f300216da5748f4b34c9cff4ee8403e": {
      "model_module": "@jupyter-widgets/base",
      "model_module_version": "1.2.0",
      "model_name": "LayoutModel",
      "state": {}
     },
     "4f86db6d1dcc4ab09935341ad2cc72a0": {
      "model_module": "@jupyter-widgets/output",
      "model_module_version": "1.0.0",
      "model_name": "OutputModel",
      "state": {
       "layout": "IPY_MODEL_6f5e83afebca47db9ed9747457ee26b1",
       "outputs": [
        {
         "data": {
          "text/markdown": "An unexpected guest.",
          "text/plain": "<IPython.core.display.Markdown object>"
         },
         "metadata": {},
         "output_type": "display_data"
        }
       ]
      }
     },
     "536144b912f74298aaa39b716d456523": {
      "model_module": "@jupyter-widgets/controls",
      "model_module_version": "1.5.0",
      "model_name": "SelectModel",
      "state": {
       "_options_labels": [
        "Page.tmplt.ipynb"
       ],
       "description": "Template",
       "index": 0,
       "layout": "IPY_MODEL_c0d966867d934f4aa9582fd07f1ddada",
       "style": "IPY_MODEL_37158c60217e437bacce289d40c756ad"
      }
     },
     "53d287d76003497ca85ee64326b890b6": {
      "model_module": "@jupyter-widgets/controls",
      "model_module_version": "1.5.0",
      "model_name": "ButtonModel",
      "state": {
       "description": "New",
       "layout": "IPY_MODEL_1022f66e5c7c4e2faf7ddf72eb86c71e",
       "style": "IPY_MODEL_a0c4b8b1f84f45269f9f9e8b64dbe5de"
      }
     },
     "56424a93cafd45db80d6569bf11e547a": {
      "model_module": "@jupyter-widgets/output",
      "model_module_version": "1.0.0",
      "model_name": "OutputModel",
      "state": {
       "layout": "IPY_MODEL_56618308274e4330a01d316706d1d91e"
      }
     },
     "56618308274e4330a01d316706d1d91e": {
      "model_module": "@jupyter-widgets/base",
      "model_module_version": "1.2.0",
      "model_name": "LayoutModel",
      "state": {}
     },
     "5c9a41ed6f434a70bf78cf57d36f4306": {
      "model_module": "@jupyter-widgets/controls",
      "model_module_version": "1.5.0",
      "model_name": "VBoxModel",
      "state": {
       "children": [
        "IPY_MODEL_277dac37b9df4d0ca108c0eaf7c720c4",
        "IPY_MODEL_536144b912f74298aaa39b716d456523",
        "IPY_MODEL_383f7d7bccf74b6c947695b12a4b3ccd",
        "IPY_MODEL_cc1019dcbbd34d5d9864762c2cee0807",
        "IPY_MODEL_77e742e8e25c4db883b8121cc5f93e10"
       ],
       "layout": "IPY_MODEL_a17a8b108ad64a10be42289560152ce8"
      }
     },
     "5cffb40f44a8410eb946b8683fb6a560": {
      "model_module": "@jupyter-widgets/base",
      "model_module_version": "1.2.0",
      "model_name": "LayoutModel",
      "state": {}
     },
     "62d74a44f46b426abec98a4441207c04": {
      "model_module": "@jupyter-widgets/base",
      "model_module_version": "1.2.0",
      "model_name": "LayoutModel",
      "state": {}
     },
     "66d53cfdc8c54f158473c3349f870735": {
      "model_module": "@jupyter-widgets/base",
      "model_module_version": "1.2.0",
      "model_name": "LayoutModel",
      "state": {
       "width": "auto"
      }
     },
     "6f5e83afebca47db9ed9747457ee26b1": {
      "model_module": "@jupyter-widgets/base",
      "model_module_version": "1.2.0",
      "model_name": "LayoutModel",
      "state": {}
     },
     "75ae0c48b0f746ca8b53c2d458f5be0c": {
      "model_module": "@jupyter-widgets/base",
      "model_module_version": "1.2.0",
      "model_name": "LayoutModel",
      "state": {
       "width": "auto"
      }
     },
     "77e742e8e25c4db883b8121cc5f93e10": {
      "model_module": "@jupyter-widgets/output",
      "model_module_version": "1.0.0",
      "model_name": "OutputModel",
      "state": {
       "layout": "IPY_MODEL_c5d5964c952b4215a61b9b12b47655bb"
      }
     },
     "78041840818c49f49cf8cbf8a8d963c6": {
      "model_module": "@jupyter-widgets/controls",
      "model_module_version": "1.5.0",
      "model_name": "ButtonModel",
      "state": {
       "description": "Folder",
       "layout": "IPY_MODEL_c35b036926ff4ebf84accb039bc5db0e",
       "style": "IPY_MODEL_25392ca3991647e49c808dc4a9a427cf"
      }
     },
     "807b7fc3ea2945a7991479e9d52aef55": {
      "model_module": "@jupyter-widgets/base",
      "model_module_version": "1.2.0",
      "model_name": "LayoutModel",
      "state": {}
     },
     "84da317b9d63457db0485992ec9c1b10": {
      "model_module": "@jupyter-widgets/base",
      "model_module_version": "1.2.0",
      "model_name": "LayoutModel",
      "state": {}
     },
     "8f09fe8711114fc8b15ca91c085ebee4": {
      "model_module": "@jupyter-widgets/base",
      "model_module_version": "1.2.0",
      "model_name": "LayoutModel",
      "state": {}
     },
     "8f6055e2fba34b119ea71914df241a43": {
      "model_module": "@jupyter-widgets/base",
      "model_module_version": "1.2.0",
      "model_name": "LayoutModel",
      "state": {}
     },
     "8f85537172904e2ea34e58ac3ab8bc62": {
      "model_module": "@jupyter-widgets/controls",
      "model_module_version": "1.5.0",
      "model_name": "VBoxModel",
      "state": {
       "children": [
        "IPY_MODEL_ebc880bcb209492d8bf5fdf9698ec396",
        "IPY_MODEL_fbb47980c7d64be5809db6ad3e11b364"
       ],
       "layout": "IPY_MODEL_c5328b6c0d6a4bf9aa779fba143eedc0"
      }
     },
     "9499ebddfe7441a88cd361bc3468798b": {
      "model_module": "@jupyter-widgets/base",
      "model_module_version": "1.2.0",
      "model_name": "LayoutModel",
      "state": {}
     },
     "9617e69211c24eb9a41f6b8e81060056": {
      "model_module": "@jupyter-widgets/controls",
      "model_module_version": "1.5.0",
      "model_name": "ButtonStyleModel",
      "state": {}
     },
     "968d6201e9c34347bc4a88269c3da308": {
      "model_module": "@jupyter-widgets/output",
      "model_module_version": "1.0.0",
      "model_name": "OutputModel",
      "state": {
       "layout": "IPY_MODEL_c0548c78656249a4b019f6f6a1d21bf8",
       "outputs": [
        {
         "data": {
          "text/html": "<h3>Pages</h3>",
          "text/plain": "<cassini.ipygui.WHTML at 0x28a1043f278>"
         },
         "metadata": {},
         "output_type": "display_data"
        }
       ]
      }
     },
     "9957a445af8043688f88bef84747122d": {
      "model_module": "@jupyter-widgets/output",
      "model_module_version": "1.0.0",
      "model_name": "OutputModel",
      "state": {
       "layout": "IPY_MODEL_4f300216da5748f4b34c9cff4ee8403e",
       "outputs": [
        {
         "data": {
          "text/html": "<table border=\"1\" class=\"dataframe\">\n  <thead>\n    <tr style=\"text-align: right;\">\n      <th></th>\n      <th>started</th>\n      <th>description</th>\n      <th>Obj</th>\n    </tr>\n    <tr>\n      <th>Name</th>\n      <th></th>\n      <th></th>\n      <th></th>\n    </tr>\n  </thead>\n  <tbody>\n    <tr>\n      <th>Chapter 1pg. 237</th>\n      <td>2020-06-29</td>\n      <td>Was it all a dream?</td>\n      <td><a href=\"Chapter 1/Chapter 1pg. 237.ipynb\" target=\"_blank\"><h3 style=\"display: inline;\">Chapter 1pg. 237</h3 style=\"display: inline;\"</a></td>\n    </tr>\n  </tbody>\n</table>",
          "text/plain": "                    started          description                        Obj\nName                                                                       \nChapter 1pg. 237 2020-06-29  Was it all a dream?  <Page \"Chapter 1pg. 237\">"
         },
         "metadata": {},
         "output_type": "display_data"
        }
       ]
      }
     },
     "9dab3d7231f741e1984f5b03a4ffab6a": {
      "model_module": "@jupyter-widgets/controls",
      "model_module_version": "1.5.0",
      "model_name": "VBoxModel",
      "state": {
       "children": [
        "IPY_MODEL_0b24b3ac8c534af2baf239446ced879e",
        "IPY_MODEL_30b1e437648c454b8df438571e17a0dd",
        "IPY_MODEL_9f8e9e2d1f4d4641a74abe469fa88233",
        "IPY_MODEL_f408e4725def4c2db9c192838c391a85",
        "IPY_MODEL_56424a93cafd45db80d6569bf11e547a"
       ],
       "layout": "IPY_MODEL_5cffb40f44a8410eb946b8683fb6a560"
      }
     },
     "9ed2024e12ba461f8766d84935ce0c68": {
      "model_module": "@jupyter-widgets/controls",
      "model_module_version": "1.5.0",
      "model_name": "DescriptionStyleModel",
      "state": {
       "description_width": "10%"
      }
     },
     "9f8e9e2d1f4d4641a74abe469fa88233": {
      "model_module": "@jupyter-widgets/controls",
      "model_module_version": "1.5.0",
      "model_name": "TextareaModel",
      "state": {
       "description": "Motivation",
       "layout": "IPY_MODEL_2b6c7a5a084944c79db598d78a68420e",
       "style": "IPY_MODEL_ff604d5fc8a1400487c9a66eb16490d9"
      }
     },
     "9fad417374944e4ba3cd8b41eddd5897": {
      "model_module": "@jupyter-widgets/output",
      "model_module_version": "1.0.0",
      "model_name": "OutputModel",
      "state": {
       "layout": "IPY_MODEL_62d74a44f46b426abec98a4441207c04",
       "outputs": [
        {
         "data": {
          "text/html": "<h1 style=\"display: inline;\"><a href=\"Chapter 1.ipynb\">Chapter 1</a></h1><h3 style=\"display: inline;\">(<a href=\"../Book.ipynb\" target=\"_blank\">Book</a>)</h3>",
          "text/plain": "<cassini.ipygui.WHTML at 0x28a104bea58>"
         },
         "metadata": {},
         "output_type": "display_data"
        }
       ]
      }
     },
     "a064dd12c7fb4903ad57d5c18cda63d5": {
      "model_module": "@jupyter-widgets/output",
      "model_module_version": "1.0.0",
      "model_name": "OutputModel",
      "state": {
       "layout": "IPY_MODEL_207f61013a934de087fa1d47ccbf0ea4",
       "outputs": [
        {
         "data": {
          "text/html": "<h3>Pages</h3>",
          "text/plain": "<cassini.ipygui.WHTML at 0x28a10406438>"
         },
         "metadata": {},
         "output_type": "display_data"
        }
       ]
      }
     },
     "a0c4b8b1f84f45269f9f9e8b64dbe5de": {
      "model_module": "@jupyter-widgets/controls",
      "model_module_version": "1.5.0",
      "model_name": "ButtonStyleModel",
      "state": {}
     },
     "a17a8b108ad64a10be42289560152ce8": {
      "model_module": "@jupyter-widgets/base",
      "model_module_version": "1.2.0",
      "model_name": "LayoutModel",
      "state": {}
     },
     "a7ab4b948fe74878bacc27408ce6e022": {
      "model_module": "@jupyter-widgets/base",
      "model_module_version": "1.2.0",
      "model_name": "LayoutModel",
      "state": {}
     },
     "af400e0546784db0bd16fa1406605bd3": {
      "model_module": "@jupyter-widgets/base",
      "model_module_version": "1.2.0",
      "model_name": "LayoutModel",
      "state": {
       "width": "auto"
      }
     },
     "b1dbf3943d114e86b50aad197d462535": {
      "model_module": "@jupyter-widgets/base",
      "model_module_version": "1.2.0",
      "model_name": "LayoutModel",
      "state": {}
     },
     "b61da9bed1e340a582d5df2bba6e95aa": {
      "model_module": "@jupyter-widgets/output",
      "model_module_version": "1.0.0",
      "model_name": "OutputModel",
      "state": {
       "layout": "IPY_MODEL_413b2722f6b34c289880560f735d182f",
       "outputs": [
        {
         "data": {
          "text/html": "<h3>New Page</h3>",
          "text/plain": "<cassini.ipygui.WHTML at 0x28a104a8f98>"
         },
         "metadata": {},
         "output_type": "display_data"
        }
       ]
      }
     },
     "b88b382fa76a481e9534d69630ded182": {
      "model_module": "@jupyter-widgets/output",
      "model_module_version": "1.0.0",
      "model_name": "OutputModel",
      "state": {
       "layout": "IPY_MODEL_8f09fe8711114fc8b15ca91c085ebee4",
       "outputs": [
        {
         "data": {
          "text/html": "<table border=\"1\" class=\"dataframe\">\n  <thead>\n    <tr style=\"text-align: right;\">\n      <th></th>\n      <th>started</th>\n      <th>description</th>\n      <th>Obj</th>\n    </tr>\n    <tr>\n      <th>Name</th>\n      <th></th>\n      <th></th>\n      <th></th>\n    </tr>\n  </thead>\n  <tbody>\n    <tr>\n      <th>Chapter 1pg. 237</th>\n      <td>2020-06-29</td>\n      <td>Was it all a dream?</td>\n      <td><a href=\"Chapter 1/Chapter 1pg. 237.ipynb\" target=\"_blank\"><h3 style=\"display: inline;\">Chapter 1pg. 237</h3 style=\"display: inline;\"</a></td>\n    </tr>\n  </tbody>\n</table>",
          "text/plain": "                    started          description                        Obj\nName                                                                       \nChapter 1pg. 237 2020-06-29  Was it all a dream?  <Page \"Chapter 1pg. 237\">"
         },
         "metadata": {},
         "output_type": "display_data"
        }
       ]
      }
     },
     "c0548c78656249a4b019f6f6a1d21bf8": {
      "model_module": "@jupyter-widgets/base",
      "model_module_version": "1.2.0",
      "model_name": "LayoutModel",
      "state": {}
     },
     "c0d966867d934f4aa9582fd07f1ddada": {
      "model_module": "@jupyter-widgets/base",
      "model_module_version": "1.2.0",
      "model_name": "LayoutModel",
      "state": {
       "width": "auto"
      }
     },
     "c35b036926ff4ebf84accb039bc5db0e": {
      "model_module": "@jupyter-widgets/base",
      "model_module_version": "1.2.0",
      "model_name": "LayoutModel",
      "state": {}
     },
     "c5328b6c0d6a4bf9aa779fba143eedc0": {
      "model_module": "@jupyter-widgets/base",
      "model_module_version": "1.2.0",
      "model_name": "LayoutModel",
      "state": {}
     },
     "c5d5964c952b4215a61b9b12b47655bb": {
      "model_module": "@jupyter-widgets/base",
      "model_module_version": "1.2.0",
      "model_name": "LayoutModel",
      "state": {}
     },
     "cc1019dcbbd34d5d9864762c2cee0807": {
      "model_module": "@jupyter-widgets/controls",
      "model_module_version": "1.5.0",
      "model_name": "HBoxModel",
      "state": {
       "children": [
        "IPY_MODEL_ea08aa7bb39a4207bd54c3df38b860a3",
        "IPY_MODEL_08576affba3641b98a7444d0c4793d13"
       ],
       "layout": "IPY_MODEL_807b7fc3ea2945a7991479e9d52aef55"
      }
     },
     "ce37ffa0bf204f1795b1d413d53c2b65": {
      "model_module": "@jupyter-widgets/controls",
      "model_module_version": "1.5.0",
      "model_name": "ButtonStyleModel",
      "state": {}
     },
     "d590cff4ed4842aabab0029f4cd0dc9d": {
      "model_module": "@jupyter-widgets/controls",
      "model_module_version": "1.5.0",
      "model_name": "ButtonStyleModel",
      "state": {}
     },
     "dd5beec34e634a46aebe10756e4e4742": {
      "model_module": "@jupyter-widgets/base",
      "model_module_version": "1.2.0",
      "model_name": "LayoutModel",
      "state": {}
     },
     "df58a71b1c7d4fa09a936bb793e9a8cb": {
      "model_module": "@jupyter-widgets/controls",
      "model_module_version": "1.5.0",
      "model_name": "VBoxModel",
      "state": {
       "children": [
        "IPY_MODEL_4146ac6e8d4341b9a57d4786ccbdf932",
        "IPY_MODEL_115cbe001b9b4dc798b9a9571d7b2bfc",
        "IPY_MODEL_4f86db6d1dcc4ab09935341ad2cc72a0",
        "IPY_MODEL_968d6201e9c34347bc4a88269c3da308",
        "IPY_MODEL_b88b382fa76a481e9534d69630ded182",
        "IPY_MODEL_3569cce57a6e40afb0cb88ca7180ec16",
        "IPY_MODEL_9dab3d7231f741e1984f5b03a4ffab6a"
       ],
       "layout": "IPY_MODEL_4d5e1e222e604f3dbe916edff9456079"
      }
     },
     "dfed355fcd8540ef809c9b2d30b402a5": {
      "model_module": "@jupyter-widgets/controls",
      "model_module_version": "1.5.0",
      "model_name": "DescriptionStyleModel",
      "state": {
       "description_width": "10%"
      }
     },
     "e0a69fcb77cf41e8ae7490a4a344f4ad": {
      "model_module": "@jupyter-widgets/controls",
      "model_module_version": "1.5.0",
      "model_name": "VBoxModel",
      "state": {
       "children": [
        "IPY_MODEL_8f85537172904e2ea34e58ac3ab8bc62",
        "IPY_MODEL_0588f250d9424333ba4cc8178948a6c3",
        "IPY_MODEL_03d93f4263a04a6e97212bf18e0e1d60",
        "IPY_MODEL_a064dd12c7fb4903ad57d5c18cda63d5",
        "IPY_MODEL_9957a445af8043688f88bef84747122d",
        "IPY_MODEL_b61da9bed1e340a582d5df2bba6e95aa",
        "IPY_MODEL_5c9a41ed6f434a70bf78cf57d36f4306"
       ],
       "layout": "IPY_MODEL_84da317b9d63457db0485992ec9c1b10"
      }
     },
     "e52570b2bf0149c1ae97714528280916": {
      "model_module": "@jupyter-widgets/base",
      "model_module_version": "1.2.0",
      "model_name": "LayoutModel",
      "state": {}
     },
     "ea08aa7bb39a4207bd54c3df38b860a3": {
      "model_module": "@jupyter-widgets/controls",
      "model_module_version": "1.5.0",
      "model_name": "ButtonModel",
      "state": {
       "description": "Confirm",
       "disabled": true,
       "layout": "IPY_MODEL_1353e68e3d1846969bdd12421972ce40",
       "style": "IPY_MODEL_ce37ffa0bf204f1795b1d413d53c2b65"
      }
     },
     "eb46c03c58be408faee75e89df13c7a4": {
      "model_module": "@jupyter-widgets/base",
      "model_module_version": "1.2.0",
      "model_name": "LayoutModel",
      "state": {}
     },
     "ebc880bcb209492d8bf5fdf9698ec396": {
      "model_module": "@jupyter-widgets/output",
      "model_module_version": "1.0.0",
      "model_name": "OutputModel",
      "state": {
       "layout": "IPY_MODEL_16397e4314d546378892c7b37a15ab91",
       "outputs": [
        {
         "data": {
          "text/html": "<h1 style=\"display: inline;\"><a href=\"Chapter 1.ipynb\">Chapter 1</a></h1><h3 style=\"display: inline;\">(<a href=\"../Book.ipynb\" target=\"_blank\">Book</a>)</h3>",
          "text/plain": "<cassini.ipygui.WHTML at 0x28a10406208>"
         },
         "metadata": {},
         "output_type": "display_data"
        }
       ]
      }
     },
     "ec3d3d1b99b14889babdf39e21cc3ff1": {
      "model_module": "@jupyter-widgets/output",
      "model_module_version": "1.0.0",
      "model_name": "OutputModel",
      "state": {
       "layout": "IPY_MODEL_66d53cfdc8c54f158473c3349f870735"
      }
     },
     "f408e4725def4c2db9c192838c391a85": {
      "model_module": "@jupyter-widgets/controls",
      "model_module_version": "1.5.0",
      "model_name": "HBoxModel",
      "state": {
       "children": [
        "IPY_MODEL_180d634546a04d22b8bbdcc45470af42",
        "IPY_MODEL_53d287d76003497ca85ee64326b890b6"
       ],
       "layout": "IPY_MODEL_9499ebddfe7441a88cd361bc3468798b"
      }
     },
     "fbb47980c7d64be5809db6ad3e11b364": {
      "model_module": "@jupyter-widgets/controls",
      "model_module_version": "1.5.0",
      "model_name": "ButtonModel",
      "state": {
       "description": "Folder",
       "layout": "IPY_MODEL_8f6055e2fba34b119ea71914df241a43",
       "style": "IPY_MODEL_9617e69211c24eb9a41f6b8e81060056"
      }
     },
     "fd65ffbde0c14db092b7f4f034d249a7": {
      "model_module": "@jupyter-widgets/base",
      "model_module_version": "1.2.0",
      "model_name": "LayoutModel",
      "state": {
       "width": "auto"
      }
     },
     "ff604d5fc8a1400487c9a66eb16490d9": {
      "model_module": "@jupyter-widgets/controls",
      "model_module_version": "1.5.0",
      "model_name": "DescriptionStyleModel",
      "state": {
       "description_width": "10%"
      }
     },
     "fffed305133e477fae29de31d0a2e958": {
      "model_module": "@jupyter-widgets/base",
      "model_module_version": "1.2.0",
      "model_name": "LayoutModel",
      "state": {}
     }
    },
    "version_major": 2,
    "version_minor": 0
   }
  }
 },
 "nbformat": 4,
 "nbformat_minor": 4
}
