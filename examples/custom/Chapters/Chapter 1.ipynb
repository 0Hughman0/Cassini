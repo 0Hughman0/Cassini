{
 "cells": [
  {
   "cell_type": "code",
   "execution_count": 1,
   "metadata": {
    "pycharm": {
     "name": "#%%\n"
    }
   },
   "outputs": [
    {
     "data": {
      "application/vnd.jupyter.widget-view+json": {
       "model_id": "53598c3259af4133b3f5b5d1f9f7b682",
       "version_major": 2,
       "version_minor": 0
      },
      "text/plain": [
       "VBox(children=(VBox(children=(Output(), Button(description='Folder', style=ButtonStyle()))), Output(), Output(…"
      ]
     },
     "metadata": {},
     "output_type": "display_data"
    }
   ],
   "source": [
    "from project import project\n",
    "\n",
    "chptr = project.env('Chapter 1')\n",
    "chptr.gui.header()"
   ]
  },
  {
   "cell_type": "code",
   "execution_count": null,
   "metadata": {},
   "outputs": [],
   "source": []
  }
 ],
 "metadata": {
  "kernelspec": {
   "display_name": "Python 3",
   "language": "python",
   "name": "python3"
  },
  "language_info": {
   "codemirror_mode": {
    "name": "ipython",
    "version": 3
   },
   "file_extension": ".py",
   "mimetype": "text/x-python",
   "name": "python",
   "nbconvert_exporter": "python",
   "pygments_lexer": "ipython3",
   "version": "3.7.2"
  },
  "pycharm": {
   "stem_cell": {
    "cell_type": "raw",
    "metadata": {
     "collapsed": false
    },
    "source": []
   }
  },
  "widgets": {
   "application/vnd.jupyter.widget-state+json": {
    "state": {
     "0f090f0f87104158ad38564c84e1f632": {
      "model_module": "@jupyter-widgets/output",
      "model_module_version": "1.0.0",
      "model_name": "OutputModel",
      "state": {
       "layout": "IPY_MODEL_3aae2bae82e442efbc927757fe752d9c",
       "outputs": [
        {
         "data": {
          "text/html": "<h1 style=\"display: inline;\"><a href=\"Chapter 1.ipynb\">Chapter 1</a></h1><h3 style=\"display: inline;\">(<a href=\"../Book.ipynb\" target=\"_blank\">Book</a>)</h3>",
          "text/plain": "<cassini.ipygui.WHTML at 0x18f4a2ec9b0>"
         },
         "metadata": {},
         "output_type": "display_data"
        }
       ]
      }
     },
     "0fae0062f80447178f606263bf880dbb": {
      "model_module": "@jupyter-widgets/controls",
      "model_module_version": "1.5.0",
      "model_name": "ButtonStyleModel",
      "state": {}
     },
     "0ff6a923bbeb431498209f39e358c19b": {
      "model_module": "@jupyter-widgets/controls",
      "model_module_version": "1.5.0",
      "model_name": "HBoxModel",
      "state": {
       "children": [
        "IPY_MODEL_d7d7436fc7354da98a8ea4b0ac1b8824",
        "IPY_MODEL_8e3b0022cd654ced938affb059508d40"
       ],
       "layout": "IPY_MODEL_3b78c45bc48f4ebf9ba3b2df0018c935"
      }
     },
     "1f4b62aa0b514857b7c13a7de4a1c2ea": {
      "model_module": "@jupyter-widgets/output",
      "model_module_version": "1.0.0",
      "model_name": "OutputModel",
      "state": {
       "layout": "IPY_MODEL_2280eba6fc8c4c1c81e5cd9f2c63f238",
       "outputs": [
        {
         "data": {
          "text/html": "<table border=\"1\" class=\"dataframe\">\n  <thead>\n    <tr style=\"text-align: right;\">\n      <th></th>\n    </tr>\n  </thead>\n  <tbody>\n  </tbody>\n</table>",
          "text/plain": "Empty UnescapedDataFrame\nColumns: []\nIndex: []"
         },
         "metadata": {},
         "output_type": "display_data"
        }
       ]
      }
     },
     "20af0ab97e0044b3b400b22225a1cf59": {
      "model_module": "@jupyter-widgets/base",
      "model_module_version": "1.2.0",
      "model_name": "LayoutModel",
      "state": {}
     },
     "2280eba6fc8c4c1c81e5cd9f2c63f238": {
      "model_module": "@jupyter-widgets/base",
      "model_module_version": "1.2.0",
      "model_name": "LayoutModel",
      "state": {}
     },
     "2cd5e5044a6349a694845b4b38f914b6": {
      "model_module": "@jupyter-widgets/base",
      "model_module_version": "1.2.0",
      "model_name": "LayoutModel",
      "state": {}
     },
     "2fd941a8887d417cb5ca03d088dc0825": {
      "model_module": "@jupyter-widgets/controls",
      "model_module_version": "1.5.0",
      "model_name": "TextModel",
      "state": {
       "description": "Identifier",
       "disabled": true,
       "layout": "IPY_MODEL_8aa32cf25ee74792b8a3d332a3ed566f",
       "placeholder": "(\\d+)",
       "style": "IPY_MODEL_cc34782fe10c4c16a2d5baaf7aa42b71",
       "value": "237"
      }
     },
     "3aae2bae82e442efbc927757fe752d9c": {
      "model_module": "@jupyter-widgets/base",
      "model_module_version": "1.2.0",
      "model_name": "LayoutModel",
      "state": {}
     },
     "3b78c45bc48f4ebf9ba3b2df0018c935": {
      "model_module": "@jupyter-widgets/base",
      "model_module_version": "1.2.0",
      "model_name": "LayoutModel",
      "state": {}
     },
     "3c8e2b2da86d48d694cfc46f6f9355ec": {
      "model_module": "@jupyter-widgets/base",
      "model_module_version": "1.2.0",
      "model_name": "LayoutModel",
      "state": {
       "width": "auto"
      }
     },
     "47b06d6af2084660ba943c08d2e35451": {
      "model_module": "@jupyter-widgets/base",
      "model_module_version": "1.2.0",
      "model_name": "LayoutModel",
      "state": {}
     },
     "483c1aa0611b48609d86db50cd6a2be7": {
      "model_module": "@jupyter-widgets/base",
      "model_module_version": "1.2.0",
      "model_name": "LayoutModel",
      "state": {}
     },
     "52658aa5f2a340169620af5bbf154486": {
      "model_module": "@jupyter-widgets/output",
      "model_module_version": "1.0.0",
      "model_name": "OutputModel",
      "state": {
       "layout": "IPY_MODEL_557cac31ff304466b00a091e04b95f4c"
      }
     },
     "53598c3259af4133b3f5b5d1f9f7b682": {
      "model_module": "@jupyter-widgets/controls",
      "model_module_version": "1.5.0",
      "model_name": "VBoxModel",
      "state": {
       "children": [
        "IPY_MODEL_df2e57bea1b04e2e875ac64ba125b452",
        "IPY_MODEL_d1f621eceef643ff9bdc28c782c29418",
        "IPY_MODEL_dfaf3a2bb7944671b3b27fab448d9ac8",
        "IPY_MODEL_ba79076d653346a3baa5bf949af433a9",
        "IPY_MODEL_1f4b62aa0b514857b7c13a7de4a1c2ea",
        "IPY_MODEL_8d9e3e9e581f488f8e61770f272264c9",
        "IPY_MODEL_6e60f19f53cf4770b74770ed82857000"
       ],
       "layout": "IPY_MODEL_56b882a040514777aaaef0a36d9e89bb"
      }
     },
     "5403863053ea4431b39d9aae150c859b": {
      "model_module": "@jupyter-widgets/controls",
      "model_module_version": "1.5.0",
      "model_name": "ButtonStyleModel",
      "state": {}
     },
     "557cac31ff304466b00a091e04b95f4c": {
      "model_module": "@jupyter-widgets/base",
      "model_module_version": "1.2.0",
      "model_name": "LayoutModel",
      "state": {
       "width": "auto"
      }
     },
     "56b882a040514777aaaef0a36d9e89bb": {
      "model_module": "@jupyter-widgets/base",
      "model_module_version": "1.2.0",
      "model_name": "LayoutModel",
      "state": {}
     },
     "607e897245da4e4297e1b8feeec5d785": {
      "model_module": "@jupyter-widgets/base",
      "model_module_version": "1.2.0",
      "model_name": "LayoutModel",
      "state": {}
     },
     "6e60f19f53cf4770b74770ed82857000": {
      "model_module": "@jupyter-widgets/controls",
      "model_module_version": "1.5.0",
      "model_name": "VBoxModel",
      "state": {
       "children": [
        "IPY_MODEL_2fd941a8887d417cb5ca03d088dc0825",
        "IPY_MODEL_e1c48f9e22964812815415230553eb75",
        "IPY_MODEL_84bc410795c341339e6f8e286dfb5dfb",
        "IPY_MODEL_0ff6a923bbeb431498209f39e358c19b",
        "IPY_MODEL_be8aa92b402b4765bdb981d9d63a441b"
       ],
       "layout": "IPY_MODEL_47b06d6af2084660ba943c08d2e35451"
      }
     },
     "759cfc7a0a2b45ed93815d5620c728dd": {
      "model_module": "@jupyter-widgets/controls",
      "model_module_version": "1.5.0",
      "model_name": "ButtonStyleModel",
      "state": {}
     },
     "84bc410795c341339e6f8e286dfb5dfb": {
      "model_module": "@jupyter-widgets/controls",
      "model_module_version": "1.5.0",
      "model_name": "TextareaModel",
      "state": {
       "description": "Motivation",
       "disabled": true,
       "layout": "IPY_MODEL_3c8e2b2da86d48d694cfc46f6f9355ec",
       "style": "IPY_MODEL_a6e7cac79e2b408eb5a557fe25003a91",
       "value": "Was it all a dream?"
      }
     },
     "8542a658b20c4de5987c5c2a39ce9246": {
      "model_module": "@jupyter-widgets/base",
      "model_module_version": "1.2.0",
      "model_name": "LayoutModel",
      "state": {}
     },
     "88fa9c820084495093637d54aab6ea74": {
      "model_module": "@jupyter-widgets/base",
      "model_module_version": "1.2.0",
      "model_name": "LayoutModel",
      "state": {}
     },
     "8aa32cf25ee74792b8a3d332a3ed566f": {
      "model_module": "@jupyter-widgets/base",
      "model_module_version": "1.2.0",
      "model_name": "LayoutModel",
      "state": {
       "width": "auto"
      }
     },
     "8c43ad81da744d868c1fb109fd393526": {
      "model_module": "@jupyter-widgets/output",
      "model_module_version": "1.0.0",
      "model_name": "OutputModel",
      "state": {
       "layout": "IPY_MODEL_88fa9c820084495093637d54aab6ea74",
       "outputs": [
        {
         "data": {
          "text/html": "<a href=\"Chapter 1/Chapter 1pg. 237.ipynb\" target=\"_blank\"><h3 style=\"display: inline;\">Chapter 1pg. 237</h3 style=\"display: inline;\"</a>",
          "text/plain": "<cassini.ipygui.WHTML at 0x18f4a377e48>"
         },
         "metadata": {},
         "output_type": "display_data"
        }
       ]
      }
     },
     "8d9e3e9e581f488f8e61770f272264c9": {
      "model_module": "@jupyter-widgets/output",
      "model_module_version": "1.0.0",
      "model_name": "OutputModel",
      "state": {
       "layout": "IPY_MODEL_483c1aa0611b48609d86db50cd6a2be7",
       "outputs": [
        {
         "data": {
          "text/html": "<h3>New Page</h3>",
          "text/plain": "<cassini.ipygui.WHTML at 0x18f4a35a8d0>"
         },
         "metadata": {},
         "output_type": "display_data"
        }
       ]
      }
     },
     "8e3b0022cd654ced938affb059508d40": {
      "model_module": "@jupyter-widgets/controls",
      "model_module_version": "1.5.0",
      "model_name": "ButtonModel",
      "state": {
       "description": "New",
       "layout": "IPY_MODEL_d506075ca765411a9b14b3c188a4daea",
       "style": "IPY_MODEL_0fae0062f80447178f606263bf880dbb"
      }
     },
     "a6e7cac79e2b408eb5a557fe25003a91": {
      "model_module": "@jupyter-widgets/controls",
      "model_module_version": "1.5.0",
      "model_name": "DescriptionStyleModel",
      "state": {
       "description_width": "10%"
      }
     },
     "ba79076d653346a3baa5bf949af433a9": {
      "model_module": "@jupyter-widgets/output",
      "model_module_version": "1.0.0",
      "model_name": "OutputModel",
      "state": {
       "layout": "IPY_MODEL_c96f66c0bf284647a9ffff62ed301f27",
       "outputs": [
        {
         "data": {
          "text/html": "<h3>Pages</h3>",
          "text/plain": "<cassini.ipygui.WHTML at 0x18f4a2ece10>"
         },
         "metadata": {},
         "output_type": "display_data"
        }
       ]
      }
     },
     "be8aa92b402b4765bdb981d9d63a441b": {
      "model_module": "@jupyter-widgets/output",
      "model_module_version": "1.0.0",
      "model_name": "OutputModel",
      "state": {
       "layout": "IPY_MODEL_8542a658b20c4de5987c5c2a39ce9246",
       "outputs": [
        {
         "name": "stdout",
         "output_type": "stream",
         "text": "Creating files for Chapter 1pg. 237\nMeta (D:\\Documents\\Programin\\WorkingVersions\\cassini\\dev\\examples\\custom\\Chapters\\Chapter 1\\.pgs\\Chapter 1pg. 237.json)\nWriting Meta Data\nSuccess\nCreating Tier File (D:\\Documents\\Programin\\WorkingVersions\\cassini\\dev\\examples\\custom\\Chapters\\Chapter 1\\Chapter 1pg. 237.ipynb) using template (Page\\Page.tmplt.ipynb)\nSuccess\nCreating Tier Folder (D:\\Documents\\Programin\\WorkingVersions\\cassini\\dev\\examples\\custom\\Chapters\\Chapter 1\\Chapter 1pg. 237)\nSuccess\nAll Done\n"
        },
        {
         "data": {
          "application/vnd.jupyter.widget-view+json": {
           "model_id": "8c43ad81da744d868c1fb109fd393526",
           "version_major": 2,
           "version_minor": 0
          },
          "text/plain": "Output()"
         },
         "metadata": {},
         "output_type": "display_data"
        }
       ]
      }
     },
     "c1caf13c0f46451d818ada19a3235a7a": {
      "model_module": "@jupyter-widgets/controls",
      "model_module_version": "1.5.0",
      "model_name": "DescriptionStyleModel",
      "state": {
       "description_width": "10%"
      }
     },
     "c5c7b498bab949b5a9b1f1507c80aca4": {
      "model_module": "@jupyter-widgets/base",
      "model_module_version": "1.2.0",
      "model_name": "LayoutModel",
      "state": {}
     },
     "c96f66c0bf284647a9ffff62ed301f27": {
      "model_module": "@jupyter-widgets/base",
      "model_module_version": "1.2.0",
      "model_name": "LayoutModel",
      "state": {}
     },
     "cc34782fe10c4c16a2d5baaf7aa42b71": {
      "model_module": "@jupyter-widgets/controls",
      "model_module_version": "1.5.0",
      "model_name": "DescriptionStyleModel",
      "state": {
       "description_width": "10%"
      }
     },
     "d1f621eceef643ff9bdc28c782c29418": {
      "model_module": "@jupyter-widgets/output",
      "model_module_version": "1.0.0",
      "model_name": "OutputModel",
      "state": {
       "layout": "IPY_MODEL_c5c7b498bab949b5a9b1f1507c80aca4",
       "outputs": [
        {
         "data": {
          "text/html": "<h3>Motivation</h3>",
          "text/plain": "<cassini.ipygui.WHTML at 0x18f4a2ecf60>"
         },
         "metadata": {},
         "output_type": "display_data"
        }
       ]
      }
     },
     "d506075ca765411a9b14b3c188a4daea": {
      "model_module": "@jupyter-widgets/base",
      "model_module_version": "1.2.0",
      "model_name": "LayoutModel",
      "state": {}
     },
     "d7d7436fc7354da98a8ea4b0ac1b8824": {
      "model_module": "@jupyter-widgets/controls",
      "model_module_version": "1.5.0",
      "model_name": "ButtonModel",
      "state": {
       "description": "Confirm",
       "disabled": true,
       "layout": "IPY_MODEL_20af0ab97e0044b3b400b22225a1cf59",
       "style": "IPY_MODEL_759cfc7a0a2b45ed93815d5620c728dd"
      }
     },
     "df2e57bea1b04e2e875ac64ba125b452": {
      "model_module": "@jupyter-widgets/controls",
      "model_module_version": "1.5.0",
      "model_name": "VBoxModel",
      "state": {
       "children": [
        "IPY_MODEL_0f090f0f87104158ad38564c84e1f632",
        "IPY_MODEL_ef13730c857a410d9bdbfd6e21e58905"
       ],
       "layout": "IPY_MODEL_ea4bffefba184805914cc25377421d39"
      }
     },
     "dfa9d81135204c2fa982b34d7ff7c209": {
      "model_module": "@jupyter-widgets/base",
      "model_module_version": "1.2.0",
      "model_name": "LayoutModel",
      "state": {
       "width": "auto"
      }
     },
     "dfaf3a2bb7944671b3b27fab448d9ac8": {
      "model_module": "@jupyter-widgets/output",
      "model_module_version": "1.0.0",
      "model_name": "OutputModel",
      "state": {
       "layout": "IPY_MODEL_607e897245da4e4297e1b8feeec5d785",
       "outputs": [
        {
         "data": {
          "text/markdown": "An unexpected guest.",
          "text/plain": "<IPython.core.display.Markdown object>"
         },
         "metadata": {},
         "output_type": "display_data"
        }
       ]
      }
     },
     "e1c48f9e22964812815415230553eb75": {
      "model_module": "@jupyter-widgets/controls",
      "model_module_version": "1.5.0",
      "model_name": "SelectModel",
      "state": {
       "_options_labels": [
        "Page.tmplt.ipynb"
       ],
       "description": "Template",
       "disabled": true,
       "index": 0,
       "layout": "IPY_MODEL_dfa9d81135204c2fa982b34d7ff7c209",
       "style": "IPY_MODEL_c1caf13c0f46451d818ada19a3235a7a"
      }
     },
     "ea4bffefba184805914cc25377421d39": {
      "model_module": "@jupyter-widgets/base",
      "model_module_version": "1.2.0",
      "model_name": "LayoutModel",
      "state": {}
     },
     "ef13730c857a410d9bdbfd6e21e58905": {
      "model_module": "@jupyter-widgets/controls",
      "model_module_version": "1.5.0",
      "model_name": "ButtonModel",
      "state": {
       "description": "Folder",
       "layout": "IPY_MODEL_2cd5e5044a6349a694845b4b38f914b6",
       "style": "IPY_MODEL_5403863053ea4431b39d9aae150c859b"
      }
     }
    },
    "version_major": 2,
    "version_minor": 0
   }
  }
 },
 "nbformat": 4,
 "nbformat_minor": 4
}
