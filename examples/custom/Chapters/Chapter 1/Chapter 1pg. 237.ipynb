{
 "cells": [
  {
   "cell_type": "code",
   "execution_count": 1,
   "metadata": {
    "pycharm": {
     "name": "#%%\n"
    }
   },
   "outputs": [
    {
     "data": {
      "application/vnd.jupyter.widget-view+json": {
       "model_id": "6b8e7d69cf2649b2ad96ebef5f693cbd",
       "version_major": 2,
       "version_minor": 0
      },
      "text/plain": [
       "VBox(children=(VBox(children=(Output(), Button(description='Folder', style=ButtonStyle()))), Output(), Output(…"
      ]
     },
     "metadata": {},
     "output_type": "display_data"
    }
   ],
   "source": [
    "from my_project import project\n",
    "\n",
    "pg = project.env('Chapter 1pg. 237')\n",
    "pg.gui.header()"
   ]
  },
  {
   "cell_type": "code",
   "execution_count": null,
   "metadata": {},
   "outputs": [],
   "source": []
  }
 ],
 "metadata": {
  "kernelspec": {
   "display_name": "Python 3",
   "language": "python",
   "name": "python3"
  },
  "language_info": {
   "codemirror_mode": {
    "name": "ipython",
    "version": 3
   },
   "file_extension": ".py",
   "mimetype": "text/x-python",
   "name": "python",
   "nbconvert_exporter": "python",
   "pygments_lexer": "ipython3",
   "version": "3.7.2"
  },
  "pycharm": {
   "stem_cell": {
    "cell_type": "raw",
    "source": [],
    "metadata": {
     "collapsed": false
    }
   }
  },
  "widgets": {
   "application/vnd.jupyter.widget-state+json": {
    "state": {
     "0cf15fa7cf684ce895420bd3918ab422": {
      "model_module": "@jupyter-widgets/output",
      "model_module_version": "1.0.0",
      "model_name": "OutputModel",
      "state": {
       "layout": "IPY_MODEL_1e4a2c41c3de45c1af081d8ba8a36e71",
       "outputs": [
        {
         "data": {
          "text/html": "<h3>Motivation</h3>",
          "text/plain": "<cassini.ipygui.WHTML at 0x24d281fb860>"
         },
         "metadata": {},
         "output_type": "display_data"
        }
       ]
      }
     },
     "1e4a2c41c3de45c1af081d8ba8a36e71": {
      "model_module": "@jupyter-widgets/base",
      "model_module_version": "1.2.0",
      "model_name": "LayoutModel",
      "state": {}
     },
     "2e1b3e2c90564d49b946c2bc40a66200": {
      "model_module": "@jupyter-widgets/output",
      "model_module_version": "1.0.0",
      "model_name": "OutputModel",
      "state": {
       "layout": "IPY_MODEL_a11989a23a4443399369bedac6aef885",
       "outputs": [
        {
         "data": {
          "text/html": "<h1 style=\"display: inline;\"><a href=\"Chapter 1pg. 237.ipynb\">Chapter 1pg. 237</a></h1><h3 style=\"display: inline;\">(<a href=\"../../Book.ipynb\" target=\"_blank\">Book</a>-><a href=\"../Chapter 1.ipynb\" target=\"_blank\">Chapter 1</a>)</h3>",
          "text/plain": "<cassini.ipygui.WHTML at 0x24d281fbcc0>"
         },
         "metadata": {},
         "output_type": "display_data"
        }
       ]
      }
     },
     "31d6f0e6b6cc4a48a8af7cc780134612": {
      "model_module": "@jupyter-widgets/base",
      "model_module_version": "1.2.0",
      "model_name": "LayoutModel",
      "state": {}
     },
     "5e2d15f0b9634952ab69c07111c156ed": {
      "model_module": "@jupyter-widgets/controls",
      "model_module_version": "1.5.0",
      "model_name": "ButtonModel",
      "state": {
       "description": "Folder",
       "layout": "IPY_MODEL_31d6f0e6b6cc4a48a8af7cc780134612",
       "style": "IPY_MODEL_92e48db676e345b789173ee706f07eff"
      }
     },
     "6b8e7d69cf2649b2ad96ebef5f693cbd": {
      "model_module": "@jupyter-widgets/controls",
      "model_module_version": "1.5.0",
      "model_name": "VBoxModel",
      "state": {
       "children": [
        "IPY_MODEL_6e5fc44c2d354fdebac7f453fac1bed4",
        "IPY_MODEL_0cf15fa7cf684ce895420bd3918ab422",
        "IPY_MODEL_8d96d372d1d147ce9a4aa35b501b9739"
       ],
       "layout": "IPY_MODEL_edc01f5783804933bb3ee14b828ad4bd"
      }
     },
     "6e5fc44c2d354fdebac7f453fac1bed4": {
      "model_module": "@jupyter-widgets/controls",
      "model_module_version": "1.5.0",
      "model_name": "VBoxModel",
      "state": {
       "children": [
        "IPY_MODEL_2e1b3e2c90564d49b946c2bc40a66200",
        "IPY_MODEL_5e2d15f0b9634952ab69c07111c156ed"
       ],
       "layout": "IPY_MODEL_9fcfef3344d943c98427ef95b9840936"
      }
     },
     "8d96d372d1d147ce9a4aa35b501b9739": {
      "model_module": "@jupyter-widgets/output",
      "model_module_version": "1.0.0",
      "model_name": "OutputModel",
      "state": {
       "layout": "IPY_MODEL_e36c69383a8c4eee9d24931efa8f16b4",
       "outputs": [
        {
         "data": {
          "text/markdown": "Was it all a dream?",
          "text/plain": "<IPython.core.display.Markdown object>"
         },
         "metadata": {},
         "output_type": "display_data"
        }
       ]
      }
     },
     "92e48db676e345b789173ee706f07eff": {
      "model_module": "@jupyter-widgets/controls",
      "model_module_version": "1.5.0",
      "model_name": "ButtonStyleModel",
      "state": {}
     },
     "9fcfef3344d943c98427ef95b9840936": {
      "model_module": "@jupyter-widgets/base",
      "model_module_version": "1.2.0",
      "model_name": "LayoutModel",
      "state": {}
     },
     "a11989a23a4443399369bedac6aef885": {
      "model_module": "@jupyter-widgets/base",
      "model_module_version": "1.2.0",
      "model_name": "LayoutModel",
      "state": {}
     },
     "e36c69383a8c4eee9d24931efa8f16b4": {
      "model_module": "@jupyter-widgets/base",
      "model_module_version": "1.2.0",
      "model_name": "LayoutModel",
      "state": {}
     },
     "edc01f5783804933bb3ee14b828ad4bd": {
      "model_module": "@jupyter-widgets/base",
      "model_module_version": "1.2.0",
      "model_name": "LayoutModel",
      "state": {}
     }
    },
    "version_major": 2,
    "version_minor": 0
   }
  }
 },
 "nbformat": 4,
 "nbformat_minor": 4
}