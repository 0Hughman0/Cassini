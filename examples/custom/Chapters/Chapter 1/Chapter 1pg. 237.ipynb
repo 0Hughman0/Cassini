{
 "cells": [
  {
   "cell_type": "code",
   "execution_count": 1,
   "metadata": {
    "pycharm": {
     "name": "#%%\n"
    }
   },
   "outputs": [
    {
     "name": "stderr",
     "output_type": "stream",
     "text": [
      "D:\\Documents\\Programin\\venvs\\cassini\\cassini-dev\\lib\\site-packages\\jupyter_server\\transutils.py:13: FutureWarning: The alias `_()` will be deprecated. Use `_i18n()` instead.\n",
      "  warnings.warn(warn_msg, FutureWarning)\n"
     ]
    },
    {
     "data": {
      "application/vnd.jupyter.widget-view+json": {
       "model_id": "1b8427ee255549f6bbf0b0a9a36e800f",
       "version_major": 2,
       "version_minor": 0
      },
      "text/plain": [
       "VBox(children=(VBox(children=(Output(), Button(description='Folder', style=ButtonStyle()))), Output(), Output(…"
      ]
     },
     "metadata": {},
     "output_type": "display_data"
    }
   ],
   "source": [
    "from my_project import project\n",
    "\n",
    "pg = project.env('Chapter 1pg. 237')\n",
    "pg.gui.header()"
   ]
  },
  {
   "cell_type": "code",
   "execution_count": null,
   "metadata": {},
   "outputs": [],
   "source": []
  }
 ],
 "metadata": {
  "kernelspec": {
   "display_name": "Python 3",
   "language": "python",
   "name": "python3"
  },
  "language_info": {
   "codemirror_mode": {
    "name": "ipython",
    "version": 3
   },
   "file_extension": ".py",
   "mimetype": "text/x-python",
   "name": "python",
   "nbconvert_exporter": "python",
   "pygments_lexer": "ipython3",
   "version": "3.7.2"
  },
  "pycharm": {
   "stem_cell": {
    "cell_type": "raw",
    "metadata": {
     "collapsed": false
    },
    "source": []
   }
  },
  "widgets": {
   "application/vnd.jupyter.widget-state+json": {
    "state": {
     "1b8427ee255549f6bbf0b0a9a36e800f": {
      "model_module": "@jupyter-widgets/controls",
      "model_module_version": "1.5.0",
      "model_name": "VBoxModel",
      "state": {
       "children": [
        "IPY_MODEL_af9ec4ee5bc54574b8b7c6d991d90994",
        "IPY_MODEL_7fcaafdad1cc465e8375dd2544ba3e32",
        "IPY_MODEL_36b3e936823f4a40a105771596f5adb9"
       ],
       "layout": "IPY_MODEL_c54911ca4070480f988d3ae6647a9c27"
      }
     },
     "2181e0770cc348df80dcfbd8869c5823": {
      "model_module": "@jupyter-widgets/base",
      "model_module_version": "1.2.0",
      "model_name": "LayoutModel",
      "state": {}
     },
     "36b3e936823f4a40a105771596f5adb9": {
      "model_module": "@jupyter-widgets/output",
      "model_module_version": "1.0.0",
      "model_name": "OutputModel",
      "state": {
       "layout": "IPY_MODEL_2181e0770cc348df80dcfbd8869c5823",
       "outputs": [
        {
         "data": {
          "text/markdown": "Was it all a dream?",
          "text/plain": "<IPython.core.display.Markdown object>"
         },
         "metadata": {},
         "output_type": "display_data"
        }
       ]
      }
     },
     "36f84ac0f2f4489faeba0a394b6b7423": {
      "model_module": "@jupyter-widgets/base",
      "model_module_version": "1.2.0",
      "model_name": "LayoutModel",
      "state": {}
     },
     "6125bf8b7244429d8e42e95a6b6a5627": {
      "model_module": "@jupyter-widgets/output",
      "model_module_version": "1.0.0",
      "model_name": "OutputModel",
      "state": {
       "layout": "IPY_MODEL_f8a271c4ccda4afca5df1be6875ae982",
       "outputs": [
        {
         "data": {
          "text/html": "<h1 style=\"display: inline;\"><a href=\"Chapter 1pg. 237.ipynb\">Chapter 1pg. 237</a></h1><h3 style=\"display: inline;\">(<a href=\"../../Book.ipynb\" target=\"_blank\">Book</a>-><a href=\"../Chapter 1.ipynb\" target=\"_blank\">Chapter 1</a>)</h3>",
          "text/plain": "<cassini.ipygui.WHTML at 0x2a6610150f0>"
         },
         "metadata": {},
         "output_type": "display_data"
        }
       ]
      }
     },
     "7fcaafdad1cc465e8375dd2544ba3e32": {
      "model_module": "@jupyter-widgets/output",
      "model_module_version": "1.0.0",
      "model_name": "OutputModel",
      "state": {
       "layout": "IPY_MODEL_36f84ac0f2f4489faeba0a394b6b7423",
       "outputs": [
        {
         "data": {
          "text/html": "<h3>Description</h3>",
          "text/plain": "<cassini.ipygui.WHTML at 0x2a6610155f8>"
         },
         "metadata": {},
         "output_type": "display_data"
        }
       ]
      }
     },
     "9c6501e915f34a22992af237f0a7e130": {
      "model_module": "@jupyter-widgets/controls",
      "model_module_version": "1.5.0",
      "model_name": "ButtonModel",
      "state": {
       "description": "Folder",
       "layout": "IPY_MODEL_fe647607264645c3b94f1ab68737865d",
       "style": "IPY_MODEL_e76d38b977114ca0beed5a95eaea0508"
      }
     },
     "af9ec4ee5bc54574b8b7c6d991d90994": {
      "model_module": "@jupyter-widgets/controls",
      "model_module_version": "1.5.0",
      "model_name": "VBoxModel",
      "state": {
       "children": [
        "IPY_MODEL_6125bf8b7244429d8e42e95a6b6a5627",
        "IPY_MODEL_9c6501e915f34a22992af237f0a7e130"
       ],
       "layout": "IPY_MODEL_ca96ceba7a044496a63878f09e9da6dd"
      }
     },
     "c54911ca4070480f988d3ae6647a9c27": {
      "model_module": "@jupyter-widgets/base",
      "model_module_version": "1.2.0",
      "model_name": "LayoutModel",
      "state": {}
     },
     "ca96ceba7a044496a63878f09e9da6dd": {
      "model_module": "@jupyter-widgets/base",
      "model_module_version": "1.2.0",
      "model_name": "LayoutModel",
      "state": {}
     },
     "e76d38b977114ca0beed5a95eaea0508": {
      "model_module": "@jupyter-widgets/controls",
      "model_module_version": "1.5.0",
      "model_name": "ButtonStyleModel",
      "state": {}
     },
     "f8a271c4ccda4afca5df1be6875ae982": {
      "model_module": "@jupyter-widgets/base",
      "model_module_version": "1.2.0",
      "model_name": "LayoutModel",
      "state": {}
     },
     "fe647607264645c3b94f1ab68737865d": {
      "model_module": "@jupyter-widgets/base",
      "model_module_version": "1.2.0",
      "model_name": "LayoutModel",
      "state": {}
     }
    },
    "version_major": 2,
    "version_minor": 0
   }
  }
 },
 "nbformat": 4,
 "nbformat_minor": 4
}
