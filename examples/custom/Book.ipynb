{
 "cells": [
  {
   "cell_type": "code",
   "execution_count": 1,
   "metadata": {
    "pycharm": {
     "name": "#%%\n"
    }
   },
   "outputs": [
    {
     "name": "stderr",
     "output_type": "stream",
     "text": [
      "D:\\Documents\\Programin\\venvs\\cassini\\cassini-dev\\lib\\site-packages\\jupyter_server\\transutils.py:13: FutureWarning: The alias `_()` will be deprecated. Use `_i18n()` instead.\n",
      "  warnings.warn(warn_msg, FutureWarning)\n"
     ]
    },
    {
     "data": {
      "application/vnd.jupyter.widget-view+json": {
       "model_id": "1ba2b2178ae04fa28266385f01cefda7",
       "version_major": 2,
       "version_minor": 0
      },
      "text/plain": [
       "VBox(children=(VBox(children=(Output(), Button(description='Folder', style=ButtonStyle()))), Output(), VBox(ch…"
      ]
     },
     "metadata": {},
     "output_type": "display_data"
    }
   ],
   "source": [
    "from my_project import project\n",
    "\n",
    "bk = project.env('Book')\n",
    "bk.gui.header()"
   ]
  },
  {
   "cell_type": "code",
   "execution_count": null,
   "metadata": {},
   "outputs": [],
   "source": []
  },
  {
   "cell_type": "code",
   "execution_count": null,
   "metadata": {},
   "outputs": [],
   "source": []
  }
 ],
 "metadata": {
  "kernelspec": {
   "display_name": "Python 3",
   "language": "python",
   "name": "python3"
  },
  "language_info": {
   "codemirror_mode": {
    "name": "ipython",
    "version": 3
   },
   "file_extension": ".py",
   "mimetype": "text/x-python",
   "name": "python",
   "nbconvert_exporter": "python",
   "pygments_lexer": "ipython3",
   "version": "3.7.2"
  },
  "pycharm": {
   "stem_cell": {
    "cell_type": "raw",
    "metadata": {
     "collapsed": false
    },
    "source": []
   }
  },
  "widgets": {
   "application/vnd.jupyter.widget-state+json": {
    "state": {
     "079d3413ac454da48bcfbf081529b802": {
      "model_module": "@jupyter-widgets/controls",
      "model_module_version": "1.5.0",
      "model_name": "DescriptionStyleModel",
      "state": {
       "description_width": "10%"
      }
     },
     "0b0d77285c3945d1a0e1c1f65138d777": {
      "model_module": "@jupyter-widgets/controls",
      "model_module_version": "1.5.0",
      "model_name": "TextModel",
      "state": {
       "description": "Identifier",
       "layout": "IPY_MODEL_6daafba5899e4409a4bb4c858c12eb0c",
       "placeholder": "(\\d+)",
       "style": "IPY_MODEL_079d3413ac454da48bcfbf081529b802"
      }
     },
     "0c5db81b80254416bbea1172e01055a4": {
      "model_module": "@jupyter-widgets/output",
      "model_module_version": "1.0.0",
      "model_name": "OutputModel",
      "state": {
       "layout": "IPY_MODEL_b3eb06bd532b49a8a5a80c53e508ab05",
       "outputs": [
        {
         "data": {
          "text/html": "<h3>Search</h3>",
          "text/plain": "<cassini.ipygui.WHTML at 0x1e018d4b978>"
         },
         "metadata": {},
         "output_type": "display_data"
        }
       ]
      }
     },
     "1ba2b2178ae04fa28266385f01cefda7": {
      "model_module": "@jupyter-widgets/controls",
      "model_module_version": "1.5.0",
      "model_name": "VBoxModel",
      "state": {
       "children": [
        "IPY_MODEL_874d4c640cdc4ab081e9b4dbf6f4a589",
        "IPY_MODEL_0c5db81b80254416bbea1172e01055a4",
        "IPY_MODEL_af27d80bd0d74b80a8130b4710a89157",
        "IPY_MODEL_2bca9fe8835a4f678873388ea47c9c7d",
        "IPY_MODEL_924e7ff90df440c384c9067c195dad92",
        "IPY_MODEL_2e0708f6546d4971b0731845f2e2598c",
        "IPY_MODEL_ca737d51c6014c9a9688cd047c3b476b"
       ],
       "layout": "IPY_MODEL_62a85b5ee5314dfa8ccdbd2b285f9117"
      }
     },
     "1c2b7cdaaa8f41b4b1af632ef230aca6": {
      "model_module": "@jupyter-widgets/controls",
      "model_module_version": "1.5.0",
      "model_name": "TextareaModel",
      "state": {
       "description": "Motivation",
       "layout": "IPY_MODEL_1e7ea6a14af844e58ce5f4376db01f5c",
       "style": "IPY_MODEL_de19580c8eca43faa7efb5a2cc229413"
      }
     },
     "1c962c8e4b994e94bb0cf97490bb5998": {
      "model_module": "@jupyter-widgets/base",
      "model_module_version": "1.2.0",
      "model_name": "LayoutModel",
      "state": {}
     },
     "1e7ea6a14af844e58ce5f4376db01f5c": {
      "model_module": "@jupyter-widgets/base",
      "model_module_version": "1.2.0",
      "model_name": "LayoutModel",
      "state": {
       "width": "auto"
      }
     },
     "23755c4c4a5a4d649e097648b3b14311": {
      "model_module": "@jupyter-widgets/base",
      "model_module_version": "1.2.0",
      "model_name": "LayoutModel",
      "state": {}
     },
     "27925c41f40047c4b04a9686678285e8": {
      "model_module": "@jupyter-widgets/controls",
      "model_module_version": "1.5.0",
      "model_name": "ButtonModel",
      "state": {
       "description": "Search",
       "layout": "IPY_MODEL_6d79ccf7f55a44ab8ee86cdac9a81fa1",
       "style": "IPY_MODEL_e4d52be0759f4565892910c7d23a2562"
      }
     },
     "27ea66b576ec446995a43f8de7f9b0d9": {
      "model_module": "@jupyter-widgets/controls",
      "model_module_version": "1.5.0",
      "model_name": "ButtonStyleModel",
      "state": {}
     },
     "2bca9fe8835a4f678873388ea47c9c7d": {
      "model_module": "@jupyter-widgets/output",
      "model_module_version": "1.0.0",
      "model_name": "OutputModel",
      "state": {
       "layout": "IPY_MODEL_f91b7cfee2aa4057a0e8750623bf65e0",
       "outputs": [
        {
         "data": {
          "text/html": "<h3>Chapters</h3>",
          "text/plain": "<cassini.ipygui.WHTML at 0x1e018d4ba58>"
         },
         "metadata": {},
         "output_type": "display_data"
        }
       ]
      }
     },
     "2e0708f6546d4971b0731845f2e2598c": {
      "model_module": "@jupyter-widgets/output",
      "model_module_version": "1.0.0",
      "model_name": "OutputModel",
      "state": {
       "layout": "IPY_MODEL_d91471e07b134e2db1e5431c3708ecd0",
       "outputs": [
        {
         "data": {
          "text/html": "<h3>New Chapter</h3>",
          "text/plain": "<cassini.ipygui.WHTML at 0x1e018dacb00>"
         },
         "metadata": {},
         "output_type": "display_data"
        }
       ]
      }
     },
     "3fa6e7063c624677bb5980efad7a157b": {
      "model_module": "@jupyter-widgets/base",
      "model_module_version": "1.2.0",
      "model_name": "LayoutModel",
      "state": {}
     },
     "432447f3aacd4922a72c81703fe4143b": {
      "model_module": "@jupyter-widgets/controls",
      "model_module_version": "1.5.0",
      "model_name": "ButtonModel",
      "state": {
       "description": "Confirm",
       "disabled": true,
       "layout": "IPY_MODEL_ea56b61ed0284dcda1166b1320f5ab5a",
       "style": "IPY_MODEL_f3c39fc8d9934aea99ae64ca43330e7a"
      }
     },
     "516a22dee4514125a068999ef526ef82": {
      "model_module": "@jupyter-widgets/controls",
      "model_module_version": "1.5.0",
      "model_name": "HBoxModel",
      "state": {
       "children": [
        "IPY_MODEL_64fe64fff66a4ad7b1845581aca4c8ee",
        "IPY_MODEL_27925c41f40047c4b04a9686678285e8",
        "IPY_MODEL_c3cc22234c1e4ba58bc0d875c91b8807"
       ],
       "layout": "IPY_MODEL_943e54d81d0347e79489174c4aa09054"
      }
     },
     "6090997e0f614a1c83f9bd1722f8fe63": {
      "model_module": "@jupyter-widgets/base",
      "model_module_version": "1.2.0",
      "model_name": "LayoutModel",
      "state": {}
     },
     "62a85b5ee5314dfa8ccdbd2b285f9117": {
      "model_module": "@jupyter-widgets/base",
      "model_module_version": "1.2.0",
      "model_name": "LayoutModel",
      "state": {}
     },
     "64fe64fff66a4ad7b1845581aca4c8ee": {
      "model_module": "@jupyter-widgets/controls",
      "model_module_version": "1.5.0",
      "model_name": "TextModel",
      "state": {
       "continuous_update": false,
       "layout": "IPY_MODEL_da1b1a281d86494f81ad3745d4819a4a",
       "placeholder": "Name",
       "style": "IPY_MODEL_c4ac40c218204357bcb0eb576898192f"
      }
     },
     "6d79ccf7f55a44ab8ee86cdac9a81fa1": {
      "model_module": "@jupyter-widgets/base",
      "model_module_version": "1.2.0",
      "model_name": "LayoutModel",
      "state": {}
     },
     "6daafba5899e4409a4bb4c858c12eb0c": {
      "model_module": "@jupyter-widgets/base",
      "model_module_version": "1.2.0",
      "model_name": "LayoutModel",
      "state": {
       "width": "auto"
      }
     },
     "76fcfde86f784b959d89ee7253d14cc2": {
      "model_module": "@jupyter-widgets/base",
      "model_module_version": "1.2.0",
      "model_name": "LayoutModel",
      "state": {}
     },
     "7c3cf49172454b74aac777ec568ec7bf": {
      "model_module": "@jupyter-widgets/controls",
      "model_module_version": "1.5.0",
      "model_name": "ButtonStyleModel",
      "state": {}
     },
     "7c6d50f284a0459cbbcbfb74c6467fd0": {
      "model_module": "@jupyter-widgets/base",
      "model_module_version": "1.2.0",
      "model_name": "LayoutModel",
      "state": {}
     },
     "802bc22bb77b4997a048b04bcd20aea6": {
      "model_module": "@jupyter-widgets/base",
      "model_module_version": "1.2.0",
      "model_name": "LayoutModel",
      "state": {}
     },
     "866e669acb7e4d87bd5c6d3809caeeda": {
      "model_module": "@jupyter-widgets/base",
      "model_module_version": "1.2.0",
      "model_name": "LayoutModel",
      "state": {}
     },
     "874d4c640cdc4ab081e9b4dbf6f4a589": {
      "model_module": "@jupyter-widgets/controls",
      "model_module_version": "1.5.0",
      "model_name": "VBoxModel",
      "state": {
       "children": [
        "IPY_MODEL_e6c709fd6eef48d5bfc7618573a67fc0",
        "IPY_MODEL_ee355a7804ce443ca1a09dbbc4501e59"
       ],
       "layout": "IPY_MODEL_802bc22bb77b4997a048b04bcd20aea6"
      }
     },
     "8e0f9325844e41a0979c90559f96a1d6": {
      "model_module": "@jupyter-widgets/base",
      "model_module_version": "1.2.0",
      "model_name": "LayoutModel",
      "state": {
       "width": "auto"
      }
     },
     "91fa4d772346421aa3fe76c1e1992a20": {
      "model_module": "@jupyter-widgets/controls",
      "model_module_version": "1.5.0",
      "model_name": "SelectModel",
      "state": {
       "_options_labels": [
        "Chapter.tmplt.ipynb"
       ],
       "description": "Template",
       "index": 0,
       "layout": "IPY_MODEL_8e0f9325844e41a0979c90559f96a1d6",
       "style": "IPY_MODEL_92f7af59238b4127b825011932cf196e"
      }
     },
     "924e7ff90df440c384c9067c195dad92": {
      "model_module": "@jupyter-widgets/output",
      "model_module_version": "1.0.0",
      "model_name": "OutputModel",
      "state": {
       "layout": "IPY_MODEL_6090997e0f614a1c83f9bd1722f8fe63",
       "outputs": [
        {
         "data": {
          "text/html": "<table border=\"1\" class=\"dataframe\">\n  <thead>\n    <tr style=\"text-align: right;\">\n      <th></th>\n      <th>started</th>\n      <th>description</th>\n      <th>Obj</th>\n    </tr>\n    <tr>\n      <th>Name</th>\n      <th></th>\n      <th></th>\n      <th></th>\n    </tr>\n  </thead>\n  <tbody>\n    <tr>\n      <th>Chapter 1</th>\n      <td>2020-06-29</td>\n      <td>An unexpected guest.</td>\n      <td><a href=\"Chapters/Chapter 1.ipynb\" target=\"_blank\"><h2 style=\"display: inline;\">Chapter 1</h2 style=\"display: inline;\"</a></td>\n    </tr>\n  </tbody>\n</table>",
          "text/plain": "             started           description                    Obj\nName                                                             \nChapter 1 2020-06-29  An unexpected guest.  <Chapter \"Chapter 1\">"
         },
         "metadata": {},
         "output_type": "display_data"
        }
       ]
      }
     },
     "92f7af59238b4127b825011932cf196e": {
      "model_module": "@jupyter-widgets/controls",
      "model_module_version": "1.5.0",
      "model_name": "DescriptionStyleModel",
      "state": {
       "description_width": "10%"
      }
     },
     "943e54d81d0347e79489174c4aa09054": {
      "model_module": "@jupyter-widgets/base",
      "model_module_version": "1.2.0",
      "model_name": "LayoutModel",
      "state": {}
     },
     "9c06807141ad4a36b1b58c843c8d7eea": {
      "model_module": "@jupyter-widgets/output",
      "model_module_version": "1.0.0",
      "model_name": "OutputModel",
      "state": {
       "layout": "IPY_MODEL_bc61f93812784beab6eef11e4dc1a94f"
      }
     },
     "9c40ba1bb62b4e91915d6d75f782b194": {
      "model_module": "@jupyter-widgets/controls",
      "model_module_version": "1.5.0",
      "model_name": "ButtonStyleModel",
      "state": {}
     },
     "a6d5f75764214ab39630de093728519a": {
      "model_module": "@jupyter-widgets/output",
      "model_module_version": "1.0.0",
      "model_name": "OutputModel",
      "state": {
       "layout": "IPY_MODEL_b569f5d0c6a246d2849c5a07abc01575"
      }
     },
     "af27d80bd0d74b80a8130b4710a89157": {
      "model_module": "@jupyter-widgets/controls",
      "model_module_version": "1.5.0",
      "model_name": "VBoxModel",
      "state": {
       "children": [
        "IPY_MODEL_516a22dee4514125a068999ef526ef82",
        "IPY_MODEL_9c06807141ad4a36b1b58c843c8d7eea"
       ],
       "layout": "IPY_MODEL_23755c4c4a5a4d649e097648b3b14311"
      }
     },
     "b162ed995cc54875b36429b93d9e2922": {
      "model_module": "@jupyter-widgets/base",
      "model_module_version": "1.2.0",
      "model_name": "LayoutModel",
      "state": {}
     },
     "b3eb06bd532b49a8a5a80c53e508ab05": {
      "model_module": "@jupyter-widgets/base",
      "model_module_version": "1.2.0",
      "model_name": "LayoutModel",
      "state": {}
     },
     "b569f5d0c6a246d2849c5a07abc01575": {
      "model_module": "@jupyter-widgets/base",
      "model_module_version": "1.2.0",
      "model_name": "LayoutModel",
      "state": {
       "width": "auto"
      }
     },
     "bc61f93812784beab6eef11e4dc1a94f": {
      "model_module": "@jupyter-widgets/base",
      "model_module_version": "1.2.0",
      "model_name": "LayoutModel",
      "state": {}
     },
     "c3cc22234c1e4ba58bc0d875c91b8807": {
      "model_module": "@jupyter-widgets/controls",
      "model_module_version": "1.5.0",
      "model_name": "ButtonModel",
      "state": {
       "description": "Clear",
       "layout": "IPY_MODEL_fbf099fcab0b4d19b0a79607e4968ed4",
       "style": "IPY_MODEL_9c40ba1bb62b4e91915d6d75f782b194"
      }
     },
     "c4ac40c218204357bcb0eb576898192f": {
      "model_module": "@jupyter-widgets/controls",
      "model_module_version": "1.5.0",
      "model_name": "DescriptionStyleModel",
      "state": {
       "description_width": ""
      }
     },
     "ca737d51c6014c9a9688cd047c3b476b": {
      "model_module": "@jupyter-widgets/controls",
      "model_module_version": "1.5.0",
      "model_name": "VBoxModel",
      "state": {
       "children": [
        "IPY_MODEL_0b0d77285c3945d1a0e1c1f65138d777",
        "IPY_MODEL_91fa4d772346421aa3fe76c1e1992a20",
        "IPY_MODEL_1c2b7cdaaa8f41b4b1af632ef230aca6",
        "IPY_MODEL_d65c4c1157fb4358b3adf4595504a179",
        "IPY_MODEL_f86005b45c564caa92e2af02c461ddcc"
       ],
       "layout": "IPY_MODEL_76fcfde86f784b959d89ee7253d14cc2"
      }
     },
     "d65c4c1157fb4358b3adf4595504a179": {
      "model_module": "@jupyter-widgets/controls",
      "model_module_version": "1.5.0",
      "model_name": "HBoxModel",
      "state": {
       "children": [
        "IPY_MODEL_432447f3aacd4922a72c81703fe4143b",
        "IPY_MODEL_f26b03f042ac4a72a6d02f99ef762500"
       ],
       "layout": "IPY_MODEL_b162ed995cc54875b36429b93d9e2922"
      }
     },
     "d91471e07b134e2db1e5431c3708ecd0": {
      "model_module": "@jupyter-widgets/base",
      "model_module_version": "1.2.0",
      "model_name": "LayoutModel",
      "state": {}
     },
     "da1b1a281d86494f81ad3745d4819a4a": {
      "model_module": "@jupyter-widgets/base",
      "model_module_version": "1.2.0",
      "model_name": "LayoutModel",
      "state": {}
     },
     "de19580c8eca43faa7efb5a2cc229413": {
      "model_module": "@jupyter-widgets/controls",
      "model_module_version": "1.5.0",
      "model_name": "DescriptionStyleModel",
      "state": {
       "description_width": "10%"
      }
     },
     "e4d52be0759f4565892910c7d23a2562": {
      "model_module": "@jupyter-widgets/controls",
      "model_module_version": "1.5.0",
      "model_name": "ButtonStyleModel",
      "state": {}
     },
     "e6c709fd6eef48d5bfc7618573a67fc0": {
      "model_module": "@jupyter-widgets/output",
      "model_module_version": "1.0.0",
      "model_name": "OutputModel",
      "state": {
       "layout": "IPY_MODEL_3fa6e7063c624677bb5980efad7a157b",
       "outputs": [
        {
         "data": {
          "text/html": "<h1 style=\"display: inline;\"><a href=\"Book.ipynb\">Book</a></h1><h3 style=\"display: inline;\"></h3>",
          "text/plain": "<cassini.ipygui.WHTML at 0x1e018d0b358>"
         },
         "metadata": {},
         "output_type": "display_data"
        }
       ]
      }
     },
     "ea56b61ed0284dcda1166b1320f5ab5a": {
      "model_module": "@jupyter-widgets/base",
      "model_module_version": "1.2.0",
      "model_name": "LayoutModel",
      "state": {}
     },
     "ee355a7804ce443ca1a09dbbc4501e59": {
      "model_module": "@jupyter-widgets/controls",
      "model_module_version": "1.5.0",
      "model_name": "ButtonModel",
      "state": {
       "description": "Folder",
       "layout": "IPY_MODEL_7c6d50f284a0459cbbcbfb74c6467fd0",
       "style": "IPY_MODEL_7c3cf49172454b74aac777ec568ec7bf"
      }
     },
     "f26b03f042ac4a72a6d02f99ef762500": {
      "model_module": "@jupyter-widgets/controls",
      "model_module_version": "1.5.0",
      "model_name": "ButtonModel",
      "state": {
       "description": "New",
       "layout": "IPY_MODEL_866e669acb7e4d87bd5c6d3809caeeda",
       "style": "IPY_MODEL_27ea66b576ec446995a43f8de7f9b0d9"
      }
     },
     "f3c39fc8d9934aea99ae64ca43330e7a": {
      "model_module": "@jupyter-widgets/controls",
      "model_module_version": "1.5.0",
      "model_name": "ButtonStyleModel",
      "state": {}
     },
     "f86005b45c564caa92e2af02c461ddcc": {
      "model_module": "@jupyter-widgets/output",
      "model_module_version": "1.0.0",
      "model_name": "OutputModel",
      "state": {
       "layout": "IPY_MODEL_1c962c8e4b994e94bb0cf97490bb5998"
      }
     },
     "f91b7cfee2aa4057a0e8750623bf65e0": {
      "model_module": "@jupyter-widgets/base",
      "model_module_version": "1.2.0",
      "model_name": "LayoutModel",
      "state": {}
     },
     "fbf099fcab0b4d19b0a79607e4968ed4": {
      "model_module": "@jupyter-widgets/base",
      "model_module_version": "1.2.0",
      "model_name": "LayoutModel",
      "state": {}
     }
    },
    "version_major": 2,
    "version_minor": 0
   }
  }
 },
 "nbformat": 4,
 "nbformat_minor": 4
}
