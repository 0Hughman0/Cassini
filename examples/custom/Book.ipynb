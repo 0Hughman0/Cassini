{
 "cells": [
  {
   "cell_type": "code",
   "execution_count": 2,
   "metadata": {
    "pycharm": {
     "name": "#%%\n"
    }
   },
   "outputs": [
    {
     "data": {
      "application/vnd.jupyter.widget-view+json": {
       "model_id": "36dead9ad71e4c83b2383d779077e4c9",
       "version_major": 2,
       "version_minor": 0
      },
      "text/plain": [
       "VBox(children=(VBox(children=(Output(), Button(description='Folder', style=ButtonStyle()))), Output(), VBox(ch…"
      ]
     },
     "metadata": {},
     "output_type": "display_data"
    }
   ],
   "source": [
    "from my_project import project\n",
    "\n",
    "bk = project.env('Book')\n",
    "bk.gui.header()"
   ]
  },
  {
   "cell_type": "code",
   "execution_count": null,
   "metadata": {},
   "outputs": [],
   "source": []
  }
 ],
 "metadata": {
  "kernelspec": {
   "display_name": "Python 3",
   "language": "python",
   "name": "python3"
  },
  "language_info": {
   "codemirror_mode": {
    "name": "ipython",
    "version": 3
   },
   "file_extension": ".py",
   "mimetype": "text/x-python",
   "name": "python",
   "nbconvert_exporter": "python",
   "pygments_lexer": "ipython3",
   "version": "3.7.2"
  },
  "pycharm": {
   "stem_cell": {
    "cell_type": "raw",
    "source": [],
    "metadata": {
     "collapsed": false
    }
   }
  },
  "widgets": {
   "application/vnd.jupyter.widget-state+json": {
    "state": {
     "0138acb2cbd84687b626effad76c86e2": {
      "model_module": "@jupyter-widgets/controls",
      "model_module_version": "1.5.0",
      "model_name": "ButtonModel",
      "state": {
       "description": "Confirm",
       "disabled": true,
       "layout": "IPY_MODEL_e7401906564b44d0b8dfd74717024480",
       "style": "IPY_MODEL_453c675ee878424c8e64d615fce3d35d"
      }
     },
     "03c4346d0a3a428286a68ad9a731e95b": {
      "model_module": "@jupyter-widgets/controls",
      "model_module_version": "1.5.0",
      "model_name": "ButtonModel",
      "state": {
       "description": "Clear",
       "layout": "IPY_MODEL_4976364a206a4c1fb8ae0075adff3cfc",
       "style": "IPY_MODEL_20b89f1d3aac4cd3840cf2f455e15c18"
      }
     },
     "07a7b78ad526434fb79622275bcbfacc": {
      "model_module": "@jupyter-widgets/base",
      "model_module_version": "1.2.0",
      "model_name": "LayoutModel",
      "state": {}
     },
     "0f0b7a1fc7b04f4d8ad7001fd4176a97": {
      "model_module": "@jupyter-widgets/output",
      "model_module_version": "1.0.0",
      "model_name": "OutputModel",
      "state": {
       "layout": "IPY_MODEL_54b1926f5fb14b00ad288be265d80194"
      }
     },
     "109c4982fa8540f2934da8904acfb4f0": {
      "model_module": "@jupyter-widgets/base",
      "model_module_version": "1.2.0",
      "model_name": "LayoutModel",
      "state": {}
     },
     "15c0f646df3643c5bc5a55b5a912269c": {
      "model_module": "@jupyter-widgets/base",
      "model_module_version": "1.2.0",
      "model_name": "LayoutModel",
      "state": {}
     },
     "17c91d099dd24ff4948d0197fc688ee5": {
      "model_module": "@jupyter-widgets/controls",
      "model_module_version": "1.5.0",
      "model_name": "DescriptionStyleModel",
      "state": {
       "description_width": "10%"
      }
     },
     "17dd6cdfa34945409eb985feba7d9510": {
      "model_module": "@jupyter-widgets/controls",
      "model_module_version": "1.5.0",
      "model_name": "ButtonModel",
      "state": {
       "description": "Folder",
       "layout": "IPY_MODEL_9094cd6bc3594eed8e81cd3e14e1ffa6",
       "style": "IPY_MODEL_d27e4d87a23a4322adfcf323eb68a1ae"
      }
     },
     "1ac554a664c34da3ad5031aa95e6dee3": {
      "model_module": "@jupyter-widgets/controls",
      "model_module_version": "1.5.0",
      "model_name": "DescriptionStyleModel",
      "state": {
       "description_width": ""
      }
     },
     "1ba37beb2a3d40b886d8566dd4ea4ef1": {
      "model_module": "@jupyter-widgets/output",
      "model_module_version": "1.0.0",
      "model_name": "OutputModel",
      "state": {
       "layout": "IPY_MODEL_c76287d0998b4371ac51e7d35f6f306c"
      }
     },
     "20b89f1d3aac4cd3840cf2f455e15c18": {
      "model_module": "@jupyter-widgets/controls",
      "model_module_version": "1.5.0",
      "model_name": "ButtonStyleModel",
      "state": {}
     },
     "2353bb6d981b4738b493782e0d2f53ec": {
      "model_module": "@jupyter-widgets/controls",
      "model_module_version": "1.5.0",
      "model_name": "DescriptionStyleModel",
      "state": {
       "description_width": "10%"
      }
     },
     "23f0aab0269d4bf894f01970c81247df": {
      "model_module": "@jupyter-widgets/controls",
      "model_module_version": "1.5.0",
      "model_name": "ButtonModel",
      "state": {
       "description": "Search",
       "layout": "IPY_MODEL_109c4982fa8540f2934da8904acfb4f0",
       "style": "IPY_MODEL_3080a75f68bb4d2295046f07a5733c0f"
      }
     },
     "2566fe62eb8b4bde90109d08c2216818": {
      "model_module": "@jupyter-widgets/controls",
      "model_module_version": "1.5.0",
      "model_name": "DescriptionStyleModel",
      "state": {
       "description_width": "10%"
      }
     },
     "274b8d725c074d9f8cdf4740d91635ef": {
      "model_module": "@jupyter-widgets/base",
      "model_module_version": "1.2.0",
      "model_name": "LayoutModel",
      "state": {}
     },
     "2aaaa4534b2a4e539242f177378ed823": {
      "model_module": "@jupyter-widgets/output",
      "model_module_version": "1.0.0",
      "model_name": "OutputModel",
      "state": {
       "layout": "IPY_MODEL_a49a85cd9a764524af30a4635e3757b3",
       "outputs": [
        {
         "data": {
          "text/html": "<h3>Search</h3>",
          "text/plain": "<cassini.ipygui.WHTML at 0x1aad46fb710>"
         },
         "metadata": {},
         "output_type": "display_data"
        }
       ]
      }
     },
     "2b574c57d32e4667b0890143fd6a7f35": {
      "model_module": "@jupyter-widgets/controls",
      "model_module_version": "1.5.0",
      "model_name": "ButtonStyleModel",
      "state": {}
     },
     "2d58a532c16642bc9a3adae23dcd9302": {
      "model_module": "@jupyter-widgets/base",
      "model_module_version": "1.2.0",
      "model_name": "LayoutModel",
      "state": {}
     },
     "2f2efeed6a6949428b54bbcf3ad462d7": {
      "model_module": "@jupyter-widgets/base",
      "model_module_version": "1.2.0",
      "model_name": "LayoutModel",
      "state": {}
     },
     "3080a75f68bb4d2295046f07a5733c0f": {
      "model_module": "@jupyter-widgets/controls",
      "model_module_version": "1.5.0",
      "model_name": "ButtonStyleModel",
      "state": {}
     },
     "338eccb99c02423a8feb26f978b1fa04": {
      "model_module": "@jupyter-widgets/controls",
      "model_module_version": "1.5.0",
      "model_name": "SelectModel",
      "state": {
       "_options_labels": [
        "Chapter.tmplt.ipynb"
       ],
       "description": "Template",
       "disabled": true,
       "index": 0,
       "layout": "IPY_MODEL_803ddbd717bf46eaaff4b9ae2b1628cb",
       "style": "IPY_MODEL_6e84f7d500f0460bbab4f3230b1b79ef"
      }
     },
     "33dd9236e4cd4a34999498b6092fa937": {
      "model_module": "@jupyter-widgets/controls",
      "model_module_version": "1.5.0",
      "model_name": "VBoxModel",
      "state": {
       "children": [
        "IPY_MODEL_d280681448f14c9ab4a5f5bc908f4f3e",
        "IPY_MODEL_bf48206c8204473eafbb827ae30e1f30"
       ],
       "layout": "IPY_MODEL_81d88fba35f6438e897cbc52bfda4d40"
      }
     },
     "36dead9ad71e4c83b2383d779077e4c9": {
      "model_module": "@jupyter-widgets/controls",
      "model_module_version": "1.5.0",
      "model_name": "VBoxModel",
      "state": {
       "children": [
        "IPY_MODEL_33dd9236e4cd4a34999498b6092fa937",
        "IPY_MODEL_8a2fa2ee1241429ca7b23d3284172d1e",
        "IPY_MODEL_a3011dc64d9c48c38dc646395f67960b",
        "IPY_MODEL_445fbee88238435fbf212d64e84c4012",
        "IPY_MODEL_ba5e1ead7dbc4ad08c3942b7506514ed",
        "IPY_MODEL_454c5b8279d042faa9c57362bb99fe05",
        "IPY_MODEL_7235df294fc44fae97ffb67132346c21"
       ],
       "layout": "IPY_MODEL_07a7b78ad526434fb79622275bcbfacc"
      }
     },
     "4030212404ac4a81b5898feaaaef8511": {
      "model_module": "@jupyter-widgets/controls",
      "model_module_version": "1.5.0",
      "model_name": "ButtonStyleModel",
      "state": {}
     },
     "40ef2f56785d4cc68b6e9fcf2dc56677": {
      "model_module": "@jupyter-widgets/controls",
      "model_module_version": "1.5.0",
      "model_name": "ButtonModel",
      "state": {
       "description": "New",
       "layout": "IPY_MODEL_4f8a550bcef64b5494d1dc2aacfc7dea",
       "style": "IPY_MODEL_77fa7c1650f44cf3bdbea7ee015ef9f3"
      }
     },
     "41f458900c494eb990fa296bfff9c0fd": {
      "model_module": "@jupyter-widgets/base",
      "model_module_version": "1.2.0",
      "model_name": "LayoutModel",
      "state": {}
     },
     "445fbee88238435fbf212d64e84c4012": {
      "model_module": "@jupyter-widgets/output",
      "model_module_version": "1.0.0",
      "model_name": "OutputModel",
      "state": {
       "layout": "IPY_MODEL_85e2b35e598a4758b206591d7b57e235",
       "outputs": [
        {
         "data": {
          "text/html": "<h3>Chapters</h3>",
          "text/plain": "<cassini.ipygui.WHTML at 0x1aad4768da0>"
         },
         "metadata": {},
         "output_type": "display_data"
        }
       ]
      }
     },
     "44c4e42b3c3e49448ffff87d80e47be2": {
      "model_module": "@jupyter-widgets/base",
      "model_module_version": "1.2.0",
      "model_name": "LayoutModel",
      "state": {}
     },
     "453c675ee878424c8e64d615fce3d35d": {
      "model_module": "@jupyter-widgets/controls",
      "model_module_version": "1.5.0",
      "model_name": "ButtonStyleModel",
      "state": {}
     },
     "454c5b8279d042faa9c57362bb99fe05": {
      "model_module": "@jupyter-widgets/output",
      "model_module_version": "1.0.0",
      "model_name": "OutputModel",
      "state": {
       "layout": "IPY_MODEL_99757f01b7a84effabea206c3c7d51c2",
       "outputs": [
        {
         "data": {
          "text/html": "<h3>New Chapter</h3>",
          "text/plain": "<cassini.ipygui.WHTML at 0x1aad4757be0>"
         },
         "metadata": {},
         "output_type": "display_data"
        }
       ]
      }
     },
     "45d050c2fdec4a2faef5f1d640baa2b1": {
      "model_module": "@jupyter-widgets/base",
      "model_module_version": "1.2.0",
      "model_name": "LayoutModel",
      "state": {}
     },
     "47e322be734f41ebae63fa3e52d117d7": {
      "model_module": "@jupyter-widgets/controls",
      "model_module_version": "1.5.0",
      "model_name": "VBoxModel",
      "state": {
       "children": [
        "IPY_MODEL_d895a91464e642caabd22d66685e2aef",
        "IPY_MODEL_17dd6cdfa34945409eb985feba7d9510"
       ],
       "layout": "IPY_MODEL_eda6055429604beeb4adf0ab8928861f"
      }
     },
     "4976364a206a4c1fb8ae0075adff3cfc": {
      "model_module": "@jupyter-widgets/base",
      "model_module_version": "1.2.0",
      "model_name": "LayoutModel",
      "state": {}
     },
     "49a5167b6804400a84eedf1a2dce40f4": {
      "model_module": "@jupyter-widgets/controls",
      "model_module_version": "1.5.0",
      "model_name": "VBoxModel",
      "state": {
       "children": [
        "IPY_MODEL_947a5d05ac9e43cfac6f5b0192d51921",
        "IPY_MODEL_bda53b1d9a4342129f7dc9f7d011cdec"
       ],
       "layout": "IPY_MODEL_5649945eff17435f852f932bbb086fe9"
      }
     },
     "4f8a550bcef64b5494d1dc2aacfc7dea": {
      "model_module": "@jupyter-widgets/base",
      "model_module_version": "1.2.0",
      "model_name": "LayoutModel",
      "state": {}
     },
     "51757f33a3aa43d2b0257db7bafb1c5c": {
      "model_module": "@jupyter-widgets/output",
      "model_module_version": "1.0.0",
      "model_name": "OutputModel",
      "state": {
       "layout": "IPY_MODEL_67c9c1d54a4244aeaf9d5941761a20a3",
       "outputs": [
        {
         "data": {
          "text/html": "<h3>New Chapter</h3>",
          "text/plain": "<cassini.ipygui.WHTML at 0x1aad473c710>"
         },
         "metadata": {},
         "output_type": "display_data"
        }
       ]
      }
     },
     "52f1640b617a486fa1620ff6c5ba893a": {
      "model_module": "@jupyter-widgets/controls",
      "model_module_version": "1.5.0",
      "model_name": "DescriptionStyleModel",
      "state": {
       "description_width": ""
      }
     },
     "54b1926f5fb14b00ad288be265d80194": {
      "model_module": "@jupyter-widgets/base",
      "model_module_version": "1.2.0",
      "model_name": "LayoutModel",
      "state": {}
     },
     "5649945eff17435f852f932bbb086fe9": {
      "model_module": "@jupyter-widgets/base",
      "model_module_version": "1.2.0",
      "model_name": "LayoutModel",
      "state": {}
     },
     "576a92cec42b4e1ab8bf7d73242b166b": {
      "model_module": "@jupyter-widgets/output",
      "model_module_version": "1.0.0",
      "model_name": "OutputModel",
      "state": {
       "layout": "IPY_MODEL_45d050c2fdec4a2faef5f1d640baa2b1",
       "outputs": [
        {
         "data": {
          "text/html": "<table border=\"1\" class=\"dataframe\">\n  <thead>\n    <tr style=\"text-align: right;\">\n      <th></th>\n    </tr>\n  </thead>\n  <tbody>\n  </tbody>\n</table>",
          "text/plain": "Empty UnescapedDataFrame\nColumns: []\nIndex: []"
         },
         "metadata": {},
         "output_type": "display_data"
        }
       ]
      }
     },
     "5c3fd236557d469d8396255b831b258b": {
      "model_module": "@jupyter-widgets/base",
      "model_module_version": "1.2.0",
      "model_name": "LayoutModel",
      "state": {
       "width": "auto"
      }
     },
     "634ac4168a5c4162853e1aede16bad8d": {
      "model_module": "@jupyter-widgets/base",
      "model_module_version": "1.2.0",
      "model_name": "LayoutModel",
      "state": {}
     },
     "63c2b7bbeb7447378ea03474fc7836d0": {
      "model_module": "@jupyter-widgets/base",
      "model_module_version": "1.2.0",
      "model_name": "LayoutModel",
      "state": {
       "width": "auto"
      }
     },
     "678d6f79308f4956a3146c33a8e5c6ef": {
      "model_module": "@jupyter-widgets/controls",
      "model_module_version": "1.5.0",
      "model_name": "VBoxModel",
      "state": {
       "children": [
        "IPY_MODEL_6af266c6c00a4a80a1fae462874b33e1",
        "IPY_MODEL_338eccb99c02423a8feb26f978b1fa04",
        "IPY_MODEL_8d42c534652a4266ade41492e140b07d",
        "IPY_MODEL_a6b26037a75840d286ef5e902f1ad8f3",
        "IPY_MODEL_7117873dbe6b40acbb2192cd40bae170"
       ],
       "layout": "IPY_MODEL_b700e41979324ac5a3a0de28eb0ca584"
      }
     },
     "67c9c1d54a4244aeaf9d5941761a20a3": {
      "model_module": "@jupyter-widgets/base",
      "model_module_version": "1.2.0",
      "model_name": "LayoutModel",
      "state": {}
     },
     "6af266c6c00a4a80a1fae462874b33e1": {
      "model_module": "@jupyter-widgets/controls",
      "model_module_version": "1.5.0",
      "model_name": "TextModel",
      "state": {
       "description": "Identifier",
       "disabled": true,
       "layout": "IPY_MODEL_c89f6eaa6d1d411293899ec2314512c7",
       "placeholder": "(\\d+)",
       "style": "IPY_MODEL_2353bb6d981b4738b493782e0d2f53ec",
       "value": "1"
      }
     },
     "6e84f7d500f0460bbab4f3230b1b79ef": {
      "model_module": "@jupyter-widgets/controls",
      "model_module_version": "1.5.0",
      "model_name": "DescriptionStyleModel",
      "state": {
       "description_width": "10%"
      }
     },
     "7117873dbe6b40acbb2192cd40bae170": {
      "model_module": "@jupyter-widgets/output",
      "model_module_version": "1.0.0",
      "model_name": "OutputModel",
      "state": {
       "layout": "IPY_MODEL_cce99243068f43b9a8c171b14edf48dd",
       "outputs": [
        {
         "name": "stdout",
         "output_type": "stream",
         "text": "Creating files for Chapter 1\nMeta (D:\\Documents\\Programin\\WorkingVersions\\cassini\\dev\\examples\\custom\\Chapters\\.chptrs\\Chapter 1.json)\nWriting Meta Data\nSuccess\nCreating Tier File (D:\\Documents\\Programin\\WorkingVersions\\cassini\\dev\\examples\\custom\\Chapters\\Chapter 1.ipynb) using template (Chapter\\Chapter.tmplt.ipynb)\nSuccess\nCreating Tier Folder (D:\\Documents\\Programin\\WorkingVersions\\cassini\\dev\\examples\\custom\\Chapters\\Chapter 1)\nSuccess\nAll Done\n"
        },
        {
         "data": {
          "application/vnd.jupyter.widget-view+json": {
           "model_id": "",
           "version_major": 2,
           "version_minor": 0
          },
          "text/plain": "Output()"
         },
         "metadata": {},
         "output_type": "display_data"
        }
       ]
      }
     },
     "7235df294fc44fae97ffb67132346c21": {
      "model_module": "@jupyter-widgets/controls",
      "model_module_version": "1.5.0",
      "model_name": "VBoxModel",
      "state": {
       "children": [
        "IPY_MODEL_76eabe3244cc4f2b9b9e1dbd1605bf27",
        "IPY_MODEL_e21b450167824b1ea06480e53437c5e8",
        "IPY_MODEL_aeb13238afa542a89916cb0f9f9ac128",
        "IPY_MODEL_f20fda2f2d77404186f62b2ca436950c",
        "IPY_MODEL_0f0b7a1fc7b04f4d8ad7001fd4176a97"
       ],
       "layout": "IPY_MODEL_41f458900c494eb990fa296bfff9c0fd"
      }
     },
     "74ea7ece3ced4c9980d05da3e7e8763d": {
      "model_module": "@jupyter-widgets/base",
      "model_module_version": "1.2.0",
      "model_name": "LayoutModel",
      "state": {}
     },
     "74f1dc154fbd4f7b9078e7e4370e8e4d": {
      "model_module": "@jupyter-widgets/base",
      "model_module_version": "1.2.0",
      "model_name": "LayoutModel",
      "state": {}
     },
     "761c0c0ca9a7469e86d072424ffbb6e7": {
      "model_module": "@jupyter-widgets/controls",
      "model_module_version": "1.5.0",
      "model_name": "ButtonModel",
      "state": {
       "description": "Clear",
       "layout": "IPY_MODEL_2f2efeed6a6949428b54bbcf3ad462d7",
       "style": "IPY_MODEL_927a67becaf54eb59ca278b877e0c13a"
      }
     },
     "763ab0cd0b1b4017864209db99ac4bde": {
      "model_module": "@jupyter-widgets/controls",
      "model_module_version": "1.5.0",
      "model_name": "ButtonModel",
      "state": {
       "description": "New",
       "layout": "IPY_MODEL_7e8e7c8783604fcc874610c148c0ee6d",
       "style": "IPY_MODEL_2b574c57d32e4667b0890143fd6a7f35"
      }
     },
     "76eabe3244cc4f2b9b9e1dbd1605bf27": {
      "model_module": "@jupyter-widgets/controls",
      "model_module_version": "1.5.0",
      "model_name": "TextModel",
      "state": {
       "description": "Identifier",
       "layout": "IPY_MODEL_5c3fd236557d469d8396255b831b258b",
       "placeholder": "(\\d+)",
       "style": "IPY_MODEL_2566fe62eb8b4bde90109d08c2216818"
      }
     },
     "77fa7c1650f44cf3bdbea7ee015ef9f3": {
      "model_module": "@jupyter-widgets/controls",
      "model_module_version": "1.5.0",
      "model_name": "ButtonStyleModel",
      "state": {}
     },
     "7a22307ed611448b8f04aa4b33d2abd3": {
      "model_module": "@jupyter-widgets/controls",
      "model_module_version": "1.5.0",
      "model_name": "DescriptionStyleModel",
      "state": {
       "description_width": "10%"
      }
     },
     "7e8e7c8783604fcc874610c148c0ee6d": {
      "model_module": "@jupyter-widgets/base",
      "model_module_version": "1.2.0",
      "model_name": "LayoutModel",
      "state": {}
     },
     "803ddbd717bf46eaaff4b9ae2b1628cb": {
      "model_module": "@jupyter-widgets/base",
      "model_module_version": "1.2.0",
      "model_name": "LayoutModel",
      "state": {
       "width": "auto"
      }
     },
     "81d88fba35f6438e897cbc52bfda4d40": {
      "model_module": "@jupyter-widgets/base",
      "model_module_version": "1.2.0",
      "model_name": "LayoutModel",
      "state": {}
     },
     "8482b10cb7084b729893ef107f7c1eea": {
      "model_module": "@jupyter-widgets/base",
      "model_module_version": "1.2.0",
      "model_name": "LayoutModel",
      "state": {}
     },
     "85e2b35e598a4758b206591d7b57e235": {
      "model_module": "@jupyter-widgets/base",
      "model_module_version": "1.2.0",
      "model_name": "LayoutModel",
      "state": {}
     },
     "87f1a00782b84280846fd1eead0d31bd": {
      "model_module": "@jupyter-widgets/base",
      "model_module_version": "1.2.0",
      "model_name": "LayoutModel",
      "state": {}
     },
     "89623741500d4f2992e107b936daf881": {
      "model_module": "@jupyter-widgets/controls",
      "model_module_version": "1.5.0",
      "model_name": "ButtonModel",
      "state": {
       "description": "Search",
       "layout": "IPY_MODEL_a1c8fbd05a8444b88f5848e573e204ec",
       "style": "IPY_MODEL_4030212404ac4a81b5898feaaaef8511"
      }
     },
     "8a2fa2ee1241429ca7b23d3284172d1e": {
      "model_module": "@jupyter-widgets/output",
      "model_module_version": "1.0.0",
      "model_name": "OutputModel",
      "state": {
       "layout": "IPY_MODEL_ebdaa2cbc8074488b4e03ca12b9fabd4",
       "outputs": [
        {
         "data": {
          "text/html": "<h3>Search</h3>",
          "text/plain": "<cassini.ipygui.WHTML at 0x1aad47711d0>"
         },
         "metadata": {},
         "output_type": "display_data"
        }
       ]
      }
     },
     "8a4a2101ffad48d99893dac98426c082": {
      "model_module": "@jupyter-widgets/controls",
      "model_module_version": "1.5.0",
      "model_name": "DescriptionStyleModel",
      "state": {
       "description_width": "10%"
      }
     },
     "8a8d42aacb4e40cd9cba080e14d6b12d": {
      "model_module": "@jupyter-widgets/base",
      "model_module_version": "1.2.0",
      "model_name": "LayoutModel",
      "state": {
       "width": "auto"
      }
     },
     "8cd5008b0d2e4a2fa3c0c0322f5fd822": {
      "model_module": "@jupyter-widgets/output",
      "model_module_version": "1.0.0",
      "model_name": "OutputModel",
      "state": {
       "layout": "IPY_MODEL_2d58a532c16642bc9a3adae23dcd9302"
      }
     },
     "8d42c534652a4266ade41492e140b07d": {
      "model_module": "@jupyter-widgets/controls",
      "model_module_version": "1.5.0",
      "model_name": "TextareaModel",
      "state": {
       "description": "Motivation",
       "disabled": true,
       "layout": "IPY_MODEL_8a8d42aacb4e40cd9cba080e14d6b12d",
       "style": "IPY_MODEL_8a4a2101ffad48d99893dac98426c082",
       "value": "An unexpected guest."
      }
     },
     "9094cd6bc3594eed8e81cd3e14e1ffa6": {
      "model_module": "@jupyter-widgets/base",
      "model_module_version": "1.2.0",
      "model_name": "LayoutModel",
      "state": {}
     },
     "927a67becaf54eb59ca278b877e0c13a": {
      "model_module": "@jupyter-widgets/controls",
      "model_module_version": "1.5.0",
      "model_name": "ButtonStyleModel",
      "state": {}
     },
     "9368db21fae34219ad5c1bce4d42e779": {
      "model_module": "@jupyter-widgets/base",
      "model_module_version": "1.2.0",
      "model_name": "LayoutModel",
      "state": {}
     },
     "947a5d05ac9e43cfac6f5b0192d51921": {
      "model_module": "@jupyter-widgets/controls",
      "model_module_version": "1.5.0",
      "model_name": "HBoxModel",
      "state": {
       "children": [
        "IPY_MODEL_af9842bf7b384fc69711e6e0567b25a9",
        "IPY_MODEL_89623741500d4f2992e107b936daf881",
        "IPY_MODEL_03c4346d0a3a428286a68ad9a731e95b"
       ],
       "layout": "IPY_MODEL_f356c6a4c2a44f38a15d4619c45f702a"
      }
     },
     "99757f01b7a84effabea206c3c7d51c2": {
      "model_module": "@jupyter-widgets/base",
      "model_module_version": "1.2.0",
      "model_name": "LayoutModel",
      "state": {}
     },
     "9aaba3698a254ce58c89dd20f7c10a5f": {
      "model_module": "@jupyter-widgets/controls",
      "model_module_version": "1.5.0",
      "model_name": "ButtonModel",
      "state": {
       "description": "Confirm",
       "disabled": true,
       "layout": "IPY_MODEL_44c4e42b3c3e49448ffff87d80e47be2",
       "style": "IPY_MODEL_ee4c223af6924efb9a054d96bd7b41e2"
      }
     },
     "a1c8fbd05a8444b88f5848e573e204ec": {
      "model_module": "@jupyter-widgets/base",
      "model_module_version": "1.2.0",
      "model_name": "LayoutModel",
      "state": {}
     },
     "a3011dc64d9c48c38dc646395f67960b": {
      "model_module": "@jupyter-widgets/controls",
      "model_module_version": "1.5.0",
      "model_name": "VBoxModel",
      "state": {
       "children": [
        "IPY_MODEL_d1443ab1c83a417bb89e38e0aa5bf4d1",
        "IPY_MODEL_8cd5008b0d2e4a2fa3c0c0322f5fd822"
       ],
       "layout": "IPY_MODEL_fd64137f88d84d22acc1aaa83bc7fac5"
      }
     },
     "a49a85cd9a764524af30a4635e3757b3": {
      "model_module": "@jupyter-widgets/base",
      "model_module_version": "1.2.0",
      "model_name": "LayoutModel",
      "state": {}
     },
     "a548e3de919542a78462c9c2dd62a8e4": {
      "model_module": "@jupyter-widgets/output",
      "model_module_version": "1.0.0",
      "model_name": "OutputModel",
      "state": {
       "layout": "IPY_MODEL_f6ffe4bb9bb74abfadc7f06832ef37d1",
       "outputs": [
        {
         "data": {
          "text/html": "<a href=\"Chapters/Chapter 1.ipynb\" target=\"_blank\"><h2 style=\"display: inline;\">Chapter 1</h2 style=\"display: inline;\"</a>",
          "text/plain": "<cassini.ipygui.WHTML at 0x1aad4771048>"
         },
         "metadata": {},
         "output_type": "display_data"
        }
       ]
      }
     },
     "a6b26037a75840d286ef5e902f1ad8f3": {
      "model_module": "@jupyter-widgets/controls",
      "model_module_version": "1.5.0",
      "model_name": "HBoxModel",
      "state": {
       "children": [
        "IPY_MODEL_9aaba3698a254ce58c89dd20f7c10a5f",
        "IPY_MODEL_763ab0cd0b1b4017864209db99ac4bde"
       ],
       "layout": "IPY_MODEL_b95bc8a871bb47a69694e6644aa30fff"
      }
     },
     "aeb13238afa542a89916cb0f9f9ac128": {
      "model_module": "@jupyter-widgets/controls",
      "model_module_version": "1.5.0",
      "model_name": "TextareaModel",
      "state": {
       "description": "Motivation",
       "layout": "IPY_MODEL_e4d9f5ff80584694acd8d38a69e5b957",
       "style": "IPY_MODEL_7a22307ed611448b8f04aa4b33d2abd3"
      }
     },
     "af9842bf7b384fc69711e6e0567b25a9": {
      "model_module": "@jupyter-widgets/controls",
      "model_module_version": "1.5.0",
      "model_name": "TextModel",
      "state": {
       "continuous_update": false,
       "layout": "IPY_MODEL_9368db21fae34219ad5c1bce4d42e779",
       "placeholder": "Name",
       "style": "IPY_MODEL_52f1640b617a486fa1620ff6c5ba893a"
      }
     },
     "b3acb683f3974e77937af42524bfc7c6": {
      "model_module": "@jupyter-widgets/controls",
      "model_module_version": "1.5.0",
      "model_name": "TextModel",
      "state": {
       "continuous_update": false,
       "layout": "IPY_MODEL_634ac4168a5c4162853e1aede16bad8d",
       "placeholder": "Name",
       "style": "IPY_MODEL_1ac554a664c34da3ad5031aa95e6dee3"
      }
     },
     "b700e41979324ac5a3a0de28eb0ca584": {
      "model_module": "@jupyter-widgets/base",
      "model_module_version": "1.2.0",
      "model_name": "LayoutModel",
      "state": {}
     },
     "b95bc8a871bb47a69694e6644aa30fff": {
      "model_module": "@jupyter-widgets/base",
      "model_module_version": "1.2.0",
      "model_name": "LayoutModel",
      "state": {}
     },
     "ba5e1ead7dbc4ad08c3942b7506514ed": {
      "model_module": "@jupyter-widgets/output",
      "model_module_version": "1.0.0",
      "model_name": "OutputModel",
      "state": {
       "layout": "IPY_MODEL_c01b08dfce3347d58b195e5b3b24a3ba",
       "outputs": [
        {
         "data": {
          "text/html": "<table border=\"1\" class=\"dataframe\">\n  <thead>\n    <tr style=\"text-align: right;\">\n      <th></th>\n      <th>started</th>\n      <th>description</th>\n      <th>Obj</th>\n    </tr>\n    <tr>\n      <th>Name</th>\n      <th></th>\n      <th></th>\n      <th></th>\n    </tr>\n  </thead>\n  <tbody>\n    <tr>\n      <th>Chapter 1</th>\n      <td>2020-06-29</td>\n      <td>An unexpected guest.</td>\n      <td><a href=\"Chapters/Chapter 1.ipynb\" target=\"_blank\"><h2 style=\"display: inline;\">Chapter 1</h2 style=\"display: inline;\"</a></td>\n    </tr>\n  </tbody>\n</table>",
          "text/plain": "             started           description                    Obj\nName                                                             \nChapter 1 2020-06-29  An unexpected guest.  <Chapter \"Chapter 1\">"
         },
         "metadata": {},
         "output_type": "display_data"
        }
       ]
      }
     },
     "bda53b1d9a4342129f7dc9f7d011cdec": {
      "model_module": "@jupyter-widgets/output",
      "model_module_version": "1.0.0",
      "model_name": "OutputModel",
      "state": {
       "layout": "IPY_MODEL_74ea7ece3ced4c9980d05da3e7e8763d"
      }
     },
     "bf48206c8204473eafbb827ae30e1f30": {
      "model_module": "@jupyter-widgets/controls",
      "model_module_version": "1.5.0",
      "model_name": "ButtonModel",
      "state": {
       "description": "Folder",
       "layout": "IPY_MODEL_74f1dc154fbd4f7b9078e7e4370e8e4d",
       "style": "IPY_MODEL_d80e15e683dd41c1bc6aa97486f4eb69"
      }
     },
     "c01b08dfce3347d58b195e5b3b24a3ba": {
      "model_module": "@jupyter-widgets/base",
      "model_module_version": "1.2.0",
      "model_name": "LayoutModel",
      "state": {}
     },
     "c76287d0998b4371ac51e7d35f6f306c": {
      "model_module": "@jupyter-widgets/base",
      "model_module_version": "1.2.0",
      "model_name": "LayoutModel",
      "state": {
       "width": "auto"
      }
     },
     "c89f6eaa6d1d411293899ec2314512c7": {
      "model_module": "@jupyter-widgets/base",
      "model_module_version": "1.2.0",
      "model_name": "LayoutModel",
      "state": {
       "width": "auto"
      }
     },
     "cab5203eb58f4601b8089cc76bb9bbf5": {
      "model_module": "@jupyter-widgets/controls",
      "model_module_version": "1.5.0",
      "model_name": "VBoxModel",
      "state": {
       "children": [
        "IPY_MODEL_47e322be734f41ebae63fa3e52d117d7",
        "IPY_MODEL_2aaaa4534b2a4e539242f177378ed823",
        "IPY_MODEL_49a5167b6804400a84eedf1a2dce40f4",
        "IPY_MODEL_ead3f44395f6446796c861725ffca705",
        "IPY_MODEL_576a92cec42b4e1ab8bf7d73242b166b",
        "IPY_MODEL_51757f33a3aa43d2b0257db7bafb1c5c",
        "IPY_MODEL_678d6f79308f4956a3146c33a8e5c6ef"
       ],
       "layout": "IPY_MODEL_87f1a00782b84280846fd1eead0d31bd"
      }
     },
     "cce99243068f43b9a8c171b14edf48dd": {
      "model_module": "@jupyter-widgets/base",
      "model_module_version": "1.2.0",
      "model_name": "LayoutModel",
      "state": {}
     },
     "d1443ab1c83a417bb89e38e0aa5bf4d1": {
      "model_module": "@jupyter-widgets/controls",
      "model_module_version": "1.5.0",
      "model_name": "HBoxModel",
      "state": {
       "children": [
        "IPY_MODEL_b3acb683f3974e77937af42524bfc7c6",
        "IPY_MODEL_23f0aab0269d4bf894f01970c81247df",
        "IPY_MODEL_761c0c0ca9a7469e86d072424ffbb6e7"
       ],
       "layout": "IPY_MODEL_274b8d725c074d9f8cdf4740d91635ef"
      }
     },
     "d27e4d87a23a4322adfcf323eb68a1ae": {
      "model_module": "@jupyter-widgets/controls",
      "model_module_version": "1.5.0",
      "model_name": "ButtonStyleModel",
      "state": {}
     },
     "d280681448f14c9ab4a5f5bc908f4f3e": {
      "model_module": "@jupyter-widgets/output",
      "model_module_version": "1.0.0",
      "model_name": "OutputModel",
      "state": {
       "layout": "IPY_MODEL_15c0f646df3643c5bc5a55b5a912269c",
       "outputs": [
        {
         "data": {
          "text/html": "<h1 style=\"display: inline;\"><a href=\"Book.ipynb\">Book</a></h1><h3 style=\"display: inline;\"></h3>",
          "text/plain": "<cassini.ipygui.WHTML at 0x1aad475ff60>"
         },
         "metadata": {},
         "output_type": "display_data"
        }
       ]
      }
     },
     "d36344c41f904bc6b3f2babb2dc5bdae": {
      "model_module": "@jupyter-widgets/output",
      "model_module_version": "1.0.0",
      "model_name": "OutputModel",
      "state": {
       "layout": "IPY_MODEL_f87227164e474c48a4ca7cbede2ed359"
      }
     },
     "d80e15e683dd41c1bc6aa97486f4eb69": {
      "model_module": "@jupyter-widgets/controls",
      "model_module_version": "1.5.0",
      "model_name": "ButtonStyleModel",
      "state": {}
     },
     "d895a91464e642caabd22d66685e2aef": {
      "model_module": "@jupyter-widgets/output",
      "model_module_version": "1.0.0",
      "model_name": "OutputModel",
      "state": {
       "layout": "IPY_MODEL_f0ca82c71f25443fb6379979fde0df9c",
       "outputs": [
        {
         "data": {
          "text/html": "<h1 style=\"display: inline;\"><a href=\"Book.ipynb\">Book</a></h1><h3 style=\"display: inline;\"></h3>",
          "text/plain": "<cassini.ipygui.WHTML at 0x1aad46cb8d0>"
         },
         "metadata": {},
         "output_type": "display_data"
        }
       ]
      }
     },
     "dc641a59d9594fe49a11dd1d1df37d98": {
      "model_module": "@jupyter-widgets/base",
      "model_module_version": "1.2.0",
      "model_name": "LayoutModel",
      "state": {}
     },
     "e21b450167824b1ea06480e53437c5e8": {
      "model_module": "@jupyter-widgets/controls",
      "model_module_version": "1.5.0",
      "model_name": "SelectModel",
      "state": {
       "_options_labels": [
        "Chapter.tmplt.ipynb"
       ],
       "description": "Template",
       "index": 0,
       "layout": "IPY_MODEL_63c2b7bbeb7447378ea03474fc7836d0",
       "style": "IPY_MODEL_17c91d099dd24ff4948d0197fc688ee5"
      }
     },
     "e4d9f5ff80584694acd8d38a69e5b957": {
      "model_module": "@jupyter-widgets/base",
      "model_module_version": "1.2.0",
      "model_name": "LayoutModel",
      "state": {
       "width": "auto"
      }
     },
     "e7401906564b44d0b8dfd74717024480": {
      "model_module": "@jupyter-widgets/base",
      "model_module_version": "1.2.0",
      "model_name": "LayoutModel",
      "state": {}
     },
     "ead3f44395f6446796c861725ffca705": {
      "model_module": "@jupyter-widgets/output",
      "model_module_version": "1.0.0",
      "model_name": "OutputModel",
      "state": {
       "layout": "IPY_MODEL_8482b10cb7084b729893ef107f7c1eea",
       "outputs": [
        {
         "data": {
          "text/html": "<h3>Chapters</h3>",
          "text/plain": "<cassini.ipygui.WHTML at 0x1aad46fb710>"
         },
         "metadata": {},
         "output_type": "display_data"
        }
       ]
      }
     },
     "ebdaa2cbc8074488b4e03ca12b9fabd4": {
      "model_module": "@jupyter-widgets/base",
      "model_module_version": "1.2.0",
      "model_name": "LayoutModel",
      "state": {}
     },
     "eda6055429604beeb4adf0ab8928861f": {
      "model_module": "@jupyter-widgets/base",
      "model_module_version": "1.2.0",
      "model_name": "LayoutModel",
      "state": {}
     },
     "ee4c223af6924efb9a054d96bd7b41e2": {
      "model_module": "@jupyter-widgets/controls",
      "model_module_version": "1.5.0",
      "model_name": "ButtonStyleModel",
      "state": {}
     },
     "f0ca82c71f25443fb6379979fde0df9c": {
      "model_module": "@jupyter-widgets/base",
      "model_module_version": "1.2.0",
      "model_name": "LayoutModel",
      "state": {}
     },
     "f20fda2f2d77404186f62b2ca436950c": {
      "model_module": "@jupyter-widgets/controls",
      "model_module_version": "1.5.0",
      "model_name": "HBoxModel",
      "state": {
       "children": [
        "IPY_MODEL_0138acb2cbd84687b626effad76c86e2",
        "IPY_MODEL_40ef2f56785d4cc68b6e9fcf2dc56677"
       ],
       "layout": "IPY_MODEL_dc641a59d9594fe49a11dd1d1df37d98"
      }
     },
     "f356c6a4c2a44f38a15d4619c45f702a": {
      "model_module": "@jupyter-widgets/base",
      "model_module_version": "1.2.0",
      "model_name": "LayoutModel",
      "state": {}
     },
     "f6ffe4bb9bb74abfadc7f06832ef37d1": {
      "model_module": "@jupyter-widgets/base",
      "model_module_version": "1.2.0",
      "model_name": "LayoutModel",
      "state": {}
     },
     "f87227164e474c48a4ca7cbede2ed359": {
      "model_module": "@jupyter-widgets/base",
      "model_module_version": "1.2.0",
      "model_name": "LayoutModel",
      "state": {
       "width": "auto"
      }
     },
     "fd64137f88d84d22acc1aaa83bc7fac5": {
      "model_module": "@jupyter-widgets/base",
      "model_module_version": "1.2.0",
      "model_name": "LayoutModel",
      "state": {}
     }
    },
    "version_major": 2,
    "version_minor": 0
   }
  }
 },
 "nbformat": 4,
 "nbformat_minor": 4
}