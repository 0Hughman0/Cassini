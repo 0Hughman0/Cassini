{
 "cells": [
  {
   "cell_type": "markdown",
   "metadata": {},
   "source": [
    "# Welcome to Cassini\n",
    "\n",
    "Cassini's goal is to help you explore, analyse and organise your data.\n",
    "\n",
    "This set of notebooks serves as a walkthrough of cassini and its features.\n",
    " \n",
    "Cassini sorts your project into a hierarchical structure, which you define your `project.py` file, which you'll find in the same folder as this notebook.\n",
    "\n",
    "From any notebook within your project, you can import the `project` object from your `project.py` file:"
   ]
  },
  {
   "cell_type": "code",
   "execution_count": 46,
   "metadata": {},
   "outputs": [
    {
     "name": "stdout",
     "output_type": "stream",
     "text": [
      "C:\\Users\\ramme\\Documents\\Programin\\WorkingVersions\\cassini\\dev\\binder\n",
      "[<class 'cassini.defaults.tiers.Home'>, <class 'cassini.defaults.tiers.WorkPackage'>, <class 'cassini.defaults.tiers.Experiment'>, <class 'cassini.defaults.tiers.Sample'>, <class 'cassini.defaults.tiers.DataSet'>]\n"
     ]
    }
   ],
   "source": [
    "from cas_project import project\n",
    "\n",
    "print(project.project_folder)\n",
    "print(project.hierarchy)"
   ]
  },
  {
   "cell_type": "markdown",
   "metadata": {},
   "source": [
    "## The Hierarchy\n",
    "\n",
    "From the above, you can see your project knows where it lives, and it's hierarchy.\n",
    "\n",
    "Each level in the hierarchy is known as a _tier_.\n",
    "\n",
    "By default the hierarchy is:\n",
    "\n",
    "1. **Home**\n",
    "2. **WorkPackages**\n",
    "3. **Experiments**\n",
    "4. **Samples**\n",
    "5. **DataSets**\n",
    "\n",
    "Your project then takes a tree-like structure, from these tiers e.g.:\n",
    "\n",
    "```\n",
    "Home\n",
    "  |-WorkPackage\n",
    "  |      |-Experiment\n",
    "  |      |     |-Sample\n",
    "  |      |     |   |-DataSet\n",
    "  |      |     |   |-DataSet\n",
    "  |      |     |-Sample\n",
    "  |      |         |-DataSet\n",
    "  |      |-Experiment\n",
    "  |            |-Sample\n",
    "  |                |-DataSet\n",
    "  |-WorkPackage\n",
    "  |      |\n",
    "...\n",
    "```\n",
    "\n",
    "So each _tier_ has _children_ and those children can have children, building the tree.\n",
    "\n",
    "How you intepret this hierarchy is arbitrary and it can also be [customised](https://0hughman0.github.io/Cassini/latest/customising.html) within your `project.py` file.\n",
    "\n",
    "## Naming and Getting\n",
    "\n",
    "With this, cassini also creates a human readble naming convention.\n",
    "\n",
    "This allows you to fetch any part of your project with ease:"
   ]
  },
  {
   "cell_type": "code",
   "execution_count": 32,
   "metadata": {},
   "outputs": [
    {
     "data": {
      "text/plain": [
       "(<WorkPackage \"WP1\">,\n",
       " <Experiment \"WP1.1\">,\n",
       " <Sample \"WP1.1b\">,\n",
       " <DataSet \"WP1.1b-Images\">)"
      ]
     },
     "execution_count": 32,
     "metadata": {},
     "output_type": "execute_result"
    }
   ],
   "source": [
    "project['WP1'], project['WP1.1'], project['WP1.1b'], project['WP1.1b-Images']"
   ]
  },
  {
   "cell_type": "code",
   "execution_count": 34,
   "metadata": {},
   "outputs": [
    {
     "data": {
      "text/plain": [
       "(<DataSet \"WP1.1b-Images\">, <DataSet \"WP1.1b-XRD\">, <DataSet \"WP1.1b-PL\">)"
      ]
     },
     "execution_count": 34,
     "metadata": {},
     "output_type": "execute_result"
    }
   ],
   "source": [
    "sample = project['WP1.1b']\n",
    "sample['Images'], sample['XRD'], sample['PL']"
   ]
  },
  {
   "cell_type": "markdown",
   "metadata": {},
   "source": [
    "## Properties of Tiers\n",
    "\n",
    "All tiers, down to `Sample`s have a notebook file associated with them."
   ]
  },
  {
   "cell_type": "code",
   "execution_count": 36,
   "metadata": {},
   "outputs": [
    {
     "data": {
      "text/plain": [
       "WindowsPath('C:/Users/ramme/Documents/Programin/WorkingVersions/cassini/dev/binder/WorkPackages/WP1/WP1.1.ipynb')"
      ]
     },
     "execution_count": 36,
     "metadata": {},
     "output_type": "execute_result"
    }
   ],
   "source": [
    "project['WP1.1'].file"
   ]
  },
  {
   "cell_type": "markdown",
   "metadata": {},
   "source": [
    "All tiers except `Home` and `DataSets` can also have metadata:"
   ]
  },
  {
   "cell_type": "code",
   "execution_count": 37,
   "metadata": {},
   "outputs": [
    {
     "data": {
      "text/plain": [
       "<Meta {'description': 'First attempt.', 'started': '29/08/2023', 'conclusion': 'Not bad! Looked a bit gray though.', 'cook_time': 100} (0.0ms)>"
      ]
     },
     "execution_count": 37,
     "metadata": {},
     "output_type": "execute_result"
    }
   ],
   "source": [
    "project['WP1.1a'].meta"
   ]
  },
  {
   "cell_type": "markdown",
   "metadata": {},
   "source": [
    "This data is actually just stored in json files on your disk:"
   ]
  },
  {
   "cell_type": "code",
   "execution_count": 39,
   "metadata": {},
   "outputs": [
    {
     "data": {
      "text/plain": [
       "WindowsPath('C:/Users/ramme/Documents/Programin/WorkingVersions/cassini/dev/binder/WorkPackages/WP1/WP1.1/.smpls/WP1.1a.json')"
      ]
     },
     "execution_count": 39,
     "metadata": {},
     "output_type": "execute_result"
    }
   ],
   "source": [
    "project['WP1.1a'].meta_file"
   ]
  },
  {
   "cell_type": "markdown",
   "metadata": {
    "pycharm": {
     "name": "#%%\n"
    }
   },
   "source": [
    "Creating and managing these notebooks and metadata could easily get messy.\n",
    "\n",
    "Luckily Cassini creates a bunch of helpful tools to make this as easy as possible.\n",
    "\n",
    "First and foremost is the Cassini browser.\n",
    "\n",
    "This can be opened by pressing the tree button in the cassini toolbar (below the regular notebook toolbar!):\n",
    "\n",
    "![tree icon](images/treeIcon.PNG)\n",
    "\n",
    "**Next click the tree button**\n",
    "\n",
    "**...Once it's opened, the `Home.ipynb` tab to the right of the screen to create a split view so you can keep reading this file for more instructions!**"
   ]
  },
  {
   "cell_type": "markdown",
   "metadata": {},
   "source": [
    "## The Cassini Browser\n",
    "\n",
    "The browser is split into two panels.\n",
    "\n",
    "The left is the tree browser and the right the preview panel.\n",
    "\n",
    "_you might find the preview panel gets hidden when the window resizes 😅... just click and drag from the right to restore its layout_\n",
    "\n",
    "### The Tree Browser\n",
    "\n",
    "#### The search box\n",
    "\n",
    "![searchBox](images/searchBox.PNG)\n",
    "\n",
    "The search box can be used to navigate to a particular tier by entering its name and pressing enter.\n",
    "\n",
    "In the future, this might get some more advanced searching tools.\n",
    "\n",
    "#### The current path\n",
    "\n",
    "![currentPathBox](images/currentPathBox.PNG)\n",
    "\n",
    "This represents the 'path' to the tier that currently being dislayed in the browser. Each part of the path can be clicked to navigate back up the path.\n",
    "\n",
    "#### The children table\n",
    "\n",
    "![childrenTable](images/childrenTable.PNG)\n",
    "\n",
    "The children of whichever tier is at the end of the current path is displayed in the table.\n",
    "\n",
    "You can click on the names of each tier to navigate to that tier and view its children.\n",
    "\n",
    "The ordering of the columns can be switched by clicking on them.\n",
    "\n",
    "### All the buttons!\n",
    "\n",
    "Hover over any button for more info on what it does.\n",
    "\n",
    "#### Open button\n",
    "\n",
    "![launchIcon](images/launchIcon.PNG)\n",
    "\n",
    "This usually opens a tiers notebook. For `DataSet`s, this instead opens the folder for this dataset in your OS's file explorer.\n",
    "\n",
    "#### New child\n",
    "\n",
    "![newChildIcon](images/newChildIcon.PNG)\n",
    "\n",
    "This opens the new child dialogue.\n",
    "\n",
    "#### Preview\n",
    "\n",
    "![previewIcon](images/previewIcon.PNG)\n",
    "\n",
    "This loads the given tier in the preview panel...\n",
    "\n",
    "## The Preview Panel\n",
    "\n",
    "This panel lets you quickly see a more detailed summary of the contents of a tiers notebook.\n",
    "\n",
    "**Click the preview button for `WP1`**:\n",
    "\n",
    "![previewIcon](images/previewIcon.PNG)\n",
    "\n",
    "You can resize the size of the panels by clicking and dragging at the boundary.\n",
    "\n",
    "**Scroll through and look at each section of the preview panel**\n",
    "\n",
    "### Description and Conclusion\n",
    "\n",
    "These include a description of the tier and its conclusions.\n",
    "\n",
    "These can be edited from within the preview panel by double clicking on the box, or clicking the edit icon.\n",
    "\n",
    "**Try making some changes to the description of WP1**\n",
    "\n",
    "The first line of the description is used to populate the Info column of the table and the same for the Outcome column and conclusion.\n",
    "\n",
    "**Once you've made your changes click the apply changes button to update the values.**\n",
    "\n",
    "![checkIcon](images/checkIcon.PNG)\n",
    "\n",
    "Behind the scences making changes here directly modifies the tier's meta file mentioned earlier.\n",
    "\n",
    "Changes are only saved to the meta file once the save button is pressed:\n",
    "\n",
    "![saveIcon](images/saveIcon.PNG)\n",
    "\n",
    "You can tell if there are pending changes because the name at the top will have a little asterix:\n",
    "\n",
    "![pendingChanges](images/pendingChanges.PNG)\n",
    "\n",
    "Clicking save will write those changes to disk.\n",
    "\n",
    "**Press the save button to apply your changes**\n",
    "\n",
    "If instead you'd like to revert any changes instead, you can click the 'fetch from disk' button:\n",
    "\n",
    "![fetchIcon](images/fetchIcon.PNG)\n",
    "\n",
    "**Ignore the Highlights section, we'll come back to it!**\n",
    "\n",
    "### Meta\n",
    "\n",
    "**Scroll to the Meta section**\n",
    "\n",
    "Additional metadata can be added by clicking the add button in the meta section. \n",
    "\n",
    "![newChildIcon](images/newChildIcon.PNG)\n",
    "\n",
    "**Add a new meta key by clicking the button, then fill in the value in the table.**\n",
    "\n",
    "**Click the check button to apply any changes, then save to save them.**\n",
    "\n",
    "_Note that as the meta file is JSON file, the values must be in a JSON serialisable form. This means **any text must be wrapped in double quotes!**_\n",
    "\n",
    "### Highlights\n",
    "\n",
    "... back to highlights.\n",
    "\n",
    "Highlights are a way of previewing outputs from your notebooks, withough having to open them, or run the cells.\n",
    "\n",
    "To understand this better, we should check out a notebook!\n",
    "\n",
    "**From the browser, navigate to `WP1.1` by clicking on `WP1` and then `WP1.1` in the table... or by searching for `WP1.1`.**\n",
    "\n",
    "**Load `WP1.1b` in the preview panel by clicking**:\n",
    "\n",
    "![previewIcon](images/previewIcon.PNG)\n",
    "\n",
    "_... you might have to press it twice... for some reason 😅_\n",
    "\n",
    "In the highlights section you should see a preview of a cell output called Photo and a nice image of a slice of toast, with a caption underneath saying 'Maybe overdone a bit'!\n",
    "\n",
    "**Click the open button to open the `WP1.1b` notebook so we can understand how that plot got there!**\n",
    "\n",
    "![launchIcon](images/launchIcon.PNG)"
   ]
  },
  {
   "cell_type": "code",
   "execution_count": null,
   "metadata": {},
   "outputs": [],
   "source": []
  },
  {
   "cell_type": "code",
   "execution_count": null,
   "metadata": {},
   "outputs": [],
   "source": []
  }
 ],
 "metadata": {
  "kernelspec": {
   "display_name": "Python 3 (ipykernel)",
   "language": "python",
   "name": "python3"
  },
  "language_info": {
   "codemirror_mode": {
    "name": "ipython",
    "version": 3
   },
   "file_extension": ".py",
   "mimetype": "text/x-python",
   "name": "python",
   "nbconvert_exporter": "python",
   "pygments_lexer": "ipython3",
   "version": "3.8.18"
  }
 },
 "nbformat": 4,
 "nbformat_minor": 4
}
