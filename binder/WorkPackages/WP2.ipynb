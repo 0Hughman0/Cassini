{
 "cells": [
  {
   "cell_type": "code",
   "execution_count": 2,
   "metadata": {
    "pycharm": {
     "name": "#%%\n"
    }
   },
   "outputs": [
    {
     "data": {
      "application/cassini.header+json": {}
     },
     "metadata": {},
     "output_type": "display_data"
    }
   ],
   "source": [
    "from cassini.sharing import ShareableProject\n",
    "#from cas_project import project\n",
    "\n",
    "project = ShareableProject()\n",
    "wp = project.env('WP2')\n",
    "wp.gui.header()"
   ]
  },
  {
   "cell_type": "code",
   "execution_count": 4,
   "metadata": {},
   "outputs": [
    {
     "data": {
      "text/plain": [
       "<method-wrapper '__repr__' of SharingTier object at 0x000002CA39767040>"
      ]
     },
     "execution_count": 4,
     "metadata": {},
     "output_type": "execute_result"
    }
   ],
   "source": []
  },
  {
   "cell_type": "code",
   "execution_count": 7,
   "metadata": {},
   "outputs": [
    {
     "data": {
      "text/html": [
       "<a href=\"WP2.ipynb\" target=\"_blank\"><h2 style=\"display: inline;\">WP2</h2 style=\"display: inline;\"</a>"
      ],
      "text/plain": [
       "<WorkPackage \"WP2\">"
      ]
     },
     "execution_count": 7,
     "metadata": {},
     "output_type": "execute_result"
    }
   ],
   "source": [
    "wp._tier"
   ]
  },
  {
   "cell_type": "code",
   "execution_count": 8,
   "metadata": {},
   "outputs": [
    {
     "data": {
      "text/plain": [
       "<NoseyPath (C:\\Users\\ramme\\Documents\\Programin\\WorkingVersions\\cassini\\dev\\binder\\WorkPackages\\WP2\\data.csv)>"
      ]
     },
     "execution_count": 8,
     "metadata": {},
     "output_type": "execute_result"
    }
   ],
   "source": [
    "wp / 'data.csv'"
   ]
  },
  {
   "cell_type": "code",
   "execution_count": 11,
   "metadata": {},
   "outputs": [
    {
     "data": {
      "text/plain": [
       "{(('data.csv',),\n",
       "  ()): WindowsPath('C:/Users/ramme/Documents/Programin/WorkingVersions/cassini/dev/binder/WorkPackages/WP2/data.csv')}"
      ]
     },
     "execution_count": 11,
     "metadata": {},
     "output_type": "execute_result"
    }
   ],
   "source": [
    "wp._called['__truediv__']"
   ]
  },
  {
   "cell_type": "code",
   "execution_count": 12,
   "metadata": {},
   "outputs": [
    {
     "name": "stdout",
     "output_type": "stream",
     "text": [
      "Creating shared directory: Shared\n",
      "Success\n",
      "Making Requires directory\n",
      "Success\n",
      "Creating shared version of WP2\n",
      "Copying Meta\n",
      "Success\n",
      "Freezing attributes/ calls\n",
      "Success\n",
      "Making a copy of required files\n"
     ]
    }
   ],
   "source": [
    "project.make_shared()"
   ]
  },
  {
   "cell_type": "code",
   "execution_count": null,
   "metadata": {},
   "outputs": [],
   "source": []
  }
 ],
 "metadata": {
  "kernelspec": {
   "display_name": "Python 3 (ipykernel)",
   "language": "python",
   "name": "python3"
  },
  "language_info": {
   "codemirror_mode": {
    "name": "ipython",
    "version": 3
   },
   "file_extension": ".py",
   "mimetype": "text/x-python",
   "name": "python",
   "nbconvert_exporter": "python",
   "pygments_lexer": "ipython3",
   "version": "3.8.18"
  }
 },
 "nbformat": 4,
 "nbformat_minor": 4
}
